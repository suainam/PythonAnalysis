{
 "cells": [
  {
   "cell_type": "code",
   "execution_count": 19,
   "metadata": {},
   "outputs": [
    {
     "name": "stdout",
     "output_type": "stream",
     "text": [
      "[[1 2]\n",
      " [3 4]] \n",
      " <class 'numpy.ndarray'> \n",
      " -2.0 \n",
      " [[ 0.32691139  0.48202944  0.39843517  0.99448227  0.74996469  0.65822155\n",
      "   0.35381953  0.45332073  0.24800622  0.85251343  0.10801532  0.06123675\n",
      "   0.60536067  0.1222104   0.77772182  0.00775641  0.75527208  0.03467566\n",
      "   0.97296803  0.84737139  0.75638493  0.83094368  0.32803634  0.67616447\n",
      "   0.14864704  0.73793813  0.51380923  0.7871735   0.11389424  0.93639825\n",
      "   0.79946063  0.62863717  0.36470514  0.17201221  0.2916673   0.33808133\n",
      "   0.07291345  0.0378556   0.94381937  0.80891788  0.00103135  0.79537018\n",
      "   0.4155227   0.36868868  0.76250712  0.83520484  0.83517208  0.46143966\n",
      "   0.9077267   0.07236634  0.92163616  0.15468382  0.79688271  0.36852422\n",
      "   0.69951607  0.06212752  0.5589851   0.8355301   0.3262277   0.94458127\n",
      "   0.68695547  0.74432801  0.94744561  0.28207655  0.02968623  0.95875265\n",
      "   0.05384114  0.02546477  0.51045892  0.04526013  0.12829923  0.01862956\n",
      "   0.65761915  0.66280937  0.08067496  0.41167724  0.63968067  0.89183087\n",
      "   0.07423116  0.8129473   0.45301624  0.55813751  0.71273806  0.76533833\n",
      "   0.65486768  0.24670139  0.82806999  0.74015427  0.16781562  0.56954628\n",
      "   0.92838537  0.19516152  0.46583415  0.50501599  0.66897517  0.11606013\n",
      "   0.10319103  0.82738581  0.55955662  0.21112566]] \n",
      " [1 2 3 4 5 6 7 8 9]\n"
     ]
    }
   ],
   "source": [
    "import numpy as np\n",
    "from scipy import linalg\n",
    "a = np.array([[1,2],[3,4]])\n",
    "b = np.random.rand(1,100)\n",
    "c = np.arange(1,10)\n",
    "print(a, '\\n', type(a), '\\n', linalg.det(a), '\\n',b, '\\n',c)"
   ]
  },
  {
   "cell_type": "code",
   "execution_count": 22,
   "metadata": {},
   "outputs": [
    {
     "name": "stdout",
     "output_type": "stream",
     "text": [
      "showing info https://raw.githubusercontent.com/nltk/nltk_data/gh-pages/index.xml\n"
     ]
    },
    {
     "data": {
      "text/plain": [
       "True"
      ]
     },
     "execution_count": 22,
     "metadata": {},
     "output_type": "execute_result"
    }
   ],
   "source": [
    "import nltk\n",
    "nltk.download()"
   ]
  },
  {
   "cell_type": "code",
   "execution_count": 29,
   "metadata": {},
   "outputs": [
    {
     "name": "stdout",
     "output_type": "stream",
     "text": [
      "index1= 2 index2= 3\n"
     ]
    }
   ],
   "source": [
    "#from igraph import *\n",
    "#g = Graph([(0,1),(0,2)])\n",
    "# 练习\n",
    "# input:arry,target = [0,1,4,0],0\n",
    "# output: index = 1, index = 4\n",
    "# test1\n",
    "import numpy as np\n",
    "array, target = [3, 2, 4], 6\n",
    "#array2, target2 = [0, 1, 4, 0], 0\n",
    "for a in range(len(array)):\n",
    "    for b in range(a+1,len(array)):\n",
    "        if array[a] + array[b] == target1:\n",
    "            print('index1=',a+1,'index2=',b+1)"
   ]
  },
  {
   "cell_type": "code",
   "execution_count": 12,
   "metadata": {
    "collapsed": true
   },
   "outputs": [
    {
     "name": "stdout",
     "output_type": "stream",
     "text": [
      "python========================\n",
      "============python============\n",
      "========================python\n",
      "bat       \n",
      "12,345.68\n",
      "110101001,Ʃ,425,651,1a9,1A9,=======425\n",
      "3.140000e+00,3.140000E+00,3.140000,314.000000%\n"
     ]
    }
   ],
   "source": [
    "print('{0:=<30}'.format('python'), '{0:=^30}'.format('python'), \n",
    "      '{0:=>30}'.format('python'), '{:10}'.format('bat'), \n",
    "      '{0:,.2f}'.format(12345.67890), \n",
    "      '{0:b},{0:c},{0:d},{0:o},{0:x},{0:X},{0:=>10}'.format(425),\n",
    "      '{0:e},{0:E},{0:f},{0:%}'.format(3.14), sep='\\n')"
   ]
  },
  {
   "cell_type": "code",
   "execution_count": 18,
   "metadata": {},
   "outputs": [
    {
     "name": "stdout",
     "output_type": "stream",
     "text": [
      "=====================32,456.79,=====32,456.789=====\n"
     ]
    }
   ],
   "source": [
    "print('{1:=>30,.2f},{0:=^20,.3f}'.format(32456.78923,32456.78923),sep='\\n')"
   ]
  },
  {
   "cell_type": "code",
   "execution_count": 19,
   "metadata": {
    "collapsed": true
   },
   "outputs": [],
   "source": [
    "import time"
   ]
  },
  {
   "cell_type": "code",
   "execution_count": 20,
   "metadata": {},
   "outputs": [
    {
     "name": "stdout",
     "output_type": "stream",
     "text": [
      "1535946403.0911956\n",
      "Mon Sep  3 11:46:43 2018\n",
      "time.struct_time(tm_year=2018, tm_mon=9, tm_mday=3, tm_hour=3, tm_min=46, tm_sec=43, tm_wday=0, tm_yday=246, tm_isdst=0)\n"
     ]
    }
   ],
   "source": [
    "print(time.time(), time.ctime(), time.gmtime(), sep='\\n')"
   ]
  },
  {
   "cell_type": "code",
   "execution_count": 23,
   "metadata": {},
   "outputs": [
    {
     "name": "stdout",
     "output_type": "stream",
     "text": [
      "2018-09-03 04:33:04\n"
     ]
    }
   ],
   "source": [
    "'''time.strftime(tpl,ts) tpl是格式化模板字符串，用来定义输出效果。\n",
    "ts是计算机内部时间类型变量\n",
    "'''\n",
    "print(time.strftime('%Y-%m-%d %H:%M:%S',time.gmtime()),\n",
    "      sep='\\n')"
   ]
  },
  {
   "cell_type": "code",
   "execution_count": 29,
   "metadata": {},
   "outputs": [
    {
     "data": {
      "text/plain": [
       "time.struct_time(tm_year=2018, tm_mon=9, tm_mday=26, tm_hour=13, tm_min=40, tm_sec=56, tm_wday=2, tm_yday=269, tm_isdst=-1)"
      ]
     },
     "execution_count": 29,
     "metadata": {},
     "output_type": "execute_result"
    }
   ],
   "source": [
    "'''strptime(str,tpl)中str是字符串形式的时间值，\n",
    "tpl是格式化模板字符串，用来定义输入效果'''\n",
    "time.strptime('2018-09-26 13:40:56','%Y-%m-%d %H:%M:%S')"
   ]
  },
  {
   "cell_type": "code",
   "execution_count": 31,
   "metadata": {},
   "outputs": [
    {
     "data": {
      "text/plain": [
       "5.8708561823550554e-05"
      ]
     },
     "execution_count": 31,
     "metadata": {},
     "output_type": "execute_result"
    }
   ],
   "source": [
    "start = time.perf_counter()\n",
    "end = time.perf_counter()\n",
    "end - start"
   ]
  },
  {
   "cell_type": "code",
   "execution_count": 40,
   "metadata": {},
   "outputs": [
    {
     "name": "stdout",
     "output_type": "stream",
     "text": [
      "2.0\n"
     ]
    }
   ],
   "source": [
    "def main():\n",
    "    start = time.perf_counter()\n",
    "    time.sleep(2) \n",
    "    end = time.perf_counter()\n",
    "    print(round(end - start,0))\n",
    "if __name__ == '__main__':\n",
    "    main()\n",
    "    \n",
    "# 程序将等待2s后再退出"
   ]
  },
  {
   "cell_type": "code",
   "execution_count": 52,
   "metadata": {},
   "outputs": [
    {
     "name": "stdout",
     "output_type": "stream",
     "text": [
      "-------------执行开始-------------\n",
      " 0 %[->..........]\n",
      "10 %[*->.........]\n",
      "20 %[**->........]\n",
      "30 %[***->.......]\n",
      "40 %[****->......]\n",
      "50 %[*****->.....]\n",
      "60 %[******->....]\n",
      "70 %[*******->...]\n",
      "80 %[********->..]\n",
      "90 %[*********->.]\n",
      "100%[**********->]\n",
      "-------------执行结束-------------\n"
     ]
    }
   ],
   "source": [
    "import time\n",
    "scale = 10\n",
    "print('执行开始'.center(30,'-'))\n",
    "for i in range(scale + 1):\n",
    "    a = '*' * i\n",
    "    b = '.' * (scale - i)\n",
    "    c = (i/scale)*100\n",
    "    print('{:^3.0f}%[{}->{}]'.format(c,a,b))\n",
    "print('执行结束'.center(30,'-'))"
   ]
  },
  {
   "cell_type": "code",
   "execution_count": 54,
   "metadata": {},
   "outputs": [
    {
     "name": "stdout",
     "output_type": "stream",
     "text": [
      "-----------执行开始----------\n",
      "\r",
      "  0%[->..................................................]0.00s\r",
      "  2%[*->.................................................]0.10s\r",
      "  4%[**->................................................]0.20s\r",
      "  6%[***->...............................................]0.30s\r",
      "  8%[****->..............................................]0.40s\r",
      " 10%[*****->.............................................]0.50s\r",
      " 12%[******->............................................]0.60s\r",
      " 14%[*******->...........................................]0.70s\r",
      " 16%[********->..........................................]0.80s\r",
      " 18%[*********->.........................................]0.90s\r",
      " 20%[**********->........................................]1.00s\r",
      " 22%[***********->.......................................]1.10s\r",
      " 24%[************->......................................]1.20s\r",
      " 26%[*************->.....................................]1.30s\r",
      " 28%[**************->....................................]1.40s\r",
      " 30%[***************->...................................]1.50s\r",
      " 32%[****************->..................................]1.60s\r",
      " 34%[*****************->.................................]1.70s\r",
      " 36%[******************->................................]1.80s\r",
      " 38%[*******************->...............................]1.90s\r",
      " 40%[********************->..............................]2.00s\r",
      " 42%[*********************->.............................]2.10s\r",
      " 44%[**********************->............................]2.20s\r",
      " 46%[***********************->...........................]2.30s\r",
      " 48%[************************->..........................]2.40s\r",
      " 50%[*************************->.........................]2.50s\r",
      " 52%[**************************->........................]2.60s\r",
      " 54%[***************************->.......................]2.70s\r",
      " 56%[****************************->......................]2.80s\r",
      " 58%[*****************************->.....................]2.90s\r",
      " 60%[******************************->....................]3.00s\r",
      " 62%[*******************************->...................]3.10s\r",
      " 64%[********************************->..................]3.20s\r",
      " 66%[*********************************->.................]3.30s\r",
      " 68%[**********************************->................]3.40s\r",
      " 70%[***********************************->...............]3.50s\r",
      " 72%[************************************->..............]3.60s\r",
      " 74%[*************************************->.............]3.70s\r",
      " 76%[**************************************->............]3.80s\r",
      " 78%[***************************************->...........]3.90s\r",
      " 80%[****************************************->..........]4.00s\r",
      " 82%[*****************************************->.........]4.10s\r",
      " 84%[******************************************->........]4.20s\r",
      " 86%[*******************************************->.......]4.30s\r",
      " 88%[********************************************->......]4.40s\r",
      " 90%[*********************************************->.....]4.50s\r",
      " 92%[**********************************************->....]4.60s\r",
      " 94%[***********************************************->...]4.70s\r",
      " 96%[************************************************->..]4.80s\r",
      " 98%[*************************************************->.]4.90s\r",
      "100%[**************************************************->]5.00s\n",
      "-----------执行结束----------\n"
     ]
    }
   ],
   "source": [
    "import time\n",
    "scale = 50\n",
    "print('执行开始'.center(scale//2,'-'))\n",
    "start = time.perf_counter()\n",
    "for i in range(scale+1):\n",
    "    a = '*'*i\n",
    "    b = '.'*(scale - i)\n",
    "    c = (i/scale)*100\n",
    "    dur = time.perf_counter() - start\n",
    "    print('\\r{:3.0f}%[{}->{}]{:.2f}s'.format(c,a,b,dur),end='')\n",
    "    time.sleep(0.1)\n",
    "print('\\n'+'执行结束'.center(scale//2,'-'))"
   ]
  },
  {
   "cell_type": "markdown",
   "metadata": {},
   "source": [
    "### 程序的控制结构\n",
    "- 单分支结构\n",
    "```python\n",
    "if <条件>:\n",
    "    <语句块>\n",
    "```\n",
    "- 二分支结构\n",
    "```python\n",
    "if <条件>:\n",
    "    <表达式1>\n",
    "else:\n",
    "    <表达式2>\n",
    "# 第二种形式\n",
    "<表达式1> if <条件> else <表达式2>\n",
    "```\n",
    "- 多分支结构\n",
    "```python\n",
    "'''\n",
    "注意多条件之间的包含关系\n",
    "注意变量取值范围的覆盖\n",
    "'''\n",
    "if <条件>:\n",
    "    <表达式1>\n",
    "elif:\n",
    "    <表达式2>    \n",
    "else:\n",
    "    <表达式3>\n",
    "```\n",
    "**关注多分支条件的组合**\n",
    "- 多分支条件之间的覆盖是重要问题\n",
    "- 程序可运行，但不正确，要注意多分支\n",
    "- 分支结构上出程序的重要框架，读程序先看分支\n"
   ]
  },
  {
   "cell_type": "code",
   "execution_count": 1,
   "metadata": {},
   "outputs": [
    {
     "name": "stdout",
     "output_type": "stream",
     "text": [
      "猜对了！\n"
     ]
    }
   ],
   "source": [
    "guess = eval(input())\n",
    "if guess == 99:\n",
    "    print('猜对了！')\n",
    "else:\n",
    "    print('猜错了')"
   ]
  },
  {
   "cell_type": "code",
   "execution_count": 16,
   "metadata": {},
   "outputs": [
    {
     "name": "stdout",
     "output_type": "stream",
     "text": [
      "猜对了\n"
     ]
    }
   ],
   "source": [
    "guess = eval(input())\n",
    "print('猜{}了'.format('对' if (guess == 99) else '错'))"
   ]
  },
  {
   "cell_type": "markdown",
   "metadata": {},
   "source": [
    "#### 异常处理\n",
    "- 初级应用\n",
    "```python\n",
    "try :\n",
    "    <语句块1>\n",
    "except [<异常类型>] :\n",
    "    <语句块2>\n",
    "```\n",
    "- 高级应用\n",
    "```python\n",
    "'''\n",
    "finally对应的语句块4一定执行\n",
    "else对应的语句块3在不发生异常时执行\n",
    "'''\n",
    "try :\n",
    "    <语句块1>\n",
    "except [<异常类型>] :\n",
    "    <语句块2>\n",
    "else :\n",
    "    <语句块1>\n",
    "finally :\n",
    "    <语句块2>\n",
    "```\n"
   ]
  },
  {
   "cell_type": "code",
   "execution_count": 19,
   "metadata": {},
   "outputs": [
    {
     "name": "stdout",
     "output_type": "stream",
     "text": [
      "输入的不是整数\n"
     ]
    }
   ],
   "source": [
    "try:\n",
    "    num = eval(input('pleas input a number'))\n",
    "    print(num**2)\n",
    "except NameError:\n",
    "    print('输入的不是整数')"
   ]
  },
  {
   "cell_type": "code",
   "execution_count": 24,
   "metadata": {},
   "outputs": [
    {
     "name": "stdout",
     "output_type": "stream",
     "text": [
      "BMI数值为22.15\n",
      "国际BMI值是正常,国内BMI值是正常\n"
     ]
    }
   ],
   "source": [
    "height, weight = eval(input('请输入身高(米)和体重(kg)的数值，用英文逗号隔开：'))\n",
    "bmi = weight/(height**2)\n",
    "print('BMI数值为{:.2f}'.format(bmi))\n",
    "who,nat = '',''\n",
    "if bmi < 18.5:\n",
    "    who, nat = '偏瘦','偏瘦'\n",
    "elif 18.5<bmi<24:\n",
    "    who,nat='正常','正常'\n",
    "elif 24<=bmi<25:\n",
    "    who,nat='正常','偏胖'\n",
    "elif 25<=bmi<28:\n",
    "    who,nat='偏胖','偏胖'\n",
    "elif 28<=bmi<30:\n",
    "    who,nat='偏胖','肥胖'\n",
    "else:\n",
    "    who,nat = '肥胖','肥胖'\n",
    "print('国际BMI值是{},国内BMI值是{}'.format(who,nat))"
   ]
  },
  {
   "cell_type": "markdown",
   "metadata": {},
   "source": [
    "#### 程序的循环结构\n",
    "- 遍历循环：遍历某个结构形成的循环运行方式\n",
    "```python\n",
    "'''\n",
    "从遍历结构中逐一提取元素，放在循环变量中\n",
    "由保留字for和in组成，完整遍历所有元素后结束\n",
    "每次循环，所获得元素放入循环变量，并执行一次语句块\n",
    "'''\n",
    "for <> in <>:\n",
    "    <>\n",
    "```"
   ]
  }
 ],
 "metadata": {
  "kernelspec": {
   "display_name": "Python 3",
   "language": "python",
   "name": "python3"
  },
  "language_info": {
   "codemirror_mode": {
    "name": "ipython",
    "version": 3
   },
   "file_extension": ".py",
   "mimetype": "text/x-python",
   "name": "python",
   "nbconvert_exporter": "python",
   "pygments_lexer": "ipython3",
   "version": "3.6.3"
  },
  "toc": {
   "base_numbering": 1,
   "nav_menu": {},
   "number_sections": true,
   "sideBar": true,
   "skip_h1_title": false,
   "title_cell": "Table of Contents",
   "title_sidebar": "Contents",
   "toc_cell": false,
   "toc_position": {},
   "toc_section_display": true,
   "toc_window_display": false
  }
 },
 "nbformat": 4,
 "nbformat_minor": 2
}
