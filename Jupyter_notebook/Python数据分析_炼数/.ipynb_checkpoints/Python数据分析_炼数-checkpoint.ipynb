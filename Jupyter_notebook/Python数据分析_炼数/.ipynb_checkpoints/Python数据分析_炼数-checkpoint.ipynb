{
 "cells": [
  {
   "cell_type": "markdown",
   "metadata": {},
   "source": [
    "# 1. Python简介\n",
    "\n",
    "## 1.1 Python特点\n",
    "\n",
    "+ 解释型、脚本类、交互式、面向对象、动态数据类型的高级程序设计语言\n",
    "+ Guido van Rossum，1989年底发明，1991发型1st公开版，遵循GPL协议\n",
    "+ 可读性强，初学者友好\n",
    "+ 重要特点\n",
    "    + 易于学习、阅读、维护\n",
    "    + 广泛的标准库、互动模式、可移植、可扩展\n",
    "    + 数据库、GUI编程、可嵌入\n",
    "        \n",
    "## 1.2 重要的Python库\n",
    "+ Numpy（Numerical Python），Python科学计算的基础包\n",
    "+ Pandas，数据框，比R中的DataFrame更加强大\n",
    "+ Mathplotlib, 绘制图表，达到出版的水平\n",
    "+ Scipy，科学计算库，主要是(integrate, linalg, optimize, signal, sparse, special, stats, weave)等包\n",
    "\n",
    "## 1.3 Ipython，交互式的Shell工具\n",
    "+ Python可行计算标准工具集的组成部分，为交互式和探索式计算提供了一个强健而高效的环境\n",
    "+ 类似于Mathematica的Html笔记本\n",
    "+ 给予Qt框架的GUI控制台\n",
    "+ 用于交互式并行和分布式计算的基础框架\n",
    "+ [官网](http://ipython.org/)\n",
    "\n",
    "## 1.4 版本选择，最新的稳定版，至少是python3\n",
    "+ 库的安装\n",
    "+ IDE，pycharm"
   ]
  },
  {
   "cell_type": "markdown",
   "metadata": {},
   "source": [
    "## 1.5 Python基础语法\n",
    "\n",
    "### 1.5.1 基本内容\n",
    "\n",
    "+ 字母、数字、下划线组成，但不能以数字开头。下划线开头有特殊含义\n",
    "\n",
    "+ 保留字\n",
    "\n",
    "+ 其他\n",
    "    + 缩进，一般是4个空格，虽然不强制，但缩进要一致\n",
    "    + 多行语句，除了括号类，用‘\\’进行换行\n",
    "    + 注释，单行使用‘#’，多行使用3个单引号或双引号\n",
    "    \n",
    "+ 变量\n",
    "    + 使用前进行赋值，‘=’\n",
    "    \n",
    "+ 数据类型\n",
    "    + 基本的5种，数字、字符串、列表、元组、字典\n",
    "    + 数字：不可改变，int、long、float、comples\n",
    "    + 字符串：不可改变，可切片，与字符串相加、数字相乘\n",
    "    + 列表：可变，有序，可切片\n",
    "    + 元组：不可变，有序，可切片\n",
    "    + 字典：key-value类型，key需要可hash\n",
    "    \n",
    "+ 类型转换\n",
    "    + 转换成数字：int(x [,base]), long(x[,base]), float(x), complex(read [,[imag])\n",
    "    + 转换成字符串：str(x), repr(x)\n",
    "    + 转换成对象、列表、元组、集合、不可变集合、字典：eval(str),list(s),tuple(s),set(s),frozenset(s),dict(d)\n",
    "    + 转换成字节码、Unicode：chr(x), unichr(x)\n",
    "    + 转换成整数值、十六、八进制：ord(x), hex(x), oct(x)\n",
    "    \n",
    "+ 运算符\n",
    "    + '+, -, *, /, //, %'\n",
    "    + '==, !=, <>, <, <=, >, >='\n",
    "    + '=, +=, -=, *=, /=, //=, %=, **='\n",
    "    + 位运算：'&, |, ^, ~, <<, >>'\n",
    "    + 逻辑运算：'and, or, not'\n",
    "    + 成员运算：str比较，'in, not in'\n",
    "    + 身份运算：'is, is not'\n",
    "    + 优先级：指数、位(~, +(+@), -(-@))、乘除、加减、左右移、位and、位^|、比较、等于、赋值、身份、成员、逻辑， 最好使用括号"
   ]
  },
  {
   "cell_type": "code",
   "execution_count": 2,
   "metadata": {},
   "outputs": [
    {
     "name": "stdout",
     "output_type": "stream",
     "text": [
      "['False', 'None', 'True', 'and', 'as', 'assert', 'break', 'class', 'continue', 'def', 'del', 'elif', 'else', 'except', 'finally', 'for', 'from', 'global', 'if', 'import', 'in', 'is', 'lambda', 'nonlocal', 'not', 'or', 'pass', 'raise', 'return', 'try', 'while', 'with', 'yield']\n"
     ]
    }
   ],
   "source": [
    "# 保留字\n",
    "import keyword\n",
    "print(keyword.kwlist)"
   ]
  },
  {
   "cell_type": "markdown",
   "metadata": {},
   "source": [
    "# 2 Python控制结构\n",
    "## 2.1 条件语句\n",
    "```python\n",
    "if 判断条件: \n",
    "    语句1\n",
    "elif\n",
    "    语句2\n",
    "else\n",
    "    语句3\n",
    "```\n"
   ]
  }
 ],
 "metadata": {
  "kernelspec": {
   "display_name": "Python 3",
   "language": "python",
   "name": "python3"
  },
  "language_info": {
   "codemirror_mode": {
    "name": "ipython",
    "version": 3
   },
   "file_extension": ".py",
   "mimetype": "text/x-python",
   "name": "python",
   "nbconvert_exporter": "python",
   "pygments_lexer": "ipython3",
   "version": "3.6.4"
  },
  "toc": {
   "nav_menu": {},
   "number_sections": true,
   "sideBar": true,
   "skip_h1_title": false,
   "title_cell": "Table of Contents",
   "title_sidebar": "Contents",
   "toc_cell": false,
   "toc_position": {},
   "toc_section_display": true,
   "toc_window_display": false
  }
 },
 "nbformat": 4,
 "nbformat_minor": 2
}
