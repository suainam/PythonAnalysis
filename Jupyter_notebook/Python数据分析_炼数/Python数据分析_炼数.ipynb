{
 "cells": [
  {
   "cell_type": "markdown",
   "metadata": {},
   "source": [
    "# 1. Python简介\n",
    "\n",
    "> 基础部分是来自[菜鸟教程](http://www.runoob.com/python3)\n",
    "\n",
    "## 1.1 Python特点\n",
    "\n",
    "+ 解释型、脚本类、交互式、面向对象、动态数据类型的高级程序设计语言\n",
    "+ Guido van Rossum，1989年底发明，1991发型1st公开版，遵循GPL协议\n",
    "+ 可读性强，初学者友好\n",
    "+ 重要特点\n",
    "    + 易于学习、阅读、维护\n",
    "    + 广泛的标准库、互动模式、可移植、可扩展\n",
    "    + 数据库、GUI编程、可嵌入\n",
    "        \n",
    "## 1.2 重要的Python库\n",
    "+ Numpy（Numerical Python），Python科学计算的基础包\n",
    "+ Pandas，数据框，比R中的DataFrame更加强大\n",
    "+ Mathplotlib, 绘制图表，达到出版的水平\n",
    "+ Scipy，科学计算库，主要是(integrate, linalg, optimize, signal, sparse, special, stats, weave)等包\n",
    "\n",
    "## 1.3 Ipython，交互式的Shell工具\n",
    "+ Python可行计算标准工具集的组成部分，为交互式和探索式计算提供了一个强健而高效的环境\n",
    "+ 类似于Mathematica的Html笔记本\n",
    "+ 给予Qt框架的GUI控制台\n",
    "+ 用于交互式并行和分布式计算的基础框架\n",
    "+ [官网](http://ipython.org/)\n",
    "\n",
    "## 1.4 版本选择，最新的稳定版，至少是python3\n",
    "+ 库的安装\n",
    "+ IDE，pycharm"
   ]
  },
  {
   "cell_type": "markdown",
   "metadata": {},
   "source": [
    "## 1.5 Python基础语法\n",
    "\n",
    "### 1.5.1 基本内容\n",
    "\n",
    "+ 字母、数字、下划线组成，但不能以数字开头。下划线开头有特殊含义\n",
    "\n",
    "+ 保留字\n",
    "\n",
    "+ 其他\n",
    "    + 缩进，一般是4个空格，虽然不强制，但缩进要一致\n",
    "    + 多行语句，除了括号类，用‘\\’进行换行\n",
    "    + 注释，单行使用‘#’，多行使用3个单引号或双引号\n",
    "    \n",
    "+ 变量\n",
    "    + 使用前进行赋值，‘=’\n",
    "    \n",
    "+ 数据类型\n",
    "    + 基本的5种，数字、字符串、列表、元组、字典\n",
    "    + 数字：不可改变，int、long、float、comples\n",
    "    + 字符串：不可改变，可切片，与字符串相加、数字相乘\n",
    "    + 列表：可变，有序，可切片\n",
    "    + 元组：不可变，有序，可切片\n",
    "    + 字典：key-value类型，key需要可hash\n",
    "    \n",
    "+ 类型转换\n",
    "    + 转换成数字：int(x [,base]), long(x[,base]), float(x), complex(read [,[imag])\n",
    "    + 转换成字符串：str(x), repr(x)\n",
    "    + 转换成对象、列表、元组、集合、不可变集合、字典：eval(str),list(s),tuple(s),set(s),frozenset(s),dict(d)\n",
    "    + 转换成字节码、Unicode：chr(x), unichr(x)\n",
    "    + 转换成整数值、十六、八进制：ord(x), hex(x), oct(x)\n",
    "    \n",
    "+ 运算符\n",
    "    + '+, -, *, /, //, %'\n",
    "    + '==, !=, <>, <, <=, >, >='\n",
    "    + '=, +=, -=, *=, /=, //=, %=, **='\n",
    "    + 位运算：'&, |, ^, ~, <<, >>'\n",
    "    + 逻辑运算：'and, or, not'\n",
    "    + 成员运算：str比较，'in, not in'\n",
    "    + 身份运算：'is, is not'\n",
    "    + 优先级：指数、位(~, +(+@), -(-@))、乘除、加减、左右移、位and、位^|、比较、等于、赋值、身份、成员、逻辑， 最好使用括号"
   ]
  },
  {
   "cell_type": "code",
   "execution_count": 2,
   "metadata": {},
   "outputs": [
    {
     "name": "stdout",
     "output_type": "stream",
     "text": [
      "['False', 'None', 'True', 'and', 'as', 'assert', 'break', 'class', 'continue', 'def', 'del', 'elif', 'else', 'except', 'finally', 'for', 'from', 'global', 'if', 'import', 'in', 'is', 'lambda', 'nonlocal', 'not', 'or', 'pass', 'raise', 'return', 'try', 'while', 'with', 'yield']\n"
     ]
    }
   ],
   "source": [
    "# 保留字\n",
    "import keyword\n",
    "print(keyword.kwlist)"
   ]
  },
  {
   "cell_type": "markdown",
   "metadata": {},
   "source": [
    "# 2 Python控制结构\n",
    "## 2.1 条件语句\n",
    "```python\n",
    "if 判断条件: \n",
    "    语句1\n",
    "elif\n",
    "    语句2\n",
    "else\n",
    "    语句3\n",
    "```\n",
    "### 2.2 循环，for和while\n",
    "\n",
    "+ continue，跳过当次循环\n",
    "+ break，终结紧包break的循环"
   ]
  },
  {
   "cell_type": "code",
   "execution_count": 1,
   "metadata": {},
   "outputs": [
    {
     "name": "stdout",
     "output_type": "stream",
     "text": [
      "2\t3\t5\t7\t11\t13\t17\t19\t23\t29\t31\t37\t41\t43\t47\t53\t59\t61\t67\t71\t73\t79\t83\t89\t97\t"
     ]
    }
   ],
   "source": [
    "for i in range(2,100):\n",
    "    for j in range(2, int(i**0.5)+1):\n",
    "        if i%j==0:\n",
    "            break\n",
    "    else:\n",
    "        print(i,end='\\t')"
   ]
  },
  {
   "cell_type": "code",
   "execution_count": 4,
   "metadata": {},
   "outputs": [
    {
     "name": "stdout",
     "output_type": "stream",
     "text": [
      "[2, 3, 5, 7, 11, 13, 17, 19, 23, 29, 31, 37, 41, 43, 47, 53, 59, 61, 67, 71, 73, 79, 83, 89, 97]\n"
     ]
    }
   ],
   "source": [
    "print([i for i in range(2,100) \n",
    "       if 0 not in (i%j for j in range(2, int(i**0.5)+1))])"
   ]
  },
  {
   "cell_type": "markdown",
   "metadata": {},
   "source": [
    "### 2.3 数据函数\n",
    "\n",
    "+ abs(x), fabs(x)\n",
    "+ ceil(x), floor(x), \n",
    "+ log(x), log10(x), exp(x), pow(x,y), sqrt(x) \n",
    "+ max(x1, x2,...), min(x1, x2...)\n",
    "+ modf(x), \n",
    "+ round(x [,n]),\"4舍6入5后非零可进1,5后为0成双\"\n",
    "+ operator,'gt,ge,eq,le,lt'"
   ]
  },
  {
   "cell_type": "code",
   "execution_count": 13,
   "metadata": {},
   "outputs": [
    {
     "name": "stdout",
     "output_type": "stream",
     "text": [
      "True (0.40000000000000036, 5.0)\n"
     ]
    }
   ],
   "source": [
    "import operator as op\n",
    "import math\n",
    "print(op.lt(-4,10), math.modf(5.4))"
   ]
  },
  {
   "cell_type": "code",
   "execution_count": 61,
   "metadata": {},
   "outputs": [
    {
     "name": "stdout",
     "output_type": "stream",
     "text": [
      "1\n",
      "2\n",
      "1.2\n",
      "1.2\n",
      "1.4\n"
     ]
    }
   ],
   "source": [
    "print(round(1.4), round(1.6), round(1.152,1), \n",
    "      round(1.250,1), round(1.350,1), sep='\\n')"
   ]
  },
  {
   "cell_type": "markdown",
   "metadata": {},
   "source": [
    "### 2.4 随机函数\n",
    "#### random\n",
    "+ choice(seq)\n",
    "+ randrange([start,]stop[,step])\n",
    "+ random()\n",
    "+ seed(x)\n",
    "+ shuffle(lst)\n",
    "+ uniform(x,y)\n",
    "+ randint(x,y)\n",
    "+ sample(seq,length)"
   ]
  },
  {
   "cell_type": "code",
   "execution_count": 22,
   "metadata": {},
   "outputs": [
    {
     "name": "stdout",
     "output_type": "stream",
     "text": [
      "8 5\n"
     ]
    }
   ],
   "source": [
    "import random\n",
    "print(random.choice(range(10)), random.randrange(10))"
   ]
  },
  {
   "cell_type": "code",
   "execution_count": 44,
   "metadata": {},
   "outputs": [
    {
     "data": {
      "text/plain": [
       "[9, 1, 4, 23]"
      ]
     },
     "execution_count": 44,
     "metadata": {},
     "output_type": "execute_result"
    }
   ],
   "source": [
    "list = [1,23,4,9] \n",
    "# shuffle的返回值是None\n",
    "random.shuffle(list) \n",
    "list"
   ]
  },
  {
   "cell_type": "code",
   "execution_count": 46,
   "metadata": {},
   "outputs": [
    {
     "data": {
      "text/plain": [
       "12.22781936425191"
      ]
     },
     "execution_count": 46,
     "metadata": {},
     "output_type": "execute_result"
    }
   ],
   "source": [
    "# 前后均闭\n",
    "random.uniform(10,20)"
   ]
  },
  {
   "cell_type": "code",
   "execution_count": 35,
   "metadata": {},
   "outputs": [
    {
     "name": "stdout",
     "output_type": "stream",
     "text": [
      "0.5406491546595898\n"
     ]
    }
   ],
   "source": [
    "print(random.random())"
   ]
  },
  {
   "cell_type": "code",
   "execution_count": 56,
   "metadata": {},
   "outputs": [
    {
     "name": "stdout",
     "output_type": "stream",
     "text": [
      "19\n"
     ]
    }
   ],
   "source": [
    "print(random.randint(10,20))"
   ]
  },
  {
   "cell_type": "code",
   "execution_count": 58,
   "metadata": {},
   "outputs": [
    {
     "data": {
      "text/plain": [
       "'derk'"
      ]
     },
     "execution_count": 58,
     "metadata": {},
     "output_type": "execute_result"
    }
   ],
   "source": [
    "a = 'dkelrklaerkej'\n",
    "l = random.sample(a,4)\n",
    "l = ''.join(l)\n",
    "l"
   ]
  },
  {
   "cell_type": "code",
   "execution_count": 59,
   "metadata": {},
   "outputs": [
    {
     "data": {
      "text/plain": [
       "'dkelrklaerkej'"
      ]
     },
     "execution_count": 59,
     "metadata": {},
     "output_type": "execute_result"
    }
   ],
   "source": [
    "a"
   ]
  },
  {
   "cell_type": "markdown",
   "metadata": {},
   "source": [
    "### 2.5 其他函数\n",
    "\n",
    "+ 三角函数，acos(x), asin(x), atan(x), atan2(y,x), cos(x), hypot(x,y),\n",
    "sin(x), tan(x), degrees(x), randians(x)\n",
    "+ 常量，pi,e\n",
    "\n",
    "### 2.6 字符串 \n",
    "\n",
    "+ 转义，'\\\\'\n",
    "+ 运算，'+, \\*, \\[\\], \\[\\:\\], in, not in, r\\/R, %'\n",
    "+ 格式化\n",
    "+ 三引号，Unicode\n",
    "+ 内建函数\n",
    "    + 性质\n",
    "        + startswith(suffix, beg=0, end=len(string)), endswith(suffix, beg=0, end=len(string))\n",
    "        + 字母、数字、数字、10进制、字母或数字、空格：isalpha(), isdigit(), isnumeric(), isdecimal(), isalnum(), isspace()\n",
    "        + istitle(), isupper(), islower()\n",
    "    + 解码、编码\n",
    "        + bytes.decode(encoding='utf-8', erros='strict')\n",
    "        + encode(encoding='utf-8', erros='strict')\n",
    "    + 规整\n",
    "        + 将tab替换为4空格，expandtabs(tabsize=4) \n",
    "        + strip(), lstrip(), rstrip()\n",
    "        + title(), capitalize(), upper(), lower(), swapcase()\n",
    "    + 对齐\n",
    "        + center(width[, fillchar])\n",
    "        + ljust(width[,fillchar])\n",
    "        + rjust(width[,fillchar])\n",
    "        + zfill(width)，返回长度为width的右对齐的原字符串，填充0\n",
    "    + 查找、替换、计算\n",
    "        + 查找str的开始索引位置：find找不到返回-1，index则抛出异常\n",
    "            + find(str, beg=0, end=len(string))\n",
    "            + rfind(str, beg=0, end=len(string))\n",
    "            + index(str, beg=0, end=len(string))\n",
    "            + rindex(str, beg=0, end=len(string))\n",
    "        + 返回最大,小的字母，max(str), min(str)\n",
    "        + 替换：replace(old, new[, max])\n",
    "        + 计数：count(str, beg=0, end=len(string))\n",
    "        + 切割：\n",
    "            + 截取n个str分割的字符串，split(str='', num=string.count(str))\n",
    "        + 创建映射：\n",
    "            + 创建字符映射的转换表，对于接受两个参数的最简单的调用方式，1st参数是字符串，表示需要转换的字符，2nd参数也是字符串，表示转换的目标：maketrans()\n",
    "            + 根据str给出的表（包含256个字符）转换string的字符，过滤掉的字符放到deletechar参数中：translate(table, deletechars='')\n"
   ]
  },
  {
   "cell_type": "markdown",
   "metadata": {},
   "source": [
    "### 2.7 列表\n",
    "\n",
    "+ 查找、切片\n",
    "+ 元素赋值，=\n",
    "+ 删除，del\n",
    "+ 操作符，len(), max(), min(), list(seq), +, \\*, in, for i in lst\n",
    "+ 嵌套\n",
    "+ 方法\n",
    "    + append(), count(), extend(), index(), insert(index, obj), \n",
    "    pop([index=-1]), remove(obj), reverse(), sort(cmp=None, key=None, reverse=False), clear(), copy()"
   ]
  },
  {
   "cell_type": "markdown",
   "metadata": {},
   "source": [
    "### 2.8 元组\n",
    "\n",
    "+ 查找、切片\n",
    "+ 无法进行元素赋值，=\n",
    "+ 删除整个元组，del\n",
    "+ 操作符，len(), max(), min(), tuple(seq)"
   ]
  },
  {
   "cell_type": "markdown",
   "metadata": {},
   "source": [
    "### 2.9-1 集合\n",
    "\n",
    "+ 创建，空集合set(), {}\n",
    "+ 集合的'|, -, &, ^'\n",
    "+ 不重复\n",
    "+ 操作符，len(), str(), type()\n",
    "+ 方法\n",
    "    + add(), update(), copy(), \n",
    "    + clear(), remove(), discard(), pop(), difference_update(), intersection_update(), symmetric_difference_update()\n",
    "    + union(), differenct(), intersection(), symmetric_difference()\n",
    "    + isdisjoint(), issubset(), issupset(), in, "
   ]
  },
  {
   "cell_type": "markdown",
   "metadata": {},
   "source": [
    "### 2.9-2 字典\n",
    "\n",
    "+ 查找，d['name'], d.get('name', default)\n",
    "+ 元素赋值，d['add']='as'\n",
    "+ 删除，del d['add']\n",
    "+ key不能重复，不可变，不能使用列表，需要可hash\n",
    "+ 操作符，len(), str(), type()\n",
    "+ 方法\n",
    "    + clear(), copy(), fromkeys(sep[,value]), get(key, default=None), setdefault(key, default=None), update(dict2), pop(key[,default]), popitem(), key in dict, items(), keys(), values()"
   ]
  },
  {
   "cell_type": "code",
   "execution_count": 15,
   "metadata": {},
   "outputs": [],
   "source": [
    "d = {'name':'john', 'gender':'M', 'age':20}\n",
    "\n",
    "print(d['name'], d.get('name',0))"
   ]
  },
  {
   "cell_type": "code",
   "execution_count": 17,
   "metadata": {},
   "outputs": [],
   "source": [
    "d['add']='as'\n",
    "\n",
    "d['add']"
   ]
  },
  {
   "cell_type": "code",
   "execution_count": 19,
   "metadata": {},
   "outputs": [],
   "source": [
    "del d['add']\n",
    "\n",
    "d\n",
    "\n",
    "print(len(d), str(d), type(d))"
   ]
  },
  {
   "cell_type": "code",
   "execution_count": 23,
   "metadata": {},
   "outputs": [
    {
     "data": {
      "text/plain": [
       "{'age': 10, 'gender': 10, 'name': 10}"
      ]
     },
     "execution_count": 23,
     "metadata": {},
     "output_type": "execute_result"
    }
   ],
   "source": [
    "seq = ('name','gender','age')\n",
    "e = dict.fromkeys(seq,10)\n",
    "e"
   ]
  },
  {
   "cell_type": "code",
   "execution_count": 24,
   "metadata": {},
   "outputs": [
    {
     "data": {
      "text/plain": [
       "True"
      ]
     },
     "execution_count": 24,
     "metadata": {},
     "output_type": "execute_result"
    }
   ],
   "source": [
    "'name' in e"
   ]
  },
  {
   "cell_type": "code",
   "execution_count": 25,
   "metadata": {},
   "outputs": [],
   "source": [
    "e.setdefault('add', 'shanghai')\n",
    "\n",
    "e"
   ]
  },
  {
   "cell_type": "code",
   "execution_count": 27,
   "metadata": {},
   "outputs": [
    {
     "data": {
      "text/plain": [
       "10"
      ]
     },
     "execution_count": 27,
     "metadata": {},
     "output_type": "execute_result"
    }
   ],
   "source": [
    "e.setdefault('name',20)"
   ]
  },
  {
   "cell_type": "code",
   "execution_count": 28,
   "metadata": {},
   "outputs": [
    {
     "data": {
      "text/plain": [
       "{'add': 'shanghai', 'age': 10, 'gender': 10, 'name': 10}"
      ]
     },
     "execution_count": 28,
     "metadata": {},
     "output_type": "execute_result"
    }
   ],
   "source": [
    "e"
   ]
  },
  {
   "cell_type": "code",
   "execution_count": 1,
   "metadata": {},
   "outputs": [],
   "source": [
    "c = range(10)"
   ]
  },
  {
   "cell_type": "code",
   "execution_count": 2,
   "metadata": {},
   "outputs": [],
   "source": [
    "c=list(c)"
   ]
  },
  {
   "cell_type": "code",
   "execution_count": 3,
   "metadata": {},
   "outputs": [
    {
     "data": {
      "text/plain": [
       "[0, 1, 2, 3, 4, 5, 6, 7, 8, 9]"
      ]
     },
     "execution_count": 3,
     "metadata": {},
     "output_type": "execute_result"
    }
   ],
   "source": [
    "c"
   ]
  },
  {
   "cell_type": "code",
   "execution_count": 4,
   "metadata": {},
   "outputs": [
    {
     "data": {
      "text/plain": [
       "1"
      ]
     },
     "execution_count": 4,
     "metadata": {},
     "output_type": "execute_result"
    }
   ],
   "source": [
    "c.count(1)"
   ]
  },
  {
   "cell_type": "code",
   "execution_count": 53,
   "metadata": {},
   "outputs": [
    {
     "name": "stdout",
     "output_type": "stream",
     "text": [
      "1.0\n",
      "2.23606797749979\n",
      "90.0\n",
      "0.7853981633974483\n"
     ]
    }
   ],
   "source": [
    "import math\n",
    "print(math.sin(math.pi/2), math.hypot(1,2), \n",
    "      math.degrees(math.pi/2),math.radians(45), sep='\\n')"
   ]
  },
  {
   "cell_type": "markdown",
   "metadata": {},
   "source": []
  },
  {
   "cell_type": "markdown",
   "metadata": {},
   "source": [
    "### 2.9-3 日期与时间\n",
    "+ 时间元组\n",
    "+ import time\n",
    "+ import calendar"
   ]
  },
  {
   "cell_type": "code",
   "execution_count": 62,
   "metadata": {},
   "outputs": [
    {
     "data": {
      "text/plain": [
       "'Mon Sep 24 10:38:09 2018'"
      ]
     },
     "execution_count": 62,
     "metadata": {},
     "output_type": "execute_result"
    }
   ],
   "source": [
    "import time\n",
    "time.ctime()"
   ]
  },
  {
   "cell_type": "code",
   "execution_count": 39,
   "metadata": {},
   "outputs": [
    {
     "data": {
      "text/plain": [
       "1537753092.5256233"
      ]
     },
     "execution_count": 39,
     "metadata": {},
     "output_type": "execute_result"
    }
   ],
   "source": [
    "time.time()"
   ]
  },
  {
   "cell_type": "code",
   "execution_count": 40,
   "metadata": {},
   "outputs": [
    {
     "name": "stdout",
     "output_type": "stream",
     "text": [
      "   September 2018\n",
      "Mo Tu We Th Fr Sa Su\n",
      "                1  2\n",
      " 3  4  5  6  7  8  9\n",
      "10 11 12 13 14 15 16\n",
      "17 18 19 20 21 22 23\n",
      "24 25 26 27 28 29 30\n",
      "\n"
     ]
    }
   ],
   "source": [
    "import calendar\n",
    "print(calendar.month(2018,9))"
   ]
  },
  {
   "cell_type": "markdown",
   "metadata": {},
   "source": [
    "## 3 Python函数\n",
    "+ def开头，后接函数标识符名称和圆括号()\n",
    "+ 任何传入参数和自变量必须放在圆括号中间，圆括号之间可以用于定义参数\n",
    "+ 参数传递\n",
    "    + 在python中，类型属于对象，变量是没有类型的。[1,2,3,4]是list类型，‘Runoob’是String类型，变量a没有类型，她仅仅是一个对象的引用（一个指针），可以只想list对象，也可以只想string对象\n",
    "    ```python\n",
    "    a=[1,2,3,4]\n",
    "    a='Runoob'\n",
    "    ```\n",
    "    + 在python中，strings, tuples, numbers是不可更改的对象，list, dict是可更改的对象。\n",
    "    + 参数传递，不可变类型，值传递，不会影响对象本身；可变类型，引用传递，会对对象本身产生影响。python中一切皆对象，我们应该说**传不可变对象和传可变对象**\n",
    "    \n",
    "    \n",
    "+ 必备参数、可选参数、关键字参数等\n",
    "+ 变量的作用域：L(local), E(Enclosing), G(global), B(Built-in),由低到高依次查找\n",
    "\n",
    "+ 匿名函数lambda\n",
    "+ global、local变量\n",
    "+ io\n",
    "    + input, print\n",
    "    + os, rename, remove\n",
    "    + open之后一定要close\n",
    "        + open(file, mode='r', buffering=-1, encoding=None, errors=None, newline=None, closefd=True, opener=None)\n",
    "        + file对象的方法\n",
    "            + read(), readline(), \n",
    "            + close(), flush()刷新文件内部缓冲，直接把内部缓冲区的数据立刻写入文件。\n",
    "            + next(),  seek(offset[,whence]), tell()\n",
    "            + write(str), writeline(seq)\n",
    "            + fileno(), isatty(),truncate([size])"
   ]
  },
  {
   "cell_type": "markdown",
   "metadata": {},
   "source": [
    "+ 迭代器\n",
    "    + iter(), next()\n",
    "    + 使用for遍历\n",
    "    + 创建一个迭代器\n",
    "+ 生成器（generator）\n",
    "    + 使用了yield的函数\n",
    "    + 就是1个迭代器，只能用于迭代操作"
   ]
  },
  {
   "cell_type": "code",
   "execution_count": 4,
   "metadata": {},
   "outputs": [
    {
     "name": "stdout",
     "output_type": "stream",
     "text": [
      "inner： 10\n",
      "outer: 5\n"
     ]
    }
   ],
   "source": [
    "#传不可变对象\n",
    "def changeme(a):\n",
    "    a = 10\n",
    "    print('inner：',a)\n",
    "    return\n",
    "\n",
    "a = 5\n",
    "changeme(mylist)\n",
    "print('outer:',a)"
   ]
  },
  {
   "cell_type": "code",
   "execution_count": 3,
   "metadata": {},
   "outputs": [
    {
     "name": "stdout",
     "output_type": "stream",
     "text": [
      "inner： [10, 20, 30, range(0, 3)]\n",
      "outer: [10, 20, 30, range(0, 3)]\n"
     ]
    }
   ],
   "source": [
    "# 传可变对象\n",
    "def changeme(mylist):\n",
    "    mylist.append(range(3))\n",
    "    print('inner：',mylist)\n",
    "    return\n",
    "\n",
    "mylist = [10,20,30]\n",
    "changeme(mylist)\n",
    "print('outer:',mylist)"
   ]
  },
  {
   "cell_type": "code",
   "execution_count": 38,
   "metadata": {},
   "outputs": [],
   "source": [
    "l = list(range(10))\n",
    "\n",
    "it = iter(l)\n",
    "\n",
    "print(next(it))"
   ]
  },
  {
   "cell_type": "code",
   "execution_count": 41,
   "metadata": {},
   "outputs": [],
   "source": [
    "print(next(it))\n",
    "\n",
    "for x in it:\n",
    "    print(x)"
   ]
  },
  {
   "cell_type": "code",
   "execution_count": 43,
   "metadata": {},
   "outputs": [
    {
     "name": "stdout",
     "output_type": "stream",
     "text": [
      "0\n",
      "1\n",
      "2\n",
      "3\n",
      "4\n",
      "5\n",
      "6\n",
      "7\n",
      "8\n",
      "9\n",
      "10\n"
     ]
    },
    {
     "ename": "SystemExit",
     "evalue": "",
     "output_type": "error",
     "traceback": [
      "An exception has occurred, use %tb to see the full traceback.\n",
      "\u001b[1;31mSystemExit\u001b[0m\n"
     ]
    },
    {
     "name": "stderr",
     "output_type": "stream",
     "text": [
      "e:\\programfiles\\anaconda3\\lib\\site-packages\\IPython\\core\\interactiveshell.py:2918: UserWarning: To exit: use 'exit', 'quit', or Ctrl-D.\n",
      "  warn(\"To exit: use 'exit', 'quit', or Ctrl-D.\", stacklevel=1)\n"
     ]
    }
   ],
   "source": [
    "import sys\n",
    "l = list(range(11))\n",
    "it = iter(l)\n",
    "\n",
    "while True:\n",
    "    try:\n",
    "        print(next(it))\n",
    "    except StopIteration:\n",
    "        sys.exit()"
   ]
  },
  {
   "cell_type": "code",
   "execution_count": 1,
   "metadata": {},
   "outputs": [
    {
     "name": "stdout",
     "output_type": "stream",
     "text": [
      "1\t2\t3\t4\t5\t6\t7\t8\t9\t10\t11\t12\t13\t14\t15\t16\t17\t18\t19\t20\t"
     ]
    }
   ],
   "source": [
    "class MyNumbers:\n",
    "    def __iter__(self):\n",
    "        self.a = 1\n",
    "        return self\n",
    "    \n",
    "    def __next__(self):\n",
    "        if self.a <=20:\n",
    "            x = self.a\n",
    "            self.a += 1\n",
    "            return x\n",
    "        else:\n",
    "            raise StopIteration\n",
    "    \n",
    "    \n",
    "myclass = MyNumbers()\n",
    "myiter = iter(myclass)\n",
    "\n",
    "for x in myiter:\n",
    "    print(x, end='\\t')"
   ]
  },
  {
   "cell_type": "code",
   "execution_count": 50,
   "metadata": {},
   "outputs": [
    {
     "name": "stdout",
     "output_type": "stream",
     "text": [
      "0\t1\t1\t2\t3\t5\t8\t13\t21\t34\t55\t"
     ]
    },
    {
     "ename": "SystemExit",
     "evalue": "",
     "output_type": "error",
     "traceback": [
      "An exception has occurred, use %tb to see the full traceback.\n",
      "\u001b[1;31mSystemExit\u001b[0m\n"
     ]
    },
    {
     "name": "stderr",
     "output_type": "stream",
     "text": [
      "e:\\programfiles\\anaconda3\\lib\\site-packages\\IPython\\core\\interactiveshell.py:2918: UserWarning: To exit: use 'exit', 'quit', or Ctrl-D.\n",
      "  warn(\"To exit: use 'exit', 'quit', or Ctrl-D.\", stacklevel=1)\n"
     ]
    }
   ],
   "source": [
    "import sys\n",
    "\n",
    "def fibonacci(n):\n",
    "    a,b,counter = 0,1,0\n",
    "    while True:\n",
    "        if (counter>n):\n",
    "            return\n",
    "        yield a\n",
    "        a,b=b,a+b\n",
    "        counter += 1\n",
    "\n",
    "f = fibonacci(10)\n",
    "\n",
    "while True:\n",
    "    try:\n",
    "        print(next(f), end='\\t')\n",
    "    except StopIteration:\n",
    "        sys.exit()"
   ]
  },
  {
   "cell_type": "code",
   "execution_count": 29,
   "metadata": {},
   "outputs": [
    {
     "data": {
      "text/plain": [
       "['0', '1', '2', '3', '4', '5', '6', '7', '8', '9']"
      ]
     },
     "execution_count": 29,
     "metadata": {},
     "output_type": "execute_result"
    }
   ],
   "source": [
    "list(map(lambda x: str(x), range(10)))"
   ]
  },
  {
   "cell_type": "code",
   "execution_count": 34,
   "metadata": {},
   "outputs": [
    {
     "data": {
      "text/plain": [
       "362880"
      ]
     },
     "execution_count": 34,
     "metadata": {},
     "output_type": "execute_result"
    }
   ],
   "source": [
    "from functools import reduce\n",
    "reduce(lambda x, y: x*y, range(1,10))"
   ]
  },
  {
   "cell_type": "code",
   "execution_count": 32,
   "metadata": {},
   "outputs": [
    {
     "data": {
      "text/plain": [
       "\u001b[1;31mDocstring:\u001b[0m\n",
       "reduce(function, sequence[, initial]) -> value\n",
       "\n",
       "Apply a function of two arguments cumulatively to the items of a sequence,\n",
       "from left to right, so as to reduce the sequence to a single value.\n",
       "For example, reduce(lambda x, y: x+y, [1, 2, 3, 4, 5]) calculates\n",
       "((((1+2)+3)+4)+5).  If initial is present, it is placed before the items\n",
       "of the sequence in the calculation, and serves as a default when the\n",
       "sequence is empty.\n",
       "\u001b[1;31mType:\u001b[0m      builtin_function_or_method\n"
      ]
     },
     "metadata": {},
     "output_type": "display_data"
    }
   ],
   "source": [
    "?reduce"
   ]
  },
  {
   "cell_type": "code",
   "execution_count": 1,
   "metadata": {},
   "outputs": [
    {
     "name": "stdout",
     "output_type": "stream",
     "text": [
      "无法写入，或找不到\n"
     ]
    }
   ],
   "source": [
    "try:\n",
    "    fp = open('./Python数据分析_炼数/test.md','w')\n",
    "    fp.write('This is test line')\n",
    "except:\n",
    "    print('无法写入，或找不到')"
   ]
  },
  {
   "cell_type": "markdown",
   "metadata": {},
   "source": [
    "### 3.1 模块\n",
    "\n",
    "> 模块是一个车包含所有你定义的函数和变量的文件，后缀名为.py, 模块可以被别的程序引入，以使用该模块中的函数等功能。\n",
    "\n",
    "+ import语句，'import module1[, module2[, module3[,...moduleN]"
   ]
  },
  {
   "cell_type": "code",
   "execution_count": null,
   "metadata": {},
   "outputs": [],
   "source": [
    "# !/usr/bin/python3\n",
    "# Filename:support.py\n",
    "\n",
    "def print_func(par):\n",
    "    print('Hello,', par)\n",
    "    return\n",
    "\n",
    "# !/ur/bin/python3\n",
    "# Filename:test.py\n",
    "\n",
    "import support\n",
    "support.print_func('Runoob')"
   ]
  },
  {
   "cell_type": "markdown",
   "metadata": {},
   "source": [
    "+ 一个模块只会被导入1次，不管执行了多少次import。可以防止导入模块被一遍又一遍地执行\n",
    "+ 使用from...import，不会把导入模块的名称放在当前的字符表中\n",
    "+ 使用import时候的，执行查找顺序：\n",
    "    + 搜索路径，由一系列目录名组成。\n",
    "    + 可以通过定义环境变量来确定搜索路径\n",
    "    + 搜索路径是在Python编译或安装的时候确定的，安装新的库应该也会修改。搜索路径被存储在sys模块中的path变量。\n",
    "+ \\_\\_name\\_\\_属性：一个模块被另一个程序第一次引入是，起主程序将运行。\n",
    "    + 在模块被引入时，可以使用\\_\\_name\\_\\_属性来使该程序块仅在该模块自身运行时执行\n",
    "    + 当\\_\\_name\\_\\_的值是\\_\\_main\\_\\_时，表明模块自身在运行。"
   ]
  },
  {
   "cell_type": "markdown",
   "metadata": {},
   "source": [
    "+ 内置函数dir()，可以找到模块内定义的所有名称，以1个字符串列表的形式返回\n",
    "+ 如果不给定参数，dir会罗列当前定义的所有名称"
   ]
  },
  {
   "cell_type": "code",
   "execution_count": 13,
   "metadata": {},
   "outputs": [
    {
     "name": "stdout",
     "output_type": "stream",
     "text": [
      "['In', 'Out', '_', '_10', '_12', '__', '___', '__builtin__', '__builtins__', '__doc__', '__loader__', '__name__', '__package__', '__spec__', '_dh', '_i', '_i1', '_i10', '_i11', '_i12', '_i13', '_i2', '_i3', '_i4', '_i5', '_i6', '_i7', '_i8', '_i9', '_ih', '_ii', '_iii', '_oh', 'exit', 'get_ipython', 'i', 'os', 'print_func', 'quit', 'sys']\n"
     ]
    }
   ],
   "source": [
    "print(dir(), sep='\\t')"
   ]
  },
  {
   "cell_type": "code",
   "execution_count": 14,
   "metadata": {},
   "outputs": [],
   "source": [
    "a = 5"
   ]
  },
  {
   "cell_type": "code",
   "execution_count": 15,
   "metadata": {},
   "outputs": [
    {
     "name": "stdout",
     "output_type": "stream",
     "text": [
      "['In', 'Out', '_', '_10', '_12', '__', '___', '__builtin__', '__builtins__', '__doc__', '__loader__', '__name__', '__package__', '__spec__', '_dh', '_i', '_i1', '_i10', '_i11', '_i12', '_i13', '_i14', '_i15', '_i2', '_i3', '_i4', '_i5', '_i6', '_i7', '_i8', '_i9', '_ih', '_ii', '_iii', '_oh', 'a', 'exit', 'get_ipython', 'i', 'os', 'print_func', 'quit', 'sys']\n"
     ]
    }
   ],
   "source": [
    "print(dir(), sep='\\t')"
   ]
  },
  {
   "cell_type": "code",
   "execution_count": 11,
   "metadata": {},
   "outputs": [
    {
     "name": "stdout",
     "output_type": "stream",
     "text": [
      "['DirEntry', 'F_OK', 'MutableMapping', 'O_APPEND', 'O_BINARY', 'O_CREAT', 'O_EXCL', 'O_NOINHERIT', 'O_RANDOM', 'O_RDONLY', 'O_RDWR', 'O_SEQUENTIAL', 'O_SHORT_LIVED', 'O_TEMPORARY', 'O_TEXT', 'O_TRUNC', 'O_WRONLY', 'P_DETACH', 'P_NOWAIT', 'P_NOWAITO', 'P_OVERLAY', 'P_WAIT', 'PathLike', 'R_OK', 'SEEK_CUR', 'SEEK_END', 'SEEK_SET', 'TMP_MAX', 'W_OK', 'X_OK', '_Environ', '__all__', '__builtins__', '__cached__', '__doc__', '__file__', '__loader__', '__name__', '__package__', '__spec__', '_execvpe', '_exists', '_exit', '_fspath', '_get_exports_list', '_putenv', '_unsetenv', '_wrap_close', 'abc', 'abort', 'access', 'altsep', 'chdir', 'chmod', 'close', 'closerange', 'cpu_count', 'curdir', 'defpath', 'device_encoding', 'devnull', 'dup', 'dup2', 'environ', 'errno', 'error', 'execl', 'execle', 'execlp', 'execlpe', 'execv', 'execve', 'execvp', 'execvpe', 'extsep', 'fdopen', 'fsdecode', 'fsencode', 'fspath', 'fstat', 'fsync', 'ftruncate', 'get_exec_path', 'get_handle_inheritable', 'get_inheritable', 'get_terminal_size', 'getcwd', 'getcwdb', 'getenv', 'getlogin', 'getpid', 'getppid', 'isatty', 'kill', 'linesep', 'link', 'listdir', 'lseek', 'lstat', 'makedirs', 'mkdir', 'name', 'open', 'pardir', 'path', 'pathsep', 'pipe', 'popen', 'putenv', 'read', 'readlink', 'remove', 'removedirs', 'rename', 'renames', 'replace', 'rmdir', 'scandir', 'sep', 'set_handle_inheritable', 'set_inheritable', 'spawnl', 'spawnle', 'spawnv', 'spawnve', 'st', 'startfile', 'stat', 'stat_float_times', 'stat_result', 'statvfs_result', 'strerror', 'supports_bytes_environ', 'supports_dir_fd', 'supports_effective_ids', 'supports_fd', 'supports_follow_symlinks', 'symlink', 'sys', 'system', 'terminal_size', 'times', 'times_result', 'truncate', 'umask', 'uname_result', 'unlink', 'urandom', 'utime', 'waitpid', 'walk', 'write']\n"
     ]
    }
   ],
   "source": [
    "import os\n",
    "print(dir(os), sep='\\t')"
   ]
  },
  {
   "cell_type": "code",
   "execution_count": 3,
   "metadata": {},
   "outputs": [
    {
     "name": "stdout",
     "output_type": "stream",
     "text": [
      "e:\\programfiles\\anaconda3\\lib\\site-packages\\ipykernel_launcher.py\n",
      "-f\n",
      "C:\\Users\\namsu\\AppData\\Roaming\\jupyter\\runtime\\kernel-0f2d46be-3cbd-4629-82c6-0ea4ab70dee5.json\n"
     ]
    }
   ],
   "source": [
    "# sys.argv包含命令行参数的列表\n",
    "import sys\n",
    "for i in sys.argv:\n",
    "    print(i)"
   ]
  },
  {
   "cell_type": "code",
   "execution_count": 4,
   "metadata": {},
   "outputs": [
    {
     "name": "stdout",
     "output_type": "stream",
     "text": [
      "['', 'e:\\\\programfiles\\\\anaconda3\\\\python36.zip', 'e:\\\\programfiles\\\\anaconda3\\\\DLLs', 'e:\\\\programfiles\\\\anaconda3\\\\lib', 'e:\\\\programfiles\\\\anaconda3', 'e:\\\\programfiles\\\\anaconda3\\\\lib\\\\site-packages', 'e:\\\\programfiles\\\\anaconda3\\\\lib\\\\site-packages\\\\win32', 'e:\\\\programfiles\\\\anaconda3\\\\lib\\\\site-packages\\\\win32\\\\lib', 'e:\\\\programfiles\\\\anaconda3\\\\lib\\\\site-packages\\\\Pythonwin', 'e:\\\\programfiles\\\\anaconda3\\\\lib\\\\site-packages\\\\IPython\\\\extensions', 'C:\\\\Users\\\\namsu\\\\.ipython']\n"
     ]
    }
   ],
   "source": [
    "# 包含Python解释器自动查找所需模块的路径的列表\n",
    "print(sys.path)"
   ]
  },
  {
   "cell_type": "markdown",
   "metadata": {},
   "source": [
    "+ sys.path输出1个列表，其中第1项是空串，表示当前目录，即解释器目录\n",
    "+ 可以在进本中修改sys.path来引入一些不在搜索路径中的模块"
   ]
  },
  {
   "cell_type": "code",
   "execution_count": 9,
   "metadata": {},
   "outputs": [
    {
     "name": "stdout",
     "output_type": "stream",
     "text": [
      "H:\\cmder\\myfiles\\PythonAnalysis\\Jupyter_notebook\\Python数据分析_炼数\n",
      "['.ipynb_checkpoints', 'Python数据分析_炼数.ipynb']\n"
     ]
    }
   ],
   "source": [
    "import os\n",
    "print(os.getcwd(), os.listdir(), sep='\\n')"
   ]
  },
  {
   "cell_type": "markdown",
   "metadata": {},
   "source": [
    "+ 标准模块\n",
    "    + windows下面的winreg\n",
    "    + sys，内置在每一个python解析器中。sys.ps1, sys.ps2定义了主提示符和副提示符所对应的字符串"
   ]
  },
  {
   "cell_type": "code",
   "execution_count": 18,
   "metadata": {},
   "outputs": [
    {
     "name": "stdout",
     "output_type": "stream",
     "text": [
      "In :  ...: \n"
     ]
    }
   ],
   "source": [
    "print(sys.ps1, sys.ps2)"
   ]
  },
  {
   "cell_type": "code",
   "execution_count": 19,
   "metadata": {},
   "outputs": [],
   "source": [
    "sys.ps1='C>'"
   ]
  },
  {
   "cell_type": "code",
   "execution_count": 20,
   "metadata": {},
   "outputs": [
    {
     "name": "stdout",
     "output_type": "stream",
     "text": [
      "Yuck\n"
     ]
    }
   ],
   "source": [
    "print('Yuck')"
   ]
  },
  {
   "cell_type": "code",
   "execution_count": 21,
   "metadata": {},
   "outputs": [
    {
     "name": "stdout",
     "output_type": "stream",
     "text": [
      "C> ...: \n"
     ]
    }
   ],
   "source": [
    "print(sys.ps1, sys.ps2)"
   ]
  },
  {
   "cell_type": "markdown",
   "metadata": {},
   "source": [
    "+ 包\n",
    "\n",
    "> 管理python模块命名空间的形式，采用‘点模块名称’，例如A.B\n",
    "\n",
    "+ 导入1个包，python会根据sys.path中的目录来寻找这个包所包含的子目录\n",
    "+ 目录只有包含1个叫做\\_\\_init\\_\\_.py的文件才会被认作是1个包，初始化文件可以包含一些初始化代码或者为\\_\\_all\\_\\_变量赋值\n",
    "+ 可使用'import.., from..import..'等导入 \n",
    "+ 导入语句遵循：\n",
    "    + 如果报定义文件\\_\\_init\\_\\_.py存在1个叫做\\_\\_all\\_\\_的列表变量，那么在使用from package import \\*的时候，把这个列表中的所有名字作为包内容导入\n",
    "    + 如果没有定义，就只会把'from sound.effects import \\*'中sound.effects和他定义的所有内容导入进来"
   ]
  },
  {
   "cell_type": "code",
   "execution_count": 22,
   "metadata": {},
   "outputs": [],
   "source": [
    "__all__ = ['echo', 'surround', 'reverse']"
   ]
  },
  {
   "cell_type": "code",
   "execution_count": 25,
   "metadata": {},
   "outputs": [
    {
     "data": {
      "text/plain": [
       "'Hello Runoob'"
      ]
     },
     "execution_count": 25,
     "metadata": {},
     "output_type": "execute_result"
    }
   ],
   "source": [
    "s = 'Hello Runoob'\n",
    "str(s)"
   ]
  },
  {
   "cell_type": "code",
   "execution_count": 27,
   "metadata": {},
   "outputs": [
    {
     "data": {
      "text/plain": [
       "\"'Hello Runoob'\""
      ]
     },
     "execution_count": 27,
     "metadata": {},
     "output_type": "execute_result"
    }
   ],
   "source": [
    "# repr可以转移字符串中的特殊字符\n",
    "repr(s)"
   ]
  },
  {
   "cell_type": "code",
   "execution_count": 28,
   "metadata": {},
   "outputs": [
    {
     "name": "stdout",
     "output_type": "stream",
     "text": [
      "'Hello,\\nWorld'\n"
     ]
    }
   ],
   "source": [
    "print(repr('Hello,\\nWorld'))"
   ]
  },
  {
   "cell_type": "code",
   "execution_count": 29,
   "metadata": {},
   "outputs": [
    {
     "name": "stdout",
     "output_type": "stream",
     "text": [
      "Hello,\n",
      "World\n"
     ]
    }
   ],
   "source": [
    "print('Hello,\\nWorld')"
   ]
  },
  {
   "cell_type": "code",
   "execution_count": 31,
   "metadata": {},
   "outputs": [
    {
     "name": "stdout",
     "output_type": "stream",
     "text": [
      "0010461\t  str\tstr  \n"
     ]
    }
   ],
   "source": [
    "print('10461'.zfill(7), 'str'.rjust(5), 'str'.ljust(5), sep='\\t' )"
   ]
  },
  {
   "cell_type": "code",
   "execution_count": 34,
   "metadata": {},
   "outputs": [
    {
     "name": "stdout",
     "output_type": "stream",
     "text": [
      "3.141592653589793\n"
     ]
    }
   ],
   "source": [
    "'''!a(使用ascii()),!s(使用str()),!r(使用repr())用于在格式化\n",
    "某个值之前对其进行转让'''\n",
    "import math\n",
    "print('{!r}'.format(math.pi))"
   ]
  },
  {
   "cell_type": "code",
   "execution_count": 40,
   "metadata": {},
   "outputs": [
    {
     "name": "stdout",
     "output_type": "stream",
     "text": [
      "3.1416\n"
     ]
    }
   ],
   "source": [
    "print('{0:.4f}'.format(math.pi))"
   ]
  },
  {
   "cell_type": "code",
   "execution_count": 43,
   "metadata": {},
   "outputs": [
    {
     "data": {
      "text/plain": [
       "'H:\\\\cmder\\\\myfiles\\\\PythonAnalysis\\\\Jupyter_notebook\\\\Python数据分析_炼数'"
      ]
     },
     "execution_count": 43,
     "metadata": {},
     "output_type": "execute_result"
    }
   ],
   "source": [
    "os.getcwd()"
   ]
  },
  {
   "cell_type": "markdown",
   "metadata": {},
   "source": [
    "# 4 Numpy\n",
    "## 4.1 Numpy数组对象\n",
    "### 4.1.1 ndarray:该对象由两部分组成\n",
    "+ 实际的数据\n",
    "+ 描述这些数据的元数据\n",
    "\n",
    "## 4.2 数组的向量化\n"
   ]
  },
  {
   "cell_type": "code",
   "execution_count": 1,
   "metadata": {},
   "outputs": [
    {
     "data": {
      "text/plain": [
       "array([  0,   2,  12,  36,  80, 150, 252, 392, 576, 810], dtype=int32)"
      ]
     },
     "execution_count": 1,
     "metadata": {},
     "output_type": "execute_result"
    }
   ],
   "source": [
    "import numpy as np\n",
    "a = np.arange(10)**2\n",
    "b = np.arange(10)**3\n",
    "c = a+b\n",
    "c"
   ]
  },
  {
   "cell_type": "code",
   "execution_count": 2,
   "metadata": {},
   "outputs": [],
   "source": [
    "import sys\n",
    "from datetime import datetime"
   ]
  },
  {
   "cell_type": "code",
   "execution_count": 8,
   "metadata": {},
   "outputs": [
    {
     "name": "stdout",
     "output_type": "stream",
     "text": [
      "499500 0\n"
     ]
    }
   ],
   "source": [
    "size = 1000\n",
    "start = datetime.now()\n",
    "d = sum(range(size))\n",
    "delta = datetime.now()-start\n",
    "print(d, delta.microseconds)"
   ]
  },
  {
   "cell_type": "code",
   "execution_count": 9,
   "metadata": {},
   "outputs": [
    {
     "name": "stdout",
     "output_type": "stream",
     "text": [
      "499500 0\n"
     ]
    }
   ],
   "source": [
    "size = 1000\n",
    "start = datetime.now()\n",
    "d = np.sum(range(size))\n",
    "delta = datetime.now()-start\n",
    "print(d, delta.microseconds)"
   ]
  },
  {
   "cell_type": "code",
   "execution_count": 11,
   "metadata": {},
   "outputs": [
    {
     "data": {
      "text/plain": [
       "dtype('int32')"
      ]
     },
     "execution_count": 11,
     "metadata": {},
     "output_type": "execute_result"
    }
   ],
   "source": [
    "a = np.arange(5)\n",
    "a.dtype"
   ]
  },
  {
   "cell_type": "code",
   "execution_count": 14,
   "metadata": {},
   "outputs": [
    {
     "name": "stdout",
     "output_type": "stream",
     "text": [
      "[0 1 2 3 4] 1 (5,) 5\n"
     ]
    }
   ],
   "source": [
    "print(a, a.ndim, a.shape, a.size)"
   ]
  },
  {
   "cell_type": "code",
   "execution_count": 24,
   "metadata": {},
   "outputs": [
    {
     "data": {
      "text/plain": [
       "array([1, 1, 1, 1, 1])"
      ]
     },
     "execution_count": 24,
     "metadata": {},
     "output_type": "execute_result"
    }
   ],
   "source": [
    "np.ones_like(a)"
   ]
  },
  {
   "cell_type": "code",
   "execution_count": 15,
   "metadata": {},
   "outputs": [],
   "source": [
    "b = np.array([np.arange(2), np.arange(2)])"
   ]
  },
  {
   "cell_type": "code",
   "execution_count": 16,
   "metadata": {},
   "outputs": [
    {
     "data": {
      "text/plain": [
       "array([[0, 1],\n",
       "       [0, 1]])"
      ]
     },
     "execution_count": 16,
     "metadata": {},
     "output_type": "execute_result"
    }
   ],
   "source": [
    "b"
   ]
  },
  {
   "cell_type": "code",
   "execution_count": 17,
   "metadata": {},
   "outputs": [
    {
     "data": {
      "text/plain": [
       "array([0., 0., 0., 0., 0., 0., 0., 0., 0., 0.])"
      ]
     },
     "execution_count": 17,
     "metadata": {},
     "output_type": "execute_result"
    }
   ],
   "source": [
    "np.zeros(10)"
   ]
  },
  {
   "cell_type": "code",
   "execution_count": 18,
   "metadata": {},
   "outputs": [
    {
     "data": {
      "text/plain": [
       "array([[0., 0., 0., 0., 0.],\n",
       "       [0., 0., 0., 0., 0.],\n",
       "       [0., 0., 0., 0., 0.],\n",
       "       [0., 0., 0., 0., 0.]])"
      ]
     },
     "execution_count": 18,
     "metadata": {},
     "output_type": "execute_result"
    }
   ],
   "source": [
    "np.zeros((4,5))"
   ]
  },
  {
   "cell_type": "code",
   "execution_count": 19,
   "metadata": {},
   "outputs": [
    {
     "data": {
      "text/plain": [
       "array([1., 1., 1., 1., 1.])"
      ]
     },
     "execution_count": 19,
     "metadata": {},
     "output_type": "execute_result"
    }
   ],
   "source": [
    "np.ones(5,)"
   ]
  },
  {
   "cell_type": "code",
   "execution_count": 21,
   "metadata": {},
   "outputs": [
    {
     "data": {
      "text/plain": [
       "array([[0.00000000e+000, 0.00000000e+000, 0.00000000e+000],\n",
       "       [0.00000000e+000, 0.00000000e+000, 6.38332814e-321],\n",
       "       [9.18824177e-312, 0.00000000e+000, 3.23815565e-319]])"
      ]
     },
     "execution_count": 21,
     "metadata": {},
     "output_type": "execute_result"
    }
   ],
   "source": [
    "np.empty((3,3))"
   ]
  },
  {
   "cell_type": "code",
   "execution_count": 25,
   "metadata": {},
   "outputs": [],
   "source": [
    "e = np.eye(4)"
   ]
  },
  {
   "cell_type": "code",
   "execution_count": 26,
   "metadata": {},
   "outputs": [
    {
     "name": "stdout",
     "output_type": "stream",
     "text": [
      "[[1. 0. 0. 0.]\n",
      " [0. 1. 0. 0.]\n",
      " [0. 0. 1. 0.]\n",
      " [0. 0. 0. 1.]]\n"
     ]
    }
   ],
   "source": [
    "print(e)"
   ]
  },
  {
   "cell_type": "code",
   "execution_count": 27,
   "metadata": {},
   "outputs": [
    {
     "data": {
      "text/plain": [
       "1.0"
      ]
     },
     "execution_count": 27,
     "metadata": {},
     "output_type": "execute_result"
    }
   ],
   "source": [
    "e[1,1]"
   ]
  },
  {
   "cell_type": "code",
   "execution_count": 29,
   "metadata": {},
   "outputs": [
    {
     "data": {
      "text/plain": [
       "dtype('float64')"
      ]
     },
     "execution_count": 29,
     "metadata": {},
     "output_type": "execute_result"
    }
   ],
   "source": [
    "e.dtype"
   ]
  },
  {
   "cell_type": "code",
   "execution_count": 35,
   "metadata": {},
   "outputs": [],
   "source": [
    "f = e.astype(np.int8)"
   ]
  },
  {
   "cell_type": "code",
   "execution_count": 36,
   "metadata": {},
   "outputs": [
    {
     "data": {
      "text/plain": [
       "dtype('int8')"
      ]
     },
     "execution_count": 36,
     "metadata": {},
     "output_type": "execute_result"
    }
   ],
   "source": [
    "f.dtype"
   ]
  },
  {
   "cell_type": "code",
   "execution_count": 37,
   "metadata": {},
   "outputs": [],
   "source": [
    "g = np.array(['True','False','False','True'])"
   ]
  },
  {
   "cell_type": "code",
   "execution_count": 38,
   "metadata": {},
   "outputs": [
    {
     "data": {
      "text/plain": [
       "dtype('<U5')"
      ]
     },
     "execution_count": 38,
     "metadata": {},
     "output_type": "execute_result"
    }
   ],
   "source": [
    "g.dtype"
   ]
  },
  {
   "cell_type": "code",
   "execution_count": 39,
   "metadata": {},
   "outputs": [],
   "source": [
    "g = np.array([True,False,False,True])"
   ]
  },
  {
   "cell_type": "code",
   "execution_count": 40,
   "metadata": {},
   "outputs": [
    {
     "data": {
      "text/plain": [
       "dtype('bool')"
      ]
     },
     "execution_count": 40,
     "metadata": {},
     "output_type": "execute_result"
    }
   ],
   "source": [
    "g.dtype"
   ]
  },
  {
   "cell_type": "code",
   "execution_count": 42,
   "metadata": {},
   "outputs": [
    {
     "data": {
      "text/plain": [
       "1"
      ]
     },
     "execution_count": 42,
     "metadata": {},
     "output_type": "execute_result"
    }
   ],
   "source": [
    "g.dtype.itemsize"
   ]
  },
  {
   "cell_type": "code",
   "execution_count": 44,
   "metadata": {},
   "outputs": [
    {
     "data": {
      "text/plain": [
       "'|'"
      ]
     },
     "execution_count": 44,
     "metadata": {},
     "output_type": "execute_result"
    }
   ],
   "source": [
    "f.dtype.byteorder"
   ]
  },
  {
   "cell_type": "code",
   "execution_count": 45,
   "metadata": {},
   "outputs": [
    {
     "name": "stdout",
     "output_type": "stream",
     "text": [
      "[0. 1. 2. 3. 4. 5. 6.]\n"
     ]
    }
   ],
   "source": [
    "print(np.arange(7, dtype='f'))"
   ]
  },
  {
   "cell_type": "code",
   "execution_count": 48,
   "metadata": {},
   "outputs": [
    {
     "name": "stdout",
     "output_type": "stream",
     "text": [
      "[0.+0.j 1.+0.j 2.+0.j 3.+0.j 4.+0.j 5.+0.j 6.+0.j]\n"
     ]
    }
   ],
   "source": [
    "print(np.arange(7, dtype='D'))"
   ]
  },
  {
   "cell_type": "code",
   "execution_count": 51,
   "metadata": {},
   "outputs": [
    {
     "name": "stdout",
     "output_type": "stream",
     "text": [
      "[0 1 2 3 4 5 6]\n"
     ]
    }
   ],
   "source": [
    "print(np.arange(7, dtype='O'))"
   ]
  },
  {
   "cell_type": "code",
   "execution_count": 54,
   "metadata": {},
   "outputs": [
    {
     "name": "stderr",
     "output_type": "stream",
     "text": [
      "e:\\programfiles\\anaconda3\\lib\\site-packages\\ipykernel_launcher.py:1: DeprecationWarning: Numeric-style type codes are deprecated and will result in an error in the future.\n",
      "  \"\"\"Entry point for launching an IPython kernel.\n"
     ]
    }
   ],
   "source": [
    "t = np.dtype('Float64')"
   ]
  },
  {
   "cell_type": "code",
   "execution_count": 55,
   "metadata": {},
   "outputs": [
    {
     "data": {
      "text/plain": [
       "'d'"
      ]
     },
     "execution_count": 55,
     "metadata": {},
     "output_type": "execute_result"
    }
   ],
   "source": [
    "t.char"
   ]
  },
  {
   "cell_type": "code",
   "execution_count": 56,
   "metadata": {},
   "outputs": [
    {
     "data": {
      "text/plain": [
       "numpy.float64"
      ]
     },
     "execution_count": 56,
     "metadata": {},
     "output_type": "execute_result"
    }
   ],
   "source": [
    "t.type"
   ]
  },
  {
   "cell_type": "code",
   "execution_count": 57,
   "metadata": {},
   "outputs": [
    {
     "data": {
      "text/plain": [
       "'<f8'"
      ]
     },
     "execution_count": 57,
     "metadata": {},
     "output_type": "execute_result"
    }
   ],
   "source": [
    "t.str"
   ]
  },
  {
   "cell_type": "code",
   "execution_count": 63,
   "metadata": {},
   "outputs": [],
   "source": [
    "t = np.dtype([('name', np.str_, 40), ('numitems', np.int32), \n",
    "              ('price', np.float32)])"
   ]
  },
  {
   "cell_type": "code",
   "execution_count": 59,
   "metadata": {},
   "outputs": [
    {
     "name": "stdout",
     "output_type": "stream",
     "text": [
      "[('name', '<U40'), ('numitems', '<i4'), ('price', '<f4')]\n"
     ]
    }
   ],
   "source": [
    "print(t)"
   ]
  },
  {
   "cell_type": "code",
   "execution_count": 64,
   "metadata": {},
   "outputs": [],
   "source": [
    "itmez = np.array([('Meaning of lice DVD', 42, 3.14), \n",
    "                  ('Butter', 13, 2.72)], dtype=t)"
   ]
  },
  {
   "cell_type": "code",
   "execution_count": 62,
   "metadata": {},
   "outputs": [
    {
     "data": {
      "text/plain": [
       "array([('Meaning of lice DVD', 42, 3.14), ('Butter', 13, 2.72)],\n",
       "      dtype=[('name', '<U40'), ('numitems', '<i4'), ('price', '<f4')])"
      ]
     },
     "execution_count": 62,
     "metadata": {},
     "output_type": "execute_result"
    }
   ],
   "source": [
    "itmez"
   ]
  },
  {
   "cell_type": "code",
   "execution_count": 65,
   "metadata": {},
   "outputs": [],
   "source": [
    "s = slice(3,7,2)"
   ]
  },
  {
   "cell_type": "code",
   "execution_count": 67,
   "metadata": {},
   "outputs": [
    {
     "data": {
      "text/plain": [
       "array([[1, 0, 0, 0],\n",
       "       [0, 1, 0, 0],\n",
       "       [0, 0, 1, 0],\n",
       "       [0, 0, 0, 1]], dtype=int8)"
      ]
     },
     "execution_count": 67,
     "metadata": {},
     "output_type": "execute_result"
    }
   ],
   "source": [
    "f"
   ]
  },
  {
   "cell_type": "code",
   "execution_count": 66,
   "metadata": {},
   "outputs": [
    {
     "data": {
      "text/plain": [
       "array([[0, 0, 0, 1]], dtype=int8)"
      ]
     },
     "execution_count": 66,
     "metadata": {},
     "output_type": "execute_result"
    }
   ],
   "source": [
    "f[s]"
   ]
  },
  {
   "cell_type": "code",
   "execution_count": 68,
   "metadata": {},
   "outputs": [
    {
     "data": {
      "text/plain": [
       "array([[1, 0, 0, 0, 0, 1, 0, 0],\n",
       "       [0, 0, 1, 0, 0, 0, 0, 1]], dtype=int8)"
      ]
     },
     "execution_count": 68,
     "metadata": {},
     "output_type": "execute_result"
    }
   ],
   "source": [
    "f.reshape(2,8)"
   ]
  },
  {
   "cell_type": "code",
   "execution_count": 69,
   "metadata": {},
   "outputs": [],
   "source": [
    "h = np.arange(24).reshape(2,3,4)"
   ]
  },
  {
   "cell_type": "code",
   "execution_count": 70,
   "metadata": {},
   "outputs": [
    {
     "data": {
      "text/plain": [
       "array([[[ 0,  1,  2,  3],\n",
       "        [ 4,  5,  6,  7],\n",
       "        [ 8,  9, 10, 11]],\n",
       "\n",
       "       [[12, 13, 14, 15],\n",
       "        [16, 17, 18, 19],\n",
       "        [20, 21, 22, 23]]])"
      ]
     },
     "execution_count": 70,
     "metadata": {},
     "output_type": "execute_result"
    }
   ],
   "source": [
    "h"
   ]
  },
  {
   "cell_type": "code",
   "execution_count": 71,
   "metadata": {},
   "outputs": [
    {
     "data": {
      "text/plain": [
       "array([[ 0,  1,  2,  3],\n",
       "       [ 4,  5,  6,  7],\n",
       "       [ 8,  9, 10, 11]])"
      ]
     },
     "execution_count": 71,
     "metadata": {},
     "output_type": "execute_result"
    }
   ],
   "source": [
    "h[0]"
   ]
  },
  {
   "cell_type": "code",
   "execution_count": 72,
   "metadata": {},
   "outputs": [
    {
     "data": {
      "text/plain": [
       "0"
      ]
     },
     "execution_count": 72,
     "metadata": {},
     "output_type": "execute_result"
    }
   ],
   "source": [
    "h[0,0,0]"
   ]
  },
  {
   "cell_type": "code",
   "execution_count": 73,
   "metadata": {},
   "outputs": [
    {
     "data": {
      "text/plain": [
       "array([[[ 0,  1,  2],\n",
       "        [ 4,  5,  6]],\n",
       "\n",
       "       [[12, 13, 14],\n",
       "        [16, 17, 18]]])"
      ]
     },
     "execution_count": 73,
     "metadata": {},
     "output_type": "execute_result"
    }
   ],
   "source": [
    "h[:,:2,:3]"
   ]
  },
  {
   "cell_type": "code",
   "execution_count": 74,
   "metadata": {},
   "outputs": [
    {
     "data": {
      "text/plain": [
       "array([[ 1,  5,  9],\n",
       "       [13, 17, 21]])"
      ]
     },
     "execution_count": 74,
     "metadata": {},
     "output_type": "execute_result"
    }
   ],
   "source": [
    "h[...,1,]"
   ]
  },
  {
   "cell_type": "code",
   "execution_count": 75,
   "metadata": {},
   "outputs": [
    {
     "data": {
      "text/plain": [
       "array([[[12, 13, 14, 15],\n",
       "        [16, 17, 18, 19],\n",
       "        [20, 21, 22, 23]],\n",
       "\n",
       "       [[ 0,  1,  2,  3],\n",
       "        [ 4,  5,  6,  7],\n",
       "        [ 8,  9, 10, 11]]])"
      ]
     },
     "execution_count": 75,
     "metadata": {},
     "output_type": "execute_result"
    }
   ],
   "source": [
    "h[::-1]"
   ]
  },
  {
   "cell_type": "code",
   "execution_count": 76,
   "metadata": {},
   "outputs": [
    {
     "data": {
      "text/plain": [
       "array([[[23, 22, 21, 20],\n",
       "        [19, 18, 17, 16],\n",
       "        [15, 14, 13, 12]],\n",
       "\n",
       "       [[11, 10,  9,  8],\n",
       "        [ 7,  6,  5,  4],\n",
       "        [ 3,  2,  1,  0]]])"
      ]
     },
     "execution_count": 76,
     "metadata": {},
     "output_type": "execute_result"
    }
   ],
   "source": [
    "h[::-1,::-1,::-1]"
   ]
  },
  {
   "cell_type": "code",
   "execution_count": 79,
   "metadata": {},
   "outputs": [],
   "source": [
    "s = np.array(['lily','suai','ann','lucy'])"
   ]
  },
  {
   "cell_type": "code",
   "execution_count": 80,
   "metadata": {},
   "outputs": [
    {
     "data": {
      "text/plain": [
       "array([False, False, False,  True])"
      ]
     },
     "execution_count": 80,
     "metadata": {},
     "output_type": "execute_result"
    }
   ],
   "source": [
    "s == 'lucy'"
   ]
  },
  {
   "cell_type": "code",
   "execution_count": 83,
   "metadata": {},
   "outputs": [],
   "source": [
    "h = h.reshape(4,6)"
   ]
  },
  {
   "cell_type": "code",
   "execution_count": 85,
   "metadata": {},
   "outputs": [
    {
     "data": {
      "text/plain": [
       "array([[ 6,  7,  8,  9, 10, 11]])"
      ]
     },
     "execution_count": 85,
     "metadata": {},
     "output_type": "execute_result"
    }
   ],
   "source": [
    "h[s=='suai']"
   ]
  },
  {
   "cell_type": "code",
   "execution_count": 89,
   "metadata": {},
   "outputs": [
    {
     "data": {
      "text/plain": [
       "array([[ 2,  3],\n",
       "       [ 8,  9],\n",
       "       [20, 21]])"
      ]
     },
     "execution_count": 89,
     "metadata": {},
     "output_type": "execute_result"
    }
   ],
   "source": [
    "h[~(s=='ann'), 2:4]"
   ]
  },
  {
   "cell_type": "code",
   "execution_count": 92,
   "metadata": {},
   "outputs": [
    {
     "data": {
      "text/plain": [
       "array([[ 0,  1,  2,  3,  4,  5],\n",
       "       [ 6,  7,  8,  9, 10, 11]])"
      ]
     },
     "execution_count": 92,
     "metadata": {},
     "output_type": "execute_result"
    }
   ],
   "source": [
    "h[(s=='lily') | (s=='suai')]"
   ]
  },
  {
   "cell_type": "code",
   "execution_count": 94,
   "metadata": {},
   "outputs": [],
   "source": [
    "arr = np.empty((8,4))"
   ]
  },
  {
   "cell_type": "code",
   "execution_count": 95,
   "metadata": {},
   "outputs": [
    {
     "data": {
      "text/plain": [
       "array([[0., 0., 0., 0.],\n",
       "       [1., 1., 1., 1.],\n",
       "       [2., 2., 2., 2.],\n",
       "       [3., 3., 3., 3.],\n",
       "       [4., 4., 4., 4.],\n",
       "       [5., 5., 5., 5.],\n",
       "       [6., 6., 6., 6.],\n",
       "       [7., 7., 7., 7.]])"
      ]
     },
     "execution_count": 95,
     "metadata": {},
     "output_type": "execute_result"
    }
   ],
   "source": [
    "for i in range(8):\n",
    "    arr[i] = i\n",
    "arr"
   ]
  },
  {
   "cell_type": "code",
   "execution_count": 96,
   "metadata": {},
   "outputs": [
    {
     "data": {
      "text/plain": [
       "array([[4., 4., 4., 4.],\n",
       "       [5., 5., 5., 5.],\n",
       "       [6., 6., 6., 6.],\n",
       "       [3., 3., 3., 3.]])"
      ]
     },
     "execution_count": 96,
     "metadata": {},
     "output_type": "execute_result"
    }
   ],
   "source": [
    "arr[[4,5,6,3]]"
   ]
  },
  {
   "cell_type": "code",
   "execution_count": 97,
   "metadata": {},
   "outputs": [
    {
     "data": {
      "text/plain": [
       "array([[4., 4., 4., 4.],\n",
       "       [3., 3., 3., 3.],\n",
       "       [2., 2., 2., 2.],\n",
       "       [5., 5., 5., 5.]])"
      ]
     },
     "execution_count": 97,
     "metadata": {},
     "output_type": "execute_result"
    }
   ],
   "source": [
    "arr[[-4,-5,-6,-3]]"
   ]
  },
  {
   "cell_type": "code",
   "execution_count": 100,
   "metadata": {},
   "outputs": [
    {
     "data": {
      "text/plain": [
       "array([2., 5., 6.])"
      ]
     },
     "execution_count": 100,
     "metadata": {},
     "output_type": "execute_result"
    }
   ],
   "source": [
    "arr[[2,5,6],[1,3,2]]"
   ]
  },
  {
   "cell_type": "code",
   "execution_count": 102,
   "metadata": {},
   "outputs": [
    {
     "data": {
      "text/plain": [
       "array([[2., 2., 2.],\n",
       "       [5., 5., 5.],\n",
       "       [6., 6., 6.]])"
      ]
     },
     "execution_count": 102,
     "metadata": {},
     "output_type": "execute_result"
    }
   ],
   "source": [
    "arr[[2,5,6]][:,[1,3,2]]"
   ]
  },
  {
   "cell_type": "code",
   "execution_count": 103,
   "metadata": {},
   "outputs": [
    {
     "data": {
      "text/plain": [
       "array([[2., 2., 2.],\n",
       "       [5., 5., 5.],\n",
       "       [6., 6., 6.]])"
      ]
     },
     "execution_count": 103,
     "metadata": {},
     "output_type": "execute_result"
    }
   ],
   "source": [
    "arr[np.ix_([2,5,6],[1,3,2])]"
   ]
  },
  {
   "cell_type": "code",
   "execution_count": 104,
   "metadata": {},
   "outputs": [
    {
     "data": {
      "text/plain": [
       "array([[0., 1., 2., 3., 4., 5., 6., 7.],\n",
       "       [0., 1., 2., 3., 4., 5., 6., 7.],\n",
       "       [0., 1., 2., 3., 4., 5., 6., 7.],\n",
       "       [0., 1., 2., 3., 4., 5., 6., 7.]])"
      ]
     },
     "execution_count": 104,
     "metadata": {},
     "output_type": "execute_result"
    }
   ],
   "source": [
    "arr.T"
   ]
  },
  {
   "cell_type": "code",
   "execution_count": 105,
   "metadata": {},
   "outputs": [
    {
     "data": {
      "text/plain": [
       "array([[140., 140., 140., 140.],\n",
       "       [140., 140., 140., 140.],\n",
       "       [140., 140., 140., 140.],\n",
       "       [140., 140., 140., 140.]])"
      ]
     },
     "execution_count": 105,
     "metadata": {},
     "output_type": "execute_result"
    }
   ],
   "source": [
    "arr.T.dot(arr)"
   ]
  },
  {
   "cell_type": "code",
   "execution_count": 108,
   "metadata": {},
   "outputs": [],
   "source": [
    "arr1 = arr.ravel()"
   ]
  },
  {
   "cell_type": "code",
   "execution_count": 109,
   "metadata": {},
   "outputs": [
    {
     "data": {
      "text/plain": [
       "(32,)"
      ]
     },
     "execution_count": 109,
     "metadata": {},
     "output_type": "execute_result"
    }
   ],
   "source": [
    "arr1.shape"
   ]
  },
  {
   "cell_type": "code",
   "execution_count": 107,
   "metadata": {},
   "outputs": [
    {
     "data": {
      "text/plain": [
       "array([0., 0., 0., 0., 1., 1., 1., 1., 2., 2., 2., 2., 3., 3., 3., 3., 4.,\n",
       "       4., 4., 4., 5., 5., 5., 5., 6., 6., 6., 6., 7., 7., 7., 7.])"
      ]
     },
     "execution_count": 107,
     "metadata": {},
     "output_type": "execute_result"
    }
   ],
   "source": [
    "arr.flatten()"
   ]
  },
  {
   "cell_type": "code",
   "execution_count": 110,
   "metadata": {},
   "outputs": [
    {
     "data": {
      "text/plain": [
       "array([[0., 1., 2., 3., 4., 5., 6., 7.],\n",
       "       [0., 1., 2., 3., 4., 5., 6., 7.],\n",
       "       [0., 1., 2., 3., 4., 5., 6., 7.],\n",
       "       [0., 1., 2., 3., 4., 5., 6., 7.]])"
      ]
     },
     "execution_count": 110,
     "metadata": {},
     "output_type": "execute_result"
    }
   ],
   "source": [
    "arr.transpose()"
   ]
  },
  {
   "cell_type": "code",
   "execution_count": 113,
   "metadata": {},
   "outputs": [],
   "source": [
    "arr.resize((2,16))"
   ]
  },
  {
   "cell_type": "code",
   "execution_count": 114,
   "metadata": {},
   "outputs": [
    {
     "data": {
      "text/plain": [
       "array([[0., 0., 0., 0., 1., 1., 1., 1., 2., 2., 2., 2., 3., 3., 3., 3.],\n",
       "       [4., 4., 4., 4., 5., 5., 5., 5., 6., 6., 6., 6., 7., 7., 7., 7.]])"
      ]
     },
     "execution_count": 114,
     "metadata": {},
     "output_type": "execute_result"
    }
   ],
   "source": [
    "arr"
   ]
  },
  {
   "cell_type": "code",
   "execution_count": 115,
   "metadata": {},
   "outputs": [
    {
     "data": {
      "text/plain": [
       "array([[ True,  True],\n",
       "       [ True,  True],\n",
       "       [ True,  True],\n",
       "       [ True,  True],\n",
       "       [ True,  True],\n",
       "       [ True,  True],\n",
       "       [ True,  True],\n",
       "       [ True,  True],\n",
       "       [ True,  True],\n",
       "       [ True,  True],\n",
       "       [ True,  True],\n",
       "       [ True,  True],\n",
       "       [ True,  True],\n",
       "       [ True,  True],\n",
       "       [ True,  True],\n",
       "       [ True,  True]])"
      ]
     },
     "execution_count": 115,
     "metadata": {},
     "output_type": "execute_result"
    }
   ],
   "source": [
    "arr.T == arr.transpose()"
   ]
  },
  {
   "cell_type": "code",
   "execution_count": 117,
   "metadata": {},
   "outputs": [],
   "source": [
    "b = arr * 2"
   ]
  },
  {
   "cell_type": "code",
   "execution_count": 122,
   "metadata": {},
   "outputs": [
    {
     "name": "stdout",
     "output_type": "stream",
     "text": [
      "[[0. 0. 0. 0. 1. 1. 1. 1. 2. 2. 2. 2. 3. 3. 3. 3.]\n",
      " [4. 4. 4. 4. 5. 5. 5. 5. 6. 6. 6. 6. 7. 7. 7. 7.]]\n",
      "[[ 0.  0.  0.  0.  2.  2.  2.  2.  4.  4.  4.  4.  6.  6.  6.  6.]\n",
      " [ 8.  8.  8.  8. 10. 10. 10. 10. 12. 12. 12. 12. 14. 14. 14. 14.]]\n"
     ]
    }
   ],
   "source": [
    "a = arr\n",
    "print(a, b, sep='\\n')"
   ]
  },
  {
   "cell_type": "code",
   "execution_count": 123,
   "metadata": {},
   "outputs": [
    {
     "name": "stdout",
     "output_type": "stream",
     "text": [
      "[[ 0.  0.  0.  0.  1.  1.  1.  1.  2.  2.  2.  2.  3.  3.  3.  3.  0.  0.\n",
      "   0.  0.  2.  2.  2.  2.  4.  4.  4.  4.  6.  6.  6.  6.]\n",
      " [ 4.  4.  4.  4.  5.  5.  5.  5.  6.  6.  6.  6.  7.  7.  7.  7.  8.  8.\n",
      "   8.  8. 10. 10. 10. 10. 12. 12. 12. 12. 14. 14. 14. 14.]]\n"
     ]
    }
   ],
   "source": [
    "# hstack\n",
    "print(np.hstack((a,b)))"
   ]
  },
  {
   "cell_type": "code",
   "execution_count": 125,
   "metadata": {},
   "outputs": [
    {
     "name": "stdout",
     "output_type": "stream",
     "text": [
      "[[ 0.  0.  0.  0.  1.  1.  1.  1.  2.  2.  2.  2.  3.  3.  3.  3.  0.  0.\n",
      "   0.  0.  2.  2.  2.  2.  4.  4.  4.  4.  6.  6.  6.  6.]\n",
      " [ 4.  4.  4.  4.  5.  5.  5.  5.  6.  6.  6.  6.  7.  7.  7.  7.  8.  8.\n",
      "   8.  8. 10. 10. 10. 10. 12. 12. 12. 12. 14. 14. 14. 14.]]\n"
     ]
    }
   ],
   "source": [
    "# concatenate\n",
    "print(np.concatenate((a,b), axis=1))"
   ]
  },
  {
   "cell_type": "code",
   "execution_count": 126,
   "metadata": {},
   "outputs": [
    {
     "name": "stdout",
     "output_type": "stream",
     "text": [
      "[[ 0.  0.  0.  0.  1.  1.  1.  1.  2.  2.  2.  2.  3.  3.  3.  3.]\n",
      " [ 4.  4.  4.  4.  5.  5.  5.  5.  6.  6.  6.  6.  7.  7.  7.  7.]\n",
      " [ 0.  0.  0.  0.  2.  2.  2.  2.  4.  4.  4.  4.  6.  6.  6.  6.]\n",
      " [ 8.  8.  8.  8. 10. 10. 10. 10. 12. 12. 12. 12. 14. 14. 14. 14.]]\n"
     ]
    }
   ],
   "source": [
    "# concatenate\n",
    "print(np.concatenate((a,b)))"
   ]
  },
  {
   "cell_type": "code",
   "execution_count": 124,
   "metadata": {},
   "outputs": [
    {
     "name": "stdout",
     "output_type": "stream",
     "text": [
      "[[ 0.  0.  0.  0.  1.  1.  1.  1.  2.  2.  2.  2.  3.  3.  3.  3.]\n",
      " [ 4.  4.  4.  4.  5.  5.  5.  5.  6.  6.  6.  6.  7.  7.  7.  7.]\n",
      " [ 0.  0.  0.  0.  2.  2.  2.  2.  4.  4.  4.  4.  6.  6.  6.  6.]\n",
      " [ 8.  8.  8.  8. 10. 10. 10. 10. 12. 12. 12. 12. 14. 14. 14. 14.]]\n"
     ]
    }
   ],
   "source": [
    "# vstack\n",
    "print(np.vstack((a,b)))"
   ]
  },
  {
   "cell_type": "code",
   "execution_count": 127,
   "metadata": {},
   "outputs": [
    {
     "name": "stdout",
     "output_type": "stream",
     "text": [
      "[[[ 0.  0.]\n",
      "  [ 0.  0.]\n",
      "  [ 0.  0.]\n",
      "  [ 0.  0.]\n",
      "  [ 1.  2.]\n",
      "  [ 1.  2.]\n",
      "  [ 1.  2.]\n",
      "  [ 1.  2.]\n",
      "  [ 2.  4.]\n",
      "  [ 2.  4.]\n",
      "  [ 2.  4.]\n",
      "  [ 2.  4.]\n",
      "  [ 3.  6.]\n",
      "  [ 3.  6.]\n",
      "  [ 3.  6.]\n",
      "  [ 3.  6.]]\n",
      "\n",
      " [[ 4.  8.]\n",
      "  [ 4.  8.]\n",
      "  [ 4.  8.]\n",
      "  [ 4.  8.]\n",
      "  [ 5. 10.]\n",
      "  [ 5. 10.]\n",
      "  [ 5. 10.]\n",
      "  [ 5. 10.]\n",
      "  [ 6. 12.]\n",
      "  [ 6. 12.]\n",
      "  [ 6. 12.]\n",
      "  [ 6. 12.]\n",
      "  [ 7. 14.]\n",
      "  [ 7. 14.]\n",
      "  [ 7. 14.]\n",
      "  [ 7. 14.]]]\n"
     ]
    }
   ],
   "source": [
    "print(np.dstack((a,b)))"
   ]
  },
  {
   "cell_type": "code",
   "execution_count": 129,
   "metadata": {},
   "outputs": [
    {
     "data": {
      "text/plain": [
       "False"
      ]
     },
     "execution_count": 129,
     "metadata": {},
     "output_type": "execute_result"
    }
   ],
   "source": [
    "'np.column_stack'=='np.hstack',\n",
    "'np.row_stack'=='np.vastack'"
   ]
  },
  {
   "cell_type": "code",
   "execution_count": 131,
   "metadata": {},
   "outputs": [
    {
     "data": {
      "text/plain": [
       "array([[0., 0., 0., 0., 1., 1., 1., 1., 2., 2., 2., 2., 3., 3., 3., 3.],\n",
       "       [4., 4., 4., 4., 5., 5., 5., 5., 6., 6., 6., 6., 7., 7., 7., 7.]])"
      ]
     },
     "execution_count": 131,
     "metadata": {},
     "output_type": "execute_result"
    }
   ],
   "source": [
    "a"
   ]
  },
  {
   "cell_type": "code",
   "execution_count": 132,
   "metadata": {},
   "outputs": [],
   "source": [
    "a = np.random.randn(9).reshape(3,3)"
   ]
  },
  {
   "cell_type": "code",
   "execution_count": 133,
   "metadata": {},
   "outputs": [
    {
     "data": {
      "text/plain": [
       "array([[ 0.72816244,  1.4814767 , -1.56732361],\n",
       "       [ 1.20279917,  0.08913995,  1.51481978],\n",
       "       [ 2.35100777, -0.32572369, -1.43183938]])"
      ]
     },
     "execution_count": 133,
     "metadata": {},
     "output_type": "execute_result"
    }
   ],
   "source": [
    "a"
   ]
  },
  {
   "cell_type": "code",
   "execution_count": 134,
   "metadata": {},
   "outputs": [
    {
     "name": "stdout",
     "output_type": "stream",
     "text": [
      "[array([[0.72816244],\n",
      "       [1.20279917],\n",
      "       [2.35100777]]), array([[ 1.4814767 ],\n",
      "       [ 0.08913995],\n",
      "       [-0.32572369]]), array([[-1.56732361],\n",
      "       [ 1.51481978],\n",
      "       [-1.43183938]])]\n"
     ]
    }
   ],
   "source": [
    "print(np.hsplit(a,3))"
   ]
  },
  {
   "cell_type": "code",
   "execution_count": 135,
   "metadata": {},
   "outputs": [
    {
     "name": "stdout",
     "output_type": "stream",
     "text": [
      "[array([[0.72816244],\n",
      "       [1.20279917],\n",
      "       [2.35100777]]), array([[ 1.4814767 ],\n",
      "       [ 0.08913995],\n",
      "       [-0.32572369]]), array([[-1.56732361],\n",
      "       [ 1.51481978],\n",
      "       [-1.43183938]])]\n"
     ]
    }
   ],
   "source": [
    "print(np.split(a, 3, axis=1))"
   ]
  },
  {
   "cell_type": "code",
   "execution_count": 137,
   "metadata": {},
   "outputs": [
    {
     "name": "stdout",
     "output_type": "stream",
     "text": [
      "[array([[ 0.72816244,  1.4814767 , -1.56732361]]), array([[1.20279917, 0.08913995, 1.51481978]]), array([[ 2.35100777, -0.32572369, -1.43183938]])]\n"
     ]
    }
   ],
   "source": [
    "print(np.vsplit(a,3))\n",
    "# np.split(a,3,axis=0)"
   ]
  },
  {
   "cell_type": "code",
   "execution_count": 138,
   "metadata": {},
   "outputs": [],
   "source": [
    "b = np.random.randn(36).reshape(3,3,4)"
   ]
  },
  {
   "cell_type": "code",
   "execution_count": 139,
   "metadata": {},
   "outputs": [
    {
     "data": {
      "text/plain": [
       "array([[[-0.05679176, -0.2643335 , -1.31013683,  1.94819824],\n",
       "        [ 0.39964916,  1.15571622, -0.14592663,  0.66168044],\n",
       "        [-1.31056608, -0.91049087, -1.04360394, -0.36298435]],\n",
       "\n",
       "       [[-0.36639286,  0.97757816, -0.54141753, -1.10525813],\n",
       "        [ 0.55336928,  0.42140586,  0.73169849,  1.25100833],\n",
       "        [-1.64975271,  1.01283213,  0.65611581, -0.5481495 ]],\n",
       "\n",
       "       [[ 0.62208675,  0.15516757, -0.8730077 ,  0.83639659],\n",
       "        [ 1.98135857, -0.63980312, -0.43884765,  0.80950132],\n",
       "        [ 0.61430364,  0.85875493,  0.97782188,  0.90470787]]])"
      ]
     },
     "execution_count": 139,
     "metadata": {},
     "output_type": "execute_result"
    }
   ],
   "source": [
    "b"
   ]
  },
  {
   "cell_type": "code",
   "execution_count": 141,
   "metadata": {},
   "outputs": [
    {
     "name": "stdout",
     "output_type": "stream",
     "text": [
      "[array([[[-0.05679176, -0.2643335 ],\n",
      "        [ 0.39964916,  1.15571622],\n",
      "        [-1.31056608, -0.91049087]],\n",
      "\n",
      "       [[-0.36639286,  0.97757816],\n",
      "        [ 0.55336928,  0.42140586],\n",
      "        [-1.64975271,  1.01283213]],\n",
      "\n",
      "       [[ 0.62208675,  0.15516757],\n",
      "        [ 1.98135857, -0.63980312],\n",
      "        [ 0.61430364,  0.85875493]]]), array([[[-1.31013683,  1.94819824],\n",
      "        [-0.14592663,  0.66168044],\n",
      "        [-1.04360394, -0.36298435]],\n",
      "\n",
      "       [[-0.54141753, -1.10525813],\n",
      "        [ 0.73169849,  1.25100833],\n",
      "        [ 0.65611581, -0.5481495 ]],\n",
      "\n",
      "       [[-0.8730077 ,  0.83639659],\n",
      "        [-0.43884765,  0.80950132],\n",
      "        [ 0.97782188,  0.90470787]]])]\n"
     ]
    }
   ],
   "source": [
    "print(np.dsplit(b,2))"
   ]
  },
  {
   "cell_type": "code",
   "execution_count": 142,
   "metadata": {},
   "outputs": [
    {
     "name": "stdout",
     "output_type": "stream",
     "text": [
      "3\n",
      "(3, 3, 4)\n",
      "8\n",
      "288\n"
     ]
    }
   ],
   "source": [
    "print(b.ndim, b.shape, b.itemsize, b.nbytes, sep='\\n')"
   ]
  },
  {
   "cell_type": "code",
   "execution_count": 143,
   "metadata": {},
   "outputs": [],
   "source": [
    "c = np.array([1+2j, 3+5j])"
   ]
  },
  {
   "cell_type": "code",
   "execution_count": 144,
   "metadata": {},
   "outputs": [
    {
     "data": {
      "text/plain": [
       "array([1., 3.])"
      ]
     },
     "execution_count": 144,
     "metadata": {},
     "output_type": "execute_result"
    }
   ],
   "source": [
    "c.real"
   ]
  },
  {
   "cell_type": "code",
   "execution_count": 145,
   "metadata": {},
   "outputs": [
    {
     "data": {
      "text/plain": [
       "array([2., 5.])"
      ]
     },
     "execution_count": 145,
     "metadata": {},
     "output_type": "execute_result"
    }
   ],
   "source": [
    "c.imag"
   ]
  },
  {
   "cell_type": "code",
   "execution_count": 150,
   "metadata": {},
   "outputs": [
    {
     "name": "stdout",
     "output_type": "stream",
     "text": [
      "<numpy.flatiter object at 0x000001B1129658F0>\n"
     ]
    }
   ],
   "source": [
    "print(b.flat)"
   ]
  },
  {
   "cell_type": "code",
   "execution_count": 151,
   "metadata": {},
   "outputs": [
    {
     "data": {
      "text/plain": [
       "[-0.056791764128585054,\n",
       " -0.26433350485826357,\n",
       " -1.3101368268668327,\n",
       " 1.9481982355125074,\n",
       " 0.39964915682271485,\n",
       " 1.1557162175435511,\n",
       " -0.1459266281824304,\n",
       " 0.661680441163703,\n",
       " -1.3105660772780239,\n",
       " -0.9104908702940795,\n",
       " -1.0436039410715547,\n",
       " -0.3629843493391156,\n",
       " -0.36639286032079305,\n",
       " 0.9775781558890008,\n",
       " -0.5414175342211609,\n",
       " -1.1052581319573302,\n",
       " 0.5533692831457057,\n",
       " 0.4214058622234598,\n",
       " 0.7316984924541179,\n",
       " 1.2510083266205652,\n",
       " -1.6497527127688398,\n",
       " 1.012832131547208,\n",
       " 0.6561158072875832,\n",
       " -0.5481494984355443,\n",
       " 0.622086749220537,\n",
       " 0.15516756662109749,\n",
       " -0.8730076979700327,\n",
       " 0.8363965908039626,\n",
       " 1.9813585673218048,\n",
       " -0.6398031195796792,\n",
       " -0.4388476511081683,\n",
       " 0.8095013193665496,\n",
       " 0.6143036412759905,\n",
       " 0.858754933025587,\n",
       " 0.9778218849869222,\n",
       " 0.9047078684446186]"
      ]
     },
     "execution_count": 151,
     "metadata": {},
     "output_type": "execute_result"
    }
   ],
   "source": [
    "list(b.flat)"
   ]
  },
  {
   "cell_type": "code",
   "execution_count": 147,
   "metadata": {},
   "outputs": [
    {
     "data": {
      "text/plain": [
       "-1.3101368268668327"
      ]
     },
     "execution_count": 147,
     "metadata": {},
     "output_type": "execute_result"
    }
   ],
   "source": [
    "b.flat[2]"
   ]
  },
  {
   "cell_type": "code",
   "execution_count": 153,
   "metadata": {},
   "outputs": [
    {
     "data": {
      "text/plain": [
       "array([-0.2643335 , -1.31013683])"
      ]
     },
     "execution_count": 153,
     "metadata": {},
     "output_type": "execute_result"
    }
   ],
   "source": [
    "b.flat[[1,2]]"
   ]
  },
  {
   "cell_type": "code",
   "execution_count": 154,
   "metadata": {},
   "outputs": [
    {
     "data": {
      "text/plain": [
       "array([1.+2.j, 3.+5.j])"
      ]
     },
     "execution_count": 154,
     "metadata": {},
     "output_type": "execute_result"
    }
   ],
   "source": [
    "c"
   ]
  },
  {
   "cell_type": "code",
   "execution_count": 155,
   "metadata": {},
   "outputs": [
    {
     "data": {
      "text/plain": [
       "[(1+2j), (3+5j)]"
      ]
     },
     "execution_count": 155,
     "metadata": {},
     "output_type": "execute_result"
    }
   ],
   "source": [
    "c.tolist()"
   ]
  },
  {
   "cell_type": "code",
   "execution_count": 157,
   "metadata": {},
   "outputs": [
    {
     "data": {
      "text/plain": [
       "b'\\x00\\x00\\x00\\x00\\x00\\x00\\xf0?\\x00\\x00\\x00\\x00\\x00\\x00\\x00@\\x00\\x00\\x00\\x00\\x00\\x00\\x08@\\x00\\x00\\x00\\x00\\x00\\x00\\x14@'"
      ]
     },
     "execution_count": 157,
     "metadata": {},
     "output_type": "execute_result"
    }
   ],
   "source": [
    "c.tostring()"
   ]
  },
  {
   "cell_type": "code",
   "execution_count": 159,
   "metadata": {},
   "outputs": [
    {
     "data": {
      "text/plain": [
       "array([1., 2., 3., 5.])"
      ]
     },
     "execution_count": 159,
     "metadata": {},
     "output_type": "execute_result"
    }
   ],
   "source": [
    "np.frombuffer(c.tostring())"
   ]
  },
  {
   "cell_type": "code",
   "execution_count": 163,
   "metadata": {},
   "outputs": [
    {
     "data": {
      "text/plain": [
       "array([20, 42, 52])"
      ]
     },
     "execution_count": 163,
     "metadata": {},
     "output_type": "execute_result"
    }
   ],
   "source": [
    "np.fromstring('20:42:52', sep=':', dtype=int)"
   ]
  },
  {
   "cell_type": "code",
   "execution_count": 164,
   "metadata": {},
   "outputs": [
    {
     "name": "stdout",
     "output_type": "stream",
     "text": [
      "[1 3]\n"
     ]
    },
    {
     "name": "stderr",
     "output_type": "stream",
     "text": [
      "e:\\programfiles\\anaconda3\\lib\\site-packages\\ipykernel_launcher.py:1: ComplexWarning: Casting complex values to real discards the imaginary part\n",
      "  \"\"\"Entry point for launching an IPython kernel.\n"
     ]
    }
   ],
   "source": [
    "print(c.astype(int))"
   ]
  },
  {
   "cell_type": "code",
   "execution_count": 166,
   "metadata": {},
   "outputs": [
    {
     "name": "stdout",
     "output_type": "stream",
     "text": [
      "[1.+2.j 3.+5.j]\n"
     ]
    }
   ],
   "source": [
    "print(c.astype('complex'))"
   ]
  }
 ],
 "metadata": {
  "kernelspec": {
   "display_name": "Python 3",
   "language": "python",
   "name": "python3"
  },
  "language_info": {
   "codemirror_mode": {
    "name": "ipython",
    "version": 3
   },
   "file_extension": ".py",
   "mimetype": "text/x-python",
   "name": "python",
   "nbconvert_exporter": "python",
   "pygments_lexer": "ipython3",
   "version": "3.6.4"
  },
  "toc": {
   "nav_menu": {},
   "number_sections": true,
   "sideBar": true,
   "skip_h1_title": false,
   "title_cell": "Table of Contents",
   "title_sidebar": "Contents",
   "toc_cell": false,
   "toc_position": {},
   "toc_section_display": true,
   "toc_window_display": false
  }
 },
 "nbformat": 4,
 "nbformat_minor": 2
}
