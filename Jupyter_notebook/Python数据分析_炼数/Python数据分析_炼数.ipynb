{
 "cells": [
  {
   "cell_type": "markdown",
   "metadata": {},
   "source": [
    "# 1. Python简介\n",
    "\n",
    "> 基础部分是来自[菜鸟教程](http://www.runoob.com/python3)\n",
    "\n",
    "## 1.1 Python特点\n",
    "\n",
    "+ 解释型、脚本类、交互式、面向对象、动态数据类型的高级程序设计语言\n",
    "+ Guido van Rossum，1989年底发明，1991发型1st公开版，遵循GPL协议\n",
    "+ 可读性强，初学者友好\n",
    "+ 重要特点\n",
    "    + 易于学习、阅读、维护\n",
    "    + 广泛的标准库、互动模式、可移植、可扩展\n",
    "    + 数据库、GUI编程、可嵌入\n",
    "        \n",
    "## 1.2 重要的Python库\n",
    "+ Numpy（Numerical Python），Python科学计算的基础包\n",
    "+ Pandas，数据框，比R中的DataFrame更加强大\n",
    "+ Mathplotlib, 绘制图表，达到出版的水平\n",
    "+ Scipy，科学计算库，主要是(integrate, linalg, optimize, signal, sparse, special, stats, weave)等包\n",
    "\n",
    "## 1.3 Ipython，交互式的Shell工具\n",
    "+ Python可行计算标准工具集的组成部分，为交互式和探索式计算提供了一个强健而高效的环境\n",
    "+ 类似于Mathematica的Html笔记本\n",
    "+ 给予Qt框架的GUI控制台\n",
    "+ 用于交互式并行和分布式计算的基础框架\n",
    "+ [官网](http://ipython.org/)\n",
    "\n",
    "## 1.4 版本选择，最新的稳定版，至少是python3\n",
    "+ 库的安装\n",
    "+ IDE，pycharm"
   ]
  },
  {
   "cell_type": "markdown",
   "metadata": {},
   "source": [
    "## 1.5 Python基础语法\n",
    "\n",
    "### 1.5.1 基本内容\n",
    "\n",
    "+ 字母、数字、下划线组成，但不能以数字开头。下划线开头有特殊含义\n",
    "\n",
    "+ 保留字\n",
    "\n",
    "+ 其他\n",
    "    + 缩进，一般是4个空格，虽然不强制，但缩进要一致\n",
    "    + 多行语句，除了括号类，用‘\\’进行换行\n",
    "    + 注释，单行使用‘#’，多行使用3个单引号或双引号\n",
    "    \n",
    "+ 变量\n",
    "    + 使用前进行赋值，‘=’\n",
    "    \n",
    "+ 数据类型\n",
    "    + 基本的5种，数字、字符串、列表、元组、字典\n",
    "    + 数字：不可改变，int、long、float、comples\n",
    "    + 字符串：不可改变，可切片，与字符串相加、数字相乘\n",
    "    + 列表：可变，有序，可切片\n",
    "    + 元组：不可变，有序，可切片\n",
    "    + 字典：key-value类型，key需要可hash\n",
    "    \n",
    "+ 类型转换\n",
    "    + 转换成数字：int(x [,base]), long(x[,base]), float(x), complex(read [,[imag])\n",
    "    + 转换成字符串：str(x), repr(x)\n",
    "    + 转换成对象、列表、元组、集合、不可变集合、字典：eval(str),list(s),tuple(s),set(s),frozenset(s),dict(d)\n",
    "    + 转换成字节码、Unicode：chr(x), unichr(x)\n",
    "    + 转换成整数值、十六、八进制：ord(x), hex(x), oct(x)\n",
    "    \n",
    "+ 运算符\n",
    "    + '+, -, *, /, //, %'\n",
    "    + '==, !=, <>, <, <=, >, >='\n",
    "    + '=, +=, -=, *=, /=, //=, %=, **='\n",
    "    + 位运算：'&, |, ^, ~, <<, >>'\n",
    "    + 逻辑运算：'and, or, not'\n",
    "    + 成员运算：str比较，'in, not in'\n",
    "    + 身份运算：'is, is not'\n",
    "    + 优先级：指数、位(~, +(+@), -(-@))、乘除、加减、左右移、位and、位^|、比较、等于、赋值、身份、成员、逻辑， 最好使用括号"
   ]
  },
  {
   "cell_type": "code",
   "execution_count": 2,
   "metadata": {},
   "outputs": [
    {
     "name": "stdout",
     "output_type": "stream",
     "text": [
      "['False', 'None', 'True', 'and', 'as', 'assert', 'break', 'class', 'continue', 'def', 'del', 'elif', 'else', 'except', 'finally', 'for', 'from', 'global', 'if', 'import', 'in', 'is', 'lambda', 'nonlocal', 'not', 'or', 'pass', 'raise', 'return', 'try', 'while', 'with', 'yield']\n"
     ]
    }
   ],
   "source": [
    "# 保留字\n",
    "import keyword\n",
    "print(keyword.kwlist)"
   ]
  },
  {
   "cell_type": "markdown",
   "metadata": {},
   "source": [
    "# 2 Python控制结构\n",
    "## 2.1 条件语句\n",
    "```python\n",
    "if 判断条件: \n",
    "    语句1\n",
    "elif\n",
    "    语句2\n",
    "else\n",
    "    语句3\n",
    "```\n",
    "### 2.2 循环，for和while\n",
    "\n",
    "+ continue，跳过当次循环\n",
    "+ break，终结紧包break的循环"
   ]
  },
  {
   "cell_type": "code",
   "execution_count": 1,
   "metadata": {},
   "outputs": [
    {
     "name": "stdout",
     "output_type": "stream",
     "text": [
      "2\t3\t5\t7\t11\t13\t17\t19\t23\t29\t31\t37\t41\t43\t47\t53\t59\t61\t67\t71\t73\t79\t83\t89\t97\t"
     ]
    }
   ],
   "source": [
    "for i in range(2,100):\n",
    "    for j in range(2, int(i**0.5)+1):\n",
    "        if i%j==0:\n",
    "            break\n",
    "    else:\n",
    "        print(i,end='\\t')"
   ]
  },
  {
   "cell_type": "code",
   "execution_count": 4,
   "metadata": {},
   "outputs": [
    {
     "name": "stdout",
     "output_type": "stream",
     "text": [
      "[2, 3, 5, 7, 11, 13, 17, 19, 23, 29, 31, 37, 41, 43, 47, 53, 59, 61, 67, 71, 73, 79, 83, 89, 97]\n"
     ]
    }
   ],
   "source": [
    "print([i for i in range(2,100) \n",
    "       if 0 not in (i%j for j in range(2, int(i**0.5)+1))])"
   ]
  },
  {
   "cell_type": "markdown",
   "metadata": {},
   "source": [
    "### 2.3 数据函数\n",
    "\n",
    "+ abs(x), fabs(x)\n",
    "+ ceil(x), floor(x), \n",
    "+ log(x), log10(x), exp(x), pow(x,y), sqrt(x) \n",
    "+ max(x1, x2,...), min(x1, x2...)\n",
    "+ modf(x), \n",
    "+ round(x [,n]),\"4舍6入5后非零可进1,5后为0成双\"\n",
    "+ operator,'gt,ge,eq,le,lt'"
   ]
  },
  {
   "cell_type": "code",
   "execution_count": 13,
   "metadata": {},
   "outputs": [
    {
     "name": "stdout",
     "output_type": "stream",
     "text": [
      "True (0.40000000000000036, 5.0)\n"
     ]
    }
   ],
   "source": [
    "import operator as op\n",
    "import math\n",
    "print(op.lt(-4,10), math.modf(5.4))"
   ]
  },
  {
   "cell_type": "code",
   "execution_count": 61,
   "metadata": {},
   "outputs": [
    {
     "name": "stdout",
     "output_type": "stream",
     "text": [
      "1\n",
      "2\n",
      "1.2\n",
      "1.2\n",
      "1.4\n"
     ]
    }
   ],
   "source": [
    "print(round(1.4), round(1.6), round(1.152,1), \n",
    "      round(1.250,1), round(1.350,1), sep='\\n')"
   ]
  },
  {
   "cell_type": "markdown",
   "metadata": {},
   "source": [
    "### 2.4 随机函数\n",
    "#### random\n",
    "+ choice(seq)\n",
    "+ randrange([start,]stop[,step])\n",
    "+ random()\n",
    "+ seed(x)\n",
    "+ shuffle(lst)\n",
    "+ uniform(x,y)\n",
    "+ randint(x,y)\n",
    "+ sample(seq,length)"
   ]
  },
  {
   "cell_type": "code",
   "execution_count": 22,
   "metadata": {},
   "outputs": [
    {
     "name": "stdout",
     "output_type": "stream",
     "text": [
      "8 5\n"
     ]
    }
   ],
   "source": [
    "import random\n",
    "print(random.choice(range(10)), random.randrange(10))"
   ]
  },
  {
   "cell_type": "code",
   "execution_count": 44,
   "metadata": {},
   "outputs": [
    {
     "data": {
      "text/plain": [
       "[9, 1, 4, 23]"
      ]
     },
     "execution_count": 44,
     "metadata": {},
     "output_type": "execute_result"
    }
   ],
   "source": [
    "list = [1,23,4,9] \n",
    "# shuffle的返回值是None\n",
    "random.shuffle(list) \n",
    "list"
   ]
  },
  {
   "cell_type": "code",
   "execution_count": 46,
   "metadata": {},
   "outputs": [
    {
     "data": {
      "text/plain": [
       "12.22781936425191"
      ]
     },
     "execution_count": 46,
     "metadata": {},
     "output_type": "execute_result"
    }
   ],
   "source": [
    "# 前后均闭\n",
    "random.uniform(10,20)"
   ]
  },
  {
   "cell_type": "code",
   "execution_count": 35,
   "metadata": {},
   "outputs": [
    {
     "name": "stdout",
     "output_type": "stream",
     "text": [
      "0.5406491546595898\n"
     ]
    }
   ],
   "source": [
    "print(random.random())"
   ]
  },
  {
   "cell_type": "code",
   "execution_count": 56,
   "metadata": {},
   "outputs": [
    {
     "name": "stdout",
     "output_type": "stream",
     "text": [
      "19\n"
     ]
    }
   ],
   "source": [
    "print(random.randint(10,20))"
   ]
  },
  {
   "cell_type": "code",
   "execution_count": 58,
   "metadata": {},
   "outputs": [
    {
     "data": {
      "text/plain": [
       "'derk'"
      ]
     },
     "execution_count": 58,
     "metadata": {},
     "output_type": "execute_result"
    }
   ],
   "source": [
    "a = 'dkelrklaerkej'\n",
    "l = random.sample(a,4)\n",
    "l = ''.join(l)\n",
    "l"
   ]
  },
  {
   "cell_type": "code",
   "execution_count": 59,
   "metadata": {},
   "outputs": [
    {
     "data": {
      "text/plain": [
       "'dkelrklaerkej'"
      ]
     },
     "execution_count": 59,
     "metadata": {},
     "output_type": "execute_result"
    }
   ],
   "source": [
    "a"
   ]
  },
  {
   "cell_type": "markdown",
   "metadata": {},
   "source": [
    "### 2.5 其他函数\n",
    "\n",
    "+ 三角函数，acos(x), asin(x), atan(x), atan2(y,x), cos(x), hypot(x,y),\n",
    "sin(x), tan(x), degrees(x), randians(x)\n",
    "+ 常量，pi,e\n",
    "\n",
    "### 2.6 字符串 \n",
    "\n",
    "+ 转义，'\\\\'\n",
    "+ 运算，'+, \\*, \\[\\], \\[\\:\\], in, not in, r\\/R, %'\n",
    "+ 格式化\n",
    "+ 三引号，Unicode\n",
    "+ 内建函数\n",
    "    + 性质\n",
    "        + startswith(suffix, beg=0, end=len(string)), endswith(suffix, beg=0, end=len(string))\n",
    "        + 字母、数字、数字、10进制、字母或数字、空格：isalpha(), isdigit(), isnumeric(), isdecimal(), isalnum(), isspace()\n",
    "        + istitle(), isupper(), islower()\n",
    "    + 解码、编码\n",
    "        + bytes.decode(encoding='utf-8', erros='strict')\n",
    "        + encode(encoding='utf-8', erros='strict')\n",
    "    + 规整\n",
    "        + 将tab替换为4空格，expandtabs(tabsize=4) \n",
    "        + strip(), lstrip(), rstrip()\n",
    "        + title(), capitalize(), upper(), lower(), swapcase()\n",
    "    + 对齐\n",
    "        + center(width[, fillchar])\n",
    "        + ljust(width[,fillchar])\n",
    "        + rjust(width[,fillchar])\n",
    "        + zfill(width)，返回长度为width的右对齐的原字符串，填充0\n",
    "    + 查找、替换、计算\n",
    "        + 查找str的开始索引位置：find找不到返回-1，index则抛出异常\n",
    "            + find(str, beg=0, end=len(string))\n",
    "            + rfind(str, beg=0, end=len(string))\n",
    "            + index(str, beg=0, end=len(string))\n",
    "            + rindex(str, beg=0, end=len(string))\n",
    "        + 返回最大,小的字母，max(str), min(str)\n",
    "        + 替换：replace(old, new[, max])\n",
    "        + 计数：count(str, beg=0, end=len(string))\n",
    "        + 切割：\n",
    "            + 截取n个str分割的字符串，split(str='', num=string.count(str))\n",
    "        + 创建映射：\n",
    "            + 创建字符映射的转换表，对于接受两个参数的最简单的调用方式，1st参数是字符串，表示需要转换的字符，2nd参数也是字符串，表示转换的目标：maketrans()\n",
    "            + 根据str给出的表（包含256个字符）转换string的字符，过滤掉的字符放到deletechar参数中：translate(table, deletechars='')\n"
   ]
  },
  {
   "cell_type": "markdown",
   "metadata": {},
   "source": [
    "### 2.7 列表\n",
    "\n",
    "+ 查找、切片\n",
    "+ 元素赋值，=\n",
    "+ 删除，del\n",
    "+ 操作符，len(), max(), min(), list(seq), +, \\*, in, for i in lst\n",
    "+ 嵌套\n",
    "+ 方法\n",
    "    + append(), count(), extend(), index(), insert(index, obj), \n",
    "    pop([index=-1]), remove(obj), reverse(), sort(cmp=None, key=None, reverse=False), clear(), copy()"
   ]
  },
  {
   "cell_type": "markdown",
   "metadata": {},
   "source": [
    "### 2.8 元组\n",
    "\n",
    "+ 查找、切片\n",
    "+ 无法进行元素赋值，=\n",
    "+ 删除整个元组，del\n",
    "+ 操作符，len(), max(), min(), tuple(seq)"
   ]
  },
  {
   "cell_type": "markdown",
   "metadata": {},
   "source": [
    "### 2.9-1 集合\n",
    "\n",
    "+ 创建，空集合set(), {}\n",
    "+ 集合的'|, -, &, ^'\n",
    "+ 不重复\n",
    "+ 操作符，len(), str(), type()\n",
    "+ 方法\n",
    "    + add(), update(), copy(), \n",
    "    + clear(), remove(), discard(), pop(), difference_update(), intersection_update(), symmetric_difference_update()\n",
    "    + union(), differenct(), intersection(), symmetric_difference()\n",
    "    + isdisjoint(), issubset(), issupset(), in, "
   ]
  },
  {
   "cell_type": "markdown",
   "metadata": {},
   "source": [
    "### 2.9-2 字典\n",
    "\n",
    "+ 查找，d['name'], d.get('name', default)\n",
    "+ 元素赋值，d['add']='as'\n",
    "+ 删除，del d['add']\n",
    "+ key不能重复，不可变，不能使用列表，需要可hash\n",
    "+ 操作符，len(), str(), type()\n",
    "+ 方法\n",
    "    + clear(), copy(), fromkeys(sep[,value]), get(key, default=None), setdefault(key, default=None), update(dict2), pop(key[,default]), popitem(), key in dict, items(), keys(), values()"
   ]
  },
  {
   "cell_type": "code",
   "execution_count": 15,
   "metadata": {},
   "outputs": [],
   "source": [
    "d = {'name':'john', 'gender':'M', 'age':20}\n",
    "\n",
    "print(d['name'], d.get('name',0))"
   ]
  },
  {
   "cell_type": "code",
   "execution_count": 17,
   "metadata": {},
   "outputs": [],
   "source": [
    "d['add']='as'\n",
    "\n",
    "d['add']"
   ]
  },
  {
   "cell_type": "code",
   "execution_count": 19,
   "metadata": {},
   "outputs": [],
   "source": [
    "del d['add']\n",
    "\n",
    "d\n",
    "\n",
    "print(len(d), str(d), type(d))"
   ]
  },
  {
   "cell_type": "code",
   "execution_count": 23,
   "metadata": {},
   "outputs": [
    {
     "data": {
      "text/plain": [
       "{'age': 10, 'gender': 10, 'name': 10}"
      ]
     },
     "execution_count": 23,
     "metadata": {},
     "output_type": "execute_result"
    }
   ],
   "source": [
    "seq = ('name','gender','age')\n",
    "e = dict.fromkeys(seq,10)\n",
    "e"
   ]
  },
  {
   "cell_type": "code",
   "execution_count": 24,
   "metadata": {},
   "outputs": [
    {
     "data": {
      "text/plain": [
       "True"
      ]
     },
     "execution_count": 24,
     "metadata": {},
     "output_type": "execute_result"
    }
   ],
   "source": [
    "'name' in e"
   ]
  },
  {
   "cell_type": "code",
   "execution_count": 25,
   "metadata": {},
   "outputs": [],
   "source": [
    "e.setdefault('add', 'shanghai')\n",
    "\n",
    "e"
   ]
  },
  {
   "cell_type": "code",
   "execution_count": 27,
   "metadata": {},
   "outputs": [
    {
     "data": {
      "text/plain": [
       "10"
      ]
     },
     "execution_count": 27,
     "metadata": {},
     "output_type": "execute_result"
    }
   ],
   "source": [
    "e.setdefault('name',20)"
   ]
  },
  {
   "cell_type": "code",
   "execution_count": 28,
   "metadata": {},
   "outputs": [
    {
     "data": {
      "text/plain": [
       "{'add': 'shanghai', 'age': 10, 'gender': 10, 'name': 10}"
      ]
     },
     "execution_count": 28,
     "metadata": {},
     "output_type": "execute_result"
    }
   ],
   "source": [
    "e"
   ]
  },
  {
   "cell_type": "code",
   "execution_count": 1,
   "metadata": {},
   "outputs": [],
   "source": [
    "c = range(10)"
   ]
  },
  {
   "cell_type": "code",
   "execution_count": 2,
   "metadata": {},
   "outputs": [],
   "source": [
    "c=list(c)"
   ]
  },
  {
   "cell_type": "code",
   "execution_count": 3,
   "metadata": {},
   "outputs": [
    {
     "data": {
      "text/plain": [
       "[0, 1, 2, 3, 4, 5, 6, 7, 8, 9]"
      ]
     },
     "execution_count": 3,
     "metadata": {},
     "output_type": "execute_result"
    }
   ],
   "source": [
    "c"
   ]
  },
  {
   "cell_type": "code",
   "execution_count": 4,
   "metadata": {},
   "outputs": [
    {
     "data": {
      "text/plain": [
       "1"
      ]
     },
     "execution_count": 4,
     "metadata": {},
     "output_type": "execute_result"
    }
   ],
   "source": [
    "c.count(1)"
   ]
  },
  {
   "cell_type": "code",
   "execution_count": 53,
   "metadata": {},
   "outputs": [
    {
     "name": "stdout",
     "output_type": "stream",
     "text": [
      "1.0\n",
      "2.23606797749979\n",
      "90.0\n",
      "0.7853981633974483\n"
     ]
    }
   ],
   "source": [
    "import math\n",
    "print(math.sin(math.pi/2), math.hypot(1,2), \n",
    "      math.degrees(math.pi/2),math.radians(45), sep='\\n')"
   ]
  },
  {
   "cell_type": "markdown",
   "metadata": {},
   "source": []
  },
  {
   "cell_type": "markdown",
   "metadata": {},
   "source": [
    "### 2.5 日期与时间\n",
    "+ 时间元组\n",
    "+ import time\n",
    "+ import calendar"
   ]
  },
  {
   "cell_type": "code",
   "execution_count": 62,
   "metadata": {},
   "outputs": [
    {
     "data": {
      "text/plain": [
       "'Mon Sep 24 10:38:09 2018'"
      ]
     },
     "execution_count": 62,
     "metadata": {},
     "output_type": "execute_result"
    }
   ],
   "source": [
    "import time\n",
    "time.ctime()"
   ]
  },
  {
   "cell_type": "code",
   "execution_count": 39,
   "metadata": {},
   "outputs": [
    {
     "data": {
      "text/plain": [
       "1537753092.5256233"
      ]
     },
     "execution_count": 39,
     "metadata": {},
     "output_type": "execute_result"
    }
   ],
   "source": [
    "time.time()"
   ]
  },
  {
   "cell_type": "code",
   "execution_count": 40,
   "metadata": {},
   "outputs": [
    {
     "name": "stdout",
     "output_type": "stream",
     "text": [
      "   September 2018\n",
      "Mo Tu We Th Fr Sa Su\n",
      "                1  2\n",
      " 3  4  5  6  7  8  9\n",
      "10 11 12 13 14 15 16\n",
      "17 18 19 20 21 22 23\n",
      "24 25 26 27 28 29 30\n",
      "\n"
     ]
    }
   ],
   "source": [
    "import calendar\n",
    "print(calendar.month(2018,9))"
   ]
  },
  {
   "cell_type": "markdown",
   "metadata": {},
   "source": [
    "## 3 Python函数\n",
    "+ def开头，后接函数标识符名称和圆括号()\n",
    "+ 任何传入参数和自变量必须放在圆括号中间，圆括号之间可以用于定义参数\n",
    "+ 必备参数、可选参数、命名参数等\n",
    "+ 匿名函数lambda\n",
    "+ global、local变量\n",
    "+ io\n",
    "    + input, print\n",
    "    + os, rename, remove\n",
    "    + open之后一定要close\n",
    "        + open(file, mode='r', buffering=-1, encoding=None, errors=None, newline=None, closefd=True, opener=None)\n",
    "        + file对象的方法\n",
    "            + read(), readline(), \n",
    "            + close(), flush()刷新文件内部缓冲，直接把内部缓冲区的数据立刻写入文件。\n",
    "            + next(),  seek(offset[,whence]), tell()\n",
    "            + write(str), writeline(seq)\n",
    "            + fileno(), isatty(),truncate([size])"
   ]
  },
  {
   "cell_type": "markdown",
   "metadata": {},
   "source": [
    "+ 迭代器\n",
    "    + iter(), next()\n",
    "    + 使用for遍历\n",
    "    + 创建一个迭代器\n",
    "+ 生成器（generator）\n",
    "    + 使用了yield的函数\n",
    "    + 就是1个迭代器，只能用于迭代操作"
   ]
  },
  {
   "cell_type": "code",
   "execution_count": 38,
   "metadata": {},
   "outputs": [],
   "source": [
    "l = list(range(10))\n",
    "\n",
    "it = iter(l)\n",
    "\n",
    "print(next(it))"
   ]
  },
  {
   "cell_type": "code",
   "execution_count": 41,
   "metadata": {},
   "outputs": [],
   "source": [
    "print(next(it))\n",
    "\n",
    "for x in it:\n",
    "    print(x)"
   ]
  },
  {
   "cell_type": "code",
   "execution_count": 43,
   "metadata": {},
   "outputs": [
    {
     "name": "stdout",
     "output_type": "stream",
     "text": [
      "0\n",
      "1\n",
      "2\n",
      "3\n",
      "4\n",
      "5\n",
      "6\n",
      "7\n",
      "8\n",
      "9\n",
      "10\n"
     ]
    },
    {
     "ename": "SystemExit",
     "evalue": "",
     "output_type": "error",
     "traceback": [
      "An exception has occurred, use %tb to see the full traceback.\n",
      "\u001b[1;31mSystemExit\u001b[0m\n"
     ]
    },
    {
     "name": "stderr",
     "output_type": "stream",
     "text": [
      "e:\\programfiles\\anaconda3\\lib\\site-packages\\IPython\\core\\interactiveshell.py:2918: UserWarning: To exit: use 'exit', 'quit', or Ctrl-D.\n",
      "  warn(\"To exit: use 'exit', 'quit', or Ctrl-D.\", stacklevel=1)\n"
     ]
    }
   ],
   "source": [
    "import sys\n",
    "l = list(range(11))\n",
    "it = iter(l)\n",
    "\n",
    "while True:\n",
    "    try:\n",
    "        print(next(it))\n",
    "    except StopIteration:\n",
    "        sys.exit()"
   ]
  },
  {
   "cell_type": "code",
   "execution_count": 49,
   "metadata": {},
   "outputs": [
    {
     "name": "stdout",
     "output_type": "stream",
     "text": [
      "1\t2\t3\t4\t5\t6\t7\t8\t9\t10\t11\t12\t13\t14\t15\t16\t17\t18\t19\t20\t"
     ]
    }
   ],
   "source": [
    "class MyNumbers:\n",
    "    def __iter__(self):\n",
    "        self.a = 1\n",
    "        return self\n",
    "    \n",
    "    def __next__(self):\n",
    "        if self.a <=20:\n",
    "            x = self.a\n",
    "            self.a += 1\n",
    "            return x\n",
    "        else:\n",
    "            raise StopIteration\n",
    "    \n",
    "    \n",
    "myclass = MyNumbers()\n",
    "myiter = iter(myclass)\n",
    "\n",
    "for x in myiter:\n",
    "    print(x, end='\\t')"
   ]
  },
  {
   "cell_type": "code",
   "execution_count": 50,
   "metadata": {},
   "outputs": [
    {
     "name": "stdout",
     "output_type": "stream",
     "text": [
      "0\t1\t1\t2\t3\t5\t8\t13\t21\t34\t55\t"
     ]
    },
    {
     "ename": "SystemExit",
     "evalue": "",
     "output_type": "error",
     "traceback": [
      "An exception has occurred, use %tb to see the full traceback.\n",
      "\u001b[1;31mSystemExit\u001b[0m\n"
     ]
    },
    {
     "name": "stderr",
     "output_type": "stream",
     "text": [
      "e:\\programfiles\\anaconda3\\lib\\site-packages\\IPython\\core\\interactiveshell.py:2918: UserWarning: To exit: use 'exit', 'quit', or Ctrl-D.\n",
      "  warn(\"To exit: use 'exit', 'quit', or Ctrl-D.\", stacklevel=1)\n"
     ]
    }
   ],
   "source": [
    "import sys\n",
    "\n",
    "def fibonacci(n):\n",
    "    a,b,counter = 0,1,0\n",
    "    while True:\n",
    "        if (counter>n):\n",
    "            return\n",
    "        yield a\n",
    "        a,b=b,a+b\n",
    "        counter += 1\n",
    "\n",
    "f = fibonacci(10)\n",
    "\n",
    "while True:\n",
    "    try:\n",
    "        print(next(f), end='\\t')\n",
    "    except StopIteration:\n",
    "        sys.exit()"
   ]
  },
  {
   "cell_type": "code",
   "execution_count": 29,
   "metadata": {},
   "outputs": [
    {
     "data": {
      "text/plain": [
       "['0', '1', '2', '3', '4', '5', '6', '7', '8', '9']"
      ]
     },
     "execution_count": 29,
     "metadata": {},
     "output_type": "execute_result"
    }
   ],
   "source": [
    "list(map(lambda x: str(x), range(10)))"
   ]
  },
  {
   "cell_type": "code",
   "execution_count": 34,
   "metadata": {},
   "outputs": [
    {
     "data": {
      "text/plain": [
       "362880"
      ]
     },
     "execution_count": 34,
     "metadata": {},
     "output_type": "execute_result"
    }
   ],
   "source": [
    "from functools import reduce\n",
    "reduce(lambda x, y: x*y, range(1,10))"
   ]
  },
  {
   "cell_type": "code",
   "execution_count": 32,
   "metadata": {},
   "outputs": [
    {
     "data": {
      "text/plain": [
       "\u001b[1;31mDocstring:\u001b[0m\n",
       "reduce(function, sequence[, initial]) -> value\n",
       "\n",
       "Apply a function of two arguments cumulatively to the items of a sequence,\n",
       "from left to right, so as to reduce the sequence to a single value.\n",
       "For example, reduce(lambda x, y: x+y, [1, 2, 3, 4, 5]) calculates\n",
       "((((1+2)+3)+4)+5).  If initial is present, it is placed before the items\n",
       "of the sequence in the calculation, and serves as a default when the\n",
       "sequence is empty.\n",
       "\u001b[1;31mType:\u001b[0m      builtin_function_or_method\n"
      ]
     },
     "metadata": {},
     "output_type": "display_data"
    }
   ],
   "source": [
    "?reduce"
   ]
  },
  {
   "cell_type": "code",
   "execution_count": 37,
   "metadata": {},
   "outputs": [
    {
     "name": "stdout",
     "output_type": "stream",
     "text": [
      "无法写入，或找不到\n"
     ]
    }
   ],
   "source": [
    "try:\n",
    "    fp = open('./Python数据分析_炼数/test.md','a')\n",
    "    fp.write('This is test line')\n",
    "except:\n",
    "    print('无法写入，或找不到')"
   ]
  }
 ],
 "metadata": {
  "kernelspec": {
   "display_name": "Python 3",
   "language": "python",
   "name": "python3"
  },
  "language_info": {
   "codemirror_mode": {
    "name": "ipython",
    "version": 3
   },
   "file_extension": ".py",
   "mimetype": "text/x-python",
   "name": "python",
   "nbconvert_exporter": "python",
   "pygments_lexer": "ipython3",
   "version": "3.6.4"
  },
  "toc": {
   "nav_menu": {},
   "number_sections": true,
   "sideBar": true,
   "skip_h1_title": false,
   "title_cell": "Table of Contents",
   "title_sidebar": "Contents",
   "toc_cell": false,
   "toc_position": {},
   "toc_section_display": true,
   "toc_window_display": false
  }
 },
 "nbformat": 4,
 "nbformat_minor": 2
}
