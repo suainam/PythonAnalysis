{
 "cells": [
  {
   "cell_type": "code",
   "execution_count": 1,
   "metadata": {},
   "outputs": [
    {
     "data": {
      "text/plain": [
       "[153, 370, 371, 407]"
      ]
     },
     "execution_count": 1,
     "metadata": {},
     "output_type": "execute_result"
    }
   ],
   "source": [
    "#prime number\n",
    "[i for i in range(100,1001) if sum(map(lambda i:int(i)**3,str(i)))==i]"
   ]
  },
  {
   "cell_type": "code",
   "execution_count": 2,
   "metadata": {},
   "outputs": [
    {
     "name": "stdout",
     "output_type": "stream",
     "text": [
      "123,124,132,134,142,143,213,214,231,234,241,243,312,314,321,324,341,342,412,413,421,423,431,432,0.0009999275207519531\n"
     ]
    }
   ],
   "source": [
    "import time \n",
    "start = time.time()\n",
    "\n",
    "digits = (1,2,3,4)\n",
    "for i in digits:\n",
    "    for j in digits:\n",
    "        for k in digits:\n",
    "            if i!=j and j!=k and i!=k:\n",
    "                print(i*100+j*10+k, end=',')   \n",
    "                \n",
    "print(time.time()-start)"
   ]
  },
  {
   "cell_type": "code",
   "execution_count": 3,
   "metadata": {},
   "outputs": [
    {
     "name": "stdout",
     "output_type": "stream",
     "text": [
      "123,124,132,134,142,143,213,214,231,234,241,243,312,314,321,324,341,342,412,413,421,423,431,432,0.0009999275207519531\n"
     ]
    }
   ],
   "source": [
    "import time \n",
    "start = time.time()\n",
    "\n",
    "digits = (1,2,3,4)\n",
    "for i in digits:\n",
    "    for j in digits:\n",
    "        if j == i:\n",
    "            continue\n",
    "        for k in digits:\n",
    "            if k==i or k==j:\n",
    "                continue\n",
    "            print(i*100+j*10+k, end=',')\n",
    "                \n",
    "print(time.time()-start)"
   ]
  },
  {
   "cell_type": "code",
   "execution_count": 4,
   "metadata": {
    "collapsed": true
   },
   "outputs": [],
   "source": [
    "def demo2(data, k=3):\n",
    "    data = set(data)\n",
    "    for i in data:\n",
    "        if i == 0:\n",
    "            continue\n",
    "        ii = i * 100\n",
    "        for j in data -{i}:\n",
    "            jj = j * 10\n",
    "            for k in data - {i,j}:\n",
    "                print(ii+jj+k, end=',')"
   ]
  },
  {
   "cell_type": "code",
   "execution_count": 5,
   "metadata": {
    "scrolled": true
   },
   "outputs": [
    {
     "name": "stdout",
     "output_type": "stream",
     "text": [
      "123,124,132,134,142,143,213,214,231,234,241,243,312,314,321,324,341,342,412,413,421,423,431,432,Wall time: 0 ns\n"
     ]
    }
   ],
   "source": [
    "%time demo2(digits)"
   ]
  },
  {
   "cell_type": "code",
   "execution_count": 6,
   "metadata": {},
   "outputs": [
    {
     "name": "stdout",
     "output_type": "stream",
     "text": [
      "{1, 34, 3, 67, 8, 9, 42, 73, 44, 47, 49, 50, 83, 17, 81, 89, 26, 60, 93, 95}\n",
      "[1, 3, 8, 9, 17, 26, 34, 42, 44, 47, 49, 50, 60, 67, 73, 81, 83, 89, 93, 95]\n"
     ]
    }
   ],
   "source": [
    "from random import randint\n",
    "x = set()\n",
    "while len(x)<20:\n",
    "    x.add(randint(1,100))\n",
    "print(x)\n",
    "print(sorted(x))"
   ]
  },
  {
   "cell_type": "code",
   "execution_count": 7,
   "metadata": {
    "collapsed": true
   },
   "outputs": [],
   "source": [
    "def Cnil1(n,i):\n",
    "    if not(isinstance(n,int) and isinstance(i,int) and n>=i):\n",
    "        print('n and i must be integers and n >= i.')\n",
    "        return\n",
    "    result = 1\n",
    "    Min, Max = sorted((i, n-i))\n",
    "    for i in range(n, 0, -1):\n",
    "        if i>Max:\n",
    "            result *= i\n",
    "        elif i<=Min:\n",
    "            result /= i\n",
    "    return result"
   ]
  },
  {
   "cell_type": "code",
   "execution_count": 8,
   "metadata": {},
   "outputs": [
    {
     "name": "stdout",
     "output_type": "stream",
     "text": [
      "Wall time: 0 ns\n"
     ]
    },
    {
     "data": {
      "text/plain": [
       "56.0"
      ]
     },
     "execution_count": 8,
     "metadata": {},
     "output_type": "execute_result"
    }
   ],
   "source": [
    "%time Cnil1(8,3)"
   ]
  },
  {
   "cell_type": "code",
   "execution_count": 9,
   "metadata": {
    "collapsed": true
   },
   "outputs": [],
   "source": [
    "def Cnil2(n,i):\n",
    "    minNI = min(i,n-i)\n",
    "    result = 1\n",
    "    for j in range(0,minNI):\n",
    "        result *= (n-j)/(j+1)\n",
    "    return result"
   ]
  },
  {
   "cell_type": "code",
   "execution_count": 10,
   "metadata": {
    "scrolled": true
   },
   "outputs": [
    {
     "name": "stdout",
     "output_type": "stream",
     "text": [
      "Wall time: 0 ns\n"
     ]
    },
    {
     "data": {
      "text/plain": [
       "56.0"
      ]
     },
     "execution_count": 10,
     "metadata": {},
     "output_type": "execute_result"
    }
   ],
   "source": [
    "%time Cnil2(8,3)"
   ]
  },
  {
   "cell_type": "code",
   "execution_count": 11,
   "metadata": {
    "collapsed": true
   },
   "outputs": [],
   "source": [
    "def Cnil3(n,i):\n",
    "    minNI = min(i,n-i)\n",
    "    result = 1\n",
    "    for j in range(0,minNI):\n",
    "        result *= (n-j)/(minNI-j)\n",
    "    return result"
   ]
  },
  {
   "cell_type": "code",
   "execution_count": 12,
   "metadata": {
    "scrolled": true
   },
   "outputs": [
    {
     "name": "stdout",
     "output_type": "stream",
     "text": [
      "Wall time: 0 ns\n"
     ]
    },
    {
     "data": {
      "text/plain": [
       "55.99999999999999"
      ]
     },
     "execution_count": 12,
     "metadata": {},
     "output_type": "execute_result"
    }
   ],
   "source": [
    "%time Cnil3(8,3)"
   ]
  },
  {
   "cell_type": "code",
   "execution_count": 13,
   "metadata": {
    "collapsed": true
   },
   "outputs": [],
   "source": [
    "def Cnil4(n,i):\n",
    "    import math\n",
    "    return int(math.factorial(n)/math.factorial(i)/math.factorial(n-i))"
   ]
  },
  {
   "cell_type": "code",
   "execution_count": 14,
   "metadata": {},
   "outputs": [
    {
     "data": {
      "text/plain": [
       "56"
      ]
     },
     "execution_count": 14,
     "metadata": {},
     "output_type": "execute_result"
    }
   ],
   "source": [
    "Cnil4(8,3)"
   ]
  },
  {
   "cell_type": "code",
   "execution_count": 15,
   "metadata": {},
   "outputs": [
    {
     "data": {
      "text/plain": [
       "1770"
      ]
     },
     "execution_count": 15,
     "metadata": {},
     "output_type": "execute_result"
    }
   ],
   "source": [
    "import itertools\n",
    "len(tuple(itertools.combinations(range(60),2)))"
   ]
  },
  {
   "cell_type": "code",
   "execution_count": 16,
   "metadata": {},
   "outputs": [
    {
     "data": {
      "text/plain": [
       "[(1, 2, 3), (1, 3, 2), (2, 1, 3), (2, 3, 1), (3, 1, 2), (3, 2, 1)]"
      ]
     },
     "execution_count": 16,
     "metadata": {},
     "output_type": "execute_result"
    }
   ],
   "source": [
    "list(itertools.permutations(range(1,4),3))"
   ]
  },
  {
   "cell_type": "code",
   "execution_count": 17,
   "metadata": {
    "scrolled": true
   },
   "outputs": [
    {
     "name": "stdout",
     "output_type": "stream",
     "text": [
      "(1, 2)\n",
      "(1, 3)\n",
      "(2, 1)\n",
      "(2, 3)\n",
      "(3, 1)\n",
      "(3, 2)\n"
     ]
    }
   ],
   "source": [
    "import itertools\n",
    "for item in itertools.permutations(range(1,4),2):\n",
    "    print(item)"
   ]
  },
  {
   "cell_type": "code",
   "execution_count": 18,
   "metadata": {},
   "outputs": [
    {
     "data": {
      "text/plain": [
       "['p', 'p', 'p', 'p', 'p']"
      ]
     },
     "execution_count": 18,
     "metadata": {},
     "output_type": "execute_result"
    }
   ],
   "source": [
    "[next(itertools.cycle('python')) for i in range(5)]"
   ]
  },
  {
   "cell_type": "code",
   "execution_count": 19,
   "metadata": {
    "scrolled": true
   },
   "outputs": [
    {
     "name": "stdout",
     "output_type": "stream",
     "text": [
      "p,y,t,h,o,n,p,y,t,h,o,n,p,y,t,h,o,n,p,y,"
     ]
    }
   ],
   "source": [
    "import itertools\n",
    "x = 'python'\n",
    "y = itertools.cycle(x)\n",
    "for i in range(20):\n",
    "    print(next(y), end=',')"
   ]
  },
  {
   "cell_type": "code",
   "execution_count": 20,
   "metadata": {},
   "outputs": [
    {
     "data": {
      "text/plain": [
       "(1, 0, 1, 0, 1, 0, 1, 0, 1, 0, 1, 0, 1, 0, 1, 0, 1, 0, 1)"
      ]
     },
     "execution_count": 20,
     "metadata": {},
     "output_type": "execute_result"
    }
   ],
   "source": [
    "x = range(1,20)\n",
    "y = (1,0)*9+(1,)\n",
    "y"
   ]
  },
  {
   "cell_type": "code",
   "execution_count": 21,
   "metadata": {
    "scrolled": true
   },
   "outputs": [
    {
     "data": {
      "text/plain": [
       "[1, 3, 5, 7, 9, 11, 13, 15, 17, 19]"
      ]
     },
     "execution_count": 21,
     "metadata": {},
     "output_type": "execute_result"
    }
   ],
   "source": [
    "list(itertools.compress(x,y))"
   ]
  },
  {
   "cell_type": "code",
   "execution_count": 22,
   "metadata": {},
   "outputs": [
    {
     "name": "stdout",
     "output_type": "stream",
     "text": [
      "less than 5 : [0, 1, 2, 3, 4]\n",
      "between 5 and 10 : [5, 6, 7, 8, 9, 10]\n",
      "greater than 10 : [11, 12, 13, 14, 15, 16, 17, 18, 19]\n"
     ]
    }
   ],
   "source": [
    "def group(v):\n",
    "    if v>10:\n",
    "        return 'greater than 10'\n",
    "    elif v<5:\n",
    "        return 'less than 5'\n",
    "    else:\n",
    "        return 'between 5 and 10'\n",
    "x = range(20)\n",
    "y = itertools.groupby(x,group)\n",
    "for k,v in y:\n",
    "    print(k,':',list(v))"
   ]
  },
  {
   "cell_type": "markdown",
   "metadata": {},
   "source": [
    "#### 生成器函数\n",
    "+ 包含yield语句的函数可以用来创建生成器对象，这样的函数也称生成器函数\n",
    "+ 每次执行到yield语句会返回一个值，然后暂停或挂起后面代码的执行，下次通过生成器对象的__next__()方法、内置函数next()、for循环遍历生成器对象元素或其他方式显式“索要”数据时恢复执行\n",
    "+ 生成器对象具有“惰性求值”的特点，适合大数据处理"
   ]
  },
  {
   "cell_type": "code",
   "execution_count": 7,
   "metadata": {
    "collapsed": true
   },
   "outputs": [],
   "source": [
    "def f():\n",
    "    a,b = 1,1\n",
    "    while True:\n",
    "        yield a \n",
    "        a,b = b, a+b\n",
    "\n",
    "a = f()"
   ]
  },
  {
   "cell_type": "code",
   "execution_count": 8,
   "metadata": {},
   "outputs": [
    {
     "name": "stdout",
     "output_type": "stream",
     "text": [
      "1,1,2,3,5,8,13,21,34,55,"
     ]
    }
   ],
   "source": [
    "for i in range(10):\n",
    "    print(a.__next__(),end=',')"
   ]
  },
  {
   "cell_type": "code",
   "execution_count": 9,
   "metadata": {},
   "outputs": [
    {
     "name": "stdout",
     "output_type": "stream",
     "text": [
      "144"
     ]
    }
   ],
   "source": [
    "for i in f():\n",
    "    if i > 100:\n",
    "        print(i,end='')\n",
    "        break"
   ]
  },
  {
   "cell_type": "code",
   "execution_count": 10,
   "metadata": {},
   "outputs": [
    {
     "data": {
      "text/plain": [
       "89"
      ]
     },
     "execution_count": 10,
     "metadata": {},
     "output_type": "execute_result"
    }
   ],
   "source": [
    "next(a)"
   ]
  },
  {
   "cell_type": "code",
   "execution_count": 11,
   "metadata": {},
   "outputs": [
    {
     "data": {
      "text/plain": [
       "144"
      ]
     },
     "execution_count": 11,
     "metadata": {},
     "output_type": "execute_result"
    }
   ],
   "source": [
    "next(a)"
   ]
  },
  {
   "cell_type": "code",
   "execution_count": 12,
   "metadata": {},
   "outputs": [
    {
     "data": {
      "text/plain": [
       "233"
      ]
     },
     "execution_count": 12,
     "metadata": {},
     "output_type": "execute_result"
    }
   ],
   "source": [
    "a.__next__()"
   ]
  },
  {
   "cell_type": "code",
   "execution_count": 20,
   "metadata": {
    "collapsed": true
   },
   "outputs": [],
   "source": [
    "def f():\n",
    "    yield from 'abcdfkeroakfje'\n",
    "\n",
    "\n",
    "b = f()"
   ]
  },
  {
   "cell_type": "code",
   "execution_count": 21,
   "metadata": {},
   "outputs": [
    {
     "data": {
      "text/plain": [
       "'a'"
      ]
     },
     "execution_count": 21,
     "metadata": {},
     "output_type": "execute_result"
    }
   ],
   "source": [
    "next(b)"
   ]
  },
  {
   "cell_type": "code",
   "execution_count": 22,
   "metadata": {},
   "outputs": [
    {
     "data": {
      "text/plain": [
       "'b'"
      ]
     },
     "execution_count": 22,
     "metadata": {},
     "output_type": "execute_result"
    }
   ],
   "source": [
    "next(b)"
   ]
  },
  {
   "cell_type": "code",
   "execution_count": 23,
   "metadata": {},
   "outputs": [
    {
     "name": "stdout",
     "output_type": "stream",
     "text": [
      "c d f k e r o a k f j e "
     ]
    }
   ],
   "source": [
    "for i in b:\n",
    "    print(i,end=' ')"
   ]
  },
  {
   "cell_type": "code",
   "execution_count": 24,
   "metadata": {
    "collapsed": true
   },
   "outputs": [],
   "source": [
    "def gen():\n",
    "    yield 1\n",
    "    yield 2\n",
    "    yield 3\n",
    "    \n",
    "x,y,z=gen()"
   ]
  },
  {
   "cell_type": "code",
   "execution_count": 25,
   "metadata": {},
   "outputs": [
    {
     "data": {
      "text/plain": [
       "1"
      ]
     },
     "execution_count": 25,
     "metadata": {},
     "output_type": "execute_result"
    }
   ],
   "source": [
    "x"
   ]
  },
  {
   "cell_type": "code",
   "execution_count": 28,
   "metadata": {},
   "outputs": [
    {
     "name": "stdout",
     "output_type": "stream",
     "text": [
      "4\n",
      "3\n"
     ]
    }
   ],
   "source": [
    "def myReversed(lst):\n",
    "    for item in lst[::-1]:\n",
    "        yield item\n",
    "        \n",
    "\n",
    "lst = range(5) \n",
    "# lst = list(range(5)) 亦可\n",
    "r = myReversed(lst)\n",
    "print(next(r))\n",
    "print(next(r))"
   ]
  },
  {
   "cell_type": "markdown",
   "metadata": {},
   "source": [
    "#### 为随机数生成器\n",
    "+ 伪随机数生成有很多种方法，其中一种是这样的：rNew=(a\\*rOld+b)%(end-start)，然后设置rOld=rNew\n",
    "+ 一般要求用户指定种子rOld，虽然可以自由选择a和b，但是这两个数如果选择不好，会影响数据的随机性"
   ]
  },
  {
   "cell_type": "code",
   "execution_count": 29,
   "metadata": {},
   "outputs": [
    {
     "name": "stdout",
     "output_type": "stream",
     "text": [
      "1729 6671 9057 8995 2786 4632 3067 5840 5022 4708 \n",
      "5861 1803 2470 8789 1509 7540 125 8280 8110 5600 \n",
      "9993 6934 5882 8583 232 449 7182 721 1199 6492 \n",
      "4126 2066 9294 8377 8954 3357 4240 3161 4287 7384 \n",
      "8258 7197 2707 8171 7677 6265 1298 5601 7375 8276 \n",
      "2391 2329 6119 7965 6400 9173 8355 8041 464 9168 \n",
      "6523 7460 9531 7759 5123 2082 5413 482 3552 61 \n",
      "656 2592 2944 7553 3846 4990 2471 2922 6640 953 \n",
      "4788 7723 6356 7347 2569 7898 9528 5362 9728 1845 \n",
      "8920 2855 9768 7141 1292 807 6586 7802 2817 2737 \n",
      "3053 7986 3181 6935 15 3715 3644 243 5905 3629 \n",
      "7185 3118 6593 6729 8737 6623 702 2683 8993 4521 \n",
      "1318 8249 6 6523 7460 9531 7759 5123 2082 5413 \n",
      "5450 3381 3418 6317 6183 2440 4817 7563 5170 6305 \n",
      "9582 8512 6830 6111 4906 5348 1875 4 8258 7197 \n",
      "3715 3644 243 5905 3629 8256 8932 2444 1347 8089 \n",
      "7847 8775 3655 5699 2352 1165 5990 4884 4435 8981 \n",
      "1980 3907 7067 5493 1075 4073 3048 7324 7523 9873 \n",
      "6112 9038 480 5287 9797 6981 106 9764 612 766 \n",
      "245 4170 3892 5081 8520 9889 7163 2205 3700 1658 \n"
     ]
    }
   ],
   "source": [
    "def randint(start, end, seed=999999):\n",
    "    a = 32310901\n",
    "    b = 1729\n",
    "    rOld = seed\n",
    "    m = end - start\n",
    "    while True:\n",
    "        rNew = (a*rOld + b) % m\n",
    "        yield rNew\n",
    "        rOld = rNew\n",
    "        \n",
    "        \n",
    "for _ in range(20):\n",
    "    rnd = randint(1, 10000, _)\n",
    "    for _ in range(10):\n",
    "        print(next(rnd), end=' ')\n",
    "    print()"
   ]
  },
  {
   "cell_type": "markdown",
   "metadata": {},
   "source": [
    "+ 使用dis模块可以查看函数的字节码指令"
   ]
  },
  {
   "cell_type": "code",
   "execution_count": 30,
   "metadata": {},
   "outputs": [
    {
     "name": "stdout",
     "output_type": "stream",
     "text": [
      "  2           0 LOAD_FAST                0 (n)\n",
      "              2 LOAD_CONST               1 (1)\n",
      "              4 INPLACE_ADD\n",
      "              6 STORE_FAST               0 (n)\n",
      "\n",
      "  3           8 LOAD_FAST                0 (n)\n",
      "             10 RETURN_VALUE\n"
     ]
    }
   ],
   "source": [
    "def add(n):\n",
    "    n += 1\n",
    "    return n\n",
    "\n",
    "\n",
    "import dis\n",
    "dis.dis(add)"
   ]
  },
  {
   "cell_type": "raw",
   "metadata": {},
   "source": [
    "?repr"
   ]
  }
 ],
 "metadata": {
  "kernelspec": {
   "display_name": "Python 3",
   "language": "python",
   "name": "python3"
  },
  "language_info": {
   "codemirror_mode": {
    "name": "ipython",
    "version": 3
   },
   "file_extension": ".py",
   "mimetype": "text/x-python",
   "name": "python",
   "nbconvert_exporter": "python",
   "pygments_lexer": "ipython3",
   "version": "3.6.4"
  },
  "toc": {
   "nav_menu": {},
   "number_sections": true,
   "sideBar": true,
   "skip_h1_title": false,
   "title_cell": "Table of Contents",
   "title_sidebar": "Contents",
   "toc_cell": false,
   "toc_position": {},
   "toc_section_display": true,
   "toc_window_display": false
  }
 },
 "nbformat": 4,
 "nbformat_minor": 2
}
