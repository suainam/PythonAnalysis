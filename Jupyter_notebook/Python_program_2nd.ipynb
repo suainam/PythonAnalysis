{
 "cells": [
  {
   "cell_type": "markdown",
   "metadata": {},
   "source": [
    "### charter 3"
   ]
  },
  {
   "cell_type": "code",
   "execution_count": null,
   "metadata": {
    "collapsed": true
   },
   "outputs": [],
   "source": [
    "# To find the perfect cube root\n",
    "x = eval(input('please input an interger:'))\n",
    "ans = 0\n",
    "while pow(ans,3) < abs(x):\n",
    "    ans += 1\n",
    "if pow(ans,3) != abs(x):\n",
    "    print(x,'is not a perfect cube')\n",
    "else:\n",
    "    if x < 0:\n",
    "        ans = -ans\n",
    "    print('Cube root of',x, 'is',ans)"
   ]
  },
  {
   "cell_type": "code",
   "execution_count": null,
   "metadata": {
    "collapsed": true
   },
   "outputs": [],
   "source": [
    "x = 25\n",
    "epsilon = .01\n",
    "step = epsilon**2\n",
    "numGuesses = 0\n",
    "ans = 0\n",
    "while abs(ans**2 - x) >= epsilon and ans<=x:\n",
    "    ans += step\n",
    "    numGuesses +=1\n",
    "print('numGuesses = ', numGuesses)\n",
    "if abs(ans**2 -x) >= epsilon:\n",
    "    print('Failed on square root of ', x)\n",
    "else:\n",
    "    print(ans, 'is close to square root of',x)"
   ]
  },
  {
   "cell_type": "code",
   "execution_count": 8,
   "metadata": {},
   "outputs": [
    {
     "name": "stdout",
     "output_type": "stream",
     "text": [
      "low= 0 high= 25 ans= 12.5\n",
      "low= 0 high= 12.5 ans= 6.25\n",
      "low= 0 high= 6.25 ans= 3.125\n",
      "low= 3.125 high= 6.25 ans= 4.6875\n",
      "low= 4.6875 high= 6.25 ans= 5.46875\n",
      "low= 4.6875 high= 5.46875 ans= 5.078125\n",
      "low= 4.6875 high= 5.078125 ans= 4.8828125\n",
      "low= 4.8828125 high= 5.078125 ans= 4.98046875\n",
      "low= 4.98046875 high= 5.078125 ans= 5.029296875\n",
      "low= 4.98046875 high= 5.029296875 ans= 5.0048828125\n",
      "low= 4.98046875 high= 5.0048828125 ans= 4.99267578125\n",
      "low= 4.99267578125 high= 5.0048828125 ans= 4.998779296875\n",
      "low= 4.998779296875 high= 5.0048828125 ans= 5.0018310546875\n",
      "numGuesses =  13\n",
      "5.00030517578125 is close to square root of 25\n"
     ]
    }
   ],
   "source": [
    "x = 25\n",
    "epsilon = .01\n",
    "numGuesses = low = 0\n",
    "high = max(1,x)\n",
    "ans = (high+low)/2\n",
    "while abs(ans**2 - x) >= epsilon:\n",
    "    print('low=',low, 'high=', high, 'ans=', ans)\n",
    "    numGuesses +=1\n",
    "    if ans**2 < x:\n",
    "        low = ans\n",
    "    else:\n",
    "        high = ans \n",
    "    ans = (high+low)/2\n",
    "    \n",
    "print('numGuesses = ', numGuesses)\n",
    "print(ans, 'is close to square root of',x)"
   ]
  },
  {
   "cell_type": "code",
   "execution_count": 7,
   "metadata": {},
   "outputs": [
    {
     "name": "stdout",
     "output_type": "stream",
     "text": [
      "low= -25 high= 0 ans= -12.5\n",
      "low= -12.5 high= 0 ans= -6.25\n",
      "low= -6.25 high= 0 ans= -3.125\n",
      "low= -6.25 high= -3.125 ans= -4.6875\n",
      "low= -6.25 high= -4.6875 ans= -5.46875\n",
      "low= -5.46875 high= -4.6875 ans= -5.078125\n",
      "low= -5.078125 high= -4.6875 ans= -4.8828125\n",
      "low= -5.078125 high= -4.8828125 ans= -4.98046875\n",
      "low= -5.078125 high= -4.98046875 ans= -5.029296875\n",
      "low= -5.029296875 high= -4.98046875 ans= -5.0048828125\n",
      "low= -5.0048828125 high= -4.98046875 ans= -4.99267578125\n",
      "low= -5.0048828125 high= -4.99267578125 ans= -4.998779296875\n",
      "low= -5.0048828125 high= -4.998779296875 ans= -5.0018310546875\n",
      "numGuesses =  13\n",
      "-5.00030517578125 is close to square root of -25\n"
     ]
    }
   ],
   "source": [
    "x = -25\n",
    "epsilon = .01\n",
    "numGuesses = high = 0\n",
    "low = min(-1,x)\n",
    "ans = (high+low)/2\n",
    "while abs(ans**2 -abs(x)) >= epsilon:\n",
    "    print('low=',low, 'high=', high, 'ans=', ans)\n",
    "    numGuesses +=1\n",
    "    if ans**2 < abs(x):\n",
    "        high = ans\n",
    "    else:\n",
    "        low = ans \n",
    "    ans = (high+low)/2\n",
    "    \n",
    "print('numGuesses = ', numGuesses)\n",
    "print(ans, 'is close to square root of',x)"
   ]
  },
  {
   "cell_type": "code",
   "execution_count": 21,
   "metadata": {},
   "outputs": [
    {
     "name": "stdout",
     "output_type": "stream",
     "text": [
      "-1 is close to square root of -1\n",
      "numGuesses =  0\n",
      "-0.5 is close to square root of -1\n"
     ]
    }
   ],
   "source": [
    "x = -1\n",
    "epsilon = .01\n",
    "numGuesses = low = 0       \n",
    "high = x if abs(x)>1 else (1 if x>=0 else -1)\n",
    "ans = (high+low)/2\n",
    "while True:\n",
    "    if abs(x) ==1:\n",
    "        print('{} is close to square root of {}'.format(-1 if x<0 else 1,x))\n",
    "        break\n",
    "    while abs(ans**3 -abs(x)) >= epsilon:\n",
    "        print('low=',low, 'high=', high, 'ans=', ans)\n",
    "        numGuesses +=1\n",
    "        if ans**3 < abs(x):\n",
    "            low = ans\n",
    "        else:\n",
    "            high = ans \n",
    "        ans = (high+low)/2\n",
    "        break   \n",
    "print('numGuesses = ', numGuesses)\n",
    "print(ans, 'is close to square root of',x)"
   ]
  },
  {
   "cell_type": "code",
   "execution_count": 23,
   "metadata": {},
   "outputs": [
    {
     "name": "stdout",
     "output_type": "stream",
     "text": [
      "0.9999999999999999 is not 1.0\n"
     ]
    }
   ],
   "source": [
    "x = 0\n",
    "for i in range(10):\n",
    "    x += 0.1\n",
    "if x == 1:\n",
    "    print(x,'=1.0')\n",
    "else:\n",
    "    print(x,'is not 1.0')"
   ]
  },
  {
   "cell_type": "code",
   "execution_count": 30,
   "metadata": {
    "collapsed": true
   },
   "outputs": [],
   "source": [
    "import time"
   ]
  },
  {
   "cell_type": "code",
   "execution_count": 31,
   "metadata": {},
   "outputs": [
    {
     "name": "stdout",
     "output_type": "stream",
     "text": [
      "count is 5, square root of 24.0 is about 4.8989887432139305,waste0.00033311808084590666\n"
     ]
    }
   ],
   "source": [
    "start = time.perf_counter()\n",
    "epsilon = 0.01\n",
    "k = 24.0\n",
    "guess = k/2.0\n",
    "count = 1\n",
    "while abs(guess*guess -k) >= epsilon:\n",
    "    guess = guess - (((guess**2)-k)/(2*guess))\n",
    "    count += 1\n",
    "print('count is {}, square root of {} is about {},waste{}'.format(count,k,guess,time.perf_counter()-start))"
   ]
  },
  {
   "cell_type": "code",
   "execution_count": 32,
   "metadata": {},
   "outputs": [
    {
     "name": "stdout",
     "output_type": "stream",
     "text": [
      "count is 54, square root of 24.0 is about 4.8989887432139305, waste0.0006082135450924397\n"
     ]
    }
   ],
   "source": [
    "start = time.perf_counter()\n",
    "epsilon = 0.01\n",
    "k = 24.0\n",
    "low = 0\n",
    "high = k if abs(k) >= 1 else (1 if k>=0 else -1)\n",
    "ans = (high+low)/2\n",
    "count = 1\n",
    "while abs(ans**2 -k) >= epsilon and ans<k:\n",
    "    if ans>0:\n",
    "        low = ans\n",
    "    else:\n",
    "        high = ans\n",
    "    ans = (high+low)/2\n",
    "    count += 1\n",
    "\n",
    "print('count is {}, square root of {} is about {}, waste{}'.format(count,k,guess,time.perf_counter()-start))"
   ]
  },
  {
   "cell_type": "code",
   "execution_count": 34,
   "metadata": {
    "collapsed": true
   },
   "outputs": [],
   "source": [
    "def findRoot(x, power, epsilon):\n",
    "    '''x and epsilon are interger or float, power is interger,\n",
    "    and epsilon is bigger than 0, and power is bigger than 1\n",
    "    if abs of (y**power minus x) smaller than epsilon, float y will be returned\n",
    "    ,else None'''\n",
    "    if x < 0 and power%2 == 0:\n",
    "        return None\n",
    "    low = min(-1,x)\n",
    "    high = max(1,x)\n",
    "    ans = (high + low)/2\n",
    "    while abs(ans**2 -x) >= epsilon:\n",
    "        if ans**power < x:\n",
    "            low = ans\n",
    "        else:\n",
    "            high = ans\n",
    "        ans = (high + low)/2\n",
    "    return ans\n",
    "\n",
    "def testFindRoot():\n",
    "    epsilon = 0.0001\n",
    "    for x in [0.25, -0.25, 1, -1, 8, -1]:\n",
    "        for power in range(1,4):\n",
    "            print('Testing x = {}, and power = {}'.format(str(x), power))\n",
    "            result = findRoot(x, power, epsilon)\n",
    "            if result == None:\n",
    "                print('  No root')\n",
    "            else:\n",
    "                print('  result**power ~= {}'.format(x))"
   ]
  },
  {
   "cell_type": "code",
   "execution_count": null,
   "metadata": {},
   "outputs": [],
   "source": [
    "testFindRoot()"
   ]
  }
 ],
 "metadata": {
  "kernelspec": {
   "display_name": "Python 3",
   "language": "python",
   "name": "python3"
  },
  "language_info": {
   "codemirror_mode": {
    "name": "ipython",
    "version": 3
   },
   "file_extension": ".py",
   "mimetype": "text/x-python",
   "name": "python",
   "nbconvert_exporter": "python",
   "pygments_lexer": "ipython3",
   "version": "3.6.3"
  },
  "toc": {
   "base_numbering": 1,
   "nav_menu": {},
   "number_sections": true,
   "sideBar": true,
   "skip_h1_title": false,
   "title_cell": "Table of Contents",
   "title_sidebar": "Contents",
   "toc_cell": false,
   "toc_position": {},
   "toc_section_display": true,
   "toc_window_display": false
  }
 },
 "nbformat": 4,
 "nbformat_minor": 2
}
