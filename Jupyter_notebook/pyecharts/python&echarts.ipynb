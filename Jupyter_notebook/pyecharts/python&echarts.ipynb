{
 "cells": [
  {
   "cell_type": "code",
   "execution_count": 1,
   "metadata": {
    "collapsed": true
   },
   "outputs": [],
   "source": [
    "import pymysql\n",
    "import numpy as np\n",
    "import pandas as pd\n",
    "import matplotlib.pyplot as plt\n",
    "import pyecharts"
   ]
  },
  {
   "cell_type": "code",
   "execution_count": 2,
   "metadata": {
    "collapsed": true
   },
   "outputs": [],
   "source": [
    "plt.rcParams['font.sans-serif'] = ['SimHei']\n",
    "plt.rcParams['axes.unicode_minus'] = False"
   ]
  },
  {
   "cell_type": "code",
   "execution_count": 3,
   "metadata": {},
   "outputs": [
    {
     "name": "stdout",
     "output_type": "stream",
     "text": [
      "E:\\cmder\\myfiles\\PythonAnalysis\\Jupyter_notebook\\pyecharts\n"
     ]
    }
   ],
   "source": [
    "import os\n",
    "print(os.getcwd())"
   ]
  },
  {
   "cell_type": "code",
   "execution_count": 4,
   "metadata": {},
   "outputs": [
    {
     "name": "stdout",
     "output_type": "stream",
     "text": [
      "None\n",
      "['debug.log', 'demo.twb', 'demo.twb 个文件', 'personal', 'sales.pickle', 'sql汇总.txt', '会员购进明细', '佛山门特', '原始数据', '发至采购的数据', '客流客单对比', '明细.xlsx', '明细分列.xlsx', '月返利数据统计', '每日数据统计', '运营管理部数据', '销售明细.accdb', '销售明细2017.xlsx', '销售明细2018-1.xlsx', '销售明细2018.xlsx']\n"
     ]
    }
   ],
   "source": [
    "print(os.chdir(r'd:\\工具\\test'), os.listdir(), sep='\\n')"
   ]
  },
  {
   "cell_type": "code",
   "execution_count": 5,
   "metadata": {
    "collapsed": true
   },
   "outputs": [],
   "source": [
    "df = pd.read_pickle('./sales.pickle')"
   ]
  },
  {
   "cell_type": "code",
   "execution_count": 6,
   "metadata": {
    "scrolled": true
   },
   "outputs": [
    {
     "name": "stdout",
     "output_type": "stream",
     "text": [
      "     年份  月份                销售时间                   小票号     商品代码           商品名称  \\\n",
      "0  2017   1 2017-01-01 08:24:51  16009001005170000001  1324700  贝伐珠单抗注射液(安维汀)   \n",
      "1  2017   1 2017-01-01 08:33:25  16009101001170000001  2826800          人血白蛋白   \n",
      "2  2017   1 2017-01-01 08:34:36  16009101001170000002  2826800          人血白蛋白   \n",
      "3  2017   1 2017-01-01 08:35:27  16009101001170000003  8724900     一次性使用婴儿护脐包   \n",
      "4  2017   1 2017-01-01 08:36:20  16009101001170000004  2826800          人血白蛋白   \n",
      "\n",
      "              规格   数量   门店名称                                      生产厂家 定价客户  \\\n",
      "0  100mg(4ml)*1瓶  5.0  湛江大药房  Roche Diagnostics GmbH(原:Genentech Inc.)  NaN   \n",
      "1    20%10g/50ml  1.0  佛一大药房                美国Grifols Biologicals Inc.  NaN   \n",
      "2    20%10g/50ml  2.0  佛一大药房                美国Grifols Biologicals Inc.  NaN   \n",
      "3   A型(7cm*42cm)  1.0  佛一大药房                              广州健朗医用科技有限公司  NaN   \n",
      "4    20%10g/50ml  2.0  佛一大药房                美国Grifols Biologicals Inc.  NaN   \n",
      "\n",
      "     含税单价    折让后金额  批次含税进价     毛利率  补差  补差合计   合计毛利额     实际毛利率  \n",
      "0  5298.0  26490.0  4745.0  0.1044 NaN   NaN  2765.0  0.104379  \n",
      "1   430.0    430.0   360.0  0.1628 NaN   NaN    70.0  0.162791  \n",
      "2   430.0    860.0   360.0  0.1628 NaN   NaN   140.0  0.162791  \n",
      "3    33.0     33.0    22.8  0.3091 NaN   NaN    10.2  0.309091  \n",
      "4   430.0    860.0   360.0  0.1628 NaN   NaN   140.0  0.162791                    年份            月份           小票号            数量          含税单价  \\\n",
      "count  1.632701e+06  1.632701e+06  1.632701e+06  1.632701e+06  1.632701e+06   \n",
      "mean   2.017732e+03  6.303447e+00  1.597657e+19  3.294218e+00  3.574266e+02   \n",
      "std    4.427270e-01  3.069047e+00  3.981150e+17  1.776705e+01  1.669986e+03   \n",
      "min    2.017000e+03  1.000000e+00  1.110900e+19 -1.000000e+03  0.000000e+00   \n",
      "25%    2.017000e+03  4.000000e+00  1.600910e+19  1.000000e+00  3.000000e+01   \n",
      "50%    2.018000e+03  6.000000e+00  1.600911e+19  1.000000e+00  6.200000e+01   \n",
      "75%    2.018000e+03  9.000000e+00  1.600911e+19  2.000000e+00  1.980000e+02   \n",
      "max    2.018000e+03  1.200000e+01  1.600940e+19  6.000000e+03  5.900000e+04   \n",
      "\n",
      "              折让后金额        批次含税进价           毛利率            补差          补差合计  \\\n",
      "count  1.632700e+06  1.632701e+06  1.632701e+06  20628.000000  20628.000000   \n",
      "mean   6.308400e+02  3.229972e+02 -7.302882e-01    574.688120    997.705082   \n",
      "std    2.256528e+03  1.623743e+03  6.846060e+02   1851.850254   2291.046183   \n",
      "min   -5.350000e+04  0.000000e+00 -5.050490e+05     -0.010000 -33477.880000   \n",
      "25%    3.980000e+01  2.236000e+01  1.373000e-01     75.750000     75.750000   \n",
      "50%    1.140000e+02  4.876000e+01  1.894000e-01    201.000000    209.380000   \n",
      "75%    4.050000e+02  1.546600e+02  2.464000e-01    214.470000   1072.350000   \n",
      "max    1.110000e+05  5.651788e+04  1.000000e+00  35218.880000  35218.880000   \n",
      "\n",
      "              合计毛利额         实际毛利率  \n",
      "count  1.632694e+06  1.632698e+06  \n",
      "mean   7.531527e+01 -7.098781e-01  \n",
      "std    1.963128e+02  6.709498e+02  \n",
      "min   -1.512335e+04 -4.949740e+05  \n",
      "25%    7.080000e+00  1.375000e-01  \n",
      "50%    2.094000e+01  1.897959e-01  \n",
      "75%    7.000000e+01  2.464286e-01  \n",
      "max    1.211600e+04  1.000000e+00  \n"
     ]
    }
   ],
   "source": [
    "print(df.head(), df.describe())"
   ]
  }
 ],
 "metadata": {
  "kernelspec": {
   "display_name": "Python 3",
   "language": "python",
   "name": "python3"
  },
  "toc": {
   "base_numbering": 1,
   "nav_menu": {},
   "number_sections": true,
   "sideBar": true,
   "skip_h1_title": false,
   "title_cell": "Table of Contents",
   "title_sidebar": "Contents",
   "toc_cell": false,
   "toc_position": {},
   "toc_section_display": true,
   "toc_window_display": false
  }
 },
 "nbformat": 4,
 "nbformat_minor": 2
}
