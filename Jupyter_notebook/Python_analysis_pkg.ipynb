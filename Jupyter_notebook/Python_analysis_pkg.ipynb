{
 "cells": [
  {
   "cell_type": "code",
   "execution_count": 2,
   "metadata": {},
   "outputs": [
    {
     "name": "stdout",
     "output_type": "stream",
     "text": [
      "{'name': 'zs', 'age': 18, 'sex': 'male'}\n"
     ]
    }
   ],
   "source": [
    "dic = {'name':'zs','age':18, 'sex':'male'} # 基础的创建方式\n",
    "print(dic)"
   ]
  },
  {
   "cell_type": "code",
   "execution_count": 3,
   "metadata": {},
   "outputs": [
    {
     "name": "stdout",
     "output_type": "stream",
     "text": [
      "{'zs': 17, 'ls': 20}\n"
     ]
    }
   ],
   "source": [
    "info = [('zs',17),('ls',20)] #通过列表来创建字典\n",
    "dic2 = dict(info)\n",
    "print(dic2)"
   ]
  },
  {
   "cell_type": "code",
   "execution_count": 5,
   "metadata": {},
   "outputs": [
    {
     "name": "stdout",
     "output_type": "stream",
     "text": [
      "{'zs': 19, 'ls': 33}\n"
     ]
    }
   ],
   "source": [
    "dic3 = dict([['zs',19],['ls',33]])\n",
    "print(dic3)"
   ]
  },
  {
   "cell_type": "code",
   "execution_count": 7,
   "metadata": {},
   "outputs": [
    {
     "name": "stdout",
     "output_type": "stream",
     "text": [
      "{'zs': 19, 'ls': 33}\n"
     ]
    }
   ],
   "source": [
    "dic3 = dict([('zs',19),('ls',33)])\n",
    "print(dic3)"
   ]
  },
  {
   "cell_type": "code",
   "execution_count": 8,
   "metadata": {},
   "outputs": [
    {
     "name": "stdout",
     "output_type": "stream",
     "text": [
      "{'zs': 100, 'ls': 20}\n"
     ]
    }
   ],
   "source": [
    "dic4 = dict((('zs',100),('ls',20)))\n",
    "print(dic4)"
   ]
  },
  {
   "cell_type": "code",
   "execution_count": 9,
   "metadata": {},
   "outputs": [
    {
     "name": "stdout",
     "output_type": "stream",
     "text": [
      "{'zs': 3000, 'ls': 3000, 'ww': 3000}\n"
     ]
    }
   ],
   "source": [
    "adict = {}.fromkeys(('zs','ls', 'ww'),3000)\n",
    "print(adict)"
   ]
  },
  {
   "cell_type": "code",
   "execution_count": 10,
   "metadata": {},
   "outputs": [
    {
     "data": {
      "text/plain": [
       "['ls', 'ww', 'zs']"
      ]
     },
     "execution_count": 10,
     "metadata": {},
     "output_type": "execute_result"
    }
   ],
   "source": [
    "sorted(adict)"
   ]
  },
  {
   "cell_type": "code",
   "execution_count": 12,
   "metadata": {},
   "outputs": [
    {
     "data": {
      "text/plain": [
       "{'ls': 400, 'ww': 500, 'zs': 300}"
      ]
     },
     "execution_count": 12,
     "metadata": {},
     "output_type": "execute_result"
    }
   ],
   "source": [
    "name = ['zs', 'ls', 'ww']\n",
    "sal = [300,400,500]\n",
    "dic5 = dict(zip(name,sal))#通过zip函数进行打包\n",
    "dic5"
   ]
  },
  {
   "cell_type": "code",
   "execution_count": 13,
   "metadata": {},
   "outputs": [
    {
     "name": "stdout",
     "output_type": "stream",
     "text": [
      "{'z': 's', 'l': 's', 'w': 'w'}\n"
     ]
    }
   ],
   "source": [
    "a,b = [],[]\n",
    "for i in range(3):\n",
    "    astr=name[i][0]\n",
    "    bstr = name[i][-1]\n",
    "    a.append(astr)\n",
    "    b.append(bstr)\n",
    "    c = dict(zip(a,b))\n",
    "print(c)"
   ]
  },
  {
   "cell_type": "code",
   "execution_count": 18,
   "metadata": {},
   "outputs": [
    {
     "name": "stdout",
     "output_type": "stream",
     "text": [
      "s\n"
     ]
    }
   ],
   "source": [
    "print(c['z'])"
   ]
  },
  {
   "cell_type": "code",
   "execution_count": 20,
   "metadata": {},
   "outputs": [
    {
     "data": {
      "text/plain": [
       "{'l': 's', 'w': 'w'}"
      ]
     },
     "execution_count": 20,
     "metadata": {},
     "output_type": "execute_result"
    }
   ],
   "source": [
    "del c['z']\n",
    "c"
   ]
  },
  {
   "cell_type": "code",
   "execution_count": 22,
   "metadata": {},
   "outputs": [
    {
     "data": {
      "text/plain": [
       "{'l': 's', 'w': 'w', 'zl': 1000}"
      ]
     },
     "execution_count": 22,
     "metadata": {},
     "output_type": "execute_result"
    }
   ],
   "source": [
    "c['zl'] = 1000\n",
    "c"
   ]
  },
  {
   "cell_type": "code",
   "execution_count": 23,
   "metadata": {},
   "outputs": [
    {
     "data": {
      "text/plain": [
       "True"
      ]
     },
     "execution_count": 23,
     "metadata": {},
     "output_type": "execute_result"
    }
   ],
   "source": [
    "'zl' in c"
   ]
  },
  {
   "cell_type": "code",
   "execution_count": 27,
   "metadata": {},
   "outputs": [
    {
     "data": {
      "text/plain": [
       "-6768998109186362630"
      ]
     },
     "execution_count": 27,
     "metadata": {},
     "output_type": "execute_result"
    }
   ],
   "source": [
    "hash('zs')"
   ]
  },
  {
   "cell_type": "code",
   "execution_count": 28,
   "metadata": {},
   "outputs": [
    {
     "data": {
      "text/plain": [
       "18"
      ]
     },
     "execution_count": 28,
     "metadata": {},
     "output_type": "execute_result"
    }
   ],
   "source": [
    "hash(18)"
   ]
  },
  {
   "cell_type": "code",
   "execution_count": 29,
   "metadata": {},
   "outputs": [
    {
     "data": {
      "text/plain": [
       "3"
      ]
     },
     "execution_count": 29,
     "metadata": {},
     "output_type": "execute_result"
    }
   ],
   "source": [
    "len(c)"
   ]
  },
  {
   "cell_type": "code",
   "execution_count": 31,
   "metadata": {
    "scrolled": false
   },
   "outputs": [
    {
     "data": {
      "text/plain": [
       "['__class__',\n",
       " '__contains__',\n",
       " '__delattr__',\n",
       " '__delitem__',\n",
       " '__dir__',\n",
       " '__doc__',\n",
       " '__eq__',\n",
       " '__format__',\n",
       " '__ge__',\n",
       " '__getattribute__',\n",
       " '__getitem__',\n",
       " '__gt__',\n",
       " '__hash__',\n",
       " '__init__',\n",
       " '__init_subclass__',\n",
       " '__iter__',\n",
       " '__le__',\n",
       " '__len__',\n",
       " '__lt__',\n",
       " '__ne__',\n",
       " '__new__',\n",
       " '__reduce__',\n",
       " '__reduce_ex__',\n",
       " '__repr__',\n",
       " '__setattr__',\n",
       " '__setitem__',\n",
       " '__sizeof__',\n",
       " '__str__',\n",
       " '__subclasshook__',\n",
       " 'clear',\n",
       " 'copy',\n",
       " 'fromkeys',\n",
       " 'get',\n",
       " 'items',\n",
       " 'keys',\n",
       " 'pop',\n",
       " 'popitem',\n",
       " 'setdefault',\n",
       " 'update',\n",
       " 'values']"
      ]
     },
     "execution_count": 31,
     "metadata": {},
     "output_type": "execute_result"
    }
   ],
   "source": [
    "list(dir(c))"
   ]
  },
  {
   "cell_type": "code",
   "execution_count": 40,
   "metadata": {},
   "outputs": [
    {
     "name": "stdout",
     "output_type": "stream",
     "text": [
      "{'l': 's', 'w': 'w', 'zl': 1000}\n"
     ]
    }
   ],
   "source": [
    "print(c)"
   ]
  },
  {
   "cell_type": "code",
   "execution_count": 41,
   "metadata": {},
   "outputs": [
    {
     "data": {
      "text/plain": [
       "'s'"
      ]
     },
     "execution_count": 41,
     "metadata": {},
     "output_type": "execute_result"
    }
   ],
   "source": [
    "c.get('l')"
   ]
  },
  {
   "cell_type": "code",
   "execution_count": 44,
   "metadata": {},
   "outputs": [
    {
     "data": {
      "text/plain": [
       "{}"
      ]
     },
     "execution_count": 44,
     "metadata": {},
     "output_type": "execute_result"
    }
   ],
   "source": [
    "d = c\n",
    "d.clear()\n",
    "d\n",
    "c"
   ]
  },
  {
   "cell_type": "code",
   "execution_count": 46,
   "metadata": {},
   "outputs": [
    {
     "data": {
      "text/plain": [
       "dict_keys([])"
      ]
     },
     "execution_count": 46,
     "metadata": {},
     "output_type": "execute_result"
    }
   ],
   "source": [
    "c.keys()"
   ]
  },
  {
   "cell_type": "code",
   "execution_count": 47,
   "metadata": {},
   "outputs": [
    {
     "name": "stdout",
     "output_type": "stream",
     "text": [
      "{'a': 100, 'b': 1000, 'c': 20}\n"
     ]
    }
   ],
   "source": [
    "a = ['a','b','c']\n",
    "b = [100,1000,20]\n",
    "c = dict(zip(a,b))\n",
    "print(c)"
   ]
  },
  {
   "cell_type": "code",
   "execution_count": 48,
   "metadata": {},
   "outputs": [
    {
     "name": "stdout",
     "output_type": "stream",
     "text": [
      "dict_keys(['a', 'b', 'c']) dict_items([('a', 100), ('b', 1000), ('c', 20)]) dict_values([100, 1000, 20])\n"
     ]
    }
   ],
   "source": [
    "print(c.keys(),c.items(),c.values())"
   ]
  },
  {
   "cell_type": "code",
   "execution_count": 50,
   "metadata": {},
   "outputs": [
    {
     "data": {
      "text/plain": [
       "1000"
      ]
     },
     "execution_count": 50,
     "metadata": {},
     "output_type": "execute_result"
    }
   ],
   "source": [
    "c.get('ls',1000)"
   ]
  },
  {
   "cell_type": "code",
   "execution_count": 52,
   "metadata": {},
   "outputs": [
    {
     "data": {
      "text/plain": [
       "dict_keys(['a', 'b', 'c'])"
      ]
     },
     "execution_count": 52,
     "metadata": {},
     "output_type": "execute_result"
    }
   ],
   "source": [
    "c.keys()"
   ]
  },
  {
   "cell_type": "code",
   "execution_count": 54,
   "metadata": {
    "scrolled": true
   },
   "outputs": [
    {
     "name": "stdout",
     "output_type": "stream",
     "text": [
      "a 100\n",
      "b 1000\n",
      "c 20\n"
     ]
    }
   ],
   "source": [
    "for k,v in c.items():\n",
    "    print(k,v)"
   ]
  },
  {
   "cell_type": "code",
   "execution_count": 55,
   "metadata": {},
   "outputs": [
    {
     "data": {
      "text/plain": [
       "{'a': 100, 'b': 1000, 'c': 20}"
      ]
     },
     "execution_count": 55,
     "metadata": {},
     "output_type": "execute_result"
    }
   ],
   "source": [
    "c"
   ]
  },
  {
   "cell_type": "code",
   "execution_count": 56,
   "metadata": {},
   "outputs": [
    {
     "data": {
      "text/plain": [
       "{'a': 200, 'b': 1000, 'c': 20, 'e': 300}"
      ]
     },
     "execution_count": 56,
     "metadata": {},
     "output_type": "execute_result"
    }
   ],
   "source": [
    "d = {'a':200,'e':300}\n",
    "c.update(d)\n",
    "c"
   ]
  },
  {
   "cell_type": "code",
   "execution_count": 57,
   "metadata": {},
   "outputs": [
    {
     "data": {
      "text/plain": [
       "200"
      ]
     },
     "execution_count": 57,
     "metadata": {},
     "output_type": "execute_result"
    }
   ],
   "source": [
    "c.get('a')"
   ]
  },
  {
   "cell_type": "code",
   "execution_count": 58,
   "metadata": {},
   "outputs": [],
   "source": [
    "c.get('d')"
   ]
  },
  {
   "cell_type": "code",
   "execution_count": 59,
   "metadata": {},
   "outputs": [
    {
     "data": {
      "text/plain": [
       "{}"
      ]
     },
     "execution_count": 59,
     "metadata": {},
     "output_type": "execute_result"
    }
   ],
   "source": [
    "e = d\n",
    "d.clear()\n",
    "e"
   ]
  },
  {
   "cell_type": "code",
   "execution_count": 60,
   "metadata": {},
   "outputs": [
    {
     "data": {
      "text/plain": [
       "{'a': 200, 'b': 1000, 'c': 20, 'e': 300}"
      ]
     },
     "execution_count": 60,
     "metadata": {},
     "output_type": "execute_result"
    }
   ],
   "source": [
    "e = c\n",
    "c = {}\n",
    "e"
   ]
  },
  {
   "cell_type": "code",
   "execution_count": 61,
   "metadata": {},
   "outputs": [
    {
     "data": {
      "text/plain": [
       "{}"
      ]
     },
     "execution_count": 61,
     "metadata": {},
     "output_type": "execute_result"
    }
   ],
   "source": [
    "c"
   ]
  },
  {
   "cell_type": "code",
   "execution_count": 63,
   "metadata": {},
   "outputs": [
    {
     "data": {
      "text/plain": [
       "{'a': 200, 'b': 1000, 'c': 20, 'e': 300}"
      ]
     },
     "execution_count": 63,
     "metadata": {},
     "output_type": "execute_result"
    }
   ],
   "source": [
    "c = e\n",
    "c"
   ]
  },
  {
   "cell_type": "markdown",
   "metadata": {},
   "source": [
    "### 常用的字典方法\n",
    "clear()\n",
    "copy()\n",
    "fromkeys()\n",
    "get()\n",
    "items()\n",
    "keys()\n",
    "pop()\n",
    "setdefault()\n",
    "update()\n",
    "values()"
   ]
  },
  {
   "cell_type": "code",
   "execution_count": 66,
   "metadata": {},
   "outputs": [
    {
     "data": {
      "text/plain": [
       "{'a': 100, 'b': 100}"
      ]
     },
     "execution_count": 66,
     "metadata": {},
     "output_type": "execute_result"
    }
   ],
   "source": [
    "f = {}.fromkeys(('a','b'),100)\n",
    "f"
   ]
  },
  {
   "cell_type": "code",
   "execution_count": 67,
   "metadata": {},
   "outputs": [
    {
     "data": {
      "text/plain": [
       "{'a': 100, 'b': 100}"
      ]
     },
     "execution_count": 67,
     "metadata": {},
     "output_type": "execute_result"
    }
   ],
   "source": [
    "f = {}.fromkeys(['a','b'],100)\n",
    "f"
   ]
  },
  {
   "cell_type": "code",
   "execution_count": 68,
   "metadata": {},
   "outputs": [
    {
     "data": {
      "text/plain": [
       "100"
      ]
     },
     "execution_count": 68,
     "metadata": {},
     "output_type": "execute_result"
    }
   ],
   "source": [
    "f.pop('a')"
   ]
  },
  {
   "cell_type": "code",
   "execution_count": 69,
   "metadata": {},
   "outputs": [
    {
     "data": {
      "text/plain": [
       "{'b': 100}"
      ]
     },
     "execution_count": 69,
     "metadata": {},
     "output_type": "execute_result"
    }
   ],
   "source": [
    "f"
   ]
  },
  {
   "cell_type": "code",
   "execution_count": 70,
   "metadata": {},
   "outputs": [
    {
     "data": {
      "text/plain": [
       "'th'"
      ]
     },
     "execution_count": 70,
     "metadata": {},
     "output_type": "execute_result"
    }
   ],
   "source": [
    "x = {'name':'python','add':{'city':'gz','zone':'th'}}\n",
    "x['add']['zone']"
   ]
  },
  {
   "cell_type": "code",
   "execution_count": 85,
   "metadata": {
    "collapsed": true
   },
   "outputs": [
    {
     "data": {
      "text/plain": [
       "'<!DOCTYPE html>\\r\\n<!--STATUS OK--><html> <head><meta http-equiv=content-type content=text/html;charset=utf-8><meta http-equiv=X-UA-Compatible content=IE=Edge><meta content=always name=referrer><link rel=stylesheet type=text/css href=http://s1.bdstatic.com/r/www/cache/bdorz/baidu.min.css><title>百度一下，你就知道</title></head> <body link=#0000cc> <div id=wrapper> <div id=head> <div class=head_wrapper> <div class=s_form> <div class=s_form_wrapper> <div id=lg> <img hidefocus=true src=//www.baidu.com/img/bd_logo1.png width=270 height=129> </div> <form id=form name=f action=//www.baidu.com/s class=fm> <input type=hidden name=bdorz_come value=1> <input type=hidden name=ie value=utf-8> <input type=hidden name=f value=8> <input type=hidden name=rsv_bp value=1> <input type=hidden name=rsv_idx value=1> <input type=hidden name=tn value=baidu><span class=\"bg s_ipt_wr\"><input id=kw name=wd class=s_ipt value maxlength=255 autocomplete=off autofocus></span><span class=\"bg s_btn_wr\"><input type=submit id=su value=百度一下 class=\"bg s_btn\"></span> </form> </div> </div> <div id=u1> <a href=http://news.baidu.com name=tj_trnews class=mnav>新闻</a> <a href=http://www.hao123.com name=tj_trhao123 class=mnav>hao123</a> <a href=http://map.baidu.com name=tj_trmap class=mnav>地图</a> <a href=http://v.baidu.com name=tj_trvideo class=mnav>视频</a> <a href=http://tieba.baidu.com name=tj_trtieba class=mnav>贴吧</a> <noscript> <a href=http://www.baidu.com/bdorz/login.gif?login&amp;tpl=mn&amp;u=http%3A%2F%2Fwww.baidu.com%2f%3fbdorz_come%3d1 name=tj_login class=lb>登录</a> </noscript> <script>document.write(\\'<a href=\"http://www.baidu.com/bdorz/login.gif?login&tpl=mn&u=\\'+ encodeURIComponent(window.location.href+ (window.location.search === \"\" ? \"?\" : \"&\")+ \"bdorz_come=1\")+ \\'\" name=\"tj_login\" class=\"lb\">登录</a>\\');</script> <a href=//www.baidu.com/more/ name=tj_briicon class=bri style=\"display: block;\">更多产品</a> </div> </div> </div> <div id=ftCon> <div id=ftConw> <p id=lh> <a href=http://home.baidu.com>关于百度</a> <a href=http://ir.baidu.com>About Baidu</a> </p> <p id=cp>&copy;2017&nbsp;Baidu&nbsp;<a href=http://www.baidu.com/duty/>使用百度前必读</a>&nbsp; <a href=http://jianyi.baidu.com/ class=cp-feedback>意见反馈</a>&nbsp;京ICP证030173号&nbsp; <img src=//www.baidu.com/img/gs.gif> </p> </div> </div> </div> </body> </html>\\r\\n'"
      ]
     },
     "execution_count": 85,
     "metadata": {},
     "output_type": "execute_result"
    }
   ],
   "source": [
    "import requests\n",
    "pw = {'p':'python dict'}\n",
    "# re = requests.get('http://cn.bing.com/search',params = pw)\n",
    "re = requests.get('http://www.baidu.com/s',params = pw)\n",
    "re.content.decode('utf-8')"
   ]
  },
  {
   "cell_type": "code",
   "execution_count": 86,
   "metadata": {},
   "outputs": [
    {
     "data": {
      "text/plain": [
       "['a', 'b', 'c']"
      ]
     },
     "execution_count": 86,
     "metadata": {},
     "output_type": "execute_result"
    }
   ],
   "source": [
    "a"
   ]
  },
  {
   "cell_type": "code",
   "execution_count": 87,
   "metadata": {},
   "outputs": [
    {
     "data": {
      "text/plain": [
       "{}"
      ]
     },
     "execution_count": 87,
     "metadata": {},
     "output_type": "execute_result"
    }
   ],
   "source": [
    "d"
   ]
  },
  {
   "cell_type": "code",
   "execution_count": 88,
   "metadata": {},
   "outputs": [
    {
     "data": {
      "text/plain": [
       "{'a': 200, 'b': 1000, 'c': 20, 'e': 300}"
      ]
     },
     "execution_count": 88,
     "metadata": {},
     "output_type": "execute_result"
    }
   ],
   "source": [
    "e"
   ]
  },
  {
   "cell_type": "code",
   "execution_count": 90,
   "metadata": {},
   "outputs": [
    {
     "data": {
      "text/plain": [
       "{'a': 200, 'b': 1000, 'c': 20, 'e': 300}"
      ]
     },
     "execution_count": 90,
     "metadata": {},
     "output_type": "execute_result"
    }
   ],
   "source": [
    "f = {'a': 200, 'b': 1000, 'c': 20, 'e': 300, 'a':200}\n",
    "f"
   ]
  },
  {
   "cell_type": "code",
   "execution_count": 91,
   "metadata": {},
   "outputs": [
    {
     "data": {
      "text/plain": [
       "dict_keys(['a', 'b', 'c', 'e'])"
      ]
     },
     "execution_count": 91,
     "metadata": {},
     "output_type": "execute_result"
    }
   ],
   "source": [
    "k = f.keys()\n",
    "k"
   ]
  },
  {
   "cell_type": "code",
   "execution_count": 92,
   "metadata": {},
   "outputs": [
    {
     "data": {
      "text/plain": [
       "['zs', 'zs', 'li', 'ww']"
      ]
     },
     "execution_count": 92,
     "metadata": {},
     "output_type": "execute_result"
    }
   ],
   "source": [
    "names = ['zs','zs','li','ww']\n",
    "names"
   ]
  },
  {
   "cell_type": "code",
   "execution_count": 93,
   "metadata": {},
   "outputs": [
    {
     "data": {
      "text/plain": [
       "{'li', 'ww', 'zs'}"
      ]
     },
     "execution_count": 93,
     "metadata": {},
     "output_type": "execute_result"
    }
   ],
   "source": [
    "set1 = set(names)\n",
    "set1"
   ]
  },
  {
   "cell_type": "code",
   "execution_count": 94,
   "metadata": {},
   "outputs": [
    {
     "data": {
      "text/plain": [
       "{'e', 'h', 'l', 'o'}"
      ]
     },
     "execution_count": 94,
     "metadata": {},
     "output_type": "execute_result"
    }
   ],
   "source": [
    "aset= set('hello')\n",
    "aset"
   ]
  },
  {
   "cell_type": "code",
   "execution_count": 95,
   "metadata": {},
   "outputs": [
    {
     "data": {
      "text/plain": [
       "frozenset({'e', 'h', 'l', 'o'})"
      ]
     },
     "execution_count": 95,
     "metadata": {},
     "output_type": "execute_result"
    }
   ],
   "source": [
    "bset = frozenset('hello')\n",
    "bset"
   ]
  },
  {
   "cell_type": "code",
   "execution_count": 96,
   "metadata": {},
   "outputs": [
    {
     "data": {
      "text/plain": [
       "True"
      ]
     },
     "execution_count": 96,
     "metadata": {},
     "output_type": "execute_result"
    }
   ],
   "source": [
    "'h' in aset"
   ]
  },
  {
   "cell_type": "code",
   "execution_count": 99,
   "metadata": {},
   "outputs": [
    {
     "name": "stdout",
     "output_type": "stream",
     "text": [
      "True False True\n"
     ]
    }
   ],
   "source": [
    "print(aset == bset, aset < bset, aset <= bset)"
   ]
  },
  {
   "cell_type": "code",
   "execution_count": 98,
   "metadata": {},
   "outputs": [
    {
     "data": {
      "text/plain": [
       "True"
      ]
     },
     "execution_count": 98,
     "metadata": {},
     "output_type": "execute_result"
    }
   ],
   "source": [
    "set('he') < aset #表示包含"
   ]
  },
  {
   "cell_type": "code",
   "execution_count": 100,
   "metadata": {},
   "outputs": [
    {
     "data": {
      "text/plain": [
       "{'e', 'h', 'l', 'o'}"
      ]
     },
     "execution_count": 100,
     "metadata": {},
     "output_type": "execute_result"
    }
   ],
   "source": [
    "aset & bset"
   ]
  },
  {
   "cell_type": "code",
   "execution_count": 101,
   "metadata": {},
   "outputs": [
    {
     "name": "stdout",
     "output_type": "stream",
     "text": [
      "{'s', 'u', 'n', 'e'} {'u', 'e', 't', 's', 'i', 'r', 'n'} {'i', 'r'} {'i', 'r', 't'}\n"
     ]
    }
   ],
   "source": [
    "cset = set('sunrise')\n",
    "dset = set('sunset')\n",
    "print( cset & dset, cset | dset, cset - dset, cset ^ dset)"
   ]
  },
  {
   "cell_type": "code",
   "execution_count": 103,
   "metadata": {},
   "outputs": [
    {
     "data": {
      "text/plain": [
       "{'e', 'i', 'r'}"
      ]
     },
     "execution_count": 103,
     "metadata": {},
     "output_type": "execute_result"
    }
   ],
   "source": [
    "cset -= set('sun')\n",
    "cset"
   ]
  },
  {
   "cell_type": "code",
   "execution_count": 105,
   "metadata": {},
   "outputs": [
    {
     "data": {
      "text/plain": [
       "True"
      ]
     },
     "execution_count": 105,
     "metadata": {},
     "output_type": "execute_result"
    }
   ],
   "source": [
    "aset.issubset(bset)"
   ]
  },
  {
   "cell_type": "code",
   "execution_count": 106,
   "metadata": {},
   "outputs": [
    {
     "name": "stdout",
     "output_type": "stream",
     "text": [
      "True True {'u', 'e', 't', 'i', 's', 'r', 'n'}\n"
     ]
    }
   ],
   "source": [
    "print(aset.issubset(bset), aset.issuperset(bset), cset.union(dset))"
   ]
  },
  {
   "cell_type": "code",
   "execution_count": 107,
   "metadata": {},
   "outputs": [
    {
     "name": "stdout",
     "output_type": "stream",
     "text": [
      "set()\n"
     ]
    }
   ],
   "source": [
    "print(aset.difference(bset))"
   ]
  },
  {
   "cell_type": "code",
   "execution_count": 108,
   "metadata": {},
   "outputs": [
    {
     "data": {
      "text/plain": [
       "{'i', 'n', 'r', 's', 't', 'u'}"
      ]
     },
     "execution_count": 108,
     "metadata": {},
     "output_type": "execute_result"
    }
   ],
   "source": [
    "cset.symmetric_difference(dset)"
   ]
  },
  {
   "cell_type": "code",
   "execution_count": 117,
   "metadata": {},
   "outputs": [
    {
     "data": {
      "text/plain": [
       "{'e', 'i', 'r'}"
      ]
     },
     "execution_count": 117,
     "metadata": {},
     "output_type": "execute_result"
    }
   ],
   "source": [
    "cset.discard('sunriseso')\n",
    "cset"
   ]
  },
  {
   "cell_type": "code",
   "execution_count": 118,
   "metadata": {},
   "outputs": [],
   "source": [
    "?cset.discard"
   ]
  },
  {
   "cell_type": "code",
   "execution_count": 120,
   "metadata": {},
   "outputs": [
    {
     "data": {
      "text/plain": [
       "array([[1., 1., 1., 1.],\n",
       "       [1., 1., 1., 1.],\n",
       "       [1., 1., 1., 1.]])"
      ]
     },
     "execution_count": 120,
     "metadata": {},
     "output_type": "execute_result"
    }
   ],
   "source": [
    "import numpy as np\n",
    "aArray = np.ones((3,4))\n",
    "aArray"
   ]
  },
  {
   "cell_type": "code",
   "execution_count": 123,
   "metadata": {
    "collapsed": true
   },
   "outputs": [
    {
     "ename": "OptionError",
     "evalue": "'Pattern matched multiple keys'",
     "output_type": "error",
     "traceback": [
      "\u001b[1;31m---------------------------------------------------------------------------\u001b[0m",
      "\u001b[1;31mOptionError\u001b[0m                               Traceback (most recent call last)",
      "\u001b[1;32m<ipython-input-123-4f73601d9c2b>\u001b[0m in \u001b[0;36m<module>\u001b[1;34m()\u001b[0m\n\u001b[0;32m      1\u001b[0m \u001b[1;32mimport\u001b[0m \u001b[0mpandas\u001b[0m \u001b[1;32mas\u001b[0m \u001b[0mpd\u001b[0m\u001b[1;33m\u001b[0m\u001b[0m\n\u001b[1;32m----> 2\u001b[1;33m \u001b[0mpd\u001b[0m\u001b[1;33m.\u001b[0m\u001b[0mset_option\u001b[0m\u001b[1;33m(\u001b[0m\u001b[1;34m'html'\u001b[0m\u001b[1;33m,\u001b[0m \u001b[1;32mFalse\u001b[0m\u001b[1;33m)\u001b[0m\u001b[1;33m\u001b[0m\u001b[0m\n\u001b[0m",
      "\u001b[1;32mE:\\programfiles\\Anaconda3\\lib\\site-packages\\pandas\\core\\config.py\u001b[0m in \u001b[0;36m__call__\u001b[1;34m(self, *args, **kwds)\u001b[0m\n\u001b[0;32m    222\u001b[0m \u001b[1;33m\u001b[0m\u001b[0m\n\u001b[0;32m    223\u001b[0m     \u001b[1;32mdef\u001b[0m \u001b[0m__call__\u001b[0m\u001b[1;33m(\u001b[0m\u001b[0mself\u001b[0m\u001b[1;33m,\u001b[0m \u001b[1;33m*\u001b[0m\u001b[0margs\u001b[0m\u001b[1;33m,\u001b[0m \u001b[1;33m**\u001b[0m\u001b[0mkwds\u001b[0m\u001b[1;33m)\u001b[0m\u001b[1;33m:\u001b[0m\u001b[1;33m\u001b[0m\u001b[0m\n\u001b[1;32m--> 224\u001b[1;33m         \u001b[1;32mreturn\u001b[0m \u001b[0mself\u001b[0m\u001b[1;33m.\u001b[0m\u001b[0m__func__\u001b[0m\u001b[1;33m(\u001b[0m\u001b[1;33m*\u001b[0m\u001b[0margs\u001b[0m\u001b[1;33m,\u001b[0m \u001b[1;33m**\u001b[0m\u001b[0mkwds\u001b[0m\u001b[1;33m)\u001b[0m\u001b[1;33m\u001b[0m\u001b[0m\n\u001b[0m\u001b[0;32m    225\u001b[0m \u001b[1;33m\u001b[0m\u001b[0m\n\u001b[0;32m    226\u001b[0m     \u001b[1;33m@\u001b[0m\u001b[0mproperty\u001b[0m\u001b[1;33m\u001b[0m\u001b[0m\n",
      "\u001b[1;32mE:\\programfiles\\Anaconda3\\lib\\site-packages\\pandas\\core\\config.py\u001b[0m in \u001b[0;36m_set_option\u001b[1;34m(*args, **kwargs)\u001b[0m\n\u001b[0;32m    117\u001b[0m \u001b[1;33m\u001b[0m\u001b[0m\n\u001b[0;32m    118\u001b[0m     \u001b[1;32mfor\u001b[0m \u001b[0mk\u001b[0m\u001b[1;33m,\u001b[0m \u001b[0mv\u001b[0m \u001b[1;32min\u001b[0m \u001b[0mzip\u001b[0m\u001b[1;33m(\u001b[0m\u001b[0margs\u001b[0m\u001b[1;33m[\u001b[0m\u001b[1;33m:\u001b[0m\u001b[1;33m:\u001b[0m\u001b[1;36m2\u001b[0m\u001b[1;33m]\u001b[0m\u001b[1;33m,\u001b[0m \u001b[0margs\u001b[0m\u001b[1;33m[\u001b[0m\u001b[1;36m1\u001b[0m\u001b[1;33m:\u001b[0m\u001b[1;33m:\u001b[0m\u001b[1;36m2\u001b[0m\u001b[1;33m]\u001b[0m\u001b[1;33m)\u001b[0m\u001b[1;33m:\u001b[0m\u001b[1;33m\u001b[0m\u001b[0m\n\u001b[1;32m--> 119\u001b[1;33m         \u001b[0mkey\u001b[0m \u001b[1;33m=\u001b[0m \u001b[0m_get_single_key\u001b[0m\u001b[1;33m(\u001b[0m\u001b[0mk\u001b[0m\u001b[1;33m,\u001b[0m \u001b[0msilent\u001b[0m\u001b[1;33m)\u001b[0m\u001b[1;33m\u001b[0m\u001b[0m\n\u001b[0m\u001b[0;32m    120\u001b[0m \u001b[1;33m\u001b[0m\u001b[0m\n\u001b[0;32m    121\u001b[0m         \u001b[0mo\u001b[0m \u001b[1;33m=\u001b[0m \u001b[0m_get_registered_option\u001b[0m\u001b[1;33m(\u001b[0m\u001b[0mkey\u001b[0m\u001b[1;33m)\u001b[0m\u001b[1;33m\u001b[0m\u001b[0m\n",
      "\u001b[1;32mE:\\programfiles\\Anaconda3\\lib\\site-packages\\pandas\\core\\config.py\u001b[0m in \u001b[0;36m_get_single_key\u001b[1;34m(pat, silent)\u001b[0m\n\u001b[0;32m     83\u001b[0m         \u001b[1;32mraise\u001b[0m \u001b[0mOptionError\u001b[0m\u001b[1;33m(\u001b[0m\u001b[1;34m'No such keys(s): {pat!r}'\u001b[0m\u001b[1;33m.\u001b[0m\u001b[0mformat\u001b[0m\u001b[1;33m(\u001b[0m\u001b[0mpat\u001b[0m\u001b[1;33m=\u001b[0m\u001b[0mpat\u001b[0m\u001b[1;33m)\u001b[0m\u001b[1;33m)\u001b[0m\u001b[1;33m\u001b[0m\u001b[0m\n\u001b[0;32m     84\u001b[0m     \u001b[1;32mif\u001b[0m \u001b[0mlen\u001b[0m\u001b[1;33m(\u001b[0m\u001b[0mkeys\u001b[0m\u001b[1;33m)\u001b[0m \u001b[1;33m>\u001b[0m \u001b[1;36m1\u001b[0m\u001b[1;33m:\u001b[0m\u001b[1;33m\u001b[0m\u001b[0m\n\u001b[1;32m---> 85\u001b[1;33m         \u001b[1;32mraise\u001b[0m \u001b[0mOptionError\u001b[0m\u001b[1;33m(\u001b[0m\u001b[1;34m'Pattern matched multiple keys'\u001b[0m\u001b[1;33m)\u001b[0m\u001b[1;33m\u001b[0m\u001b[0m\n\u001b[0m\u001b[0;32m     86\u001b[0m     \u001b[0mkey\u001b[0m \u001b[1;33m=\u001b[0m \u001b[0mkeys\u001b[0m\u001b[1;33m[\u001b[0m\u001b[1;36m0\u001b[0m\u001b[1;33m]\u001b[0m\u001b[1;33m\u001b[0m\u001b[0m\n\u001b[0;32m     87\u001b[0m \u001b[1;33m\u001b[0m\u001b[0m\n",
      "\u001b[1;31mOptionError\u001b[0m: 'Pattern matched multiple keys'"
     ]
    }
   ],
   "source": [
    "import pandas as pd\n",
    "pd.set_option('html', False)"
   ]
  },
  {
   "cell_type": "code",
   "execution_count": 124,
   "metadata": {
    "scrolled": true
   },
   "outputs": [
    {
     "data": {
      "image/jpeg": "[encoded data removed]",
      "text/plain": [
       "<IPython.core.display.Image object>"
      ]
     },
     "execution_count": 124,
     "metadata": {},
     "output_type": "execute_result"
    }
   ],
   "source": [
    "from IPython.core.display import Image\n",
    "Image('http://akamaicovers.oreilly.com/images/0636920023784/lrg.jpg')"
   ]
  },
  {
   "cell_type": "code",
   "execution_count": 131,
   "metadata": {
    "scrolled": true
   },
   "outputs": [
    {
     "data": {
      "text/plain": [
       "array([0, 1, 2, 3, 4])"
      ]
     },
     "execution_count": 131,
     "metadata": {},
     "output_type": "execute_result"
    }
   ],
   "source": [
    "import numpy as np\n",
    "a = np.array(range(5))\n",
    "a"
   ]
  },
  {
   "cell_type": "code",
   "execution_count": 154,
   "metadata": {},
   "outputs": [
    {
     "name": "stdout",
     "output_type": "stream",
     "text": [
      "[[ -9.  -6.  12.  -7.  -7.]\n",
      " [  5.   3.   7.  15.  12.]\n",
      " [-15.  10.  -0.  -5. -18.]\n",
      " [ 24. -16.  19.  -4. -12.]\n",
      " [  7.  -0.   1.  -6.  -3.]]\n",
      "2 (5, 5) [-17.  42. -28.  11.  -1.] 7.0\n"
     ]
    }
   ],
   "source": [
    "a = np.ceil(10 * np.random.randn(5,5))\n",
    "# a\n",
    "print(a)\n",
    "print(a.ndim, a.shape,  a.sum(axis = 1), a.sum())"
   ]
  },
  {
   "cell_type": "code",
   "execution_count": 150,
   "metadata": {},
   "outputs": [
    {
     "data": {
      "text/plain": [
       "array([ 1,  3,  5,  7,  9, 11, 13, 15, 17, 19, 21, 23, 25, 27, 29, 31, 33,\n",
       "       35, 37, 39, 41, 43, 45, 47, 49])"
      ]
     },
     "execution_count": 150,
     "metadata": {},
     "output_type": "execute_result"
    }
   ],
   "source": [
    "b = np.linspace(1,49,25,dtype = int)\n",
    "b"
   ]
  },
  {
   "cell_type": "code",
   "execution_count": 151,
   "metadata": {
    "scrolled": true
   },
   "outputs": [
    {
     "data": {
      "text/plain": [
       "array([[ 1.,  2.,  3.,  4.,  5.,  6.,  7.,  8.,  9.],\n",
       "       [ 2.,  4.,  6.,  8., 10., 12., 14., 16., 18.],\n",
       "       [ 3.,  6.,  9., 12., 15., 18., 21., 24., 27.],\n",
       "       [ 4.,  8., 12., 16., 20., 24., 28., 32., 36.],\n",
       "       [ 5., 10., 15., 20., 25., 30., 35., 40., 45.],\n",
       "       [ 6., 12., 18., 24., 30., 36., 42., 48., 54.],\n",
       "       [ 7., 14., 21., 28., 35., 42., 49., 56., 63.],\n",
       "       [ 8., 16., 24., 32., 40., 48., 56., 64., 72.],\n",
       "       [ 9., 18., 27., 36., 45., 54., 63., 72., 81.]])"
      ]
     },
     "execution_count": 151,
     "metadata": {},
     "output_type": "execute_result"
    }
   ],
   "source": [
    "np.fromfunction(lambda i,j:(i+1)*(j+1),(9,9))"
   ]
  },
  {
   "cell_type": "code",
   "execution_count": 153,
   "metadata": {},
   "outputs": [
    {
     "data": {
      "text/plain": [
       "array([1., 3., 5., 7.])"
      ]
     },
     "execution_count": 153,
     "metadata": {},
     "output_type": "execute_result"
    }
   ],
   "source": [
    "a = np.arange(1,5,dtype = np.float64)\n",
    "np.power(a,2).sum()\n",
    "np.add(a,np.arange(4))"
   ]
  },
  {
   "cell_type": "code",
   "execution_count": 155,
   "metadata": {},
   "outputs": [
    {
     "data": {
      "text/plain": [
       "array([[ -9.,  -6.,  12.,  -7.,  -7.],\n",
       "       [  5.,   3.,   7.,  15.,  12.],\n",
       "       [-15.,  10.,  -0.,  -5., -18.],\n",
       "       [ 24., -16.,  19.,  -4., -12.],\n",
       "       [  7.,  -0.,   1.,  -6.,  -3.]])"
      ]
     },
     "execution_count": 155,
     "metadata": {},
     "output_type": "execute_result"
    }
   ],
   "source": [
    "a"
   ]
  },
  {
   "cell_type": "code",
   "execution_count": 156,
   "metadata": {},
   "outputs": [
    {
     "data": {
      "text/plain": [
       "array([[ -9.,  -6.],\n",
       "       [  5.,   3.],\n",
       "       [-15.,  10.],\n",
       "       [ 24., -16.],\n",
       "       [  7.,  -0.]])"
      ]
     },
     "execution_count": 156,
     "metadata": {},
     "output_type": "execute_result"
    }
   ],
   "source": [
    "a[:,[0,1]]"
   ]
  },
  {
   "cell_type": "code",
   "execution_count": 157,
   "metadata": {},
   "outputs": [
    {
     "data": {
      "text/plain": [
       "array([5., 3.])"
      ]
     },
     "execution_count": 157,
     "metadata": {},
     "output_type": "execute_result"
    }
   ],
   "source": [
    "a[1,[0,1]]"
   ]
  },
  {
   "cell_type": "code",
   "execution_count": 158,
   "metadata": {},
   "outputs": [
    {
     "name": "stdout",
     "output_type": "stream",
     "text": [
      "[-9. -6. 12. -7. -7.]\n",
      "[ 5.  3.  7. 15. 12.]\n",
      "[-15.  10.  -0.  -5. -18.]\n",
      "[ 24. -16.  19.  -4. -12.]\n",
      "[ 7. -0.  1. -6. -3.]\n"
     ]
    }
   ],
   "source": [
    "for row in a:\n",
    "    print(row)"
   ]
  },
  {
   "cell_type": "code",
   "execution_count": 159,
   "metadata": {},
   "outputs": [
    {
     "name": "stdout",
     "output_type": "stream",
     "text": [
      "<generator object <genexpr> at 0x000002498CE71A40>\n"
     ]
    }
   ],
   "source": [
    "print(x for x in a )"
   ]
  },
  {
   "cell_type": "code",
   "execution_count": 160,
   "metadata": {},
   "outputs": [
    {
     "data": {
      "text/plain": [
       "array([ 1,  3,  5,  7,  9, 11, 13, 15, 17, 19, 21, 23, 25, 27, 29, 31, 33,\n",
       "       35, 37, 39, 41, 43, 45, 47, 49])"
      ]
     },
     "execution_count": 160,
     "metadata": {},
     "output_type": "execute_result"
    }
   ],
   "source": [
    "b"
   ]
  },
  {
   "cell_type": "code",
   "execution_count": 162,
   "metadata": {
    "scrolled": true
   },
   "outputs": [
    {
     "data": {
      "text/plain": [
       "array([[ -8.,  -3.,  17.,   0.,   2.],\n",
       "       [  6.,   6.,  12.,  22.,  21.],\n",
       "       [-14.,  13.,   5.,   2.,  -9.],\n",
       "       [ 25., -13.,  24.,   3.,  -3.],\n",
       "       [  8.,   3.,   6.,   1.,   6.]])"
      ]
     },
     "execution_count": 162,
     "metadata": {},
     "output_type": "execute_result"
    }
   ],
   "source": [
    "a  + b[:5] #广播"
   ]
  },
  {
   "cell_type": "code",
   "execution_count": 163,
   "metadata": {
    "scrolled": true
   },
   "outputs": [
    {
     "data": {
      "text/plain": [
       "array([[  -9.,  -18.,   60.,  -49.,  -63.],\n",
       "       [   5.,    9.,   35.,  105.,  108.],\n",
       "       [ -15.,   30.,   -0.,  -35., -162.],\n",
       "       [  24.,  -48.,   95.,  -28., -108.],\n",
       "       [   7.,   -0.,    5.,  -42.,  -27.]])"
      ]
     },
     "execution_count": 163,
     "metadata": {},
     "output_type": "execute_result"
    }
   ],
   "source": [
    "a * b[:5]"
   ]
  },
  {
   "cell_type": "code",
   "execution_count": 164,
   "metadata": {},
   "outputs": [
    {
     "data": {
      "text/plain": [
       "array([[ -9.,  -6.,  12.,  -7.,  -7.],\n",
       "       [  5.,   3.,   7.,  15.,  12.],\n",
       "       [-15.,  10.,  -0.,  -5., -18.],\n",
       "       [ 24., -16.,  19.,  -4., -12.],\n",
       "       [  7.,  -0.,   1.,  -6.,  -3.]])"
      ]
     },
     "execution_count": 164,
     "metadata": {},
     "output_type": "execute_result"
    }
   ],
   "source": [
    "a"
   ]
  },
  {
   "cell_type": "code",
   "execution_count": 168,
   "metadata": {},
   "outputs": [
    {
     "data": {
      "text/plain": [
       "15"
      ]
     },
     "execution_count": 168,
     "metadata": {},
     "output_type": "execute_result"
    }
   ],
   "source": [
    "a.argmax()#返回第一次出现的最大值的索引"
   ]
  },
  {
   "cell_type": "code",
   "execution_count": 169,
   "metadata": {},
   "outputs": [
    {
     "name": "stdout",
     "output_type": "stream",
     "text": [
      "0.28 117.24160000000002 10.827816030945485\n"
     ]
    }
   ],
   "source": [
    "print(a.mean(),a.var(),a.std())"
   ]
  },
  {
   "cell_type": "code",
   "execution_count": 1,
   "metadata": {},
   "outputs": [
    {
     "name": "stdout",
     "output_type": "stream",
     "text": [
      "-2.0000000000000004\n"
     ]
    }
   ],
   "source": [
    "import numpy as np\n",
    "x = np.array([[1,2],[3,4]])\n",
    "r1 = np.linalg.det(x)\n",
    "print(r1)"
   ]
  },
  {
   "cell_type": "code",
   "execution_count": 3,
   "metadata": {},
   "outputs": [
    {
     "data": {
      "text/plain": [
       "array([[-2. ,  1. ],\n",
       "       [ 1.5, -0.5]])"
      ]
     },
     "execution_count": 3,
     "metadata": {},
     "output_type": "execute_result"
    }
   ],
   "source": [
    "r2 = np.linalg.inv(x)\n",
    "r2"
   ]
  },
  {
   "cell_type": "code",
   "execution_count": 5,
   "metadata": {},
   "outputs": [
    {
     "data": {
      "text/plain": [
       "array([[ 7, 10],\n",
       "       [15, 22]])"
      ]
     },
     "execution_count": 5,
     "metadata": {},
     "output_type": "execute_result"
    }
   ],
   "source": [
    "r3 = np.dot(x,x)\n",
    "r3"
   ]
  },
  {
   "cell_type": "code",
   "execution_count": 6,
   "metadata": {
    "scrolled": true
   },
   "outputs": [
    {
     "name": "stdout",
     "output_type": "stream",
     "text": [
      "(array([-0.37228132,  5.37228132]), array([[-0.82456484, -0.41597356],\n",
      "       [ 0.56576746, -0.90937671]]))\n"
     ]
    }
   ],
   "source": [
    "print(np.linalg.eig(x))"
   ]
  },
  {
   "cell_type": "code",
   "execution_count": 7,
   "metadata": {},
   "outputs": [],
   "source": [
    "import time, math, numpy as np"
   ]
  },
  {
   "cell_type": "code",
   "execution_count": 9,
   "metadata": {},
   "outputs": [
    {
     "name": "stdout",
     "output_type": "stream",
     "text": [
      "Running time of math 0.010960782502488942\n",
      "Running time of numpy 0.000934815407827078\n"
     ]
    }
   ],
   "source": [
    "x = np.arange(0,100,0.01)\n",
    "t_m1 = time.clock()\n",
    "for i,t in enumerate(x):\n",
    "    x[i] = math.pow((math.sin(t)),2)\n",
    "t_m2 = time.clock()\n",
    "y = np.arange(0,100,0.01)\n",
    "t_n1 = time.clock()\n",
    "y = np.power(np.sin(y),2)\n",
    "t_n2 = time.clock()\n",
    "print('Running time of math',t_m2 - t_m1)\n",
    "print('Running time of numpy',t_n2 - t_n1)"
   ]
  },
  {
   "cell_type": "code",
   "execution_count": 20,
   "metadata": {},
   "outputs": [
    {
     "data": {
      "text/plain": [
       "a    0\n",
       "b    1\n",
       "c    2\n",
       "dtype: int64"
      ]
     },
     "execution_count": 20,
     "metadata": {},
     "output_type": "execute_result"
    }
   ],
   "source": [
    "from pandas import Series\n",
    "aser = Series(range(3),index=('a','b','c'))\n",
    "aser"
   ]
  },
  {
   "cell_type": "code",
   "execution_count": 22,
   "metadata": {},
   "outputs": [
    {
     "data": {
      "text/plain": [
       "1"
      ]
     },
     "execution_count": 22,
     "metadata": {},
     "output_type": "execute_result"
    }
   ],
   "source": [
    "aser.b"
   ]
  },
  {
   "cell_type": "code",
   "execution_count": 23,
   "metadata": {},
   "outputs": [
    {
     "data": {
      "text/plain": [
       "1"
      ]
     },
     "execution_count": 23,
     "metadata": {},
     "output_type": "execute_result"
    }
   ],
   "source": [
    "aser['b']"
   ]
  },
  {
   "cell_type": "code",
   "execution_count": 24,
   "metadata": {
    "scrolled": true
   },
   "outputs": [
    {
     "data": {
      "text/plain": [
       "a    1.000000\n",
       "b    2.718282\n",
       "c    7.389056\n",
       "dtype: float64"
      ]
     },
     "execution_count": 24,
     "metadata": {},
     "output_type": "execute_result"
    }
   ],
   "source": [
    "np.exp(aser)"
   ]
  },
  {
   "cell_type": "code",
   "execution_count": 30,
   "metadata": {},
   "outputs": [
    {
     "data": {
      "text/plain": [
       "axp       80.0\n",
       "bob      100.0\n",
       "apple      NaN\n",
       "mic        NaN\n",
       "dtype: float64"
      ]
     },
     "execution_count": 30,
     "metadata": {},
     "output_type": "execute_result"
    }
   ],
   "source": [
    "import pandas as pd\n",
    "from pandas import Series\n",
    "data = {'axp':80,'bob':100,'ba':120}\n",
    "sindex = ['axp','bob','apple','mic']\n",
    "aser = pd.Series(data,index = sindex)\n",
    "aser"
   ]
  },
  {
   "cell_type": "code",
   "execution_count": 31,
   "metadata": {
    "scrolled": true
   },
   "outputs": [
    {
     "data": {
      "text/plain": [
       "axp      False\n",
       "bob      False\n",
       "apple     True\n",
       "mic       True\n",
       "dtype: bool"
      ]
     },
     "execution_count": 31,
     "metadata": {},
     "output_type": "execute_result"
    }
   ],
   "source": [
    "pd.isnull(aser)"
   ]
  },
  {
   "cell_type": "code",
   "execution_count": 39,
   "metadata": {},
   "outputs": [
    {
     "data": {
      "text/plain": [
       "inames\n",
       "axp       80.0\n",
       "bob      100.0\n",
       "apple      NaN\n",
       "mic        NaN\n",
       "Name: cnames, dtype: float64"
      ]
     },
     "execution_count": 39,
     "metadata": {},
     "output_type": "execute_result"
    }
   ],
   "source": [
    "aser.name = 'cnames'\n",
    "aser.index.name='inames'#索引的name属性\n",
    "aser"
   ]
  },
  {
   "cell_type": "code",
   "execution_count": 38,
   "metadata": {},
   "outputs": [
    {
     "data": {
      "text/plain": [
       "array([0, 2, 3])"
      ]
     },
     "execution_count": 38,
     "metadata": {},
     "output_type": "execute_result"
    }
   ],
   "source": [
    "a = np.arange(4)\n",
    "b = [True, False, True, True]\n",
    "a[b]#索引使用中括号"
   ]
  },
  {
   "cell_type": "code",
   "execution_count": 41,
   "metadata": {
    "scrolled": false
   },
   "outputs": [
    {
     "data": {
      "text/html": [
       "<div>\n",
       "<style scoped>\n",
       "    .dataframe tbody tr th:only-of-type {\n",
       "        vertical-align: middle;\n",
       "    }\n",
       "\n",
       "    .dataframe tbody tr th {\n",
       "        vertical-align: top;\n",
       "    }\n",
       "\n",
       "    .dataframe thead th {\n",
       "        text-align: right;\n",
       "    }\n",
       "</style>\n",
       "<table border=\"1\" class=\"dataframe\">\n",
       "  <thead>\n",
       "    <tr style=\"text-align: right;\">\n",
       "      <th></th>\n",
       "      <th>axp</th>\n",
       "      <th>ba</th>\n",
       "      <th>bob</th>\n",
       "    </tr>\n",
       "  </thead>\n",
       "  <tbody>\n",
       "    <tr>\n",
       "      <th>axp</th>\n",
       "      <td>80</td>\n",
       "      <td>120</td>\n",
       "      <td>100</td>\n",
       "    </tr>\n",
       "    <tr>\n",
       "      <th>bob</th>\n",
       "      <td>80</td>\n",
       "      <td>120</td>\n",
       "      <td>100</td>\n",
       "    </tr>\n",
       "    <tr>\n",
       "      <th>apple</th>\n",
       "      <td>80</td>\n",
       "      <td>120</td>\n",
       "      <td>100</td>\n",
       "    </tr>\n",
       "    <tr>\n",
       "      <th>mic</th>\n",
       "      <td>80</td>\n",
       "      <td>120</td>\n",
       "      <td>100</td>\n",
       "    </tr>\n",
       "  </tbody>\n",
       "</table>\n",
       "</div>"
      ],
      "text/plain": [
       "       axp   ba  bob\n",
       "axp     80  120  100\n",
       "bob     80  120  100\n",
       "apple   80  120  100\n",
       "mic     80  120  100"
      ]
     },
     "execution_count": 41,
     "metadata": {},
     "output_type": "execute_result"
    }
   ],
   "source": [
    "c= pd.DataFrame(data,index = sindex) # 使用字典和索引创建dataframe\n",
    "c"
   ]
  },
  {
   "cell_type": "code",
   "execution_count": 50,
   "metadata": {},
   "outputs": [
    {
     "data": {
      "text/html": [
       "<div>\n",
       "<style scoped>\n",
       "    .dataframe tbody tr th:only-of-type {\n",
       "        vertical-align: middle;\n",
       "    }\n",
       "\n",
       "    .dataframe tbody tr th {\n",
       "        vertical-align: top;\n",
       "    }\n",
       "\n",
       "    .dataframe thead th {\n",
       "        text-align: right;\n",
       "    }\n",
       "</style>\n",
       "<table border=\"1\" class=\"dataframe\">\n",
       "  <thead>\n",
       "    <tr style=\"text-align: right;\">\n",
       "      <th></th>\n",
       "      <th>name</th>\n",
       "      <th>pay</th>\n",
       "    </tr>\n",
       "  </thead>\n",
       "  <tbody>\n",
       "    <tr>\n",
       "      <th>first</th>\n",
       "      <td>wd</td>\n",
       "      <td>400</td>\n",
       "    </tr>\n",
       "    <tr>\n",
       "      <th>2nd</th>\n",
       "      <td>ll</td>\n",
       "      <td>500</td>\n",
       "    </tr>\n",
       "    <tr>\n",
       "      <th>3rd</th>\n",
       "      <td>ny</td>\n",
       "      <td>700</td>\n",
       "    </tr>\n",
       "  </tbody>\n",
       "</table>\n",
       "</div>"
      ],
      "text/plain": [
       "      name  pay\n",
       "first   wd  400\n",
       "2nd     ll  500\n",
       "3rd     ny  700"
      ]
     },
     "execution_count": 50,
     "metadata": {},
     "output_type": "execute_result"
    }
   ],
   "source": [
    "data1 = {'name':['wd','ll','ny'],'pay':[400, 500, 700]}\n",
    "frame = pd.DataFrame(data1,index=('first','2nd','3rd'))\n",
    "frame"
   ]
  },
  {
   "cell_type": "code",
   "execution_count": 70,
   "metadata": {},
   "outputs": [
    {
     "data": {
      "text/html": [
       "<div>\n",
       "<style scoped>\n",
       "    .dataframe tbody tr th:only-of-type {\n",
       "        vertical-align: middle;\n",
       "    }\n",
       "\n",
       "    .dataframe tbody tr th {\n",
       "        vertical-align: top;\n",
       "    }\n",
       "\n",
       "    .dataframe thead th {\n",
       "        text-align: right;\n",
       "    }\n",
       "</style>\n",
       "<table border=\"1\" class=\"dataframe\">\n",
       "  <thead>\n",
       "    <tr style=\"text-align: right;\">\n",
       "      <th></th>\n",
       "      <th>name</th>\n",
       "      <th>pay</th>\n",
       "    </tr>\n",
       "  </thead>\n",
       "  <tbody>\n",
       "    <tr>\n",
       "      <th>1</th>\n",
       "      <td>zs</td>\n",
       "      <td>100</td>\n",
       "    </tr>\n",
       "    <tr>\n",
       "      <th>2</th>\n",
       "      <td>ls</td>\n",
       "      <td>140</td>\n",
       "    </tr>\n",
       "    <tr>\n",
       "      <th>3</th>\n",
       "      <td>ww</td>\n",
       "      <td>158</td>\n",
       "    </tr>\n",
       "  </tbody>\n",
       "</table>\n",
       "</div>"
      ],
      "text/plain": [
       "  name  pay\n",
       "1   zs  100\n",
       "2   ls  140\n",
       "3   ww  158"
      ]
     },
     "execution_count": 70,
     "metadata": {},
     "output_type": "execute_result"
    }
   ],
   "source": [
    "data = np.array([('zs',100),('ls',140),('ww',158)])\n",
    "frame = pd.DataFrame(data,index=range(1,4),\\\n",
    "                     columns=['name','pay'])\n",
    "frame"
   ]
  },
  {
   "cell_type": "code",
   "execution_count": 44,
   "metadata": {},
   "outputs": [
    {
     "data": {
      "text/plain": [
       "RangeIndex(start=1, stop=4, step=1)"
      ]
     },
     "execution_count": 44,
     "metadata": {},
     "output_type": "execute_result"
    }
   ],
   "source": [
    "frame.index"
   ]
  },
  {
   "cell_type": "code",
   "execution_count": 45,
   "metadata": {},
   "outputs": [
    {
     "data": {
      "text/plain": [
       "Index(['name', 'pay'], dtype='object')"
      ]
     },
     "execution_count": 45,
     "metadata": {},
     "output_type": "execute_result"
    }
   ],
   "source": [
    "frame.columns"
   ]
  },
  {
   "cell_type": "code",
   "execution_count": 46,
   "metadata": {},
   "outputs": [
    {
     "data": {
      "text/plain": [
       "array([['zs', '100'],\n",
       "       ['ls', '140'],\n",
       "       ['ww', '158']], dtype=object)"
      ]
     },
     "execution_count": 46,
     "metadata": {},
     "output_type": "execute_result"
    }
   ],
   "source": [
    "frame.values"
   ]
  },
  {
   "cell_type": "code",
   "execution_count": 52,
   "metadata": {
    "scrolled": true
   },
   "outputs": [
    {
     "data": {
      "text/html": [
       "<div>\n",
       "<style scoped>\n",
       "    .dataframe tbody tr th:only-of-type {\n",
       "        vertical-align: middle;\n",
       "    }\n",
       "\n",
       "    .dataframe tbody tr th {\n",
       "        vertical-align: top;\n",
       "    }\n",
       "\n",
       "    .dataframe thead th {\n",
       "        text-align: right;\n",
       "    }\n",
       "</style>\n",
       "<table border=\"1\" class=\"dataframe\">\n",
       "  <thead>\n",
       "    <tr style=\"text-align: right;\">\n",
       "      <th></th>\n",
       "      <th>name</th>\n",
       "      <th>pay</th>\n",
       "    </tr>\n",
       "  </thead>\n",
       "  <tbody>\n",
       "    <tr>\n",
       "      <th>0</th>\n",
       "      <td>zs</td>\n",
       "      <td>100</td>\n",
       "    </tr>\n",
       "    <tr>\n",
       "      <th>1</th>\n",
       "      <td>ls</td>\n",
       "      <td>140</td>\n",
       "    </tr>\n",
       "    <tr>\n",
       "      <th>2</th>\n",
       "      <td>ww</td>\n",
       "      <td>158</td>\n",
       "    </tr>\n",
       "  </tbody>\n",
       "</table>\n",
       "</div>"
      ],
      "text/plain": [
       "  name  pay\n",
       "0   zs  100\n",
       "1   ls  140\n",
       "2   ww  158"
      ]
     },
     "execution_count": 52,
     "metadata": {},
     "output_type": "execute_result"
    }
   ],
   "source": [
    "frame.index=range(3)\n",
    "frame"
   ]
  },
  {
   "cell_type": "code",
   "execution_count": 53,
   "metadata": {},
   "outputs": [
    {
     "data": {
      "text/plain": [
       "0    zs\n",
       "1    ls\n",
       "2    ww\n",
       "Name: name, dtype: object"
      ]
     },
     "execution_count": 53,
     "metadata": {},
     "output_type": "execute_result"
    }
   ],
   "source": [
    "frame['name']"
   ]
  },
  {
   "cell_type": "code",
   "execution_count": 54,
   "metadata": {},
   "outputs": [
    {
     "data": {
      "text/plain": [
       "0    100\n",
       "1    140\n",
       "2    158\n",
       "Name: pay, dtype: object"
      ]
     },
     "execution_count": 54,
     "metadata": {},
     "output_type": "execute_result"
    }
   ],
   "source": [
    "frame.pay"
   ]
  },
  {
   "cell_type": "code",
   "execution_count": 61,
   "metadata": {},
   "outputs": [
    {
     "data": {
      "text/plain": [
       "pay    100\n",
       "Name: 0, dtype: object"
      ]
     },
     "execution_count": 61,
     "metadata": {},
     "output_type": "execute_result"
    }
   ],
   "source": [
    "frame.iloc[0,1:2]"
   ]
  },
  {
   "cell_type": "code",
   "execution_count": 62,
   "metadata": {
    "scrolled": true
   },
   "outputs": [
    {
     "data": {
      "text/html": [
       "<div>\n",
       "<style scoped>\n",
       "    .dataframe tbody tr th:only-of-type {\n",
       "        vertical-align: middle;\n",
       "    }\n",
       "\n",
       "    .dataframe tbody tr th {\n",
       "        vertical-align: top;\n",
       "    }\n",
       "\n",
       "    .dataframe thead th {\n",
       "        text-align: right;\n",
       "    }\n",
       "</style>\n",
       "<table border=\"1\" class=\"dataframe\">\n",
       "  <thead>\n",
       "    <tr style=\"text-align: right;\">\n",
       "      <th></th>\n",
       "      <th>name</th>\n",
       "      <th>pay</th>\n",
       "    </tr>\n",
       "  </thead>\n",
       "  <tbody>\n",
       "    <tr>\n",
       "      <th>0</th>\n",
       "      <td>zs</td>\n",
       "      <td>100</td>\n",
       "    </tr>\n",
       "    <tr>\n",
       "      <th>1</th>\n",
       "      <td>ls</td>\n",
       "      <td>140</td>\n",
       "    </tr>\n",
       "    <tr>\n",
       "      <th>2</th>\n",
       "      <td>ww</td>\n",
       "      <td>158</td>\n",
       "    </tr>\n",
       "  </tbody>\n",
       "</table>\n",
       "</div>"
      ],
      "text/plain": [
       "  name  pay\n",
       "0   zs  100\n",
       "1   ls  140\n",
       "2   ww  158"
      ]
     },
     "execution_count": 62,
     "metadata": {},
     "output_type": "execute_result"
    }
   ],
   "source": [
    "frame.iloc[:,:]"
   ]
  },
  {
   "cell_type": "code",
   "execution_count": 65,
   "metadata": {},
   "outputs": [
    {
     "data": {
      "text/html": [
       "<div>\n",
       "<style scoped>\n",
       "    .dataframe tbody tr th:only-of-type {\n",
       "        vertical-align: middle;\n",
       "    }\n",
       "\n",
       "    .dataframe tbody tr th {\n",
       "        vertical-align: top;\n",
       "    }\n",
       "\n",
       "    .dataframe thead th {\n",
       "        text-align: right;\n",
       "    }\n",
       "</style>\n",
       "<table border=\"1\" class=\"dataframe\">\n",
       "  <thead>\n",
       "    <tr style=\"text-align: right;\">\n",
       "      <th></th>\n",
       "      <th>name</th>\n",
       "      <th>pay</th>\n",
       "    </tr>\n",
       "  </thead>\n",
       "  <tbody>\n",
       "    <tr>\n",
       "      <th>0</th>\n",
       "      <td>admin</td>\n",
       "      <td>100</td>\n",
       "    </tr>\n",
       "    <tr>\n",
       "      <th>1</th>\n",
       "      <td>admin</td>\n",
       "      <td>140</td>\n",
       "    </tr>\n",
       "    <tr>\n",
       "      <th>2</th>\n",
       "      <td>admin</td>\n",
       "      <td>158</td>\n",
       "    </tr>\n",
       "  </tbody>\n",
       "</table>\n",
       "</div>"
      ],
      "text/plain": [
       "    name  pay\n",
       "0  admin  100\n",
       "1  admin  140\n",
       "2  admin  158"
      ]
     },
     "execution_count": 65,
     "metadata": {},
     "output_type": "execute_result"
    }
   ],
   "source": [
    "frame['name']='admin'\n",
    "frame"
   ]
  },
  {
   "cell_type": "code",
   "execution_count": 66,
   "metadata": {},
   "outputs": [
    {
     "data": {
      "text/plain": [
       "0    admin\n",
       "1    admin\n",
       "2    admin\n",
       "Name: name, dtype: object"
      ]
     },
     "execution_count": 66,
     "metadata": {},
     "output_type": "execute_result"
    }
   ],
   "source": [
    "frame.name"
   ]
  },
  {
   "cell_type": "code",
   "execution_count": 69,
   "metadata": {
    "scrolled": true
   },
   "outputs": [
    {
     "data": {
      "text/html": [
       "<div>\n",
       "<style scoped>\n",
       "    .dataframe tbody tr th:only-of-type {\n",
       "        vertical-align: middle;\n",
       "    }\n",
       "\n",
       "    .dataframe tbody tr th {\n",
       "        vertical-align: top;\n",
       "    }\n",
       "\n",
       "    .dataframe thead th {\n",
       "        text-align: right;\n",
       "    }\n",
       "</style>\n",
       "<table border=\"1\" class=\"dataframe\">\n",
       "  <thead>\n",
       "    <tr style=\"text-align: right;\">\n",
       "      <th></th>\n",
       "      <th>name</th>\n",
       "    </tr>\n",
       "  </thead>\n",
       "  <tbody>\n",
       "    <tr>\n",
       "      <th>0</th>\n",
       "      <td>admin</td>\n",
       "    </tr>\n",
       "    <tr>\n",
       "      <th>1</th>\n",
       "      <td>admin</td>\n",
       "    </tr>\n",
       "    <tr>\n",
       "      <th>2</th>\n",
       "      <td>admin</td>\n",
       "    </tr>\n",
       "  </tbody>\n",
       "</table>\n",
       "</div>"
      ],
      "text/plain": [
       "    name\n",
       "0  admin\n",
       "1  admin\n",
       "2  admin"
      ]
     },
     "execution_count": 69,
     "metadata": {},
     "output_type": "execute_result"
    }
   ],
   "source": [
    "#del frame['pay']\n",
    "frame"
   ]
  },
  {
   "cell_type": "code",
   "execution_count": 71,
   "metadata": {},
   "outputs": [
    {
     "data": {
      "text/plain": [
       "'100'"
      ]
     },
     "execution_count": 71,
     "metadata": {},
     "output_type": "execute_result"
    }
   ],
   "source": [
    "frame.pay.min()"
   ]
  },
  {
   "cell_type": "code",
   "execution_count": null,
   "metadata": {},
   "outputs": [],
   "source": [
    "frame[frame.pay>='120']"
   ]
  },
  {
   "cell_type": "code",
   "execution_count": 86,
   "metadata": {},
   "outputs": [
    {
     "ename": "SyntaxError",
     "evalue": "invalid syntax (<ipython-input-86-38c3b180905a>, line 5)",
     "output_type": "error",
     "traceback": [
      "\u001b[1;36m  File \u001b[1;32m\"<ipython-input-86-38c3b180905a>\"\u001b[1;36m, line \u001b[1;32m5\u001b[0m\n\u001b[1;33m    search_pattern = re.compile('class'=\"wsod_symbol\">(.*)<\\/a:)\u001b[0m\n\u001b[1;37m                                                       ^\u001b[0m\n\u001b[1;31mSyntaxError\u001b[0m\u001b[1;31m:\u001b[0m invalid syntax\n"
     ]
    }
   ],
   "source": [
    "import requests, re\n",
    "import pandas as pd\n",
    "def retrieve_dji_list():\n",
    "    r = requests.get('http://money.cnn.com/data/dow30')\n",
    "    search_pattern = re.compile('class'=\"wsod_symbol\">(.*)<\\/a:)\n",
    "    dji_list_in_text = re.findall(search_pattern, r.text)\n",
    "    dji_list = []\n",
    "    for item in dji_list_in_text:\n",
    "        dji_list.append([item[0],item[1], float(item[2])])\n",
    "    return dji_list\n",
    "dji_list = retrieve_dji_list()\n",
    "djidf = pd.DataFrame(dji_list)\n",
    "print(djidf)"
   ]
  },
  {
   "cell_type": "code",
   "execution_count": 93,
   "metadata": {
    "scrolled": true
   },
   "outputs": [
    {
     "data": {
      "text/plain": [
       "{'aka': ['再见，我的妾', 'Farewell My Concubine'],\n",
       " 'alt': 'https://movie.douban.com/subject/1291546/',\n",
       " 'casts': [{'alt': 'https://movie.douban.com/celebrity/1003494/',\n",
       "   'avatars': {'large': 'https://img1.doubanio.com/view/celebrity/s_ratio_celebrity/public/p67.jpg',\n",
       "    'medium': 'https://img1.doubanio.com/view/celebrity/s_ratio_celebrity/public/p67.jpg',\n",
       "    'small': 'https://img1.doubanio.com/view/celebrity/s_ratio_celebrity/public/p67.jpg'},\n",
       "   'id': '1003494',\n",
       "   'name': '张国荣'},\n",
       "  {'alt': 'https://movie.douban.com/celebrity/1050265/',\n",
       "   'avatars': {'large': 'https://img3.doubanio.com/view/celebrity/s_ratio_celebrity/public/p1391771959.66.jpg',\n",
       "    'medium': 'https://img3.doubanio.com/view/celebrity/s_ratio_celebrity/public/p1391771959.66.jpg',\n",
       "    'small': 'https://img3.doubanio.com/view/celebrity/s_ratio_celebrity/public/p1391771959.66.jpg'},\n",
       "   'id': '1050265',\n",
       "   'name': '张丰毅'},\n",
       "  {'alt': 'https://movie.douban.com/celebrity/1035641/',\n",
       "   'avatars': {'large': 'https://img1.doubanio.com/view/celebrity/s_ratio_celebrity/public/p1399268395.47.jpg',\n",
       "    'medium': 'https://img1.doubanio.com/view/celebrity/s_ratio_celebrity/public/p1399268395.47.jpg',\n",
       "    'small': 'https://img1.doubanio.com/view/celebrity/s_ratio_celebrity/public/p1399268395.47.jpg'},\n",
       "   'id': '1035641',\n",
       "   'name': '巩俐'},\n",
       "  {'alt': 'https://movie.douban.com/celebrity/1000905/',\n",
       "   'avatars': {'large': 'https://img3.doubanio.com/view/celebrity/s_ratio_celebrity/public/p46.jpg',\n",
       "    'medium': 'https://img3.doubanio.com/view/celebrity/s_ratio_celebrity/public/p46.jpg',\n",
       "    'small': 'https://img3.doubanio.com/view/celebrity/s_ratio_celebrity/public/p46.jpg'},\n",
       "   'id': '1000905',\n",
       "   'name': '葛优'}],\n",
       " 'collect_count': 1034697,\n",
       " 'comments_count': 188532,\n",
       " 'countries': ['中国大陆', '香港'],\n",
       " 'current_season': None,\n",
       " 'directors': [{'alt': 'https://movie.douban.com/celebrity/1023040/',\n",
       "   'avatars': {'large': 'https://img3.doubanio.com/view/celebrity/s_ratio_celebrity/public/p1451727734.81.jpg',\n",
       "    'medium': 'https://img3.doubanio.com/view/celebrity/s_ratio_celebrity/public/p1451727734.81.jpg',\n",
       "    'small': 'https://img3.doubanio.com/view/celebrity/s_ratio_celebrity/public/p1451727734.81.jpg'},\n",
       "   'id': '1023040',\n",
       "   'name': '陈凯歌'}],\n",
       " 'do_count': None,\n",
       " 'douban_site': '',\n",
       " 'episodes_count': None,\n",
       " 'genres': ['剧情', '爱情', '同性'],\n",
       " 'id': '1291546',\n",
       " 'images': {'large': 'https://img3.doubanio.com/view/photo/s_ratio_poster/public/p1910813120.jpg',\n",
       "  'medium': 'https://img3.doubanio.com/view/photo/s_ratio_poster/public/p1910813120.jpg',\n",
       "  'small': 'https://img3.doubanio.com/view/photo/s_ratio_poster/public/p1910813120.jpg'},\n",
       " 'mobile_url': 'https://movie.douban.com/subject/1291546/mobile',\n",
       " 'original_title': '霸王别姬',\n",
       " 'rating': {'average': 9.5, 'max': 10, 'min': 0, 'stars': '50'},\n",
       " 'ratings_count': 818430,\n",
       " 'reviews_count': 5679,\n",
       " 'schedule_url': '',\n",
       " 'seasons_count': None,\n",
       " 'share_url': 'https://m.douban.com/movie/subject/1291546',\n",
       " 'subtype': 'movie',\n",
       " 'summary': '段小楼（张丰毅）与程蝶衣（张国荣）是一对打小一起长大的师兄弟，两人一个演生，一个饰旦，一向配合天衣无缝，尤其一出《霸王别姬》，更是誉满京城，为此，两人约定合演一辈子《霸王别姬》。但两人对戏剧与人生关系的理解有本质不同，段小楼深知戏非人生，程蝶衣则是人戏不分。\\n段小楼在认为该成家立业之时迎娶了名妓菊仙（巩俐），致使程蝶衣认定菊仙是可耻的第三者，使段小楼做了叛徒，自此，三人围绕一出《霸王别姬》生出的爱恨情仇战开始随着时代风云的变迁不断升级，终酿成悲剧。©豆瓣',\n",
       " 'title': '霸王别姬',\n",
       " 'wish_count': 120023,\n",
       " 'year': '1993'}"
      ]
     },
     "execution_count": 93,
     "metadata": {},
     "output_type": "execute_result"
    }
   ],
   "source": [
    "r = requests.get('https://api.douban.com/v2/movie/subject/1291546')\n",
    "r.json()"
   ]
  },
  {
   "cell_type": "code",
   "execution_count": null,
   "metadata": {},
   "outputs": [],
   "source": [
    "import nltk"
   ]
  },
  {
   "cell_type": "code",
   "execution_count": null,
   "metadata": {},
   "outputs": [],
   "source": [
    "from nltk.corpus import gutenberg\n",
    "import nktk\n",
    "print(gutenberg.fileids())"
   ]
  },
  {
   "cell_type": "code",
   "execution_count": 1,
   "metadata": {},
   "outputs": [
    {
     "data": {
      "text/plain": [
       "0     apple\n",
       "2    orange\n",
       "5      pear\n",
       "dtype: object"
      ]
     },
     "execution_count": 1,
     "metadata": {},
     "output_type": "execute_result"
    }
   ],
   "source": [
    "import pandas as pd\n",
    "from pandas import Series\n",
    "fruit_df = pd.Series(['apple', 'orange', 'pear'], index=[0, 2, 5])\n",
    "fruit_df"
   ]
  },
  {
   "cell_type": "code",
   "execution_count": 2,
   "metadata": {},
   "outputs": [
    {
     "data": {
      "text/plain": [
       "0     apple\n",
       "1       NaN\n",
       "2    orange\n",
       "3       NaN\n",
       "4       NaN\n",
       "5      pear\n",
       "6       NaN\n",
       "dtype: object"
      ]
     },
     "execution_count": 2,
     "metadata": {},
     "output_type": "execute_result"
    }
   ],
   "source": [
    "fruit_df = fruit_df.reindex(range(7))\n",
    "fruit_df"
   ]
  },
  {
   "cell_type": "code",
   "execution_count": 3,
   "metadata": {},
   "outputs": [
    {
     "name": "stdout",
     "output_type": "stream",
     "text": [
      "0     apple\n",
      "1     apple\n",
      "2    orange\n",
      "3    orange\n",
      "4    orange\n",
      "5      pear\n",
      "6      pear\n",
      "dtype: object\n"
     ]
    }
   ],
   "source": [
    "fruit_df.fillna(method='ffill', inplace= True)\n",
    "print(fruit_df)"
   ]
  },
  {
   "cell_type": "code",
   "execution_count": 4,
   "metadata": {},
   "outputs": [],
   "source": [
    "fruit_df.reindex?"
   ]
  },
  {
   "cell_type": "code",
   "execution_count": 8,
   "metadata": {},
   "outputs": [
    {
     "data": {
      "text/plain": [
       "datetime.date(2016, 5, 23)"
      ]
     },
     "execution_count": 8,
     "metadata": {},
     "output_type": "execute_result"
    }
   ],
   "source": [
    "from datetime import date\n",
    "firstday = date.fromtimestamp(1464010200)\n",
    "firstday"
   ]
  },
  {
   "cell_type": "code",
   "execution_count": 9,
   "metadata": {
    "scrolled": true
   },
   "outputs": [
    {
     "name": "stdout",
     "output_type": "stream",
     "text": [
      "2016-05-23\n"
     ]
    }
   ],
   "source": [
    "print(date.strftime(firstday,'%Y-%m-%d'))"
   ]
  },
  {
   "cell_type": "code",
   "execution_count": 14,
   "metadata": {},
   "outputs": [],
   "source": [
    "import datetime"
   ]
  },
  {
   "cell_type": "code",
   "execution_count": 15,
   "metadata": {
    "scrolled": true
   },
   "outputs": [
    {
     "data": {
      "text/plain": [
       "['MAXYEAR',\n",
       " 'MINYEAR',\n",
       " '__builtins__',\n",
       " '__cached__',\n",
       " '__doc__',\n",
       " '__file__',\n",
       " '__loader__',\n",
       " '__name__',\n",
       " '__package__',\n",
       " '__spec__',\n",
       " 'date',\n",
       " 'datetime',\n",
       " 'datetime_CAPI',\n",
       " 'time',\n",
       " 'timedelta',\n",
       " 'timezone',\n",
       " 'tzinfo']"
      ]
     },
     "execution_count": 15,
     "metadata": {},
     "output_type": "execute_result"
    }
   ],
   "source": [
    "dir(datetime)"
   ]
  },
  {
   "cell_type": "code",
   "execution_count": 19,
   "metadata": {
    "scrolled": true
   },
   "outputs": [
    {
     "name": "stdout",
     "output_type": "stream",
     "text": [
      "9999\n",
      "1\n",
      "<class 'datetime.date'>\n",
      "<class 'datetime.datetime'>\n",
      "<capsule object \"datetime.datetime_CAPI\" at 0x00000239E6DE6CC0>\n",
      "<class 'datetime.time'>\n",
      "<class 'datetime.timedelta'>\n",
      "<class 'datetime.timezone'>\n",
      "<class 'datetime.tzinfo'>\n"
     ]
    }
   ],
   "source": [
    "print(datetime.MAXYEAR, datetime.MINYEAR, datetime.date, datetime.\\\n",
    "     datetime, datetime.datetime_CAPI, datetime.time, datetime.\\\n",
    "     timedelta, datetime.timezone, datetime.tzinfo, sep='\\n')"
   ]
  },
  {
   "cell_type": "code",
   "execution_count": 25,
   "metadata": {},
   "outputs": [
    {
     "name": "stdout",
     "output_type": "stream",
     "text": [
      "<datetime.tzinfo object at 0x00000239EB96B9C0>\n"
     ]
    }
   ],
   "source": [
    "print(datetime.tzinfo())"
   ]
  },
  {
   "cell_type": "code",
   "execution_count": 28,
   "metadata": {},
   "outputs": [
    {
     "data": {
      "text/plain": [
       "datetime.datetime(2018, 8, 27, 22, 26, 12, 989237)"
      ]
     },
     "execution_count": 28,
     "metadata": {},
     "output_type": "execute_result"
    }
   ],
   "source": [
    "datetime.datetime.now()"
   ]
  },
  {
   "cell_type": "code",
   "execution_count": 35,
   "metadata": {},
   "outputs": [
    {
     "data": {
      "text/plain": [
       "8"
      ]
     },
     "execution_count": 35,
     "metadata": {},
     "output_type": "execute_result"
    }
   ],
   "source": [
    "datetime.datetime.now().month"
   ]
  },
  {
   "cell_type": "code",
   "execution_count": 37,
   "metadata": {},
   "outputs": [
    {
     "data": {
      "text/plain": [
       "datetime.datetime(2018, 8, 27, 22, 30, 36, 111964)"
      ]
     },
     "execution_count": 37,
     "metadata": {},
     "output_type": "execute_result"
    }
   ],
   "source": [
    "from datetime import datetime\n",
    "datetime.now()"
   ]
  },
  {
   "cell_type": "code",
   "execution_count": 40,
   "metadata": {},
   "outputs": [
    {
     "data": {
      "text/plain": [
       "datetime.datetime(2018, 8, 27, 22, 30, 58, 121308)"
      ]
     },
     "execution_count": 40,
     "metadata": {},
     "output_type": "execute_result"
    }
   ],
   "source": [
    "datetime.today()"
   ]
  },
  {
   "cell_type": "code",
   "execution_count": 41,
   "metadata": {},
   "outputs": [
    {
     "name": "stdout",
     "output_type": "stream",
     "text": [
      "DatetimeIndex(['2018-08-01', '2018-08-02', '2018-08-03', '2018-08-04',\n",
      "               '2018-08-05', '2018-08-06', '2018-08-07', '2018-08-08',\n",
      "               '2018-08-09', '2018-08-10', '2018-08-11', '2018-08-12',\n",
      "               '2018-08-13', '2018-08-14', '2018-08-15'],\n",
      "              dtype='datetime64[ns]', freq='D')\n"
     ]
    }
   ],
   "source": [
    "print(pd.date_range('20180801',periods=15))"
   ]
  },
  {
   "cell_type": "code",
   "execution_count": 3,
   "metadata": {
    "scrolled": true
   },
   "outputs": [
    {
     "name": "stdout",
     "output_type": "stream",
     "text": [
      "            value\n",
      "2017-10-01      1\n",
      "2017-10-02      2\n",
      "2017-10-03      3\n",
      "2017-10-04      4\n",
      "2017-10-05      5\n",
      "2017-10-06      6\n",
      "2017-10-07      7\n",
      "2017-10-08      8\n",
      "2017-10-09      9\n",
      "2017-10-10     10\n"
     ]
    }
   ],
   "source": [
    "import pandas as pd\n",
    "import numpy as np\n",
    "a= pd.DataFrame(np.arange(1,11),index = pd.date_range\\\n",
    "                   ('2017-10-1',periods = 10),columns = ['value'])\n",
    "print(a)"
   ]
  },
  {
   "cell_type": "code",
   "execution_count": 48,
   "metadata": {},
   "outputs": [
    {
     "name": "stdout",
     "output_type": "stream",
     "text": [
      "DatetimeIndex(['2017-10-01', '2017-10-02', '2017-10-03', '2017-10-04',\n",
      "               '2017-10-05', '2017-10-06', '2017-10-07', '2017-10-08',\n",
      "               '2017-10-09', '2017-10-10'],\n",
      "              dtype='datetime64[ns]', freq='D') Index(['value'], dtype='object') 2017-10-01     1\n",
      "2017-10-02     2\n",
      "2017-10-03     3\n",
      "2017-10-04     4\n",
      "2017-10-05     5\n",
      "2017-10-06     6\n",
      "2017-10-07     7\n",
      "2017-10-08     8\n",
      "2017-10-09     9\n",
      "2017-10-10    10\n",
      "Freq: D, Name: value, dtype: int32\n"
     ]
    }
   ],
   "source": [
    "print(a.index, a.columns, a.value)"
   ]
  },
  {
   "cell_type": "code",
   "execution_count": 49,
   "metadata": {
    "scrolled": true
   },
   "outputs": [
    {
     "name": "stdout",
     "output_type": "stream",
     "text": [
      "            value\n",
      "2017-10-01      1\n",
      "2017-10-02      2\n",
      "2017-10-03      3\n",
      "2017-10-04      4\n",
      "2017-10-05      5\n"
     ]
    }
   ],
   "source": [
    "print(a.head(5))"
   ]
  },
  {
   "cell_type": "code",
   "execution_count": 4,
   "metadata": {},
   "outputs": [
    {
     "data": {
      "text/html": [
       "<div>\n",
       "<style scoped>\n",
       "    .dataframe tbody tr th:only-of-type {\n",
       "        vertical-align: middle;\n",
       "    }\n",
       "\n",
       "    .dataframe tbody tr th {\n",
       "        vertical-align: top;\n",
       "    }\n",
       "\n",
       "    .dataframe thead th {\n",
       "        text-align: right;\n",
       "    }\n",
       "</style>\n",
       "<table border=\"1\" class=\"dataframe\">\n",
       "  <thead>\n",
       "    <tr style=\"text-align: right;\">\n",
       "      <th></th>\n",
       "      <th>value</th>\n",
       "    </tr>\n",
       "  </thead>\n",
       "  <tbody>\n",
       "    <tr>\n",
       "      <th>2017-10-01</th>\n",
       "      <td>1</td>\n",
       "    </tr>\n",
       "    <tr>\n",
       "      <th>2017-10-02</th>\n",
       "      <td>2</td>\n",
       "    </tr>\n",
       "    <tr>\n",
       "      <th>2017-10-03</th>\n",
       "      <td>3</td>\n",
       "    </tr>\n",
       "    <tr>\n",
       "      <th>2017-10-04</th>\n",
       "      <td>4</td>\n",
       "    </tr>\n",
       "    <tr>\n",
       "      <th>2017-10-05</th>\n",
       "      <td>5</td>\n",
       "    </tr>\n",
       "  </tbody>\n",
       "</table>\n",
       "</div>"
      ],
      "text/plain": [
       "            value\n",
       "2017-10-01      1\n",
       "2017-10-02      2\n",
       "2017-10-03      3\n",
       "2017-10-04      4\n",
       "2017-10-05      5"
      ]
     },
     "execution_count": 4,
     "metadata": {},
     "output_type": "execute_result"
    }
   ],
   "source": [
    "a[:5]"
   ]
  },
  {
   "cell_type": "code",
   "execution_count": 51,
   "metadata": {},
   "outputs": [
    {
     "data": {
      "text/plain": [
       "(10, 1)"
      ]
     },
     "execution_count": 51,
     "metadata": {},
     "output_type": "execute_result"
    }
   ],
   "source": [
    "a.shape"
   ]
  },
  {
   "cell_type": "code",
   "execution_count": 52,
   "metadata": {},
   "outputs": [
    {
     "data": {
      "text/plain": [
       "10"
      ]
     },
     "execution_count": 52,
     "metadata": {},
     "output_type": "execute_result"
    }
   ],
   "source": [
    "a.size"
   ]
  },
  {
   "cell_type": "code",
   "execution_count": 5,
   "metadata": {},
   "outputs": [
    {
     "data": {
      "text/html": [
       "<div>\n",
       "<style scoped>\n",
       "    .dataframe tbody tr th:only-of-type {\n",
       "        vertical-align: middle;\n",
       "    }\n",
       "\n",
       "    .dataframe tbody tr th {\n",
       "        vertical-align: top;\n",
       "    }\n",
       "\n",
       "    .dataframe thead th {\n",
       "        text-align: right;\n",
       "    }\n",
       "</style>\n",
       "<table border=\"1\" class=\"dataframe\">\n",
       "  <thead>\n",
       "    <tr style=\"text-align: right;\">\n",
       "      <th></th>\n",
       "      <th>value</th>\n",
       "    </tr>\n",
       "  </thead>\n",
       "  <tbody>\n",
       "    <tr>\n",
       "      <th>2017-10-01</th>\n",
       "      <td>1</td>\n",
       "    </tr>\n",
       "    <tr>\n",
       "      <th>2017-10-02</th>\n",
       "      <td>2</td>\n",
       "    </tr>\n",
       "    <tr>\n",
       "      <th>2017-10-03</th>\n",
       "      <td>3</td>\n",
       "    </tr>\n",
       "    <tr>\n",
       "      <th>2017-10-04</th>\n",
       "      <td>4</td>\n",
       "    </tr>\n",
       "    <tr>\n",
       "      <th>2017-10-05</th>\n",
       "      <td>5</td>\n",
       "    </tr>\n",
       "    <tr>\n",
       "      <th>2017-10-06</th>\n",
       "      <td>6</td>\n",
       "    </tr>\n",
       "    <tr>\n",
       "      <th>2017-10-07</th>\n",
       "      <td>7</td>\n",
       "    </tr>\n",
       "    <tr>\n",
       "      <th>2017-10-08</th>\n",
       "      <td>8</td>\n",
       "    </tr>\n",
       "    <tr>\n",
       "      <th>2017-10-09</th>\n",
       "      <td>9</td>\n",
       "    </tr>\n",
       "    <tr>\n",
       "      <th>2017-10-10</th>\n",
       "      <td>10</td>\n",
       "    </tr>\n",
       "  </tbody>\n",
       "</table>\n",
       "</div>"
      ],
      "text/plain": [
       "            value\n",
       "2017-10-01      1\n",
       "2017-10-02      2\n",
       "2017-10-03      3\n",
       "2017-10-04      4\n",
       "2017-10-05      5\n",
       "2017-10-06      6\n",
       "2017-10-07      7\n",
       "2017-10-08      8\n",
       "2017-10-09      9\n",
       "2017-10-10     10"
      ]
     },
     "execution_count": 5,
     "metadata": {},
     "output_type": "execute_result"
    }
   ],
   "source": [
    "a"
   ]
  },
  {
   "cell_type": "code",
   "execution_count": 6,
   "metadata": {},
   "outputs": [
    {
     "name": "stdout",
     "output_type": "stream",
     "text": [
      "2017-10-01     1\n",
      "2017-10-02     2\n",
      "2017-10-03     3\n",
      "2017-10-04     4\n",
      "2017-10-05     5\n",
      "2017-10-06     6\n",
      "2017-10-07     7\n",
      "2017-10-08     8\n",
      "2017-10-09     9\n",
      "2017-10-10    10\n",
      "Freq: D, Name: value, dtype: int32\n",
      "2017-10-01     1\n",
      "2017-10-02     2\n",
      "2017-10-03     3\n",
      "2017-10-04     4\n",
      "2017-10-05     5\n",
      "2017-10-06     6\n",
      "2017-10-07     7\n",
      "2017-10-08     8\n",
      "2017-10-09     9\n",
      "2017-10-10    10\n",
      "Freq: D, Name: value, dtype: int32\n"
     ]
    }
   ],
   "source": [
    "print(a.value, a['value'], sep = '\\n')"
   ]
  },
  {
   "cell_type": "code",
   "execution_count": 7,
   "metadata": {},
   "outputs": [
    {
     "name": "stderr",
     "output_type": "stream",
     "text": [
      "e:\\programfiles\\anaconda3\\lib\\site-packages\\ipykernel_launcher.py:1: UserWarning: Pandas doesn't allow columns to be created via a new attribute name - see https://pandas.pydata.org/pandas-docs/stable/indexing.html#attribute-access\n",
      "  \"\"\"Entry point for launching an IPython kernel.\n"
     ]
    }
   ],
   "source": [
    "a.x = range(1,11)"
   ]
  },
  {
   "cell_type": "code",
   "execution_count": 11,
   "metadata": {},
   "outputs": [
    {
     "data": {
      "text/html": [
       "<div>\n",
       "<style scoped>\n",
       "    .dataframe tbody tr th:only-of-type {\n",
       "        vertical-align: middle;\n",
       "    }\n",
       "\n",
       "    .dataframe tbody tr th {\n",
       "        vertical-align: top;\n",
       "    }\n",
       "\n",
       "    .dataframe thead th {\n",
       "        text-align: right;\n",
       "    }\n",
       "</style>\n",
       "<table border=\"1\" class=\"dataframe\">\n",
       "  <thead>\n",
       "    <tr style=\"text-align: right;\">\n",
       "      <th></th>\n",
       "      <th>value</th>\n",
       "    </tr>\n",
       "  </thead>\n",
       "  <tbody>\n",
       "    <tr>\n",
       "      <th>2017-10-02</th>\n",
       "      <td>2</td>\n",
       "    </tr>\n",
       "    <tr>\n",
       "      <th>2017-10-03</th>\n",
       "      <td>3</td>\n",
       "    </tr>\n",
       "    <tr>\n",
       "      <th>2017-10-04</th>\n",
       "      <td>4</td>\n",
       "    </tr>\n",
       "    <tr>\n",
       "      <th>2017-10-05</th>\n",
       "      <td>5</td>\n",
       "    </tr>\n",
       "  </tbody>\n",
       "</table>\n",
       "</div>"
      ],
      "text/plain": [
       "            value\n",
       "2017-10-02      2\n",
       "2017-10-03      3\n",
       "2017-10-04      4\n",
       "2017-10-05      5"
      ]
     },
     "execution_count": 11,
     "metadata": {},
     "output_type": "execute_result"
    }
   ],
   "source": [
    "a.iloc[1:5]"
   ]
  },
  {
   "cell_type": "code",
   "execution_count": 12,
   "metadata": {},
   "outputs": [
    {
     "data": {
      "text/html": [
       "<div>\n",
       "<style scoped>\n",
       "    .dataframe tbody tr th:only-of-type {\n",
       "        vertical-align: middle;\n",
       "    }\n",
       "\n",
       "    .dataframe tbody tr th {\n",
       "        vertical-align: top;\n",
       "    }\n",
       "\n",
       "    .dataframe thead th {\n",
       "        text-align: right;\n",
       "    }\n",
       "</style>\n",
       "<table border=\"1\" class=\"dataframe\">\n",
       "  <thead>\n",
       "    <tr style=\"text-align: right;\">\n",
       "      <th></th>\n",
       "      <th>value</th>\n",
       "    </tr>\n",
       "  </thead>\n",
       "  <tbody>\n",
       "    <tr>\n",
       "      <th>2017-10-01</th>\n",
       "      <td>1</td>\n",
       "    </tr>\n",
       "    <tr>\n",
       "      <th>2017-10-02</th>\n",
       "      <td>2</td>\n",
       "    </tr>\n",
       "    <tr>\n",
       "      <th>2017-10-03</th>\n",
       "      <td>3</td>\n",
       "    </tr>\n",
       "    <tr>\n",
       "      <th>2017-10-04</th>\n",
       "      <td>4</td>\n",
       "    </tr>\n",
       "    <tr>\n",
       "      <th>2017-10-05</th>\n",
       "      <td>5</td>\n",
       "    </tr>\n",
       "    <tr>\n",
       "      <th>2017-10-06</th>\n",
       "      <td>6</td>\n",
       "    </tr>\n",
       "    <tr>\n",
       "      <th>2017-10-07</th>\n",
       "      <td>7</td>\n",
       "    </tr>\n",
       "    <tr>\n",
       "      <th>2017-10-08</th>\n",
       "      <td>8</td>\n",
       "    </tr>\n",
       "    <tr>\n",
       "      <th>2017-10-09</th>\n",
       "      <td>9</td>\n",
       "    </tr>\n",
       "    <tr>\n",
       "      <th>2017-10-10</th>\n",
       "      <td>10</td>\n",
       "    </tr>\n",
       "  </tbody>\n",
       "</table>\n",
       "</div>"
      ],
      "text/plain": [
       "            value\n",
       "2017-10-01      1\n",
       "2017-10-02      2\n",
       "2017-10-03      3\n",
       "2017-10-04      4\n",
       "2017-10-05      5\n",
       "2017-10-06      6\n",
       "2017-10-07      7\n",
       "2017-10-08      8\n",
       "2017-10-09      9\n",
       "2017-10-10     10"
      ]
     },
     "execution_count": 12,
     "metadata": {},
     "output_type": "execute_result"
    }
   ],
   "source": [
    "a.loc[:]"
   ]
  },
  {
   "cell_type": "code",
   "execution_count": 14,
   "metadata": {},
   "outputs": [
    {
     "data": {
      "text/plain": [
       "DatetimeIndex(['2017-10-01', '2017-10-02', '2017-10-03', '2017-10-04',\n",
       "               '2017-10-05', '2017-10-06', '2017-10-07', '2017-10-08',\n",
       "               '2017-10-09', '2017-10-10'],\n",
       "              dtype='datetime64[ns]', freq='D')"
      ]
     },
     "execution_count": 14,
     "metadata": {},
     "output_type": "execute_result"
    }
   ],
   "source": [
    "a.index"
   ]
  },
  {
   "cell_type": "code",
   "execution_count": 18,
   "metadata": {},
   "outputs": [
    {
     "data": {
      "text/html": [
       "<div>\n",
       "<style scoped>\n",
       "    .dataframe tbody tr th:only-of-type {\n",
       "        vertical-align: middle;\n",
       "    }\n",
       "\n",
       "    .dataframe tbody tr th {\n",
       "        vertical-align: top;\n",
       "    }\n",
       "\n",
       "    .dataframe thead th {\n",
       "        text-align: right;\n",
       "    }\n",
       "</style>\n",
       "<table border=\"1\" class=\"dataframe\">\n",
       "  <thead>\n",
       "    <tr style=\"text-align: right;\">\n",
       "      <th></th>\n",
       "      <th>value</th>\n",
       "    </tr>\n",
       "  </thead>\n",
       "  <tbody>\n",
       "    <tr>\n",
       "      <th>2017-10-01</th>\n",
       "      <td>1</td>\n",
       "    </tr>\n",
       "    <tr>\n",
       "      <th>2017-10-02</th>\n",
       "      <td>2</td>\n",
       "    </tr>\n",
       "    <tr>\n",
       "      <th>2017-10-03</th>\n",
       "      <td>3</td>\n",
       "    </tr>\n",
       "    <tr>\n",
       "      <th>2017-10-04</th>\n",
       "      <td>4</td>\n",
       "    </tr>\n",
       "    <tr>\n",
       "      <th>2017-10-05</th>\n",
       "      <td>5</td>\n",
       "    </tr>\n",
       "    <tr>\n",
       "      <th>2017-10-06</th>\n",
       "      <td>6</td>\n",
       "    </tr>\n",
       "    <tr>\n",
       "      <th>2017-10-07</th>\n",
       "      <td>7</td>\n",
       "    </tr>\n",
       "    <tr>\n",
       "      <th>2017-10-08</th>\n",
       "      <td>8</td>\n",
       "    </tr>\n",
       "    <tr>\n",
       "      <th>2017-10-09</th>\n",
       "      <td>9</td>\n",
       "    </tr>\n",
       "    <tr>\n",
       "      <th>2017-10-10</th>\n",
       "      <td>10</td>\n",
       "    </tr>\n",
       "  </tbody>\n",
       "</table>\n",
       "</div>"
      ],
      "text/plain": [
       "            value\n",
       "2017-10-01      1\n",
       "2017-10-02      2\n",
       "2017-10-03      3\n",
       "2017-10-04      4\n",
       "2017-10-05      5\n",
       "2017-10-06      6\n",
       "2017-10-07      7\n",
       "2017-10-08      8\n",
       "2017-10-09      9\n",
       "2017-10-10     10"
      ]
     },
     "execution_count": 18,
     "metadata": {},
     "output_type": "execute_result"
    }
   ],
   "source": [
    "a.loc[:,:]"
   ]
  },
  {
   "cell_type": "code",
   "execution_count": 21,
   "metadata": {},
   "outputs": [
    {
     "data": {
      "text/html": [
       "<div>\n",
       "<style scoped>\n",
       "    .dataframe tbody tr th:only-of-type {\n",
       "        vertical-align: middle;\n",
       "    }\n",
       "\n",
       "    .dataframe tbody tr th {\n",
       "        vertical-align: top;\n",
       "    }\n",
       "\n",
       "    .dataframe thead th {\n",
       "        text-align: right;\n",
       "    }\n",
       "</style>\n",
       "<table border=\"1\" class=\"dataframe\">\n",
       "  <thead>\n",
       "    <tr style=\"text-align: right;\">\n",
       "      <th></th>\n",
       "      <th>zs</th>\n",
       "      <th>ls</th>\n",
       "      <th>ww</th>\n",
       "      <th>zl</th>\n",
       "    </tr>\n",
       "  </thead>\n",
       "  <tbody>\n",
       "    <tr>\n",
       "      <th>a</th>\n",
       "      <td>-1.121393</td>\n",
       "      <td>-2.096961</td>\n",
       "      <td>-0.554966</td>\n",
       "      <td>0.893570</td>\n",
       "    </tr>\n",
       "    <tr>\n",
       "      <th>b</th>\n",
       "      <td>-0.638229</td>\n",
       "      <td>-0.020454</td>\n",
       "      <td>1.029485</td>\n",
       "      <td>-0.057187</td>\n",
       "    </tr>\n",
       "    <tr>\n",
       "      <th>c</th>\n",
       "      <td>1.007795</td>\n",
       "      <td>-1.033883</td>\n",
       "      <td>0.742075</td>\n",
       "      <td>-0.680120</td>\n",
       "    </tr>\n",
       "    <tr>\n",
       "      <th>d</th>\n",
       "      <td>0.433703</td>\n",
       "      <td>-1.302031</td>\n",
       "      <td>0.807398</td>\n",
       "      <td>2.337103</td>\n",
       "    </tr>\n",
       "  </tbody>\n",
       "</table>\n",
       "</div>"
      ],
      "text/plain": [
       "         zs        ls        ww        zl\n",
       "a -1.121393 -2.096961 -0.554966  0.893570\n",
       "b -0.638229 -0.020454  1.029485 -0.057187\n",
       "c  1.007795 -1.033883  0.742075 -0.680120\n",
       "d  0.433703 -1.302031  0.807398  2.337103"
      ]
     },
     "execution_count": 21,
     "metadata": {},
     "output_type": "execute_result"
    }
   ],
   "source": [
    "a = pd.DataFrame(np.random.randn(4,4),index = ['a','b','c','d'], columns=[\\\n",
    "'zs','ls','ww','zl'])\n",
    "a"
   ]
  },
  {
   "cell_type": "code",
   "execution_count": 22,
   "metadata": {},
   "outputs": [
    {
     "data": {
      "text/html": [
       "<div>\n",
       "<style scoped>\n",
       "    .dataframe tbody tr th:only-of-type {\n",
       "        vertical-align: middle;\n",
       "    }\n",
       "\n",
       "    .dataframe tbody tr th {\n",
       "        vertical-align: top;\n",
       "    }\n",
       "\n",
       "    .dataframe thead th {\n",
       "        text-align: right;\n",
       "    }\n",
       "</style>\n",
       "<table border=\"1\" class=\"dataframe\">\n",
       "  <thead>\n",
       "    <tr style=\"text-align: right;\">\n",
       "      <th></th>\n",
       "      <th>zs</th>\n",
       "      <th>ls</th>\n",
       "    </tr>\n",
       "  </thead>\n",
       "  <tbody>\n",
       "    <tr>\n",
       "      <th>a</th>\n",
       "      <td>-1.121393</td>\n",
       "      <td>-2.096961</td>\n",
       "    </tr>\n",
       "    <tr>\n",
       "      <th>b</th>\n",
       "      <td>-0.638229</td>\n",
       "      <td>-0.020454</td>\n",
       "    </tr>\n",
       "    <tr>\n",
       "      <th>c</th>\n",
       "      <td>1.007795</td>\n",
       "      <td>-1.033883</td>\n",
       "    </tr>\n",
       "    <tr>\n",
       "      <th>d</th>\n",
       "      <td>0.433703</td>\n",
       "      <td>-1.302031</td>\n",
       "    </tr>\n",
       "  </tbody>\n",
       "</table>\n",
       "</div>"
      ],
      "text/plain": [
       "         zs        ls\n",
       "a -1.121393 -2.096961\n",
       "b -0.638229 -0.020454\n",
       "c  1.007795 -1.033883\n",
       "d  0.433703 -1.302031"
      ]
     },
     "execution_count": 22,
     "metadata": {},
     "output_type": "execute_result"
    }
   ],
   "source": [
    "a.loc[:,['zs','ls']]"
   ]
  },
  {
   "cell_type": "code",
   "execution_count": 28,
   "metadata": {},
   "outputs": [
    {
     "data": {
      "text/plain": [
       "Index(['a', 'b', 'c', 'd'], dtype='object')"
      ]
     },
     "execution_count": 28,
     "metadata": {},
     "output_type": "execute_result"
    }
   ],
   "source": [
    "a.index"
   ]
  },
  {
   "cell_type": "code",
   "execution_count": 29,
   "metadata": {},
   "outputs": [
    {
     "data": {
      "text/html": [
       "<div>\n",
       "<style scoped>\n",
       "    .dataframe tbody tr th:only-of-type {\n",
       "        vertical-align: middle;\n",
       "    }\n",
       "\n",
       "    .dataframe tbody tr th {\n",
       "        vertical-align: top;\n",
       "    }\n",
       "\n",
       "    .dataframe thead th {\n",
       "        text-align: right;\n",
       "    }\n",
       "</style>\n",
       "<table border=\"1\" class=\"dataframe\">\n",
       "  <thead>\n",
       "    <tr style=\"text-align: right;\">\n",
       "      <th></th>\n",
       "      <th>zs</th>\n",
       "      <th>ls</th>\n",
       "      <th>ww</th>\n",
       "      <th>zl</th>\n",
       "    </tr>\n",
       "  </thead>\n",
       "  <tbody>\n",
       "    <tr>\n",
       "      <th>a</th>\n",
       "      <td>-1.121393</td>\n",
       "      <td>-2.096961</td>\n",
       "      <td>-0.554966</td>\n",
       "      <td>0.893570</td>\n",
       "    </tr>\n",
       "    <tr>\n",
       "      <th>b</th>\n",
       "      <td>-0.638229</td>\n",
       "      <td>-0.020454</td>\n",
       "      <td>1.029485</td>\n",
       "      <td>-0.057187</td>\n",
       "    </tr>\n",
       "    <tr>\n",
       "      <th>c</th>\n",
       "      <td>1.007795</td>\n",
       "      <td>-1.033883</td>\n",
       "      <td>0.742075</td>\n",
       "      <td>-0.680120</td>\n",
       "    </tr>\n",
       "  </tbody>\n",
       "</table>\n",
       "</div>"
      ],
      "text/plain": [
       "         zs        ls        ww        zl\n",
       "a -1.121393 -2.096961 -0.554966  0.893570\n",
       "b -0.638229 -0.020454  1.029485 -0.057187\n",
       "c  1.007795 -1.033883  0.742075 -0.680120"
      ]
     },
     "execution_count": 29,
     "metadata": {},
     "output_type": "execute_result"
    }
   ],
   "source": [
    "a.loc['a':'c',:]"
   ]
  },
  {
   "cell_type": "code",
   "execution_count": 30,
   "metadata": {},
   "outputs": [
    {
     "data": {
      "text/html": [
       "<div>\n",
       "<style scoped>\n",
       "    .dataframe tbody tr th:only-of-type {\n",
       "        vertical-align: middle;\n",
       "    }\n",
       "\n",
       "    .dataframe tbody tr th {\n",
       "        vertical-align: top;\n",
       "    }\n",
       "\n",
       "    .dataframe thead th {\n",
       "        text-align: right;\n",
       "    }\n",
       "</style>\n",
       "<table border=\"1\" class=\"dataframe\">\n",
       "  <thead>\n",
       "    <tr style=\"text-align: right;\">\n",
       "      <th></th>\n",
       "      <th>ww</th>\n",
       "    </tr>\n",
       "  </thead>\n",
       "  <tbody>\n",
       "    <tr>\n",
       "      <th>b</th>\n",
       "      <td>1.029485</td>\n",
       "    </tr>\n",
       "  </tbody>\n",
       "</table>\n",
       "</div>"
      ],
      "text/plain": [
       "         ww\n",
       "b  1.029485"
      ]
     },
     "execution_count": 30,
     "metadata": {},
     "output_type": "execute_result"
    }
   ],
   "source": [
    "a.iloc[1:2,2:3]"
   ]
  },
  {
   "cell_type": "code",
   "execution_count": 32,
   "metadata": {},
   "outputs": [
    {
     "data": {
      "text/plain": [
       "-1.1213926004680945"
      ]
     },
     "execution_count": 32,
     "metadata": {},
     "output_type": "execute_result"
    }
   ],
   "source": [
    "a.loc['a','zs']"
   ]
  },
  {
   "cell_type": "code",
   "execution_count": 33,
   "metadata": {},
   "outputs": [
    {
     "data": {
      "text/plain": [
       "1.029485006235283"
      ]
     },
     "execution_count": 33,
     "metadata": {},
     "output_type": "execute_result"
    }
   ],
   "source": [
    "a.iloc[1,2]"
   ]
  },
  {
   "cell_type": "code",
   "execution_count": 34,
   "metadata": {},
   "outputs": [
    {
     "data": {
      "text/plain": [
       "1.029485006235283"
      ]
     },
     "execution_count": 34,
     "metadata": {},
     "output_type": "execute_result"
    }
   ],
   "source": [
    "a.iat[1,2]"
   ]
  },
  {
   "cell_type": "code",
   "execution_count": 38,
   "metadata": {},
   "outputs": [
    {
     "data": {
      "text/plain": [
       "1.029485006235283"
      ]
     },
     "execution_count": 38,
     "metadata": {},
     "output_type": "execute_result"
    }
   ],
   "source": [
    "a.at['b','ww']"
   ]
  },
  {
   "cell_type": "code",
   "execution_count": 40,
   "metadata": {},
   "outputs": [
    {
     "name": "stdout",
     "output_type": "stream",
     "text": [
      "         zs        ls        ww        zl\n",
      "a -1.121393 -2.096961 -0.554966  0.893570\n",
      "b -0.638229 -0.020454  1.029485 -0.057187\n",
      "c  1.007795 -1.033883  0.742075 -0.680120\n",
      "d  0.433703 -1.302031  0.807398  2.337103\n",
      "zs   -1.121393\n",
      "ls   -2.096961\n",
      "ww   -0.554966\n",
      "zl    0.893570\n",
      "Name: a, dtype: float64\n",
      "zs   -1.121393\n",
      "ls   -2.096961\n",
      "ww   -0.554966\n",
      "zl    0.893570\n",
      "Name: a, dtype: float64\n"
     ]
    }
   ],
   "source": [
    "print(a, a.ix['a'], a.ix[0],sep='\\n')"
   ]
  },
  {
   "cell_type": "code",
   "execution_count": 41,
   "metadata": {},
   "outputs": [
    {
     "name": "stdout",
     "output_type": "stream",
     "text": [
      "a   -1.121393\n",
      "b   -0.638229\n",
      "c    1.007795\n",
      "d    0.433703\n",
      "Name: zs, dtype: float64\n",
      "a   -1.121393\n",
      "b   -0.638229\n",
      "c    1.007795\n",
      "d    0.433703\n",
      "Name: zs, dtype: float64\n"
     ]
    }
   ],
   "source": [
    "print(a.ix[:,'zs'], a.ix[:,0],sep='\\n')"
   ]
  },
  {
   "cell_type": "code",
   "execution_count": 42,
   "metadata": {},
   "outputs": [],
   "source": [
    "b = np.ceil(10*a)"
   ]
  },
  {
   "cell_type": "code",
   "execution_count": 43,
   "metadata": {},
   "outputs": [
    {
     "data": {
      "text/html": [
       "<div>\n",
       "<style scoped>\n",
       "    .dataframe tbody tr th:only-of-type {\n",
       "        vertical-align: middle;\n",
       "    }\n",
       "\n",
       "    .dataframe tbody tr th {\n",
       "        vertical-align: top;\n",
       "    }\n",
       "\n",
       "    .dataframe thead th {\n",
       "        text-align: right;\n",
       "    }\n",
       "</style>\n",
       "<table border=\"1\" class=\"dataframe\">\n",
       "  <thead>\n",
       "    <tr style=\"text-align: right;\">\n",
       "      <th></th>\n",
       "      <th>zs</th>\n",
       "      <th>ls</th>\n",
       "      <th>ww</th>\n",
       "      <th>zl</th>\n",
       "    </tr>\n",
       "  </thead>\n",
       "  <tbody>\n",
       "    <tr>\n",
       "      <th>a</th>\n",
       "      <td>-11.0</td>\n",
       "      <td>-20.0</td>\n",
       "      <td>-5.0</td>\n",
       "      <td>9.0</td>\n",
       "    </tr>\n",
       "    <tr>\n",
       "      <th>b</th>\n",
       "      <td>-6.0</td>\n",
       "      <td>-0.0</td>\n",
       "      <td>11.0</td>\n",
       "      <td>-0.0</td>\n",
       "    </tr>\n",
       "    <tr>\n",
       "      <th>c</th>\n",
       "      <td>11.0</td>\n",
       "      <td>-10.0</td>\n",
       "      <td>8.0</td>\n",
       "      <td>-6.0</td>\n",
       "    </tr>\n",
       "    <tr>\n",
       "      <th>d</th>\n",
       "      <td>5.0</td>\n",
       "      <td>-13.0</td>\n",
       "      <td>9.0</td>\n",
       "      <td>24.0</td>\n",
       "    </tr>\n",
       "  </tbody>\n",
       "</table>\n",
       "</div>"
      ],
      "text/plain": [
       "     zs    ls    ww    zl\n",
       "a -11.0 -20.0  -5.0   9.0\n",
       "b  -6.0  -0.0  11.0  -0.0\n",
       "c  11.0 -10.0   8.0  -6.0\n",
       "d   5.0 -13.0   9.0  24.0"
      ]
     },
     "execution_count": 43,
     "metadata": {},
     "output_type": "execute_result"
    }
   ],
   "source": [
    "b"
   ]
  },
  {
   "cell_type": "code",
   "execution_count": 47,
   "metadata": {},
   "outputs": [
    {
     "data": {
      "text/html": [
       "<div>\n",
       "<style scoped>\n",
       "    .dataframe tbody tr th:only-of-type {\n",
       "        vertical-align: middle;\n",
       "    }\n",
       "\n",
       "    .dataframe tbody tr th {\n",
       "        vertical-align: top;\n",
       "    }\n",
       "\n",
       "    .dataframe thead th {\n",
       "        text-align: right;\n",
       "    }\n",
       "</style>\n",
       "<table border=\"1\" class=\"dataframe\">\n",
       "  <thead>\n",
       "    <tr style=\"text-align: right;\">\n",
       "      <th></th>\n",
       "      <th>zs</th>\n",
       "      <th>ls</th>\n",
       "      <th>ww</th>\n",
       "      <th>zl</th>\n",
       "    </tr>\n",
       "  </thead>\n",
       "  <tbody>\n",
       "    <tr>\n",
       "      <th>c</th>\n",
       "      <td>11.0</td>\n",
       "      <td>-10.0</td>\n",
       "      <td>8.0</td>\n",
       "      <td>-6.0</td>\n",
       "    </tr>\n",
       "    <tr>\n",
       "      <th>d</th>\n",
       "      <td>5.0</td>\n",
       "      <td>-13.0</td>\n",
       "      <td>9.0</td>\n",
       "      <td>24.0</td>\n",
       "    </tr>\n",
       "  </tbody>\n",
       "</table>\n",
       "</div>"
      ],
      "text/plain": [
       "     zs    ls   ww    zl\n",
       "c  11.0 -10.0  8.0  -6.0\n",
       "d   5.0 -13.0  9.0  24.0"
      ]
     },
     "execution_count": 47,
     "metadata": {},
     "output_type": "execute_result"
    }
   ],
   "source": [
    "b[(b.zs>0)]"
   ]
  },
  {
   "cell_type": "code",
   "execution_count": 51,
   "metadata": {},
   "outputs": [
    {
     "name": "stderr",
     "output_type": "stream",
     "text": [
      "e:\\programfiles\\anaconda3\\lib\\site-packages\\ipykernel_launcher.py:1: UserWarning: Boolean Series key will be reindexed to match DataFrame index.\n",
      "  \"\"\"Entry point for launching an IPython kernel.\n"
     ]
    },
    {
     "data": {
      "text/html": [
       "<div>\n",
       "<style scoped>\n",
       "    .dataframe tbody tr th:only-of-type {\n",
       "        vertical-align: middle;\n",
       "    }\n",
       "\n",
       "    .dataframe tbody tr th {\n",
       "        vertical-align: top;\n",
       "    }\n",
       "\n",
       "    .dataframe thead th {\n",
       "        text-align: right;\n",
       "    }\n",
       "</style>\n",
       "<table border=\"1\" class=\"dataframe\">\n",
       "  <thead>\n",
       "    <tr style=\"text-align: right;\">\n",
       "      <th></th>\n",
       "      <th>zs</th>\n",
       "      <th>ls</th>\n",
       "      <th>ww</th>\n",
       "      <th>zl</th>\n",
       "    </tr>\n",
       "  </thead>\n",
       "  <tbody>\n",
       "  </tbody>\n",
       "</table>\n",
       "</div>"
      ],
      "text/plain": [
       "Empty DataFrame\n",
       "Columns: [zs, ls, ww, zl]\n",
       "Index: []"
      ]
     },
     "execution_count": 51,
     "metadata": {},
     "output_type": "execute_result"
    }
   ],
   "source": [
    "b[(b.ww>0)&(b.ix[2,:]>0)]"
   ]
  },
  {
   "cell_type": "code",
   "execution_count": 58,
   "metadata": {},
   "outputs": [
    {
     "data": {
      "text/plain": [
       "zs     True\n",
       "ls    False\n",
       "ww     True\n",
       "zl    False\n",
       "Name: c, dtype: bool"
      ]
     },
     "execution_count": 58,
     "metadata": {},
     "output_type": "execute_result"
    }
   ],
   "source": [
    "b.ix[2,:]>0"
   ]
  },
  {
   "cell_type": "code",
   "execution_count": 59,
   "metadata": {},
   "outputs": [
    {
     "data": {
      "text/plain": [
       "Index(['a', 'b', 'c', 'd'], dtype='object')"
      ]
     },
     "execution_count": 59,
     "metadata": {},
     "output_type": "execute_result"
    }
   ],
   "source": [
    "b.index"
   ]
  },
  {
   "cell_type": "code",
   "execution_count": 61,
   "metadata": {},
   "outputs": [
    {
     "data": {
      "text/html": [
       "<div>\n",
       "<style scoped>\n",
       "    .dataframe tbody tr th:only-of-type {\n",
       "        vertical-align: middle;\n",
       "    }\n",
       "\n",
       "    .dataframe tbody tr th {\n",
       "        vertical-align: top;\n",
       "    }\n",
       "\n",
       "    .dataframe thead th {\n",
       "        text-align: right;\n",
       "    }\n",
       "</style>\n",
       "<table border=\"1\" class=\"dataframe\">\n",
       "  <thead>\n",
       "    <tr style=\"text-align: right;\">\n",
       "      <th></th>\n",
       "      <th>zs</th>\n",
       "      <th>ls</th>\n",
       "      <th>ww</th>\n",
       "      <th>zl</th>\n",
       "    </tr>\n",
       "  </thead>\n",
       "  <tbody>\n",
       "    <tr>\n",
       "      <th>a</th>\n",
       "      <td>-11.0</td>\n",
       "      <td>-20.0</td>\n",
       "      <td>-5.0</td>\n",
       "      <td>9.0</td>\n",
       "    </tr>\n",
       "  </tbody>\n",
       "</table>\n",
       "</div>"
      ],
      "text/plain": [
       "     zs    ls   ww   zl\n",
       "a -11.0 -20.0 -5.0  9.0"
      ]
     },
     "execution_count": 61,
     "metadata": {},
     "output_type": "execute_result"
    }
   ],
   "source": [
    "b[b.index == 'a']"
   ]
  },
  {
   "cell_type": "code",
   "execution_count": 63,
   "metadata": {},
   "outputs": [
    {
     "data": {
      "text/plain": [
       "<bound method NDFrame.describe of      zs    ls    ww    zl\n",
       "a -11.0 -20.0  -5.0   9.0\n",
       "b  -6.0  -0.0  11.0  -0.0\n",
       "c  11.0 -10.0   8.0  -6.0\n",
       "d   5.0 -13.0   9.0  24.0>"
      ]
     },
     "execution_count": 63,
     "metadata": {},
     "output_type": "execute_result"
    }
   ],
   "source": [
    "b.describe"
   ]
  },
  {
   "cell_type": "code",
   "execution_count": 69,
   "metadata": {},
   "outputs": [],
   "source": [
    "b.zs.mean()\n",
    "\n",
    "b[b.zs>=4].ls\n",
    "\n",
    "len(b[b.zs>b.ls])\n",
    "\n",
    "len(b)-3"
   ]
  },
  {
   "cell_type": "code",
   "execution_count": 70,
   "metadata": {},
   "outputs": [
    {
     "data": {
      "text/plain": [
       "array([ 1.,  1., -1.])"
      ]
     },
     "execution_count": 70,
     "metadata": {},
     "output_type": "execute_result"
    }
   ],
   "source": [
    "status = np.sign(np.diff(b.zs))\n",
    "status"
   ]
  },
  {
   "cell_type": "code",
   "execution_count": 71,
   "metadata": {},
   "outputs": [
    {
     "data": {
      "text/plain": [
       "2"
      ]
     },
     "execution_count": 71,
     "metadata": {},
     "output_type": "execute_result"
    }
   ],
   "source": [
    "status[np.where(status == 1)].size"
   ]
  },
  {
   "cell_type": "code",
   "execution_count": 72,
   "metadata": {},
   "outputs": [
    {
     "data": {
      "text/plain": [
       "\u001b[1;31mSignature:\u001b[0m \u001b[0mnp\u001b[0m\u001b[1;33m.\u001b[0m\u001b[0mdiff\u001b[0m\u001b[1;33m(\u001b[0m\u001b[0ma\u001b[0m\u001b[1;33m,\u001b[0m \u001b[0mn\u001b[0m\u001b[1;33m=\u001b[0m\u001b[1;36m1\u001b[0m\u001b[1;33m,\u001b[0m \u001b[0maxis\u001b[0m\u001b[1;33m=\u001b[0m\u001b[1;33m-\u001b[0m\u001b[1;36m1\u001b[0m\u001b[1;33m)\u001b[0m\u001b[1;33m\u001b[0m\u001b[0m\n",
       "\u001b[1;31mDocstring:\u001b[0m\n",
       "Calculate the n-th discrete difference along the given axis.\n",
       "\n",
       "The first difference is given by ``out[n] = a[n+1] - a[n]`` along\n",
       "the given axis, higher differences are calculated by using `diff`\n",
       "recursively.\n",
       "\n",
       "Parameters\n",
       "----------\n",
       "a : array_like\n",
       "    Input array\n",
       "n : int, optional\n",
       "    The number of times values are differenced. If zero, the input\n",
       "    is returned as-is.\n",
       "axis : int, optional\n",
       "    The axis along which the difference is taken, default is the\n",
       "    last axis.\n",
       "\n",
       "Returns\n",
       "-------\n",
       "diff : ndarray\n",
       "    The n-th differences. The shape of the output is the same as `a`\n",
       "    except along `axis` where the dimension is smaller by `n`. The\n",
       "    type of the output is the same as the type of the difference\n",
       "    between any two elements of `a`. This is the same as the type of\n",
       "    `a` in most cases. A notable exception is `datetime64`, which\n",
       "    results in a `timedelta64` output array.\n",
       "\n",
       "See Also\n",
       "--------\n",
       "gradient, ediff1d, cumsum\n",
       "\n",
       "Notes\n",
       "-----\n",
       "Type is preserved for boolean arrays, so the result will contain\n",
       "`False` when consecutive elements are the same and `True` when they\n",
       "differ.\n",
       "\n",
       "For unsigned integer arrays, the results will also be unsigned. This\n",
       "should not be surprising, as the result is consistent with\n",
       "calculating the difference directly:\n",
       "\n",
       ">>> u8_arr = np.array([1, 0], dtype=np.uint8)\n",
       ">>> np.diff(u8_arr)\n",
       "array([255], dtype=uint8)\n",
       ">>> u8_arr[1,...] - u8_arr[0,...]\n",
       "array(255, np.uint8)\n",
       "\n",
       "If this is not desirable, then the array should be cast to a larger\n",
       "integer type first:\n",
       "\n",
       ">>> i16_arr = u8_arr.astype(np.int16)\n",
       ">>> np.diff(i16_arr)\n",
       "array([-1], dtype=int16)\n",
       "\n",
       "Examples\n",
       "--------\n",
       ">>> x = np.array([1, 2, 4, 7, 0])\n",
       ">>> np.diff(x)\n",
       "array([ 1,  2,  3, -7])\n",
       ">>> np.diff(x, n=2)\n",
       "array([  1,   1, -10])\n",
       "\n",
       ">>> x = np.array([[1, 3, 6, 10], [0, 5, 6, 8]])\n",
       ">>> np.diff(x)\n",
       "array([[2, 3, 4],\n",
       "       [5, 1, 2]])\n",
       ">>> np.diff(x, axis=0)\n",
       "array([[-1,  2,  0, -2]])\n",
       "\n",
       ">>> x = np.arange('1066-10-13', '1066-10-16', dtype=np.datetime64)\n",
       ">>> np.diff(x)\n",
       "array([1, 1], dtype='timedelta64[D]')\n",
       "\u001b[1;31mFile:\u001b[0m      e:\\programfiles\\anaconda3\\lib\\site-packages\\numpy\\lib\\function_base.py\n",
       "\u001b[1;31mType:\u001b[0m      function\n"
      ]
     },
     "metadata": {},
     "output_type": "display_data"
    }
   ],
   "source": [
    "np.diff?"
   ]
  },
  {
   "cell_type": "code",
   "execution_count": 73,
   "metadata": {},
   "outputs": [
    {
     "data": {
      "text/html": [
       "<div>\n",
       "<style scoped>\n",
       "    .dataframe tbody tr th:only-of-type {\n",
       "        vertical-align: middle;\n",
       "    }\n",
       "\n",
       "    .dataframe tbody tr th {\n",
       "        vertical-align: top;\n",
       "    }\n",
       "\n",
       "    .dataframe thead th {\n",
       "        text-align: right;\n",
       "    }\n",
       "</style>\n",
       "<table border=\"1\" class=\"dataframe\">\n",
       "  <thead>\n",
       "    <tr style=\"text-align: right;\">\n",
       "      <th></th>\n",
       "      <th>zs</th>\n",
       "      <th>ls</th>\n",
       "      <th>ww</th>\n",
       "      <th>zl</th>\n",
       "    </tr>\n",
       "  </thead>\n",
       "  <tbody>\n",
       "    <tr>\n",
       "      <th>count</th>\n",
       "      <td>4.000000</td>\n",
       "      <td>4.000000</td>\n",
       "      <td>4.000000</td>\n",
       "      <td>4.000000</td>\n",
       "    </tr>\n",
       "    <tr>\n",
       "      <th>mean</th>\n",
       "      <td>-0.250000</td>\n",
       "      <td>-10.750000</td>\n",
       "      <td>5.750000</td>\n",
       "      <td>6.750000</td>\n",
       "    </tr>\n",
       "    <tr>\n",
       "      <th>std</th>\n",
       "      <td>10.045729</td>\n",
       "      <td>8.301606</td>\n",
       "      <td>7.274384</td>\n",
       "      <td>13.047988</td>\n",
       "    </tr>\n",
       "    <tr>\n",
       "      <th>min</th>\n",
       "      <td>-11.000000</td>\n",
       "      <td>-20.000000</td>\n",
       "      <td>-5.000000</td>\n",
       "      <td>-6.000000</td>\n",
       "    </tr>\n",
       "    <tr>\n",
       "      <th>25%</th>\n",
       "      <td>-7.250000</td>\n",
       "      <td>-14.750000</td>\n",
       "      <td>4.750000</td>\n",
       "      <td>-1.500000</td>\n",
       "    </tr>\n",
       "    <tr>\n",
       "      <th>50%</th>\n",
       "      <td>-0.500000</td>\n",
       "      <td>-11.500000</td>\n",
       "      <td>8.500000</td>\n",
       "      <td>4.500000</td>\n",
       "    </tr>\n",
       "    <tr>\n",
       "      <th>75%</th>\n",
       "      <td>6.500000</td>\n",
       "      <td>-7.500000</td>\n",
       "      <td>9.500000</td>\n",
       "      <td>12.750000</td>\n",
       "    </tr>\n",
       "    <tr>\n",
       "      <th>max</th>\n",
       "      <td>11.000000</td>\n",
       "      <td>-0.000000</td>\n",
       "      <td>11.000000</td>\n",
       "      <td>24.000000</td>\n",
       "    </tr>\n",
       "  </tbody>\n",
       "</table>\n",
       "</div>"
      ],
      "text/plain": [
       "              zs         ls         ww         zl\n",
       "count   4.000000   4.000000   4.000000   4.000000\n",
       "mean   -0.250000 -10.750000   5.750000   6.750000\n",
       "std    10.045729   8.301606   7.274384  13.047988\n",
       "min   -11.000000 -20.000000  -5.000000  -6.000000\n",
       "25%    -7.250000 -14.750000   4.750000  -1.500000\n",
       "50%    -0.500000 -11.500000   8.500000   4.500000\n",
       "75%     6.500000  -7.500000   9.500000  12.750000\n",
       "max    11.000000  -0.000000  11.000000  24.000000"
      ]
     },
     "execution_count": 73,
     "metadata": {},
     "output_type": "execute_result"
    }
   ],
   "source": [
    "b.describe()"
   ]
  },
  {
   "cell_type": "code",
   "execution_count": 74,
   "metadata": {},
   "outputs": [
    {
     "data": {
      "text/html": [
       "<div>\n",
       "<style scoped>\n",
       "    .dataframe tbody tr th:only-of-type {\n",
       "        vertical-align: middle;\n",
       "    }\n",
       "\n",
       "    .dataframe tbody tr th {\n",
       "        vertical-align: top;\n",
       "    }\n",
       "\n",
       "    .dataframe thead th {\n",
       "        text-align: right;\n",
       "    }\n",
       "</style>\n",
       "<table border=\"1\" class=\"dataframe\">\n",
       "  <thead>\n",
       "    <tr style=\"text-align: right;\">\n",
       "      <th></th>\n",
       "      <th>zs</th>\n",
       "      <th>ls</th>\n",
       "      <th>ww</th>\n",
       "      <th>zl</th>\n",
       "    </tr>\n",
       "  </thead>\n",
       "  <tbody>\n",
       "    <tr>\n",
       "      <th>zs</th>\n",
       "      <td>1.000000</td>\n",
       "      <td>0.136898</td>\n",
       "      <td>0.582723</td>\n",
       "      <td>-0.097271</td>\n",
       "    </tr>\n",
       "    <tr>\n",
       "      <th>ls</th>\n",
       "      <td>0.136898</td>\n",
       "      <td>1.000000</td>\n",
       "      <td>0.829344</td>\n",
       "      <td>-0.436211</td>\n",
       "    </tr>\n",
       "    <tr>\n",
       "      <th>ww</th>\n",
       "      <td>0.582723</td>\n",
       "      <td>0.829344</td>\n",
       "      <td>1.000000</td>\n",
       "      <td>-0.113258</td>\n",
       "    </tr>\n",
       "    <tr>\n",
       "      <th>zl</th>\n",
       "      <td>-0.097271</td>\n",
       "      <td>-0.436211</td>\n",
       "      <td>-0.113258</td>\n",
       "      <td>1.000000</td>\n",
       "    </tr>\n",
       "  </tbody>\n",
       "</table>\n",
       "</div>"
      ],
      "text/plain": [
       "          zs        ls        ww        zl\n",
       "zs  1.000000  0.136898  0.582723 -0.097271\n",
       "ls  0.136898  1.000000  0.829344 -0.436211\n",
       "ww  0.582723  0.829344  1.000000 -0.113258\n",
       "zl -0.097271 -0.436211 -0.113258  1.000000"
      ]
     },
     "execution_count": 74,
     "metadata": {},
     "output_type": "execute_result"
    }
   ],
   "source": [
    "b.corr() # 即b.corr(method = 'pearson'),另外也可用method = 'spearman'"
   ]
  },
  {
   "cell_type": "code",
   "execution_count": 75,
   "metadata": {},
   "outputs": [
    {
     "data": {
      "text/html": [
       "<div>\n",
       "<style scoped>\n",
       "    .dataframe tbody tr th:only-of-type {\n",
       "        vertical-align: middle;\n",
       "    }\n",
       "\n",
       "    .dataframe tbody tr th {\n",
       "        vertical-align: top;\n",
       "    }\n",
       "\n",
       "    .dataframe thead th {\n",
       "        text-align: right;\n",
       "    }\n",
       "</style>\n",
       "<table border=\"1\" class=\"dataframe\">\n",
       "  <thead>\n",
       "    <tr style=\"text-align: right;\">\n",
       "      <th></th>\n",
       "      <th>zs</th>\n",
       "      <th>ls</th>\n",
       "      <th>ww</th>\n",
       "      <th>zl</th>\n",
       "    </tr>\n",
       "  </thead>\n",
       "  <tbody>\n",
       "    <tr>\n",
       "      <th>zs</th>\n",
       "      <td>1.0</td>\n",
       "      <td>0.4</td>\n",
       "      <td>0.2</td>\n",
       "      <td>-0.4</td>\n",
       "    </tr>\n",
       "    <tr>\n",
       "      <th>ls</th>\n",
       "      <td>0.4</td>\n",
       "      <td>1.0</td>\n",
       "      <td>0.8</td>\n",
       "      <td>-0.6</td>\n",
       "    </tr>\n",
       "    <tr>\n",
       "      <th>ww</th>\n",
       "      <td>0.2</td>\n",
       "      <td>0.8</td>\n",
       "      <td>1.0</td>\n",
       "      <td>0.0</td>\n",
       "    </tr>\n",
       "    <tr>\n",
       "      <th>zl</th>\n",
       "      <td>-0.4</td>\n",
       "      <td>-0.6</td>\n",
       "      <td>0.0</td>\n",
       "      <td>1.0</td>\n",
       "    </tr>\n",
       "  </tbody>\n",
       "</table>\n",
       "</div>"
      ],
      "text/plain": [
       "     zs   ls   ww   zl\n",
       "zs  1.0  0.4  0.2 -0.4\n",
       "ls  0.4  1.0  0.8 -0.6\n",
       "ww  0.2  0.8  1.0  0.0\n",
       "zl -0.4 -0.6  0.0  1.0"
      ]
     },
     "execution_count": 75,
     "metadata": {},
     "output_type": "execute_result"
    }
   ],
   "source": [
    "b.corr(method = 'spearman')"
   ]
  },
  {
   "cell_type": "code",
   "execution_count": 76,
   "metadata": {},
   "outputs": [
    {
     "data": {
      "text/plain": [
       "\u001b[1;31mSignature:\u001b[0m \u001b[0mb\u001b[0m\u001b[1;33m.\u001b[0m\u001b[0msort_values\u001b[0m\u001b[1;33m(\u001b[0m\u001b[0mby\u001b[0m\u001b[1;33m,\u001b[0m \u001b[0maxis\u001b[0m\u001b[1;33m=\u001b[0m\u001b[1;36m0\u001b[0m\u001b[1;33m,\u001b[0m \u001b[0mascending\u001b[0m\u001b[1;33m=\u001b[0m\u001b[1;32mTrue\u001b[0m\u001b[1;33m,\u001b[0m \u001b[0minplace\u001b[0m\u001b[1;33m=\u001b[0m\u001b[1;32mFalse\u001b[0m\u001b[1;33m,\u001b[0m \u001b[0mkind\u001b[0m\u001b[1;33m=\u001b[0m\u001b[1;34m'quicksort'\u001b[0m\u001b[1;33m,\u001b[0m \u001b[0mna_position\u001b[0m\u001b[1;33m=\u001b[0m\u001b[1;34m'last'\u001b[0m\u001b[1;33m)\u001b[0m\u001b[1;33m\u001b[0m\u001b[0m\n",
       "\u001b[1;31mDocstring:\u001b[0m\n",
       "Sort by the values along either axis\n",
       "\n",
       ".. versionadded:: 0.17.0\n",
       "\n",
       "Parameters\n",
       "----------\n",
       "by : str or list of str\n",
       "    Name or list of names which refer to the axis items.\n",
       "axis : {0 or 'index', 1 or 'columns'}, default 0\n",
       "    Axis to direct sorting\n",
       "ascending : bool or list of bool, default True\n",
       "     Sort ascending vs. descending. Specify list for multiple sort\n",
       "     orders.  If this is a list of bools, must match the length of\n",
       "     the by.\n",
       "inplace : bool, default False\n",
       "     if True, perform operation in-place\n",
       "kind : {'quicksort', 'mergesort', 'heapsort'}, default 'quicksort'\n",
       "     Choice of sorting algorithm. See also ndarray.np.sort for more\n",
       "     information.  `mergesort` is the only stable algorithm. For\n",
       "     DataFrames, this option is only applied when sorting on a single\n",
       "     column or label.\n",
       "na_position : {'first', 'last'}, default 'last'\n",
       "     `first` puts NaNs at the beginning, `last` puts NaNs at the end\n",
       "\n",
       "Returns\n",
       "-------\n",
       "sorted_obj : DataFrame\n",
       "\n",
       "Examples\n",
       "--------\n",
       ">>> df = pd.DataFrame({\n",
       "...     'col1' : ['A', 'A', 'B', np.nan, 'D', 'C'],\n",
       "...     'col2' : [2, 1, 9, 8, 7, 4],\n",
       "...     'col3': [0, 1, 9, 4, 2, 3],\n",
       "... })\n",
       ">>> df\n",
       "    col1 col2 col3\n",
       "0   A    2    0\n",
       "1   A    1    1\n",
       "2   B    9    9\n",
       "3   NaN  8    4\n",
       "4   D    7    2\n",
       "5   C    4    3\n",
       "\n",
       "Sort by col1\n",
       "\n",
       ">>> df.sort_values(by=['col1'])\n",
       "    col1 col2 col3\n",
       "0   A    2    0\n",
       "1   A    1    1\n",
       "2   B    9    9\n",
       "5   C    4    3\n",
       "4   D    7    2\n",
       "3   NaN  8    4\n",
       "\n",
       "Sort by multiple columns\n",
       "\n",
       ">>> df.sort_values(by=['col1', 'col2'])\n",
       "    col1 col2 col3\n",
       "1   A    1    1\n",
       "0   A    2    0\n",
       "2   B    9    9\n",
       "5   C    4    3\n",
       "4   D    7    2\n",
       "3   NaN  8    4\n",
       "\n",
       "Sort Descending\n",
       "\n",
       ">>> df.sort_values(by='col1', ascending=False)\n",
       "    col1 col2 col3\n",
       "4   D    7    2\n",
       "5   C    4    3\n",
       "2   B    9    9\n",
       "0   A    2    0\n",
       "1   A    1    1\n",
       "3   NaN  8    4\n",
       "\n",
       "Putting NAs first\n",
       "\n",
       ">>> df.sort_values(by='col1', ascending=False, na_position='first')\n",
       "    col1 col2 col3\n",
       "3   NaN  8    4\n",
       "4   D    7    2\n",
       "5   C    4    3\n",
       "2   B    9    9\n",
       "0   A    2    0\n",
       "1   A    1    1\n",
       "\u001b[1;31mFile:\u001b[0m      e:\\programfiles\\anaconda3\\lib\\site-packages\\pandas\\core\\frame.py\n",
       "\u001b[1;31mType:\u001b[0m      method\n"
      ]
     },
     "metadata": {},
     "output_type": "display_data"
    }
   ],
   "source": [
    "b.sort_values?"
   ]
  },
  {
   "cell_type": "code",
   "execution_count": 77,
   "metadata": {},
   "outputs": [
    {
     "data": {
      "text/html": [
       "<div>\n",
       "<style scoped>\n",
       "    .dataframe tbody tr th:only-of-type {\n",
       "        vertical-align: middle;\n",
       "    }\n",
       "\n",
       "    .dataframe tbody tr th {\n",
       "        vertical-align: top;\n",
       "    }\n",
       "\n",
       "    .dataframe thead th {\n",
       "        text-align: right;\n",
       "    }\n",
       "</style>\n",
       "<table border=\"1\" class=\"dataframe\">\n",
       "  <thead>\n",
       "    <tr style=\"text-align: right;\">\n",
       "      <th></th>\n",
       "      <th>zs</th>\n",
       "      <th>ls</th>\n",
       "      <th>ww</th>\n",
       "      <th>zl</th>\n",
       "    </tr>\n",
       "  </thead>\n",
       "  <tbody>\n",
       "    <tr>\n",
       "      <th>a</th>\n",
       "      <td>-11.0</td>\n",
       "      <td>-20.0</td>\n",
       "      <td>-5.0</td>\n",
       "      <td>9.0</td>\n",
       "    </tr>\n",
       "    <tr>\n",
       "      <th>b</th>\n",
       "      <td>-6.0</td>\n",
       "      <td>-0.0</td>\n",
       "      <td>11.0</td>\n",
       "      <td>-0.0</td>\n",
       "    </tr>\n",
       "    <tr>\n",
       "      <th>d</th>\n",
       "      <td>5.0</td>\n",
       "      <td>-13.0</td>\n",
       "      <td>9.0</td>\n",
       "      <td>24.0</td>\n",
       "    </tr>\n",
       "    <tr>\n",
       "      <th>c</th>\n",
       "      <td>11.0</td>\n",
       "      <td>-10.0</td>\n",
       "      <td>8.0</td>\n",
       "      <td>-6.0</td>\n",
       "    </tr>\n",
       "  </tbody>\n",
       "</table>\n",
       "</div>"
      ],
      "text/plain": [
       "     zs    ls    ww    zl\n",
       "a -11.0 -20.0  -5.0   9.0\n",
       "b  -6.0  -0.0  11.0  -0.0\n",
       "d   5.0 -13.0   9.0  24.0\n",
       "c  11.0 -10.0   8.0  -6.0"
      ]
     },
     "execution_count": 77,
     "metadata": {},
     "output_type": "execute_result"
    }
   ],
   "source": [
    "b.sort_values('zs')"
   ]
  },
  {
   "cell_type": "code",
   "execution_count": 79,
   "metadata": {},
   "outputs": [
    {
     "data": {
      "text/plain": [
       "c   -10.0\n",
       "d   -13.0\n",
       "b    -0.0\n",
       "Name: ls, dtype: float64"
      ]
     },
     "execution_count": 79,
     "metadata": {},
     "output_type": "execute_result"
    }
   ],
   "source": [
    "b.sort_values('zs',ascending=False)[:3].ls"
   ]
  },
  {
   "cell_type": "code",
   "execution_count": 80,
   "metadata": {},
   "outputs": [
    {
     "data": {
      "text/plain": [
       "\u001b[1;31mSignature:\u001b[0m \u001b[0mb\u001b[0m\u001b[1;33m.\u001b[0m\u001b[0msort_index\u001b[0m\u001b[1;33m(\u001b[0m\u001b[0maxis\u001b[0m\u001b[1;33m=\u001b[0m\u001b[1;36m0\u001b[0m\u001b[1;33m,\u001b[0m \u001b[0mlevel\u001b[0m\u001b[1;33m=\u001b[0m\u001b[1;32mNone\u001b[0m\u001b[1;33m,\u001b[0m \u001b[0mascending\u001b[0m\u001b[1;33m=\u001b[0m\u001b[1;32mTrue\u001b[0m\u001b[1;33m,\u001b[0m \u001b[0minplace\u001b[0m\u001b[1;33m=\u001b[0m\u001b[1;32mFalse\u001b[0m\u001b[1;33m,\u001b[0m \u001b[0mkind\u001b[0m\u001b[1;33m=\u001b[0m\u001b[1;34m'quicksort'\u001b[0m\u001b[1;33m,\u001b[0m \u001b[0mna_position\u001b[0m\u001b[1;33m=\u001b[0m\u001b[1;34m'last'\u001b[0m\u001b[1;33m,\u001b[0m \u001b[0msort_remaining\u001b[0m\u001b[1;33m=\u001b[0m\u001b[1;32mTrue\u001b[0m\u001b[1;33m,\u001b[0m \u001b[0mby\u001b[0m\u001b[1;33m=\u001b[0m\u001b[1;32mNone\u001b[0m\u001b[1;33m)\u001b[0m\u001b[1;33m\u001b[0m\u001b[0m\n",
       "\u001b[1;31mDocstring:\u001b[0m\n",
       "Sort object by labels (along an axis)\n",
       "\n",
       "Parameters\n",
       "----------\n",
       "axis : index, columns to direct sorting\n",
       "level : int or level name or list of ints or list of level names\n",
       "    if not None, sort on values in specified index level(s)\n",
       "ascending : boolean, default True\n",
       "    Sort ascending vs. descending\n",
       "inplace : bool, default False\n",
       "    if True, perform operation in-place\n",
       "kind : {'quicksort', 'mergesort', 'heapsort'}, default 'quicksort'\n",
       "     Choice of sorting algorithm. See also ndarray.np.sort for more\n",
       "     information.  `mergesort` is the only stable algorithm. For\n",
       "     DataFrames, this option is only applied when sorting on a single\n",
       "     column or label.\n",
       "na_position : {'first', 'last'}, default 'last'\n",
       "     `first` puts NaNs at the beginning, `last` puts NaNs at the end.\n",
       "     Not implemented for MultiIndex.\n",
       "sort_remaining : bool, default True\n",
       "    if true and sorting by level and index is multilevel, sort by other\n",
       "    levels too (in order) after sorting by specified level\n",
       "\n",
       "Returns\n",
       "-------\n",
       "sorted_obj : DataFrame\n",
       "\u001b[1;31mFile:\u001b[0m      e:\\programfiles\\anaconda3\\lib\\site-packages\\pandas\\core\\frame.py\n",
       "\u001b[1;31mType:\u001b[0m      method\n"
      ]
     },
     "metadata": {},
     "output_type": "display_data"
    }
   ],
   "source": [
    "b.sort_index?"
   ]
  },
  {
   "cell_type": "code",
   "execution_count": 81,
   "metadata": {},
   "outputs": [
    {
     "data": {
      "text/plain": [
       "0"
      ]
     },
     "execution_count": 81,
     "metadata": {},
     "output_type": "execute_result"
    }
   ],
   "source": [
    "len(b[(b.ls>0) & (b.ww>0)])"
   ]
  },
  {
   "cell_type": "code",
   "execution_count": 83,
   "metadata": {},
   "outputs": [
    {
     "name": "stdout",
     "output_type": "stream",
     "text": [
      "No Python documentation found for 'sort'.\n",
      "Use help() to get the interactive help utility.\n",
      "Use help(str) for help on the str class.\n",
      "\n"
     ]
    }
   ],
   "source": [
    "help('sort')"
   ]
  },
  {
   "cell_type": "code",
   "execution_count": 86,
   "metadata": {},
   "outputs": [
    {
     "ename": "ImportError",
     "evalue": "cannot import name 'strptime'",
     "output_type": "error",
     "traceback": [
      "\u001b[1;31m---------------------------------------------------------------------------\u001b[0m",
      "\u001b[1;31mImportError\u001b[0m                               Traceback (most recent call last)",
      "\u001b[1;32m<ipython-input-86-7fcfa642d35d>\u001b[0m in \u001b[0;36m<module>\u001b[1;34m()\u001b[0m\n\u001b[1;32m----> 1\u001b[1;33m \u001b[1;32mfrom\u001b[0m \u001b[0mpandas\u001b[0m \u001b[1;32mimport\u001b[0m \u001b[0mstrptime\u001b[0m\u001b[1;33m\u001b[0m\u001b[0m\n\u001b[0m\u001b[0;32m      2\u001b[0m \u001b[0mstrptime\u001b[0m\u001b[1;33m(\u001b[0m\u001b[1;34m'20180801'\u001b[0m\u001b[1;33m)\u001b[0m\u001b[1;33m\u001b[0m\u001b[0m\n",
      "\u001b[1;31mImportError\u001b[0m: cannot import name 'strptime'"
     ]
    }
   ],
   "source": [
    "# from pandas import strptime\n",
    "strptime('20180801')"
   ]
  },
  {
   "cell_type": "code",
   "execution_count": 87,
   "metadata": {},
   "outputs": [
    {
     "data": {
      "text/html": [
       "<div>\n",
       "<style scoped>\n",
       "    .dataframe tbody tr th:only-of-type {\n",
       "        vertical-align: middle;\n",
       "    }\n",
       "\n",
       "    .dataframe tbody tr th {\n",
       "        vertical-align: top;\n",
       "    }\n",
       "\n",
       "    .dataframe thead th {\n",
       "        text-align: right;\n",
       "    }\n",
       "</style>\n",
       "<table border=\"1\" class=\"dataframe\">\n",
       "  <thead>\n",
       "    <tr style=\"text-align: right;\">\n",
       "      <th></th>\n",
       "      <th>zs</th>\n",
       "      <th>ls</th>\n",
       "      <th>ww</th>\n",
       "      <th>zl</th>\n",
       "    </tr>\n",
       "  </thead>\n",
       "  <tbody>\n",
       "    <tr>\n",
       "      <th>a</th>\n",
       "      <td>-11.0</td>\n",
       "      <td>-20.0</td>\n",
       "      <td>-5.0</td>\n",
       "      <td>9.0</td>\n",
       "    </tr>\n",
       "    <tr>\n",
       "      <th>b</th>\n",
       "      <td>-6.0</td>\n",
       "      <td>-0.0</td>\n",
       "      <td>11.0</td>\n",
       "      <td>-0.0</td>\n",
       "    </tr>\n",
       "    <tr>\n",
       "      <th>c</th>\n",
       "      <td>11.0</td>\n",
       "      <td>-10.0</td>\n",
       "      <td>8.0</td>\n",
       "      <td>-6.0</td>\n",
       "    </tr>\n",
       "    <tr>\n",
       "      <th>d</th>\n",
       "      <td>5.0</td>\n",
       "      <td>-13.0</td>\n",
       "      <td>9.0</td>\n",
       "      <td>24.0</td>\n",
       "    </tr>\n",
       "  </tbody>\n",
       "</table>\n",
       "</div>"
      ],
      "text/plain": [
       "     zs    ls    ww    zl\n",
       "a -11.0 -20.0  -5.0   9.0\n",
       "b  -6.0  -0.0  11.0  -0.0\n",
       "c  11.0 -10.0   8.0  -6.0\n",
       "d   5.0 -13.0   9.0  24.0"
      ]
     },
     "execution_count": 87,
     "metadata": {},
     "output_type": "execute_result"
    }
   ],
   "source": [
    "b"
   ]
  },
  {
   "cell_type": "code",
   "execution_count": 88,
   "metadata": {},
   "outputs": [
    {
     "data": {
      "text/html": [
       "<div>\n",
       "<style scoped>\n",
       "    .dataframe tbody tr th:only-of-type {\n",
       "        vertical-align: middle;\n",
       "    }\n",
       "\n",
       "    .dataframe tbody tr th {\n",
       "        vertical-align: top;\n",
       "    }\n",
       "\n",
       "    .dataframe thead th {\n",
       "        text-align: right;\n",
       "    }\n",
       "</style>\n",
       "<table border=\"1\" class=\"dataframe\">\n",
       "  <thead>\n",
       "    <tr style=\"text-align: right;\">\n",
       "      <th></th>\n",
       "      <th>zs</th>\n",
       "      <th>ls</th>\n",
       "      <th>ww</th>\n",
       "      <th>zl</th>\n",
       "    </tr>\n",
       "  </thead>\n",
       "  <tbody>\n",
       "    <tr>\n",
       "      <th>a</th>\n",
       "      <td>-11.0</td>\n",
       "      <td>-20.0</td>\n",
       "      <td>-5.0</td>\n",
       "      <td>9.0</td>\n",
       "    </tr>\n",
       "    <tr>\n",
       "      <th>b</th>\n",
       "      <td>-6.0</td>\n",
       "      <td>-0.0</td>\n",
       "      <td>11.0</td>\n",
       "      <td>-0.0</td>\n",
       "    </tr>\n",
       "    <tr>\n",
       "      <th>c</th>\n",
       "      <td>11.0</td>\n",
       "      <td>-10.0</td>\n",
       "      <td>8.0</td>\n",
       "      <td>-6.0</td>\n",
       "    </tr>\n",
       "    <tr>\n",
       "      <th>d</th>\n",
       "      <td>5.0</td>\n",
       "      <td>-13.0</td>\n",
       "      <td>9.0</td>\n",
       "      <td>24.0</td>\n",
       "    </tr>\n",
       "    <tr>\n",
       "      <th>a</th>\n",
       "      <td>-11.0</td>\n",
       "      <td>-20.0</td>\n",
       "      <td>-5.0</td>\n",
       "      <td>9.0</td>\n",
       "    </tr>\n",
       "  </tbody>\n",
       "</table>\n",
       "</div>"
      ],
      "text/plain": [
       "     zs    ls    ww    zl\n",
       "a -11.0 -20.0  -5.0   9.0\n",
       "b  -6.0  -0.0  11.0  -0.0\n",
       "c  11.0 -10.0   8.0  -6.0\n",
       "d   5.0 -13.0   9.0  24.0\n",
       "a -11.0 -20.0  -5.0   9.0"
      ]
     },
     "execution_count": 88,
     "metadata": {},
     "output_type": "execute_result"
    }
   ],
   "source": [
    "b.append(b.ix['a']) #数据的追加"
   ]
  },
  {
   "cell_type": "code",
   "execution_count": 91,
   "metadata": {},
   "outputs": [
    {
     "data": {
      "text/html": [
       "<div>\n",
       "<style scoped>\n",
       "    .dataframe tbody tr th:only-of-type {\n",
       "        vertical-align: middle;\n",
       "    }\n",
       "\n",
       "    .dataframe tbody tr th {\n",
       "        vertical-align: top;\n",
       "    }\n",
       "\n",
       "    .dataframe thead th {\n",
       "        text-align: right;\n",
       "    }\n",
       "</style>\n",
       "<table border=\"1\" class=\"dataframe\">\n",
       "  <thead>\n",
       "    <tr style=\"text-align: right;\">\n",
       "      <th></th>\n",
       "      <th>zs</th>\n",
       "      <th>ls</th>\n",
       "      <th>ww</th>\n",
       "      <th>zl</th>\n",
       "    </tr>\n",
       "  </thead>\n",
       "  <tbody>\n",
       "    <tr>\n",
       "      <th>a</th>\n",
       "      <td>-11.0</td>\n",
       "      <td>-20.0</td>\n",
       "      <td>-5.0</td>\n",
       "      <td>9.0</td>\n",
       "    </tr>\n",
       "    <tr>\n",
       "      <th>b</th>\n",
       "      <td>-6.0</td>\n",
       "      <td>-0.0</td>\n",
       "      <td>11.0</td>\n",
       "      <td>-0.0</td>\n",
       "    </tr>\n",
       "    <tr>\n",
       "      <th>d</th>\n",
       "      <td>5.0</td>\n",
       "      <td>-13.0</td>\n",
       "      <td>9.0</td>\n",
       "      <td>24.0</td>\n",
       "    </tr>\n",
       "  </tbody>\n",
       "</table>\n",
       "</div>"
      ],
      "text/plain": [
       "     zs    ls    ww    zl\n",
       "a -11.0 -20.0  -5.0   9.0\n",
       "b  -6.0  -0.0  11.0  -0.0\n",
       "d   5.0 -13.0   9.0  24.0"
      ]
     },
     "execution_count": 91,
     "metadata": {},
     "output_type": "execute_result"
    }
   ],
   "source": [
    "pieces = [b[:2],b[len(b)-1:]]\n",
    "pd.concat(pieces) #使用concat进行连接"
   ]
  },
  {
   "cell_type": "code",
   "execution_count": 92,
   "metadata": {},
   "outputs": [
    {
     "data": {
      "text/html": [
       "<div>\n",
       "<style scoped>\n",
       "    .dataframe tbody tr th:only-of-type {\n",
       "        vertical-align: middle;\n",
       "    }\n",
       "\n",
       "    .dataframe tbody tr th {\n",
       "        vertical-align: top;\n",
       "    }\n",
       "\n",
       "    .dataframe thead th {\n",
       "        text-align: right;\n",
       "    }\n",
       "</style>\n",
       "<table border=\"1\" class=\"dataframe\">\n",
       "  <thead>\n",
       "    <tr style=\"text-align: right;\">\n",
       "      <th></th>\n",
       "      <th>zs</th>\n",
       "      <th>ls_x</th>\n",
       "      <th>ww_x</th>\n",
       "      <th>ls_y</th>\n",
       "      <th>ww_y</th>\n",
       "      <th>zl</th>\n",
       "    </tr>\n",
       "  </thead>\n",
       "  <tbody>\n",
       "    <tr>\n",
       "      <th>0</th>\n",
       "      <td>-11.0</td>\n",
       "      <td>-20.0</td>\n",
       "      <td>-5.0</td>\n",
       "      <td>-20.0</td>\n",
       "      <td>-5.0</td>\n",
       "      <td>9.0</td>\n",
       "    </tr>\n",
       "    <tr>\n",
       "      <th>1</th>\n",
       "      <td>-6.0</td>\n",
       "      <td>-0.0</td>\n",
       "      <td>11.0</td>\n",
       "      <td>-0.0</td>\n",
       "      <td>11.0</td>\n",
       "      <td>-0.0</td>\n",
       "    </tr>\n",
       "    <tr>\n",
       "      <th>2</th>\n",
       "      <td>11.0</td>\n",
       "      <td>-10.0</td>\n",
       "      <td>8.0</td>\n",
       "      <td>-10.0</td>\n",
       "      <td>8.0</td>\n",
       "      <td>-6.0</td>\n",
       "    </tr>\n",
       "    <tr>\n",
       "      <th>3</th>\n",
       "      <td>5.0</td>\n",
       "      <td>-13.0</td>\n",
       "      <td>9.0</td>\n",
       "      <td>-13.0</td>\n",
       "      <td>9.0</td>\n",
       "      <td>24.0</td>\n",
       "    </tr>\n",
       "  </tbody>\n",
       "</table>\n",
       "</div>"
      ],
      "text/plain": [
       "     zs  ls_x  ww_x  ls_y  ww_y    zl\n",
       "0 -11.0 -20.0  -5.0 -20.0  -5.0   9.0\n",
       "1  -6.0  -0.0  11.0  -0.0  11.0  -0.0\n",
       "2  11.0 -10.0   8.0 -10.0   8.0  -6.0\n",
       "3   5.0 -13.0   9.0 -13.0   9.0  24.0"
      ]
     },
     "execution_count": 92,
     "metadata": {},
     "output_type": "execute_result"
    }
   ],
   "source": [
    "pd.merge(b.drop(['zl'],axis =1),b,on='zs')"
   ]
  },
  {
   "cell_type": "markdown",
   "metadata": {},
   "source": [
    "> #### loc表示标签，at 取单个值\n",
    "> #### iloc表示位置，iat取某个值"
   ]
  },
  {
   "cell_type": "markdown",
   "metadata": {},
   "source": [
    "### 聚类分析\n",
    "k均值"
   ]
  },
  {
   "cell_type": "code",
   "execution_count": 5,
   "metadata": {},
   "outputs": [
    {
     "name": "stdout",
     "output_type": "stream",
     "text": [
      "[1 0 0 1 1 0]\n"
     ]
    }
   ],
   "source": [
    "import numpy as np\n",
    "from scipy.cluster.vq import vq, kmeans, whiten\n",
    "list1 = [88, 74, 96, 85]\n",
    "list2 = [92, 99, 95, 94]\n",
    "list3 = [91, 87, 99, 95]\n",
    "list4 = [78, 99, 97, 81]\n",
    "list5 = [88, 78, 98, 84]\n",
    "list6 = [100, 95, 100, 92]\n",
    "data = np.array([list1, list2, list3, list4, list5, list6])\n",
    "whiten = whiten(data)\n",
    "centroids,_ = kmeans(whiten, 2)\n",
    "result,_ = vq(whiten, centroids)\n",
    "print(result)"
   ]
  },
  {
   "cell_type": "code",
   "execution_count": 6,
   "metadata": {},
   "outputs": [
    {
     "name": "stdout",
     "output_type": "stream",
     "text": [
      "[1 0 0 0 1 0]\n"
     ]
    }
   ],
   "source": [
    "from sklearn.cluster import KMeans\n",
    "x = data\n",
    "kmeans = KMeans(n_clusters = 2).fit(x) #聚类\n",
    "pred = kmeans.predict(x) # 所属类别\n",
    "print(pred)"
   ]
  },
  {
   "cell_type": "code",
   "execution_count": 9,
   "metadata": {},
   "outputs": [
    {
     "ename": "ValueError",
     "evalue": "Expected 2D array, got 1D array instead:\narray=[ 0.  0. 10. 14.  8.  1.  0.  0.  0.  2. 16. 14.  6.  1.  0.  0.  0.  0.\n 15. 15.  8. 15.  0.  0.  0.  0.  5. 16. 16. 10.  0.  0.  0.  0. 12. 15.\n 15. 12.  0.  0.  0.  4. 16.  6.  4. 16.  6.  0.  0.  8. 16. 10.  8. 16.\n  8.  0.  0.  1.  8. 12. 14. 12.  1.  0.].\nReshape your data either using array.reshape(-1, 1) if your data has a single feature or array.reshape(1, -1) if it contains a single sample.",
     "output_type": "error",
     "traceback": [
      "\u001b[1;31m---------------------------------------------------------------------------\u001b[0m",
      "\u001b[1;31mValueError\u001b[0m                                Traceback (most recent call last)",
      "\u001b[1;32m<ipython-input-9-1849619b0ae5>\u001b[0m in \u001b[0;36m<module>\u001b[1;34m()\u001b[0m\n\u001b[0;32m      4\u001b[0m \u001b[0mdigits\u001b[0m \u001b[1;33m=\u001b[0m \u001b[0mdatasets\u001b[0m\u001b[1;33m.\u001b[0m\u001b[0mload_digits\u001b[0m\u001b[1;33m(\u001b[0m\u001b[1;33m)\u001b[0m\u001b[1;33m\u001b[0m\u001b[0m\n\u001b[0;32m      5\u001b[0m \u001b[0mclf\u001b[0m\u001b[1;33m.\u001b[0m\u001b[0mfit\u001b[0m\u001b[1;33m(\u001b[0m\u001b[0mdigits\u001b[0m\u001b[1;33m.\u001b[0m\u001b[0mdata\u001b[0m\u001b[1;33m[\u001b[0m\u001b[1;33m:\u001b[0m\u001b[1;33m-\u001b[0m\u001b[1;36m1\u001b[0m\u001b[1;33m]\u001b[0m\u001b[1;33m,\u001b[0m \u001b[0mdigits\u001b[0m\u001b[1;33m.\u001b[0m\u001b[0mtarget\u001b[0m\u001b[1;33m[\u001b[0m\u001b[1;33m:\u001b[0m\u001b[1;33m-\u001b[0m\u001b[1;36m1\u001b[0m\u001b[1;33m]\u001b[0m\u001b[1;33m)\u001b[0m\u001b[1;33m\u001b[0m\u001b[0m\n\u001b[1;32m----> 6\u001b[1;33m \u001b[0mclf\u001b[0m\u001b[1;33m.\u001b[0m\u001b[0mpredict\u001b[0m\u001b[1;33m(\u001b[0m\u001b[0mdigits\u001b[0m\u001b[1;33m.\u001b[0m\u001b[0mdata\u001b[0m\u001b[1;33m[\u001b[0m\u001b[1;33m-\u001b[0m\u001b[1;36m1\u001b[0m\u001b[1;33m]\u001b[0m\u001b[1;33m)\u001b[0m\u001b[1;33m\u001b[0m\u001b[0m\n\u001b[0m",
      "\u001b[1;32me:\\programfiles\\anaconda3\\lib\\site-packages\\sklearn\\svm\\base.py\u001b[0m in \u001b[0;36mpredict\u001b[1;34m(self, X)\u001b[0m\n\u001b[0;32m    546\u001b[0m             \u001b[0mClass\u001b[0m \u001b[0mlabels\u001b[0m \u001b[1;32mfor\u001b[0m \u001b[0msamples\u001b[0m \u001b[1;32min\u001b[0m \u001b[0mX\u001b[0m\u001b[1;33m.\u001b[0m\u001b[1;33m\u001b[0m\u001b[0m\n\u001b[0;32m    547\u001b[0m         \"\"\"\n\u001b[1;32m--> 548\u001b[1;33m         \u001b[0my\u001b[0m \u001b[1;33m=\u001b[0m \u001b[0msuper\u001b[0m\u001b[1;33m(\u001b[0m\u001b[0mBaseSVC\u001b[0m\u001b[1;33m,\u001b[0m \u001b[0mself\u001b[0m\u001b[1;33m)\u001b[0m\u001b[1;33m.\u001b[0m\u001b[0mpredict\u001b[0m\u001b[1;33m(\u001b[0m\u001b[0mX\u001b[0m\u001b[1;33m)\u001b[0m\u001b[1;33m\u001b[0m\u001b[0m\n\u001b[0m\u001b[0;32m    549\u001b[0m         \u001b[1;32mreturn\u001b[0m \u001b[0mself\u001b[0m\u001b[1;33m.\u001b[0m\u001b[0mclasses_\u001b[0m\u001b[1;33m.\u001b[0m\u001b[0mtake\u001b[0m\u001b[1;33m(\u001b[0m\u001b[0mnp\u001b[0m\u001b[1;33m.\u001b[0m\u001b[0masarray\u001b[0m\u001b[1;33m(\u001b[0m\u001b[0my\u001b[0m\u001b[1;33m,\u001b[0m \u001b[0mdtype\u001b[0m\u001b[1;33m=\u001b[0m\u001b[0mnp\u001b[0m\u001b[1;33m.\u001b[0m\u001b[0mintp\u001b[0m\u001b[1;33m)\u001b[0m\u001b[1;33m)\u001b[0m\u001b[1;33m\u001b[0m\u001b[0m\n\u001b[0;32m    550\u001b[0m \u001b[1;33m\u001b[0m\u001b[0m\n",
      "\u001b[1;32me:\\programfiles\\anaconda3\\lib\\site-packages\\sklearn\\svm\\base.py\u001b[0m in \u001b[0;36mpredict\u001b[1;34m(self, X)\u001b[0m\n\u001b[0;32m    306\u001b[0m         \u001b[0my_pred\u001b[0m \u001b[1;33m:\u001b[0m \u001b[0marray\u001b[0m\u001b[1;33m,\u001b[0m \u001b[0mshape\u001b[0m \u001b[1;33m(\u001b[0m\u001b[0mn_samples\u001b[0m\u001b[1;33m,\u001b[0m\u001b[1;33m)\u001b[0m\u001b[1;33m\u001b[0m\u001b[0m\n\u001b[0;32m    307\u001b[0m         \"\"\"\n\u001b[1;32m--> 308\u001b[1;33m         \u001b[0mX\u001b[0m \u001b[1;33m=\u001b[0m \u001b[0mself\u001b[0m\u001b[1;33m.\u001b[0m\u001b[0m_validate_for_predict\u001b[0m\u001b[1;33m(\u001b[0m\u001b[0mX\u001b[0m\u001b[1;33m)\u001b[0m\u001b[1;33m\u001b[0m\u001b[0m\n\u001b[0m\u001b[0;32m    309\u001b[0m         \u001b[0mpredict\u001b[0m \u001b[1;33m=\u001b[0m \u001b[0mself\u001b[0m\u001b[1;33m.\u001b[0m\u001b[0m_sparse_predict\u001b[0m \u001b[1;32mif\u001b[0m \u001b[0mself\u001b[0m\u001b[1;33m.\u001b[0m\u001b[0m_sparse\u001b[0m \u001b[1;32melse\u001b[0m \u001b[0mself\u001b[0m\u001b[1;33m.\u001b[0m\u001b[0m_dense_predict\u001b[0m\u001b[1;33m\u001b[0m\u001b[0m\n\u001b[0;32m    310\u001b[0m         \u001b[1;32mreturn\u001b[0m \u001b[0mpredict\u001b[0m\u001b[1;33m(\u001b[0m\u001b[0mX\u001b[0m\u001b[1;33m)\u001b[0m\u001b[1;33m\u001b[0m\u001b[0m\n",
      "\u001b[1;32me:\\programfiles\\anaconda3\\lib\\site-packages\\sklearn\\svm\\base.py\u001b[0m in \u001b[0;36m_validate_for_predict\u001b[1;34m(self, X)\u001b[0m\n\u001b[0;32m    437\u001b[0m         \u001b[0mcheck_is_fitted\u001b[0m\u001b[1;33m(\u001b[0m\u001b[0mself\u001b[0m\u001b[1;33m,\u001b[0m \u001b[1;34m'support_'\u001b[0m\u001b[1;33m)\u001b[0m\u001b[1;33m\u001b[0m\u001b[0m\n\u001b[0;32m    438\u001b[0m \u001b[1;33m\u001b[0m\u001b[0m\n\u001b[1;32m--> 439\u001b[1;33m         \u001b[0mX\u001b[0m \u001b[1;33m=\u001b[0m \u001b[0mcheck_array\u001b[0m\u001b[1;33m(\u001b[0m\u001b[0mX\u001b[0m\u001b[1;33m,\u001b[0m \u001b[0maccept_sparse\u001b[0m\u001b[1;33m=\u001b[0m\u001b[1;34m'csr'\u001b[0m\u001b[1;33m,\u001b[0m \u001b[0mdtype\u001b[0m\u001b[1;33m=\u001b[0m\u001b[0mnp\u001b[0m\u001b[1;33m.\u001b[0m\u001b[0mfloat64\u001b[0m\u001b[1;33m,\u001b[0m \u001b[0morder\u001b[0m\u001b[1;33m=\u001b[0m\u001b[1;34m\"C\"\u001b[0m\u001b[1;33m)\u001b[0m\u001b[1;33m\u001b[0m\u001b[0m\n\u001b[0m\u001b[0;32m    440\u001b[0m         \u001b[1;32mif\u001b[0m \u001b[0mself\u001b[0m\u001b[1;33m.\u001b[0m\u001b[0m_sparse\u001b[0m \u001b[1;32mand\u001b[0m \u001b[1;32mnot\u001b[0m \u001b[0msp\u001b[0m\u001b[1;33m.\u001b[0m\u001b[0misspmatrix\u001b[0m\u001b[1;33m(\u001b[0m\u001b[0mX\u001b[0m\u001b[1;33m)\u001b[0m\u001b[1;33m:\u001b[0m\u001b[1;33m\u001b[0m\u001b[0m\n\u001b[0;32m    441\u001b[0m             \u001b[0mX\u001b[0m \u001b[1;33m=\u001b[0m \u001b[0msp\u001b[0m\u001b[1;33m.\u001b[0m\u001b[0mcsr_matrix\u001b[0m\u001b[1;33m(\u001b[0m\u001b[0mX\u001b[0m\u001b[1;33m)\u001b[0m\u001b[1;33m\u001b[0m\u001b[0m\n",
      "\u001b[1;32me:\\programfiles\\anaconda3\\lib\\site-packages\\sklearn\\utils\\validation.py\u001b[0m in \u001b[0;36mcheck_array\u001b[1;34m(array, accept_sparse, dtype, order, copy, force_all_finite, ensure_2d, allow_nd, ensure_min_samples, ensure_min_features, warn_on_dtype, estimator)\u001b[0m\n\u001b[0;32m    439\u001b[0m                     \u001b[1;34m\"Reshape your data either using array.reshape(-1, 1) if \"\u001b[0m\u001b[1;33m\u001b[0m\u001b[0m\n\u001b[0;32m    440\u001b[0m                     \u001b[1;34m\"your data has a single feature or array.reshape(1, -1) \"\u001b[0m\u001b[1;33m\u001b[0m\u001b[0m\n\u001b[1;32m--> 441\u001b[1;33m                     \"if it contains a single sample.\".format(array))\n\u001b[0m\u001b[0;32m    442\u001b[0m             \u001b[0marray\u001b[0m \u001b[1;33m=\u001b[0m \u001b[0mnp\u001b[0m\u001b[1;33m.\u001b[0m\u001b[0matleast_2d\u001b[0m\u001b[1;33m(\u001b[0m\u001b[0marray\u001b[0m\u001b[1;33m)\u001b[0m\u001b[1;33m\u001b[0m\u001b[0m\n\u001b[0;32m    443\u001b[0m             \u001b[1;31m# To ensure that array flags are maintained\u001b[0m\u001b[1;33m\u001b[0m\u001b[1;33m\u001b[0m\u001b[0m\n",
      "\u001b[1;31mValueError\u001b[0m: Expected 2D array, got 1D array instead:\narray=[ 0.  0. 10. 14.  8.  1.  0.  0.  0.  2. 16. 14.  6.  1.  0.  0.  0.  0.\n 15. 15.  8. 15.  0.  0.  0.  0.  5. 16. 16. 10.  0.  0.  0.  0. 12. 15.\n 15. 12.  0.  0.  0.  4. 16.  6.  4. 16.  6.  0.  0.  8. 16. 10.  8. 16.\n  8.  0.  0.  1.  8. 12. 14. 12.  1.  0.].\nReshape your data either using array.reshape(-1, 1) if your data has a single feature or array.reshape(1, -1) if it contains a single sample."
     ]
    }
   ],
   "source": [
    "# from sklearn import datasets\n",
    "# from sklearn import svm\n",
    "# clf = svm.SVC(gamma = 0.001, C = 100.)\n",
    "# digits = datasets.load_digits()\n",
    "# clf.fit(digits.data[:-1], digits.target[:-1])\n",
    "# clf.predict(digits.data[-1])"
   ]
  },
  {
   "cell_type": "code",
   "execution_count": 16,
   "metadata": {},
   "outputs": [
    {
     "data": {
      "image/png": "[encoded data removed]",
      "text/plain": [
       "<matplotlib.figure.Figure at 0x1ee614d9d30>"
      ]
     },
     "metadata": {},
     "output_type": "display_data"
    }
   ],
   "source": [
    "import numpy as np\n",
    "import matplotlib.pyplot as plt\n",
    "\n",
    "\n",
    "N = 50\n",
    "x = np.random.rand(N)\n",
    "y = np.random.rand(N)\n",
    "colors = np.random.rand(N)\n",
    "area = np.pi * (15 * np.random.rand(N))**2  # 0 to 15 point radii\n",
    "\n",
    "plt.scatter(x, y, s=area, c=colors, alpha=0.5)\n",
    "plt.show()"
   ]
  },
  {
   "cell_type": "code",
   "execution_count": 18,
   "metadata": {},
   "outputs": [
    {
     "data": {
      "text/plain": [
       "[<matplotlib.lines.Line2D at 0x1ee615a3f60>]"
      ]
     },
     "execution_count": 18,
     "metadata": {},
     "output_type": "execute_result"
    },
    {
     "data": {
      "image/png": "[encoded data removed]",
      "text/plain": [
       "<matplotlib.figure.Figure at 0x1ee5f8d6048>"
      ]
     },
     "metadata": {},
     "output_type": "display_data"
    }
   ],
   "source": [
    "plt.plot(x,y)"
   ]
  },
  {
   "cell_type": "code",
   "execution_count": 19,
   "metadata": {},
   "outputs": [
    {
     "data": {
      "text/plain": [
       "[<matplotlib.lines.Line2D at 0x1ee615ffdd8>]"
      ]
     },
     "execution_count": 19,
     "metadata": {},
     "output_type": "execute_result"
    },
    {
     "data": {
      "image/png": "[encoded data removed]",
      "text/plain": [
       "<matplotlib.figure.Figure at 0x1ee61590da0>"
      ]
     },
     "metadata": {},
     "output_type": "display_data"
    }
   ],
   "source": [
    "plt.plot(x,y,'o')"
   ]
  },
  {
   "cell_type": "code",
   "execution_count": 20,
   "metadata": {},
   "outputs": [
    {
     "data": {
      "text/plain": [
       "[<matplotlib.lines.Line2D at 0x1ee6165deb8>,\n",
       " <matplotlib.lines.Line2D at 0x1ee616670b8>,\n",
       " <matplotlib.lines.Line2D at 0x1ee616678d0>]"
      ]
     },
     "execution_count": 20,
     "metadata": {},
     "output_type": "execute_result"
    },
    {
     "data": {
      "image/png": "[encoded data removed]",
      "text/plain": [
       "<matplotlib.figure.Figure at 0x1ee615e5438>"
      ]
     },
     "metadata": {},
     "output_type": "display_data"
    }
   ],
   "source": [
    "t = np.arange(0., 4., 0.01)\n",
    "plt.plot(t,t,t,t+2,t,t**2) #绘制3组图"
   ]
  },
  {
   "cell_type": "code",
   "execution_count": 66,
   "metadata": {},
   "outputs": [
    {
     "data": {
      "text/plain": [
       "[<matplotlib.lines.Line2D at 0x1ee643e8470>]"
      ]
     },
     "execution_count": 66,
     "metadata": {},
     "output_type": "execute_result"
    },
    {
     "data": {
      "image/png": "[encoded data removed]",
      "text/plain": [
       "<matplotlib.figure.Figure at 0x1ee644bec88>"
      ]
     },
     "metadata": {},
     "output_type": "display_data"
    }
   ],
   "source": [
    "a = np.linspace(0,1)\n",
    "b = np.sin(4 * np.pi * x) * np.exp(-5 * x)\n",
    "plt.title('this is a demo')\n",
    "plt.xlabel('this is x')\n",
    "plt.ylabel('this is y')\n",
    "plt.plot(a,b,'r--')"
   ]
  },
  {
   "cell_type": "code",
   "execution_count": 22,
   "metadata": {},
   "outputs": [
    {
     "data": {
      "text/plain": [
       "[<matplotlib.lines.Line2D at 0x1ee61738978>]"
      ]
     },
     "execution_count": 22,
     "metadata": {},
     "output_type": "execute_result"
    },
    {
     "data": {
      "image/png": "[encoded data removed]",
      "text/plain": [
       "<matplotlib.figure.Figure at 0x1ee61697320>"
      ]
     },
     "metadata": {},
     "output_type": "display_data"
    }
   ],
   "source": [
    "plt.plot(a,b, 'o')"
   ]
  },
  {
   "cell_type": "code",
   "execution_count": 64,
   "metadata": {},
   "outputs": [
    {
     "data": {
      "text/plain": [
       "[<matplotlib.lines.Line2D at 0x1ee632b2828>,\n",
       " <matplotlib.lines.Line2D at 0x1ee64414f98>,\n",
       " <matplotlib.lines.Line2D at 0x1ee6441d7f0>]"
      ]
     },
     "execution_count": 64,
     "metadata": {},
     "output_type": "execute_result"
    },
    {
     "data": {
      "image/png": "[encoded data removed]",
      "text/plain": [
       "<matplotlib.figure.Figure at 0x1ee643bca20>"
      ]
     },
     "metadata": {},
     "output_type": "display_data"
    }
   ],
   "source": [
    "import pylab as pl\n",
    "plt.title('Stock Statistics of Coca-Cola')\n",
    "plt.xlabel('Month')\n",
    "plt.ylabel('Average Close Price')\n",
    "pl.plot(t,t,t,t+2,t,t**2)"
   ]
  },
  {
   "cell_type": "code",
   "execution_count": 52,
   "metadata": {},
   "outputs": [
    {
     "data": {
      "text/plain": [
       "[<matplotlib.lines.Line2D at 0x1ee63090b70>]"
      ]
     },
     "execution_count": 52,
     "metadata": {},
     "output_type": "execute_result"
    },
    {
     "data": {
      "image/png": "[encoded data removed]",
      "text/plain": [
       "<matplotlib.figure.Figure at 0x1ee63052a20>"
      ]
     },
     "metadata": {},
     "output_type": "display_data"
    }
   ],
   "source": [
    "pl.plot(t,t,\"g:\")"
   ]
  },
  {
   "cell_type": "code",
   "execution_count": 60,
   "metadata": {},
   "outputs": [
    {
     "data": {
      "text/plain": [
       "[<matplotlib.lines.Line2D at 0x1ee64393a90>]"
      ]
     },
     "execution_count": 60,
     "metadata": {},
     "output_type": "execute_result"
    },
    {
     "data": {
      "image/png": "[encoded data removed]",
      "text/plain": [
       "<matplotlib.figure.Figure at 0x1ee64320588>"
      ]
     },
     "metadata": {},
     "output_type": "display_data"
    }
   ],
   "source": [
    "m = np.array([1,2,3,4])\n",
    "pl.plot(m,m**2,'rD')"
   ]
  },
  {
   "cell_type": "markdown",
   "metadata": {},
   "source": [
    "##### 符号：颜色,**小写**\n",
    "- b: blue\n",
    "- g: green\n",
    "- r: red\n",
    "- c: cyan **青色**\n",
    "- m: magenta **紫色**\n",
    "- y: yellow\n",
    "- k: black\n",
    "- w: white\n",
    "##### 线型：描述\n",
    "- '-': solid\n",
    "- '--': dashed **虚线**\n",
    "- '-.': dash_dot **虚线实点**\n",
    "- ':': dotted **实点**\n",
    "- 'None': draw nothing\n",
    "- '': draw nothing\n",
    "- \": draw nothing\n",
    "##### 标记：描述\n",
    "- 'o': circle\n",
    "- 'v': triangle_down \n",
    "- 's': square\n",
    "- 'p': pentagon\n",
    "- '*\\': star\n",
    "- 'h': hexagon1\n",
    "- '+': plus\n",
    "- 'D': diamond\n"
   ]
  },
  {
   "cell_type": "code",
   "execution_count": 72,
   "metadata": {},
   "outputs": [
    {
     "data": {
      "text/plain": [
       "<matplotlib.legend.Legend at 0x1ee61926be0>"
      ]
     },
     "execution_count": 72,
     "metadata": {},
     "output_type": "execute_result"
    },
    {
     "data": {
      "image/png": "[encoded data removed]",
      "text/plain": [
       "<matplotlib.figure.Figure at 0x1ee61995ba8>"
      ]
     },
     "metadata": {},
     "output_type": "display_data"
    }
   ],
   "source": [
    "import pylab as pl\n",
    "import numpy as np\n",
    "pl.figure(figsize = (8,6),dpi = 100)\n",
    "t = np.arange(0.,4.,0.1)\n",
    "pl.plot(t,t,color='red',linestyle='-',linewidth=1,label='Line 1')\n",
    "pl.plot(t,t+2, color='green',linestyle='',marker='*',\\\n",
    "linewidth=1,label='Line 2')\n",
    "pl.plot(t,t**2,color='blue',linestyle='',marker = '+',\\\n",
    "linewidth = 2,label = 'Line 3')\n",
    "pl.legend(loc='upper left') #图例"
   ]
  },
  {
   "cell_type": "code",
   "execution_count": 77,
   "metadata": {},
   "outputs": [
    {
     "data": {
      "text/plain": [
       "[<matplotlib.lines.Line2D at 0x1ee65132320>]"
      ]
     },
     "execution_count": 77,
     "metadata": {},
     "output_type": "execute_result"
    },
    {
     "data": {
      "image/png": "[encoded data removed]",
      "text/plain": [
       "<matplotlib.figure.Figure at 0x1ee64ac4cc0>"
      ]
     },
     "metadata": {},
     "output_type": "display_data"
    }
   ],
   "source": [
    "plt.subplot(211)\n",
    "plt.plot(t,t,'r-')\n",
    "plt.subplot(212)\n",
    "plt.plot(t,t+2,'g*')"
   ]
  },
  {
   "cell_type": "code",
   "execution_count": 76,
   "metadata": {},
   "outputs": [
    {
     "data": {
      "text/plain": [
       "<matplotlib.axes._subplots.AxesSubplot at 0x1ee64a2a940>"
      ]
     },
     "execution_count": 76,
     "metadata": {},
     "output_type": "execute_result"
    },
    {
     "data": {
      "image/png": "[encoded data removed]",
      "text/plain": [
       "<matplotlib.figure.Figure at 0x1ee64a2a9b0>"
      ]
     },
     "metadata": {},
     "output_type": "display_data"
    }
   ],
   "source": [
    "plt.subplot(121)\n",
    "plt.subplot(122)"
   ]
  },
  {
   "cell_type": "code",
   "execution_count": 83,
   "metadata": {},
   "outputs": [
    {
     "data": {
      "text/plain": [
       "Text(0.5,1,'subplot2')"
      ]
     },
     "execution_count": 83,
     "metadata": {},
     "output_type": "execute_result"
    },
    {
     "data": {
      "image/png": "[encoded data removed]",
      "text/plain": [
       "<matplotlib.figure.Figure at 0x1ee65455198>"
      ]
     },
     "metadata": {},
     "output_type": "display_data"
    }
   ],
   "source": [
    "import matplotlib.pyplot as plt\n",
    "fig, (ax0, ax1) = plt.subplots(2,1)\n",
    "ax0.plot(range(7),[3,4,7,6,2,8,9],color = 'r',marker= 'o')\n",
    "ax0.set_title('subplot1')\n",
    "plt.subplots_adjust(hspace=0.5)\n",
    "ax1.plot(range(7),[5,1,8,2,6,9,4],'g-',marker='o')\n",
    "ax1.set_title('subplot2')"
   ]
  },
  {
   "cell_type": "code",
   "execution_count": 84,
   "metadata": {},
   "outputs": [
    {
     "data": {
      "image/png": "[encoded data removed]",
      "text/plain": [
       "<matplotlib.figure.Figure at 0x1ee653f2da0>"
      ]
     },
     "metadata": {},
     "output_type": "display_data"
    }
   ],
   "source": [
    "plt.axes([.1,.1,.8,.8])\n",
    "plt.plot(x,y,'g-',marker='o')\n",
    "plt.axes([.3,.15,.4,.3])\n",
    "plt.plot(a,b,'ro',marker='o')\n",
    "plt.savefig('1.jpg')\n",
    "# axes([left,bottom,width,height])参数范围为(0,1)"
   ]
  },
  {
   "cell_type": "code",
   "execution_count": 7,
   "metadata": {},
   "outputs": [],
   "source": [
    "class Dog(object):\n",
    "    counter = 0\n",
    "    def __init__(self,name):\n",
    "        self.name = name\n",
    "        Dog.counter += 1\n",
    "    def greet(self):\n",
    "        print('Hi, I am {0}, my number is {1}'.format(self.name, \\\n",
    "                                                      Dog.counter))"
   ]
  },
  {
   "cell_type": "code",
   "execution_count": 8,
   "metadata": {},
   "outputs": [
    {
     "name": "stdout",
     "output_type": "stream",
     "text": [
      "Hi, I am sara, my number is 1\n"
     ]
    }
   ],
   "source": [
    "dog1 = Dog('sara')\n",
    "dog1.greet()"
   ]
  },
  {
   "cell_type": "code",
   "execution_count": 20,
   "metadata": {},
   "outputs": [
    {
     "name": "stdout",
     "output_type": "stream",
     "text": [
      "Woof! I am zoe, my number is 6\n"
     ]
    }
   ],
   "source": [
    "class BarkingDog(Dog):\n",
    "    def greet(self):\n",
    "        print('Woof! I am {name}, my number is {number}'.\\\n",
    "              format(name=self.name,number= Dog.counter))\n",
    "if __name__ == '__main__':\n",
    "    dog = BarkingDog('zoe')\n",
    "    dog.greet()"
   ]
  },
  {
   "cell_type": "code",
   "execution_count": 21,
   "metadata": {},
   "outputs": [],
   "source": [
    "import wx"
   ]
  },
  {
   "cell_type": "code",
   "execution_count": 22,
   "metadata": {},
   "outputs": [
    {
     "data": {
      "text/plain": [
       "0"
      ]
     },
     "execution_count": 22,
     "metadata": {},
     "output_type": "execute_result"
    }
   ],
   "source": [
    "app = wx.App()\n",
    "frame = wx.Frame(None, title = 'Hello, World')\n",
    "frame.Show(True)\n",
    "app.MainLoop()"
   ]
  },
  {
   "cell_type": "code",
   "execution_count": 25,
   "metadata": {},
   "outputs": [
    {
     "name": "stdout",
     "output_type": "stream",
     "text": [
      "Help on App in module wx.core object:\n",
      "\n",
      "class App(wx._core.PyApp)\n",
      " |  The ``wx.App`` class represents the application and is used to:\n",
      " |  \n",
      " |    * bootstrap the wxPython system and initialize the underlying\n",
      " |      gui toolkit\n",
      " |    * set and get application-wide properties\n",
      " |    * implement the native windowing system main message or event loop,\n",
      " |      and to dispatch events to window instances\n",
      " |    * etc.\n",
      " |  \n",
      " |  Every wx application must have a single ``wx.App`` instance, and all\n",
      " |  creation of UI objects should be delayed until after the ``wx.App`` object\n",
      " |  has been created in order to ensure that the gui platform and wxWidgets\n",
      " |  have been fully initialized.\n",
      " |  \n",
      " |  Normally you would derive from this class and implement an ``OnInit``\n",
      " |  method that creates a frame and then calls ``self.SetTopWindow(frame)``,\n",
      " |  however ``wx.App`` is also usable on it's own without derivation.\n",
      " |  \n",
      " |  Method resolution order:\n",
      " |      App\n",
      " |      wx._core.PyApp\n",
      " |      wx._core.AppConsole\n",
      " |      wx._core.EvtHandler\n",
      " |      wx._core.Object\n",
      " |      wx._core.Trackable\n",
      " |      wx._core.EventFilter\n",
      " |      sip.wrapper\n",
      " |      sip.simplewrapper\n",
      " |      builtins.object\n",
      " |  \n",
      " |  Methods defined here:\n",
      " |  \n",
      " |  MainLoop(self)\n",
      " |      Execute the main GUI event loop\n",
      " |  \n",
      " |  OnPreInit(self)\n",
      " |      Things that must be done after _BootstrapApp has done its thing, but\n",
      " |      would be nice if they were already done by the time that OnInit is\n",
      " |      called.  This can be overridden in derived classes, but be sure to call\n",
      " |      this method from there.\n",
      " |  \n",
      " |  RedirectStdio(self, filename=None)\n",
      " |      Redirect sys.stdout and sys.stderr to a file or a popup window.\n",
      " |  \n",
      " |  RestoreStdio(self)\n",
      " |  \n",
      " |  SetOutputWindowAttributes(self, title=None, pos=None, size=None)\n",
      " |      Set the title, position and/or size of the output window if the stdio\n",
      " |      has been redirected. This should be called before any output would\n",
      " |      cause the output window to be created.\n",
      " |  \n",
      " |  SetTopWindow(self, frame)\n",
      " |      Set the \"main\" top level window, which will be used for the parent of\n",
      " |      the on-demand output window as well as for dialogs that do not have\n",
      " |      an explicit parent set.\n",
      " |  \n",
      " |  __del__(self)\n",
      " |  \n",
      " |  __init__(self, redirect=False, filename=None, useBestVisual=False, clearSigInt=True)\n",
      " |      Construct a ``wx.App`` object.\n",
      " |      \n",
      " |      :param redirect: Should ``sys.stdout`` and ``sys.stderr`` be\n",
      " |          redirected?  Defaults to False. If ``filename`` is None\n",
      " |          then output will be redirected to a window that pops up\n",
      " |          as needed.  (You can control what kind of window is created\n",
      " |          for the output by resetting the class variable\n",
      " |          ``outputWindowClass`` to a class of your choosing.)\n",
      " |      \n",
      " |      :param filename: The name of a file to redirect output to, if\n",
      " |          redirect is True.\n",
      " |      \n",
      " |      :param useBestVisual: Should the app try to use the best\n",
      " |          available visual provided by the system (only relevant on\n",
      " |          systems that have more than one visual.)  This parameter\n",
      " |          must be used instead of calling `SetUseBestVisual` later\n",
      " |          on because it must be set before the underlying GUI\n",
      " |          toolkit is initialized.\n",
      " |      \n",
      " |      :param clearSigInt: Should SIGINT be cleared?  This allows the\n",
      " |          app to terminate upon a Ctrl-C in the console like other\n",
      " |          GUI apps will.\n",
      " |      \n",
      " |      :note: You should override OnInit to do application\n",
      " |          initialization to ensure that the system, toolkit and\n",
      " |          wxWidgets are fully initialized.\n",
      " |  \n",
      " |  ----------------------------------------------------------------------\n",
      " |  Static methods defined here:\n",
      " |  \n",
      " |  Get()\n",
      " |      A staticmethod returning the currently active application object.\n",
      " |      Essentially just a more pythonic version of :meth:`GetApp`.\n",
      " |  \n",
      " |  ----------------------------------------------------------------------\n",
      " |  Data and other attributes defined here:\n",
      " |  \n",
      " |  outputWindowClass = <class 'wx.core.PyOnDemandOutputWindow'>\n",
      " |      A class that can be used for redirecting Python's stdout and\n",
      " |      stderr streams.  It will do nothing until something is wrriten to\n",
      " |      the stream at which point it will create a Frame with a text area\n",
      " |      and write the text there.\n",
      " |  \n",
      " |  ----------------------------------------------------------------------\n",
      " |  Methods inherited from wx._core.PyApp:\n",
      " |  \n",
      " |  GetAssertMode(...)\n",
      " |      GetAssertMode() -> AppAssertMode\n",
      " |      \n",
      " |      Returns the current mode for how the application responds to wx\n",
      " |      asserts.\n",
      " |  \n",
      " |  GetComCtl32Version(...)\n",
      " |      GetComCtl32Version() -> int\n",
      " |      \n",
      " |      Returns 400, 470, 471, etc. for comctl32.dll 4.00, 4.70, 4.71 or 0 if\n",
      " |      it wasn't found at all.  Raises an exception on non-Windows platforms.\n",
      " |  \n",
      " |  GetDisplayMode(...)\n",
      " |      GetDisplayMode() -> VideoMode\n",
      " |      \n",
      " |      Get display mode that is used use.\n",
      " |  \n",
      " |  GetExitOnFrameDelete(...)\n",
      " |      GetExitOnFrameDelete() -> bool\n",
      " |      \n",
      " |      Returns true if the application will exit when the top-level frame is\n",
      " |      deleted.\n",
      " |  \n",
      " |  GetLayoutDirection(...)\n",
      " |      GetLayoutDirection() -> LayoutDirection\n",
      " |      \n",
      " |      Return the layout direction for the current locale or wxLayout_Default\n",
      " |      if it's unknown.\n",
      " |  \n",
      " |  GetMacAboutMenuItemId(...)\n",
      " |      GetMacAboutMenuItemId() -> int\n",
      " |  \n",
      " |  GetMacExitMenuItemId(...)\n",
      " |      GetMacExitMenuItemId() -> int\n",
      " |  \n",
      " |  GetMacHelpMenuTitleName(...)\n",
      " |      GetMacHelpMenuTitleName() -> object\n",
      " |  \n",
      " |  GetMacPreferencesMenuItemId(...)\n",
      " |      GetMacPreferencesMenuItemId() -> int\n",
      " |  \n",
      " |  GetShell32Version(...)\n",
      " |      GetShell32Version() -> int\n",
      " |      \n",
      " |      Returns 400, 470, 471, etc. for shell32.dll 4.00, 4.70, 4.71 or 0 if\n",
      " |      it wasn't found at all.  Raises an exception on non-Windows platforms.\n",
      " |  \n",
      " |  GetTopWindow(...)\n",
      " |      GetTopWindow() -> Window\n",
      " |      \n",
      " |      Returns a pointer to the top window.\n",
      " |  \n",
      " |  GetUseBestVisual(...)\n",
      " |      GetUseBestVisual() -> bool\n",
      " |      \n",
      " |      Returns true if the application will use the best visual on systems\n",
      " |      that support different visuals, false otherwise.\n",
      " |  \n",
      " |  IsActive(...)\n",
      " |      IsActive() -> bool\n",
      " |      \n",
      " |      Returns true if the application is active, i.e. if one of its windows\n",
      " |      is currently in the foreground.\n",
      " |  \n",
      " |  IsDisplayAvailable(...)\n",
      " |      IsDisplayAvailable() -> bool\n",
      " |      \n",
      " |      Returns True if the application is able to connect to the system's\n",
      " |      display, or whatever the equivallent is for the platform.\n",
      " |  \n",
      " |  MacHideApp(...)\n",
      " |      MacHideApp()\n",
      " |      \n",
      " |      Hide all application windows just as the user can do with the\n",
      " |      system Hide command.  Mac only.\n",
      " |  \n",
      " |  MacNewFile(...)\n",
      " |      MacNewFile()\n",
      " |      \n",
      " |      Called in response of an \"open-application\" Apple event.\n",
      " |  \n",
      " |  MacOpenFile(...)\n",
      " |      MacOpenFile(fileName)\n",
      " |      \n",
      " |      Called in response of an \"open-document\" Apple event.\n",
      " |  \n",
      " |  MacOpenFiles(...)\n",
      " |      MacOpenFiles(fileNames)\n",
      " |      \n",
      " |      Called in response of an openFiles message with Cocoa, or an \"open-\n",
      " |      document\" Apple event with Carbon.\n",
      " |  \n",
      " |  MacOpenURL(...)\n",
      " |      MacOpenURL(url)\n",
      " |      \n",
      " |      Called in response of a \"get-url\" Apple event.\n",
      " |  \n",
      " |  MacPrintFile(...)\n",
      " |      MacPrintFile(fileName)\n",
      " |      \n",
      " |      Called in response of a \"print-document\" Apple event.\n",
      " |  \n",
      " |  MacReopenApp(...)\n",
      " |      MacReopenApp()\n",
      " |      \n",
      " |      Called in response of a \"reopen-application\" Apple event.\n",
      " |  \n",
      " |  OSXIsGUIApplication(...)\n",
      " |      OSXIsGUIApplication() -> bool\n",
      " |      \n",
      " |      May be overridden to indicate that the application is not a foreground\n",
      " |      GUI application under OS X.\n",
      " |  \n",
      " |  OnExit(...)\n",
      " |      OnExit(self) -> int\n",
      " |  \n",
      " |  OnInit(...)\n",
      " |      OnInit(self) -> bool\n",
      " |  \n",
      " |  OnInitGui(...)\n",
      " |      OnInitGui(self) -> bool\n",
      " |  \n",
      " |  OnRun(...)\n",
      " |      OnRun(self) -> int\n",
      " |  \n",
      " |  SafeYield(...)\n",
      " |      SafeYield(win, onlyIfNeeded) -> bool\n",
      " |      \n",
      " |      This function is similar to wxYield(), except that it disables the\n",
      " |      user input to all program windows before calling wxAppConsole::Yield\n",
      " |      and re-enables it again afterwards.\n",
      " |  \n",
      " |  SafeYieldFor(...)\n",
      " |      SafeYieldFor(win, eventsToProcess) -> bool\n",
      " |      \n",
      " |      Works like SafeYield() with onlyIfNeeded == true except that it allows\n",
      " |      the caller to specify a mask of events to be processed.\n",
      " |  \n",
      " |  SetAssertMode(...)\n",
      " |      SetAssertMode(AppAssertMode)\n",
      " |      \n",
      " |      Set the mode indicating how the application responds to wx assertion\n",
      " |      statements. Valid settings are a combination of these flags:\n",
      " |      \n",
      " |          - wx.APP_ASSERT_SUPPRESS\n",
      " |          - wx.APP_ASSERT_EXCEPTION\n",
      " |          - wx.APP_ASSERT_DIALOG\n",
      " |          - wx.APP_ASSERT_LOG\n",
      " |      \n",
      " |      The default behavior is to raise a wx.wxAssertionError exception.\n",
      " |  \n",
      " |  SetDisplayMode(...)\n",
      " |      SetDisplayMode(info) -> bool\n",
      " |      \n",
      " |      Set display mode to use.\n",
      " |  \n",
      " |  SetExitOnFrameDelete(...)\n",
      " |      SetExitOnFrameDelete(flag)\n",
      " |      \n",
      " |      Allows the programmer to specify whether the application will exit\n",
      " |      when the top-level frame is deleted.\n",
      " |  \n",
      " |  SetMacAboutMenuItemId(...)\n",
      " |      SetMacAboutMenuItemId(val: int)\n",
      " |  \n",
      " |  SetMacExitMenuItemId(...)\n",
      " |      SetMacExitMenuItemId(val: int)\n",
      " |  \n",
      " |  SetMacHelpMenuTitleName(...)\n",
      " |      SetMacHelpMenuTitleName(val: object)\n",
      " |  \n",
      " |  SetMacPreferencesMenuItemId(...)\n",
      " |      SetMacPreferencesMenuItemId(val: int)\n",
      " |  \n",
      " |  SetNativeTheme(...)\n",
      " |      SetNativeTheme(theme) -> bool\n",
      " |      \n",
      " |      Allows runtime switching of the UI environment theme.\n",
      " |  \n",
      " |  SetUseBestVisual(...)\n",
      " |      SetUseBestVisual(flag, forceTrueColour=False)\n",
      " |      \n",
      " |      Allows the programmer to specify whether the application will use the\n",
      " |      best visual on systems that support several visual on the same\n",
      " |      display.\n",
      " |  \n",
      " |  TryAfter(...)\n",
      " |      TryAfter(self, event: Event) -> bool\n",
      " |  \n",
      " |  TryBefore(...)\n",
      " |      TryBefore(self, event: Event) -> bool\n",
      " |  \n",
      " |  ----------------------------------------------------------------------\n",
      " |  Data descriptors inherited from wx._core.PyApp:\n",
      " |  \n",
      " |  AssertMode\n",
      " |      GetAssertMode() -> AppAssertMode\n",
      " |      \n",
      " |      Returns the current mode for how the application responds to wx\n",
      " |      asserts.\n",
      " |  \n",
      " |  DisplayMode\n",
      " |      GetDisplayMode() -> VideoMode\n",
      " |      \n",
      " |      Get display mode that is used use.\n",
      " |  \n",
      " |  ExitOnFrameDelete\n",
      " |      GetExitOnFrameDelete() -> bool\n",
      " |      \n",
      " |      Returns true if the application will exit when the top-level frame is\n",
      " |      deleted.\n",
      " |  \n",
      " |  LayoutDirection\n",
      " |      GetLayoutDirection() -> LayoutDirection\n",
      " |      \n",
      " |      Return the layout direction for the current locale or wxLayout_Default\n",
      " |      if it's unknown.\n",
      " |  \n",
      " |  TopWindow\n",
      " |      GetTopWindow() -> Window\n",
      " |      \n",
      " |      Returns a pointer to the top window.\n",
      " |  \n",
      " |  UseBestVisual\n",
      " |      GetUseBestVisual() -> bool\n",
      " |      \n",
      " |      Returns true if the application will use the best visual on systems\n",
      " |      that support different visuals, false otherwise.\n",
      " |  \n",
      " |  ----------------------------------------------------------------------\n",
      " |  Methods inherited from wx._core.AppConsole:\n",
      " |  \n",
      " |  DeletePendingEvents(...)\n",
      " |      DeletePendingEvents()\n",
      " |      \n",
      " |      Deletes the pending events of all wxEvtHandlers of this application.\n",
      " |  \n",
      " |  ExitMainLoop(...)\n",
      " |      ExitMainLoop()\n",
      " |      \n",
      " |      Call this to explicitly exit the main message (event) loop.\n",
      " |  \n",
      " |  FilterEvent(...)\n",
      " |      FilterEvent(event) -> int\n",
      " |      \n",
      " |      Overridden wxEventFilter method.\n",
      " |  \n",
      " |  GetAppDisplayName(...)\n",
      " |      GetAppDisplayName() -> String\n",
      " |      \n",
      " |      Returns the user-readable application name.\n",
      " |  \n",
      " |  GetAppName(...)\n",
      " |      GetAppName() -> String\n",
      " |      \n",
      " |      Returns the application name.\n",
      " |  \n",
      " |  GetClassName(...)\n",
      " |      GetClassName() -> String\n",
      " |      \n",
      " |      Gets the class name of the application.\n",
      " |  \n",
      " |  GetInstance(...)\n",
      " |      GetInstance() -> AppConsole\n",
      " |      \n",
      " |      Returns the one and only global application object.\n",
      " |  \n",
      " |  GetMainLoop(...)\n",
      " |      GetMainLoop() -> EventLoopBase\n",
      " |      \n",
      " |      Returns the main event loop instance, i.e. the event loop which is\n",
      " |      started by OnRun() and which dispatches all events sent from the\n",
      " |      native toolkit to the application (except when new event loops are\n",
      " |      temporarily set-up).\n",
      " |  \n",
      " |  GetTraits(...)\n",
      " |      GetTraits() -> AppTraits\n",
      " |      \n",
      " |      Returns a pointer to the wxAppTraits object for the application.\n",
      " |  \n",
      " |  GetVendorDisplayName(...)\n",
      " |      GetVendorDisplayName() -> String\n",
      " |      \n",
      " |      Returns the user-readable vendor name.\n",
      " |  \n",
      " |  GetVendorName(...)\n",
      " |      GetVendorName() -> String\n",
      " |      \n",
      " |      Returns the application's vendor name.\n",
      " |  \n",
      " |  HasPendingEvents(...)\n",
      " |      HasPendingEvents() -> bool\n",
      " |      \n",
      " |      Returns true if there are pending events on the internal pending event\n",
      " |      list.\n",
      " |  \n",
      " |  IsMainLoopRunning(...)\n",
      " |      IsMainLoopRunning() -> bool\n",
      " |      \n",
      " |      Returns true if the main event loop is currently running, i.e. if the\n",
      " |      application is inside OnRun().\n",
      " |  \n",
      " |  IsScheduledForDestruction(...)\n",
      " |      IsScheduledForDestruction(object) -> bool\n",
      " |      \n",
      " |      Check if the object had been scheduled for destruction with\n",
      " |      ScheduleForDestruction().\n",
      " |  \n",
      " |  OnEventLoopEnter(...)\n",
      " |      OnEventLoopEnter(loop)\n",
      " |      \n",
      " |      Called by wxEventLoopBase::SetActive(): you can override this function\n",
      " |      and put here the code which needs an active event loop.\n",
      " |  \n",
      " |  OnEventLoopExit(...)\n",
      " |      OnEventLoopExit(loop)\n",
      " |      \n",
      " |      Called by wxEventLoopBase::OnExit() for each event loop which is\n",
      " |      exited.\n",
      " |  \n",
      " |  ProcessPendingEvents(...)\n",
      " |      ProcessPendingEvents()\n",
      " |      \n",
      " |      Process all pending events; it is necessary to call this function to\n",
      " |      process events posted with wxEvtHandler::QueueEvent or\n",
      " |      wxEvtHandler::AddPendingEvent.\n",
      " |  \n",
      " |  ResumeProcessingOfPendingEvents(...)\n",
      " |      ResumeProcessingOfPendingEvents()\n",
      " |      \n",
      " |      Resume processing of the pending events previously stopped because of\n",
      " |      a call to SuspendProcessingOfPendingEvents().\n",
      " |  \n",
      " |  ScheduleForDestruction(...)\n",
      " |      ScheduleForDestruction(object)\n",
      " |      \n",
      " |      Delayed objects destruction.\n",
      " |  \n",
      " |  SetAppDisplayName(...)\n",
      " |      SetAppDisplayName(name)\n",
      " |      \n",
      " |      Set the application name to be used in the user-visible places such as\n",
      " |      window titles.\n",
      " |  \n",
      " |  SetAppName(...)\n",
      " |      SetAppName(name)\n",
      " |      \n",
      " |      Sets the name of the application.\n",
      " |  \n",
      " |  SetCLocale(...)\n",
      " |      SetCLocale()\n",
      " |      \n",
      " |      Sets the C locale to the default locale for the current environment.\n",
      " |  \n",
      " |  SetClassName(...)\n",
      " |      SetClassName(name)\n",
      " |      \n",
      " |      Sets the class name of the application.\n",
      " |  \n",
      " |  SetInstance(...)\n",
      " |      SetInstance(app)\n",
      " |      \n",
      " |      Allows external code to modify global wxTheApp, but you should really\n",
      " |      know what you're doing if you call it.\n",
      " |  \n",
      " |  SetVendorDisplayName(...)\n",
      " |      SetVendorDisplayName(name)\n",
      " |      \n",
      " |      Set the vendor name to be used in the user-visible places.\n",
      " |  \n",
      " |  SetVendorName(...)\n",
      " |      SetVendorName(name)\n",
      " |      \n",
      " |      Sets the name of application's vendor.\n",
      " |  \n",
      " |  SuspendProcessingOfPendingEvents(...)\n",
      " |      SuspendProcessingOfPendingEvents()\n",
      " |      \n",
      " |      Temporary suspends processing of the pending events.\n",
      " |  \n",
      " |  Yield(...)\n",
      " |      Yield(onlyIfNeeded=False) -> bool\n",
      " |  \n",
      " |  ----------------------------------------------------------------------\n",
      " |  Data descriptors inherited from wx._core.AppConsole:\n",
      " |  \n",
      " |  AppDisplayName\n",
      " |      GetAppDisplayName() -> String\n",
      " |      \n",
      " |      Returns the user-readable application name.\n",
      " |  \n",
      " |  AppName\n",
      " |      GetAppName() -> String\n",
      " |      \n",
      " |      Returns the application name.\n",
      " |  \n",
      " |  ClassName\n",
      " |      GetClassName() -> String\n",
      " |      \n",
      " |      Gets the class name of the application.\n",
      " |  \n",
      " |  Traits\n",
      " |      GetTraits() -> AppTraits\n",
      " |      \n",
      " |      Returns a pointer to the wxAppTraits object for the application.\n",
      " |  \n",
      " |  VendorDisplayName\n",
      " |      GetVendorDisplayName() -> String\n",
      " |      \n",
      " |      Returns the user-readable vendor name.\n",
      " |  \n",
      " |  VendorName\n",
      " |      GetVendorName() -> String\n",
      " |      \n",
      " |      Returns the application's vendor name.\n",
      " |  \n",
      " |  ----------------------------------------------------------------------\n",
      " |  Methods inherited from wx._core.EvtHandler:\n",
      " |  \n",
      " |  AddFilter(...)\n",
      " |      AddFilter(filter)\n",
      " |      \n",
      " |      Add an event filter whose FilterEvent() method will be called for each\n",
      " |      and every event processed by wxWidgets.\n",
      " |  \n",
      " |  AddPendingEvent(...)\n",
      " |      AddPendingEvent(event)\n",
      " |      \n",
      " |      Post an event to be processed later.\n",
      " |  \n",
      " |  Bind = _EvtHandler_Bind(self, event, handler, source=None, id=-1, id2=-1)\n",
      " |      Bind an event to an event handler.\n",
      " |      \n",
      " |      :param event: One of the ``EVT_*`` event binder objects that\n",
      " |                    specifies the type of event to bind.\n",
      " |      \n",
      " |      :param handler: A callable object to be invoked when the\n",
      " |                      event is delivered to self.  Pass ``None`` to\n",
      " |                      disconnect an event handler.\n",
      " |      \n",
      " |      :param source: Sometimes the event originates from a\n",
      " |                     different window than self, but you still\n",
      " |                     want to catch it in self.  (For example, a\n",
      " |                     button event delivered to a frame.)  By\n",
      " |                     passing the source of the event, the event\n",
      " |                     handling system is able to differentiate\n",
      " |                     between the same event type from different\n",
      " |                     controls.\n",
      " |      \n",
      " |      :param id: Used to spcify the event source by ID instead\n",
      " |                 of instance.\n",
      " |      \n",
      " |      :param id2: Used when it is desirable to bind a handler\n",
      " |                  to a range of IDs, such as with EVT_MENU_RANGE.\n",
      " |  \n",
      " |  Connect(...)\n",
      " |      Connect(id, lastId, eventType, func)\n",
      " |      \n",
      " |      Make an entry in the dynamic event table for an event binding.\n",
      " |  \n",
      " |  Disconnect(...)\n",
      " |      Disconnect(id, lastId=-1, eventType=wxEVT_NULL, func=None) -> bool\n",
      " |      \n",
      " |      Remove an event binding by removing its entry in the dynamic event\n",
      " |      table.\n",
      " |  \n",
      " |  GetEvtHandlerEnabled(...)\n",
      " |      GetEvtHandlerEnabled() -> bool\n",
      " |      \n",
      " |      Returns true if the event handler is enabled, false otherwise.\n",
      " |  \n",
      " |  GetNextHandler(...)\n",
      " |      GetNextHandler() -> EvtHandler\n",
      " |      \n",
      " |      Returns the pointer to the next handler in the chain.\n",
      " |  \n",
      " |  GetPreviousHandler(...)\n",
      " |      GetPreviousHandler() -> EvtHandler\n",
      " |      \n",
      " |      Returns the pointer to the previous handler in the chain.\n",
      " |  \n",
      " |  IsUnlinked(...)\n",
      " |      IsUnlinked() -> bool\n",
      " |      \n",
      " |      Returns true if the next and the previous handler pointers of this\n",
      " |      event handler instance are NULL.\n",
      " |  \n",
      " |  ProcessEvent(...)\n",
      " |      ProcessEvent(event) -> bool\n",
      " |      \n",
      " |      Processes an event, searching event tables and calling zero or more\n",
      " |      suitable event handler function(s).\n",
      " |  \n",
      " |  ProcessEventLocally(...)\n",
      " |      ProcessEventLocally(event) -> bool\n",
      " |      \n",
      " |      Try to process the event in this handler and all those chained to it.\n",
      " |  \n",
      " |  QueueEvent(...)\n",
      " |      QueueEvent(event)\n",
      " |      \n",
      " |      Queue event for a later processing.\n",
      " |  \n",
      " |  RemoveFilter(...)\n",
      " |      RemoveFilter(filter)\n",
      " |      \n",
      " |      Remove a filter previously installed with AddFilter().\n",
      " |  \n",
      " |  SafelyProcessEvent(...)\n",
      " |      SafelyProcessEvent(event) -> bool\n",
      " |      \n",
      " |      Processes an event by calling ProcessEvent() and handles any\n",
      " |      exceptions that occur in the process.\n",
      " |  \n",
      " |  SetEvtHandlerEnabled(...)\n",
      " |      SetEvtHandlerEnabled(enabled)\n",
      " |      \n",
      " |      Enables or disables the event handler.\n",
      " |  \n",
      " |  SetNextHandler(...)\n",
      " |      SetNextHandler(handler)\n",
      " |      \n",
      " |      Sets the pointer to the next handler.\n",
      " |  \n",
      " |  SetPreviousHandler(...)\n",
      " |      SetPreviousHandler(handler)\n",
      " |      \n",
      " |      Sets the pointer to the previous handler.\n",
      " |  \n",
      " |  Unbind = _EvtHandler_Unbind(self, event, source=None, id=-1, id2=-1, handler=None)\n",
      " |      Disconnects the event handler binding for event from `self`.\n",
      " |      Returns ``True`` if successful.\n",
      " |  \n",
      " |  Unlink(...)\n",
      " |      Unlink()\n",
      " |      \n",
      " |      Unlinks this event handler from the chain it's part of (if any); then\n",
      " |      links the \"previous\" event handler to the \"next\" one (so that the\n",
      " |      chain won't be interrupted).\n",
      " |  \n",
      " |  ----------------------------------------------------------------------\n",
      " |  Data descriptors inherited from wx._core.EvtHandler:\n",
      " |  \n",
      " |  EvtHandlerEnabled\n",
      " |      GetEvtHandlerEnabled() -> bool\n",
      " |      \n",
      " |      Returns true if the event handler is enabled, false otherwise.\n",
      " |  \n",
      " |  NextHandler\n",
      " |      GetNextHandler() -> EvtHandler\n",
      " |      \n",
      " |      Returns the pointer to the next handler in the chain.\n",
      " |  \n",
      " |  PreviousHandler\n",
      " |      GetPreviousHandler() -> EvtHandler\n",
      " |      \n",
      " |      Returns the pointer to the previous handler in the chain.\n",
      " |  \n",
      " |  ----------------------------------------------------------------------\n",
      " |  Methods inherited from wx._core.Object:\n",
      " |  \n",
      " |  Destroy(...)\n",
      " |      Destroy()\n",
      " |      \n",
      " |      Deletes the C++ object this Python object is a proxy for.\n",
      " |  \n",
      " |  GetClassInfo(...)\n",
      " |      GetClassInfo() -> ClassInfo\n",
      " |      \n",
      " |      This virtual function is redefined for every class that requires run-\n",
      " |      time type information, when using the wxDECLARE_CLASS macro (or\n",
      " |      similar).\n",
      " |  \n",
      " |  GetRefData(...)\n",
      " |      GetRefData() -> ObjectRefData\n",
      " |      \n",
      " |      Returns the wxObject::m_refData pointer, i.e. the data referenced by\n",
      " |      this object.\n",
      " |  \n",
      " |  IsSameAs(...)\n",
      " |      IsSameAs(obj) -> bool\n",
      " |      \n",
      " |      Returns true if this object has the same data pointer as obj.\n",
      " |  \n",
      " |  Ref(...)\n",
      " |      Ref(clone)\n",
      " |      \n",
      " |      Makes this object refer to the data in clone.\n",
      " |  \n",
      " |  SetRefData(...)\n",
      " |      SetRefData(data)\n",
      " |      \n",
      " |      Sets the wxObject::m_refData pointer.\n",
      " |  \n",
      " |  UnRef(...)\n",
      " |      UnRef()\n",
      " |      \n",
      " |      Decrements the reference count in the associated data, and if it is\n",
      " |      zero, deletes the data.\n",
      " |  \n",
      " |  UnShare(...)\n",
      " |      UnShare()\n",
      " |      \n",
      " |      This is the same of AllocExclusive() but this method is public.\n",
      " |  \n",
      " |  ----------------------------------------------------------------------\n",
      " |  Data descriptors inherited from wx._core.Object:\n",
      " |  \n",
      " |  ClassInfo\n",
      " |      GetClassInfo() -> ClassInfo\n",
      " |      \n",
      " |      This virtual function is redefined for every class that requires run-\n",
      " |      time type information, when using the wxDECLARE_CLASS macro (or\n",
      " |      similar).\n",
      " |  \n",
      " |  RefData\n",
      " |      GetRefData() -> ObjectRefData\n",
      " |      \n",
      " |      Returns the wxObject::m_refData pointer, i.e. the data referenced by\n",
      " |      this object.\n",
      " |  \n",
      " |  __weakref__\n",
      " |      list of weak references to the object (if defined)\n",
      " |  \n",
      " |  ----------------------------------------------------------------------\n",
      " |  Data and other attributes inherited from wx._core.EventFilter:\n",
      " |  \n",
      " |  Event_Ignore = 0\n",
      " |  \n",
      " |  Event_Processed = 1\n",
      " |  \n",
      " |  Event_Skip = -1\n",
      " |  \n",
      " |  ----------------------------------------------------------------------\n",
      " |  Methods inherited from sip.simplewrapper:\n",
      " |  \n",
      " |  __new__(*args, **kwargs) from sip.wrappertype\n",
      " |      Create and return a new object.  See help(type) for accurate signature.\n",
      " |  \n",
      " |  ----------------------------------------------------------------------\n",
      " |  Data descriptors inherited from sip.simplewrapper:\n",
      " |  \n",
      " |  __dict__\n",
      "\n"
     ]
    }
   ],
   "source": [
    "help(wx.App())"
   ]
  },
  {
   "cell_type": "code",
   "execution_count": null,
   "metadata": {},
   "outputs": [],
   "source": [
    "import wx\n",
    "class MyApp(wx.App):\n",
    "    def OnInit(self):\n",
    "        frame = wx.Frame(None, title = 'Hello, World')\n",
    "        frame.Show()\n",
    "        return True\n",
    "if __name__ == '__main__':\n",
    "    app = MyApp()\n",
    "    app.MainLoop()"
   ]
  },
  {
   "cell_type": "code",
   "execution_count": null,
   "metadata": {},
   "outputs": [],
   "source": [
    "import wx\n",
    "class Frame1(wx.Frame):\n",
    "    def __init__(self,superior):\n",
    "        wx.Frame.__init__(self, parent = superior, \\\n",
    "                          title = 'Hello,World',\n",
    "                         pos = (100,200), size = (350,200))\n",
    "        panel = wx.Panel(self)\n",
    "        text1 = wx.TextCtrl(panel, value = 'This is just a demo',\\\n",
    "                           size = (350,200))\n",
    "if __name__ == '__main__':\n",
    "    app = wx.App()\n",
    "    frame = Frame1(None)\n",
    "    frame.Show(True)\n",
    "    app.MainLoop()"
   ]
  },
  {
   "cell_type": "code",
   "execution_count": null,
   "metadata": {},
   "outputs": [],
   "source": [
    "#在鼠标单击上绑定事件\n",
    "class Frame1(wx.Frame):\n",
    "    def __init__(self, superior):\n",
    "        wx.Frame.__init__(self, parent = superior, \\\n",
    "                          title = 'Hello,World',\n",
    "                         pos = (100,200), size = (350,200))\n",
    "        self.panel = wx.Panel(self)\n",
    "        self.panel.Bind(wx.EVT_LEFT_UP,self.OnClick)\n",
    "    def OnClick(self, event):\n",
    "        posm = event.GetPosition()\n",
    "        wx.StaticText(parent = self.panel, label = 'Hello, World', pos= (posm.x,posm.y))\n",
    "if __name__ == '__main__':\n",
    "    app = wx.App()\n",
    "    frame = Frame1(None)\n",
    "    frame.Show(True)\n",
    "    app.MainLoop()"
   ]
  },
  {
   "cell_type": "code",
   "execution_count": null,
   "metadata": {},
   "outputs": [],
   "source": [
    "import wx\n",
    "class Frame1(wx.Frame):\n",
    "    def __init__(self,superior):\n",
    "        wx.Frame.__init__(self,parent=superior, title = \\\n",
    "                         \"Hello World In Python\")\n",
    "        panel = wx.Panel(self)\n",
    "        sizer = wx.BoxSizer(wx.VERTICAL)\n",
    "        self.text1 = wx.TextCtrl(panel, value = 'Hello,World',\\\n",
    "                                size = (200,180),style = wx.TE_MULTILINE)\n",
    "        sizer.Add(self.text1,0,wx.ALIGN_TOP | wx.EXPAND)\n",
    "        button = wx.Button(panel,label = 'Click Me')\n",
    "        sizer.Add(button)\n",
    "        panel.SetSizerAndFit(sizer)\n",
    "        panel.Layout()\n",
    "        self.Bind(wx.EVT_BUTTON,slef.OnClick,button)\n",
    "    def OnClick(self,text):\n",
    "        self.text1.AppendText('\\nHello,World')\n",
    "if __name__ == '__main__':\n",
    "    app = wx.App()\n",
    "    frame = Frame1(None)\n",
    "    frame.Show(True)\n",
    "    app.MainLoop()           "
   ]
  },
  {
   "cell_type": "code",
   "execution_count": null,
   "metadata": {},
   "outputs": [],
   "source": [
    "# Filename: my_finance.py\n",
    "#-*- coding:utf-8 -*-\n",
    "\n",
    "import json\n",
    "import re\n",
    "import requests\n",
    "\n",
    "def retrieve_dji_list():\n",
    "\tr = requests.get('http://money.cnn.com/data/dow30/')\n",
    "\tsearch_pattern = re.compile('class=\"wsod_symbol\">(.*?)<\\/a>.*?<span.*?\">(.*?)<\\/span>.*?\\n.*?class=\"wsod_stream\">(.*)<\\/span>')\n",
    "\tdji_list_in_text = re.findall(search_pattern,r.text)\n",
    "\tdji_list =[]\n",
    "\tfor item in dji_list_in_text:\n",
    "\t\tdji_list.append({'code':item[0],'name':item[1],'price':float(item[2])})\n",
    "\treturn dji_list\n",
    "\n",
    "\t\n",
    "def retrieve_quotes_historical(stock_code,start='',end = ''):\n",
    "\tquotes = []\n",
    "\turl = 'https://finance.yahoo.com/quote/%s/history?p=%s'%(stock_code,stock_code)\n",
    "\tr = requests.get(url)\n",
    "\tm = re.findall('\"HistoricalPriceStore\":{\"prices\":(.*),\"isPending\"',r.text)\n",
    "\tif m:\n",
    "\t\tquotes = json.loads(m[0])\n",
    "\t\tquotes = quotes[::-1]\n",
    "\t\t\n",
    "\treturn [item for item in quotes if not 'type' in item]"
   ]
  },
  {
   "cell_type": "code",
   "execution_count": null,
   "metadata": {},
   "outputs": [],
   "source": []
  }
 ],
 "metadata": {
  "kernelspec": {
   "display_name": "Python 3",
   "language": "python",
   "name": "python3"
  },
  "language_info": {
   "codemirror_mode": {
    "name": "ipython",
    "version": 3
   },
   "file_extension": ".py",
   "mimetype": "text/x-python",
   "name": "python",
   "nbconvert_exporter": "python",
   "pygments_lexer": "ipython3",
   "version": "3.6.4"
  },
  "toc": {
   "nav_menu": {
    "height": "46px",
    "width": "426px"
   },
   "number_sections": true,
   "sideBar": true,
   "skip_h1_title": false,
   "title_cell": "Table of Contents",
   "title_sidebar": "Contents",
   "toc_cell": false,
   "toc_position": {},
   "toc_section_display": true,
   "toc_window_display": false
  }
 },
 "nbformat": 4,
 "nbformat_minor": 2
}
