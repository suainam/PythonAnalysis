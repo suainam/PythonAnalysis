{
 "cells": [
  {
   "cell_type": "code",
   "execution_count": 9,
   "metadata": {
    "collapsed": true
   },
   "outputs": [],
   "source": [
    "class Student(object):\n",
    "    def __init__(self, id, name, sex='m', cs='c1'):\n",
    "        self.id = id\n",
    "        self.name = name\n",
    "        self.sex = sex\n",
    "        self.cs = cs\n",
    "    def getId(self):\n",
    "        print(self.id)\n",
    "\n",
    "student = Student(102920, \"小明\", 'm', 'c1')"
   ]
  },
  {
   "cell_type": "code",
   "execution_count": 10,
   "metadata": {
    "scrolled": true
   },
   "outputs": [
    {
     "name": "stdout",
     "output_type": "stream",
     "text": [
      "102920\n"
     ]
    }
   ],
   "source": [
    "student.getId()"
   ]
  },
  {
   "cell_type": "code",
   "execution_count": 46,
   "metadata": {},
   "outputs": [],
   "source": [
    "class StudentJudgeAge(Student):\n",
    "    def __init__(self, id, name, sex, cs='c1',addr='beijing'):\n",
    "        super().__init__(id, name, sex, cs)\n",
    "        self.addr=addr\n",
    "    def getAddr(self):\n",
    "        print('id:{},name:{},sex:{},addr:{}'.format(self.id, self.name, \n",
    "                                                    self.sex, self.addr))\n",
    "    pass"
   ]
  },
  {
   "cell_type": "code",
   "execution_count": 48,
   "metadata": {},
   "outputs": [],
   "source": [
    "s1=StudentJudgeAge(102910, \"小红\",'f', cs='c2',addr=\"shanghai\")"
   ]
  },
  {
   "cell_type": "code",
   "execution_count": 49,
   "metadata": {},
   "outputs": [
    {
     "name": "stdout",
     "output_type": "stream",
     "text": [
      "102910\n"
     ]
    }
   ],
   "source": [
    "s1.getId()"
   ]
  },
  {
   "cell_type": "code",
   "execution_count": 50,
   "metadata": {},
   "outputs": [
    {
     "name": "stdout",
     "output_type": "stream",
     "text": [
      "id:102910,name:小红,sex:f,addr:shanghai\n"
     ]
    }
   ],
   "source": [
    "s1.getAddr()"
   ]
  },
  {
   "cell_type": "code",
   "execution_count": 51,
   "metadata": {},
   "outputs": [],
   "source": [
    "x = StudentJudgeAge(1023,\"xiao\",'f')"
   ]
  },
  {
   "cell_type": "code",
   "execution_count": 53,
   "metadata": {},
   "outputs": [
    {
     "name": "stdout",
     "output_type": "stream",
     "text": [
      "id:1023,name:xiao,sex:f,addr:beijing\n"
     ]
    }
   ],
   "source": [
    "x.getAddr()"
   ]
  },
  {
   "cell_type": "code",
   "execution_count": 55,
   "metadata": {},
   "outputs": [],
   "source": [
    "from collections import deque\n",
    "a = deque('abcd')"
   ]
  },
  {
   "cell_type": "code",
   "execution_count": 56,
   "metadata": {},
   "outputs": [
    {
     "data": {
      "text/plain": [
       "deque(['a', 'b', 'c', 'd'])"
      ]
     },
     "execution_count": 56,
     "metadata": {},
     "output_type": "execute_result"
    }
   ],
   "source": [
    "a"
   ]
  },
  {
   "cell_type": "code",
   "execution_count": 57,
   "metadata": {
    "collapsed": true
   },
   "outputs": [],
   "source": [
    "a.append('e')"
   ]
  },
  {
   "cell_type": "code",
   "execution_count": 58,
   "metadata": {},
   "outputs": [
    {
     "data": {
      "text/plain": [
       "deque(['a', 'b', 'c', 'd', 'e'])"
      ]
     },
     "execution_count": 58,
     "metadata": {},
     "output_type": "execute_result"
    }
   ],
   "source": [
    "a"
   ]
  },
  {
   "cell_type": "code",
   "execution_count": 60,
   "metadata": {},
   "outputs": [
    {
     "data": {
      "text/plain": [
       "'a'"
      ]
     },
     "execution_count": 60,
     "metadata": {},
     "output_type": "execute_result"
    }
   ],
   "source": [
    "a.popleft()"
   ]
  },
  {
   "cell_type": "code",
   "execution_count": 61,
   "metadata": {},
   "outputs": [
    {
     "data": {
      "text/plain": [
       "deque(['b', 'c', 'd', 'e'])"
      ]
     },
     "execution_count": 61,
     "metadata": {},
     "output_type": "execute_result"
    }
   ],
   "source": [
    "a"
   ]
  },
  {
   "cell_type": "code",
   "execution_count": 62,
   "metadata": {},
   "outputs": [
    {
     "data": {
      "text/plain": [
       "'e'"
      ]
     },
     "execution_count": 62,
     "metadata": {},
     "output_type": "execute_result"
    }
   ],
   "source": [
    "a.pop()"
   ]
  },
  {
   "cell_type": "code",
   "execution_count": 63,
   "metadata": {},
   "outputs": [
    {
     "data": {
      "text/plain": [
       "deque(['b', 'c', 'd'])"
      ]
     },
     "execution_count": 63,
     "metadata": {},
     "output_type": "execute_result"
    }
   ],
   "source": [
    "a"
   ]
  },
  {
   "cell_type": "code",
   "execution_count": 65,
   "metadata": {},
   "outputs": [],
   "source": [
    "a.rotate()"
   ]
  },
  {
   "cell_type": "code",
   "execution_count": 66,
   "metadata": {},
   "outputs": [
    {
     "data": {
      "text/plain": [
       "deque(['d', 'b', 'c'])"
      ]
     },
     "execution_count": 66,
     "metadata": {},
     "output_type": "execute_result"
    }
   ],
   "source": [
    "a"
   ]
  },
  {
   "cell_type": "code",
   "execution_count": 69,
   "metadata": {},
   "outputs": [
    {
     "name": "stdout",
     "output_type": "stream",
     "text": [
      "222 ms ± 2.6 ms per loop (mean ± std. dev. of 7 runs, 1 loop each)\n"
     ]
    }
   ],
   "source": [
    "%timeit b = list(range(10000000))"
   ]
  },
  {
   "cell_type": "code",
   "execution_count": 94,
   "metadata": {
    "collapsed": true
   },
   "outputs": [],
   "source": [
    "list_c = [x for x in range(10000000)]\n",
    "deque_c = deque(list_c)"
   ]
  },
  {
   "cell_type": "code",
   "execution_count": 95,
   "metadata": {},
   "outputs": [
    {
     "name": "stdout",
     "output_type": "stream",
     "text": [
      "169 ns ± 74.6 ns per loop (mean ± std. dev. of 7 runs, 10000000 loops each)\n"
     ]
    }
   ],
   "source": [
    "%timeit list_c.append(100)"
   ]
  },
  {
   "cell_type": "code",
   "execution_count": 96,
   "metadata": {},
   "outputs": [
    {
     "name": "stdout",
     "output_type": "stream",
     "text": [
      "87 ns ± 1.11 ns per loop (mean ± std. dev. of 7 runs, 10000000 loops each)\n"
     ]
    }
   ],
   "source": [
    "%timeit list_c.pop()"
   ]
  },
  {
   "cell_type": "code",
   "execution_count": 97,
   "metadata": {},
   "outputs": [
    {
     "name": "stdout",
     "output_type": "stream",
     "text": [
      "69.4 ns ± 0.603 ns per loop (mean ± std. dev. of 7 runs, 10000000 loops each)\n"
     ]
    }
   ],
   "source": [
    "%timeit deque_c.append(100)"
   ]
  },
  {
   "cell_type": "code",
   "execution_count": 98,
   "metadata": {
    "scrolled": true
   },
   "outputs": [
    {
     "name": "stdout",
     "output_type": "stream",
     "text": [
      "62.3 ns ± 1.47 ns per loop (mean ± std. dev. of 7 runs, 10000000 loops each)\n"
     ]
    }
   ],
   "source": [
    "%timeit deque_c.pop()"
   ]
  },
  {
   "cell_type": "code",
   "execution_count": 100,
   "metadata": {},
   "outputs": [
    {
     "name": "stdout",
     "output_type": "stream",
     "text": [
      "12 ms ± 122 µs per loop (mean ± std. dev. of 7 runs, 100 loops each)\n"
     ]
    }
   ],
   "source": [
    "%timeit list_c.insert(0,'a')"
   ]
  },
  {
   "cell_type": "code",
   "execution_count": 101,
   "metadata": {},
   "outputs": [
    {
     "name": "stdout",
     "output_type": "stream",
     "text": [
      "131 ns ± 0.437 ns per loop (mean ± std. dev. of 7 runs, 10000000 loops each)\n"
     ]
    }
   ],
   "source": [
    "%timeit deque_c.insert(0,'a')"
   ]
  },
  {
   "cell_type": "code",
   "execution_count": 103,
   "metadata": {},
   "outputs": [
    {
     "name": "stdout",
     "output_type": "stream",
     "text": [
      "129 ns ± 94.9 ns per loop (mean ± std. dev. of 7 runs, 10000000 loops each)\n"
     ]
    }
   ],
   "source": [
    "%timeit deque_c.appendleft('a')"
   ]
  },
  {
   "cell_type": "code",
   "execution_count": 105,
   "metadata": {},
   "outputs": [],
   "source": [
    "from collections import Counter\n",
    "a = list('akdjkleirqowerre')\n",
    "c = Counter(a)"
   ]
  },
  {
   "cell_type": "code",
   "execution_count": 106,
   "metadata": {},
   "outputs": [
    {
     "data": {
      "text/plain": [
       "Counter({'a': 1,\n",
       "         'd': 1,\n",
       "         'e': 3,\n",
       "         'i': 1,\n",
       "         'j': 1,\n",
       "         'k': 2,\n",
       "         'l': 1,\n",
       "         'o': 1,\n",
       "         'q': 1,\n",
       "         'r': 3,\n",
       "         'w': 1})"
      ]
     },
     "execution_count": 106,
     "metadata": {},
     "output_type": "execute_result"
    }
   ],
   "source": [
    "c"
   ]
  },
  {
   "cell_type": "code",
   "execution_count": 107,
   "metadata": {},
   "outputs": [
    {
     "data": {
      "text/plain": [
       "[('e', 3), ('r', 3), ('k', 2), ('a', 1), ('d', 1), ('j', 1)]"
      ]
     },
     "execution_count": 107,
     "metadata": {},
     "output_type": "execute_result"
    }
   ],
   "source": [
    "c.most_common(6)"
   ]
  },
  {
   "cell_type": "code",
   "execution_count": 110,
   "metadata": {
    "collapsed": true
   },
   "outputs": [],
   "source": [
    "from collections import OrderedDict\n",
    "a= ['banana','apple','pear','orange']\n",
    "b = range(4)\n",
    "c = dict(zip(a,b))"
   ]
  },
  {
   "cell_type": "code",
   "execution_count": 111,
   "metadata": {},
   "outputs": [
    {
     "data": {
      "text/plain": [
       "{'apple': 1, 'banana': 0, 'orange': 3, 'pear': 2}"
      ]
     },
     "execution_count": 111,
     "metadata": {},
     "output_type": "execute_result"
    }
   ],
   "source": [
    "c"
   ]
  },
  {
   "cell_type": "code",
   "execution_count": 112,
   "metadata": {
    "scrolled": true
   },
   "outputs": [
    {
     "data": {
      "text/plain": [
       "OrderedDict([('apple', 1), ('banana', 0), ('orange', 3), ('pear', 2)])"
      ]
     },
     "execution_count": 112,
     "metadata": {},
     "output_type": "execute_result"
    }
   ],
   "source": [
    "OrderedDict(sorted(c.items(), key=lambda t:t[0]))"
   ]
  },
  {
   "cell_type": "code",
   "execution_count": 113,
   "metadata": {},
   "outputs": [
    {
     "data": {
      "text/plain": [
       "OrderedDict([('banana', 0), ('apple', 1), ('pear', 2), ('orange', 3)])"
      ]
     },
     "execution_count": 113,
     "metadata": {},
     "output_type": "execute_result"
    }
   ],
   "source": [
    "OrderedDict(sorted(c.items(), key=lambda t:t[1]))"
   ]
  },
  {
   "cell_type": "code",
   "execution_count": 115,
   "metadata": {},
   "outputs": [
    {
     "data": {
      "text/plain": [
       "OrderedDict([('pear', 2), ('apple', 1), ('banana', 0), ('orange', 3)])"
      ]
     },
     "execution_count": 115,
     "metadata": {},
     "output_type": "execute_result"
    }
   ],
   "source": [
    "OrderedDict(sorted(c.items(), key=lambda t:len(t[0])))"
   ]
  },
  {
   "cell_type": "code",
   "execution_count": 126,
   "metadata": {},
   "outputs": [],
   "source": [
    "od = OrderedDict(sorted(c.items(), key=lambda t:len(t[0])))"
   ]
  },
  {
   "cell_type": "code",
   "execution_count": 127,
   "metadata": {},
   "outputs": [
    {
     "data": {
      "text/plain": [
       "OrderedDict([('pear', 2), ('apple', 1), ('banana', 0), ('orange', 3)])"
      ]
     },
     "execution_count": 127,
     "metadata": {},
     "output_type": "execute_result"
    }
   ],
   "source": [
    "od"
   ]
  },
  {
   "cell_type": "code",
   "execution_count": 128,
   "metadata": {},
   "outputs": [
    {
     "data": {
      "text/plain": [
       "('orange', 3)"
      ]
     },
     "execution_count": 128,
     "metadata": {},
     "output_type": "execute_result"
    }
   ],
   "source": [
    "od.popitem()"
   ]
  },
  {
   "cell_type": "code",
   "execution_count": 124,
   "metadata": {},
   "outputs": [
    {
     "data": {
      "text/plain": [
       "('pear', 2)"
      ]
     },
     "execution_count": 124,
     "metadata": {},
     "output_type": "execute_result"
    }
   ],
   "source": [
    "od.popitem(last=False)"
   ]
  },
  {
   "cell_type": "code",
   "execution_count": 123,
   "metadata": {},
   "outputs": [
    {
     "data": {
      "text/plain": [
       "('orange', 3)"
      ]
     },
     "execution_count": 123,
     "metadata": {},
     "output_type": "execute_result"
    }
   ],
   "source": [
    "od.popitem(last=True)"
   ]
  },
  {
   "cell_type": "code",
   "execution_count": 119,
   "metadata": {},
   "outputs": [
    {
     "data": {
      "text/plain": [
       "OrderedDict([('pear', 2), ('apple', 1)])"
      ]
     },
     "execution_count": 119,
     "metadata": {},
     "output_type": "execute_result"
    }
   ],
   "source": [
    "od"
   ]
  },
  {
   "cell_type": "code",
   "execution_count": 129,
   "metadata": {
    "collapsed": true
   },
   "outputs": [],
   "source": [
    "from datetime import datetime"
   ]
  },
  {
   "cell_type": "code",
   "execution_count": 132,
   "metadata": {},
   "outputs": [
    {
     "data": {
      "text/plain": [
       "datetime.datetime(2018, 9, 12, 12, 35, 52, 902514)"
      ]
     },
     "execution_count": 132,
     "metadata": {},
     "output_type": "execute_result"
    }
   ],
   "source": [
    "datetime.today()"
   ]
  },
  {
   "cell_type": "code",
   "execution_count": 133,
   "metadata": {},
   "outputs": [
    {
     "data": {
      "text/plain": [
       "datetime.datetime(2018, 9, 12, 12, 36, 0, 219513)"
      ]
     },
     "execution_count": 133,
     "metadata": {},
     "output_type": "execute_result"
    }
   ],
   "source": [
    "datetime.now()"
   ]
  },
  {
   "cell_type": "code",
   "execution_count": 136,
   "metadata": {},
   "outputs": [
    {
     "data": {
      "text/plain": [
       "datetime.datetime(2018, 1, 1, 0, 1)"
      ]
     },
     "execution_count": 136,
     "metadata": {},
     "output_type": "execute_result"
    }
   ],
   "source": [
    "datetime.strptime('20180101','%Y%M%d')"
   ]
  },
  {
   "cell_type": "code",
   "execution_count": 137,
   "metadata": {
    "collapsed": true
   },
   "outputs": [],
   "source": [
    "from datetime import timedelta"
   ]
  },
  {
   "cell_type": "code",
   "execution_count": 139,
   "metadata": {},
   "outputs": [],
   "source": [
    "a=datetime.today()+timedelta(100)"
   ]
  },
  {
   "cell_type": "code",
   "execution_count": 140,
   "metadata": {},
   "outputs": [
    {
     "data": {
      "text/plain": [
       "2018"
      ]
     },
     "execution_count": 140,
     "metadata": {},
     "output_type": "execute_result"
    }
   ],
   "source": [
    "a.year"
   ]
  },
  {
   "cell_type": "code",
   "execution_count": 141,
   "metadata": {},
   "outputs": [
    {
     "data": {
      "text/plain": [
       "12"
      ]
     },
     "execution_count": 141,
     "metadata": {},
     "output_type": "execute_result"
    }
   ],
   "source": [
    "a.month"
   ]
  },
  {
   "cell_type": "code",
   "execution_count": 143,
   "metadata": {},
   "outputs": [
    {
     "data": {
      "text/plain": [
       "21"
      ]
     },
     "execution_count": 143,
     "metadata": {},
     "output_type": "execute_result"
    }
   ],
   "source": [
    "a.day"
   ]
  },
  {
   "cell_type": "code",
   "execution_count": 155,
   "metadata": {
    "collapsed": true
   },
   "outputs": [],
   "source": [
    "with open('./text.txt','r+',encoding='utf-8') as fp:\n",
    "    data = fp.readlines()"
   ]
  },
  {
   "cell_type": "code",
   "execution_count": 156,
   "metadata": {
    "scrolled": true
   },
   "outputs": [
    {
     "data": {
      "text/plain": [
       "['\\ufeff这是一个演示文件\\n',\n",
       " 'this is a demo txt\\n',\n",
       " 'this second line\\n',\n",
       " '\\n',\n",
       " 'this is \\n',\n",
       " '\\n',\n",
       " 'there is \\n']"
      ]
     },
     "execution_count": 156,
     "metadata": {},
     "output_type": "execute_result"
    }
   ],
   "source": [
    "data"
   ]
  },
  {
   "cell_type": "code",
   "execution_count": 176,
   "metadata": {},
   "outputs": [],
   "source": [
    "with open('./text.txt','a',encoding='utf-8') as fp:\n",
    "    fp.write(\"the last line\\n\")"
   ]
  },
  {
   "cell_type": "code",
   "execution_count": 177,
   "metadata": {
    "collapsed": true
   },
   "outputs": [],
   "source": [
    "with open('./text.txt','r',encoding='utf-8') as fp:\n",
    "    data = fp.readlines()"
   ]
  },
  {
   "cell_type": "code",
   "execution_count": 178,
   "metadata": {},
   "outputs": [
    {
     "data": {
      "text/plain": [
       "['the last linethe last linethe last linethe last line\\n', 'the last line\\n']"
      ]
     },
     "execution_count": 178,
     "metadata": {},
     "output_type": "execute_result"
    }
   ],
   "source": [
    "data"
   ]
  },
  {
   "cell_type": "code",
   "execution_count": 179,
   "metadata": {},
   "outputs": [
    {
     "name": "stdout",
     "output_type": "stream",
     "text": [
      "0.23.4\n"
     ]
    }
   ],
   "source": [
    "import pandas as pd\n",
    "print(pd.__version__)"
   ]
  },
  {
   "cell_type": "code",
   "execution_count": 182,
   "metadata": {},
   "outputs": [],
   "source": [
    "df1 = pd.read_excel('./Power_BI_Demo_DataSource.xlsx')"
   ]
  },
  {
   "cell_type": "code",
   "execution_count": 186,
   "metadata": {},
   "outputs": [],
   "source": [
    "df2 = pd.read_excel('./Power_BI_Demo_DataSource.xlsx',sheet_name='退货数据')"
   ]
  },
  {
   "cell_type": "code",
   "execution_count": 184,
   "metadata": {
    "scrolled": true
   },
   "outputs": [
    {
     "data": {
      "text/html": [
       "<div>\n",
       "<style scoped>\n",
       "    .dataframe tbody tr th:only-of-type {\n",
       "        vertical-align: middle;\n",
       "    }\n",
       "\n",
       "    .dataframe tbody tr th {\n",
       "        vertical-align: top;\n",
       "    }\n",
       "\n",
       "    .dataframe thead th {\n",
       "        text-align: right;\n",
       "    }\n",
       "</style>\n",
       "<table border=\"1\" class=\"dataframe\">\n",
       "  <thead>\n",
       "    <tr style=\"text-align: right;\">\n",
       "      <th></th>\n",
       "      <th>订单ID</th>\n",
       "      <th>订单日期</th>\n",
       "      <th>发货日期</th>\n",
       "      <th>邮寄方式</th>\n",
       "      <th>客户ID</th>\n",
       "      <th>城市</th>\n",
       "      <th>产品ID</th>\n",
       "      <th>销售额</th>\n",
       "      <th>数量</th>\n",
       "      <th>折扣</th>\n",
       "      <th>利润</th>\n",
       "      <th>利润率</th>\n",
       "    </tr>\n",
       "  </thead>\n",
       "  <tbody>\n",
       "    <tr>\n",
       "      <th>0</th>\n",
       "      <td>US-2014-1357144</td>\n",
       "      <td>2014-04-28</td>\n",
       "      <td>2014-04-30</td>\n",
       "      <td>二级</td>\n",
       "      <td>曾惠-14485</td>\n",
       "      <td>杭州</td>\n",
       "      <td>办公用-用品-10004670</td>\n",
       "      <td>129.696</td>\n",
       "      <td>2</td>\n",
       "      <td>0.4</td>\n",
       "      <td>-60.704</td>\n",
       "      <td>-0.468048</td>\n",
       "    </tr>\n",
       "    <tr>\n",
       "      <th>1</th>\n",
       "      <td>CN-2014-1973789</td>\n",
       "      <td>2014-06-16</td>\n",
       "      <td>2014-06-20</td>\n",
       "      <td>标准级</td>\n",
       "      <td>许安-10165</td>\n",
       "      <td>内江</td>\n",
       "      <td>办公用-信封-10001735</td>\n",
       "      <td>125.440</td>\n",
       "      <td>2</td>\n",
       "      <td>0.0</td>\n",
       "      <td>42.560</td>\n",
       "      <td>0.339286</td>\n",
       "    </tr>\n",
       "    <tr>\n",
       "      <th>2</th>\n",
       "      <td>CN-2014-1973789</td>\n",
       "      <td>2014-06-16</td>\n",
       "      <td>2014-06-20</td>\n",
       "      <td>标准级</td>\n",
       "      <td>许安-10165</td>\n",
       "      <td>内江</td>\n",
       "      <td>办公用-装订-10001593</td>\n",
       "      <td>31.920</td>\n",
       "      <td>2</td>\n",
       "      <td>0.4</td>\n",
       "      <td>4.200</td>\n",
       "      <td>0.131579</td>\n",
       "    </tr>\n",
       "    <tr>\n",
       "      <th>3</th>\n",
       "      <td>US-2014-3017568</td>\n",
       "      <td>2014-12-10</td>\n",
       "      <td>2014-12-14</td>\n",
       "      <td>标准级</td>\n",
       "      <td>宋良-17170</td>\n",
       "      <td>镇江</td>\n",
       "      <td>办公用-用品-10004966</td>\n",
       "      <td>321.216</td>\n",
       "      <td>4</td>\n",
       "      <td>0.4</td>\n",
       "      <td>-27.104</td>\n",
       "      <td>-0.084379</td>\n",
       "    </tr>\n",
       "    <tr>\n",
       "      <th>4</th>\n",
       "      <td>CN-2013-2975416</td>\n",
       "      <td>2013-05-31</td>\n",
       "      <td>2013-06-02</td>\n",
       "      <td>二级</td>\n",
       "      <td>万兰-15730</td>\n",
       "      <td>汕头</td>\n",
       "      <td>办公用-器具-10002698</td>\n",
       "      <td>1375.920</td>\n",
       "      <td>3</td>\n",
       "      <td>0.0</td>\n",
       "      <td>550.200</td>\n",
       "      <td>0.399878</td>\n",
       "    </tr>\n",
       "  </tbody>\n",
       "</table>\n",
       "</div>"
      ],
      "text/plain": [
       "              订单ID       订单日期       发货日期 邮寄方式      客户ID  城市             产品ID  \\\n",
       "0  US-2014-1357144 2014-04-28 2014-04-30   二级  曾惠-14485  杭州  办公用-用品-10004670   \n",
       "1  CN-2014-1973789 2014-06-16 2014-06-20  标准级  许安-10165  内江  办公用-信封-10001735   \n",
       "2  CN-2014-1973789 2014-06-16 2014-06-20  标准级  许安-10165  内江  办公用-装订-10001593   \n",
       "3  US-2014-3017568 2014-12-10 2014-12-14  标准级  宋良-17170  镇江  办公用-用品-10004966   \n",
       "4  CN-2013-2975416 2013-05-31 2013-06-02   二级  万兰-15730  汕头  办公用-器具-10002698   \n",
       "\n",
       "        销售额  数量   折扣       利润       利润率  \n",
       "0   129.696   2  0.4  -60.704 -0.468048  \n",
       "1   125.440   2  0.0   42.560  0.339286  \n",
       "2    31.920   2  0.4    4.200  0.131579  \n",
       "3   321.216   4  0.4  -27.104 -0.084379  \n",
       "4  1375.920   3  0.0  550.200  0.399878  "
      ]
     },
     "execution_count": 184,
     "metadata": {},
     "output_type": "execute_result"
    }
   ],
   "source": [
    "df1.head()"
   ]
  },
  {
   "cell_type": "code",
   "execution_count": 187,
   "metadata": {
    "collapsed": true
   },
   "outputs": [
    {
     "data": {
      "text/html": [
       "<div>\n",
       "<style scoped>\n",
       "    .dataframe tbody tr th:only-of-type {\n",
       "        vertical-align: middle;\n",
       "    }\n",
       "\n",
       "    .dataframe tbody tr th {\n",
       "        vertical-align: top;\n",
       "    }\n",
       "\n",
       "    .dataframe thead th {\n",
       "        text-align: right;\n",
       "    }\n",
       "</style>\n",
       "<table border=\"1\" class=\"dataframe\">\n",
       "  <thead>\n",
       "    <tr style=\"text-align: right;\">\n",
       "      <th></th>\n",
       "      <th>订单ID</th>\n",
       "      <th>退回</th>\n",
       "    </tr>\n",
       "  </thead>\n",
       "  <tbody>\n",
       "    <tr>\n",
       "      <th>0</th>\n",
       "      <td>CN-2012-1196810</td>\n",
       "      <td>是</td>\n",
       "    </tr>\n",
       "    <tr>\n",
       "      <th>1</th>\n",
       "      <td>US-2012-3964185</td>\n",
       "      <td>是</td>\n",
       "    </tr>\n",
       "    <tr>\n",
       "      <th>2</th>\n",
       "      <td>CN-2011-1787632</td>\n",
       "      <td>是</td>\n",
       "    </tr>\n",
       "    <tr>\n",
       "      <th>3</th>\n",
       "      <td>CN-2013-4757147</td>\n",
       "      <td>是</td>\n",
       "    </tr>\n",
       "    <tr>\n",
       "      <th>4</th>\n",
       "      <td>CN-2012-2577941</td>\n",
       "      <td>是</td>\n",
       "    </tr>\n",
       "    <tr>\n",
       "      <th>5</th>\n",
       "      <td>CN-2011-2622245</td>\n",
       "      <td>是</td>\n",
       "    </tr>\n",
       "    <tr>\n",
       "      <th>6</th>\n",
       "      <td>CN-2014-1516102</td>\n",
       "      <td>是</td>\n",
       "    </tr>\n",
       "    <tr>\n",
       "      <th>7</th>\n",
       "      <td>CN-2013-3028018</td>\n",
       "      <td>是</td>\n",
       "    </tr>\n",
       "    <tr>\n",
       "      <th>8</th>\n",
       "      <td>CN-2014-3230180</td>\n",
       "      <td>是</td>\n",
       "    </tr>\n",
       "    <tr>\n",
       "      <th>9</th>\n",
       "      <td>US-2014-4988987</td>\n",
       "      <td>是</td>\n",
       "    </tr>\n",
       "    <tr>\n",
       "      <th>10</th>\n",
       "      <td>CN-2014-4505574</td>\n",
       "      <td>是</td>\n",
       "    </tr>\n",
       "    <tr>\n",
       "      <th>11</th>\n",
       "      <td>CN-2014-1830721</td>\n",
       "      <td>是</td>\n",
       "    </tr>\n",
       "    <tr>\n",
       "      <th>12</th>\n",
       "      <td>CN-2014-3857264</td>\n",
       "      <td>是</td>\n",
       "    </tr>\n",
       "    <tr>\n",
       "      <th>13</th>\n",
       "      <td>US-2012-3360468</td>\n",
       "      <td>是</td>\n",
       "    </tr>\n",
       "    <tr>\n",
       "      <th>14</th>\n",
       "      <td>CN-2011-5908054</td>\n",
       "      <td>是</td>\n",
       "    </tr>\n",
       "    <tr>\n",
       "      <th>15</th>\n",
       "      <td>CN-2014-4590873</td>\n",
       "      <td>是</td>\n",
       "    </tr>\n",
       "    <tr>\n",
       "      <th>16</th>\n",
       "      <td>CN-2012-2306215</td>\n",
       "      <td>是</td>\n",
       "    </tr>\n",
       "    <tr>\n",
       "      <th>17</th>\n",
       "      <td>CN-2013-5278404</td>\n",
       "      <td>是</td>\n",
       "    </tr>\n",
       "    <tr>\n",
       "      <th>18</th>\n",
       "      <td>CN-2014-5165630</td>\n",
       "      <td>是</td>\n",
       "    </tr>\n",
       "    <tr>\n",
       "      <th>19</th>\n",
       "      <td>CN-2011-2665116</td>\n",
       "      <td>是</td>\n",
       "    </tr>\n",
       "    <tr>\n",
       "      <th>20</th>\n",
       "      <td>CN-2014-4159546</td>\n",
       "      <td>是</td>\n",
       "    </tr>\n",
       "    <tr>\n",
       "      <th>21</th>\n",
       "      <td>CN-2013-1300278</td>\n",
       "      <td>是</td>\n",
       "    </tr>\n",
       "    <tr>\n",
       "      <th>22</th>\n",
       "      <td>CN-2011-4360038</td>\n",
       "      <td>是</td>\n",
       "    </tr>\n",
       "    <tr>\n",
       "      <th>23</th>\n",
       "      <td>CN-2012-3436186</td>\n",
       "      <td>是</td>\n",
       "    </tr>\n",
       "    <tr>\n",
       "      <th>24</th>\n",
       "      <td>US-2013-1538609</td>\n",
       "      <td>是</td>\n",
       "    </tr>\n",
       "    <tr>\n",
       "      <th>25</th>\n",
       "      <td>CN-2012-3900153</td>\n",
       "      <td>是</td>\n",
       "    </tr>\n",
       "    <tr>\n",
       "      <th>26</th>\n",
       "      <td>CN-2014-3904829</td>\n",
       "      <td>是</td>\n",
       "    </tr>\n",
       "    <tr>\n",
       "      <th>27</th>\n",
       "      <td>US-2014-3772912</td>\n",
       "      <td>是</td>\n",
       "    </tr>\n",
       "    <tr>\n",
       "      <th>28</th>\n",
       "      <td>CN-2014-5956361</td>\n",
       "      <td>是</td>\n",
       "    </tr>\n",
       "    <tr>\n",
       "      <th>29</th>\n",
       "      <td>CN-2014-1129627</td>\n",
       "      <td>是</td>\n",
       "    </tr>\n",
       "    <tr>\n",
       "      <th>...</th>\n",
       "      <td>...</td>\n",
       "      <td>...</td>\n",
       "    </tr>\n",
       "    <tr>\n",
       "      <th>266</th>\n",
       "      <td>CN-2014-2560726</td>\n",
       "      <td>是</td>\n",
       "    </tr>\n",
       "    <tr>\n",
       "      <th>267</th>\n",
       "      <td>CN-2014-4439307</td>\n",
       "      <td>是</td>\n",
       "    </tr>\n",
       "    <tr>\n",
       "      <th>268</th>\n",
       "      <td>CN-2014-1154983</td>\n",
       "      <td>是</td>\n",
       "    </tr>\n",
       "    <tr>\n",
       "      <th>269</th>\n",
       "      <td>CN-2012-3722391</td>\n",
       "      <td>是</td>\n",
       "    </tr>\n",
       "    <tr>\n",
       "      <th>270</th>\n",
       "      <td>CN-2012-1123287</td>\n",
       "      <td>是</td>\n",
       "    </tr>\n",
       "    <tr>\n",
       "      <th>271</th>\n",
       "      <td>CN-2012-2162302</td>\n",
       "      <td>是</td>\n",
       "    </tr>\n",
       "    <tr>\n",
       "      <th>272</th>\n",
       "      <td>CN-2011-2706465</td>\n",
       "      <td>是</td>\n",
       "    </tr>\n",
       "    <tr>\n",
       "      <th>273</th>\n",
       "      <td>CN-2012-1751343</td>\n",
       "      <td>是</td>\n",
       "    </tr>\n",
       "    <tr>\n",
       "      <th>274</th>\n",
       "      <td>CN-2011-4180783</td>\n",
       "      <td>是</td>\n",
       "    </tr>\n",
       "    <tr>\n",
       "      <th>275</th>\n",
       "      <td>US-2011-2199283</td>\n",
       "      <td>是</td>\n",
       "    </tr>\n",
       "    <tr>\n",
       "      <th>276</th>\n",
       "      <td>US-2013-4764837</td>\n",
       "      <td>是</td>\n",
       "    </tr>\n",
       "    <tr>\n",
       "      <th>277</th>\n",
       "      <td>CN-2011-3874208</td>\n",
       "      <td>是</td>\n",
       "    </tr>\n",
       "    <tr>\n",
       "      <th>278</th>\n",
       "      <td>CN-2014-2640851</td>\n",
       "      <td>是</td>\n",
       "    </tr>\n",
       "    <tr>\n",
       "      <th>279</th>\n",
       "      <td>US-2014-1850111</td>\n",
       "      <td>是</td>\n",
       "    </tr>\n",
       "    <tr>\n",
       "      <th>280</th>\n",
       "      <td>CN-2011-4980108</td>\n",
       "      <td>是</td>\n",
       "    </tr>\n",
       "    <tr>\n",
       "      <th>281</th>\n",
       "      <td>CN-2012-2852208</td>\n",
       "      <td>是</td>\n",
       "    </tr>\n",
       "    <tr>\n",
       "      <th>282</th>\n",
       "      <td>CN-2014-1893791</td>\n",
       "      <td>是</td>\n",
       "    </tr>\n",
       "    <tr>\n",
       "      <th>283</th>\n",
       "      <td>CN-2014-2257547</td>\n",
       "      <td>是</td>\n",
       "    </tr>\n",
       "    <tr>\n",
       "      <th>284</th>\n",
       "      <td>CN-2013-5642637</td>\n",
       "      <td>是</td>\n",
       "    </tr>\n",
       "    <tr>\n",
       "      <th>285</th>\n",
       "      <td>US-2014-4215575</td>\n",
       "      <td>是</td>\n",
       "    </tr>\n",
       "    <tr>\n",
       "      <th>286</th>\n",
       "      <td>CN-2014-3964185</td>\n",
       "      <td>是</td>\n",
       "    </tr>\n",
       "    <tr>\n",
       "      <th>287</th>\n",
       "      <td>CN-2013-3064620</td>\n",
       "      <td>是</td>\n",
       "    </tr>\n",
       "    <tr>\n",
       "      <th>288</th>\n",
       "      <td>CN-2014-2018203</td>\n",
       "      <td>是</td>\n",
       "    </tr>\n",
       "    <tr>\n",
       "      <th>289</th>\n",
       "      <td>US-2014-5252007</td>\n",
       "      <td>是</td>\n",
       "    </tr>\n",
       "    <tr>\n",
       "      <th>290</th>\n",
       "      <td>CN-2011-3898543</td>\n",
       "      <td>是</td>\n",
       "    </tr>\n",
       "    <tr>\n",
       "      <th>291</th>\n",
       "      <td>CN-2013-3737485</td>\n",
       "      <td>是</td>\n",
       "    </tr>\n",
       "    <tr>\n",
       "      <th>292</th>\n",
       "      <td>CN-2011-4080057</td>\n",
       "      <td>是</td>\n",
       "    </tr>\n",
       "    <tr>\n",
       "      <th>293</th>\n",
       "      <td>CN-2012-1734605</td>\n",
       "      <td>是</td>\n",
       "    </tr>\n",
       "    <tr>\n",
       "      <th>294</th>\n",
       "      <td>CN-2013-4114478</td>\n",
       "      <td>是</td>\n",
       "    </tr>\n",
       "    <tr>\n",
       "      <th>295</th>\n",
       "      <td>CN-2012-1363241</td>\n",
       "      <td>是</td>\n",
       "    </tr>\n",
       "  </tbody>\n",
       "</table>\n",
       "<p>296 rows × 2 columns</p>\n",
       "</div>"
      ],
      "text/plain": [
       "                订单ID 退回\n",
       "0    CN-2012-1196810  是\n",
       "1    US-2012-3964185  是\n",
       "2    CN-2011-1787632  是\n",
       "3    CN-2013-4757147  是\n",
       "4    CN-2012-2577941  是\n",
       "5    CN-2011-2622245  是\n",
       "6    CN-2014-1516102  是\n",
       "7    CN-2013-3028018  是\n",
       "8    CN-2014-3230180  是\n",
       "9    US-2014-4988987  是\n",
       "10   CN-2014-4505574  是\n",
       "11   CN-2014-1830721  是\n",
       "12   CN-2014-3857264  是\n",
       "13   US-2012-3360468  是\n",
       "14   CN-2011-5908054  是\n",
       "15   CN-2014-4590873  是\n",
       "16   CN-2012-2306215  是\n",
       "17   CN-2013-5278404  是\n",
       "18   CN-2014-5165630  是\n",
       "19   CN-2011-2665116  是\n",
       "20   CN-2014-4159546  是\n",
       "21   CN-2013-1300278  是\n",
       "22   CN-2011-4360038  是\n",
       "23   CN-2012-3436186  是\n",
       "24   US-2013-1538609  是\n",
       "25   CN-2012-3900153  是\n",
       "26   CN-2014-3904829  是\n",
       "27   US-2014-3772912  是\n",
       "28   CN-2014-5956361  是\n",
       "29   CN-2014-1129627  是\n",
       "..               ... ..\n",
       "266  CN-2014-2560726  是\n",
       "267  CN-2014-4439307  是\n",
       "268  CN-2014-1154983  是\n",
       "269  CN-2012-3722391  是\n",
       "270  CN-2012-1123287  是\n",
       "271  CN-2012-2162302  是\n",
       "272  CN-2011-2706465  是\n",
       "273  CN-2012-1751343  是\n",
       "274  CN-2011-4180783  是\n",
       "275  US-2011-2199283  是\n",
       "276  US-2013-4764837  是\n",
       "277  CN-2011-3874208  是\n",
       "278  CN-2014-2640851  是\n",
       "279  US-2014-1850111  是\n",
       "280  CN-2011-4980108  是\n",
       "281  CN-2012-2852208  是\n",
       "282  CN-2014-1893791  是\n",
       "283  CN-2014-2257547  是\n",
       "284  CN-2013-5642637  是\n",
       "285  US-2014-4215575  是\n",
       "286  CN-2014-3964185  是\n",
       "287  CN-2013-3064620  是\n",
       "288  CN-2014-2018203  是\n",
       "289  US-2014-5252007  是\n",
       "290  CN-2011-3898543  是\n",
       "291  CN-2013-3737485  是\n",
       "292  CN-2011-4080057  是\n",
       "293  CN-2012-1734605  是\n",
       "294  CN-2013-4114478  是\n",
       "295  CN-2012-1363241  是\n",
       "\n",
       "[296 rows x 2 columns]"
      ]
     },
     "execution_count": 187,
     "metadata": {},
     "output_type": "execute_result"
    }
   ],
   "source": [
    "df2"
   ]
  },
  {
   "cell_type": "markdown",
   "metadata": {},
   "source": [
    "#### DataFrame的常用操作\n",
    "+ 查看属性\n",
    "    + columns\n",
    "    + index\n",
    "    + dtypes\n",
    "    + shape\n",
    "    + size\n",
    "+ 查看方法\n",
    "    + head\n",
    "    + tail\n",
    "    + rename\n",
    "    + replace\n",
    "    + unique_value\n",
    "    + sort_value\n",
    "    + describe\n",
    "    + max/min/sum/mean\n",
    "    "
   ]
  },
  {
   "cell_type": "code",
   "execution_count": 189,
   "metadata": {},
   "outputs": [
    {
     "data": {
      "text/plain": [
       "Index(['订单ID', '订单日期', '发货日期', '邮寄方式', '客户ID', '城市', '产品ID', '销售额', '数量', '折扣',\n",
       "       '利润', '利润率'],\n",
       "      dtype='object')"
      ]
     },
     "execution_count": 189,
     "metadata": {},
     "output_type": "execute_result"
    }
   ],
   "source": [
    "df1.columns"
   ]
  },
  {
   "cell_type": "code",
   "execution_count": 192,
   "metadata": {},
   "outputs": [
    {
     "data": {
      "text/plain": [
       "(296, 2)"
      ]
     },
     "execution_count": 192,
     "metadata": {},
     "output_type": "execute_result"
    }
   ],
   "source": [
    "df2.shape"
   ]
  },
  {
   "cell_type": "code",
   "execution_count": 193,
   "metadata": {},
   "outputs": [
    {
     "data": {
      "text/plain": [
       "(10000, 12)"
      ]
     },
     "execution_count": 193,
     "metadata": {},
     "output_type": "execute_result"
    }
   ],
   "source": [
    "df1.shape"
   ]
  },
  {
   "cell_type": "code",
   "execution_count": 194,
   "metadata": {},
   "outputs": [
    {
     "data": {
      "text/plain": [
       "RangeIndex(start=0, stop=10000, step=1)"
      ]
     },
     "execution_count": 194,
     "metadata": {},
     "output_type": "execute_result"
    }
   ],
   "source": [
    "df1.index"
   ]
  },
  {
   "cell_type": "code",
   "execution_count": 195,
   "metadata": {
    "collapsed": true
   },
   "outputs": [
    {
     "data": {
      "text/plain": [
       "订单ID            object\n",
       "订单日期    datetime64[ns]\n",
       "发货日期    datetime64[ns]\n",
       "邮寄方式            object\n",
       "客户ID            object\n",
       "城市              object\n",
       "产品ID            object\n",
       "销售额            float64\n",
       "数量               int64\n",
       "折扣             float64\n",
       "利润             float64\n",
       "利润率            float64\n",
       "dtype: object"
      ]
     },
     "execution_count": 195,
     "metadata": {},
     "output_type": "execute_result"
    }
   ],
   "source": [
    "df1.dtypes"
   ]
  },
  {
   "cell_type": "code",
   "execution_count": 196,
   "metadata": {},
   "outputs": [
    {
     "data": {
      "text/plain": [
       "120000"
      ]
     },
     "execution_count": 196,
     "metadata": {},
     "output_type": "execute_result"
    }
   ],
   "source": [
    "df1.size "
   ]
  },
  {
   "cell_type": "code",
   "execution_count": 197,
   "metadata": {},
   "outputs": [
    {
     "data": {
      "text/plain": [
       "10000"
      ]
     },
     "execution_count": 197,
     "metadata": {},
     "output_type": "execute_result"
    }
   ],
   "source": [
    "len(df1)"
   ]
  },
  {
   "cell_type": "code",
   "execution_count": 206,
   "metadata": {
    "collapsed": true
   },
   "outputs": [],
   "source": [
    "df3 = df1.rename(columns={'销售额':'销售额（元）','利润':'利润（元）'}, inplace=False)"
   ]
  },
  {
   "cell_type": "code",
   "execution_count": 207,
   "metadata": {
    "scrolled": true
   },
   "outputs": [
    {
     "data": {
      "text/plain": [
       "订单ID          CN-2011-1017090\n",
       "订单日期      2011-01-01 00:00:00\n",
       "发货日期      2011-01-03 00:00:00\n",
       "邮寄方式                       一级\n",
       "客户ID                 丁君-15280\n",
       "城市                        七台河\n",
       "产品ID          办公用-信封-10000010\n",
       "销售额（元）                  13.44\n",
       "数量                          1\n",
       "折扣                          0\n",
       "利润（元）                -7978.32\n",
       "利润率                        -4\n",
       "dtype: object"
      ]
     },
     "execution_count": 207,
     "metadata": {},
     "output_type": "execute_result"
    }
   ],
   "source": [
    "df3.min()"
   ]
  },
  {
   "cell_type": "code",
   "execution_count": 203,
   "metadata": {
    "collapsed": true
   },
   "outputs": [
    {
     "data": {
      "text/html": [
       "<div>\n",
       "<style scoped>\n",
       "    .dataframe tbody tr th:only-of-type {\n",
       "        vertical-align: middle;\n",
       "    }\n",
       "\n",
       "    .dataframe tbody tr th {\n",
       "        vertical-align: top;\n",
       "    }\n",
       "\n",
       "    .dataframe thead th {\n",
       "        text-align: right;\n",
       "    }\n",
       "</style>\n",
       "<table border=\"1\" class=\"dataframe\">\n",
       "  <thead>\n",
       "    <tr style=\"text-align: right;\">\n",
       "      <th></th>\n",
       "      <th>订单ID</th>\n",
       "      <th>订单日期</th>\n",
       "      <th>发货日期</th>\n",
       "      <th>邮寄方式</th>\n",
       "      <th>客户ID</th>\n",
       "      <th>城市</th>\n",
       "      <th>产品ID</th>\n",
       "      <th>销售额</th>\n",
       "      <th>数量</th>\n",
       "      <th>折扣</th>\n",
       "      <th>利润</th>\n",
       "      <th>利润率</th>\n",
       "    </tr>\n",
       "  </thead>\n",
       "  <tbody>\n",
       "    <tr>\n",
       "      <th>9995</th>\n",
       "      <td>CN-2014-4318875</td>\n",
       "      <td>2014-05-29</td>\n",
       "      <td>2014-06-03</td>\n",
       "      <td>标准级</td>\n",
       "      <td>巩光-13435</td>\n",
       "      <td>义乌</td>\n",
       "      <td>技术-配件-10001160</td>\n",
       "      <td>944.244</td>\n",
       "      <td>3</td>\n",
       "      <td>0.4</td>\n",
       "      <td>-314.916</td>\n",
       "      <td>-0.333511</td>\n",
       "    </tr>\n",
       "    <tr>\n",
       "      <th>9996</th>\n",
       "      <td>CN-2014-4318875</td>\n",
       "      <td>2014-05-29</td>\n",
       "      <td>2014-06-03</td>\n",
       "      <td>标准级</td>\n",
       "      <td>巩光-13435</td>\n",
       "      <td>义乌</td>\n",
       "      <td>办公用-收纳-10002243</td>\n",
       "      <td>447.720</td>\n",
       "      <td>2</td>\n",
       "      <td>0.0</td>\n",
       "      <td>35.560</td>\n",
       "      <td>0.079425</td>\n",
       "    </tr>\n",
       "    <tr>\n",
       "      <th>9997</th>\n",
       "      <td>CN-2014-4318875</td>\n",
       "      <td>2014-05-29</td>\n",
       "      <td>2014-06-03</td>\n",
       "      <td>标准级</td>\n",
       "      <td>巩光-13435</td>\n",
       "      <td>义乌</td>\n",
       "      <td>家具-椅子-10002332</td>\n",
       "      <td>239.988</td>\n",
       "      <td>1</td>\n",
       "      <td>0.4</td>\n",
       "      <td>-88.032</td>\n",
       "      <td>-0.366818</td>\n",
       "    </tr>\n",
       "    <tr>\n",
       "      <th>9998</th>\n",
       "      <td>CN-2014-4318875</td>\n",
       "      <td>2014-05-29</td>\n",
       "      <td>2014-06-03</td>\n",
       "      <td>标准级</td>\n",
       "      <td>巩光-13435</td>\n",
       "      <td>义乌</td>\n",
       "      <td>技术-配件-10002033</td>\n",
       "      <td>4851.588</td>\n",
       "      <td>7</td>\n",
       "      <td>0.4</td>\n",
       "      <td>-1617.392</td>\n",
       "      <td>-0.333374</td>\n",
       "    </tr>\n",
       "    <tr>\n",
       "      <th>9999</th>\n",
       "      <td>CN-2011-3557528</td>\n",
       "      <td>2011-12-02</td>\n",
       "      <td>2011-12-06</td>\n",
       "      <td>标准级</td>\n",
       "      <td>陈忠-11470</td>\n",
       "      <td>温州</td>\n",
       "      <td>办公用-器具-10004673</td>\n",
       "      <td>7244.580</td>\n",
       "      <td>5</td>\n",
       "      <td>0.4</td>\n",
       "      <td>-3501.820</td>\n",
       "      <td>-0.483371</td>\n",
       "    </tr>\n",
       "  </tbody>\n",
       "</table>\n",
       "</div>"
      ],
      "text/plain": [
       "                 订单ID       订单日期       发货日期 邮寄方式      客户ID  城市  \\\n",
       "9995  CN-2014-4318875 2014-05-29 2014-06-03  标准级  巩光-13435  义乌   \n",
       "9996  CN-2014-4318875 2014-05-29 2014-06-03  标准级  巩光-13435  义乌   \n",
       "9997  CN-2014-4318875 2014-05-29 2014-06-03  标准级  巩光-13435  义乌   \n",
       "9998  CN-2014-4318875 2014-05-29 2014-06-03  标准级  巩光-13435  义乌   \n",
       "9999  CN-2011-3557528 2011-12-02 2011-12-06  标准级  陈忠-11470  温州   \n",
       "\n",
       "                 产品ID       销售额  数量   折扣        利润       利润率  \n",
       "9995   技术-配件-10001160   944.244   3  0.4  -314.916 -0.333511  \n",
       "9996  办公用-收纳-10002243   447.720   2  0.0    35.560  0.079425  \n",
       "9997   家具-椅子-10002332   239.988   1  0.4   -88.032 -0.366818  \n",
       "9998   技术-配件-10002033  4851.588   7  0.4 -1617.392 -0.333374  \n",
       "9999  办公用-器具-10004673  7244.580   5  0.4 -3501.820 -0.483371  "
      ]
     },
     "execution_count": 203,
     "metadata": {},
     "output_type": "execute_result"
    }
   ],
   "source": [
    "df1.tail()"
   ]
  },
  {
   "cell_type": "code",
   "execution_count": 209,
   "metadata": {
    "collapsed": true
   },
   "outputs": [
    {
     "data": {
      "text/html": [
       "<div>\n",
       "<style scoped>\n",
       "    .dataframe tbody tr th:only-of-type {\n",
       "        vertical-align: middle;\n",
       "    }\n",
       "\n",
       "    .dataframe tbody tr th {\n",
       "        vertical-align: top;\n",
       "    }\n",
       "\n",
       "    .dataframe thead th {\n",
       "        text-align: right;\n",
       "    }\n",
       "</style>\n",
       "<table border=\"1\" class=\"dataframe\">\n",
       "  <thead>\n",
       "    <tr style=\"text-align: right;\">\n",
       "      <th></th>\n",
       "      <th>订单ID</th>\n",
       "      <th>订单日期</th>\n",
       "      <th>发货日期</th>\n",
       "      <th>邮寄方式</th>\n",
       "      <th>客户ID</th>\n",
       "      <th>城市</th>\n",
       "      <th>产品ID</th>\n",
       "      <th>销售额（元）</th>\n",
       "      <th>数量</th>\n",
       "      <th>折扣</th>\n",
       "      <th>利润（元）</th>\n",
       "      <th>利润率</th>\n",
       "    </tr>\n",
       "  </thead>\n",
       "  <tbody>\n",
       "    <tr>\n",
       "      <th>0</th>\n",
       "      <td>US-2014-1357144</td>\n",
       "      <td>2014-04-28</td>\n",
       "      <td>2014-04-30</td>\n",
       "      <td>二级</td>\n",
       "      <td>曾惠-14485</td>\n",
       "      <td>杭州</td>\n",
       "      <td>办公用-用品-10004670</td>\n",
       "      <td>129.696</td>\n",
       "      <td>2</td>\n",
       "      <td>0.40</td>\n",
       "      <td>-60.704</td>\n",
       "      <td>-0.468048</td>\n",
       "    </tr>\n",
       "    <tr>\n",
       "      <th>1</th>\n",
       "      <td>CN-2014-1973789</td>\n",
       "      <td>2014-06-16</td>\n",
       "      <td>2014-06-20</td>\n",
       "      <td>标准级</td>\n",
       "      <td>许安-10165</td>\n",
       "      <td>内江</td>\n",
       "      <td>办公用-信封-10001735</td>\n",
       "      <td>125.440</td>\n",
       "      <td>2</td>\n",
       "      <td>0.00</td>\n",
       "      <td>42.560</td>\n",
       "      <td>0.339286</td>\n",
       "    </tr>\n",
       "    <tr>\n",
       "      <th>2</th>\n",
       "      <td>CN-2014-1973789</td>\n",
       "      <td>2014-06-16</td>\n",
       "      <td>2014-06-20</td>\n",
       "      <td>标准级</td>\n",
       "      <td>许安-10165</td>\n",
       "      <td>内江</td>\n",
       "      <td>办公用-装订-10001593</td>\n",
       "      <td>31.920</td>\n",
       "      <td>2</td>\n",
       "      <td>0.40</td>\n",
       "      <td>4.200</td>\n",
       "      <td>0.131579</td>\n",
       "    </tr>\n",
       "    <tr>\n",
       "      <th>3</th>\n",
       "      <td>US-2014-3017568</td>\n",
       "      <td>2014-12-10</td>\n",
       "      <td>2014-12-14</td>\n",
       "      <td>标准级</td>\n",
       "      <td>宋良-17170</td>\n",
       "      <td>镇江</td>\n",
       "      <td>办公用-用品-10004966</td>\n",
       "      <td>321.216</td>\n",
       "      <td>4</td>\n",
       "      <td>0.40</td>\n",
       "      <td>-27.104</td>\n",
       "      <td>-0.084379</td>\n",
       "    </tr>\n",
       "    <tr>\n",
       "      <th>4</th>\n",
       "      <td>CN-2013-2975416</td>\n",
       "      <td>2013-05-31</td>\n",
       "      <td>2013-06-02</td>\n",
       "      <td>二级</td>\n",
       "      <td>万兰-15730</td>\n",
       "      <td>汕头</td>\n",
       "      <td>办公用-器具-10002698</td>\n",
       "      <td>1375.920</td>\n",
       "      <td>3</td>\n",
       "      <td>0.00</td>\n",
       "      <td>550.200</td>\n",
       "      <td>0.399878</td>\n",
       "    </tr>\n",
       "    <tr>\n",
       "      <th>5</th>\n",
       "      <td>CN-2012-4497736</td>\n",
       "      <td>2012-10-27</td>\n",
       "      <td>2012-10-31</td>\n",
       "      <td>标准级</td>\n",
       "      <td>俞明-18325</td>\n",
       "      <td>景德镇</td>\n",
       "      <td>技术-设备-10003978</td>\n",
       "      <td>11129.580</td>\n",
       "      <td>9</td>\n",
       "      <td>0.00</td>\n",
       "      <td>3783.780</td>\n",
       "      <td>0.339975</td>\n",
       "    </tr>\n",
       "    <tr>\n",
       "      <th>6</th>\n",
       "      <td>CN-2012-4497736</td>\n",
       "      <td>2012-10-27</td>\n",
       "      <td>2012-10-31</td>\n",
       "      <td>标准级</td>\n",
       "      <td>俞明-18325</td>\n",
       "      <td>景德镇</td>\n",
       "      <td>办公用-装订-10000237</td>\n",
       "      <td>479.920</td>\n",
       "      <td>2</td>\n",
       "      <td>0.00</td>\n",
       "      <td>172.760</td>\n",
       "      <td>0.359977</td>\n",
       "    </tr>\n",
       "    <tr>\n",
       "      <th>7</th>\n",
       "      <td>CN-2012-4497736</td>\n",
       "      <td>2012-10-27</td>\n",
       "      <td>2012-10-31</td>\n",
       "      <td>标准级</td>\n",
       "      <td>俞明-18325</td>\n",
       "      <td>景德镇</td>\n",
       "      <td>家具-椅子-10002437</td>\n",
       "      <td>8659.840</td>\n",
       "      <td>4</td>\n",
       "      <td>0.00</td>\n",
       "      <td>2684.080</td>\n",
       "      <td>0.309946</td>\n",
       "    </tr>\n",
       "    <tr>\n",
       "      <th>8</th>\n",
       "      <td>CN-2012-4497736</td>\n",
       "      <td>2012-10-27</td>\n",
       "      <td>2012-10-31</td>\n",
       "      <td>标准级</td>\n",
       "      <td>俞明-18325</td>\n",
       "      <td>景德镇</td>\n",
       "      <td>办公用-纸张-10000623</td>\n",
       "      <td>588.000</td>\n",
       "      <td>5</td>\n",
       "      <td>0.00</td>\n",
       "      <td>46.900</td>\n",
       "      <td>0.079762</td>\n",
       "    </tr>\n",
       "    <tr>\n",
       "      <th>9</th>\n",
       "      <td>CN-2012-4497736</td>\n",
       "      <td>2012-10-27</td>\n",
       "      <td>2012-10-31</td>\n",
       "      <td>标准级</td>\n",
       "      <td>俞明-18325</td>\n",
       "      <td>景德镇</td>\n",
       "      <td>办公用-系固-10004377</td>\n",
       "      <td>154.280</td>\n",
       "      <td>2</td>\n",
       "      <td>0.00</td>\n",
       "      <td>33.880</td>\n",
       "      <td>0.219601</td>\n",
       "    </tr>\n",
       "    <tr>\n",
       "      <th>10</th>\n",
       "      <td>CN-2011-4195213</td>\n",
       "      <td>2011-12-22</td>\n",
       "      <td>2011-12-24</td>\n",
       "      <td>二级</td>\n",
       "      <td>谢雯-21700</td>\n",
       "      <td>榆林</td>\n",
       "      <td>技术-设备-10001804</td>\n",
       "      <td>434.280</td>\n",
       "      <td>2</td>\n",
       "      <td>0.00</td>\n",
       "      <td>4.200</td>\n",
       "      <td>0.009671</td>\n",
       "    </tr>\n",
       "    <tr>\n",
       "      <th>11</th>\n",
       "      <td>CN-2014-5801711</td>\n",
       "      <td>2014-06-02</td>\n",
       "      <td>2014-06-07</td>\n",
       "      <td>标准级</td>\n",
       "      <td>康青-19585</td>\n",
       "      <td>哈尔滨</td>\n",
       "      <td>技术-复印-10002524</td>\n",
       "      <td>2368.800</td>\n",
       "      <td>4</td>\n",
       "      <td>0.00</td>\n",
       "      <td>639.520</td>\n",
       "      <td>0.269976</td>\n",
       "    </tr>\n",
       "    <tr>\n",
       "      <th>12</th>\n",
       "      <td>CN-2012-2752724</td>\n",
       "      <td>2012-06-05</td>\n",
       "      <td>2012-06-09</td>\n",
       "      <td>标准级</td>\n",
       "      <td>赵婵-10885</td>\n",
       "      <td>青岛</td>\n",
       "      <td>办公用-信封-10001042</td>\n",
       "      <td>683.760</td>\n",
       "      <td>3</td>\n",
       "      <td>0.00</td>\n",
       "      <td>88.620</td>\n",
       "      <td>0.129607</td>\n",
       "    </tr>\n",
       "    <tr>\n",
       "      <th>13</th>\n",
       "      <td>CN-2012-2752724</td>\n",
       "      <td>2012-06-05</td>\n",
       "      <td>2012-06-09</td>\n",
       "      <td>标准级</td>\n",
       "      <td>赵婵-10885</td>\n",
       "      <td>青岛</td>\n",
       "      <td>技术-配件-10000260</td>\n",
       "      <td>1326.500</td>\n",
       "      <td>5</td>\n",
       "      <td>0.00</td>\n",
       "      <td>344.400</td>\n",
       "      <td>0.259631</td>\n",
       "    </tr>\n",
       "    <tr>\n",
       "      <th>14</th>\n",
       "      <td>CN-2012-2752724</td>\n",
       "      <td>2012-06-05</td>\n",
       "      <td>2012-06-09</td>\n",
       "      <td>标准级</td>\n",
       "      <td>赵婵-10885</td>\n",
       "      <td>青岛</td>\n",
       "      <td>技术-电话-10003815</td>\n",
       "      <td>5936.560</td>\n",
       "      <td>2</td>\n",
       "      <td>0.00</td>\n",
       "      <td>2849.280</td>\n",
       "      <td>0.479955</td>\n",
       "    </tr>\n",
       "    <tr>\n",
       "      <th>15</th>\n",
       "      <td>US-2013-2511714</td>\n",
       "      <td>2013-11-22</td>\n",
       "      <td>2013-11-25</td>\n",
       "      <td>一级</td>\n",
       "      <td>刘斯-20965</td>\n",
       "      <td>徐州</td>\n",
       "      <td>办公用-器具-10004647</td>\n",
       "      <td>10336.452</td>\n",
       "      <td>7</td>\n",
       "      <td>0.40</td>\n",
       "      <td>-3962.728</td>\n",
       "      <td>-0.383374</td>\n",
       "    </tr>\n",
       "    <tr>\n",
       "      <th>16</th>\n",
       "      <td>US-2013-2511714</td>\n",
       "      <td>2013-11-22</td>\n",
       "      <td>2013-11-25</td>\n",
       "      <td>一级</td>\n",
       "      <td>刘斯-20965</td>\n",
       "      <td>徐州</td>\n",
       "      <td>办公用-标签-10004301</td>\n",
       "      <td>85.260</td>\n",
       "      <td>3</td>\n",
       "      <td>0.00</td>\n",
       "      <td>38.220</td>\n",
       "      <td>0.448276</td>\n",
       "    </tr>\n",
       "    <tr>\n",
       "      <th>17</th>\n",
       "      <td>CN-2014-5631342</td>\n",
       "      <td>2014-10-03</td>\n",
       "      <td>2014-10-05</td>\n",
       "      <td>二级</td>\n",
       "      <td>白鹄-14050</td>\n",
       "      <td>上海</td>\n",
       "      <td>技术-配件-10002624</td>\n",
       "      <td>2330.440</td>\n",
       "      <td>7</td>\n",
       "      <td>0.00</td>\n",
       "      <td>1071.140</td>\n",
       "      <td>0.459630</td>\n",
       "    </tr>\n",
       "    <tr>\n",
       "      <th>18</th>\n",
       "      <td>CN-2014-5631342</td>\n",
       "      <td>2014-10-03</td>\n",
       "      <td>2014-10-05</td>\n",
       "      <td>二级</td>\n",
       "      <td>白鹄-14050</td>\n",
       "      <td>上海</td>\n",
       "      <td>办公用-用品-10004222</td>\n",
       "      <td>85.540</td>\n",
       "      <td>1</td>\n",
       "      <td>0.00</td>\n",
       "      <td>23.940</td>\n",
       "      <td>0.279869</td>\n",
       "    </tr>\n",
       "    <tr>\n",
       "      <th>19</th>\n",
       "      <td>CN-2014-5631342</td>\n",
       "      <td>2014-10-03</td>\n",
       "      <td>2014-10-05</td>\n",
       "      <td>二级</td>\n",
       "      <td>白鹄-14050</td>\n",
       "      <td>上海</td>\n",
       "      <td>办公用-装订-10004000</td>\n",
       "      <td>137.900</td>\n",
       "      <td>5</td>\n",
       "      <td>0.00</td>\n",
       "      <td>2.100</td>\n",
       "      <td>0.015228</td>\n",
       "    </tr>\n",
       "    <tr>\n",
       "      <th>20</th>\n",
       "      <td>CN-2014-5631342</td>\n",
       "      <td>2014-10-03</td>\n",
       "      <td>2014-10-05</td>\n",
       "      <td>二级</td>\n",
       "      <td>白鹄-14050</td>\n",
       "      <td>上海</td>\n",
       "      <td>办公用-装订-10002142</td>\n",
       "      <td>397.320</td>\n",
       "      <td>6</td>\n",
       "      <td>0.00</td>\n",
       "      <td>126.840</td>\n",
       "      <td>0.319239</td>\n",
       "    </tr>\n",
       "    <tr>\n",
       "      <th>21</th>\n",
       "      <td>CN-2014-5631342</td>\n",
       "      <td>2014-10-03</td>\n",
       "      <td>2014-10-05</td>\n",
       "      <td>二级</td>\n",
       "      <td>白鹄-14050</td>\n",
       "      <td>上海</td>\n",
       "      <td>技术-电话-10003618</td>\n",
       "      <td>2133.460</td>\n",
       "      <td>7</td>\n",
       "      <td>0.00</td>\n",
       "      <td>959.420</td>\n",
       "      <td>0.449701</td>\n",
       "    </tr>\n",
       "    <tr>\n",
       "      <th>22</th>\n",
       "      <td>CN-2014-5631342</td>\n",
       "      <td>2014-10-03</td>\n",
       "      <td>2014-10-05</td>\n",
       "      <td>二级</td>\n",
       "      <td>白鹄-14050</td>\n",
       "      <td>上海</td>\n",
       "      <td>技术-复印-10003114</td>\n",
       "      <td>4473.840</td>\n",
       "      <td>3</td>\n",
       "      <td>0.00</td>\n",
       "      <td>1162.980</td>\n",
       "      <td>0.259951</td>\n",
       "    </tr>\n",
       "    <tr>\n",
       "      <th>23</th>\n",
       "      <td>CN-2014-5631342</td>\n",
       "      <td>2014-10-03</td>\n",
       "      <td>2014-10-05</td>\n",
       "      <td>二级</td>\n",
       "      <td>白鹄-14050</td>\n",
       "      <td>上海</td>\n",
       "      <td>办公用-用品-10000816</td>\n",
       "      <td>269.920</td>\n",
       "      <td>2</td>\n",
       "      <td>0.00</td>\n",
       "      <td>118.720</td>\n",
       "      <td>0.439834</td>\n",
       "    </tr>\n",
       "    <tr>\n",
       "      <th>24</th>\n",
       "      <td>US-2013-4150614</td>\n",
       "      <td>2013-06-07</td>\n",
       "      <td>2013-06-14</td>\n",
       "      <td>标准级</td>\n",
       "      <td>贾彩-10600</td>\n",
       "      <td>温岭</td>\n",
       "      <td>家具-书架-10003716</td>\n",
       "      <td>1638.336</td>\n",
       "      <td>4</td>\n",
       "      <td>0.40</td>\n",
       "      <td>-464.464</td>\n",
       "      <td>-0.283497</td>\n",
       "    </tr>\n",
       "    <tr>\n",
       "      <th>25</th>\n",
       "      <td>US-2013-4150614</td>\n",
       "      <td>2013-06-07</td>\n",
       "      <td>2013-06-14</td>\n",
       "      <td>标准级</td>\n",
       "      <td>贾彩-10600</td>\n",
       "      <td>温岭</td>\n",
       "      <td>家具-椅子-10004000</td>\n",
       "      <td>1204.560</td>\n",
       "      <td>3</td>\n",
       "      <td>0.40</td>\n",
       "      <td>60.060</td>\n",
       "      <td>0.049861</td>\n",
       "    </tr>\n",
       "    <tr>\n",
       "      <th>26</th>\n",
       "      <td>US-2013-4150614</td>\n",
       "      <td>2013-06-07</td>\n",
       "      <td>2013-06-14</td>\n",
       "      <td>标准级</td>\n",
       "      <td>贾彩-10600</td>\n",
       "      <td>温岭</td>\n",
       "      <td>办公用-系固-10003924</td>\n",
       "      <td>198.660</td>\n",
       "      <td>5</td>\n",
       "      <td>0.40</td>\n",
       "      <td>-16.940</td>\n",
       "      <td>-0.085271</td>\n",
       "    </tr>\n",
       "    <tr>\n",
       "      <th>27</th>\n",
       "      <td>US-2013-4150614</td>\n",
       "      <td>2013-06-07</td>\n",
       "      <td>2013-06-14</td>\n",
       "      <td>标准级</td>\n",
       "      <td>贾彩-10600</td>\n",
       "      <td>温岭</td>\n",
       "      <td>办公用-系固-10004422</td>\n",
       "      <td>249.312</td>\n",
       "      <td>8</td>\n",
       "      <td>0.40</td>\n",
       "      <td>-58.688</td>\n",
       "      <td>-0.235400</td>\n",
       "    </tr>\n",
       "    <tr>\n",
       "      <th>28</th>\n",
       "      <td>US-2013-4150614</td>\n",
       "      <td>2013-06-07</td>\n",
       "      <td>2013-06-14</td>\n",
       "      <td>标准级</td>\n",
       "      <td>贾彩-10600</td>\n",
       "      <td>温岭</td>\n",
       "      <td>办公用-用品-10004670</td>\n",
       "      <td>389.088</td>\n",
       "      <td>6</td>\n",
       "      <td>0.40</td>\n",
       "      <td>-182.112</td>\n",
       "      <td>-0.468048</td>\n",
       "    </tr>\n",
       "    <tr>\n",
       "      <th>29</th>\n",
       "      <td>US-2013-4150614</td>\n",
       "      <td>2013-06-07</td>\n",
       "      <td>2013-06-14</td>\n",
       "      <td>标准级</td>\n",
       "      <td>贾彩-10600</td>\n",
       "      <td>温岭</td>\n",
       "      <td>技术-配件-10001552</td>\n",
       "      <td>692.496</td>\n",
       "      <td>1</td>\n",
       "      <td>0.40</td>\n",
       "      <td>-34.664</td>\n",
       "      <td>-0.050057</td>\n",
       "    </tr>\n",
       "    <tr>\n",
       "      <th>...</th>\n",
       "      <td>...</td>\n",
       "      <td>...</td>\n",
       "      <td>...</td>\n",
       "      <td>...</td>\n",
       "      <td>...</td>\n",
       "      <td>...</td>\n",
       "      <td>...</td>\n",
       "      <td>...</td>\n",
       "      <td>...</td>\n",
       "      <td>...</td>\n",
       "      <td>...</td>\n",
       "      <td>...</td>\n",
       "    </tr>\n",
       "    <tr>\n",
       "      <th>9970</th>\n",
       "      <td>CN-2014-1187433</td>\n",
       "      <td>2014-01-30</td>\n",
       "      <td>2014-02-04</td>\n",
       "      <td>标准级</td>\n",
       "      <td>邢立-16645</td>\n",
       "      <td>成都</td>\n",
       "      <td>家具-用具-10003868</td>\n",
       "      <td>475.272</td>\n",
       "      <td>3</td>\n",
       "      <td>0.40</td>\n",
       "      <td>-103.068</td>\n",
       "      <td>-0.216861</td>\n",
       "    </tr>\n",
       "    <tr>\n",
       "      <th>9971</th>\n",
       "      <td>CN-2013-3557528</td>\n",
       "      <td>2013-03-04</td>\n",
       "      <td>2013-03-08</td>\n",
       "      <td>标准级</td>\n",
       "      <td>殷莲-17110</td>\n",
       "      <td>青岛</td>\n",
       "      <td>办公用-信封-10000957</td>\n",
       "      <td>134.400</td>\n",
       "      <td>3</td>\n",
       "      <td>0.00</td>\n",
       "      <td>1.260</td>\n",
       "      <td>0.009375</td>\n",
       "    </tr>\n",
       "    <tr>\n",
       "      <th>9972</th>\n",
       "      <td>CN-2013-3557528</td>\n",
       "      <td>2013-03-04</td>\n",
       "      <td>2013-03-08</td>\n",
       "      <td>标准级</td>\n",
       "      <td>殷莲-17110</td>\n",
       "      <td>青岛</td>\n",
       "      <td>家具-用具-10004716</td>\n",
       "      <td>614.460</td>\n",
       "      <td>3</td>\n",
       "      <td>0.00</td>\n",
       "      <td>300.720</td>\n",
       "      <td>0.489405</td>\n",
       "    </tr>\n",
       "    <tr>\n",
       "      <th>9973</th>\n",
       "      <td>CN-2011-5340374</td>\n",
       "      <td>2011-01-12</td>\n",
       "      <td>2011-01-18</td>\n",
       "      <td>标准级</td>\n",
       "      <td>任婵-10795</td>\n",
       "      <td>汉沽</td>\n",
       "      <td>技术-配件-10003459</td>\n",
       "      <td>683.200</td>\n",
       "      <td>5</td>\n",
       "      <td>0.00</td>\n",
       "      <td>198.100</td>\n",
       "      <td>0.289959</td>\n",
       "    </tr>\n",
       "    <tr>\n",
       "      <th>9974</th>\n",
       "      <td>CN-2012-3138910</td>\n",
       "      <td>2012-08-18</td>\n",
       "      <td>2012-08-22</td>\n",
       "      <td>二级</td>\n",
       "      <td>顾黎-16360</td>\n",
       "      <td>天津</td>\n",
       "      <td>技术-复印-10000922</td>\n",
       "      <td>3669.960</td>\n",
       "      <td>3</td>\n",
       "      <td>0.00</td>\n",
       "      <td>990.780</td>\n",
       "      <td>0.269970</td>\n",
       "    </tr>\n",
       "    <tr>\n",
       "      <th>9975</th>\n",
       "      <td>CN-2012-3138910</td>\n",
       "      <td>2012-08-18</td>\n",
       "      <td>2012-08-22</td>\n",
       "      <td>二级</td>\n",
       "      <td>顾黎-16360</td>\n",
       "      <td>天津</td>\n",
       "      <td>办公用-纸张-10002786</td>\n",
       "      <td>304.640</td>\n",
       "      <td>2</td>\n",
       "      <td>0.00</td>\n",
       "      <td>78.960</td>\n",
       "      <td>0.259191</td>\n",
       "    </tr>\n",
       "    <tr>\n",
       "      <th>9976</th>\n",
       "      <td>CN-2012-1364986</td>\n",
       "      <td>2012-03-06</td>\n",
       "      <td>2012-03-12</td>\n",
       "      <td>标准级</td>\n",
       "      <td>余婵-11020</td>\n",
       "      <td>汕头</td>\n",
       "      <td>技术-配件-10000882</td>\n",
       "      <td>370.020</td>\n",
       "      <td>1</td>\n",
       "      <td>0.00</td>\n",
       "      <td>125.720</td>\n",
       "      <td>0.339765</td>\n",
       "    </tr>\n",
       "    <tr>\n",
       "      <th>9977</th>\n",
       "      <td>CN-2012-1364986</td>\n",
       "      <td>2012-03-06</td>\n",
       "      <td>2012-03-12</td>\n",
       "      <td>标准级</td>\n",
       "      <td>余婵-11020</td>\n",
       "      <td>汕头</td>\n",
       "      <td>办公用-收纳-10004314</td>\n",
       "      <td>810.180</td>\n",
       "      <td>3</td>\n",
       "      <td>0.00</td>\n",
       "      <td>356.160</td>\n",
       "      <td>0.439606</td>\n",
       "    </tr>\n",
       "    <tr>\n",
       "      <th>9978</th>\n",
       "      <td>CN-2013-3434056</td>\n",
       "      <td>2013-06-12</td>\n",
       "      <td>2013-06-18</td>\n",
       "      <td>标准级</td>\n",
       "      <td>巩晒-19795</td>\n",
       "      <td>十字路</td>\n",
       "      <td>办公用-收纳-10003226</td>\n",
       "      <td>497.280</td>\n",
       "      <td>2</td>\n",
       "      <td>0.00</td>\n",
       "      <td>193.760</td>\n",
       "      <td>0.389640</td>\n",
       "    </tr>\n",
       "    <tr>\n",
       "      <th>9979</th>\n",
       "      <td>US-2014-4180783</td>\n",
       "      <td>2014-09-11</td>\n",
       "      <td>2014-09-11</td>\n",
       "      <td>当日</td>\n",
       "      <td>邹丽-17680</td>\n",
       "      <td>晋江</td>\n",
       "      <td>办公用-器具-10004356</td>\n",
       "      <td>7592.760</td>\n",
       "      <td>3</td>\n",
       "      <td>0.00</td>\n",
       "      <td>0.000</td>\n",
       "      <td>0.000000</td>\n",
       "    </tr>\n",
       "    <tr>\n",
       "      <th>9980</th>\n",
       "      <td>US-2014-4180783</td>\n",
       "      <td>2014-09-11</td>\n",
       "      <td>2014-09-11</td>\n",
       "      <td>当日</td>\n",
       "      <td>邹丽-17680</td>\n",
       "      <td>晋江</td>\n",
       "      <td>技术-电话-10001820</td>\n",
       "      <td>1558.480</td>\n",
       "      <td>2</td>\n",
       "      <td>0.00</td>\n",
       "      <td>295.960</td>\n",
       "      <td>0.189903</td>\n",
       "    </tr>\n",
       "    <tr>\n",
       "      <th>9981</th>\n",
       "      <td>CN-2014-1628412</td>\n",
       "      <td>2014-08-28</td>\n",
       "      <td>2014-09-01</td>\n",
       "      <td>标准级</td>\n",
       "      <td>孙荷-13750</td>\n",
       "      <td>呼和浩特</td>\n",
       "      <td>办公用-系固-10002520</td>\n",
       "      <td>108.360</td>\n",
       "      <td>2</td>\n",
       "      <td>0.40</td>\n",
       "      <td>-63.280</td>\n",
       "      <td>-0.583979</td>\n",
       "    </tr>\n",
       "    <tr>\n",
       "      <th>9982</th>\n",
       "      <td>CN-2012-3438839</td>\n",
       "      <td>2012-09-05</td>\n",
       "      <td>2012-09-07</td>\n",
       "      <td>二级</td>\n",
       "      <td>薛芳-12745</td>\n",
       "      <td>澄江</td>\n",
       "      <td>办公用-纸张-10003977</td>\n",
       "      <td>254.800</td>\n",
       "      <td>4</td>\n",
       "      <td>0.00</td>\n",
       "      <td>40.320</td>\n",
       "      <td>0.158242</td>\n",
       "    </tr>\n",
       "    <tr>\n",
       "      <th>9983</th>\n",
       "      <td>CN-2012-3438839</td>\n",
       "      <td>2012-09-05</td>\n",
       "      <td>2012-09-07</td>\n",
       "      <td>二级</td>\n",
       "      <td>薛芳-12745</td>\n",
       "      <td>澄江</td>\n",
       "      <td>家具-椅子-10002888</td>\n",
       "      <td>274.092</td>\n",
       "      <td>1</td>\n",
       "      <td>0.40</td>\n",
       "      <td>9.072</td>\n",
       "      <td>0.033098</td>\n",
       "    </tr>\n",
       "    <tr>\n",
       "      <th>9984</th>\n",
       "      <td>CN-2012-1608087</td>\n",
       "      <td>2012-08-13</td>\n",
       "      <td>2012-08-14</td>\n",
       "      <td>一级</td>\n",
       "      <td>贺斯-20935</td>\n",
       "      <td>哈尔滨</td>\n",
       "      <td>办公用-纸张-10000519</td>\n",
       "      <td>282.800</td>\n",
       "      <td>4</td>\n",
       "      <td>0.00</td>\n",
       "      <td>73.360</td>\n",
       "      <td>0.259406</td>\n",
       "    </tr>\n",
       "    <tr>\n",
       "      <th>9985</th>\n",
       "      <td>CN-2012-1608087</td>\n",
       "      <td>2012-08-13</td>\n",
       "      <td>2012-08-14</td>\n",
       "      <td>一级</td>\n",
       "      <td>贺斯-20935</td>\n",
       "      <td>哈尔滨</td>\n",
       "      <td>办公用-装订-10004170</td>\n",
       "      <td>107.800</td>\n",
       "      <td>2</td>\n",
       "      <td>0.00</td>\n",
       "      <td>19.320</td>\n",
       "      <td>0.179221</td>\n",
       "    </tr>\n",
       "    <tr>\n",
       "      <th>9986</th>\n",
       "      <td>CN-2012-1608087</td>\n",
       "      <td>2012-08-13</td>\n",
       "      <td>2012-08-14</td>\n",
       "      <td>一级</td>\n",
       "      <td>贺斯-20935</td>\n",
       "      <td>哈尔滨</td>\n",
       "      <td>办公用-用品-10004392</td>\n",
       "      <td>399.000</td>\n",
       "      <td>2</td>\n",
       "      <td>0.00</td>\n",
       "      <td>51.800</td>\n",
       "      <td>0.129825</td>\n",
       "    </tr>\n",
       "    <tr>\n",
       "      <th>9987</th>\n",
       "      <td>CN-2012-1608087</td>\n",
       "      <td>2012-08-13</td>\n",
       "      <td>2012-08-14</td>\n",
       "      <td>一级</td>\n",
       "      <td>贺斯-20935</td>\n",
       "      <td>哈尔滨</td>\n",
       "      <td>办公用-纸张-10002611</td>\n",
       "      <td>367.500</td>\n",
       "      <td>3</td>\n",
       "      <td>0.00</td>\n",
       "      <td>32.760</td>\n",
       "      <td>0.089143</td>\n",
       "    </tr>\n",
       "    <tr>\n",
       "      <th>9988</th>\n",
       "      <td>CN-2012-3773206</td>\n",
       "      <td>2012-01-10</td>\n",
       "      <td>2012-01-15</td>\n",
       "      <td>标准级</td>\n",
       "      <td>曹冬-12445</td>\n",
       "      <td>西安</td>\n",
       "      <td>办公用-装订-10001706</td>\n",
       "      <td>156.660</td>\n",
       "      <td>3</td>\n",
       "      <td>0.00</td>\n",
       "      <td>51.660</td>\n",
       "      <td>0.329759</td>\n",
       "    </tr>\n",
       "    <tr>\n",
       "      <th>9989</th>\n",
       "      <td>CN-2011-1902956</td>\n",
       "      <td>2011-06-16</td>\n",
       "      <td>2011-06-18</td>\n",
       "      <td>一级</td>\n",
       "      <td>熊临-17410</td>\n",
       "      <td>常州</td>\n",
       "      <td>办公用-装订-10004636</td>\n",
       "      <td>296.352</td>\n",
       "      <td>2</td>\n",
       "      <td>0.40</td>\n",
       "      <td>-93.968</td>\n",
       "      <td>-0.317082</td>\n",
       "    </tr>\n",
       "    <tr>\n",
       "      <th>9990</th>\n",
       "      <td>CN-2011-1902956</td>\n",
       "      <td>2011-06-16</td>\n",
       "      <td>2011-06-18</td>\n",
       "      <td>一级</td>\n",
       "      <td>熊临-17410</td>\n",
       "      <td>常州</td>\n",
       "      <td>办公用-装订-10004106</td>\n",
       "      <td>120.960</td>\n",
       "      <td>3</td>\n",
       "      <td>0.40</td>\n",
       "      <td>-12.180</td>\n",
       "      <td>-0.100694</td>\n",
       "    </tr>\n",
       "    <tr>\n",
       "      <th>9991</th>\n",
       "      <td>CN-2011-1902956</td>\n",
       "      <td>2011-06-16</td>\n",
       "      <td>2011-06-18</td>\n",
       "      <td>一级</td>\n",
       "      <td>熊临-17410</td>\n",
       "      <td>常州</td>\n",
       "      <td>家具-用具-10002541</td>\n",
       "      <td>369.180</td>\n",
       "      <td>3</td>\n",
       "      <td>0.40</td>\n",
       "      <td>-36.960</td>\n",
       "      <td>-0.100114</td>\n",
       "    </tr>\n",
       "    <tr>\n",
       "      <th>9992</th>\n",
       "      <td>CN-2012-3665640</td>\n",
       "      <td>2012-08-07</td>\n",
       "      <td>2012-08-14</td>\n",
       "      <td>标准级</td>\n",
       "      <td>邓黎-16465</td>\n",
       "      <td>随州</td>\n",
       "      <td>办公用-收纳-10000208</td>\n",
       "      <td>192.080</td>\n",
       "      <td>4</td>\n",
       "      <td>0.00</td>\n",
       "      <td>22.960</td>\n",
       "      <td>0.119534</td>\n",
       "    </tr>\n",
       "    <tr>\n",
       "      <th>9993</th>\n",
       "      <td>US-2011-5128542</td>\n",
       "      <td>2011-05-23</td>\n",
       "      <td>2011-05-27</td>\n",
       "      <td>标准级</td>\n",
       "      <td>贺婉-21355</td>\n",
       "      <td>四平</td>\n",
       "      <td>技术-配件-10004721</td>\n",
       "      <td>396.480</td>\n",
       "      <td>3</td>\n",
       "      <td>0.00</td>\n",
       "      <td>23.520</td>\n",
       "      <td>0.059322</td>\n",
       "    </tr>\n",
       "    <tr>\n",
       "      <th>9994</th>\n",
       "      <td>CN-2014-5146329</td>\n",
       "      <td>2014-09-18</td>\n",
       "      <td>2014-09-21</td>\n",
       "      <td>一级</td>\n",
       "      <td>武明-18385</td>\n",
       "      <td>讷河</td>\n",
       "      <td>家具-桌子-10001441</td>\n",
       "      <td>3360.210</td>\n",
       "      <td>2</td>\n",
       "      <td>0.25</td>\n",
       "      <td>-268.870</td>\n",
       "      <td>-0.080016</td>\n",
       "    </tr>\n",
       "    <tr>\n",
       "      <th>9995</th>\n",
       "      <td>CN-2014-4318875</td>\n",
       "      <td>2014-05-29</td>\n",
       "      <td>2014-06-03</td>\n",
       "      <td>标准级</td>\n",
       "      <td>巩光-13435</td>\n",
       "      <td>义乌</td>\n",
       "      <td>技术-配件-10001160</td>\n",
       "      <td>944.244</td>\n",
       "      <td>3</td>\n",
       "      <td>0.40</td>\n",
       "      <td>-314.916</td>\n",
       "      <td>-0.333511</td>\n",
       "    </tr>\n",
       "    <tr>\n",
       "      <th>9996</th>\n",
       "      <td>CN-2014-4318875</td>\n",
       "      <td>2014-05-29</td>\n",
       "      <td>2014-06-03</td>\n",
       "      <td>标准级</td>\n",
       "      <td>巩光-13435</td>\n",
       "      <td>义乌</td>\n",
       "      <td>办公用-收纳-10002243</td>\n",
       "      <td>447.720</td>\n",
       "      <td>2</td>\n",
       "      <td>0.00</td>\n",
       "      <td>35.560</td>\n",
       "      <td>0.079425</td>\n",
       "    </tr>\n",
       "    <tr>\n",
       "      <th>9997</th>\n",
       "      <td>CN-2014-4318875</td>\n",
       "      <td>2014-05-29</td>\n",
       "      <td>2014-06-03</td>\n",
       "      <td>标准级</td>\n",
       "      <td>巩光-13435</td>\n",
       "      <td>义乌</td>\n",
       "      <td>家具-椅子-10002332</td>\n",
       "      <td>239.988</td>\n",
       "      <td>1</td>\n",
       "      <td>0.40</td>\n",
       "      <td>-88.032</td>\n",
       "      <td>-0.366818</td>\n",
       "    </tr>\n",
       "    <tr>\n",
       "      <th>9998</th>\n",
       "      <td>CN-2014-4318875</td>\n",
       "      <td>2014-05-29</td>\n",
       "      <td>2014-06-03</td>\n",
       "      <td>标准级</td>\n",
       "      <td>巩光-13435</td>\n",
       "      <td>义乌</td>\n",
       "      <td>技术-配件-10002033</td>\n",
       "      <td>4851.588</td>\n",
       "      <td>7</td>\n",
       "      <td>0.40</td>\n",
       "      <td>-1617.392</td>\n",
       "      <td>-0.333374</td>\n",
       "    </tr>\n",
       "    <tr>\n",
       "      <th>9999</th>\n",
       "      <td>CN-2011-3557528</td>\n",
       "      <td>2011-12-02</td>\n",
       "      <td>2011-12-06</td>\n",
       "      <td>标准级</td>\n",
       "      <td>陈忠-11470</td>\n",
       "      <td>温州</td>\n",
       "      <td>办公用-器具-10004673</td>\n",
       "      <td>7244.580</td>\n",
       "      <td>5</td>\n",
       "      <td>0.40</td>\n",
       "      <td>-3501.820</td>\n",
       "      <td>-0.483371</td>\n",
       "    </tr>\n",
       "  </tbody>\n",
       "</table>\n",
       "<p>10000 rows × 12 columns</p>\n",
       "</div>"
      ],
      "text/plain": [
       "                 订单ID       订单日期       发货日期 邮寄方式      客户ID    城市  \\\n",
       "0     US-2014-1357144 2014-04-28 2014-04-30   二级  曾惠-14485    杭州   \n",
       "1     CN-2014-1973789 2014-06-16 2014-06-20  标准级  许安-10165    内江   \n",
       "2     CN-2014-1973789 2014-06-16 2014-06-20  标准级  许安-10165    内江   \n",
       "3     US-2014-3017568 2014-12-10 2014-12-14  标准级  宋良-17170    镇江   \n",
       "4     CN-2013-2975416 2013-05-31 2013-06-02   二级  万兰-15730    汕头   \n",
       "5     CN-2012-4497736 2012-10-27 2012-10-31  标准级  俞明-18325   景德镇   \n",
       "6     CN-2012-4497736 2012-10-27 2012-10-31  标准级  俞明-18325   景德镇   \n",
       "7     CN-2012-4497736 2012-10-27 2012-10-31  标准级  俞明-18325   景德镇   \n",
       "8     CN-2012-4497736 2012-10-27 2012-10-31  标准级  俞明-18325   景德镇   \n",
       "9     CN-2012-4497736 2012-10-27 2012-10-31  标准级  俞明-18325   景德镇   \n",
       "10    CN-2011-4195213 2011-12-22 2011-12-24   二级  谢雯-21700    榆林   \n",
       "11    CN-2014-5801711 2014-06-02 2014-06-07  标准级  康青-19585   哈尔滨   \n",
       "12    CN-2012-2752724 2012-06-05 2012-06-09  标准级  赵婵-10885    青岛   \n",
       "13    CN-2012-2752724 2012-06-05 2012-06-09  标准级  赵婵-10885    青岛   \n",
       "14    CN-2012-2752724 2012-06-05 2012-06-09  标准级  赵婵-10885    青岛   \n",
       "15    US-2013-2511714 2013-11-22 2013-11-25   一级  刘斯-20965    徐州   \n",
       "16    US-2013-2511714 2013-11-22 2013-11-25   一级  刘斯-20965    徐州   \n",
       "17    CN-2014-5631342 2014-10-03 2014-10-05   二级  白鹄-14050    上海   \n",
       "18    CN-2014-5631342 2014-10-03 2014-10-05   二级  白鹄-14050    上海   \n",
       "19    CN-2014-5631342 2014-10-03 2014-10-05   二级  白鹄-14050    上海   \n",
       "20    CN-2014-5631342 2014-10-03 2014-10-05   二级  白鹄-14050    上海   \n",
       "21    CN-2014-5631342 2014-10-03 2014-10-05   二级  白鹄-14050    上海   \n",
       "22    CN-2014-5631342 2014-10-03 2014-10-05   二级  白鹄-14050    上海   \n",
       "23    CN-2014-5631342 2014-10-03 2014-10-05   二级  白鹄-14050    上海   \n",
       "24    US-2013-4150614 2013-06-07 2013-06-14  标准级  贾彩-10600    温岭   \n",
       "25    US-2013-4150614 2013-06-07 2013-06-14  标准级  贾彩-10600    温岭   \n",
       "26    US-2013-4150614 2013-06-07 2013-06-14  标准级  贾彩-10600    温岭   \n",
       "27    US-2013-4150614 2013-06-07 2013-06-14  标准级  贾彩-10600    温岭   \n",
       "28    US-2013-4150614 2013-06-07 2013-06-14  标准级  贾彩-10600    温岭   \n",
       "29    US-2013-4150614 2013-06-07 2013-06-14  标准级  贾彩-10600    温岭   \n",
       "...               ...        ...        ...  ...       ...   ...   \n",
       "9970  CN-2014-1187433 2014-01-30 2014-02-04  标准级  邢立-16645    成都   \n",
       "9971  CN-2013-3557528 2013-03-04 2013-03-08  标准级  殷莲-17110    青岛   \n",
       "9972  CN-2013-3557528 2013-03-04 2013-03-08  标准级  殷莲-17110    青岛   \n",
       "9973  CN-2011-5340374 2011-01-12 2011-01-18  标准级  任婵-10795    汉沽   \n",
       "9974  CN-2012-3138910 2012-08-18 2012-08-22   二级  顾黎-16360    天津   \n",
       "9975  CN-2012-3138910 2012-08-18 2012-08-22   二级  顾黎-16360    天津   \n",
       "9976  CN-2012-1364986 2012-03-06 2012-03-12  标准级  余婵-11020    汕头   \n",
       "9977  CN-2012-1364986 2012-03-06 2012-03-12  标准级  余婵-11020    汕头   \n",
       "9978  CN-2013-3434056 2013-06-12 2013-06-18  标准级  巩晒-19795   十字路   \n",
       "9979  US-2014-4180783 2014-09-11 2014-09-11   当日  邹丽-17680    晋江   \n",
       "9980  US-2014-4180783 2014-09-11 2014-09-11   当日  邹丽-17680    晋江   \n",
       "9981  CN-2014-1628412 2014-08-28 2014-09-01  标准级  孙荷-13750  呼和浩特   \n",
       "9982  CN-2012-3438839 2012-09-05 2012-09-07   二级  薛芳-12745    澄江   \n",
       "9983  CN-2012-3438839 2012-09-05 2012-09-07   二级  薛芳-12745    澄江   \n",
       "9984  CN-2012-1608087 2012-08-13 2012-08-14   一级  贺斯-20935   哈尔滨   \n",
       "9985  CN-2012-1608087 2012-08-13 2012-08-14   一级  贺斯-20935   哈尔滨   \n",
       "9986  CN-2012-1608087 2012-08-13 2012-08-14   一级  贺斯-20935   哈尔滨   \n",
       "9987  CN-2012-1608087 2012-08-13 2012-08-14   一级  贺斯-20935   哈尔滨   \n",
       "9988  CN-2012-3773206 2012-01-10 2012-01-15  标准级  曹冬-12445    西安   \n",
       "9989  CN-2011-1902956 2011-06-16 2011-06-18   一级  熊临-17410    常州   \n",
       "9990  CN-2011-1902956 2011-06-16 2011-06-18   一级  熊临-17410    常州   \n",
       "9991  CN-2011-1902956 2011-06-16 2011-06-18   一级  熊临-17410    常州   \n",
       "9992  CN-2012-3665640 2012-08-07 2012-08-14  标准级  邓黎-16465    随州   \n",
       "9993  US-2011-5128542 2011-05-23 2011-05-27  标准级  贺婉-21355    四平   \n",
       "9994  CN-2014-5146329 2014-09-18 2014-09-21   一级  武明-18385    讷河   \n",
       "9995  CN-2014-4318875 2014-05-29 2014-06-03  标准级  巩光-13435    义乌   \n",
       "9996  CN-2014-4318875 2014-05-29 2014-06-03  标准级  巩光-13435    义乌   \n",
       "9997  CN-2014-4318875 2014-05-29 2014-06-03  标准级  巩光-13435    义乌   \n",
       "9998  CN-2014-4318875 2014-05-29 2014-06-03  标准级  巩光-13435    义乌   \n",
       "9999  CN-2011-3557528 2011-12-02 2011-12-06  标准级  陈忠-11470    温州   \n",
       "\n",
       "                 产品ID     销售额（元）  数量    折扣     利润（元）       利润率  \n",
       "0     办公用-用品-10004670    129.696   2  0.40   -60.704 -0.468048  \n",
       "1     办公用-信封-10001735    125.440   2  0.00    42.560  0.339286  \n",
       "2     办公用-装订-10001593     31.920   2  0.40     4.200  0.131579  \n",
       "3     办公用-用品-10004966    321.216   4  0.40   -27.104 -0.084379  \n",
       "4     办公用-器具-10002698   1375.920   3  0.00   550.200  0.399878  \n",
       "5      技术-设备-10003978  11129.580   9  0.00  3783.780  0.339975  \n",
       "6     办公用-装订-10000237    479.920   2  0.00   172.760  0.359977  \n",
       "7      家具-椅子-10002437   8659.840   4  0.00  2684.080  0.309946  \n",
       "8     办公用-纸张-10000623    588.000   5  0.00    46.900  0.079762  \n",
       "9     办公用-系固-10004377    154.280   2  0.00    33.880  0.219601  \n",
       "10     技术-设备-10001804    434.280   2  0.00     4.200  0.009671  \n",
       "11     技术-复印-10002524   2368.800   4  0.00   639.520  0.269976  \n",
       "12    办公用-信封-10001042    683.760   3  0.00    88.620  0.129607  \n",
       "13     技术-配件-10000260   1326.500   5  0.00   344.400  0.259631  \n",
       "14     技术-电话-10003815   5936.560   2  0.00  2849.280  0.479955  \n",
       "15    办公用-器具-10004647  10336.452   7  0.40 -3962.728 -0.383374  \n",
       "16    办公用-标签-10004301     85.260   3  0.00    38.220  0.448276  \n",
       "17     技术-配件-10002624   2330.440   7  0.00  1071.140  0.459630  \n",
       "18    办公用-用品-10004222     85.540   1  0.00    23.940  0.279869  \n",
       "19    办公用-装订-10004000    137.900   5  0.00     2.100  0.015228  \n",
       "20    办公用-装订-10002142    397.320   6  0.00   126.840  0.319239  \n",
       "21     技术-电话-10003618   2133.460   7  0.00   959.420  0.449701  \n",
       "22     技术-复印-10003114   4473.840   3  0.00  1162.980  0.259951  \n",
       "23    办公用-用品-10000816    269.920   2  0.00   118.720  0.439834  \n",
       "24     家具-书架-10003716   1638.336   4  0.40  -464.464 -0.283497  \n",
       "25     家具-椅子-10004000   1204.560   3  0.40    60.060  0.049861  \n",
       "26    办公用-系固-10003924    198.660   5  0.40   -16.940 -0.085271  \n",
       "27    办公用-系固-10004422    249.312   8  0.40   -58.688 -0.235400  \n",
       "28    办公用-用品-10004670    389.088   6  0.40  -182.112 -0.468048  \n",
       "29     技术-配件-10001552    692.496   1  0.40   -34.664 -0.050057  \n",
       "...               ...        ...  ..   ...       ...       ...  \n",
       "9970   家具-用具-10003868    475.272   3  0.40  -103.068 -0.216861  \n",
       "9971  办公用-信封-10000957    134.400   3  0.00     1.260  0.009375  \n",
       "9972   家具-用具-10004716    614.460   3  0.00   300.720  0.489405  \n",
       "9973   技术-配件-10003459    683.200   5  0.00   198.100  0.289959  \n",
       "9974   技术-复印-10000922   3669.960   3  0.00   990.780  0.269970  \n",
       "9975  办公用-纸张-10002786    304.640   2  0.00    78.960  0.259191  \n",
       "9976   技术-配件-10000882    370.020   1  0.00   125.720  0.339765  \n",
       "9977  办公用-收纳-10004314    810.180   3  0.00   356.160  0.439606  \n",
       "9978  办公用-收纳-10003226    497.280   2  0.00   193.760  0.389640  \n",
       "9979  办公用-器具-10004356   7592.760   3  0.00     0.000  0.000000  \n",
       "9980   技术-电话-10001820   1558.480   2  0.00   295.960  0.189903  \n",
       "9981  办公用-系固-10002520    108.360   2  0.40   -63.280 -0.583979  \n",
       "9982  办公用-纸张-10003977    254.800   4  0.00    40.320  0.158242  \n",
       "9983   家具-椅子-10002888    274.092   1  0.40     9.072  0.033098  \n",
       "9984  办公用-纸张-10000519    282.800   4  0.00    73.360  0.259406  \n",
       "9985  办公用-装订-10004170    107.800   2  0.00    19.320  0.179221  \n",
       "9986  办公用-用品-10004392    399.000   2  0.00    51.800  0.129825  \n",
       "9987  办公用-纸张-10002611    367.500   3  0.00    32.760  0.089143  \n",
       "9988  办公用-装订-10001706    156.660   3  0.00    51.660  0.329759  \n",
       "9989  办公用-装订-10004636    296.352   2  0.40   -93.968 -0.317082  \n",
       "9990  办公用-装订-10004106    120.960   3  0.40   -12.180 -0.100694  \n",
       "9991   家具-用具-10002541    369.180   3  0.40   -36.960 -0.100114  \n",
       "9992  办公用-收纳-10000208    192.080   4  0.00    22.960  0.119534  \n",
       "9993   技术-配件-10004721    396.480   3  0.00    23.520  0.059322  \n",
       "9994   家具-桌子-10001441   3360.210   2  0.25  -268.870 -0.080016  \n",
       "9995   技术-配件-10001160    944.244   3  0.40  -314.916 -0.333511  \n",
       "9996  办公用-收纳-10002243    447.720   2  0.00    35.560  0.079425  \n",
       "9997   家具-椅子-10002332    239.988   1  0.40   -88.032 -0.366818  \n",
       "9998   技术-配件-10002033   4851.588   7  0.40 -1617.392 -0.333374  \n",
       "9999  办公用-器具-10004673   7244.580   5  0.40 -3501.820 -0.483371  \n",
       "\n",
       "[10000 rows x 12 columns]"
      ]
     },
     "execution_count": 209,
     "metadata": {},
     "output_type": "execute_result"
    }
   ],
   "source": [
    "df3.replace('销售额（元）','销售金额（元）')"
   ]
  },
  {
   "cell_type": "code",
   "execution_count": 210,
   "metadata": {
    "collapsed": true
   },
   "outputs": [],
   "source": [
    "df3.replace?"
   ]
  }
 ],
 "metadata": {
  "kernelspec": {
   "display_name": "Python 3",
   "language": "python",
   "name": "python3"
  },
  "language_info": {
   "codemirror_mode": {
    "name": "ipython",
    "version": 3
   },
   "file_extension": ".py",
   "mimetype": "text/x-python",
   "name": "python",
   "nbconvert_exporter": "python",
   "pygments_lexer": "ipython3",
   "version": "3.6.3"
  },
  "toc": {
   "base_numbering": 1,
   "nav_menu": {},
   "number_sections": true,
   "sideBar": true,
   "skip_h1_title": false,
   "title_cell": "Table of Contents",
   "title_sidebar": "Contents",
   "toc_cell": false,
   "toc_position": {},
   "toc_section_display": true,
   "toc_window_display": false
  }
 },
 "nbformat": 4,
 "nbformat_minor": 2
}
