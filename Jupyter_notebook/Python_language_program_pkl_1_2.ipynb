{
 "cells": [
  {
   "cell_type": "code",
   "execution_count": 1,
   "metadata": {},
   "outputs": [
    {
     "name": "stdout",
     "output_type": "stream",
     "text": [
      "12.30c\n",
      "this is a demo12\n"
     ]
    },
    {
     "data": {
      "text/plain": [
       "'12'"
      ]
     },
     "execution_count": 1,
     "metadata": {},
     "output_type": "execute_result"
    }
   ],
   "source": [
    "print('{:.2f}c'.format(12.30493))\n",
    "input('this is a demo')"
   ]
  },
  {
   "cell_type": "markdown",
   "metadata": {},
   "source": [
    "> 评估函数eval() 去掉参数最外侧引号并执行余下语句的函数"
   ]
  },
  {
   "cell_type": "code",
   "execution_count": 2,
   "metadata": {},
   "outputs": [
    {
     "name": "stdout",
     "output_type": "stream",
     "text": [
      "a\n"
     ]
    },
    {
     "data": {
      "text/plain": [
       "NoneType"
      ]
     },
     "execution_count": 2,
     "metadata": {},
     "output_type": "execute_result"
    }
   ],
   "source": [
    "eval('1')#字符串或字符串变量\n",
    "eval('1+2')\n",
    "type(eval('print(\"a\")'))"
   ]
  },
  {
   "cell_type": "code",
   "execution_count": 3,
   "metadata": {},
   "outputs": [
    {
     "name": "stdout",
     "output_type": "stream",
     "text": [
      "请输入带有符号的温度值：86f\n",
      "转换后的温度是30.00C\n"
     ]
    }
   ],
   "source": [
    "# TempConvert.py\n",
    "TempStr = input('请输入带有符号的温度值：')\n",
    "if TempStr[-1] in 'Ff':\n",
    "    C = (eval(TempStr[:-1]) -32)/1.8\n",
    "    print('转换后的温度是{:.2f}C'.format(C))\n",
    "elif TempStr[-1] in 'Cc':\n",
    "    F = 1.8 * eval(TempStr[:-1]) + 32\n",
    "    print('转换后的温度是{:.2f}F'.format(F))\n",
    "else:\n",
    "    print('输入格式错误')"
   ]
  },
  {
   "cell_type": "code",
   "execution_count": 4,
   "metadata": {},
   "outputs": [
    {
     "data": {
      "text/plain": [
       "str"
      ]
     },
     "execution_count": 4,
     "metadata": {},
     "output_type": "execute_result"
    }
   ],
   "source": [
    "type(TempStr)"
   ]
  },
  {
   "cell_type": "code",
   "execution_count": 5,
   "metadata": {},
   "outputs": [
    {
     "data": {
      "text/plain": [
       "False"
      ]
     },
     "execution_count": 5,
     "metadata": {},
     "output_type": "execute_result"
    }
   ],
   "source": [
    "['f','F'] == 'fF'"
   ]
  },
  {
   "cell_type": "markdown",
   "metadata": {},
   "source": [
    "### Python程序语法元素分析\n",
    "- 缩进、注释、命名、变量、保留字\n",
    "- 数据类型：字符串、整数、浮点数和列表\n",
    "- 赋值语句、分支语句和函数\n",
    "- input(), print(), eval(), print()格式化, format()"
   ]
  },
  {
   "cell_type": "code",
   "execution_count": 6,
   "metadata": {},
   "outputs": [
    {
     "name": "stdout",
     "output_type": "stream",
     "text": [
      "['False', 'None', 'True', 'and', 'as', 'assert', 'break', 'class', 'continue', 'def', 'del', 'elif', 'else', 'except', 'finally', 'for', 'from', 'global', 'if', 'import', 'in', 'is', 'lambda', 'nonlocal', 'not', 'or', 'pass', 'raise', 'return', 'try', 'while', 'with', 'yield']\n",
      "33\n"
     ]
    }
   ],
   "source": [
    "import keyword\n",
    "print(keyword.kwlist, len(keyword.kwlist),sep ='\\n')"
   ]
  },
  {
   "cell_type": "code",
   "execution_count": 7,
   "metadata": {},
   "outputs": [
    {
     "name": "stdout",
     "output_type": "stream",
     "text": [
      "86f\n",
      "30.00c\n"
     ]
    }
   ],
   "source": [
    "a = input()\n",
    "if a[-1] in 'Ff':\n",
    "    C = (eval(a[:-1]) - 32) / 1.8\n",
    "    print('{:.2f}c'.format(C))"
   ]
  },
  {
   "cell_type": "markdown",
   "metadata": {},
   "source": [
    "### Python 基本图形绘制\n",
    "- 深入理解Python语言\n",
    "    - 计算机技术的演进\n",
    "        - 1946~1981, 1st. 摩尔定律.计算机系统结构时代。解决计算能力问题\n",
    "        - 81~08, 网络和视窗时代。互联网、windows os。交互问题\n",
    "        - 08~16，复杂信息系统时代。数据问题\n",
    "        - 17~ ，新计算时代。人工智能时代。人类的问题\n",
    "    - 编程语言的多样初心\n",
    "        - c\n",
    "            - 学习内容，指针、内存、数据类型\n",
    "            - 语言本质，理解计算机系统结构\n",
    "            - 解决问题，性能\n",
    "            - 适用对象，计算机类专业\n",
    "        - java\n",
    "            - 学习内容，对象、跨平台、运行时\n",
    "            - 语言本质，理解主客体关系\n",
    "            - 解决问题，跨平台\n",
    "            - 适用对象，软件类专员\n",
    "        - C++\n",
    "            - 学习内容，对象、多态、继承\n",
    "            - 语言本质，理解主客体关系\n",
    "            - 解决问题，大规模程序\n",
    "            - 适用对象，计算机类专业\n",
    "        - VB\n",
    "            - 学习内容，对象、按钮、文本框\n",
    "            - 语言本质，理解交互逻辑\n",
    "            - 解决问题，桌面应用\n",
    "            - 适用对象，不确定   \n",
    "        - Python\n",
    "            - 学习内容，变成逻辑、第三方库\n",
    "            - 语言本质，理解问题求解\n",
    "            - 解决问题，各类问题\n",
    "            - 适用对象，所有专业\n",
    "    - **通用**，脚本、开源、跨平台、多模型\n",
    "        - 特点与优势，\n",
    "            - 语法简洁，约提高10倍的编程产出\n",
    "                - c代码量的10%\n",
    "                - 强制可读性，缩进\n",
    "                - 较少的底层语法元素\n",
    "                - 多种编程方式\n",
    "                - 支持中文字符\n",
    "            - 生态高产，约提高10倍的编程产出\n",
    "                - 13万第三方库\n",
    "                - 快速增长的计算生态\n",
    "                - 避免重复造轮子\n",
    "                - 开放共享\n",
    "                - 跨操作系统平台\n",
    "        - 如何看待Python语言\n",
    "            - C/C++: Python归Python，C归C\n",
    "            - Java：针对特定开发和岗位需求\n",
    "            - HTML/CSS/JS: 不可替代的前端技术，全栈能力\n",
    "            - 其他语言：R/Go/Matlab等，特定领域\n",
    "            \n",
    "            > Python是最高产的程序设计语言及\n",
    "                - 掌握**抽象并求解**计算问题综合能力的语言\n",
    "                - 了解产业界解决**复杂计算问题**方法的语言\n",
    "                - 享受利用编程**将创新变为现实**乐趣的语言\n",
    "            > 工具决定思维：关注工具变革的力量"
   ]
  },
  {
   "cell_type": "markdown",
   "metadata": {},
   "source": [
    "+ 机器语言，和cpu型号有关，代码直接执行\n",
    "+ 汇编语言，和cpu型号有关，有助记符，汇编器\n",
    "+ 高级语言，和cpu型号无关，接近自然语言，编译器\n",
    "+ 超级语言，粘性整合已有程序，具备庞大计算生态\n",
    "    + 具备庞大计算生态，可以很容易利用已有代码功能\n",
    "    + 变成思维不再是刀耕火种，而是集成开发\n",
    "    + 完成2+3功能的高级语言\n",
    "\n",
    "**Python是目前唯一的超级语言**"
   ]
  },
  {
   "cell_type": "code",
   "execution_count": 8,
   "metadata": {
    "collapsed": true
   },
   "outputs": [],
   "source": [
    "#用程序绘制一条蟒蛇\n",
    "import turtle #使用海龟模块"
   ]
  },
  {
   "cell_type": "code",
   "execution_count": null,
   "metadata": {},
   "outputs": [],
   "source": [
    "# PythonDraw.py\n",
    "import turtle\n",
    "turtle.setup(650, 350, 200, 200) #设定窗体\n",
    "turtle.penup() # 抬起画笔\n",
    "turtle.fd(-250) #才画布中心向左倒退250像素\n",
    "turtle.pendown() #画笔落下\n",
    "turtle.pensize(20) #调整画笔粗细\n",
    "turtle.pencolor(0.24, 0.48, 0.72) #黄色 ,画笔颜色\n",
    "turtle.seth(-40) #画笔方向-40度\n",
    "for i in range(4): \n",
    "    turtle.circle(40, 80)\n",
    "    turtle.circle(-40, 80) # 曲折前进，4次循环\n",
    "turtle.circle(40, 80/2)\n",
    "turtle.fd(40)\n",
    "turtle.circle(16, 180) #调头\n",
    "turtle.fd(40 * 2/3)\n",
    "turtle.done()"
   ]
  },
  {
   "cell_type": "markdown",
   "metadata": {},
   "source": [
    "#### turtle库概述\n",
    "- turtle(海龟)库是turtle绘图体系的Python实现\n",
    "    - turtle绘图体系：1969年诞生，主要用于程序设计入门\n",
    "- 窗体布局\n",
    "    - turtule.setup(width, height, startx, starty)\n",
    "        - setup()设置窗体大小及位置\n",
    "        - 4个位置参数中后两个可选（表示起始点（左上角）的x和y坐标）\n",
    "- turtle空间坐标体系\n",
    "    - 绝对坐标，窗体的正中心(0,0)\n",
    "    - 海龟坐标\n",
    "        - turtle.forward(d) 别名 turtle.fd(d), d正数向前行进，负数倒退。海龟走直线\n",
    "        - turtle.backward(d) 别名 turtle.bk(d), 、后退\n",
    "        - (turtle.circle(r,extent=None)\n",
    "            - r:默认圆心在海龟左侧r距离的位置。负数为右侧\n",
    "            - extent: 默认一圈360度\n",
    "- turtle角度坐标体系。绝对角度和海龟角度\n",
    "    - 和x轴方向的夹角，逆时针算起为正\n",
    "    - turtle.setheading(angle) 别名 turtle.seth(angle) 改变海龟行进方向，只改方向不行进\n",
    "        - angle为绝对度数\n",
    "    - turtle.left(angle)/right(angle)\n",
    "- RGB色彩\n",
    "    - 三种颜色构成的万物色\n",
    "        - RGB指红蓝绿三个通道的颜色组合\n",
    "        - 覆盖视力所能感知的所有颜色\n",
    "        - RGB每色取值范围0-255整数或0-1小数\n",
    "    - 默认采用小数，可切换为整数\n",
    "        - turtle.colormode(mode)\n",
    "            - 1.0： RGB小数模式\n",
    "            - 255： 整数值"
   ]
  },
  {
   "cell_type": "code",
   "execution_count": null,
   "metadata": {
    "collapsed": true
   },
   "outputs": [],
   "source": [
    "import turtle\n",
    "turtle.setup(200,200,100,100)\n",
    "turtle.circle(-100)\n",
    "turtle.fd(-100)\n",
    "turtle.done()"
   ]
  },
  {
   "cell_type": "code",
   "execution_count": null,
   "metadata": {
    "collapsed": true
   },
   "outputs": [],
   "source": [
    "import turtle as t #使用goto来绘制简单的五角星\n",
    "t.goto(-100,100)\n",
    "t.goto(100,100)\n",
    "t.goto(-100,-100)\n",
    "t.goto(0,200)\n",
    "t.goto(100,-100)\n",
    "t.goto(-100,100)\n",
    "t.goto(0,0)\n",
    "t.done()\n",
    "# 使用的是绝对坐标"
   ]
  },
  {
   "cell_type": "code",
   "execution_count": null,
   "metadata": {},
   "outputs": [],
   "source": [
    "'''\n",
    "turtle.fd(100) #前进100\n",
    "turtle.circle(100,90) #半径，角度（逆时针为正）\n",
    "turtle.bk(50) #后退50\n",
    "turtle.seth(45) #改变行进的方向\n",
    "turtle.left(90) #左转90度\n",
    "turtle.right(90) #右转90度\n",
    "'''"
   ]
  },
  {
   "cell_type": "code",
   "execution_count": null,
   "metadata": {
    "collapsed": true
   },
   "outputs": [],
   "source": [
    "import turtle as t # 画Z\n",
    "t.seth(45)\n",
    "t.fd(100)\n",
    "t.right(135)\n",
    "t.fd(150)\n",
    "t.left(135)\n",
    "t.fd(100)\n",
    "t.done()"
   ]
  },
  {
   "cell_type": "code",
   "execution_count": null,
   "metadata": {
    "collapsed": true
   },
   "outputs": [],
   "source": [
    "import turtle as t\n",
    "t.circle(100)\n",
    "t.circle(150,-135)\n",
    "t.circle(100,135)\n",
    "t.done()"
   ]
  },
  {
   "cell_type": "markdown",
   "metadata": {},
   "source": [
    "#### 库引用\n",
    "- 扩充Python程序功能的方式\n",
    "    - 使用import保留字完成，采用 <a>.<b>()编码风格\n",
    "        - import <库名>\n",
    "        - <库名>.<函数名>.(<函数参数>)\n",
    "        - 不会出现函数重名问题\n",
    "    - 使用from和import保留字共同完成\n",
    "        - from <库名> import <函数名>\n",
    "        - from <库名> import *\n",
    "        - <函数名>(<函数参数>)\n",
    "        - 容易出现函数重名问题\n",
    "    - 使用import和as保留字共同完成\n",
    "        - import <库名> as <库别名>\n",
    "        - <库别名>.<函数名>(<函数参数>)\n",
    "        - 给调用的外部库关联一个更短、更适合自己的名字"
   ]
  },
  {
   "cell_type": "markdown",
   "metadata": {},
   "source": [
    "#### 画笔控制函数\n",
    "- 画笔操作后一直有效，一般成对出现\n",
    "    - turtle.penup() 别名 turtle.pu() 海龟在飞行，画布无体现\n",
    "    - turtle.pendown() 别名 turtle.pd() 海龟在爬行，体现在画布\n",
    "    - turtle.pensize(width) 别名 turtle.width(width)  画笔宽度，海龟腰围\n",
    "    - turtle.pencolor(color)  color为颜色字符串或r,g,b值。画笔颜色，海龟在涂装。3种形式\n",
    "        - 颜色字符串：turtle.pencolor('purple')\n",
    "        - RGB的小数值：turtle.pencolor(0.63, 0.13, 0.94)\n",
    "        - RGB的元组值：turtle.pencolor((0.63,0.13,0.94))\n",
    "            \n",
    "        "
   ]
  },
  {
   "cell_type": "markdown",
   "metadata": {},
   "source": [
    "#### 循环语句\n",
    "- 按照一定次数循环执行一组语句\n",
    "    ```python\n",
    "    for <变量> in range(<函数名>)\n",
    "        <被循环执行的语句>\n",
    "    ```\n",
    "    - <变量>表示每次循环的计数，0到<次数>-1\n",
    "    - range(M, N), 产生M到N-1的整数序列，共N-M个, 前闭后开"
   ]
  },
  {
   "cell_type": "code",
   "execution_count": 10,
   "metadata": {},
   "outputs": [
    {
     "data": {
      "text/plain": [
       "33"
      ]
     },
     "execution_count": 10,
     "metadata": {},
     "output_type": "execute_result"
    }
   ],
   "source": [
    "a = len(['Fales', 'True', 'None', 'and', 'as','assert', 'break','class','continue','def','del','if','elif','else','while','except','finally','for','from','in','import','global', 'is', 'lambda', 'nonlocal', 'not', 'or', 'pass', 'raise', 'return', 'try', 'with','yield'])\n",
    "a"
   ]
  },
  {
   "cell_type": "code",
   "execution_count": 11,
   "metadata": {},
   "outputs": [
    {
     "name": "stdout",
     "output_type": "stream",
     "text": [
      "['False', 'None', 'True', 'and', 'as', 'assert', 'break', 'class', 'continue', 'def', 'del', 'elif', 'else', 'except', 'finally', 'for', 'from', 'global', 'if', 'import', 'in', 'is', 'lambda', 'nonlocal', 'not', 'or', 'pass', 'raise', 'return', 'try', 'while', 'with', 'yield']\n"
     ]
    }
   ],
   "source": [
    "import keyword\n",
    "print(sorted(keyword.kwlist))"
   ]
  },
  {
   "cell_type": "code",
   "execution_count": 12,
   "metadata": {},
   "outputs": [],
   "source": [
    "list.sort?"
   ]
  },
  {
   "cell_type": "code",
   "execution_count": null,
   "metadata": {},
   "outputs": [],
   "source": [
    "a = input('请输入带有C或F的温度数值')\n",
    "b = eval(a[:-1])\n",
    "C = round((b - 32) / 1.8,2)\n",
    "F = round((b * 1.8) + 32,2)\n",
    "print(C if a[-1] in 'Ff' else (F if a[-1] in 'Cc' else '输入错误！'))"
   ]
  },
  {
   "cell_type": "code",
   "execution_count": null,
   "metadata": {
    "collapsed": true
   },
   "outputs": [],
   "source": [
    "import turtle as t\n",
    "t.setup(300, 300, 200, 200)\n",
    "t.fd(100)\n",
    "t.left(90)\n",
    "t.fd(100)\n",
    "t.left(45)\n",
    "t.fd(140)\n",
    "t.done()"
   ]
  },
  {
   "cell_type": "markdown",
   "metadata": {},
   "source": [
    "### 第三章 基本数据类型"
   ]
  },
  {
   "cell_type": "code",
   "execution_count": 15,
   "metadata": {},
   "outputs": [
    {
     "data": {
      "text/plain": [
       "1267650600228229401496703205376"
      ]
     },
     "execution_count": 15,
     "metadata": {},
     "output_type": "execute_result"
    }
   ],
   "source": [
    "pow(2,100)"
   ]
  },
  {
   "cell_type": "code",
   "execution_count": 16,
   "metadata": {},
   "outputs": [
    {
     "name": "stdout",
     "output_type": "stream",
     "text": [
      "2 83 291\n"
     ]
    }
   ],
   "source": [
    "print(0b010,0o123,0x123)"
   ]
  },
  {
   "cell_type": "code",
   "execution_count": 17,
   "metadata": {},
   "outputs": [
    {
     "name": "stdout",
     "output_type": "stream",
     "text": [
      "0.4 0.30000000000000004\n"
     ]
    }
   ],
   "source": [
    "print(0.1+0.3, 0.1+0.2) #浮点数运算存在不确定尾数"
   ]
  },
  {
   "cell_type": "code",
   "execution_count": 18,
   "metadata": {},
   "outputs": [
    {
     "data": {
      "text/plain": [
       "False"
      ]
     },
     "execution_count": 18,
     "metadata": {},
     "output_type": "execute_result"
    }
   ],
   "source": [
    "0.1 + 0.2 == 0.3"
   ]
  },
  {
   "cell_type": "markdown",
   "metadata": {},
   "source": [
    "#### 复数类型，python支持许多程序不支持的复数"
   ]
  },
  {
   "cell_type": "code",
   "execution_count": 19,
   "metadata": {},
   "outputs": [
    {
     "name": "stdout",
     "output_type": "stream",
     "text": [
      "560.000123 89.0\n"
     ]
    }
   ],
   "source": [
    "z = 1.23e-4 + 5.6e2 + 89j \n",
    "print(z.real, z.imag)"
   ]
  },
  {
   "cell_type": "code",
   "execution_count": 20,
   "metadata": {},
   "outputs": [
    {
     "name": "stdout",
     "output_type": "stream",
     "text": [
      "(561.000123+89j) 24.0\n"
     ]
    }
   ],
   "source": [
    "print(z+1,1.0+23)"
   ]
  },
  {
   "cell_type": "code",
   "execution_count": 21,
   "metadata": {},
   "outputs": [
    {
     "name": "stdout",
     "output_type": "stream",
     "text": [
      "1 (3, 1) 4587\n"
     ]
    }
   ],
   "source": [
    "print(abs(-1), divmod(10,3),pow(3,pow(3,99),10000))\n",
    "# 绝对值，商余，幂余"
   ]
  },
  {
   "cell_type": "code",
   "execution_count": 22,
   "metadata": {},
   "outputs": [
    {
     "data": {
      "text/plain": [
       "(9+0j)"
      ]
     },
     "execution_count": 22,
     "metadata": {},
     "output_type": "execute_result"
    }
   ],
   "source": [
    "max(1,23.4,-1)\n",
    "complex(9)"
   ]
  },
  {
   "cell_type": "code",
   "execution_count": 23,
   "metadata": {},
   "outputs": [
    {
     "data": {
      "text/plain": [
       "True"
      ]
     },
     "execution_count": 23,
     "metadata": {},
     "output_type": "execute_result"
    }
   ],
   "source": [
    "eval('123') == int('123')"
   ]
  },
  {
   "cell_type": "code",
   "execution_count": 24,
   "metadata": {},
   "outputs": [
    {
     "name": "stdout",
     "output_type": "stream",
     "text": [
      "1.44025 0.69407\n"
     ]
    }
   ],
   "source": [
    "print(round(pow(1.001,365),5), round(pow(0.999, 365),5))"
   ]
  },
  {
   "cell_type": "code",
   "execution_count": 25,
   "metadata": {},
   "outputs": [
    {
     "name": "stdout",
     "output_type": "stream",
     "text": [
      "0.01\n",
      "进步到37.78,退步到0.03\n"
     ]
    }
   ],
   "source": [
    "dayfactor = eval(input())\n",
    "dayup = pow(1 + dayfactor, 365)\n",
    "daydown = pow(1 - dayfactor, 365)\n",
    "print('进步到{:.2f},退步到{:.2f}'.format(dayup, daydown))"
   ]
  },
  {
   "cell_type": "code",
   "execution_count": 26,
   "metadata": {},
   "outputs": [
    {
     "name": "stdout",
     "output_type": "stream",
     "text": [
      "休息日下降0.100,需要工作日进步0.100,\n",
      "    才能赶上每日都进步0.100\n"
     ]
    }
   ],
   "source": [
    "print('''休息日下降{:.3f},需要工作日进步{:.3f},\n",
    "    才能赶上每日都进步{:.3f}'''.format(0.1,0.1,0.1))"
   ]
  },
  {
   "cell_type": "code",
   "execution_count": 27,
   "metadata": {},
   "outputs": [
    {
     "name": "stdout",
     "output_type": "stream",
     "text": [
      "numGuesses =  13\n",
      "5.00030517578125 is close to square root of  25\n"
     ]
    }
   ],
   "source": [
    "x = 25\n",
    "epsilon = .01\n",
    "numGuesses = 0\n",
    "low = .0\n",
    "high = max(1.0,x)\n",
    "ans = (high + low)/2.0\n",
    "while abs(ans**2 - x)>= epsilon:\n",
    "    numGuesses += 1\n",
    "    if ans**2 <x:\n",
    "        low = ans\n",
    "    else:\n",
    "        high = ans\n",
    "    ans = (high + low)/2.0\n",
    "print('numGuesses = ', numGuesses)\n",
    "print(ans, 'is close to square root of ',x)"
   ]
  },
  {
   "cell_type": "markdown",
   "metadata": {},
   "source": [
    "##### 字符串\n",
    "> 有序\n",
    "- 单引号、双引号\n",
    "- 三单引号、三双引号\n",
    "- 字符串切片，[M:N:K], 前闭后开k步长\n",
    "- 字符串处理函数\n",
    "    - len(x)\n",
    "    - str(x)\n",
    "    - hex(x)或oct(x) #十六进制或八进制\n",
    "    - chr(x), x为Unicode编码，返回其对应的字符\n",
    "    - ord(x), x为字符，返回其对应的Unicode编码"
   ]
  },
  {
   "cell_type": "code",
   "execution_count": 28,
   "metadata": {},
   "outputs": [
    {
     "name": "stdout",
     "output_type": "stream",
     "text": [
      "3\n",
      "123\n",
      "0x7b\n",
      "0o173\n",
      "{\n",
      "49\n"
     ]
    }
   ],
   "source": [
    "print(len('str'), str(123), hex(123), oct(123), chr(123), \\\n",
    "      ord('1'), sep = '\\n')"
   ]
  },
  {
   "cell_type": "markdown",
   "metadata": {},
   "source": [
    "##### Unicode 编码\n",
    "- Python字符串的编码方式\n",
    "    - 统一字符编码，即覆盖几乎所有字符的编码方式\n",
    "    - 从0到1114111(0x10FFFF)空间，每个编码对应一个字符\n",
    "    - Python字符串中每个字符都是Unicode编码字符"
   ]
  },
  {
   "cell_type": "code",
   "execution_count": 29,
   "metadata": {},
   "outputs": [
    {
     "name": "stdout",
     "output_type": "stream",
     "text": [
      "this is a \"\n"
     ]
    }
   ],
   "source": [
    "print(\"this is a \\\"\")"
   ]
  },
  {
   "cell_type": "code",
   "execution_count": 30,
   "metadata": {},
   "outputs": [
    {
     "name": "stdout",
     "output_type": "stream",
     "text": [
      "1+1=2✔\n"
     ]
    }
   ],
   "source": [
    "print('1+1=2' + chr(10004))"
   ]
  },
  {
   "cell_type": "code",
   "execution_count": 31,
   "metadata": {},
   "outputs": [
    {
     "data": {
      "text/plain": [
       "['♈', '♉', '♊', '♋', '♌', '♍', '♎', '♏', '♐', '♑', '♒', '♓']"
      ]
     },
     "execution_count": 31,
     "metadata": {},
     "output_type": "execute_result"
    }
   ],
   "source": [
    "[chr(9800+i) for i in range(12)]"
   ]
  },
  {
   "cell_type": "code",
   "execution_count": 32,
   "metadata": {},
   "outputs": [
    {
     "name": "stdout",
     "output_type": "stream",
     "text": [
      "\n",
      "\"\\b\"表示回退，'\\n'表示换行，'\\r'表示回车\n",
      "\n"
     ]
    }
   ],
   "source": [
    "print(r'''\n",
    "\"\\b\"表示回退，'\\n'表示换行，'\\r'表示回车\n",
    "''')"
   ]
  },
  {
   "cell_type": "code",
   "execution_count": 33,
   "metadata": {},
   "outputs": [
    {
     "name": "stdout",
     "output_type": "stream",
     "text": [
      "一\n"
     ]
    }
   ],
   "source": [
    "print(r'一')"
   ]
  },
  {
   "cell_type": "code",
   "execution_count": 34,
   "metadata": {},
   "outputs": [
    {
     "name": "stdout",
     "output_type": "stream",
     "text": [
      "一二 xxxxx True\n"
     ]
    }
   ],
   "source": [
    "print('一' + '二', 5 * 'x', 'f' in 'Ff' )"
   ]
  },
  {
   "cell_type": "code",
   "execution_count": 35,
   "metadata": {},
   "outputs": [
    {
     "name": "stdout",
     "output_type": "stream",
     "text": [
      "请输入星期数字(1-7):7\n",
      "星期日\n"
     ]
    }
   ],
   "source": [
    "weekStr = '星期一星期二星期三星期四星期五星期六星期日'\n",
    "weekId = eval(input('请输入星期数字(1-7):'))\n",
    "pos = (weekId -1) * 3\n",
    "print(weekStr[pos:pos + 3])"
   ]
  },
  {
   "cell_type": "code",
   "execution_count": 36,
   "metadata": {},
   "outputs": [
    {
     "name": "stdout",
     "output_type": "stream",
     "text": [
      "请输入星期数字(1-7):6\n",
      "星期六\n"
     ]
    }
   ],
   "source": [
    "weekdict = {1:'星期一',2:'星期二',3:'星期三',4:'星期四',\\\n",
    "            5:'星期五',6:'星期六',7:'星期日'}\n",
    "weekId =eval(input('请输入星期数字(1-7):'))\n",
    "print(weekdict.get(weekId,\"输入错误\"))"
   ]
  },
  {
   "cell_type": "markdown",
   "metadata": {},
   "source": [
    "##### 字符串的处理方法\n",
    "- ‘方法’特指<a>.<b>()风格中的函数<b>()\n",
    "- 方法本身也是函数，但与<a>有关，<a>.<b>()风格使用\n",
    "- 字符串及变量也是<a>,存在一些方法\n",
    "- 一些以方法形式提供的字符串处理功能\n",
    "    - str.lower()/upper()\n",
    "    - str.split(sep=None)\n",
    "    - str.count(sub)\n",
    "    - str.replace(old, new)"
   ]
  },
  {
   "cell_type": "code",
   "execution_count": 37,
   "metadata": {},
   "outputs": [
    {
     "name": "stdout",
     "output_type": "stream",
     "text": [
      "hello\n",
      "HELLO\n",
      "Hello\n",
      "['H', 'e', 'l', 'l', 'o']\n",
      "2\n",
      "Hillo\n"
     ]
    }
   ],
   "source": [
    "print('Hello'.lower(), 'Hello'.upper(), 'HELLO'.capitalize(),\\\n",
    "      'H,e,l,l,o'.split(','), 'Hello'.count('l'),\\\n",
    "      'Hello'.replace('e','i'),\n",
    "     sep='\\n')"
   ]
  },
  {
   "cell_type": "code",
   "execution_count": 38,
   "metadata": {},
   "outputs": [
    {
     "name": "stdout",
     "output_type": "stream",
     "text": [
      "please input the first number:7\n",
      "please input the second number:9\n",
      "the sum of a and b is : 16\n"
     ]
    }
   ],
   "source": [
    "a = input('please input the first number:')\n",
    "b = input('please input the second number:')\n",
    "print('the sum of a and b is :', eval(a) + eval(b))"
   ]
  },
  {
   "cell_type": "code",
   "execution_count": 39,
   "metadata": {},
   "outputs": [
    {
     "name": "stdout",
     "output_type": "stream",
     "text": [
      "123 123\n"
     ]
    }
   ],
   "source": [
    "a='123'\n",
    "# 将a变成整形\n",
    "print(int(a), eval(a))"
   ]
  }
 ],
 "metadata": {
  "kernelspec": {
   "display_name": "Python 3",
   "language": "python",
   "name": "python3"
  },
  "language_info": {
   "codemirror_mode": {
    "name": "ipython",
    "version": 3
   },
   "file_extension": ".py",
   "mimetype": "text/x-python",
   "name": "python",
   "nbconvert_exporter": "python",
   "pygments_lexer": "ipython3",
   "version": "3.6.3"
  },
  "toc": {
   "base_numbering": 1,
   "nav_menu": {},
   "number_sections": true,
   "sideBar": true,
   "skip_h1_title": false,
   "title_cell": "Table of Contents",
   "title_sidebar": "Contents",
   "toc_cell": false,
   "toc_position": {},
   "toc_section_display": true,
   "toc_window_display": false
  }
 },
 "nbformat": 4,
 "nbformat_minor": 2
}
