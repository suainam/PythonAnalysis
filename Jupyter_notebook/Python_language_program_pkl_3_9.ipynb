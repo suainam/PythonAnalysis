{
 "cells": [
  {
   "cell_type": "code",
   "execution_count": 1,
   "metadata": {},
   "outputs": [
    {
     "name": "stdout",
     "output_type": "stream",
     "text": [
      "[[1 2]\n",
      " [3 4]] \n",
      " <class 'numpy.ndarray'> \n",
      " -2.0 \n",
      " [[0.76310297 0.91030511 0.63698681 0.65788853 0.60767528 0.63317672\n",
      "  0.35322897 0.27330125 0.25143779 0.92257745 0.47061258 0.97480051\n",
      "  0.492952   0.22454232 0.92349063 0.83885401 0.53741548 0.12720881\n",
      "  0.76744492 0.1659268  0.75577774 0.74404507 0.78125996 0.99820787\n",
      "  0.08925731 0.4848808  0.5268187  0.17942731 0.24292486 0.1476126\n",
      "  0.15020851 0.84384039 0.49891778 0.78910739 0.96464505 0.70788015\n",
      "  0.96145315 0.48102675 0.53755287 0.20569415 0.56538908 0.4848374\n",
      "  0.11814292 0.25379766 0.30487483 0.79902506 0.40354492 0.3626332\n",
      "  0.51205283 0.44179114 0.9919288  0.22866328 0.05610656 0.28465476\n",
      "  0.30996025 0.9884043  0.70255214 0.2644972  0.18810273 0.95594088\n",
      "  0.28970028 0.42929401 0.88714419 0.80916595 0.95346573 0.03355906\n",
      "  0.13661886 0.7435082  0.60192435 0.2197144  0.50652781 0.10465836\n",
      "  0.93320931 0.44397285 0.60204757 0.75634712 0.80605205 0.82582602\n",
      "  0.52499931 0.88558681 0.91412076 0.4903969  0.48128491 0.51208097\n",
      "  0.57360007 0.43927996 0.24328803 0.95053746 0.02703244 0.4991658\n",
      "  0.81731282 0.68737954 0.5391118  0.81071846 0.89905714 0.788566\n",
      "  0.83297379 0.19996651 0.12561591 0.22545239]] \n",
      " [1 2 3 4 5 6 7 8 9]\n"
     ]
    }
   ],
   "source": [
    "import numpy as np\n",
    "from scipy import linalg\n",
    "a = np.array([[1,2],[3,4]])\n",
    "b = np.random.rand(1,100)\n",
    "c = np.arange(1,10)\n",
    "print(a, '\\n', type(a), '\\n', linalg.det(a), '\\n',b, '\\n',c)"
   ]
  },
  {
   "cell_type": "code",
   "execution_count": 2,
   "metadata": {
    "collapsed": true
   },
   "outputs": [
    {
     "ename": "KeyboardInterrupt",
     "evalue": "",
     "output_type": "error",
     "traceback": [
      "\u001b[1;31m---------------------------------------------------------------------------\u001b[0m",
      "\u001b[1;31mKeyboardInterrupt\u001b[0m                         Traceback (most recent call last)",
      "\u001b[1;32m<ipython-input-2-fec50ed38a60>\u001b[0m in \u001b[0;36m<module>\u001b[1;34m()\u001b[0m\n\u001b[0;32m      1\u001b[0m \u001b[1;32mimport\u001b[0m \u001b[0mnltk\u001b[0m\u001b[1;33m\u001b[0m\u001b[0m\n\u001b[1;32m----> 2\u001b[1;33m \u001b[0mnltk\u001b[0m\u001b[1;33m.\u001b[0m\u001b[0mdownload\u001b[0m\u001b[1;33m(\u001b[0m\u001b[1;33m)\u001b[0m\u001b[1;33m\u001b[0m\u001b[0m\n\u001b[0m",
      "\u001b[1;32mD:\\programes\\Anaconda\\lib\\site-packages\\nltk\\downloader.py\u001b[0m in \u001b[0;36mdownload\u001b[1;34m(self, info_or_id, download_dir, quiet, force, prefix, halt_on_error, raise_on_error)\u001b[0m\n\u001b[0;32m    659\u001b[0m             \u001b[1;31m# function should make a new copy of self to use?\u001b[0m\u001b[1;33m\u001b[0m\u001b[1;33m\u001b[0m\u001b[0m\n\u001b[0;32m    660\u001b[0m             \u001b[1;32mif\u001b[0m \u001b[0mdownload_dir\u001b[0m \u001b[1;32mis\u001b[0m \u001b[1;32mnot\u001b[0m \u001b[1;32mNone\u001b[0m\u001b[1;33m:\u001b[0m \u001b[0mself\u001b[0m\u001b[1;33m.\u001b[0m\u001b[0m_download_dir\u001b[0m \u001b[1;33m=\u001b[0m \u001b[0mdownload_dir\u001b[0m\u001b[1;33m\u001b[0m\u001b[0m\n\u001b[1;32m--> 661\u001b[1;33m             \u001b[0mself\u001b[0m\u001b[1;33m.\u001b[0m\u001b[0m_interactive_download\u001b[0m\u001b[1;33m(\u001b[0m\u001b[1;33m)\u001b[0m\u001b[1;33m\u001b[0m\u001b[0m\n\u001b[0m\u001b[0;32m    662\u001b[0m             \u001b[1;32mreturn\u001b[0m \u001b[1;32mTrue\u001b[0m\u001b[1;33m\u001b[0m\u001b[0m\n\u001b[0;32m    663\u001b[0m \u001b[1;33m\u001b[0m\u001b[0m\n",
      "\u001b[1;32mD:\\programes\\Anaconda\\lib\\site-packages\\nltk\\downloader.py\u001b[0m in \u001b[0;36m_interactive_download\u001b[1;34m(self)\u001b[0m\n\u001b[0;32m    980\u001b[0m         \u001b[1;32mif\u001b[0m \u001b[0mTKINTER\u001b[0m\u001b[1;33m:\u001b[0m\u001b[1;33m\u001b[0m\u001b[0m\n\u001b[0;32m    981\u001b[0m             \u001b[1;32mtry\u001b[0m\u001b[1;33m:\u001b[0m\u001b[1;33m\u001b[0m\u001b[0m\n\u001b[1;32m--> 982\u001b[1;33m                 \u001b[0mDownloaderGUI\u001b[0m\u001b[1;33m(\u001b[0m\u001b[0mself\u001b[0m\u001b[1;33m)\u001b[0m\u001b[1;33m.\u001b[0m\u001b[0mmainloop\u001b[0m\u001b[1;33m(\u001b[0m\u001b[1;33m)\u001b[0m\u001b[1;33m\u001b[0m\u001b[0m\n\u001b[0m\u001b[0;32m    983\u001b[0m             \u001b[1;32mexcept\u001b[0m \u001b[0mTclError\u001b[0m\u001b[1;33m:\u001b[0m\u001b[1;33m\u001b[0m\u001b[0m\n\u001b[0;32m    984\u001b[0m                 \u001b[0mDownloaderShell\u001b[0m\u001b[1;33m(\u001b[0m\u001b[0mself\u001b[0m\u001b[1;33m)\u001b[0m\u001b[1;33m.\u001b[0m\u001b[0mrun\u001b[0m\u001b[1;33m(\u001b[0m\u001b[1;33m)\u001b[0m\u001b[1;33m\u001b[0m\u001b[0m\n",
      "\u001b[1;32mD:\\programes\\Anaconda\\lib\\site-packages\\nltk\\downloader.py\u001b[0m in \u001b[0;36m__init__\u001b[1;34m(self, dataserver, use_threads)\u001b[0m\n\u001b[0;32m   1240\u001b[0m         \u001b[0mself\u001b[0m\u001b[1;33m.\u001b[0m\u001b[0m_init_menu\u001b[0m\u001b[1;33m(\u001b[0m\u001b[1;33m)\u001b[0m\u001b[1;33m\u001b[0m\u001b[0m\n\u001b[0;32m   1241\u001b[0m         \u001b[1;32mtry\u001b[0m\u001b[1;33m:\u001b[0m\u001b[1;33m\u001b[0m\u001b[0m\n\u001b[1;32m-> 1242\u001b[1;33m             \u001b[0mself\u001b[0m\u001b[1;33m.\u001b[0m\u001b[0m_fill_table\u001b[0m\u001b[1;33m(\u001b[0m\u001b[1;33m)\u001b[0m\u001b[1;33m\u001b[0m\u001b[0m\n\u001b[0m\u001b[0;32m   1243\u001b[0m         \u001b[1;32mexcept\u001b[0m \u001b[0mHTTPError\u001b[0m \u001b[1;32mas\u001b[0m \u001b[0me\u001b[0m\u001b[1;33m:\u001b[0m\u001b[1;33m\u001b[0m\u001b[0m\n\u001b[0;32m   1244\u001b[0m             \u001b[0mshowerror\u001b[0m\u001b[1;33m(\u001b[0m\u001b[1;34m'Error reading from server'\u001b[0m\u001b[1;33m,\u001b[0m \u001b[0me\u001b[0m\u001b[1;33m)\u001b[0m\u001b[1;33m\u001b[0m\u001b[0m\n",
      "\u001b[1;32mD:\\programes\\Anaconda\\lib\\site-packages\\nltk\\downloader.py\u001b[0m in \u001b[0;36m_fill_table\u001b[1;34m(self)\u001b[0m\n\u001b[0;32m   1536\u001b[0m             \u001b[0mitems\u001b[0m \u001b[1;33m=\u001b[0m \u001b[0mself\u001b[0m\u001b[1;33m.\u001b[0m\u001b[0m_ds\u001b[0m\u001b[1;33m.\u001b[0m\u001b[0mmodels\u001b[0m\u001b[1;33m(\u001b[0m\u001b[1;33m)\u001b[0m\u001b[1;33m\u001b[0m\u001b[0m\n\u001b[0;32m   1537\u001b[0m         \u001b[1;32melif\u001b[0m \u001b[0mself\u001b[0m\u001b[1;33m.\u001b[0m\u001b[0m_tab\u001b[0m \u001b[1;33m==\u001b[0m \u001b[1;34m'collections'\u001b[0m\u001b[1;33m:\u001b[0m\u001b[1;33m\u001b[0m\u001b[0m\n\u001b[1;32m-> 1538\u001b[1;33m             \u001b[0mitems\u001b[0m \u001b[1;33m=\u001b[0m \u001b[0mself\u001b[0m\u001b[1;33m.\u001b[0m\u001b[0m_ds\u001b[0m\u001b[1;33m.\u001b[0m\u001b[0mcollections\u001b[0m\u001b[1;33m(\u001b[0m\u001b[1;33m)\u001b[0m\u001b[1;33m\u001b[0m\u001b[0m\n\u001b[0m\u001b[0;32m   1539\u001b[0m         \u001b[1;32melse\u001b[0m\u001b[1;33m:\u001b[0m\u001b[1;33m\u001b[0m\u001b[0m\n\u001b[0;32m   1540\u001b[0m             \u001b[1;32massert\u001b[0m \u001b[1;36m0\u001b[0m\u001b[1;33m,\u001b[0m \u001b[1;34m'bad tab value %r'\u001b[0m \u001b[1;33m%\u001b[0m \u001b[0mself\u001b[0m\u001b[1;33m.\u001b[0m\u001b[0m_tab\u001b[0m\u001b[1;33m\u001b[0m\u001b[0m\n",
      "\u001b[1;32mD:\\programes\\Anaconda\\lib\\site-packages\\nltk\\downloader.py\u001b[0m in \u001b[0;36mcollections\u001b[1;34m(self)\u001b[0m\n\u001b[0;32m    503\u001b[0m \u001b[1;33m\u001b[0m\u001b[0m\n\u001b[0;32m    504\u001b[0m     \u001b[1;32mdef\u001b[0m \u001b[0mcollections\u001b[0m\u001b[1;33m(\u001b[0m\u001b[0mself\u001b[0m\u001b[1;33m)\u001b[0m\u001b[1;33m:\u001b[0m\u001b[1;33m\u001b[0m\u001b[0m\n\u001b[1;32m--> 505\u001b[1;33m         \u001b[0mself\u001b[0m\u001b[1;33m.\u001b[0m\u001b[0m_update_index\u001b[0m\u001b[1;33m(\u001b[0m\u001b[1;33m)\u001b[0m\u001b[1;33m\u001b[0m\u001b[0m\n\u001b[0m\u001b[0;32m    506\u001b[0m         \u001b[1;32mreturn\u001b[0m \u001b[0mself\u001b[0m\u001b[1;33m.\u001b[0m\u001b[0m_collections\u001b[0m\u001b[1;33m.\u001b[0m\u001b[0mvalues\u001b[0m\u001b[1;33m(\u001b[0m\u001b[1;33m)\u001b[0m\u001b[1;33m\u001b[0m\u001b[0m\n\u001b[0;32m    507\u001b[0m \u001b[1;33m\u001b[0m\u001b[0m\n",
      "\u001b[1;32mD:\\programes\\Anaconda\\lib\\site-packages\\nltk\\downloader.py\u001b[0m in \u001b[0;36m_update_index\u001b[1;34m(self, url)\u001b[0m\n\u001b[0;32m    829\u001b[0m         \u001b[1;31m# Download the index file.\u001b[0m\u001b[1;33m\u001b[0m\u001b[1;33m\u001b[0m\u001b[0m\n\u001b[0;32m    830\u001b[0m         self._index = nltk.internals.ElementWrapper(\n\u001b[1;32m--> 831\u001b[1;33m             ElementTree.parse(urlopen(self._url)).getroot())\n\u001b[0m\u001b[0;32m    832\u001b[0m         \u001b[0mself\u001b[0m\u001b[1;33m.\u001b[0m\u001b[0m_index_timestamp\u001b[0m \u001b[1;33m=\u001b[0m \u001b[0mtime\u001b[0m\u001b[1;33m.\u001b[0m\u001b[0mtime\u001b[0m\u001b[1;33m(\u001b[0m\u001b[1;33m)\u001b[0m\u001b[1;33m\u001b[0m\u001b[0m\n\u001b[0;32m    833\u001b[0m \u001b[1;33m\u001b[0m\u001b[0m\n",
      "\u001b[1;32mD:\\programes\\Anaconda\\lib\\urllib\\request.py\u001b[0m in \u001b[0;36murlopen\u001b[1;34m(url, data, timeout, cafile, capath, cadefault, context)\u001b[0m\n\u001b[0;32m    221\u001b[0m     \u001b[1;32melse\u001b[0m\u001b[1;33m:\u001b[0m\u001b[1;33m\u001b[0m\u001b[0m\n\u001b[0;32m    222\u001b[0m         \u001b[0mopener\u001b[0m \u001b[1;33m=\u001b[0m \u001b[0m_opener\u001b[0m\u001b[1;33m\u001b[0m\u001b[0m\n\u001b[1;32m--> 223\u001b[1;33m     \u001b[1;32mreturn\u001b[0m \u001b[0mopener\u001b[0m\u001b[1;33m.\u001b[0m\u001b[0mopen\u001b[0m\u001b[1;33m(\u001b[0m\u001b[0murl\u001b[0m\u001b[1;33m,\u001b[0m \u001b[0mdata\u001b[0m\u001b[1;33m,\u001b[0m \u001b[0mtimeout\u001b[0m\u001b[1;33m)\u001b[0m\u001b[1;33m\u001b[0m\u001b[0m\n\u001b[0m\u001b[0;32m    224\u001b[0m \u001b[1;33m\u001b[0m\u001b[0m\n\u001b[0;32m    225\u001b[0m \u001b[1;32mdef\u001b[0m \u001b[0minstall_opener\u001b[0m\u001b[1;33m(\u001b[0m\u001b[0mopener\u001b[0m\u001b[1;33m)\u001b[0m\u001b[1;33m:\u001b[0m\u001b[1;33m\u001b[0m\u001b[0m\n",
      "\u001b[1;32mD:\\programes\\Anaconda\\lib\\urllib\\request.py\u001b[0m in \u001b[0;36mopen\u001b[1;34m(self, fullurl, data, timeout)\u001b[0m\n\u001b[0;32m    524\u001b[0m             \u001b[0mreq\u001b[0m \u001b[1;33m=\u001b[0m \u001b[0mmeth\u001b[0m\u001b[1;33m(\u001b[0m\u001b[0mreq\u001b[0m\u001b[1;33m)\u001b[0m\u001b[1;33m\u001b[0m\u001b[0m\n\u001b[0;32m    525\u001b[0m \u001b[1;33m\u001b[0m\u001b[0m\n\u001b[1;32m--> 526\u001b[1;33m         \u001b[0mresponse\u001b[0m \u001b[1;33m=\u001b[0m \u001b[0mself\u001b[0m\u001b[1;33m.\u001b[0m\u001b[0m_open\u001b[0m\u001b[1;33m(\u001b[0m\u001b[0mreq\u001b[0m\u001b[1;33m,\u001b[0m \u001b[0mdata\u001b[0m\u001b[1;33m)\u001b[0m\u001b[1;33m\u001b[0m\u001b[0m\n\u001b[0m\u001b[0;32m    527\u001b[0m \u001b[1;33m\u001b[0m\u001b[0m\n\u001b[0;32m    528\u001b[0m         \u001b[1;31m# post-process response\u001b[0m\u001b[1;33m\u001b[0m\u001b[1;33m\u001b[0m\u001b[0m\n",
      "\u001b[1;32mD:\\programes\\Anaconda\\lib\\urllib\\request.py\u001b[0m in \u001b[0;36m_open\u001b[1;34m(self, req, data)\u001b[0m\n\u001b[0;32m    542\u001b[0m         \u001b[0mprotocol\u001b[0m \u001b[1;33m=\u001b[0m \u001b[0mreq\u001b[0m\u001b[1;33m.\u001b[0m\u001b[0mtype\u001b[0m\u001b[1;33m\u001b[0m\u001b[0m\n\u001b[0;32m    543\u001b[0m         result = self._call_chain(self.handle_open, protocol, protocol +\n\u001b[1;32m--> 544\u001b[1;33m                                   '_open', req)\n\u001b[0m\u001b[0;32m    545\u001b[0m         \u001b[1;32mif\u001b[0m \u001b[0mresult\u001b[0m\u001b[1;33m:\u001b[0m\u001b[1;33m\u001b[0m\u001b[0m\n\u001b[0;32m    546\u001b[0m             \u001b[1;32mreturn\u001b[0m \u001b[0mresult\u001b[0m\u001b[1;33m\u001b[0m\u001b[0m\n",
      "\u001b[1;32mD:\\programes\\Anaconda\\lib\\urllib\\request.py\u001b[0m in \u001b[0;36m_call_chain\u001b[1;34m(self, chain, kind, meth_name, *args)\u001b[0m\n\u001b[0;32m    502\u001b[0m         \u001b[1;32mfor\u001b[0m \u001b[0mhandler\u001b[0m \u001b[1;32min\u001b[0m \u001b[0mhandlers\u001b[0m\u001b[1;33m:\u001b[0m\u001b[1;33m\u001b[0m\u001b[0m\n\u001b[0;32m    503\u001b[0m             \u001b[0mfunc\u001b[0m \u001b[1;33m=\u001b[0m \u001b[0mgetattr\u001b[0m\u001b[1;33m(\u001b[0m\u001b[0mhandler\u001b[0m\u001b[1;33m,\u001b[0m \u001b[0mmeth_name\u001b[0m\u001b[1;33m)\u001b[0m\u001b[1;33m\u001b[0m\u001b[0m\n\u001b[1;32m--> 504\u001b[1;33m             \u001b[0mresult\u001b[0m \u001b[1;33m=\u001b[0m \u001b[0mfunc\u001b[0m\u001b[1;33m(\u001b[0m\u001b[1;33m*\u001b[0m\u001b[0margs\u001b[0m\u001b[1;33m)\u001b[0m\u001b[1;33m\u001b[0m\u001b[0m\n\u001b[0m\u001b[0;32m    505\u001b[0m             \u001b[1;32mif\u001b[0m \u001b[0mresult\u001b[0m \u001b[1;32mis\u001b[0m \u001b[1;32mnot\u001b[0m \u001b[1;32mNone\u001b[0m\u001b[1;33m:\u001b[0m\u001b[1;33m\u001b[0m\u001b[0m\n\u001b[0;32m    506\u001b[0m                 \u001b[1;32mreturn\u001b[0m \u001b[0mresult\u001b[0m\u001b[1;33m\u001b[0m\u001b[0m\n",
      "\u001b[1;32mD:\\programes\\Anaconda\\lib\\urllib\\request.py\u001b[0m in \u001b[0;36mhttps_open\u001b[1;34m(self, req)\u001b[0m\n\u001b[0;32m   1359\u001b[0m         \u001b[1;32mdef\u001b[0m \u001b[0mhttps_open\u001b[0m\u001b[1;33m(\u001b[0m\u001b[0mself\u001b[0m\u001b[1;33m,\u001b[0m \u001b[0mreq\u001b[0m\u001b[1;33m)\u001b[0m\u001b[1;33m:\u001b[0m\u001b[1;33m\u001b[0m\u001b[0m\n\u001b[0;32m   1360\u001b[0m             return self.do_open(http.client.HTTPSConnection, req,\n\u001b[1;32m-> 1361\u001b[1;33m                 context=self._context, check_hostname=self._check_hostname)\n\u001b[0m\u001b[0;32m   1362\u001b[0m \u001b[1;33m\u001b[0m\u001b[0m\n\u001b[0;32m   1363\u001b[0m         \u001b[0mhttps_request\u001b[0m \u001b[1;33m=\u001b[0m \u001b[0mAbstractHTTPHandler\u001b[0m\u001b[1;33m.\u001b[0m\u001b[0mdo_request_\u001b[0m\u001b[1;33m\u001b[0m\u001b[0m\n",
      "\u001b[1;32mD:\\programes\\Anaconda\\lib\\urllib\\request.py\u001b[0m in \u001b[0;36mdo_open\u001b[1;34m(self, http_class, req, **http_conn_args)\u001b[0m\n\u001b[0;32m   1284\u001b[0m \u001b[1;33m\u001b[0m\u001b[0m\n\u001b[0;32m   1285\u001b[0m         \u001b[1;31m# will parse host:port\u001b[0m\u001b[1;33m\u001b[0m\u001b[1;33m\u001b[0m\u001b[0m\n\u001b[1;32m-> 1286\u001b[1;33m         \u001b[0mh\u001b[0m \u001b[1;33m=\u001b[0m \u001b[0mhttp_class\u001b[0m\u001b[1;33m(\u001b[0m\u001b[0mhost\u001b[0m\u001b[1;33m,\u001b[0m \u001b[0mtimeout\u001b[0m\u001b[1;33m=\u001b[0m\u001b[0mreq\u001b[0m\u001b[1;33m.\u001b[0m\u001b[0mtimeout\u001b[0m\u001b[1;33m,\u001b[0m \u001b[1;33m**\u001b[0m\u001b[0mhttp_conn_args\u001b[0m\u001b[1;33m)\u001b[0m\u001b[1;33m\u001b[0m\u001b[0m\n\u001b[0m\u001b[0;32m   1287\u001b[0m         \u001b[0mh\u001b[0m\u001b[1;33m.\u001b[0m\u001b[0mset_debuglevel\u001b[0m\u001b[1;33m(\u001b[0m\u001b[0mself\u001b[0m\u001b[1;33m.\u001b[0m\u001b[0m_debuglevel\u001b[0m\u001b[1;33m)\u001b[0m\u001b[1;33m\u001b[0m\u001b[0m\n\u001b[0;32m   1288\u001b[0m \u001b[1;33m\u001b[0m\u001b[0m\n",
      "\u001b[1;32mD:\\programes\\Anaconda\\lib\\http\\client.py\u001b[0m in \u001b[0;36m__init__\u001b[1;34m(self, host, port, key_file, cert_file, timeout, source_address, context, check_hostname)\u001b[0m\n\u001b[0;32m   1375\u001b[0m             \u001b[0mself\u001b[0m\u001b[1;33m.\u001b[0m\u001b[0mcert_file\u001b[0m \u001b[1;33m=\u001b[0m \u001b[0mcert_file\u001b[0m\u001b[1;33m\u001b[0m\u001b[0m\n\u001b[0;32m   1376\u001b[0m             \u001b[1;32mif\u001b[0m \u001b[0mcontext\u001b[0m \u001b[1;32mis\u001b[0m \u001b[1;32mNone\u001b[0m\u001b[1;33m:\u001b[0m\u001b[1;33m\u001b[0m\u001b[0m\n\u001b[1;32m-> 1377\u001b[1;33m                 \u001b[0mcontext\u001b[0m \u001b[1;33m=\u001b[0m \u001b[0mssl\u001b[0m\u001b[1;33m.\u001b[0m\u001b[0m_create_default_https_context\u001b[0m\u001b[1;33m(\u001b[0m\u001b[1;33m)\u001b[0m\u001b[1;33m\u001b[0m\u001b[0m\n\u001b[0m\u001b[0;32m   1378\u001b[0m             \u001b[0mwill_verify\u001b[0m \u001b[1;33m=\u001b[0m \u001b[0mcontext\u001b[0m\u001b[1;33m.\u001b[0m\u001b[0mverify_mode\u001b[0m \u001b[1;33m!=\u001b[0m \u001b[0mssl\u001b[0m\u001b[1;33m.\u001b[0m\u001b[0mCERT_NONE\u001b[0m\u001b[1;33m\u001b[0m\u001b[0m\n\u001b[0;32m   1379\u001b[0m             \u001b[1;32mif\u001b[0m \u001b[0mcheck_hostname\u001b[0m \u001b[1;32mis\u001b[0m \u001b[1;32mNone\u001b[0m\u001b[1;33m:\u001b[0m\u001b[1;33m\u001b[0m\u001b[0m\n",
      "\u001b[1;32mD:\\programes\\Anaconda\\lib\\ssl.py\u001b[0m in \u001b[0;36mcreate_default_context\u001b[1;34m(purpose, cafile, capath, cadata)\u001b[0m\n\u001b[0;32m    500\u001b[0m     \u001b[1;31m# OP_CIPHER_SERVER_PREFERENCE, OP_SINGLE_DH_USE and OP_SINGLE_ECDH_USE\u001b[0m\u001b[1;33m\u001b[0m\u001b[1;33m\u001b[0m\u001b[0m\n\u001b[0;32m    501\u001b[0m     \u001b[1;31m# by default.\u001b[0m\u001b[1;33m\u001b[0m\u001b[1;33m\u001b[0m\u001b[0m\n\u001b[1;32m--> 502\u001b[1;33m     \u001b[0mcontext\u001b[0m \u001b[1;33m=\u001b[0m \u001b[0mSSLContext\u001b[0m\u001b[1;33m(\u001b[0m\u001b[0mPROTOCOL_TLS\u001b[0m\u001b[1;33m)\u001b[0m\u001b[1;33m\u001b[0m\u001b[0m\n\u001b[0m\u001b[0;32m    503\u001b[0m \u001b[1;33m\u001b[0m\u001b[0m\n\u001b[0;32m    504\u001b[0m     \u001b[1;32mif\u001b[0m \u001b[0mpurpose\u001b[0m \u001b[1;33m==\u001b[0m \u001b[0mPurpose\u001b[0m\u001b[1;33m.\u001b[0m\u001b[0mSERVER_AUTH\u001b[0m\u001b[1;33m:\u001b[0m\u001b[1;33m\u001b[0m\u001b[0m\n",
      "\u001b[1;32mD:\\programes\\Anaconda\\lib\\ssl.py\u001b[0m in \u001b[0;36m__new__\u001b[1;34m(cls, protocol, *args, **kwargs)\u001b[0m\n\u001b[0;32m    389\u001b[0m \u001b[1;33m\u001b[0m\u001b[0m\n\u001b[0;32m    390\u001b[0m     \u001b[1;32mdef\u001b[0m \u001b[0m__new__\u001b[0m\u001b[1;33m(\u001b[0m\u001b[0mcls\u001b[0m\u001b[1;33m,\u001b[0m \u001b[0mprotocol\u001b[0m\u001b[1;33m=\u001b[0m\u001b[0mPROTOCOL_TLS\u001b[0m\u001b[1;33m,\u001b[0m \u001b[1;33m*\u001b[0m\u001b[0margs\u001b[0m\u001b[1;33m,\u001b[0m \u001b[1;33m**\u001b[0m\u001b[0mkwargs\u001b[0m\u001b[1;33m)\u001b[0m\u001b[1;33m:\u001b[0m\u001b[1;33m\u001b[0m\u001b[0m\n\u001b[1;32m--> 391\u001b[1;33m         \u001b[0mself\u001b[0m \u001b[1;33m=\u001b[0m \u001b[0m_SSLContext\u001b[0m\u001b[1;33m.\u001b[0m\u001b[0m__new__\u001b[0m\u001b[1;33m(\u001b[0m\u001b[0mcls\u001b[0m\u001b[1;33m,\u001b[0m \u001b[0mprotocol\u001b[0m\u001b[1;33m)\u001b[0m\u001b[1;33m\u001b[0m\u001b[0m\n\u001b[0m\u001b[0;32m    392\u001b[0m         \u001b[1;32mif\u001b[0m \u001b[0mprotocol\u001b[0m \u001b[1;33m!=\u001b[0m \u001b[0m_SSLv2_IF_EXISTS\u001b[0m\u001b[1;33m:\u001b[0m\u001b[1;33m\u001b[0m\u001b[0m\n\u001b[0;32m    393\u001b[0m             \u001b[0mself\u001b[0m\u001b[1;33m.\u001b[0m\u001b[0mset_ciphers\u001b[0m\u001b[1;33m(\u001b[0m\u001b[0m_DEFAULT_CIPHERS\u001b[0m\u001b[1;33m)\u001b[0m\u001b[1;33m\u001b[0m\u001b[0m\n",
      "\u001b[1;31mKeyboardInterrupt\u001b[0m: "
     ]
    }
   ],
   "source": [
    "import nltk\n",
    "nltk.download()"
   ]
  },
  {
   "cell_type": "code",
   "execution_count": null,
   "metadata": {},
   "outputs": [],
   "source": [
    "#from igraph import *\n",
    "#g = Graph([(0,1),(0,2)])\n",
    "# 练习\n",
    "# input:arry,target = [0,1,4,0],0\n",
    "# output: index = 1, index = 4\n",
    "# test1\n",
    "import numpy as np\n",
    "array, target = [3, 2, 4], 6\n",
    "#array2, target2 = [0, 1, 4, 0], 0\n",
    "for a in range(len(array)):\n",
    "    for b in range(a+1,len(array)):\n",
    "        if array[a] + array[b] == target1:\n",
    "            print('index1=',a+1,'index2=',b+1)"
   ]
  },
  {
   "cell_type": "markdown",
   "metadata": {},
   "source": [
    "> 以上市数据分析的自然语言处理和图计算的部分"
   ]
  },
  {
   "cell_type": "markdown",
   "metadata": {},
   "source": [
    "### chapter 3"
   ]
  },
  {
   "cell_type": "markdown",
   "metadata": {},
   "source": [
    ">#### 文本格式化"
   ]
  },
  {
   "cell_type": "code",
   "execution_count": null,
   "metadata": {},
   "outputs": [],
   "source": [
    "print('{0:=<30}'.format('python'), '{0:=^30}'.format('python'), \n",
    "      '{0:=>30}'.format('python'), '{:10}'.format('bat'), \n",
    "      '{0:,.2f}'.format(12345.67890), \n",
    "      '{0:b},{0:c},{0:d},{0:o},{0:x},{0:X},{0:=>10}'.format(425),\n",
    "      '{0:e},{0:E},{0:f},{0:%}'.format(3.14), sep='\\n')"
   ]
  },
  {
   "cell_type": "code",
   "execution_count": null,
   "metadata": {
    "scrolled": true
   },
   "outputs": [],
   "source": [
    "print('{1:=>30,.2f},{0:=^20,.3f}'.format(32456.78923,32456.78923),sep='\\n')"
   ]
  },
  {
   "cell_type": "markdown",
   "metadata": {},
   "source": [
    ">#### time库的使用"
   ]
  },
  {
   "cell_type": "code",
   "execution_count": null,
   "metadata": {
    "collapsed": true
   },
   "outputs": [],
   "source": [
    "import time"
   ]
  },
  {
   "cell_type": "code",
   "execution_count": null,
   "metadata": {
    "scrolled": true
   },
   "outputs": [],
   "source": [
    "print(time.time(), time.ctime(), time.gmtime(), sep='\\n')"
   ]
  },
  {
   "cell_type": "code",
   "execution_count": null,
   "metadata": {},
   "outputs": [],
   "source": [
    "'''time.strftime(tpl,ts) tpl是格式化模板字符串，用来定义输出效果。\n",
    "ts是计算机内部时间类型变量\n",
    "'''\n",
    "print(time.strftime('%Y-%m-%d %H:%M:%S',time.gmtime()),\n",
    "      sep='\\n')"
   ]
  },
  {
   "cell_type": "code",
   "execution_count": null,
   "metadata": {},
   "outputs": [],
   "source": [
    "'''strptime(str,tpl)中str是字符串形式的时间值，\n",
    "tpl是格式化模板字符串，用来定义输入效果'''\n",
    "time.strptime('2018-09-26 13:40:56','%Y-%m-%d %H:%M:%S')"
   ]
  },
  {
   "cell_type": "code",
   "execution_count": null,
   "metadata": {},
   "outputs": [],
   "source": [
    "start = time.perf_counter()\n",
    "end = time.perf_counter()\n",
    "end - start"
   ]
  },
  {
   "cell_type": "code",
   "execution_count": null,
   "metadata": {},
   "outputs": [],
   "source": [
    "def main():\n",
    "    start = time.perf_counter()\n",
    "    time.sleep(2) \n",
    "    end = time.perf_counter()\n",
    "    print(round(end - start,0))\n",
    "if __name__ == '__main__':\n",
    "    main()\n",
    "    \n",
    "# 程序将等待2s后再退出"
   ]
  },
  {
   "cell_type": "code",
   "execution_count": null,
   "metadata": {},
   "outputs": [],
   "source": [
    "import time\n",
    "scale = 10\n",
    "print('执行开始'.center(30,'-'))\n",
    "for i in range(scale + 1):\n",
    "    a = '*' * i\n",
    "    b = '.' * (scale - i)\n",
    "    c = (i/scale)*100\n",
    "    print('{:^3.0f}%[{}->{}]'.format(c,a,b))\n",
    "print('执行结束'.center(30,'-'))"
   ]
  },
  {
   "cell_type": "code",
   "execution_count": null,
   "metadata": {},
   "outputs": [],
   "source": [
    "import time\n",
    "scale = 50\n",
    "print('执行开始'.center(scale//2,'-'))\n",
    "start = time.perf_counter()\n",
    "for i in range(scale+1):\n",
    "    a = '*'*i\n",
    "    b = '.'*(scale - i)\n",
    "    c = (i/scale)*100\n",
    "    dur = time.perf_counter() - start\n",
    "    print('\\r{:3.0f}%[{}->{}]{:.2f}s'.format(c,a,b,dur),end='')\n",
    "    time.sleep(0.1)\n",
    "print('\\n'+'执行结束'.center(scale//2,'-'))"
   ]
  },
  {
   "cell_type": "markdown",
   "metadata": {},
   "source": [
    "### 程序的控制结构\n",
    "+ 顺序结构\n",
    "+ 分支结构\n",
    "+ 循环结构"
   ]
  },
  {
   "cell_type": "markdown",
   "metadata": {},
   "source": [
    "#### 程序的控制结构实现\n",
    "- 单分支结构\n",
    "```python\n",
    "if <条件>:\n",
    "    <语句块>\n",
    "```\n",
    "- 二分支结构\n",
    "```python\n",
    "if <条件>:\n",
    "    <表达式1>\n",
    "else:\n",
    "    <表达式2>\n",
    "# 第二种形式\n",
    "<表达式1> if <条件> else <表达式2>\n",
    "```\n",
    "- 多分支结构\n",
    "```python\n",
    "'''\n",
    "注意多条件之间的包含关系\n",
    "注意变量取值范围的覆盖\n",
    "'''\n",
    "if <条件>:\n",
    "    <表达式1>\n",
    "elif:\n",
    "    <表达式2>    \n",
    "else:\n",
    "    <表达式3>\n",
    "```\n",
    "**关注多分支条件的组合**\n",
    "- 多分支条件之间的覆盖是重要问题\n",
    "- 程序可运行，但不正确，要注意多分支\n",
    "- 分支结构上出程序的重要框架，读程序先看分支\n"
   ]
  },
  {
   "cell_type": "code",
   "execution_count": null,
   "metadata": {},
   "outputs": [],
   "source": [
    "guess = eval(input())\n",
    "if guess == 99:\n",
    "    print('猜对了！')\n",
    "else:\n",
    "    print('猜错了')"
   ]
  },
  {
   "cell_type": "code",
   "execution_count": null,
   "metadata": {},
   "outputs": [],
   "source": [
    "guess = eval(input())\n",
    "print('猜{}了'.format('对' if (guess == 99) else '错'))"
   ]
  },
  {
   "cell_type": "markdown",
   "metadata": {},
   "source": [
    "+ 条件判断\n",
    "```python\n",
    "<, <=, >=, >, ==, !=\n",
    "```\n",
    "+ 条件组合\n",
    "```python\n",
    "and, or, not\n",
    "```"
   ]
  },
  {
   "cell_type": "markdown",
   "metadata": {},
   "source": [
    "#### 异常处理\n",
    "- 初级应用\n",
    "```python\n",
    "try :\n",
    "    <语句块1>\n",
    "except [<异常类型>] :\n",
    "    <语句块2>\n",
    "```\n",
    "- 高级应用\n",
    "```python\n",
    "'''\n",
    "finally对应的语句块4一定执行\n",
    "else对应的语句块3在不发生异常时执行,就像是正常运行的奖励\n",
    "'''\n",
    "try :\n",
    "    <语句块1>\n",
    "except [<异常类型>] :\n",
    "    <语句块2>\n",
    "else :\n",
    "    <语句块1>\n",
    "finally :\n",
    "    <语句块2>\n",
    "```\n"
   ]
  },
  {
   "cell_type": "code",
   "execution_count": null,
   "metadata": {},
   "outputs": [],
   "source": [
    "try:\n",
    "    num = eval(input('pleas input a number'))\n",
    "    print(num**2)\n",
    "except NameError:\n",
    "    print('输入的不是整数')"
   ]
  },
  {
   "cell_type": "markdown",
   "metadata": {},
   "source": [
    "> BMI：Body Mass Index\n",
    "\n",
    "$$BMI = 体重(kg)/身高^2(m^2)$$\n",
    "\n",
    "国际上常用的衡量人体肥胖和健康程度的重要标准，主要用于统计分析\n"
   ]
  },
  {
   "cell_type": "code",
   "execution_count": null,
   "metadata": {
    "scrolled": true
   },
   "outputs": [],
   "source": [
    "height, weight = eval(input('请输入身高(米)和体重(kg)的数值，用英文逗号隔开：'))\n",
    "bmi = weight/(height**2)\n",
    "print('BMI数值为{:.2f}'.format(bmi))\n",
    "who,nat = '',''\n",
    "if bmi < 18.5:\n",
    "    who, nat = '偏瘦','偏瘦'\n",
    "elif 18.5<bmi<24:\n",
    "    who,nat='正常','正常'\n",
    "elif 24<=bmi<25:\n",
    "    who,nat='正常','偏胖'\n",
    "elif 25<=bmi<28:\n",
    "    who,nat='偏胖','偏胖'\n",
    "elif 28<=bmi<30:\n",
    "    who,nat='偏胖','肥胖'\n",
    "else:\n",
    "    who,nat = '肥胖','肥胖'\n",
    "print('国际BMI值是{},国内BMI值是{}'.format(who,nat))"
   ]
  },
  {
   "cell_type": "markdown",
   "metadata": {},
   "source": [
    ">#### 程序的循环结构\n",
    "\n",
    "\n",
    "+ 遍历循环：遍历某个结构形成的循环运行方式\n",
    "```python\n",
    "'''\n",
    "从遍历结构中逐一提取元素，放在循环变量中\n",
    "由保留字for和in组成，完整遍历所有元素后结束\n",
    "每次循环，所获得元素放入循环变量，并执行一次语句块\n",
    "'''\n",
    "for <循环变量> in <遍历结构>:\n",
    "    <语句块1>\n",
    "```\n",
    "+ 无限循环\n",
    "\n",
    "```python\n",
    "while <条件>:\n",
    "    <语句块1>\n",
    "```\n",
    "\n",
    "+ 循环控制保留字\n",
    "    + break，跳出并结束当前整个循环，执行循环后的语句\n",
    "    + continue，结束当次循环，继续执行后续次数循环\n",
    "    + break、continue都可以与for和while循环搭配使用\n",
    "    "
   ]
  },
  {
   "cell_type": "code",
   "execution_count": null,
   "metadata": {},
   "outputs": [],
   "source": [
    "for c in 'Python'.upper():\n",
    "    if c == \"T\":\n",
    "        continue\n",
    "    print(c, end=\",\")"
   ]
  },
  {
   "cell_type": "markdown",
   "metadata": {},
   "source": [
    "**跳出了当次循环，继续执行后续的循环**"
   ]
  },
  {
   "cell_type": "code",
   "execution_count": null,
   "metadata": {},
   "outputs": [],
   "source": [
    "for c in 'Python'.upper():\n",
    "    if c == \"T\":\n",
    "        break\n",
    "    print(c)\n",
    "print('end')"
   ]
  },
  {
   "cell_type": "markdown",
   "metadata": {},
   "source": [
    "**跳出并结束当前整个的循环体**"
   ]
  },
  {
   "cell_type": "code",
   "execution_count": null,
   "metadata": {},
   "outputs": [],
   "source": [
    "s = 'PYTHON'\n",
    "while s != '':\n",
    "    for c in s:\n",
    "        print(c, end='')\n",
    "    s = s[:-1]"
   ]
  },
  {
   "cell_type": "markdown",
   "metadata": {},
   "source": [
    "+ 循环次数由while来控制，每次减少最后1个字符，共循环len(s)次\n",
    "+ 结构是：6，5，4，3，2，1"
   ]
  },
  {
   "cell_type": "code",
   "execution_count": null,
   "metadata": {},
   "outputs": [],
   "source": [
    "s = 'PYTHON'\n",
    "while s != '':\n",
    "    for c in s:\n",
    "        if c == 'T':\n",
    "            continue\n",
    "        print(c, end='')\n",
    "    s = s[:-1]"
   ]
  },
  {
   "cell_type": "markdown",
   "metadata": {},
   "source": [
    "两层循环：\n",
    "+ 循环次数由while来控制，每次减少最后1个字符，共循环len(s)次\n",
    "+ 内层循环遇到c=='T'时候，跳过当次循环，执行外部循环\n",
    "+ 结构是：5，4，3，2，2，1"
   ]
  },
  {
   "cell_type": "code",
   "execution_count": null,
   "metadata": {},
   "outputs": [],
   "source": [
    "s = 'PYTHON'\n",
    "while s != '':\n",
    "    for c in s:\n",
    "        if c == 'T':\n",
    "            break\n",
    "        print(c, end='')\n",
    "    s = s[:-1]"
   ]
  },
  {
   "cell_type": "markdown",
   "metadata": {},
   "source": [
    "两层循环：\n",
    "+ 外层循环次数由while来控制，每次减少最后1个字符，共循环len(s)次\n",
    "+ 内层循环遇到c=='T'时候，跳出，执行外部循环\n",
    "+ 结构是：2，2，2，2，2，1"
   ]
  },
  {
   "cell_type": "markdown",
   "metadata": {},
   "source": [
    ">##### 循环的扩展\n",
    "\n",
    "+ 循环与else\n",
    "```python\n",
    "#for\n",
    "for <循环变量> in <遍历结构>:\n",
    "    <语句块1>\n",
    "else:\n",
    "    <语句块2>\n",
    "#while\n",
    "while <条件>:\n",
    "    <语句块1>\n",
    "else:\n",
    "    <语句块2>    \n",
    "```\n",
    "\n",
    "    + 当循环没有被break语句退出时，执行else语句块\n",
    "    + else语句块作为“正常”完成循环的奖励\n",
    "    + 这里else的用法与异常处理中else的用法相似"
   ]
  },
  {
   "cell_type": "code",
   "execution_count": null,
   "metadata": {},
   "outputs": [],
   "source": [
    "for c in 'Python'.upper():\n",
    "    if c == \"T\":\n",
    "        continue\n",
    "    print(c, end=\",\")\n",
    "else:\n",
    "    print('正常退出')"
   ]
  },
  {
   "cell_type": "code",
   "execution_count": null,
   "metadata": {},
   "outputs": [],
   "source": [
    "for c in 'Python'.upper():\n",
    "    if c == \"T\":\n",
    "        break\n",
    "    print(c, end=\",\")\n",
    "else:\n",
    "    print('正常退出')"
   ]
  },
  {
   "cell_type": "markdown",
   "metadata": {},
   "source": [
    "#### random库概述\n",
    "> random 库是使用随机数的python标准库\n",
    "\n",
    "+ 伪随机数：采用梅森旋转算法生成的（伪）随机序列中的元素\n",
    "+ random库主要用于生成随机数\n",
    "+ 使用random库：'import random'"
   ]
  },
  {
   "cell_type": "markdown",
   "metadata": {},
   "source": [
    "+ random库包括两类函数，常用的共8个\n",
    "    + 基本随机数函数：seed(), random()\n",
    "        + seed(a=None), 初始化给定的随机数种子，默认为当前系统时间\n",
    "        ```python\n",
    "        random.seed(10) # 产生种子10对应的序列\n",
    "        ```\n",
    "        + random(), 生成一个[0.0, 1.0)之间的随机小数\n",
    "        ```python\n",
    "        random.random() # 0.5714...\n",
    "        ```\n",
    "    + 扩展随机数函数：randint(), getrandbits(), uniform(), randrange(), choice(), shuffle()\n",
    "        + randint(a, b), 生成一个[a, b)之间的整数\n",
    "        ```python\n",
    "        random.randint(10, 100) # 64\n",
    "        ```\n",
    "        + randrange(m, n[, k]), 生成一个[m, n)之间以k为步长的随机整数\n",
    "        ```python\n",
    "        random.randrange(10, 100, 10) # 80\n",
    "        ```\n",
    "        + getrandbits(k), 生成1个K比特长的随机整数\n",
    "        ```python\n",
    "        random.getrandbits(16) # 37885\n",
    "        ```\n",
    "        + uniform(a, b), 生成1个[a, b]之间的随机小数\n",
    "        ```python\n",
    "        random.uniform(10, 100) # 13.096...\n",
    "        ```\n",
    "        + choice(seq)，从序列seq中随机选择1个元素\n",
    "        ```python\n",
    "        random.choice([1,2,3,4,5,6,7,8,9]) # 8\n",
    "        ```\n",
    "        + shuffle(seq)，将序列seq中元素随机排列，返回打乱后的序列\n",
    "        ```python\n",
    "        s = random.shuffle(list(range(10)))\n",
    "        print(s)\n",
    "        # [8, 2, 3, 5, 1, 0, 6, 4, 7, 9]\n",
    "        ```\n",
    "    "
   ]
  },
  {
   "cell_type": "code",
   "execution_count": null,
   "metadata": {},
   "outputs": [],
   "source": [
    "import random\n",
    "random.seed(10)\n",
    "random.random()"
   ]
  },
  {
   "cell_type": "code",
   "execution_count": null,
   "metadata": {},
   "outputs": [],
   "source": [
    "random.random()"
   ]
  },
  {
   "cell_type": "code",
   "execution_count": null,
   "metadata": {
    "scrolled": true
   },
   "outputs": [],
   "source": [
    "print(random.randint(10,100), random.randrange(10, 100, 5))"
   ]
  },
  {
   "cell_type": "code",
   "execution_count": null,
   "metadata": {
    "scrolled": true
   },
   "outputs": [],
   "source": [
    "print(random.getrandbits(10), random.uniform(10, 100))"
   ]
  },
  {
   "cell_type": "code",
   "execution_count": null,
   "metadata": {
    "scrolled": true
   },
   "outputs": [],
   "source": [
    "print(random.choice(list(range(10))))"
   ]
  },
  {
   "cell_type": "code",
   "execution_count": null,
   "metadata": {},
   "outputs": [],
   "source": [
    "s = list(range(20))\n",
    "random.shuffle(s)\n",
    "print(s)"
   ]
  },
  {
   "cell_type": "markdown",
   "metadata": {},
   "source": [
    "#### 圆周率的计算"
   ]
  },
  {
   "cell_type": "code",
   "execution_count": null,
   "metadata": {},
   "outputs": [],
   "source": [
    "#CalPiV1.py\n",
    "# 根据公式求解\n",
    "pi = 0\n",
    "N = 100\n",
    "for k in range(N):\n",
    "    pi += 1/pow(16,k)*(4/(8*k+1)-2/(8*k+4)-1/(8*k+5)-1/(8*k+6))\n",
    "print('PI:{}'.format(pi))"
   ]
  },
  {
   "cell_type": "code",
   "execution_count": null,
   "metadata": {
    "scrolled": true
   },
   "outputs": [],
   "source": [
    "#CalPiV2.py\n",
    "#蒙特卡洛方法\n",
    "from random import random\n",
    "from time import perf_counter\n",
    "DARTS = pow(1000,2)*10\n",
    "hits = .0\n",
    "start = perf_counter()\n",
    "for i in range(1,DARTS+1):\n",
    "    x,y = random(), random()\n",
    "    dist = pow(x ** 2 + y ** 2, 0.5)\n",
    "    if dist <= 1.0:\n",
    "        hits = hits + 1\n",
    "pi = 4 * (hits/DARTS)\n",
    "print(\"PI:{}\".format(pi))\n",
    "print('运行时间是：{:.5f}s'.format(perf_counter()-start))"
   ]
  },
  {
   "cell_type": "markdown",
   "metadata": {},
   "source": [
    "#### 举一反三\n",
    "+ 理解方法思维\n",
    "    + 数学思维：找到公式，利用公式求解\n",
    "    + 计算思维：抽象一种过程，用计算机自动化求解\n",
    "    + 谁更准确（不好说）"
   ]
  },
  {
   "cell_type": "markdown",
   "metadata": {},
   "source": [
    ">### 函数和代码复用"
   ]
  },
  {
   "cell_type": "markdown",
   "metadata": {},
   "source": [
    "+ 函数定义时候，指定的参数是一种占位符\n",
    "+ 函数定义时，参数是输入，函数体是处理，结果是输出(IPO)\n",
    "+ 调用是运行函数代码的方式。\n",
    "    + 如果不调用，不会执行。\n",
    "    + 调用时给出实际参数\n",
    "    + 实际参数替换定义中的参数\n",
    "    + 函数调用后得到返回值"
   ]
  },
  {
   "cell_type": "markdown",
   "metadata": {},
   "source": [
    "+ 函数的参数传递\n",
    "    + 参数\n",
    "        + 函数的参数>=0\n",
    "        + 函数定义时，可给出可选参数，但必须放到必选参数后面\n",
    "        + 可变参数，'\\*b'\n",
    "        + 关键字参数，'\\*\\*kw'\n",
    "    + 参数传递：两种方式\n",
    "        + 位置传递\n",
    "        + 名称传递\n",
    "    \n",
    "+ 函数的返回值\n",
    "    + return m, n, 5 #返回元组  "
   ]
  },
  {
   "cell_type": "markdown",
   "metadata": {},
   "source": [
    "+ 变量\n",
    "    + 全局变量\n",
    "    + 局部变量，\n",
    "+ **基本数据类型，局部变量和全局变量是不同变量**\n",
    "    + 局部变量，函数内部占位符，与全局变量可能重名但不同\n",
    "    + 函数运算结束后，局部变量被释放\n",
    "    + 可以使用global保留字在函数内部使用全局变量"
   ]
  },
  {
   "cell_type": "code",
   "execution_count": null,
   "metadata": {},
   "outputs": [],
   "source": [
    "n, s = 10, 1000\n",
    "def fact(n):\n",
    "#     global s\n",
    "    s = 1\n",
    "    # s是局部变量\n",
    "    for i in range(1, n+1):\n",
    "        s *= i\n",
    "    return s\n",
    "print(fact(n), s)"
   ]
  },
  {
   "cell_type": "code",
   "execution_count": null,
   "metadata": {},
   "outputs": [],
   "source": [
    "n, s = 10, 1000\n",
    "def fact(n):\n",
    "    global s\n",
    "    for i in range(1, n+1):\n",
    "        s *= i\n",
    "    return s\n",
    "print(fact(n), s)"
   ]
  },
  {
   "cell_type": "markdown",
   "metadata": {},
   "source": [
    "+ **局部变量为组合数据类型且未创建，等同于全局变量**"
   ]
  },
  {
   "cell_type": "code",
   "execution_count": null,
   "metadata": {},
   "outputs": [],
   "source": [
    "ls = ['f','F']\n",
    "def func(a):\n",
    "    ls.append(a)\n",
    "    return\n",
    "func('c')\n",
    "print(ls)"
   ]
  },
  {
   "cell_type": "code",
   "execution_count": null,
   "metadata": {},
   "outputs": [],
   "source": [
    "ls = ['f','F']\n",
    "def func(a):\n",
    "    ls = []\n",
    "    ls.append(a)\n",
    "    return\n",
    "func('c')\n",
    "print(ls)"
   ]
  },
  {
   "cell_type": "markdown",
   "metadata": {},
   "source": [
    "+ lambda 返回函数名作为结果\n",
    "    + 匿名函数，没有名字的函数\n",
    "    + 使用lambda保留字定义，函数名是返回结果\n",
    "    + 定义简单，一行内实现\n",
    "    \n",
    "    \n",
    "```python\n",
    "<函数名> = lambda <参数>:<表达式>\n",
    "# 等价\n",
    "def <函数名>(<参数>):\n",
    "    <函数体>\n",
    "    return <返回值>\n",
    "```\n",
    "\n",
    "\n",
    "+ 谨慎使用lambda函数\n",
    "    + 主要用作一些特定函数或方法的参数\n",
    "    + 有一些固定使用方式，建议逐步掌握\n",
    "    + 一般情况，建议使用def定义的普通函数"
   ]
  },
  {
   "cell_type": "code",
   "execution_count": null,
   "metadata": {
    "collapsed": true
   },
   "outputs": [],
   "source": [
    "f = lambda x, y : x + y"
   ]
  },
  {
   "cell_type": "code",
   "execution_count": null,
   "metadata": {},
   "outputs": [],
   "source": [
    "f(5,6)"
   ]
  },
  {
   "cell_type": "code",
   "execution_count": null,
   "metadata": {},
   "outputs": [],
   "source": [
    "f = lambda :\"lambda函数\"\n",
    "print(f())"
   ]
  },
  {
   "cell_type": "code",
   "execution_count": null,
   "metadata": {
    "scrolled": true
   },
   "outputs": [],
   "source": [
    "print(f)"
   ]
  },
  {
   "cell_type": "markdown",
   "metadata": {},
   "source": [
    "+ 七段数码管的绘制\n",
    "    + turtle\n",
    "    + 基本思路\n",
    "        + 绘制单个数字对应的数码管\n",
    "        + 获得一串数字，绘制对应的数码管\n",
    "        + 获得当前系统时间，绘制对应的数码管"
   ]
  },
  {
   "cell_type": "markdown",
   "metadata": {},
   "source": [
    "+ 理解思维方法\n",
    "    + 模块化思维：确定模块接口，封装功能\n",
    "    + 规则化思维：抽象过程为规则，计算机自动执行\n",
    "    + 化繁为简：将大功能变为小功能组合，分而治之"
   ]
  },
  {
   "cell_type": "code",
   "execution_count": 3,
   "metadata": {},
   "outputs": [],
   "source": [
    "import turtle as t\n",
    "import time\n",
    "\n",
    "def drawGap():\n",
    "    t.penup()\n",
    "    t.fd(5)\n",
    "\n",
    "def drawLine(draw):\n",
    "    drawGap()\n",
    "    t.pendown() if draw else t.penup()\n",
    "    t.fd(40)\n",
    "    drawGap()\n",
    "    t.right(90)\n",
    "    \n",
    "def drawDigit(d):\n",
    "    drawLine(True) if d in [2,3,4,5,6,8,9] else drawLine(False)\n",
    "    drawLine(True) if d in [0,1,3,4,5,6,7,8,9] else drawLine(False)\n",
    "    drawLine(True) if d in [0,2,3,5,6,8,9] else drawLine(False)\n",
    "    drawLine(True) if d in [0,2,6,8] else drawLine(False)\n",
    "    t.left(90)\n",
    "    drawLine(True) if d in [0,4,5,6,8,9] else drawLine(False)\n",
    "    drawLine(True) if d in [0,2,3,5,6,7,8,9] else drawLine(False)\n",
    "    drawLine(True) if d in [0,1,2,3,4,7,8,9] else drawLine(False)\n",
    "    t.left(180)\n",
    "    t.penup()\n",
    "    t.fd(20)\n",
    "    \n",
    "def drawDate(date):\n",
    "    t.pencolor(\"red\")\n",
    "    for i in date:\n",
    "        if i == '-':\n",
    "            t.write('年',font=(\"Arial\",18,\"normal\"))\n",
    "            t.pencolor(\"green\")\n",
    "            t.fd(40)\n",
    "        elif i == '=':\n",
    "            t.write('月',font=(\"Arial\",18,\"normal\"))\n",
    "            t.pencolor(\"blue\")\n",
    "            t.fd(40)\n",
    "        elif i == '+':\n",
    "            t.write('日',font=(\"Arial\",18,\"normal\"))\n",
    "        else:\n",
    "            drawDigit(eval(i))\n",
    "            \n",
    "def main():\n",
    "    t.setup(800,350,200,200)\n",
    "    t.penup()\n",
    "    t.fd(-300)\n",
    "    t.pensize(5)\n",
    "#     drawDate('2018-10=10+')\n",
    "    drawDate(time.strftime('%Y-%m=%d+', time.gmtime()))\n",
    "    t.hideturtle()\n",
    "    t.done()  \n",
    "main()"
   ]
  }
 ],
 "metadata": {
  "kernelspec": {
   "display_name": "Python 3",
   "language": "python",
   "name": "python3"
  },
  "language_info": {
   "codemirror_mode": {
    "name": "ipython",
    "version": 3
   },
   "file_extension": ".py",
   "mimetype": "text/x-python",
   "name": "python",
   "nbconvert_exporter": "python",
   "pygments_lexer": "ipython3",
   "version": "3.6.3"
  },
  "toc": {
   "base_numbering": 1,
   "nav_menu": {},
   "number_sections": true,
   "sideBar": true,
   "skip_h1_title": false,
   "title_cell": "Table of Contents",
   "title_sidebar": "Contents",
   "toc_cell": false,
   "toc_position": {},
   "toc_section_display": true,
   "toc_window_display": false
  }
 },
 "nbformat": 4,
 "nbformat_minor": 2
}
