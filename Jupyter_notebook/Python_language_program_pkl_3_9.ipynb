{
 "cells": [
  {
   "cell_type": "code",
   "execution_count": 19,
   "metadata": {},
   "outputs": [
    {
     "name": "stdout",
     "output_type": "stream",
     "text": [
      "[[1 2]\n",
      " [3 4]] \n",
      " <class 'numpy.ndarray'> \n",
      " -2.0 \n",
      " [[ 0.32691139  0.48202944  0.39843517  0.99448227  0.74996469  0.65822155\n",
      "   0.35381953  0.45332073  0.24800622  0.85251343  0.10801532  0.06123675\n",
      "   0.60536067  0.1222104   0.77772182  0.00775641  0.75527208  0.03467566\n",
      "   0.97296803  0.84737139  0.75638493  0.83094368  0.32803634  0.67616447\n",
      "   0.14864704  0.73793813  0.51380923  0.7871735   0.11389424  0.93639825\n",
      "   0.79946063  0.62863717  0.36470514  0.17201221  0.2916673   0.33808133\n",
      "   0.07291345  0.0378556   0.94381937  0.80891788  0.00103135  0.79537018\n",
      "   0.4155227   0.36868868  0.76250712  0.83520484  0.83517208  0.46143966\n",
      "   0.9077267   0.07236634  0.92163616  0.15468382  0.79688271  0.36852422\n",
      "   0.69951607  0.06212752  0.5589851   0.8355301   0.3262277   0.94458127\n",
      "   0.68695547  0.74432801  0.94744561  0.28207655  0.02968623  0.95875265\n",
      "   0.05384114  0.02546477  0.51045892  0.04526013  0.12829923  0.01862956\n",
      "   0.65761915  0.66280937  0.08067496  0.41167724  0.63968067  0.89183087\n",
      "   0.07423116  0.8129473   0.45301624  0.55813751  0.71273806  0.76533833\n",
      "   0.65486768  0.24670139  0.82806999  0.74015427  0.16781562  0.56954628\n",
      "   0.92838537  0.19516152  0.46583415  0.50501599  0.66897517  0.11606013\n",
      "   0.10319103  0.82738581  0.55955662  0.21112566]] \n",
      " [1 2 3 4 5 6 7 8 9]\n"
     ]
    }
   ],
   "source": [
    "import numpy as np\n",
    "from scipy import linalg\n",
    "a = np.array([[1,2],[3,4]])\n",
    "b = np.random.rand(1,100)\n",
    "c = np.arange(1,10)\n",
    "print(a, '\\n', type(a), '\\n', linalg.det(a), '\\n',b, '\\n',c)"
   ]
  },
  {
   "cell_type": "code",
   "execution_count": 22,
   "metadata": {},
   "outputs": [
    {
     "name": "stdout",
     "output_type": "stream",
     "text": [
      "showing info https://raw.githubusercontent.com/nltk/nltk_data/gh-pages/index.xml\n"
     ]
    },
    {
     "data": {
      "text/plain": [
       "True"
      ]
     },
     "execution_count": 22,
     "metadata": {},
     "output_type": "execute_result"
    }
   ],
   "source": [
    "import nltk\n",
    "nltk.download()"
   ]
  },
  {
   "cell_type": "code",
   "execution_count": 29,
   "metadata": {},
   "outputs": [
    {
     "name": "stdout",
     "output_type": "stream",
     "text": [
      "index1= 2 index2= 3\n"
     ]
    }
   ],
   "source": [
    "#from igraph import *\n",
    "#g = Graph([(0,1),(0,2)])\n",
    "# 练习\n",
    "# input:arry,target = [0,1,4,0],0\n",
    "# output: index = 1, index = 4\n",
    "# test1\n",
    "import numpy as np\n",
    "array, target = [3, 2, 4], 6\n",
    "#array2, target2 = [0, 1, 4, 0], 0\n",
    "for a in range(len(array)):\n",
    "    for b in range(a+1,len(array)):\n",
    "        if array[a] + array[b] == target1:\n",
    "            print('index1=',a+1,'index2=',b+1)"
   ]
  },
  {
   "cell_type": "markdown",
   "metadata": {},
   "source": [
    "> 以上市数据分析的自然语言处理和图计算的部分"
   ]
  },
  {
   "cell_type": "markdown",
   "metadata": {},
   "source": [
    "### chapter 3"
   ]
  },
  {
   "cell_type": "markdown",
   "metadata": {},
   "source": [
    ">#### 文本格式化"
   ]
  },
  {
   "cell_type": "code",
   "execution_count": 12,
   "metadata": {},
   "outputs": [
    {
     "name": "stdout",
     "output_type": "stream",
     "text": [
      "python========================\n",
      "============python============\n",
      "========================python\n",
      "bat       \n",
      "12,345.68\n",
      "110101001,Ʃ,425,651,1a9,1A9,=======425\n",
      "3.140000e+00,3.140000E+00,3.140000,314.000000%\n"
     ]
    }
   ],
   "source": [
    "print('{0:=<30}'.format('python'), '{0:=^30}'.format('python'), \n",
    "      '{0:=>30}'.format('python'), '{:10}'.format('bat'), \n",
    "      '{0:,.2f}'.format(12345.67890), \n",
    "      '{0:b},{0:c},{0:d},{0:o},{0:x},{0:X},{0:=>10}'.format(425),\n",
    "      '{0:e},{0:E},{0:f},{0:%}'.format(3.14), sep='\\n')"
   ]
  },
  {
   "cell_type": "code",
   "execution_count": 18,
   "metadata": {
    "scrolled": true
   },
   "outputs": [
    {
     "name": "stdout",
     "output_type": "stream",
     "text": [
      "=====================32,456.79,=====32,456.789=====\n"
     ]
    }
   ],
   "source": [
    "print('{1:=>30,.2f},{0:=^20,.3f}'.format(32456.78923,32456.78923),sep='\\n')"
   ]
  },
  {
   "cell_type": "markdown",
   "metadata": {},
   "source": [
    ">#### time库的使用"
   ]
  },
  {
   "cell_type": "code",
   "execution_count": 19,
   "metadata": {
    "collapsed": true
   },
   "outputs": [],
   "source": [
    "import time"
   ]
  },
  {
   "cell_type": "code",
   "execution_count": 20,
   "metadata": {
    "scrolled": true
   },
   "outputs": [
    {
     "name": "stdout",
     "output_type": "stream",
     "text": [
      "1535946403.0911956\n",
      "Mon Sep  3 11:46:43 2018\n",
      "time.struct_time(tm_year=2018, tm_mon=9, tm_mday=3, tm_hour=3, tm_min=46, tm_sec=43, tm_wday=0, tm_yday=246, tm_isdst=0)\n"
     ]
    }
   ],
   "source": [
    "print(time.time(), time.ctime(), time.gmtime(), sep='\\n')"
   ]
  },
  {
   "cell_type": "code",
   "execution_count": 23,
   "metadata": {},
   "outputs": [
    {
     "name": "stdout",
     "output_type": "stream",
     "text": [
      "2018-09-03 04:33:04\n"
     ]
    }
   ],
   "source": [
    "'''time.strftime(tpl,ts) tpl是格式化模板字符串，用来定义输出效果。\n",
    "ts是计算机内部时间类型变量\n",
    "'''\n",
    "print(time.strftime('%Y-%m-%d %H:%M:%S',time.gmtime()),\n",
    "      sep='\\n')"
   ]
  },
  {
   "cell_type": "code",
   "execution_count": 29,
   "metadata": {},
   "outputs": [
    {
     "data": {
      "text/plain": [
       "time.struct_time(tm_year=2018, tm_mon=9, tm_mday=26, tm_hour=13, tm_min=40, tm_sec=56, tm_wday=2, tm_yday=269, tm_isdst=-1)"
      ]
     },
     "execution_count": 29,
     "metadata": {},
     "output_type": "execute_result"
    }
   ],
   "source": [
    "'''strptime(str,tpl)中str是字符串形式的时间值，\n",
    "tpl是格式化模板字符串，用来定义输入效果'''\n",
    "time.strptime('2018-09-26 13:40:56','%Y-%m-%d %H:%M:%S')"
   ]
  },
  {
   "cell_type": "code",
   "execution_count": 31,
   "metadata": {},
   "outputs": [
    {
     "data": {
      "text/plain": [
       "5.8708561823550554e-05"
      ]
     },
     "execution_count": 31,
     "metadata": {},
     "output_type": "execute_result"
    }
   ],
   "source": [
    "start = time.perf_counter()\n",
    "end = time.perf_counter()\n",
    "end - start"
   ]
  },
  {
   "cell_type": "code",
   "execution_count": 40,
   "metadata": {},
   "outputs": [
    {
     "name": "stdout",
     "output_type": "stream",
     "text": [
      "2.0\n"
     ]
    }
   ],
   "source": [
    "def main():\n",
    "    start = time.perf_counter()\n",
    "    time.sleep(2) \n",
    "    end = time.perf_counter()\n",
    "    print(round(end - start,0))\n",
    "if __name__ == '__main__':\n",
    "    main()\n",
    "    \n",
    "# 程序将等待2s后再退出"
   ]
  },
  {
   "cell_type": "code",
   "execution_count": 52,
   "metadata": {},
   "outputs": [
    {
     "name": "stdout",
     "output_type": "stream",
     "text": [
      "-------------执行开始-------------\n",
      " 0 %[->..........]\n",
      "10 %[*->.........]\n",
      "20 %[**->........]\n",
      "30 %[***->.......]\n",
      "40 %[****->......]\n",
      "50 %[*****->.....]\n",
      "60 %[******->....]\n",
      "70 %[*******->...]\n",
      "80 %[********->..]\n",
      "90 %[*********->.]\n",
      "100%[**********->]\n",
      "-------------执行结束-------------\n"
     ]
    }
   ],
   "source": [
    "import time\n",
    "scale = 10\n",
    "print('执行开始'.center(30,'-'))\n",
    "for i in range(scale + 1):\n",
    "    a = '*' * i\n",
    "    b = '.' * (scale - i)\n",
    "    c = (i/scale)*100\n",
    "    print('{:^3.0f}%[{}->{}]'.format(c,a,b))\n",
    "print('执行结束'.center(30,'-'))"
   ]
  },
  {
   "cell_type": "code",
   "execution_count": 54,
   "metadata": {},
   "outputs": [
    {
     "name": "stdout",
     "output_type": "stream",
     "text": [
      "-----------执行开始----------\n",
      "\r",
      "  0%[->..................................................]0.00s\r",
      "  2%[*->.................................................]0.10s\r",
      "  4%[**->................................................]0.20s\r",
      "  6%[***->...............................................]0.30s\r",
      "  8%[****->..............................................]0.40s\r",
      " 10%[*****->.............................................]0.50s\r",
      " 12%[******->............................................]0.60s\r",
      " 14%[*******->...........................................]0.70s\r",
      " 16%[********->..........................................]0.80s\r",
      " 18%[*********->.........................................]0.90s\r",
      " 20%[**********->........................................]1.00s\r",
      " 22%[***********->.......................................]1.10s\r",
      " 24%[************->......................................]1.20s\r",
      " 26%[*************->.....................................]1.30s\r",
      " 28%[**************->....................................]1.40s\r",
      " 30%[***************->...................................]1.50s\r",
      " 32%[****************->..................................]1.60s\r",
      " 34%[*****************->.................................]1.70s\r",
      " 36%[******************->................................]1.80s\r",
      " 38%[*******************->...............................]1.90s\r",
      " 40%[********************->..............................]2.00s\r",
      " 42%[*********************->.............................]2.10s\r",
      " 44%[**********************->............................]2.20s\r",
      " 46%[***********************->...........................]2.30s\r",
      " 48%[************************->..........................]2.40s\r",
      " 50%[*************************->.........................]2.50s\r",
      " 52%[**************************->........................]2.60s\r",
      " 54%[***************************->.......................]2.70s\r",
      " 56%[****************************->......................]2.80s\r",
      " 58%[*****************************->.....................]2.90s\r",
      " 60%[******************************->....................]3.00s\r",
      " 62%[*******************************->...................]3.10s\r",
      " 64%[********************************->..................]3.20s\r",
      " 66%[*********************************->.................]3.30s\r",
      " 68%[**********************************->................]3.40s\r",
      " 70%[***********************************->...............]3.50s\r",
      " 72%[************************************->..............]3.60s\r",
      " 74%[*************************************->.............]3.70s\r",
      " 76%[**************************************->............]3.80s\r",
      " 78%[***************************************->...........]3.90s\r",
      " 80%[****************************************->..........]4.00s\r",
      " 82%[*****************************************->.........]4.10s\r",
      " 84%[******************************************->........]4.20s\r",
      " 86%[*******************************************->.......]4.30s\r",
      " 88%[********************************************->......]4.40s\r",
      " 90%[*********************************************->.....]4.50s\r",
      " 92%[**********************************************->....]4.60s\r",
      " 94%[***********************************************->...]4.70s\r",
      " 96%[************************************************->..]4.80s\r",
      " 98%[*************************************************->.]4.90s\r",
      "100%[**************************************************->]5.00s\n",
      "-----------执行结束----------\n"
     ]
    }
   ],
   "source": [
    "import time\n",
    "scale = 50\n",
    "print('执行开始'.center(scale//2,'-'))\n",
    "start = time.perf_counter()\n",
    "for i in range(scale+1):\n",
    "    a = '*'*i\n",
    "    b = '.'*(scale - i)\n",
    "    c = (i/scale)*100\n",
    "    dur = time.perf_counter() - start\n",
    "    print('\\r{:3.0f}%[{}->{}]{:.2f}s'.format(c,a,b,dur),end='')\n",
    "    time.sleep(0.1)\n",
    "print('\\n'+'执行结束'.center(scale//2,'-'))"
   ]
  },
  {
   "cell_type": "markdown",
   "metadata": {},
   "source": [
    "### 程序的控制结构\n",
    "+ 顺序结构\n",
    "+ 分支结构\n",
    "+ 循环结构"
   ]
  },
  {
   "cell_type": "markdown",
   "metadata": {},
   "source": [
    "#### 程序的控制结构实现\n",
    "- 单分支结构\n",
    "```python\n",
    "if <条件>:\n",
    "    <语句块>\n",
    "```\n",
    "- 二分支结构\n",
    "```python\n",
    "if <条件>:\n",
    "    <表达式1>\n",
    "else:\n",
    "    <表达式2>\n",
    "# 第二种形式\n",
    "<表达式1> if <条件> else <表达式2>\n",
    "```\n",
    "- 多分支结构\n",
    "```python\n",
    "'''\n",
    "注意多条件之间的包含关系\n",
    "注意变量取值范围的覆盖\n",
    "'''\n",
    "if <条件>:\n",
    "    <表达式1>\n",
    "elif:\n",
    "    <表达式2>    \n",
    "else:\n",
    "    <表达式3>\n",
    "```\n",
    "**关注多分支条件的组合**\n",
    "- 多分支条件之间的覆盖是重要问题\n",
    "- 程序可运行，但不正确，要注意多分支\n",
    "- 分支结构上出程序的重要框架，读程序先看分支\n"
   ]
  },
  {
   "cell_type": "code",
   "execution_count": 1,
   "metadata": {},
   "outputs": [
    {
     "name": "stdout",
     "output_type": "stream",
     "text": [
      "猜对了！\n"
     ]
    }
   ],
   "source": [
    "guess = eval(input())\n",
    "if guess == 99:\n",
    "    print('猜对了！')\n",
    "else:\n",
    "    print('猜错了')"
   ]
  },
  {
   "cell_type": "code",
   "execution_count": 16,
   "metadata": {},
   "outputs": [
    {
     "name": "stdout",
     "output_type": "stream",
     "text": [
      "猜对了\n"
     ]
    }
   ],
   "source": [
    "guess = eval(input())\n",
    "print('猜{}了'.format('对' if (guess == 99) else '错'))"
   ]
  },
  {
   "cell_type": "markdown",
   "metadata": {},
   "source": [
    "+ 条件判断\n",
    "```python\n",
    "<, <=, >=, >, ==, !=\n",
    "```\n",
    "+ 条件组合\n",
    "```python\n",
    "and, or, not\n",
    "```"
   ]
  },
  {
   "cell_type": "markdown",
   "metadata": {},
   "source": [
    "#### 异常处理\n",
    "- 初级应用\n",
    "```python\n",
    "try :\n",
    "    <语句块1>\n",
    "except [<异常类型>] :\n",
    "    <语句块2>\n",
    "```\n",
    "- 高级应用\n",
    "```python\n",
    "'''\n",
    "finally对应的语句块4一定执行\n",
    "else对应的语句块3在不发生异常时执行,就像是正常运行的奖励\n",
    "'''\n",
    "try :\n",
    "    <语句块1>\n",
    "except [<异常类型>] :\n",
    "    <语句块2>\n",
    "else :\n",
    "    <语句块1>\n",
    "finally :\n",
    "    <语句块2>\n",
    "```\n"
   ]
  },
  {
   "cell_type": "code",
   "execution_count": 19,
   "metadata": {},
   "outputs": [
    {
     "name": "stdout",
     "output_type": "stream",
     "text": [
      "输入的不是整数\n"
     ]
    }
   ],
   "source": [
    "try:\n",
    "    num = eval(input('pleas input a number'))\n",
    "    print(num**2)\n",
    "except NameError:\n",
    "    print('输入的不是整数')"
   ]
  },
  {
   "cell_type": "markdown",
   "metadata": {},
   "source": [
    "> BMI：Body Mass Index\n",
    "\n",
    "$$BMI = 体重(kg)/身高^2(m^2)$$\n",
    "\n",
    "国际上常用的衡量人体肥胖和健康程度的重要标准，主要用于统计分析\n"
   ]
  },
  {
   "cell_type": "code",
   "execution_count": 24,
   "metadata": {
    "scrolled": true
   },
   "outputs": [
    {
     "name": "stdout",
     "output_type": "stream",
     "text": [
      "BMI数值为22.15\n",
      "国际BMI值是正常,国内BMI值是正常\n"
     ]
    }
   ],
   "source": [
    "height, weight = eval(input('请输入身高(米)和体重(kg)的数值，用英文逗号隔开：'))\n",
    "bmi = weight/(height**2)\n",
    "print('BMI数值为{:.2f}'.format(bmi))\n",
    "who,nat = '',''\n",
    "if bmi < 18.5:\n",
    "    who, nat = '偏瘦','偏瘦'\n",
    "elif 18.5<bmi<24:\n",
    "    who,nat='正常','正常'\n",
    "elif 24<=bmi<25:\n",
    "    who,nat='正常','偏胖'\n",
    "elif 25<=bmi<28:\n",
    "    who,nat='偏胖','偏胖'\n",
    "elif 28<=bmi<30:\n",
    "    who,nat='偏胖','肥胖'\n",
    "else:\n",
    "    who,nat = '肥胖','肥胖'\n",
    "print('国际BMI值是{},国内BMI值是{}'.format(who,nat))"
   ]
  },
  {
   "cell_type": "markdown",
   "metadata": {},
   "source": [
    ">#### 程序的循环结构\n",
    "\n",
    "\n",
    "+ 遍历循环：遍历某个结构形成的循环运行方式\n",
    "```python\n",
    "'''\n",
    "从遍历结构中逐一提取元素，放在循环变量中\n",
    "由保留字for和in组成，完整遍历所有元素后结束\n",
    "每次循环，所获得元素放入循环变量，并执行一次语句块\n",
    "'''\n",
    "for <循环变量> in <遍历结构>:\n",
    "    <语句块1>\n",
    "```\n",
    "+ 无限循环\n",
    "\n",
    "```python\n",
    "while <条件>:\n",
    "    <语句块1>\n",
    "```\n",
    "\n",
    "+ 循环控制保留字\n",
    "    + break，跳出并结束当前整个循环，执行循环后的语句\n",
    "    + continue，结束当次循环，继续执行后续次数循环\n",
    "    + break、continue都可以与for和while循环搭配使用\n",
    "    "
   ]
  },
  {
   "cell_type": "code",
   "execution_count": 12,
   "metadata": {},
   "outputs": [
    {
     "name": "stdout",
     "output_type": "stream",
     "text": [
      "P,Y,H,O,N,"
     ]
    }
   ],
   "source": [
    "for c in 'Python'.upper():\n",
    "    if c == \"T\":\n",
    "        continue\n",
    "    print(c, end=\",\")"
   ]
  },
  {
   "cell_type": "markdown",
   "metadata": {},
   "source": [
    "**跳出了当次循环，继续执行后续的循环**"
   ]
  },
  {
   "cell_type": "code",
   "execution_count": 11,
   "metadata": {},
   "outputs": [
    {
     "name": "stdout",
     "output_type": "stream",
     "text": [
      "P\n",
      "Y\n",
      "end\n"
     ]
    }
   ],
   "source": [
    "for c in 'Python'.upper():\n",
    "    if c == \"T\":\n",
    "        break\n",
    "    print(c)\n",
    "print('end')"
   ]
  },
  {
   "cell_type": "markdown",
   "metadata": {},
   "source": [
    "**跳出并结束当前整个的循环体**"
   ]
  },
  {
   "cell_type": "code",
   "execution_count": 7,
   "metadata": {},
   "outputs": [
    {
     "name": "stdout",
     "output_type": "stream",
     "text": [
      "PYTHONPYTHOPYTHPYTPYP"
     ]
    }
   ],
   "source": [
    "s = 'PYTHON'\n",
    "while s != '':\n",
    "    for c in s:\n",
    "        print(c, end='')\n",
    "    s = s[:-1]"
   ]
  },
  {
   "cell_type": "markdown",
   "metadata": {},
   "source": [
    "+ 循环次数由while来控制，每次减少最后1个字符，共循环len(s)次\n",
    "+ 结构是：6，5，4，3，2，1"
   ]
  },
  {
   "cell_type": "code",
   "execution_count": 9,
   "metadata": {},
   "outputs": [
    {
     "name": "stdout",
     "output_type": "stream",
     "text": [
      "PYHONPYHOPYHPYPYP"
     ]
    }
   ],
   "source": [
    "s = 'PYTHON'\n",
    "while s != '':\n",
    "    for c in s:\n",
    "        if c == 'T':\n",
    "            continue\n",
    "        print(c, end='')\n",
    "    s = s[:-1]"
   ]
  },
  {
   "cell_type": "markdown",
   "metadata": {},
   "source": [
    "两层循环：\n",
    "+ 循环次数由while来控制，每次减少最后1个字符，共循环len(s)次\n",
    "+ 内层循环遇到c=='T'时候，跳过当次循环，执行外部循环\n",
    "+ 结构是：5，4，3，2，2，1"
   ]
  },
  {
   "cell_type": "code",
   "execution_count": 8,
   "metadata": {},
   "outputs": [
    {
     "name": "stdout",
     "output_type": "stream",
     "text": [
      "PYPYPYPYPYP"
     ]
    }
   ],
   "source": [
    "s = 'PYTHON'\n",
    "while s != '':\n",
    "    for c in s:\n",
    "        if c == 'T':\n",
    "            break\n",
    "        print(c, end='')\n",
    "    s = s[:-1]"
   ]
  },
  {
   "cell_type": "markdown",
   "metadata": {},
   "source": [
    "两层循环：\n",
    "+ 外层循环次数由while来控制，每次减少最后1个字符，共循环len(s)次\n",
    "+ 内层循环遇到c=='T'时候，跳出，执行外部循环\n",
    "+ 结构是：2，2，2，2，2，1"
   ]
  },
  {
   "cell_type": "markdown",
   "metadata": {},
   "source": [
    ">##### 循环的扩展\n",
    "\n",
    "+ 循环与else\n",
    "```python\n",
    "#for\n",
    "for <循环变量> in <遍历结构>:\n",
    "    <语句块1>\n",
    "else:\n",
    "    <语句块2>\n",
    "#while\n",
    "while <条件>:\n",
    "    <语句块1>\n",
    "else:\n",
    "    <语句块2>    \n",
    "```\n",
    "\n",
    "    + 当循环没有被break语句退出时，执行else语句块\n",
    "    + else语句块作为“正常”完成循环的奖励\n",
    "    + 这里else的用法与异常处理中else的用法相似"
   ]
  },
  {
   "cell_type": "code",
   "execution_count": 14,
   "metadata": {},
   "outputs": [
    {
     "name": "stdout",
     "output_type": "stream",
     "text": [
      "P,Y,H,O,N,正常退出\n"
     ]
    }
   ],
   "source": [
    "for c in 'Python'.upper():\n",
    "    if c == \"T\":\n",
    "        continue\n",
    "    print(c, end=\",\")\n",
    "else:\n",
    "    print('正常退出')"
   ]
  },
  {
   "cell_type": "code",
   "execution_count": 15,
   "metadata": {},
   "outputs": [
    {
     "name": "stdout",
     "output_type": "stream",
     "text": [
      "P,Y,"
     ]
    }
   ],
   "source": [
    "for c in 'Python'.upper():\n",
    "    if c == \"T\":\n",
    "        break\n",
    "    print(c, end=\",\")\n",
    "else:\n",
    "    print('正常退出')"
   ]
  },
  {
   "cell_type": "markdown",
   "metadata": {},
   "source": [
    "#### random库概述\n",
    "> random 库是使用随机数的python标准库\n",
    "\n",
    "+ 伪随机数：采用梅森旋转算法生成的（伪）随机序列中的元素\n",
    "+ random库主要用于生成随机数\n",
    "+ 使用random库：'import random'"
   ]
  },
  {
   "cell_type": "markdown",
   "metadata": {},
   "source": [
    "+ random库包括两类函数，常用的共8个\n",
    "    + 基本随机数函数：seed(), random()\n",
    "        + seed(a=None), 初始化给定的随机数种子，默认为当前系统时间\n",
    "        ```python\n",
    "        random.seed(10) # 产生种子10对应的序列\n",
    "        ```\n",
    "        + random(), 生成一个[0.0, 1.0)之间的随机小数\n",
    "        ```python\n",
    "        random.random() # 0.5714...\n",
    "        ```\n",
    "    + 扩展随机数函数：randint(), getrandbits(), uniform(), randrange(), choice(), shuffle()\n",
    "        + randint(a, b), 生成一个[a, b)之间的整数\n",
    "        ```python\n",
    "        random.randint(10, 100) # 64\n",
    "        ```\n",
    "        + randrange(m, n[, k]), 生成一个[m, n)之间以k为步长的随机整数\n",
    "        ```python\n",
    "        random.randrange(10, 100, 10) # 80\n",
    "        ```\n",
    "        + getrandbits(k), 生成1个K比特长的随机整数\n",
    "        ```python\n",
    "        random.getrandbits(16) # 37885\n",
    "        ```\n",
    "        + uniform(a, b), 生成1个[a, b]之间的随机小数\n",
    "        ```python\n",
    "        random.uniform(10, 100) # 13.096...\n",
    "        ```\n",
    "        + choice(seq)，从序列seq中随机选择1个元素\n",
    "        ```python\n",
    "        random.choice([1,2,3,4,5,6,7,8,9]) # 8\n",
    "        ```\n",
    "        + shuffle(seq)，将序列seq中元素随机排列，返回打乱后的序列\n",
    "        ```python\n",
    "        s = random.shuffle(list(range(10)))\n",
    "        print(s)\n",
    "        # [8, 2, 3, 5, 1, 0, 6, 4, 7, 9]\n",
    "        ```\n",
    "    "
   ]
  },
  {
   "cell_type": "code",
   "execution_count": 9,
   "metadata": {},
   "outputs": [
    {
     "data": {
      "text/plain": [
       "0.5714025946899135"
      ]
     },
     "execution_count": 9,
     "metadata": {},
     "output_type": "execute_result"
    }
   ],
   "source": [
    "import random\n",
    "random.seed(10)\n",
    "random.random()"
   ]
  },
  {
   "cell_type": "code",
   "execution_count": 10,
   "metadata": {},
   "outputs": [
    {
     "data": {
      "text/plain": [
       "0.4288890546751146"
      ]
     },
     "execution_count": 10,
     "metadata": {},
     "output_type": "execute_result"
    }
   ],
   "source": [
    "random.random()"
   ]
  },
  {
   "cell_type": "code",
   "execution_count": 12,
   "metadata": {
    "scrolled": true
   },
   "outputs": [
    {
     "name": "stdout",
     "output_type": "stream",
     "text": [
      "83 10\n"
     ]
    }
   ],
   "source": [
    "print(random.randint(10,100), random.randrange(10, 100, 5))"
   ]
  },
  {
   "cell_type": "code",
   "execution_count": 13,
   "metadata": {
    "scrolled": true
   },
   "outputs": [
    {
     "name": "stdout",
     "output_type": "stream",
     "text": [
      "211 51.632245728365426\n"
     ]
    }
   ],
   "source": [
    "print(random.getrandbits(10), random.uniform(10, 100))"
   ]
  },
  {
   "cell_type": "code",
   "execution_count": 19,
   "metadata": {
    "scrolled": true
   },
   "outputs": [
    {
     "name": "stdout",
     "output_type": "stream",
     "text": [
      "5\n"
     ]
    }
   ],
   "source": [
    "print(random.choice(list(range(10))))"
   ]
  },
  {
   "cell_type": "code",
   "execution_count": 34,
   "metadata": {},
   "outputs": [
    {
     "name": "stdout",
     "output_type": "stream",
     "text": [
      "[4, 7, 19, 5, 11, 3, 13, 8, 17, 2, 0, 15, 12, 9, 6, 18, 16, 10, 1, 14]\n"
     ]
    }
   ],
   "source": [
    "s = list(range(20))\n",
    "random.shuffle(s)\n",
    "print(s)"
   ]
  },
  {
   "cell_type": "markdown",
   "metadata": {},
   "source": [
    "#### 圆周率的计算"
   ]
  },
  {
   "cell_type": "code",
   "execution_count": 17,
   "metadata": {},
   "outputs": [
    {
     "name": "stdout",
     "output_type": "stream",
     "text": [
      "PI:3.141592653589793\n"
     ]
    }
   ],
   "source": [
    "#CalPiV1.py\n",
    "# 根据公式求解\n",
    "pi = 0\n",
    "N = 100\n",
    "for k in range(N):\n",
    "    pi += 1/pow(16,k)*(4/(8*k+1)-2/(8*k+4)-1/(8*k+5)-1/(8*k+6))\n",
    "print('PI:{}'.format(pi))"
   ]
  },
  {
   "cell_type": "code",
   "execution_count": 23,
   "metadata": {
    "scrolled": true
   },
   "outputs": [
    {
     "name": "stdout",
     "output_type": "stream",
     "text": [
      "PI:3.1415892\n",
      "运行时间是：8.55063s\n"
     ]
    }
   ],
   "source": [
    "#CalPiV2.py\n",
    "#蒙特卡洛方法\n",
    "from random import random\n",
    "from time import perf_counter\n",
    "DARTS = pow(1000,2)*10\n",
    "hits = .0\n",
    "start = perf_counter()\n",
    "for i in range(1,DARTS+1):\n",
    "    x,y = random(), random()\n",
    "    dist = pow(x ** 2 + y ** 2, 0.5)\n",
    "    if dist <= 1.0:\n",
    "        hits = hits + 1\n",
    "pi = 4 * (hits/DARTS)\n",
    "print(\"PI:{}\".format(pi))\n",
    "print('运行时间是：{:.5f}s'.format(perf_counter()-start))"
   ]
  },
  {
   "cell_type": "markdown",
   "metadata": {},
   "source": [
    "#### 举一反三\n",
    "+ 理解方法思维\n",
    "    + 数学思维：找到公式，利用公式求解\n",
    "    + 计算思维：抽象一种过程，用计算机自动化求解\n",
    "    + 谁更准确（不好说）"
   ]
  },
  {
   "cell_type": "markdown",
   "metadata": {},
   "source": [
    ">### 函数和代码复用"
   ]
  }
 ],
 "metadata": {
  "kernelspec": {
   "display_name": "Python 3",
   "language": "python",
   "name": "python3"
  },
  "language_info": {
   "codemirror_mode": {
    "name": "ipython",
    "version": 3
   },
   "file_extension": ".py",
   "mimetype": "text/x-python",
   "name": "python",
   "nbconvert_exporter": "python",
   "pygments_lexer": "ipython3",
   "version": "3.6.4"
  },
  "toc": {
   "nav_menu": {},
   "number_sections": true,
   "sideBar": true,
   "skip_h1_title": false,
   "title_cell": "Table of Contents",
   "title_sidebar": "Contents",
   "toc_cell": false,
   "toc_position": {},
   "toc_section_display": true,
   "toc_window_display": false
  }
 },
 "nbformat": 4,
 "nbformat_minor": 2
}
