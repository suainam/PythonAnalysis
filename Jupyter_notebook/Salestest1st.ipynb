{
 "cells": [
  {
   "cell_type": "code",
   "execution_count": null,
   "metadata": {
    "collapsed": true
   },
   "outputs": [],
   "source": [
    "lsmagic"
   ]
  },
  {
   "cell_type": "code",
   "execution_count": null,
   "metadata": {
    "collapsed": true
   },
   "outputs": [],
   "source": [
    "%time a = range(10)"
   ]
  },
  {
   "cell_type": "code",
   "execution_count": null,
   "metadata": {
    "collapsed": true
   },
   "outputs": [],
   "source": [
    "%%timeit a =range(10)\n",
    "min(a)"
   ]
  },
  {
   "cell_type": "code",
   "execution_count": null,
   "metadata": {
    "collapsed": true
   },
   "outputs": [],
   "source": [
    "import numpy as np"
   ]
  },
  {
   "cell_type": "code",
   "execution_count": 2,
   "metadata": {
    "collapsed": true
   },
   "outputs": [
    {
     "data": {
      "text/plain": [
       "0"
      ]
     },
     "execution_count": 2,
     "metadata": {},
     "output_type": "execute_result"
    }
   ],
   "source": [
    "import wx\n",
    "app = wx.App()\n",
    "frame = wx.Frame(None, title = 'Hello, World')\n",
    "frame.Show(True)\n",
    "app.MainLoop()"
   ]
  },
  {
   "cell_type": "code",
   "execution_count": 7,
   "metadata": {},
   "outputs": [
    {
     "name": "stdout",
     "output_type": "stream",
     "text": [
      "Hi!, I am palu\n"
     ]
    }
   ],
   "source": [
    "class ClassName(object):\n",
    "    pass\n",
    "class Dog(object):\n",
    "    def __init__(self, name):\n",
    "        self.name = name\n",
    "#     def setName(self, name):\n",
    "#         self.name = name\n",
    "    def greet(self):\n",
    "        print('Hi!, I am {}'.format(self.name))\n",
    "if __name__ == '__main__':\n",
    "    dog1 = Dog('palu')\n",
    "    # 方法调用的时候才执行\n",
    "#     dog1.setName('palu')\n",
    "    dog1.greet() "
   ]
  },
  {
   "cell_type": "code",
   "execution_count": 11,
   "metadata": {},
   "outputs": [
    {
     "name": "stdout",
     "output_type": "stream",
     "text": [
      "Hi!, I am palu,my num is 1\n",
      "Hi!, I am sara,my num is 2\n"
     ]
    }
   ],
   "source": [
    "# class ClassName(object):\n",
    "#     pass\n",
    "class Dog(object):\n",
    "    counter = 0\n",
    "    def __init__(self, name):\n",
    "        self.name = name\n",
    "        Dog.counter += 1\n",
    "#     def setName(self, name):\n",
    "#         self.name = name\n",
    "    def greet(self):\n",
    "        print('Hi!, I am {0},my num is {1}'.format(self.name,Dog.counter))\n",
    "if __name__ == '__main__':\n",
    "    dog1 = Dog('palu')\n",
    "    # 方法调用的时候才执行\n",
    "#     dog1.setName('palu')\n",
    "    dog1.greet() \n",
    "    \n",
    "    dog2 = Dog('sara')\n",
    "    dog2.greet()"
   ]
  },
  {
   "cell_type": "code",
   "execution_count": 13,
   "metadata": {
    "collapsed": true
   },
   "outputs": [],
   "source": [
    "import numpy as np\n",
    "data1 = [6, 7.5, 8, 0,1]\n",
    "arr1 = np.array(data1)"
   ]
  },
  {
   "cell_type": "code",
   "execution_count": 14,
   "metadata": {},
   "outputs": [
    {
     "data": {
      "text/plain": [
       "array([ 6. ,  7.5,  8. ,  0. ,  1. ])"
      ]
     },
     "execution_count": 14,
     "metadata": {},
     "output_type": "execute_result"
    }
   ],
   "source": [
    "arr1"
   ]
  },
  {
   "cell_type": "code",
   "execution_count": 15,
   "metadata": {},
   "outputs": [
    {
     "data": {
      "text/plain": [
       "array([[1, 2],\n",
       "       [4, 5]])"
      ]
     },
     "execution_count": 15,
     "metadata": {},
     "output_type": "execute_result"
    }
   ],
   "source": [
    "data2 = [[1,2],[4,5]]\n",
    "arr2 = np.array(data2)\n",
    "arr2"
   ]
  },
  {
   "cell_type": "code",
   "execution_count": 16,
   "metadata": {},
   "outputs": [
    {
     "data": {
      "text/plain": [
       "2"
      ]
     },
     "execution_count": 16,
     "metadata": {},
     "output_type": "execute_result"
    }
   ],
   "source": [
    "arr2.ndim"
   ]
  },
  {
   "cell_type": "code",
   "execution_count": 17,
   "metadata": {},
   "outputs": [
    {
     "data": {
      "text/plain": [
       "(2, 2)"
      ]
     },
     "execution_count": 17,
     "metadata": {},
     "output_type": "execute_result"
    }
   ],
   "source": [
    "arr2.shape"
   ]
  },
  {
   "cell_type": "code",
   "execution_count": 18,
   "metadata": {
    "collapsed": true
   },
   "outputs": [
    {
     "name": "stdout",
     "output_type": "stream",
     "text": [
      "float64 int32\n"
     ]
    }
   ],
   "source": [
    "print(arr1.dtype, arr2.dtype)"
   ]
  },
  {
   "cell_type": "code",
   "execution_count": 25,
   "metadata": {},
   "outputs": [
    {
     "name": "stdout",
     "output_type": "stream",
     "text": [
      "[ 0.  0.  0.  0.  0.  0.  0.  0.  0.  0.]\n",
      "[[ 0.]\n",
      " [ 0.]\n",
      " [ 0.]\n",
      " [ 0.]\n",
      " [ 0.]\n",
      " [ 0.]\n",
      " [ 0.]\n",
      " [ 0.]\n",
      " [ 0.]\n",
      " [ 0.]]\n",
      "[ 0.  0.  0.  0.  0.  0.  0.  0.  0.  0.]\n"
     ]
    }
   ],
   "source": [
    "print(np.zeros(10), np.zeros((10,1)), np.zeros((10,)), sep ='\\n')"
   ]
  },
  {
   "cell_type": "code",
   "execution_count": 26,
   "metadata": {},
   "outputs": [
    {
     "data": {
      "text/plain": [
       "\u001b[1;31mDocstring:\u001b[0m\n",
       "zeros(shape, dtype=float, order='C')\n",
       "\n",
       "Return a new array of given shape and type, filled with zeros.\n",
       "\n",
       "Parameters\n",
       "----------\n",
       "shape : int or sequence of ints\n",
       "    Shape of the new array, e.g., ``(2, 3)`` or ``2``.\n",
       "dtype : data-type, optional\n",
       "    The desired data-type for the array, e.g., `numpy.int8`.  Default is\n",
       "    `numpy.float64`.\n",
       "order : {'C', 'F'}, optional\n",
       "    Whether to store multidimensional data in C- or Fortran-contiguous\n",
       "    (row- or column-wise) order in memory.\n",
       "\n",
       "Returns\n",
       "-------\n",
       "out : ndarray\n",
       "    Array of zeros with the given shape, dtype, and order.\n",
       "\n",
       "See Also\n",
       "--------\n",
       "zeros_like : Return an array of zeros with shape and type of input.\n",
       "ones_like : Return an array of ones with shape and type of input.\n",
       "empty_like : Return an empty array with shape and type of input.\n",
       "ones : Return a new array setting values to one.\n",
       "empty : Return a new uninitialized array.\n",
       "\n",
       "Examples\n",
       "--------\n",
       ">>> np.zeros(5)\n",
       "array([ 0.,  0.,  0.,  0.,  0.])\n",
       "\n",
       ">>> np.zeros((5,), dtype=np.int)\n",
       "array([0, 0, 0, 0, 0])\n",
       "\n",
       ">>> np.zeros((2, 1))\n",
       "array([[ 0.],\n",
       "       [ 0.]])\n",
       "\n",
       ">>> s = (2,2)\n",
       ">>> np.zeros(s)\n",
       "array([[ 0.,  0.],\n",
       "       [ 0.,  0.]])\n",
       "\n",
       ">>> np.zeros((2,), dtype=[('x', 'i4'), ('y', 'i4')]) # custom dtype\n",
       "array([(0, 0), (0, 0)],\n",
       "      dtype=[('x', '<i4'), ('y', '<i4')])\n",
       "\u001b[1;31mType:\u001b[0m      builtin_function_or_method\n"
      ]
     },
     "metadata": {},
     "output_type": "display_data"
    }
   ],
   "source": [
    "np.zeros?"
   ]
  },
  {
   "cell_type": "code",
   "execution_count": 22,
   "metadata": {},
   "outputs": [
    {
     "data": {
      "text/plain": [
       "array([[ 0.,  0.,  0.,  0.,  0.,  0.],\n",
       "       [ 0.,  0.,  0.,  0.,  0.,  0.],\n",
       "       [ 0.,  0.,  0.,  0.,  0.,  0.]])"
      ]
     },
     "execution_count": 22,
     "metadata": {},
     "output_type": "execute_result"
    }
   ],
   "source": [
    "np.zeros((3,6))#创建多维数组，需要传入一个元组"
   ]
  },
  {
   "cell_type": "code",
   "execution_count": 27,
   "metadata": {},
   "outputs": [
    {
     "data": {
      "text/plain": [
       "array([[ 0.,  0.,  0.,  0.,  0.,  0.],\n",
       "       [ 0.,  0.,  0.,  0.,  0.,  0.],\n",
       "       [ 0.,  0.,  0.,  0.,  0.,  0.]])"
      ]
     },
     "execution_count": 27,
     "metadata": {},
     "output_type": "execute_result"
    }
   ],
   "source": [
    "np.zeros([3,6])"
   ]
  },
  {
   "cell_type": "code",
   "execution_count": 28,
   "metadata": {},
   "outputs": [
    {
     "data": {
      "text/plain": [
       "array([[  1.13635099e-322,   0.00000000e+000,   0.00000000e+000,\n",
       "          0.00000000e+000],\n",
       "       [  0.00000000e+000,   0.00000000e+000,   0.00000000e+000,\n",
       "          0.00000000e+000],\n",
       "       [  0.00000000e+000,   0.00000000e+000,   0.00000000e+000,\n",
       "          0.00000000e+000]])"
      ]
     },
     "execution_count": 28,
     "metadata": {},
     "output_type": "execute_result"
    }
   ],
   "source": [
    "np.empty((3,4))"
   ]
  },
  {
   "cell_type": "code",
   "execution_count": 29,
   "metadata": {
    "collapsed": true
   },
   "outputs": [
    {
     "data": {
      "text/plain": [
       "array([ 0,  1,  2,  3,  4,  5,  6,  7,  8,  9, 10, 11, 12, 13, 14])"
      ]
     },
     "execution_count": 29,
     "metadata": {},
     "output_type": "execute_result"
    }
   ],
   "source": [
    "np.arange(15)"
   ]
  },
  {
   "cell_type": "code",
   "execution_count": 31,
   "metadata": {
    "collapsed": true
   },
   "outputs": [
    {
     "data": {
      "text/plain": [
       "array([0])"
      ]
     },
     "execution_count": 31,
     "metadata": {},
     "output_type": "execute_result"
    }
   ],
   "source": [
    "np.arange(1)"
   ]
  },
  {
   "cell_type": "code",
   "execution_count": 34,
   "metadata": {
    "collapsed": true
   },
   "outputs": [
    {
     "data": {
      "text/plain": [
       "array([  0.,   1.,   2.,   3.,   4.,   5.,   6.,   7.,   8.,   9.,  10.,\n",
       "        11.,  12.,  13.,  14.], dtype=float32)"
      ]
     },
     "execution_count": 34,
     "metadata": {},
     "output_type": "execute_result"
    }
   ],
   "source": [
    "np.arange(15,dtype=np.float32)"
   ]
  },
  {
   "cell_type": "code",
   "execution_count": 38,
   "metadata": {
    "collapsed": true
   },
   "outputs": [
    {
     "data": {
      "text/plain": [
       "array([ 0,  1,  2,  3,  4,  5,  6,  7,  8,  9, 10, 11, 12, 13, 14])"
      ]
     },
     "execution_count": 38,
     "metadata": {},
     "output_type": "execute_result"
    }
   ],
   "source": [
    "np.arange(15,dtype=np.int)"
   ]
  },
  {
   "cell_type": "code",
   "execution_count": 39,
   "metadata": {
    "collapsed": true
   },
   "outputs": [
    {
     "data": {
      "text/plain": [
       "\u001b[1;31mDocstring:\u001b[0m\n",
       "arange([start,] stop[, step,], dtype=None)\n",
       "\n",
       "Return evenly spaced values within a given interval.\n",
       "\n",
       "Values are generated within the half-open interval ``[start, stop)``\n",
       "(in other words, the interval including `start` but excluding `stop`).\n",
       "For integer arguments the function is equivalent to the Python built-in\n",
       "`range <http://docs.python.org/lib/built-in-funcs.html>`_ function,\n",
       "but returns an ndarray rather than a list.\n",
       "\n",
       "When using a non-integer step, such as 0.1, the results will often not\n",
       "be consistent.  It is better to use ``linspace`` for these cases.\n",
       "\n",
       "Parameters\n",
       "----------\n",
       "start : number, optional\n",
       "    Start of interval.  The interval includes this value.  The default\n",
       "    start value is 0.\n",
       "stop : number\n",
       "    End of interval.  The interval does not include this value, except\n",
       "    in some cases where `step` is not an integer and floating point\n",
       "    round-off affects the length of `out`.\n",
       "step : number, optional\n",
       "    Spacing between values.  For any output `out`, this is the distance\n",
       "    between two adjacent values, ``out[i+1] - out[i]``.  The default\n",
       "    step size is 1.  If `step` is specified, `start` must also be given.\n",
       "dtype : dtype\n",
       "    The type of the output array.  If `dtype` is not given, infer the data\n",
       "    type from the other input arguments.\n",
       "\n",
       "Returns\n",
       "-------\n",
       "arange : ndarray\n",
       "    Array of evenly spaced values.\n",
       "\n",
       "    For floating point arguments, the length of the result is\n",
       "    ``ceil((stop - start)/step)``.  Because of floating point overflow,\n",
       "    this rule may result in the last element of `out` being greater\n",
       "    than `stop`.\n",
       "\n",
       "See Also\n",
       "--------\n",
       "linspace : Evenly spaced numbers with careful handling of endpoints.\n",
       "ogrid: Arrays of evenly spaced numbers in N-dimensions.\n",
       "mgrid: Grid-shaped arrays of evenly spaced numbers in N-dimensions.\n",
       "\n",
       "Examples\n",
       "--------\n",
       ">>> np.arange(3)\n",
       "array([0, 1, 2])\n",
       ">>> np.arange(3.0)\n",
       "array([ 0.,  1.,  2.])\n",
       ">>> np.arange(3,7)\n",
       "array([3, 4, 5, 6])\n",
       ">>> np.arange(3,7,2)\n",
       "array([3, 5])\n",
       "\u001b[1;31mType:\u001b[0m      builtin_function_or_method\n"
      ]
     },
     "metadata": {},
     "output_type": "display_data"
    }
   ],
   "source": [
    "np.arange?"
   ]
  },
  {
   "cell_type": "code",
   "execution_count": 44,
   "metadata": {
    "collapsed": true
   },
   "outputs": [
    {
     "name": "stdout",
     "output_type": "stream",
     "text": [
      "[[1 2]\n",
      " [4 5]]\n"
     ]
    },
    {
     "data": {
      "text/plain": [
       "array([[ 1.,  2.],\n",
       "       [ 4.,  5.]])"
      ]
     },
     "execution_count": 44,
     "metadata": {},
     "output_type": "execute_result"
    }
   ],
   "source": [
    "print(arr2)\n",
    "arr3 = arr2.astype(np.float64)\n",
    "arr3"
   ]
  },
  {
   "cell_type": "code",
   "execution_count": 46,
   "metadata": {},
   "outputs": [
    {
     "data": {
      "text/plain": [
       "array([b'1', b'2', b'3', b'4'],\n",
       "      dtype='|S1')"
      ]
     },
     "execution_count": 46,
     "metadata": {},
     "output_type": "execute_result"
    }
   ],
   "source": [
    "n_str = np.array([1,2,3,4],dtype=np.string_)\n",
    "n_str"
   ]
  },
  {
   "cell_type": "code",
   "execution_count": 48,
   "metadata": {},
   "outputs": [
    {
     "data": {
      "text/plain": [
       "array([ 1.,  2.,  3.,  4.])"
      ]
     },
     "execution_count": 48,
     "metadata": {},
     "output_type": "execute_result"
    }
   ],
   "source": [
    "a = n_str.astype(float)\n",
    "a"
   ]
  },
  {
   "cell_type": "code",
   "execution_count": 50,
   "metadata": {},
   "outputs": [
    {
     "data": {
      "text/plain": [
       "array([1, 2, 3, 4], dtype=uint32)"
      ]
     },
     "execution_count": 50,
     "metadata": {},
     "output_type": "execute_result"
    }
   ],
   "source": [
    "b = a.astype('u4')\n",
    "b"
   ]
  },
  {
   "cell_type": "code",
   "execution_count": 56,
   "metadata": {},
   "outputs": [
    {
     "data": {
      "text/plain": [
       "array([1, 2, 4, 4], dtype=uint32)"
      ]
     },
     "execution_count": 56,
     "metadata": {},
     "output_type": "execute_result"
    }
   ],
   "source": [
    "b[2] = 4\n",
    "b"
   ]
  },
  {
   "cell_type": "code",
   "execution_count": 57,
   "metadata": {},
   "outputs": [
    {
     "data": {
      "text/plain": [
       "array([ 1.,  2.,  3.,  4.])"
      ]
     },
     "execution_count": 57,
     "metadata": {},
     "output_type": "execute_result"
    }
   ],
   "source": [
    "a"
   ]
  },
  {
   "cell_type": "code",
   "execution_count": 54,
   "metadata": {},
   "outputs": [
    {
     "data": {
      "text/plain": [
       "array([[910,   0,   0],\n",
       "       [  0,   0,   0]], dtype=uint32)"
      ]
     },
     "execution_count": 54,
     "metadata": {},
     "output_type": "execute_result"
    }
   ],
   "source": [
    "c = np.empty((2,3),dtype = 'u4')\n",
    "c"
   ]
  },
  {
   "cell_type": "code",
   "execution_count": 60,
   "metadata": {},
   "outputs": [
    {
     "name": "stdout",
     "output_type": "stream",
     "text": [
      "[0 0 0] [[910   0   0]] 0\n"
     ]
    }
   ],
   "source": [
    "print(c[1], c[:1],c[1,1])"
   ]
  },
  {
   "cell_type": "code",
   "execution_count": 61,
   "metadata": {},
   "outputs": [
    {
     "data": {
      "text/plain": [
       "array([[910,   0,   0],\n",
       "       [  0,  12,   0]], dtype=uint32)"
      ]
     },
     "execution_count": 61,
     "metadata": {},
     "output_type": "execute_result"
    }
   ],
   "source": [
    "c[1,1] = 12\n",
    "c"
   ]
  },
  {
   "cell_type": "code",
   "execution_count": 64,
   "metadata": {},
   "outputs": [
    {
     "data": {
      "text/plain": [
       "array([[ 0,  0],\n",
       "       [12,  0]], dtype=uint32)"
      ]
     },
     "execution_count": 64,
     "metadata": {},
     "output_type": "execute_result"
    }
   ],
   "source": [
    "c[:,1:].copy()"
   ]
  },
  {
   "cell_type": "code",
   "execution_count": 65,
   "metadata": {
    "collapsed": true
   },
   "outputs": [],
   "source": [
    "arr2d = np.ceil(10*np.random.randn(3,3))"
   ]
  },
  {
   "cell_type": "code",
   "execution_count": 66,
   "metadata": {},
   "outputs": [
    {
     "data": {
      "text/plain": [
       "array([[-11.,  16.,  -0.],\n",
       "       [ -2.,  -3., -19.],\n",
       "       [ -8.,  -1., -12.]])"
      ]
     },
     "execution_count": 66,
     "metadata": {},
     "output_type": "execute_result"
    }
   ],
   "source": [
    "arr2d"
   ]
  },
  {
   "cell_type": "code",
   "execution_count": 67,
   "metadata": {},
   "outputs": [
    {
     "data": {
      "text/plain": [
       "array([ -8.,  -1., -12.])"
      ]
     },
     "execution_count": 67,
     "metadata": {},
     "output_type": "execute_result"
    }
   ],
   "source": [
    "arr2d[2]"
   ]
  },
  {
   "cell_type": "code",
   "execution_count": 69,
   "metadata": {},
   "outputs": [
    {
     "data": {
      "text/plain": [
       "-12.0"
      ]
     },
     "execution_count": 69,
     "metadata": {},
     "output_type": "execute_result"
    }
   ],
   "source": [
    "arr2d[2,2] #通过传入以逗号隔开的索引列表来选取单个元素"
   ]
  },
  {
   "cell_type": "code",
   "execution_count": 71,
   "metadata": {},
   "outputs": [
    {
     "data": {
      "text/plain": [
       "-12.0"
      ]
     },
     "execution_count": 71,
     "metadata": {},
     "output_type": "execute_result"
    }
   ],
   "source": [
    "arr2d[2][2]"
   ]
  },
  {
   "cell_type": "code",
   "execution_count": 87,
   "metadata": {},
   "outputs": [
    {
     "name": "stdout",
     "output_type": "stream",
     "text": [
      "(4, 3, 4)\n",
      "[[ 12.  -4.   6.  -4.]\n",
      " [-27.  18.   5.  20.]\n",
      " [-10.  -3.  -5.  11.]]\n",
      "(3, 4)\n",
      "[[ -4.  18.  -3.]\n",
      " [ -4.  -7.  -1.]\n",
      " [  8. -19.   7.]\n",
      " [ -9.   6.   4.]]\n",
      "(4, 3)\n"
     ]
    }
   ],
   "source": [
    "arr3d = np.floor(10*np.random.randn(4,3,4))\n",
    "print(arr3d.shape, arr3d[0], arr3d[0].shape, arr3d[:,:,1],arr3d[:,:,1].shape, sep = '\\n')"
   ]
  },
  {
   "cell_type": "code",
   "execution_count": 88,
   "metadata": {},
   "outputs": [
    {
     "data": {
      "text/plain": [
       "array([[[ 42.,  42.,  42.,  42.],\n",
       "        [ 42.,  42.,  42.,  42.],\n",
       "        [ 42.,  42.,  42.,  42.]],\n",
       "\n",
       "       [[  2.,  -4., -11.,  -3.],\n",
       "        [  8.,  -7., -10.,  14.],\n",
       "        [  9.,  -1.,   6.,  -6.]],\n",
       "\n",
       "       [[-17.,   8.,  15.,  12.],\n",
       "        [-10., -19.,  -6., -10.],\n",
       "        [ -3.,   7.,   8., -13.]],\n",
       "\n",
       "       [[  4.,  -9.,  28.,   6.],\n",
       "        [ -5.,   6.,  -2.,  -9.],\n",
       "        [  8.,   4.,   2.,   5.]]])"
      ]
     },
     "execution_count": 88,
     "metadata": {},
     "output_type": "execute_result"
    }
   ],
   "source": [
    "old_values = arr3d[0].copy()\n",
    "arr3d[0] = 42\n",
    "arr3d"
   ]
  },
  {
   "cell_type": "code",
   "execution_count": 89,
   "metadata": {},
   "outputs": [
    {
     "data": {
      "text/plain": [
       "array([[[ 12.,  -4.,   6.,  -4.],\n",
       "        [-27.,  18.,   5.,  20.],\n",
       "        [-10.,  -3.,  -5.,  11.]],\n",
       "\n",
       "       [[  2.,  -4., -11.,  -3.],\n",
       "        [  8.,  -7., -10.,  14.],\n",
       "        [  9.,  -1.,   6.,  -6.]],\n",
       "\n",
       "       [[-17.,   8.,  15.,  12.],\n",
       "        [-10., -19.,  -6., -10.],\n",
       "        [ -3.,   7.,   8., -13.]],\n",
       "\n",
       "       [[  4.,  -9.,  28.,   6.],\n",
       "        [ -5.,   6.,  -2.,  -9.],\n",
       "        [  8.,   4.,   2.,   5.]]])"
      ]
     },
     "execution_count": 89,
     "metadata": {},
     "output_type": "execute_result"
    }
   ],
   "source": [
    "arr3d[0] = old_values\n",
    "arr3d"
   ]
  },
  {
   "cell_type": "code",
   "execution_count": 90,
   "metadata": {},
   "outputs": [
    {
     "data": {
      "text/plain": [
       "array([  2.,  -4., -11.,  -3.])"
      ]
     },
     "execution_count": 90,
     "metadata": {},
     "output_type": "execute_result"
    }
   ],
   "source": [
    "arr3d[1,0]"
   ]
  },
  {
   "cell_type": "code",
   "execution_count": 91,
   "metadata": {},
   "outputs": [
    {
     "data": {
      "text/plain": [
       "array([[[ 12.,  -4.,   6.,  -4.],\n",
       "        [-27.,  18.,   5.,  20.],\n",
       "        [-10.,  -3.,  -5.,  11.]],\n",
       "\n",
       "       [[  2.,  -4., -11.,  -3.],\n",
       "        [  8.,  -7., -10.,  14.],\n",
       "        [  9.,  -1.,   6.,  -6.]],\n",
       "\n",
       "       [[-17.,   8.,  15.,  12.],\n",
       "        [-10., -19.,  -6., -10.],\n",
       "        [ -3.,   7.,   8., -13.]]])"
      ]
     },
     "execution_count": 91,
     "metadata": {},
     "output_type": "execute_result"
    }
   ],
   "source": [
    "arr3d[:3]"
   ]
  },
  {
   "cell_type": "code",
   "execution_count": 92,
   "metadata": {},
   "outputs": [
    {
     "data": {
      "text/plain": [
       "array([[[ 12.,  -4.],\n",
       "        [-27.,  18.]],\n",
       "\n",
       "       [[  2.,  -4.],\n",
       "        [  8.,  -7.]]])"
      ]
     },
     "execution_count": 92,
     "metadata": {},
     "output_type": "execute_result"
    }
   ],
   "source": [
    "arr3d[:2,:2,:2]"
   ]
  },
  {
   "cell_type": "code",
   "execution_count": 93,
   "metadata": {},
   "outputs": [
    {
     "data": {
      "text/plain": [
       "array([[  2.,  -4., -11.,  -3.],\n",
       "       [  8.,  -7., -10.,  14.]])"
      ]
     },
     "execution_count": 93,
     "metadata": {},
     "output_type": "execute_result"
    }
   ],
   "source": [
    "arr3d[1,:2]"
   ]
  },
  {
   "cell_type": "code",
   "execution_count": 94,
   "metadata": {},
   "outputs": [
    {
     "data": {
      "text/plain": [
       "array([[-17.]])"
      ]
     },
     "execution_count": 94,
     "metadata": {},
     "output_type": "execute_result"
    }
   ],
   "source": [
    "arr3d[2,:1,:1]"
   ]
  },
  {
   "cell_type": "code",
   "execution_count": 95,
   "metadata": {},
   "outputs": [
    {
     "data": {
      "text/plain": [
       "4.0"
      ]
     },
     "execution_count": 95,
     "metadata": {},
     "output_type": "execute_result"
    }
   ],
   "source": [
    "arr3d[3,2,1]"
   ]
  },
  {
   "cell_type": "code",
   "execution_count": 143,
   "metadata": {},
   "outputs": [
    {
     "data": {
      "text/plain": [
       "array(['zs', 'ls', 'ww', 'vl', 'zs'],\n",
       "      dtype='<U2')"
      ]
     },
     "execution_count": 143,
     "metadata": {},
     "output_type": "execute_result"
    }
   ],
   "source": [
    "from numpy.random import randn\n",
    "names = np.array(['zs','ls','ww','vl','zs'])\n",
    "data = randn(7,5)\n",
    "names"
   ]
  },
  {
   "cell_type": "code",
   "execution_count": 144,
   "metadata": {},
   "outputs": [
    {
     "data": {
      "text/plain": [
       "array([[-0.76500998,  0.58867549,  1.98989635,  0.07784692, -0.02560799],\n",
       "       [ 0.39655708,  1.39924056,  0.35017752,  1.13286717, -0.49426303],\n",
       "       [-1.90441487, -0.0767708 , -0.20718432, -0.17265685, -0.56940865],\n",
       "       [-2.06969348, -0.31696997, -0.29178925, -1.18851783,  1.24473152],\n",
       "       [ 0.84199272, -0.45559753,  1.17190587,  0.38575446,  2.07663419],\n",
       "       [ 0.84152222, -0.11645204, -0.5516736 , -0.34288092, -1.39901197],\n",
       "       [ 0.69205963,  0.30239826,  0.23028953,  0.04908743,  1.61121039]])"
      ]
     },
     "execution_count": 144,
     "metadata": {},
     "output_type": "execute_result"
    }
   ],
   "source": [
    "data"
   ]
  },
  {
   "cell_type": "code",
   "execution_count": 145,
   "metadata": {},
   "outputs": [
    {
     "data": {
      "text/plain": [
       "array([ True, False, False, False,  True], dtype=bool)"
      ]
     },
     "execution_count": 145,
     "metadata": {},
     "output_type": "execute_result"
    }
   ],
   "source": [
    "names == 'zs'"
   ]
  },
  {
   "cell_type": "code",
   "execution_count": 146,
   "metadata": {},
   "outputs": [
    {
     "data": {
      "text/plain": [
       "array([[-0.76500998, -0.02560799],\n",
       "       [ 0.39655708, -0.49426303],\n",
       "       [-1.90441487, -0.56940865],\n",
       "       [-2.06969348,  1.24473152],\n",
       "       [ 0.84199272,  2.07663419],\n",
       "       [ 0.84152222, -1.39901197],\n",
       "       [ 0.69205963,  1.61121039]])"
      ]
     },
     "execution_count": 146,
     "metadata": {},
     "output_type": "execute_result"
    }
   ],
   "source": [
    "data[:,names == 'zs']"
   ]
  },
  {
   "cell_type": "code",
   "execution_count": 147,
   "metadata": {},
   "outputs": [
    {
     "data": {
      "text/plain": [
       "array([-0.0767708])"
      ]
     },
     "execution_count": 147,
     "metadata": {},
     "output_type": "execute_result"
    }
   ],
   "source": [
    "data[2,names == 'ls']"
   ]
  },
  {
   "cell_type": "code",
   "execution_count": 148,
   "metadata": {},
   "outputs": [
    {
     "data": {
      "text/plain": [
       "array([[-0.76500998,  1.98989635,  0.07784692, -0.02560799],\n",
       "       [ 0.39655708,  0.35017752,  1.13286717, -0.49426303],\n",
       "       [-1.90441487, -0.20718432, -0.17265685, -0.56940865],\n",
       "       [-2.06969348, -0.29178925, -1.18851783,  1.24473152],\n",
       "       [ 0.84199272,  1.17190587,  0.38575446,  2.07663419],\n",
       "       [ 0.84152222, -0.5516736 , -0.34288092, -1.39901197],\n",
       "       [ 0.69205963,  0.23028953,  0.04908743,  1.61121039]])"
      ]
     },
     "execution_count": 148,
     "metadata": {},
     "output_type": "execute_result"
    }
   ],
   "source": [
    "data[:,names!='ls']"
   ]
  },
  {
   "cell_type": "code",
   "execution_count": 149,
   "metadata": {},
   "outputs": [
    {
     "data": {
      "text/plain": [
       "array([[-0.76500998,  1.98989635,  0.07784692, -0.02560799],\n",
       "       [ 0.39655708,  0.35017752,  1.13286717, -0.49426303],\n",
       "       [-1.90441487, -0.20718432, -0.17265685, -0.56940865],\n",
       "       [-2.06969348, -0.29178925, -1.18851783,  1.24473152],\n",
       "       [ 0.84199272,  1.17190587,  0.38575446,  2.07663419],\n",
       "       [ 0.84152222, -0.5516736 , -0.34288092, -1.39901197],\n",
       "       [ 0.69205963,  0.23028953,  0.04908743,  1.61121039]])"
      ]
     },
     "execution_count": 149,
     "metadata": {},
     "output_type": "execute_result"
    }
   ],
   "source": [
    "data[:,~(names=='ls')] #使用波浪线进行否定"
   ]
  },
  {
   "cell_type": "code",
   "execution_count": 150,
   "metadata": {},
   "outputs": [
    {
     "data": {
      "text/plain": [
       "array([[-0.76500998,  0.58867549, -0.02560799],\n",
       "       [ 0.39655708,  1.39924056, -0.49426303],\n",
       "       [-1.90441487, -0.0767708 , -0.56940865],\n",
       "       [-2.06969348, -0.31696997,  1.24473152],\n",
       "       [ 0.84199272, -0.45559753,  2.07663419],\n",
       "       [ 0.84152222, -0.11645204, -1.39901197],\n",
       "       [ 0.69205963,  0.30239826,  1.61121039]])"
      ]
     },
     "execution_count": 150,
     "metadata": {},
     "output_type": "execute_result"
    }
   ],
   "source": [
    "mask = (names == 'zs') | (names == 'ls')\n",
    "data[:,mask]"
   ]
  },
  {
   "cell_type": "code",
   "execution_count": 151,
   "metadata": {},
   "outputs": [
    {
     "data": {
      "text/plain": [
       "array([[-0.76500998,  0.58867549, -0.02560799],\n",
       "       [ 0.39655708,  1.39924056, -0.49426303],\n",
       "       [-1.90441487, -0.0767708 , -0.56940865],\n",
       "       [-2.06969348, -0.31696997,  1.24473152],\n",
       "       [ 0.84199272, -0.45559753,  2.07663419],\n",
       "       [ 0.84152222, -0.11645204, -1.39901197],\n",
       "       [ 0.69205963,  0.30239826,  1.61121039]])"
      ]
     },
     "execution_count": 151,
     "metadata": {},
     "output_type": "execute_result"
    }
   ],
   "source": [
    "mask = (names == 'zs')| (names == 'ls')\n",
    "data[:,mask] #and.or不能使用"
   ]
  },
  {
   "cell_type": "code",
   "execution_count": 153,
   "metadata": {},
   "outputs": [
    {
     "data": {
      "text/plain": [
       "array([[ 0.        ,  0.58867549,  1.98989635,  0.07784692,  0.        ],\n",
       "       [ 0.39655708,  1.39924056,  0.35017752,  1.13286717,  0.        ],\n",
       "       [ 0.        ,  0.        ,  0.        ,  0.        ,  0.        ],\n",
       "       [ 0.        ,  0.        ,  0.        ,  0.        ,  1.24473152],\n",
       "       [ 0.84199272,  0.        ,  1.17190587,  0.38575446,  2.07663419],\n",
       "       [ 0.84152222,  0.        ,  0.        ,  0.        ,  0.        ],\n",
       "       [ 0.69205963,  0.30239826,  0.23028953,  0.04908743,  1.61121039]])"
      ]
     },
     "execution_count": 153,
     "metadata": {},
     "output_type": "execute_result"
    }
   ],
   "source": [
    "data[data<0] =0\n",
    "data"
   ]
  },
  {
   "cell_type": "code",
   "execution_count": 154,
   "metadata": {},
   "outputs": [
    {
     "data": {
      "text/plain": [
       "array([[ 8.        ,  0.58867549,  8.        ,  8.        ,  8.        ],\n",
       "       [ 8.        ,  1.39924056,  8.        ,  8.        ,  8.        ],\n",
       "       [ 8.        ,  0.        ,  8.        ,  8.        ,  8.        ],\n",
       "       [ 8.        ,  0.        ,  8.        ,  8.        ,  8.        ],\n",
       "       [ 8.        ,  0.        ,  8.        ,  8.        ,  8.        ],\n",
       "       [ 8.        ,  0.        ,  8.        ,  8.        ,  8.        ],\n",
       "       [ 8.        ,  0.30239826,  8.        ,  8.        ,  8.        ]])"
      ]
     },
     "execution_count": 154,
     "metadata": {},
     "output_type": "execute_result"
    }
   ],
   "source": [
    "data[:,names != 'ls'] = 8\n",
    "data"
   ]
  },
  {
   "cell_type": "code",
   "execution_count": 155,
   "metadata": {},
   "outputs": [
    {
     "data": {
      "text/plain": [
       "array([[ 8.        ,  1.39924056,  8.        ,  8.        ,  8.        ],\n",
       "       [ 8.        ,  0.        ,  8.        ,  8.        ,  8.        ],\n",
       "       [ 8.        ,  0.        ,  8.        ,  8.        ,  8.        ]])"
      ]
     },
     "execution_count": 155,
     "metadata": {},
     "output_type": "execute_result"
    }
   ],
   "source": [
    "data[[1,2,3]]"
   ]
  },
  {
   "cell_type": "code",
   "execution_count": 157,
   "metadata": {},
   "outputs": [
    {
     "data": {
      "text/plain": [
       "array([[ 8.        ,  0.30239826,  8.        ,  8.        ,  8.        ],\n",
       "       [ 8.        ,  0.        ,  8.        ,  8.        ,  8.        ],\n",
       "       [ 8.        ,  0.        ,  8.        ,  8.        ,  8.        ]])"
      ]
     },
     "execution_count": 157,
     "metadata": {},
     "output_type": "execute_result"
    }
   ],
   "source": [
    "data[[-1,-3,-5]]"
   ]
  },
  {
   "cell_type": "code",
   "execution_count": 158,
   "metadata": {},
   "outputs": [
    {
     "data": {
      "text/plain": [
       "array([[ 8.,  8.,  8.],\n",
       "       [ 8.,  8.,  8.],\n",
       "       [ 8.,  8.,  8.]])"
      ]
     },
     "execution_count": 158,
     "metadata": {},
     "output_type": "execute_result"
    }
   ],
   "source": [
    "data[[-1,-3,-5]][:,[2,3,4]]"
   ]
  },
  {
   "cell_type": "code",
   "execution_count": 159,
   "metadata": {},
   "outputs": [
    {
     "data": {
      "text/plain": [
       "array([ 8.,  8.,  8.])"
      ]
     },
     "execution_count": 159,
     "metadata": {},
     "output_type": "execute_result"
    }
   ],
   "source": [
    "data[[-1,-3,-5],[2,3,4]]#得到的是(-1,2)"
   ]
  },
  {
   "cell_type": "code",
   "execution_count": 161,
   "metadata": {},
   "outputs": [
    {
     "data": {
      "text/plain": [
       "array([[ 12.,  12.,  12.],\n",
       "       [ 12.,  12.,  12.],\n",
       "       [ 12.,  12.,  12.]])"
      ]
     },
     "execution_count": 161,
     "metadata": {},
     "output_type": "execute_result"
    }
   ],
   "source": [
    "data[np.ix_([-1,-3,-5],[2,3,4])] = 12\n",
    "data[np.ix_([-1,-3,-5],[2,3,4])] #将2个1维数组转换成1个用于选取方形区域的索引器"
   ]
  },
  {
   "cell_type": "code",
   "execution_count": 162,
   "metadata": {},
   "outputs": [
    {
     "data": {
      "text/plain": [
       "array([[  8.        ,   0.58867549,   8.        ,   8.        ,   8.        ],\n",
       "       [  8.        ,   1.39924056,   8.        ,   8.        ,   8.        ],\n",
       "       [  8.        ,   0.        ,  12.        ,  12.        ,  12.        ],\n",
       "       [  8.        ,   0.        ,   8.        ,   8.        ,   8.        ],\n",
       "       [  8.        ,   0.        ,  12.        ,  12.        ,  12.        ],\n",
       "       [  8.        ,   0.        ,   8.        ,   8.        ,   8.        ],\n",
       "       [  8.        ,   0.30239826,  12.        ,  12.        ,  12.        ]])"
      ]
     },
     "execution_count": 162,
     "metadata": {},
     "output_type": "execute_result"
    }
   ],
   "source": [
    "data"
   ]
  },
  {
   "cell_type": "code",
   "execution_count": 165,
   "metadata": {},
   "outputs": [
    {
     "data": {
      "text/plain": [
       "array([ 100.,  100.])"
      ]
     },
     "execution_count": 165,
     "metadata": {},
     "output_type": "execute_result"
    }
   ],
   "source": [
    "data[[1,2],[3,4]] = 100\n",
    "data\n",
    "data[[1,2],[3,4]]"
   ]
  },
  {
   "cell_type": "code",
   "execution_count": 166,
   "metadata": {},
   "outputs": [
    {
     "data": {
      "text/plain": [
       "array([[ 100.,    8.],\n",
       "       [  12.,  100.]])"
      ]
     },
     "execution_count": 166,
     "metadata": {},
     "output_type": "execute_result"
    }
   ],
   "source": [
    "data[np.ix_([1,2],[3,4])]"
   ]
  },
  {
   "cell_type": "code",
   "execution_count": 167,
   "metadata": {},
   "outputs": [
    {
     "data": {
      "text/plain": [
       "array([[   8.        ,    8.        ,    8.        ,    8.        ,\n",
       "           8.        ,    8.        ,    8.        ],\n",
       "       [   0.58867549,    1.39924056,    0.        ,    0.        ,\n",
       "           0.        ,    0.        ,    0.30239826],\n",
       "       [   8.        ,    8.        ,   12.        ,    8.        ,\n",
       "          12.        ,    8.        ,   12.        ],\n",
       "       [   8.        ,  100.        ,   12.        ,    8.        ,\n",
       "          12.        ,    8.        ,   12.        ],\n",
       "       [   8.        ,    8.        ,  100.        ,    8.        ,\n",
       "          12.        ,    8.        ,   12.        ]])"
      ]
     },
     "execution_count": 167,
     "metadata": {},
     "output_type": "execute_result"
    }
   ],
   "source": [
    "data.T"
   ]
  },
  {
   "cell_type": "code",
   "execution_count": 170,
   "metadata": {
    "collapsed": true
   },
   "outputs": [],
   "source": [
    "a = data[np.ix_([2,3],[4,3,2])]"
   ]
  },
  {
   "cell_type": "code",
   "execution_count": 171,
   "metadata": {},
   "outputs": [
    {
     "data": {
      "text/plain": [
       "array([[ 100.,   12.,   12.],\n",
       "       [   8.,    8.,    8.]])"
      ]
     },
     "execution_count": 171,
     "metadata": {},
     "output_type": "execute_result"
    }
   ],
   "source": [
    "a"
   ]
  },
  {
   "cell_type": "code",
   "execution_count": 172,
   "metadata": {},
   "outputs": [
    {
     "data": {
      "text/plain": [
       "array([[ 100.,    8.],\n",
       "       [  12.,    8.],\n",
       "       [  12.,    8.]])"
      ]
     },
     "execution_count": 172,
     "metadata": {},
     "output_type": "execute_result"
    }
   ],
   "source": [
    "a.T"
   ]
  },
  {
   "cell_type": "code",
   "execution_count": 173,
   "metadata": {},
   "outputs": [
    {
     "data": {
      "text/plain": [
       "array([[ 10064.,   1264.,   1264.],\n",
       "       [  1264.,    208.,    208.],\n",
       "       [  1264.,    208.,    208.]])"
      ]
     },
     "execution_count": 173,
     "metadata": {},
     "output_type": "execute_result"
    }
   ],
   "source": [
    "np.dot(a.T,a)"
   ]
  },
  {
   "cell_type": "code",
   "execution_count": 181,
   "metadata": {},
   "outputs": [
    {
     "data": {
      "text/plain": [
       "array([[ 10288.,    992.],\n",
       "       [   992.,    192.]])"
      ]
     },
     "execution_count": 181,
     "metadata": {},
     "output_type": "execute_result"
    }
   ],
   "source": [
    "np.dot(a,a.T)"
   ]
  },
  {
   "cell_type": "code",
   "execution_count": 179,
   "metadata": {},
   "outputs": [
    {
     "data": {
      "text/plain": [
       "10288"
      ]
     },
     "execution_count": 179,
     "metadata": {},
     "output_type": "execute_result"
    }
   ],
   "source": [
    "np.dot(np.array([100,12,12]),np.array([100,12,12]).T)"
   ]
  },
  {
   "cell_type": "code",
   "execution_count": 180,
   "metadata": {},
   "outputs": [
    {
     "data": {
      "text/plain": [
       "array([[10, 14],\n",
       "       [14, 20]])"
      ]
     },
     "execution_count": 180,
     "metadata": {},
     "output_type": "execute_result"
    }
   ],
   "source": [
    "b = np.array([[1,2],[3,4]])\n",
    "np.dot(b.T,b)"
   ]
  },
  {
   "cell_type": "code",
   "execution_count": 182,
   "metadata": {},
   "outputs": [
    {
     "name": "stderr",
     "output_type": "stream",
     "text": [
      "D:\\programes\\Anaconda\\lib\\site-packages\\ipykernel_launcher.py:1: DeprecationWarning: elementwise == comparison failed; this will raise an error in the future.\n",
      "  \"\"\"Entry point for launching an IPython kernel.\n"
     ]
    },
    {
     "data": {
      "text/plain": [
       "False"
      ]
     },
     "execution_count": 182,
     "metadata": {},
     "output_type": "execute_result"
    }
   ],
   "source": [
    "np.dot(a,a.T) == np.dot(a.T,a)"
   ]
  },
  {
   "cell_type": "code",
   "execution_count": 185,
   "metadata": {},
   "outputs": [
    {
     "data": {
      "text/plain": [
       "array([[[ 0,  1,  2,  3],\n",
       "        [ 4,  5,  6,  7]],\n",
       "\n",
       "       [[ 8,  9, 10, 11],\n",
       "        [12, 13, 14, 15]]])"
      ]
     },
     "execution_count": 185,
     "metadata": {},
     "output_type": "execute_result"
    }
   ],
   "source": [
    "a = np.arange(16).reshape(2,2,4)\n",
    "a"
   ]
  },
  {
   "cell_type": "code",
   "execution_count": 186,
   "metadata": {},
   "outputs": [
    {
     "data": {
      "text/plain": [
       "array([[[ 0,  8],\n",
       "        [ 4, 12]],\n",
       "\n",
       "       [[ 1,  9],\n",
       "        [ 5, 13]],\n",
       "\n",
       "       [[ 2, 10],\n",
       "        [ 6, 14]],\n",
       "\n",
       "       [[ 3, 11],\n",
       "        [ 7, 15]]])"
      ]
     },
     "execution_count": 186,
     "metadata": {},
     "output_type": "execute_result"
    }
   ],
   "source": [
    "a.T"
   ]
  },
  {
   "cell_type": "code",
   "execution_count": 193,
   "metadata": {},
   "outputs": [
    {
     "data": {
      "text/plain": [
       "array([[[ 0,  1,  2,  3],\n",
       "        [ 4,  5,  6,  7]],\n",
       "\n",
       "       [[ 8,  9, 10, 11],\n",
       "        [12, 13, 14, 15]]])"
      ]
     },
     "execution_count": 193,
     "metadata": {},
     "output_type": "execute_result"
    }
   ],
   "source": [
    "a"
   ]
  },
  {
   "cell_type": "code",
   "execution_count": 187,
   "metadata": {},
   "outputs": [
    {
     "data": {
      "text/plain": [
       "array([[[ 0,  1,  2,  3],\n",
       "        [ 8,  9, 10, 11]],\n",
       "\n",
       "       [[ 4,  5,  6,  7],\n",
       "        [12, 13, 14, 15]]])"
      ]
     },
     "execution_count": 187,
     "metadata": {},
     "output_type": "execute_result"
    }
   ],
   "source": [
    "a.transpose((1,0,2))"
   ]
  },
  {
   "cell_type": "code",
   "execution_count": 192,
   "metadata": {},
   "outputs": [
    {
     "name": "stdout",
     "output_type": "stream",
     "text": [
      "[[0 1 2 3]\n",
      " [4 5 6 7]]\n",
      "[[ 4  5  6  7]\n",
      " [12 13 14 15]]\n",
      "[[ 2  6]\n",
      " [10 14]]\n"
     ]
    }
   ],
   "source": [
    "print(a[0],a[:,1,:],a[:,:,2],sep='\\n')"
   ]
  },
  {
   "cell_type": "code",
   "execution_count": 188,
   "metadata": {},
   "outputs": [
    {
     "data": {
      "text/plain": [
       "array([[[ 0,  1,  2,  3],\n",
       "        [ 8,  9, 10, 11]],\n",
       "\n",
       "       [[ 4,  5,  6,  7],\n",
       "        [12, 13, 14, 15]]])"
      ]
     },
     "execution_count": 188,
     "metadata": {},
     "output_type": "execute_result"
    }
   ],
   "source": [
    "a.transpose([1,0,2])"
   ]
  },
  {
   "cell_type": "code",
   "execution_count": 189,
   "metadata": {},
   "outputs": [
    {
     "data": {
      "text/plain": [
       "array([[[ 0,  4],\n",
       "        [ 1,  5],\n",
       "        [ 2,  6],\n",
       "        [ 3,  7]],\n",
       "\n",
       "       [[ 8, 12],\n",
       "        [ 9, 13],\n",
       "        [10, 14],\n",
       "        [11, 15]]])"
      ]
     },
     "execution_count": 189,
     "metadata": {},
     "output_type": "execute_result"
    }
   ],
   "source": [
    "a.swapaxes(1,2)"
   ]
  },
  {
   "cell_type": "code",
   "execution_count": 194,
   "metadata": {},
   "outputs": [
    {
     "data": {
      "text/plain": [
       "array([[[ 0.        ,  1.        ,  1.41421356,  1.73205081],\n",
       "        [ 2.        ,  2.23606798,  2.44948974,  2.64575131]],\n",
       "\n",
       "       [[ 2.82842712,  3.        ,  3.16227766,  3.31662479],\n",
       "        [ 3.46410162,  3.60555128,  3.74165739,  3.87298335]]])"
      ]
     },
     "execution_count": 194,
     "metadata": {},
     "output_type": "execute_result"
    }
   ],
   "source": [
    "np.sqrt(a)"
   ]
  },
  {
   "cell_type": "code",
   "execution_count": 195,
   "metadata": {},
   "outputs": [
    {
     "data": {
      "text/plain": [
       "array([[[  1.00000000e+00,   2.71828183e+00,   7.38905610e+00,\n",
       "           2.00855369e+01],\n",
       "        [  5.45981500e+01,   1.48413159e+02,   4.03428793e+02,\n",
       "           1.09663316e+03]],\n",
       "\n",
       "       [[  2.98095799e+03,   8.10308393e+03,   2.20264658e+04,\n",
       "           5.98741417e+04],\n",
       "        [  1.62754791e+05,   4.42413392e+05,   1.20260428e+06,\n",
       "           3.26901737e+06]]])"
      ]
     },
     "execution_count": 195,
     "metadata": {},
     "output_type": "execute_result"
    }
   ],
   "source": [
    "np.exp(a)"
   ]
  },
  {
   "cell_type": "code",
   "execution_count": 198,
   "metadata": {},
   "outputs": [
    {
     "data": {
      "text/plain": [
       "array([[[  1.00000000e+00,   2.71828183e+00,   7.38905610e+00,\n",
       "           2.00855369e+01],\n",
       "        [  5.45981500e+01,   1.48413159e+02,   4.03428793e+02,\n",
       "           1.09663316e+03]],\n",
       "\n",
       "       [[  2.98095799e+03,   8.10308393e+03,   2.20264658e+04,\n",
       "           5.98741417e+04],\n",
       "        [  1.62754791e+05,   4.42413392e+05,   1.20260428e+06,\n",
       "           3.26901737e+06]]])"
      ]
     },
     "execution_count": 198,
     "metadata": {},
     "output_type": "execute_result"
    }
   ],
   "source": [
    "np.maximum(a,np.exp(a))"
   ]
  },
  {
   "cell_type": "code",
   "execution_count": 199,
   "metadata": {},
   "outputs": [
    {
     "data": {
      "text/plain": [
       "(array([[[ 0.,  0.,  0.,  0.],\n",
       "         [ 0.,  0.,  0.,  0.]],\n",
       " \n",
       "        [[ 0.,  0.,  0.,  0.],\n",
       "         [ 0.,  0.,  0.,  0.]]]), array([[[  0.,   1.,   2.,   3.],\n",
       "         [  4.,   5.,   6.,   7.]],\n",
       " \n",
       "        [[  8.,   9.,  10.,  11.],\n",
       "         [ 12.,  13.,  14.,  15.]]]))"
      ]
     },
     "execution_count": 199,
     "metadata": {},
     "output_type": "execute_result"
    }
   ],
   "source": [
    "np.modf(a)"
   ]
  },
  {
   "cell_type": "code",
   "execution_count": 200,
   "metadata": {},
   "outputs": [
    {
     "data": {
      "text/plain": [
       "array([[-5.  , -5.  , -5.  , ..., -5.  , -5.  , -5.  ],\n",
       "       [-4.99, -4.99, -4.99, ..., -4.99, -4.99, -4.99],\n",
       "       [-4.98, -4.98, -4.98, ..., -4.98, -4.98, -4.98],\n",
       "       ..., \n",
       "       [ 4.97,  4.97,  4.97, ...,  4.97,  4.97,  4.97],\n",
       "       [ 4.98,  4.98,  4.98, ...,  4.98,  4.98,  4.98],\n",
       "       [ 4.99,  4.99,  4.99, ...,  4.99,  4.99,  4.99]])"
      ]
     },
     "execution_count": 200,
     "metadata": {},
     "output_type": "execute_result"
    }
   ],
   "source": [
    "points = np.arange(-5,5,.01)\n",
    "xs, ys = np.meshgrid(points,points)\n",
    "ys"
   ]
  },
  {
   "cell_type": "code",
   "execution_count": 201,
   "metadata": {},
   "outputs": [
    {
     "data": {
      "text/plain": [
       "array([[-5.  , -4.99, -4.98, ...,  4.97,  4.98,  4.99],\n",
       "       [-5.  , -4.99, -4.98, ...,  4.97,  4.98,  4.99],\n",
       "       [-5.  , -4.99, -4.98, ...,  4.97,  4.98,  4.99],\n",
       "       ..., \n",
       "       [-5.  , -4.99, -4.98, ...,  4.97,  4.98,  4.99],\n",
       "       [-5.  , -4.99, -4.98, ...,  4.97,  4.98,  4.99],\n",
       "       [-5.  , -4.99, -4.98, ...,  4.97,  4.98,  4.99]])"
      ]
     },
     "execution_count": 201,
     "metadata": {},
     "output_type": "execute_result"
    }
   ],
   "source": [
    "xs"
   ]
  },
  {
   "cell_type": "code",
   "execution_count": 203,
   "metadata": {},
   "outputs": [
    {
     "data": {
      "text/plain": [
       "array([[ 7.07106781,  7.06400028,  7.05693985, ...,  7.04988652,\n",
       "         7.05693985,  7.06400028],\n",
       "       [ 7.06400028,  7.05692568,  7.04985815, ...,  7.04279774,\n",
       "         7.04985815,  7.05692568],\n",
       "       [ 7.05693985,  7.04985815,  7.04278354, ...,  7.03571603,\n",
       "         7.04278354,  7.04985815],\n",
       "       ..., \n",
       "       [ 7.04988652,  7.04279774,  7.03571603, ...,  7.0286414 ,\n",
       "         7.03571603,  7.04279774],\n",
       "       [ 7.05693985,  7.04985815,  7.04278354, ...,  7.03571603,\n",
       "         7.04278354,  7.04985815],\n",
       "       [ 7.06400028,  7.05692568,  7.04985815, ...,  7.04279774,\n",
       "         7.04985815,  7.05692568]])"
      ]
     },
     "execution_count": 203,
     "metadata": {},
     "output_type": "execute_result"
    }
   ],
   "source": [
    "import matplotlib.pyplot as plt\n",
    "z = np.sqrt(xs **2+ys ** 2)\n",
    "z"
   ]
  },
  {
   "cell_type": "code",
   "execution_count": 205,
   "metadata": {},
   "outputs": [
    {
     "data": {
      "text/plain": [
       "<matplotlib.colorbar.Colorbar at 0xb856f60>"
      ]
     },
     "execution_count": 205,
     "metadata": {},
     "output_type": "execute_result"
    }
   ],
   "source": [
    "plt.imshow(z,cmap = plt.cm.gray);plt.colorbar()"
   ]
  },
  {
   "cell_type": "code",
   "execution_count": 206,
   "metadata": {},
   "outputs": [
    {
     "data": {
      "text/plain": [
       "Text(0.5,1,'Image plot of $\\\\sqrt{x^2+y^2}$ for a grid of values')"
      ]
     },
     "execution_count": 206,
     "metadata": {},
     "output_type": "execute_result"
    }
   ],
   "source": [
    "plt.title(\"Image plot of $\\sqrt{x^2+y^2}$ for a grid of values\")"
   ]
  },
  {
   "cell_type": "code",
   "execution_count": 208,
   "metadata": {},
   "outputs": [
    {
     "data": {
      "image/png": "[encoded data removed]",
      "text/plain": [
       "<matplotlib.figure.Figure at 0x9603080>"
      ]
     },
     "metadata": {},
     "output_type": "display_data"
    }
   ],
   "source": [
    "plt.show()"
   ]
  },
  {
   "cell_type": "code",
   "execution_count": 209,
   "metadata": {
    "collapsed": true
   },
   "outputs": [],
   "source": [
    "xarr = np.array([1.1,1.2,1.3,1.4,1.5])\n",
    "yarr = np.array([2.1,2.2,2.3,2.4,2.5])\n",
    "cond = np.array([True, False, True, True, False])"
   ]
  },
  {
   "cell_type": "code",
   "execution_count": 210,
   "metadata": {
    "collapsed": true
   },
   "outputs": [],
   "source": [
    "result= [(x if c else y) for x,y,c in zip(xarr, yarr, cond)] # 传统的实现方式"
   ]
  },
  {
   "cell_type": "code",
   "execution_count": 211,
   "metadata": {},
   "outputs": [
    {
     "data": {
      "text/plain": [
       "[1.1000000000000001, 2.2000000000000002, 1.3, 1.3999999999999999, 2.5]"
      ]
     },
     "execution_count": 211,
     "metadata": {},
     "output_type": "execute_result"
    }
   ],
   "source": [
    "result"
   ]
  },
  {
   "cell_type": "code",
   "execution_count": 215,
   "metadata": {},
   "outputs": [
    {
     "name": "stdout",
     "output_type": "stream",
     "text": [
      "[(1.1000000000000001, 2.1000000000000001, True), (1.2, 2.2000000000000002, False), (1.3, 2.2999999999999998, True), (1.3999999999999999, 2.3999999999999999, True), (1.5, 2.5, False)]\n"
     ]
    }
   ],
   "source": [
    "print(list(zip(xarr,yarr,cond)))"
   ]
  },
  {
   "cell_type": "code",
   "execution_count": 216,
   "metadata": {
    "collapsed": true
   },
   "outputs": [],
   "source": [
    "result_numpy = np.where(cond, xarr, yarr)"
   ]
  },
  {
   "cell_type": "code",
   "execution_count": 217,
   "metadata": {},
   "outputs": [
    {
     "data": {
      "text/plain": [
       "array([ 1.1,  2.2,  1.3,  1.4,  2.5])"
      ]
     },
     "execution_count": 217,
     "metadata": {},
     "output_type": "execute_result"
    }
   ],
   "source": [
    "result_numpy"
   ]
  },
  {
   "cell_type": "code",
   "execution_count": 218,
   "metadata": {
    "collapsed": true
   },
   "outputs": [],
   "source": [
    "arr4 = randn(4,4)"
   ]
  },
  {
   "cell_type": "code",
   "execution_count": 220,
   "metadata": {},
   "outputs": [
    {
     "data": {
      "text/plain": [
       "array([[ 0.49276982, -1.64682158, -0.33765626, -0.56471643],\n",
       "       [ 1.34414469,  0.92303037,  1.02896931,  0.9105678 ],\n",
       "       [-0.96832416, -1.43167731, -0.14541256,  1.13046649],\n",
       "       [ 1.45108664, -0.59511026, -0.8091468 , -0.89218831]])"
      ]
     },
     "execution_count": 220,
     "metadata": {},
     "output_type": "execute_result"
    }
   ],
   "source": [
    "arr4"
   ]
  },
  {
   "cell_type": "code",
   "execution_count": 221,
   "metadata": {},
   "outputs": [
    {
     "data": {
      "text/plain": [
       "array([[ 2, -2, -2, -2],\n",
       "       [ 2,  2,  2,  2],\n",
       "       [-2, -2, -2,  2],\n",
       "       [ 2, -2, -2, -2]])"
      ]
     },
     "execution_count": 221,
     "metadata": {},
     "output_type": "execute_result"
    }
   ],
   "source": [
    "np.where(arr4>0,2,-2)"
   ]
  },
  {
   "cell_type": "code",
   "execution_count": 223,
   "metadata": {},
   "outputs": [
    {
     "data": {
      "text/plain": [
       "array([[ 0.49276982,  0.        ,  0.        ,  0.        ],\n",
       "       [ 1.34414469,  0.92303037,  1.02896931,  0.9105678 ],\n",
       "       [ 0.        ,  0.        ,  0.        ,  1.13046649],\n",
       "       [ 1.45108664,  0.        ,  0.        ,  0.        ]])"
      ]
     },
     "execution_count": 223,
     "metadata": {},
     "output_type": "execute_result"
    }
   ],
   "source": [
    "np.where(arr4>0,arr4,0)"
   ]
  },
  {
   "cell_type": "code",
   "execution_count": 224,
   "metadata": {},
   "outputs": [
    {
     "data": {
      "text/plain": [
       "array([[ 1.,  2.],\n",
       "       [ 4.,  5.]])"
      ]
     },
     "execution_count": 224,
     "metadata": {},
     "output_type": "execute_result"
    }
   ],
   "source": [
    "arr3"
   ]
  },
  {
   "cell_type": "code",
   "execution_count": 228,
   "metadata": {
    "collapsed": true
   },
   "outputs": [],
   "source": [
    "arr3 = randn(4,4)"
   ]
  },
  {
   "cell_type": "code",
   "execution_count": 229,
   "metadata": {},
   "outputs": [
    {
     "data": {
      "text/plain": [
       "array([[ 0.4101821 ,  0.72187549,  0.77462253,  0.05452329],\n",
       "       [ 0.82560992, -1.57690248, -0.27915346, -0.57942651],\n",
       "       [ 0.89263339,  0.7244506 , -1.17654143, -2.38383605],\n",
       "       [ 0.37792941,  0.22757558,  1.67043999, -1.44336301]])"
      ]
     },
     "execution_count": 229,
     "metadata": {},
     "output_type": "execute_result"
    }
   ],
   "source": [
    "arr3"
   ]
  },
  {
   "cell_type": "code",
   "execution_count": 225,
   "metadata": {},
   "outputs": [
    {
     "data": {
      "text/plain": [
       "array([[ 0.49276982, -1.64682158, -0.33765626, -0.56471643],\n",
       "       [ 1.34414469,  0.92303037,  1.02896931,  0.9105678 ],\n",
       "       [-0.96832416, -1.43167731, -0.14541256,  1.13046649],\n",
       "       [ 1.45108664, -0.59511026, -0.8091468 , -0.89218831]])"
      ]
     },
     "execution_count": 225,
     "metadata": {},
     "output_type": "execute_result"
    }
   ],
   "source": [
    "arr4"
   ]
  },
  {
   "cell_type": "code",
   "execution_count": 236,
   "metadata": {},
   "outputs": [
    {
     "ename": "TypeError",
     "evalue": "ufunc 'bitwise_and' not supported for the input types, and the inputs could not be safely coerced to any supported types according to the casting rule ''safe''",
     "output_type": "error",
     "traceback": [
      "\u001b[1;31m---------------------------------------------------------------------------\u001b[0m",
      "\u001b[1;31mTypeError\u001b[0m                                 Traceback (most recent call last)",
      "\u001b[1;32m<ipython-input-236-659ef94ae60a>\u001b[0m in \u001b[0;36m<module>\u001b[1;34m()\u001b[0m\n\u001b[1;32m----> 1\u001b[1;33m \u001b[0mnp\u001b[0m\u001b[1;33m.\u001b[0m\u001b[0mwhere\u001b[0m\u001b[1;33m(\u001b[0m\u001b[1;33m(\u001b[0m\u001b[0marr3\u001b[0m \u001b[1;33m&\u001b[0m \u001b[0marr4\u001b[0m\u001b[1;33m)\u001b[0m\u001b[1;33m,\u001b[0m\u001b[1;36m0\u001b[0m\u001b[1;33m,\u001b[0m\u001b[0mnp\u001b[0m\u001b[1;33m.\u001b[0m\u001b[0mwhere\u001b[0m\u001b[1;33m(\u001b[0m\u001b[0marr3\u001b[0m\u001b[1;33m,\u001b[0m\u001b[1;36m1\u001b[0m\u001b[1;33m,\u001b[0m\u001b[0mnp\u001b[0m\u001b[1;33m.\u001b[0m\u001b[0mwhere\u001b[0m\u001b[1;33m(\u001b[0m\u001b[0marr4\u001b[0m\u001b[1;33m,\u001b[0m\u001b[1;36m2\u001b[0m\u001b[1;33m,\u001b[0m\u001b[1;36m3\u001b[0m\u001b[1;33m)\u001b[0m\u001b[1;33m)\u001b[0m\u001b[1;33m)\u001b[0m\u001b[1;33m\u001b[0m\u001b[0m\n\u001b[0m",
      "\u001b[1;31mTypeError\u001b[0m: ufunc 'bitwise_and' not supported for the input types, and the inputs could not be safely coerced to any supported types according to the casting rule ''safe''"
     ]
    }
   ],
   "source": [
    "np.where((arr3 & arr4),0,np.where(arr3,1,np.where(arr4,2,3)))"
   ]
  },
  {
   "cell_type": "code",
   "execution_count": 234,
   "metadata": {},
   "outputs": [
    {
     "ename": "TypeError",
     "evalue": "ufunc 'bitwise_and' not supported for the input types, and the inputs could not be safely coerced to any supported types according to the casting rule ''safe''",
     "output_type": "error",
     "traceback": [
      "\u001b[1;31m---------------------------------------------------------------------------\u001b[0m",
      "\u001b[1;31mTypeError\u001b[0m                                 Traceback (most recent call last)",
      "\u001b[1;32m<ipython-input-234-53aa657c3841>\u001b[0m in \u001b[0;36m<module>\u001b[1;34m()\u001b[0m\n\u001b[1;32m----> 1\u001b[1;33m \u001b[0mresult\u001b[0m \u001b[1;33m=\u001b[0m \u001b[1;36m1\u001b[0m \u001b[1;33m*\u001b[0m\u001b[1;33m(\u001b[0m\u001b[0marr3\u001b[0m\u001b[1;33m-\u001b[0m\u001b[0marr4\u001b[0m\u001b[1;33m)\u001b[0m \u001b[1;33m+\u001b[0m \u001b[1;36m2\u001b[0m\u001b[1;33m*\u001b[0m\u001b[1;33m(\u001b[0m\u001b[0marr4\u001b[0m \u001b[1;33m&\u001b[0m \u001b[1;33m-\u001b[0m\u001b[0marr3\u001b[0m\u001b[1;33m)\u001b[0m \u001b[1;33m+\u001b[0m \u001b[1;36m3\u001b[0m\u001b[1;33m*\u001b[0m \u001b[1;33m-\u001b[0m\u001b[1;33m(\u001b[0m\u001b[0marr3\u001b[0m\u001b[1;33m|\u001b[0m\u001b[0marr4\u001b[0m\u001b[1;33m)\u001b[0m\u001b[1;33m\u001b[0m\u001b[0m\n\u001b[0m",
      "\u001b[1;31mTypeError\u001b[0m: ufunc 'bitwise_and' not supported for the input types, and the inputs could not be safely coerced to any supported types according to the casting rule ''safe''"
     ]
    }
   ],
   "source": [
    "result = 1 *(arr3-arr4) + 2*(arr4 & -arr3) + 3* -(arr3|arr4)"
   ]
  },
  {
   "cell_type": "code",
   "execution_count": 237,
   "metadata": {
    "collapsed": true
   },
   "outputs": [],
   "source": [
    "arr = randn(5,4)"
   ]
  },
  {
   "cell_type": "code",
   "execution_count": 238,
   "metadata": {},
   "outputs": [
    {
     "data": {
      "text/plain": [
       "array([[-1.08200775,  0.63058846,  0.89727652, -1.76288776],\n",
       "       [-0.74467332, -0.87747541,  0.50095235, -0.8969954 ],\n",
       "       [ 1.221227  ,  2.09897513,  0.32333659, -0.85005709],\n",
       "       [ 0.97066098,  0.51169924, -1.12191246, -0.18442996],\n",
       "       [ 0.10521673, -0.62950774,  0.55080229,  1.18823771]])"
      ]
     },
     "execution_count": 238,
     "metadata": {},
     "output_type": "execute_result"
    }
   ],
   "source": [
    "arr"
   ]
  },
  {
   "cell_type": "code",
   "execution_count": 239,
   "metadata": {},
   "outputs": [
    {
     "data": {
      "text/plain": [
       "0.042451305573020119"
      ]
     },
     "execution_count": 239,
     "metadata": {},
     "output_type": "execute_result"
    }
   ],
   "source": [
    "arr.mean()"
   ]
  },
  {
   "cell_type": "code",
   "execution_count": 240,
   "metadata": {},
   "outputs": [
    {
     "data": {
      "text/plain": [
       "0.042451305573020119"
      ]
     },
     "execution_count": 240,
     "metadata": {},
     "output_type": "execute_result"
    }
   ],
   "source": [
    "np.mean(arr)"
   ]
  },
  {
   "cell_type": "code",
   "execution_count": 241,
   "metadata": {},
   "outputs": [
    {
     "data": {
      "text/plain": [
       "0.84902611146040241"
      ]
     },
     "execution_count": 241,
     "metadata": {},
     "output_type": "execute_result"
    }
   ],
   "source": [
    "arr.sum()"
   ]
  },
  {
   "cell_type": "code",
   "execution_count": 242,
   "metadata": {},
   "outputs": [
    {
     "data": {
      "text/plain": [
       "array([-1.31703053, -2.01819178,  2.79348164,  0.17601779,  1.21474899])"
      ]
     },
     "execution_count": 242,
     "metadata": {},
     "output_type": "execute_result"
    }
   ],
   "source": [
    "np.sum(arr,axis =1) #按照行进行统计"
   ]
  },
  {
   "cell_type": "code",
   "execution_count": 244,
   "metadata": {},
   "outputs": [
    {
     "data": {
      "text/plain": [
       "array([ 0.47042365,  1.73427967,  1.15045529, -2.5061325 ])"
      ]
     },
     "execution_count": 244,
     "metadata": {},
     "output_type": "execute_result"
    }
   ],
   "source": [
    "arr.sum(0) #按照列进行统计"
   ]
  },
  {
   "cell_type": "code",
   "execution_count": 246,
   "metadata": {},
   "outputs": [
    {
     "data": {
      "text/plain": [
       "array([[-1.08200775, -0.45141929,  0.44585724, -1.31703053],\n",
       "       [-0.74467332, -1.62214873, -1.12119638, -2.01819178],\n",
       "       [ 1.221227  ,  3.32020214,  3.64353873,  2.79348164],\n",
       "       [ 0.97066098,  1.48236021,  0.36044775,  0.17601779],\n",
       "       [ 0.10521673, -0.52429101,  0.02651128,  1.21474899]])"
      ]
     },
     "execution_count": 246,
     "metadata": {},
     "output_type": "execute_result"
    }
   ],
   "source": [
    "arr.cumsum(1)"
   ]
  },
  {
   "cell_type": "code",
   "execution_count": 247,
   "metadata": {},
   "outputs": [
    {
     "data": {
      "text/plain": [
       "array([[-1.08200775, -0.6823016 , -0.61221321,  1.07926317],\n",
       "       [-0.74467332,  0.65343253,  0.32733856, -0.29362118],\n",
       "       [ 1.221227  ,  2.56332511,  0.8288168 , -0.7045416 ],\n",
       "       [ 0.97066098,  0.49668648, -0.55723875,  0.10277152],\n",
       "       [ 0.10521673, -0.06623475, -0.03648225, -0.04334958]])"
      ]
     },
     "execution_count": 247,
     "metadata": {},
     "output_type": "execute_result"
    }
   ],
   "source": [
    "np.cumprod(arr,1)"
   ]
  },
  {
   "cell_type": "code",
   "execution_count": 248,
   "metadata": {},
   "outputs": [
    {
     "data": {
      "text/plain": [
       "0.9790013580562732"
      ]
     },
     "execution_count": 248,
     "metadata": {},
     "output_type": "execute_result"
    }
   ],
   "source": [
    "arr.std()"
   ]
  },
  {
   "cell_type": "code",
   "execution_count": 249,
   "metadata": {},
   "outputs": [
    {
     "data": {
      "text/plain": [
       "\u001b[1;31mDocstring:\u001b[0m\n",
       "a.std(axis=None, dtype=None, out=None, ddof=0, keepdims=False)\n",
       "\n",
       "Returns the standard deviation of the array elements along given axis.\n",
       "\n",
       "Refer to `numpy.std` for full documentation.\n",
       "\n",
       "See Also\n",
       "--------\n",
       "numpy.std : equivalent function\n",
       "\u001b[1;31mType:\u001b[0m      builtin_function_or_method\n"
      ]
     },
     "metadata": {},
     "output_type": "display_data"
    }
   ],
   "source": [
    "arr.std?"
   ]
  },
  {
   "cell_type": "code",
   "execution_count": 251,
   "metadata": {},
   "outputs": [
    {
     "data": {
      "text/plain": [
       "array([ 1.29712742,  0.67374103,  1.26139482,  0.91085587,  0.76457805])"
      ]
     },
     "execution_count": 251,
     "metadata": {},
     "output_type": "execute_result"
    }
   ],
   "source": [
    "arr.std(1,ddof =1)"
   ]
  },
  {
   "cell_type": "code",
   "execution_count": 252,
   "metadata": {},
   "outputs": [
    {
     "data": {
      "text/plain": [
       "array([ 1.1233453 ,  0.58347685,  1.09239996,  0.78882432,  0.66214402])"
      ]
     },
     "execution_count": 252,
     "metadata": {},
     "output_type": "execute_result"
    }
   ],
   "source": [
    "arr.std(1,ddof =0)"
   ]
  },
  {
   "cell_type": "code",
   "execution_count": 273,
   "metadata": {
    "collapsed": true
   },
   "outputs": [],
   "source": [
    "arr = randn(100)"
   ]
  },
  {
   "cell_type": "code",
   "execution_count": 254,
   "metadata": {},
   "outputs": [
    {
     "data": {
      "text/plain": [
       "51"
      ]
     },
     "execution_count": 254,
     "metadata": {},
     "output_type": "execute_result"
    }
   ],
   "source": [
    "(arr>0).sum()"
   ]
  },
  {
   "cell_type": "code",
   "execution_count": 272,
   "metadata": {},
   "outputs": [
    {
     "data": {
      "text/plain": [
       "range(0, 2)"
      ]
     },
     "execution_count": 272,
     "metadata": {},
     "output_type": "execute_result"
    }
   ],
   "source": [
    "arr"
   ]
  },
  {
   "cell_type": "code",
   "execution_count": 260,
   "metadata": {},
   "outputs": [
    {
     "data": {
      "text/plain": [
       "True"
      ]
     },
     "execution_count": 260,
     "metadata": {},
     "output_type": "execute_result"
    }
   ],
   "source": [
    "arr.all()"
   ]
  },
  {
   "cell_type": "code",
   "execution_count": 261,
   "metadata": {},
   "outputs": [
    {
     "data": {
      "text/plain": [
       "True"
      ]
     },
     "execution_count": 261,
     "metadata": {},
     "output_type": "execute_result"
    }
   ],
   "source": [
    "arr.any()"
   ]
  },
  {
   "cell_type": "code",
   "execution_count": 267,
   "metadata": {
    "collapsed": true
   },
   "outputs": [],
   "source": [
    "arr = range(2)"
   ]
  },
  {
   "cell_type": "code",
   "execution_count": 268,
   "metadata": {},
   "outputs": [
    {
     "data": {
      "text/plain": [
       "range(0, 2)"
      ]
     },
     "execution_count": 268,
     "metadata": {},
     "output_type": "execute_result"
    }
   ],
   "source": [
    "arr"
   ]
  },
  {
   "cell_type": "code",
   "execution_count": 269,
   "metadata": {},
   "outputs": [
    {
     "data": {
      "text/plain": [
       "False"
      ]
     },
     "execution_count": 269,
     "metadata": {},
     "output_type": "execute_result"
    }
   ],
   "source": [
    "np.array(arr).all()"
   ]
  },
  {
   "cell_type": "code",
   "execution_count": 270,
   "metadata": {},
   "outputs": [
    {
     "data": {
      "text/plain": [
       "True"
      ]
     },
     "execution_count": 270,
     "metadata": {},
     "output_type": "execute_result"
    }
   ],
   "source": [
    "np.array(arr).any()"
   ]
  },
  {
   "cell_type": "code",
   "execution_count": 271,
   "metadata": {},
   "outputs": [
    {
     "data": {
      "text/plain": [
       "array([0, 1])"
      ]
     },
     "execution_count": 271,
     "metadata": {},
     "output_type": "execute_result"
    }
   ],
   "source": [
    "np.array(arr)"
   ]
  },
  {
   "cell_type": "code",
   "execution_count": 275,
   "metadata": {
    "collapsed": true
   },
   "outputs": [],
   "source": [
    "arr.sort()"
   ]
  },
  {
   "cell_type": "code",
   "execution_count": 276,
   "metadata": {},
   "outputs": [
    {
     "data": {
      "text/plain": [
       "array([-2.28501049, -2.17235285, -2.09566003, -1.82567126, -1.77275317,\n",
       "       -1.67008658, -1.64335349, -1.55423619, -1.52026906, -1.5143914 ,\n",
       "       -1.43193751, -1.37986215, -1.3700002 , -1.31057879, -1.30957292,\n",
       "       -1.27768009, -1.08619178, -1.05850641, -1.05533842, -1.04456853,\n",
       "       -0.98461485, -0.97269089, -0.93978438, -0.93300878, -0.92933886,\n",
       "       -0.83554331, -0.81941491, -0.78257822, -0.77422157, -0.75969847,\n",
       "       -0.72477252, -0.71930369, -0.6959212 , -0.69199654, -0.64406312,\n",
       "       -0.64141763, -0.61720303, -0.61066236, -0.45920226, -0.44784185,\n",
       "       -0.41304631, -0.40475634, -0.38367285, -0.34822748, -0.28205722,\n",
       "       -0.2721903 , -0.26270253, -0.262044  , -0.25667413, -0.25274925,\n",
       "       -0.22365466, -0.17404229, -0.13916523, -0.01128019,  0.01648935,\n",
       "        0.07099415,  0.12895504,  0.16347718,  0.16352412,  0.16457879,\n",
       "        0.19524566,  0.20793465,  0.23048764,  0.25318818,  0.31019273,\n",
       "        0.33109223,  0.34577117,  0.38102876,  0.39834944,  0.40912357,\n",
       "        0.48843822,  0.49078619,  0.51114919,  0.51391381,  0.52257117,\n",
       "        0.61488705,  0.61640523,  0.63671944,  0.65261303,  0.65897405,\n",
       "        0.74816221,  0.75531574,  0.7592446 ,  0.79736762,  0.83598145,\n",
       "        0.84908575,  0.90261144,  0.94705076,  0.97901809,  1.02244458,\n",
       "        1.06696981,  1.20385391,  1.20721794,  1.21970671,  1.27089774,\n",
       "        1.40930038,  1.48633935,  1.52908855,  1.64304424,  2.1694057 ])"
      ]
     },
     "execution_count": 276,
     "metadata": {},
     "output_type": "execute_result"
    }
   ],
   "source": [
    "arr"
   ]
  },
  {
   "cell_type": "code",
   "execution_count": 277,
   "metadata": {
    "collapsed": true
   },
   "outputs": [],
   "source": [
    "arr = randn(5,3)"
   ]
  },
  {
   "cell_type": "code",
   "execution_count": 278,
   "metadata": {},
   "outputs": [
    {
     "data": {
      "text/plain": [
       "array([[ 0.3101829 , -0.08197998,  0.39801126],\n",
       "       [-0.5574513 , -0.14293063, -0.90609067],\n",
       "       [ 0.59097861,  2.04524932,  1.14989822],\n",
       "       [-0.92606529,  1.59843594, -0.23023191],\n",
       "       [ 0.18265542,  1.34150308, -0.14402133]])"
      ]
     },
     "execution_count": 278,
     "metadata": {},
     "output_type": "execute_result"
    }
   ],
   "source": [
    "arr"
   ]
  },
  {
   "cell_type": "code",
   "execution_count": 279,
   "metadata": {
    "collapsed": true
   },
   "outputs": [],
   "source": [
    "arr.sort(1)"
   ]
  },
  {
   "cell_type": "code",
   "execution_count": 280,
   "metadata": {},
   "outputs": [
    {
     "data": {
      "text/plain": [
       "array([[-0.08197998,  0.3101829 ,  0.39801126],\n",
       "       [-0.90609067, -0.5574513 , -0.14293063],\n",
       "       [ 0.59097861,  1.14989822,  2.04524932],\n",
       "       [-0.92606529, -0.23023191,  1.59843594],\n",
       "       [-0.14402133,  0.18265542,  1.34150308]])"
      ]
     },
     "execution_count": 280,
     "metadata": {},
     "output_type": "execute_result"
    }
   ],
   "source": [
    "arr"
   ]
  },
  {
   "cell_type": "code",
   "execution_count": 289,
   "metadata": {
    "collapsed": true
   },
   "outputs": [],
   "source": [
    "brr = arr.sort()"
   ]
  },
  {
   "cell_type": "code",
   "execution_count": 290,
   "metadata": {
    "collapsed": true
   },
   "outputs": [],
   "source": [
    "brr"
   ]
  },
  {
   "cell_type": "code",
   "execution_count": 282,
   "metadata": {},
   "outputs": [
    {
     "data": {
      "text/plain": [
       "array([[-0.08197998,  0.3101829 ,  0.39801126],\n",
       "       [-0.90609067, -0.5574513 , -0.14293063],\n",
       "       [ 0.59097861,  1.14989822,  2.04524932],\n",
       "       [-0.92606529, -0.23023191,  1.59843594],\n",
       "       [-0.14402133,  0.18265542,  1.34150308]])"
      ]
     },
     "execution_count": 282,
     "metadata": {},
     "output_type": "execute_result"
    }
   ],
   "source": [
    "arr"
   ]
  },
  {
   "cell_type": "code",
   "execution_count": 283,
   "metadata": {
    "collapsed": true
   },
   "outputs": [],
   "source": [
    "arr.sort(0)"
   ]
  },
  {
   "cell_type": "code",
   "execution_count": 288,
   "metadata": {},
   "outputs": [
    {
     "data": {
      "text/plain": [
       "array([[-0.92606529, -0.5574513 , -0.14293063],\n",
       "       [-0.90609067, -0.23023191,  0.39801126],\n",
       "       [-0.14402133,  0.18265542,  1.34150308],\n",
       "       [-0.08197998,  0.3101829 ,  1.59843594],\n",
       "       [ 0.59097861,  1.14989822,  2.04524932]])"
      ]
     },
     "execution_count": 288,
     "metadata": {},
     "output_type": "execute_result"
    }
   ],
   "source": [
    "arr"
   ]
  },
  {
   "cell_type": "code",
   "execution_count": 291,
   "metadata": {},
   "outputs": [
    {
     "data": {
      "text/plain": [
       "array([ -5.98892161e-01,  -7.44956365e-01,  -6.51178571e-01,\n",
       "        -1.36727198e-01,  -7.15025651e-01,   7.92864967e-01,\n",
       "         2.14695484e+00,  -1.05423808e+00,   4.07667090e-02,\n",
       "        -9.16842419e-01,  -9.03331217e-01,   6.75887107e-01,\n",
       "         4.13109893e-01,  -7.77372349e-01,   3.98218050e-01,\n",
       "         1.36432020e+00,  -1.19661242e+00,  -1.39450682e-01,\n",
       "         7.10944744e-01,  -6.07022967e-01,   1.01547018e-01,\n",
       "        -1.99984839e-01,   3.63674956e-02,  -3.04079558e-01,\n",
       "         7.22227153e-01,  -9.75921562e-01,  -7.30998707e-01,\n",
       "         3.80086909e-01,  -6.69280894e-01,  -3.35224231e-01,\n",
       "        -6.83643907e-01,   1.62183903e-01,   1.24328376e-01,\n",
       "        -5.33084350e-01,   5.07090845e-01,  -1.60828972e-01,\n",
       "         6.65568712e-01,   8.73802639e-01,   2.57662749e-01,\n",
       "        -1.16395243e+00,   7.10200806e-01,   4.62977509e-01,\n",
       "         1.96170308e+00,   1.01736165e+00,   1.39553616e+00,\n",
       "        -5.99910500e-01,  -2.19196024e-01,   9.03494677e-01,\n",
       "         9.99790107e-01,  -1.46871583e-01,   1.12043945e+00,\n",
       "        -1.21788271e+00,  -3.35237329e-01,   1.62206109e+00,\n",
       "         2.07964186e-01,   5.61715567e-01,  -1.03436495e+00,\n",
       "        -9.87823055e-01,  -1.35600492e+00,  -9.96361052e-03,\n",
       "         8.24854784e-01,  -6.26867065e-01,   9.56877870e-02,\n",
       "         3.47397152e-01,   8.53280534e-01,  -6.41438743e-01,\n",
       "         2.29147533e-01,  -1.04993738e+00,   3.16656021e-01,\n",
       "        -5.85955425e-01,   5.72661344e-01,   3.32934495e-02,\n",
       "         2.78127355e+00,  -4.72638895e-01,   2.81279950e+00,\n",
       "        -5.58848832e-01,   6.46704293e-02,   7.57182680e-01,\n",
       "        -9.90105975e-01,  -4.89418615e-01,   1.02622680e+00,\n",
       "        -5.96452149e-01,   7.88243002e-02,  -5.40597924e-02,\n",
       "        -4.67109016e-01,   8.43893182e-01,   9.60845975e-01,\n",
       "        -1.08642127e+00,  -5.81177872e-01,   1.45092561e+00,\n",
       "        -1.37206811e+00,  -7.77442319e-02,  -1.92212638e+00,\n",
       "         1.17652201e+00,  -1.04619017e+00,  -2.14894313e-02,\n",
       "        -5.55664545e-01,   1.44641094e+00,  -1.57707778e+00,\n",
       "         1.41577375e+00,   1.93807496e+00,  -6.68145310e-01,\n",
       "        -2.36025291e-01,   2.23508741e-01,   4.66873954e-01,\n",
       "         1.30513315e+00,  -7.86948007e-01,  -1.01680756e+00,\n",
       "        -5.81110841e-01,  -7.78307358e-01,  -3.41200423e-01,\n",
       "         1.72557068e+00,  -8.07966497e-01,   4.12709086e-01,\n",
       "         1.42208819e+00,  -1.67616708e+00,   9.97717944e-01,\n",
       "        -8.68579901e-01,  -1.72822478e+00,   2.55151866e+00,\n",
       "         1.61892302e+00,   1.01780855e+00,  -9.40196182e-01,\n",
       "        -1.39513431e+00,  -1.71242050e-01,  -2.66106332e-01,\n",
       "        -4.76998269e-02,   1.36983753e-01,  -1.11624327e-01,\n",
       "        -2.23465735e-02,  -1.14576360e+00,   2.48024059e+00,\n",
       "         1.08825612e+00,   5.52411951e-01,   9.76646715e-01,\n",
       "        -6.72421369e-01,  -1.30561293e-01,  -3.57621098e-01,\n",
       "         2.58088936e-01,  -1.25105019e+00,  -9.44338175e-01,\n",
       "         1.88359947e+00,  -1.90002810e+00,  -9.43940934e-01,\n",
       "        -1.03298489e+00,  -4.80659264e-02,   1.48374039e+00,\n",
       "        -1.30854907e+00,  -2.68173728e-01,  -1.69603062e+00,\n",
       "         7.76092178e-02,  -2.01299381e+00,   1.68538039e+00,\n",
       "         2.77932543e+00,   4.05875274e-01,   9.70799833e-01,\n",
       "        -3.12666052e-01,   4.45551593e-01,  -1.22053620e+00,\n",
       "        -9.24533520e-01,   1.94986425e-01,  -7.91398619e-02,\n",
       "         1.42159437e-01,  -2.85742333e-01,  -1.32956104e+00,\n",
       "        -8.82027482e-01,  -2.23679230e-01,  -5.38792966e-02,\n",
       "         3.94047230e-01,   7.26602684e-01,   7.09761790e-01,\n",
       "        -2.31453104e-01,  -1.02434548e+00,   1.32649509e+00,\n",
       "        -4.75908486e-01,  -3.29077507e-01,  -9.47836674e-02,\n",
       "         1.51680968e-01,  -1.10304150e+00,  -2.30994772e-01,\n",
       "        -7.32800566e-01,   2.70317929e-01,  -1.67937650e+00,\n",
       "        -1.30058198e+00,   1.30927335e+00,  -1.97733442e-01,\n",
       "         9.62549746e-01,   7.01364138e-01,   1.29729773e+00,\n",
       "        -6.49153262e-01,  -1.31344847e+00,  -9.66648326e-01,\n",
       "        -2.76071360e+00,  -7.07349781e-01,   2.48331619e-01,\n",
       "         7.53791120e-01,  -4.01565562e-01,   2.53373579e+00,\n",
       "         2.35006680e-01,   8.67802311e-01,   7.50062512e-01,\n",
       "         1.59660805e+00,  -2.36072055e-01,   7.43873101e-01,\n",
       "        -9.19825714e-01,   3.24359605e-01,  -1.79289676e-01,\n",
       "        -2.42144444e-01,  -1.56550916e+00,   2.18324844e+00,\n",
       "        -1.79881694e-01,  -2.18377975e-01,  -1.25151793e+00,\n",
       "        -1.45557836e+00,   2.66794860e-01,   2.11873349e+00,\n",
       "        -1.33703226e+00,  -3.35612497e-01,   3.51622431e-01,\n",
       "         1.88359682e+00,  -8.73250960e-01,  -3.13627935e-01,\n",
       "         2.00425464e-01,  -3.14844372e-03,  -4.08723963e-01,\n",
       "        -1.24988251e-01,  -2.27304093e+00,   7.65686455e-05,\n",
       "        -6.49842772e-01,  -1.44080458e+00,  -2.18234154e-01,\n",
       "        -1.39755287e+00,  -2.85062143e-01,   2.59241975e-01,\n",
       "        -6.42372487e-02,   5.07420030e-01,   6.85061675e-01,\n",
       "        -1.10071552e+00,  -1.25792507e+00,  -2.45982024e+00,\n",
       "         3.05542870e-01,   1.82735597e+00,  -1.02184228e+00,\n",
       "         4.01438735e-01,  -1.17322563e+00,   4.49259323e-01,\n",
       "        -7.25878114e-01,  -5.67834440e-01,  -2.59985832e-01,\n",
       "         6.36504750e-01,  -5.69984456e-01,  -1.97638468e-01,\n",
       "         2.51375697e-01,  -1.67092154e+00,  -1.22115436e+00,\n",
       "        -1.28338771e+00,  -7.10284898e-01,  -1.44622321e-01,\n",
       "         6.46580634e-01,   6.59203284e-01,  -1.26847430e+00,\n",
       "         9.73926235e-01,   1.14076812e-01,   1.53959533e+00,\n",
       "         7.16726188e-01,  -1.78054875e-01,  -9.76530546e-01,\n",
       "        -3.16919701e-01,  -4.46499515e-01,  -5.54439777e-02,\n",
       "         2.31003672e-01,   3.58220795e-01,   8.61874255e-01,\n",
       "         3.58787724e-01,   1.97204839e+00,  -7.63495561e-01,\n",
       "         3.56667325e-02,   1.67844715e+00,   1.00943606e+00,\n",
       "        -2.94165122e-01,  -1.87809997e+00,  -4.95130113e-01,\n",
       "        -4.81496473e-01,  -1.17435421e+00,  -5.50989478e-01,\n",
       "        -9.41004735e-01,  -7.70610399e-01,  -8.61475612e-02,\n",
       "         2.63806659e-01,  -2.52692691e+00,   3.45357586e-02,\n",
       "        -1.49914288e-01,   1.22630767e-01,   1.61845917e+00,\n",
       "         1.37784859e+00,   6.48365500e-01,  -2.07909628e+00,\n",
       "        -4.49883119e-01,   3.90731125e-01,   7.14626575e-01,\n",
       "         1.55868254e+00,   5.98083978e-01,  -1.23668743e+00,\n",
       "        -1.58802123e+00,  -3.88585292e-01,  -1.84195824e+00,\n",
       "        -1.18447798e+00,  -1.07447908e+00,  -5.70035827e-01,\n",
       "         2.99936832e-01,   6.28611949e-01,  -8.61114469e-01,\n",
       "        -2.97594614e-01,   2.21113433e+00,  -7.88779638e-01,\n",
       "         8.73470807e-01,   1.39343041e+00,  -3.06484788e-02,\n",
       "        -2.73966504e+00,   6.40762441e-01,   1.12734945e+00,\n",
       "         7.06189539e-02,  -1.54657247e+00,  -6.67394645e-01,\n",
       "        -9.14615462e-01,  -6.69731560e-01,   1.58488529e-01,\n",
       "         1.13174262e+00,  -1.29100299e+00,  -7.37846213e-02,\n",
       "        -3.55287905e-01,  -3.36672802e-01,  -7.37739376e-01,\n",
       "        -6.07537620e-01,  -5.66502583e-01,   2.81876326e-01,\n",
       "        -4.19590803e-01,   6.43326351e-01,  -7.20841996e-01,\n",
       "         6.48868702e-01,  -3.28394034e-01,  -2.35978277e+00,\n",
       "        -2.25718716e-01,  -1.88083200e+00,  -2.33278669e-01,\n",
       "         3.30036398e-01,  -1.19316836e+00,   8.14233775e-01,\n",
       "        -4.64914690e-01,   1.38580725e+00,   1.75494415e-01,\n",
       "         2.05985056e+00,   7.17507640e-01,   8.05848585e-01,\n",
       "        -3.42513933e-01,   5.53164668e-01,   1.10386110e+00,\n",
       "        -9.22685069e-01,   9.86206354e-01,   4.19361915e-01,\n",
       "         1.46825622e-01,  -1.61886951e+00,  -4.11521238e-01,\n",
       "        -5.80786660e-01,   2.09347583e-01,  -1.05967821e-01,\n",
       "        -7.45386894e-01,  -1.10242381e+00,  -8.56477570e-01,\n",
       "         4.81251686e-01,   2.01110065e-01,   2.77184976e-01,\n",
       "        -1.04998681e+00,  -1.19762005e+00,   2.49656057e-02,\n",
       "        -1.88204291e-01,   3.64937541e-01,   1.31248303e+00,\n",
       "         7.23597550e-01,   6.12450716e-01,  -7.87336763e-02,\n",
       "         2.13020353e-01,  -7.55864134e-01,   2.00277441e+00,\n",
       "         1.46272146e+00,  -3.39051648e-01,   1.53467734e+00,\n",
       "         9.03662411e-01,  -5.14974103e-01,  -1.08406711e+00,\n",
       "        -1.24879710e+00,   1.63944197e+00,  -1.89201170e-01,\n",
       "         2.84234242e-02,   1.23086031e+00,  -5.31072773e-01,\n",
       "         1.96017043e-01,   8.04816025e-01,  -3.93272134e-01,\n",
       "         4.93486423e-02,   1.44808887e+00,   5.64916872e-01,\n",
       "         4.31427156e-02,  -3.83876823e-01,   1.04016730e-01,\n",
       "        -5.45510695e-01,   1.80656020e+00,   2.85310507e+00,\n",
       "         1.39620212e+00,  -1.77507017e+00,  -5.14080002e-01,\n",
       "         2.90231120e-01,   8.97485835e-01,  -1.05372380e+00,\n",
       "         1.24361826e+00,  -1.41983998e+00,  -9.90717029e-02,\n",
       "        -2.80429607e-01,   5.95265634e-01,   1.18808416e+00,\n",
       "         1.14360534e+00,   8.18771780e-02,   7.05301621e-01,\n",
       "         5.52472895e-01,   5.30025017e-01,  -6.06955402e-02,\n",
       "        -7.29696494e-01,   8.54353264e-01,  -7.02792360e-01,\n",
       "        -6.67420961e-02,   1.33230214e+00,   1.32911660e+00,\n",
       "        -8.27655330e-01,   4.71628780e-01,  -7.38198542e-01,\n",
       "        -3.52353665e-01,   4.80168524e-01,   1.07022771e+00,\n",
       "        -8.18451580e-01,  -9.21707670e-01,  -9.71968253e-01,\n",
       "         4.73197561e-01,   4.53195663e-01,   3.26443254e-01,\n",
       "        -5.01990751e-01,   1.41570742e+00,   2.27537602e+00,\n",
       "        -4.77944434e-01,  -2.44337210e+00,   5.04304179e-01,\n",
       "         1.17506926e+00,   2.53381551e-01,   2.46873173e-01,\n",
       "        -8.45136872e-01,  -1.06189363e-01,  -1.26739287e+00,\n",
       "        -6.00343759e-01,   3.36149473e-01,   6.20899243e-01,\n",
       "        -1.35319736e+00,  -4.58814222e-01,  -7.16694467e-01,\n",
       "        -5.13873508e-01,  -9.00224952e-01,   1.00842474e+00,\n",
       "        -8.92706810e-01,  -1.40723099e+00,   1.27282973e+00,\n",
       "         1.01109719e-01,   4.42720158e-01,  -1.34963020e+00,\n",
       "         4.68164256e-03,  -1.01228264e+00,   8.39859077e-01,\n",
       "         1.28951104e+00,  -1.65117838e-02,  -2.35566488e+00,\n",
       "        -6.13716169e-01,   2.44664949e-01,   1.57208886e+00,\n",
       "         1.60086924e+00,   2.80090629e-01,   1.88407831e+00,\n",
       "         1.45654463e+00,  -2.91698151e-02,  -1.10602898e+00,\n",
       "        -4.49200306e-01,   2.10395932e+00,   4.33947257e-02,\n",
       "         3.94353374e-01,  -1.17485697e+00,  -5.85473785e-01,\n",
       "         1.15407320e+00,  -1.40733240e+00,  -1.09140082e+00,\n",
       "         2.13415713e+00,  -4.72450813e-01,   1.35642724e+00,\n",
       "        -4.41352788e-01,  -1.93618735e-01,   2.34546536e+00,\n",
       "        -5.85867269e-01,   1.84989250e+00,   2.85603532e-01,\n",
       "        -3.01516116e-01,   5.18514568e-01,  -9.33696185e-02,\n",
       "         1.12332539e+00,   4.07416292e-01,   4.07096356e-01,\n",
       "         7.43126312e-02,   1.28743649e+00,  -8.16769993e-01,\n",
       "         7.71553076e-02,  -4.37978753e-01,   1.08054599e+00,\n",
       "         4.10947260e-01,   1.32608023e-01,  -1.46747091e+00,\n",
       "         6.95514073e-01,  -1.70180205e-01,  -1.05365098e-01,\n",
       "        -3.05441683e-02,  -2.59541829e-02,   1.23314264e+00,\n",
       "         8.62713267e-01,   3.99516539e-01,   1.46890790e+00,\n",
       "        -1.25969877e+00,   1.93948313e+00,  -2.02102574e+00,\n",
       "        -1.49463353e-01,   4.21198258e-02,   1.06590438e+00,\n",
       "         7.97748844e-01,  -4.03150076e-01,  -1.43963093e+00,\n",
       "        -1.54714297e+00,  -2.19902834e-01,   1.15764850e+00,\n",
       "        -1.29583874e+00,   1.42567313e+00,   1.49781826e+00,\n",
       "        -7.07946216e-01,  -5.57270072e-01,   8.17505448e-01,\n",
       "         1.52989169e+00,  -2.08422400e+00,   5.46829063e-01,\n",
       "         7.79325540e-01,  -1.36525606e+00,  -4.90851876e-01,\n",
       "        -1.74337906e+00,  -1.84746061e+00,   1.23700191e+00,\n",
       "         9.02988396e-01,  -1.60691927e+00,   5.69443543e-02,\n",
       "         1.54805868e-01,   2.79771795e+00,   1.98392595e-01,\n",
       "         4.19035838e-01,  -6.13526848e-01,  -3.36056209e-01,\n",
       "         5.78507875e-01,   1.55938537e+00,   5.61370154e-01,\n",
       "         7.33992929e-01,  -5.89907024e-01,   3.72032834e-01,\n",
       "         2.96536676e-01,   1.78014253e+00,  -7.18952345e-01,\n",
       "        -7.44508271e-01,   3.60762496e-01,  -1.26486515e+00,\n",
       "        -1.22587051e+00,  -4.09640131e-01,  -1.85657040e-01,\n",
       "         1.03962498e+00,  -1.22639531e+00,   5.57759503e-01,\n",
       "        -2.52138453e+00,   2.12779570e-01,   7.83528274e-01,\n",
       "         3.50299026e-01,   1.20709628e+00,  -3.21957972e-01,\n",
       "         1.66749667e+00,   2.23712332e-02,  -1.00678378e+00,\n",
       "         1.92721484e+00,  -1.45983028e+00,   2.42048566e-01,\n",
       "         3.02283472e-01,  -6.10901181e-01,   1.05178423e+00,\n",
       "        -1.63158118e-01,   2.53008820e-01,   3.93358574e-01,\n",
       "        -7.05601797e-01,   2.06437660e-01,  -2.54424486e-01,\n",
       "        -3.81016424e-03,  -9.92010723e-01,  -1.52737180e+00,\n",
       "        -2.15912486e-01,  -4.42486216e-01,   2.53595566e+00,\n",
       "        -1.38507439e+00,  -1.00573358e-01,  -3.39056673e-02,\n",
       "        -1.67634504e+00,   2.20657973e-01,  -4.76751700e-02,\n",
       "         1.50715071e+00,  -9.73552235e-01,  -4.76489597e-01,\n",
       "        -6.04694133e-01,  -5.22976679e-01,   9.47034107e-01,\n",
       "         1.12806929e+00,  -1.54745998e-02,  -2.94495541e-01,\n",
       "        -9.73035568e-01,   8.11878763e-01,   9.00378678e-02,\n",
       "         1.12015563e+00,   1.03853880e+00,  -1.66448131e+00,\n",
       "         9.42504017e-01,   2.30015671e+00,   1.88120023e+00,\n",
       "        -7.53068520e-01,   8.03729301e-01,   1.75745005e+00,\n",
       "        -8.90507176e-01,  -1.30702228e+00,   4.20127217e-01,\n",
       "        -1.05668792e+00,   2.10682308e-01,   6.04850999e-01,\n",
       "        -1.48303375e+00,   7.80595085e-01,   1.79395336e-01,\n",
       "        -8.26446585e-01,   2.44926057e-01,  -1.61440301e+00,\n",
       "         9.94863646e-01,   1.91787889e+00,   1.48185546e+00,\n",
       "        -1.23764146e+00,  -9.58896161e-01,   1.95916512e+00,\n",
       "         5.43581640e-01,  -8.66434455e-01,   2.46995972e-01,\n",
       "        -2.01153924e+00,   6.86895988e-01,  -1.53143762e+00,\n",
       "        -9.96578660e-01,  -6.30771831e-01,  -2.66853943e-01,\n",
       "        -5.15149683e-01,   1.03463309e+00,  -7.65618921e-02,\n",
       "        -4.02959823e-01,  -1.00825021e-01,  -1.34577397e+00,\n",
       "        -1.64539623e+00,   1.36979390e+00,  -1.13029495e+00,\n",
       "         6.08279168e-01,  -1.16734922e+00,   1.16000089e-01,\n",
       "         1.45248485e+00,   5.67845167e-01,   1.16764150e+00,\n",
       "        -8.38705859e-01,  -1.82494676e-01,  -2.48286392e+00,\n",
       "        -6.45908884e-01,  -1.36083850e+00,  -1.41921904e+00,\n",
       "        -4.94125786e-01,  -2.07534491e-01,  -9.99291660e-01,\n",
       "        -7.44389947e-01,  -4.19593306e-01,  -2.15471794e-01,\n",
       "        -1.09624070e+00,   8.41158395e-01,   3.04708622e-01,\n",
       "        -2.03560284e+00,  -1.39959279e-01,  -7.03059017e-01,\n",
       "        -2.12660567e+00,   2.40750656e-02,  -1.16861034e-01,\n",
       "        -1.40334664e+00,  -1.10605889e+00,  -7.65710206e-01,\n",
       "        -3.89751092e-01,  -7.81546274e-01,  -2.00526738e-01,\n",
       "         6.38359243e-01,   1.16601770e+00,   1.08257154e+00,\n",
       "         5.04066399e-01,   1.78919536e+00,  -3.87275724e-01,\n",
       "         1.20384287e+00,  -1.72941376e+00,  -1.21026867e+00,\n",
       "         1.74345480e-01,   6.78766435e-02,   4.51356757e-01,\n",
       "        -1.27847899e+00,   2.06738773e-01,   2.03509203e+00,\n",
       "        -3.49730610e-01,  -3.29266756e-01,   1.35044856e+00,\n",
       "        -5.71065442e-01,   8.58169194e-01,   8.04389919e-01,\n",
       "         1.17915250e-01,  -4.34949480e-01,  -1.31495386e+00,\n",
       "        -6.40237965e-01,  -7.64437942e-01,   3.33001095e-01,\n",
       "        -8.63502217e-01,   4.08845249e-01,   2.06254915e-01,\n",
       "        -8.56772205e-01,   3.74768540e-02,  -2.36152395e-01,\n",
       "        -4.30887183e-01,  -8.15164243e-01,   2.85503823e-01,\n",
       "        -1.01651249e+00,   1.56881745e+00,   1.41349403e+00,\n",
       "        -2.09773871e-02,  -9.88649101e-01,  -7.40878852e-01,\n",
       "        -1.93897321e-01,  -7.63022038e-02,  -1.65858954e+00,\n",
       "         1.52625529e+00,   7.29957775e-01,   9.36367316e-01,\n",
       "         1.75114310e+00,  -1.11728253e+00,   8.16367196e-02,\n",
       "         6.19758873e-01,  -7.24176229e-01,  -1.67384846e+00,\n",
       "         4.57422831e-01,   5.09975457e-01,   7.94991853e-01,\n",
       "        -1.91661009e+00,  -7.93922274e-01,   7.06358709e-01,\n",
       "         2.68746027e-01,   8.58267489e-01,   1.66446454e+00,\n",
       "         8.60258568e-01,  -1.52237009e+00,   1.74732083e+00,\n",
       "         2.15811825e+00,  -8.31324914e-01,  -6.94795187e-02,\n",
       "        -1.13483509e+00,   1.38380323e+00,   3.03563277e-01,\n",
       "         7.62881617e-01,   7.99197584e-01,   2.05734259e+00,\n",
       "         1.78718076e+00,  -1.75740940e+00,   6.66255634e-01,\n",
       "         3.15406956e-01,   8.38677705e-01,  -2.06675894e-01,\n",
       "        -2.25985467e-01,   2.00498428e+00,  -8.38892816e-01,\n",
       "        -7.10407005e-01,   7.63305889e-02,   6.56794061e-01,\n",
       "        -1.64989440e+00,  -6.34191891e-01,   1.46518942e+00,\n",
       "        -3.50449065e-01,  -2.35330162e-01,  -6.39569668e-01,\n",
       "        -1.47782831e-01,   2.11150121e+00,   1.57884259e+00,\n",
       "         1.32124446e+00,  -3.30196627e-01,  -5.76735440e-01,\n",
       "         1.18925434e+00,   8.15682129e-02,  -1.35028263e-01,\n",
       "         2.18475895e-01,   1.08516175e+00,   6.90727633e-01,\n",
       "         9.47746747e-01,   2.04014028e+00,  -1.00605338e+00,\n",
       "        -2.63331072e-01,   1.02509014e+00,  -1.05821831e+00,\n",
       "        -1.87312007e+00,   6.71924860e-01,  -6.34647675e-01,\n",
       "        -1.52947238e+00,   6.29040715e-01,  -6.70152921e-02,\n",
       "         1.73775090e-01,   6.92298660e-02,   1.31762069e-01,\n",
       "         1.83161165e+00,   7.36022830e-01,   1.12304457e-01,\n",
       "        -8.89297883e-02,   5.02510439e-01,   5.83342393e-02,\n",
       "        -2.92926360e-01,   1.16825204e-01,   7.41565713e-02,\n",
       "        -4.84682621e-01,  -1.89658394e+00,  -6.57627821e-01,\n",
       "        -1.39830062e+00,   1.55124027e-01,  -1.06192438e+00,\n",
       "         7.68874447e-01,  -2.31118358e-01,  -4.16121785e-01,\n",
       "        -5.94184403e-01,  -1.13434773e+00,   3.63101038e-01,\n",
       "         8.19374796e-02,  -4.14724973e-01,   1.86385329e+00,\n",
       "         6.81021833e-02,  -1.96317382e-01,  -9.30499631e-01,\n",
       "        -1.74890846e-01,  -1.19597848e+00,   6.29700172e-01,\n",
       "         9.81976421e-01,  -6.52716793e-01,  -7.11408809e-01,\n",
       "         4.23279257e-01,  -1.40740367e+00,  -4.18046572e-01,\n",
       "         5.71181791e-01,   1.05619301e+00,  -1.05649768e-02,\n",
       "        -7.46712942e-02,   3.00612220e-01,   5.51053692e-01,\n",
       "        -5.38914260e-01,  -3.59939497e-01,  -7.81074630e-01,\n",
       "        -6.62066156e-01,   8.53269738e-01,   2.81314509e-01,\n",
       "         5.47815275e-01,  -7.21292283e-01,  -6.08478986e-02,\n",
       "        -2.07938373e+00,  -3.28218316e-01,  -9.64204516e-01,\n",
       "         3.76562848e-01,  -4.49498978e-01,   6.00060362e-02,\n",
       "        -2.35940248e-01,  -5.64495257e-01,  -9.62555312e-01,\n",
       "        -1.54162543e+00,   2.37395475e-01,   4.30981853e-01,\n",
       "         1.35065844e+00,   5.33620766e-01,  -2.93194659e-01,\n",
       "        -1.42188630e+00,   1.03715283e+00,  -9.19916668e-01,\n",
       "         9.82362215e-02,  -3.13473965e+00,   1.01016245e+00,\n",
       "        -1.19524158e+00,   4.00790049e-01,  -8.30432600e-01,\n",
       "         1.59534418e+00,  -3.69638589e-01,   1.33576903e+00,\n",
       "         2.19178455e+00,   8.99825979e-01,  -1.19714146e+00,\n",
       "         1.79951553e-02,  -1.14663636e+00,   3.75003031e-01,\n",
       "         2.54134668e+00,   3.82653860e-01,  -1.16763817e-01,\n",
       "        -1.07874058e+00,  -1.59768571e+00,  -1.61785770e+00,\n",
       "        -4.45695274e-01,   2.26801364e-01,  -1.17640368e+00,\n",
       "         1.64379737e+00,   1.20446580e+00,  -3.32317874e-01,\n",
       "        -2.07501108e-01,  -1.02219241e+00,  -7.62438803e-01,\n",
       "        -1.92078536e-01,   3.65958965e-01,   1.16943482e+00,\n",
       "         4.55536281e-01,  -7.29306442e-01,  -8.72868504e-01,\n",
       "         1.25165230e-01,   6.25659644e-01,  -6.50020090e-01,\n",
       "        -5.55340921e-01,  -6.42794247e-01,  -1.02308282e-01,\n",
       "         4.47934499e-01,   9.31052893e-01,  -2.25235111e+00,\n",
       "        -1.16843412e+00,   2.07437659e+00,   7.09738029e-01,\n",
       "        -4.11289644e-02,  -1.08941225e+00,  -2.42754036e-01,\n",
       "        -1.06867149e+00,  -7.97959455e-01,  -1.82192624e+00,\n",
       "        -9.89305741e-01,  -1.74927240e+00,  -2.10759471e-01,\n",
       "         1.17875433e-01,  -2.77609515e-01,   1.78454424e+00,\n",
       "        -9.78841369e-01,   4.13855646e-01,  -1.56439306e+00,\n",
       "        -9.92344221e-01,  -2.32841946e+00,  -1.11684192e+00,\n",
       "         8.76992386e-01,   5.06224753e-01,  -1.63538183e+00,\n",
       "         1.32116792e+00,   9.09963675e-01,  -8.54156494e-01,\n",
       "        -1.29055517e+00,  -7.95763741e-01,   5.66486320e-02,\n",
       "         1.60556970e+00,   5.91274633e-01,  -2.02138848e-01,\n",
       "        -3.35143444e-01,  -1.04983765e+00,   5.60985398e-01,\n",
       "        -1.12863519e-01,   1.22135531e+00,   9.56842936e-01,\n",
       "        -6.67405211e-01,   8.56180892e-01,  -4.93735440e-01,\n",
       "        -2.91129167e-02,   1.03751088e-01,   1.92267836e-01,\n",
       "        -1.06539714e+00,   1.02512038e-01,  -2.09867970e-01,\n",
       "        -1.24336068e+00,  -2.75135898e-01,   1.29801047e-01,\n",
       "         1.04939021e-01,  -1.17063892e+00,   1.52922009e+00,\n",
       "        -3.49318763e-01,   1.22626656e+00,   8.00248501e-02,\n",
       "        -1.34152289e+00,  -1.05031400e+00,   2.25184466e+00,\n",
       "         9.06909901e-01])"
      ]
     },
     "execution_count": 291,
     "metadata": {},
     "output_type": "execute_result"
    }
   ],
   "source": [
    "arr =randn(1000)\n",
    "arr"
   ]
  },
  {
   "cell_type": "code",
   "execution_count": 292,
   "metadata": {},
   "outputs": [
    {
     "data": {
      "text/plain": [
       "1.1204394524420367"
      ]
     },
     "execution_count": 292,
     "metadata": {},
     "output_type": "execute_result"
    }
   ],
   "source": [
    "arr[int(0.05*len(arr))] #5%分位数"
   ]
  },
  {
   "cell_type": "code",
   "execution_count": 293,
   "metadata": {},
   "outputs": [
    {
     "data": {
      "text/plain": [
       "array(['zs', 'ls', 'ww', 'vl', 'zs'],\n",
       "      dtype='<U2')"
      ]
     },
     "execution_count": 293,
     "metadata": {},
     "output_type": "execute_result"
    }
   ],
   "source": [
    "names"
   ]
  },
  {
   "cell_type": "code",
   "execution_count": 294,
   "metadata": {},
   "outputs": [
    {
     "ename": "AttributeError",
     "evalue": "'numpy.ndarray' object has no attribute 'unique'",
     "output_type": "error",
     "traceback": [
      "\u001b[1;31m---------------------------------------------------------------------------\u001b[0m",
      "\u001b[1;31mAttributeError\u001b[0m                            Traceback (most recent call last)",
      "\u001b[1;32m<ipython-input-294-4b87ac47bdce>\u001b[0m in \u001b[0;36m<module>\u001b[1;34m()\u001b[0m\n\u001b[1;32m----> 1\u001b[1;33m \u001b[0mnames\u001b[0m\u001b[1;33m.\u001b[0m\u001b[0munique\u001b[0m\u001b[1;33m(\u001b[0m\u001b[1;33m)\u001b[0m\u001b[1;33m\u001b[0m\u001b[0m\n\u001b[0m",
      "\u001b[1;31mAttributeError\u001b[0m: 'numpy.ndarray' object has no attribute 'unique'"
     ]
    }
   ],
   "source": [
    "names.unique()"
   ]
  },
  {
   "cell_type": "code",
   "execution_count": 295,
   "metadata": {},
   "outputs": [
    {
     "data": {
      "text/plain": [
       "array(['ls', 'vl', 'ww', 'zs'],\n",
       "      dtype='<U2')"
      ]
     },
     "execution_count": 295,
     "metadata": {},
     "output_type": "execute_result"
    }
   ],
   "source": [
    "np.unique(names)"
   ]
  },
  {
   "cell_type": "code",
   "execution_count": 296,
   "metadata": {},
   "outputs": [
    {
     "data": {
      "text/plain": [
       "{'ls', 'vl', 'ww', 'zs'}"
      ]
     },
     "execution_count": 296,
     "metadata": {},
     "output_type": "execute_result"
    }
   ],
   "source": [
    "set(names)"
   ]
  },
  {
   "cell_type": "code",
   "execution_count": 297,
   "metadata": {},
   "outputs": [
    {
     "data": {
      "text/plain": [
       "['ls', 'vl', 'ww', 'zs']"
      ]
     },
     "execution_count": 297,
     "metadata": {},
     "output_type": "execute_result"
    }
   ],
   "source": [
    "sorted(set(names))"
   ]
  },
  {
   "cell_type": "code",
   "execution_count": 300,
   "metadata": {},
   "outputs": [
    {
     "data": {
      "text/plain": [
       "['zs', 'ww', 'vl', 'ls']"
      ]
     },
     "execution_count": 300,
     "metadata": {},
     "output_type": "execute_result"
    }
   ],
   "source": [
    "sorted(set(names),reverse = True)"
   ]
  },
  {
   "cell_type": "code",
   "execution_count": 299,
   "metadata": {},
   "outputs": [
    {
     "data": {
      "text/plain": [
       "\u001b[1;31mSignature:\u001b[0m \u001b[0msorted\u001b[0m\u001b[1;33m(\u001b[0m\u001b[0miterable\u001b[0m\u001b[1;33m,\u001b[0m \u001b[1;33m/\u001b[0m\u001b[1;33m,\u001b[0m \u001b[1;33m*\u001b[0m\u001b[1;33m,\u001b[0m \u001b[0mkey\u001b[0m\u001b[1;33m=\u001b[0m\u001b[1;32mNone\u001b[0m\u001b[1;33m,\u001b[0m \u001b[0mreverse\u001b[0m\u001b[1;33m=\u001b[0m\u001b[1;32mFalse\u001b[0m\u001b[1;33m)\u001b[0m\u001b[1;33m\u001b[0m\u001b[0m\n",
       "\u001b[1;31mDocstring:\u001b[0m\n",
       "Return a new list containing all items from the iterable in ascending order.\n",
       "\n",
       "A custom key function can be supplied to customize the sort order, and the\n",
       "reverse flag can be set to request the result in descending order.\n",
       "\u001b[1;31mType:\u001b[0m      builtin_function_or_method\n"
      ]
     },
     "metadata": {},
     "output_type": "display_data"
    }
   ],
   "source": [
    "sorted?"
   ]
  },
  {
   "cell_type": "code",
   "execution_count": 301,
   "metadata": {},
   "outputs": [
    {
     "data": {
      "text/plain": [
       "array([ True], dtype=bool)"
      ]
     },
     "execution_count": 301,
     "metadata": {},
     "output_type": "execute_result"
    }
   ],
   "source": [
    "np.in1d('zs',names)"
   ]
  },
  {
   "cell_type": "code",
   "execution_count": 302,
   "metadata": {},
   "outputs": [
    {
     "data": {
      "text/plain": [
       "array([ True, False, False, False,  True], dtype=bool)"
      ]
     },
     "execution_count": 302,
     "metadata": {},
     "output_type": "execute_result"
    }
   ],
   "source": [
    "np.in1d(names,'zs')"
   ]
  },
  {
   "cell_type": "code",
   "execution_count": 303,
   "metadata": {},
   "outputs": [
    {
     "data": {
      "text/plain": [
       "array(['zs', 'ls', 'ww', 'vl', 'zs'],\n",
       "      dtype='<U2')"
      ]
     },
     "execution_count": 303,
     "metadata": {},
     "output_type": "execute_result"
    }
   ],
   "source": [
    "names"
   ]
  },
  {
   "cell_type": "code",
   "execution_count": 308,
   "metadata": {},
   "outputs": [
    {
     "ename": "SyntaxError",
     "evalue": "invalid syntax (<ipython-input-308-8917b8826816>, line 1)",
     "output_type": "error",
     "traceback": [
      "\u001b[1;36m  File \u001b[1;32m\"<ipython-input-308-8917b8826816>\"\u001b[1;36m, line \u001b[1;32m1\u001b[0m\n\u001b[1;33m    n1 = del.names['zs']\u001b[0m\n\u001b[1;37m           ^\u001b[0m\n\u001b[1;31mSyntaxError\u001b[0m\u001b[1;31m:\u001b[0m invalid syntax\n"
     ]
    }
   ],
   "source": [
    "n1 = del.names['zs']"
   ]
  },
  {
   "cell_type": "code",
   "execution_count": 315,
   "metadata": {
    "collapsed": true
   },
   "outputs": [],
   "source": [
    "x = np.array([1,3,5,7,8,9,3,5])\n",
    "y = np.array([2,3,4,5,6])"
   ]
  },
  {
   "cell_type": "code",
   "execution_count": 316,
   "metadata": {},
   "outputs": [
    {
     "name": "stdout",
     "output_type": "stream",
     "text": [
      "[1 3 5 7 8 9]\n",
      "[3 5]\n",
      "[1 2 3 4 5 6 7 8 9]\n",
      "[False  True  True False False False  True  True]\n",
      "[1 7 8 9]\n",
      "[1 2 4 6 7 8 9]\n"
     ]
    }
   ],
   "source": [
    "print(np.unique(x), np.intersect1d(x,y), np.union1d(x,y), np.in1d(x,y), \\\n",
    "      np.setdiff1d(x,y), np.setxor1d(x,y), sep='\\n')"
   ]
  },
  {
   "cell_type": "code",
   "execution_count": 317,
   "metadata": {},
   "outputs": [
    {
     "data": {
      "text/plain": [
       "array([ -5.98892161e-01,  -7.44956365e-01,  -6.51178571e-01,\n",
       "        -1.36727198e-01,  -7.15025651e-01,   7.92864967e-01,\n",
       "         2.14695484e+00,  -1.05423808e+00,   4.07667090e-02,\n",
       "        -9.16842419e-01,  -9.03331217e-01,   6.75887107e-01,\n",
       "         4.13109893e-01,  -7.77372349e-01,   3.98218050e-01,\n",
       "         1.36432020e+00,  -1.19661242e+00,  -1.39450682e-01,\n",
       "         7.10944744e-01,  -6.07022967e-01,   1.01547018e-01,\n",
       "        -1.99984839e-01,   3.63674956e-02,  -3.04079558e-01,\n",
       "         7.22227153e-01,  -9.75921562e-01,  -7.30998707e-01,\n",
       "         3.80086909e-01,  -6.69280894e-01,  -3.35224231e-01,\n",
       "        -6.83643907e-01,   1.62183903e-01,   1.24328376e-01,\n",
       "        -5.33084350e-01,   5.07090845e-01,  -1.60828972e-01,\n",
       "         6.65568712e-01,   8.73802639e-01,   2.57662749e-01,\n",
       "        -1.16395243e+00,   7.10200806e-01,   4.62977509e-01,\n",
       "         1.96170308e+00,   1.01736165e+00,   1.39553616e+00,\n",
       "        -5.99910500e-01,  -2.19196024e-01,   9.03494677e-01,\n",
       "         9.99790107e-01,  -1.46871583e-01,   1.12043945e+00,\n",
       "        -1.21788271e+00,  -3.35237329e-01,   1.62206109e+00,\n",
       "         2.07964186e-01,   5.61715567e-01,  -1.03436495e+00,\n",
       "        -9.87823055e-01,  -1.35600492e+00,  -9.96361052e-03,\n",
       "         8.24854784e-01,  -6.26867065e-01,   9.56877870e-02,\n",
       "         3.47397152e-01,   8.53280534e-01,  -6.41438743e-01,\n",
       "         2.29147533e-01,  -1.04993738e+00,   3.16656021e-01,\n",
       "        -5.85955425e-01,   5.72661344e-01,   3.32934495e-02,\n",
       "         2.78127355e+00,  -4.72638895e-01,   2.81279950e+00,\n",
       "        -5.58848832e-01,   6.46704293e-02,   7.57182680e-01,\n",
       "        -9.90105975e-01,  -4.89418615e-01,   1.02622680e+00,\n",
       "        -5.96452149e-01,   7.88243002e-02,  -5.40597924e-02,\n",
       "        -4.67109016e-01,   8.43893182e-01,   9.60845975e-01,\n",
       "        -1.08642127e+00,  -5.81177872e-01,   1.45092561e+00,\n",
       "        -1.37206811e+00,  -7.77442319e-02,  -1.92212638e+00,\n",
       "         1.17652201e+00,  -1.04619017e+00,  -2.14894313e-02,\n",
       "        -5.55664545e-01,   1.44641094e+00,  -1.57707778e+00,\n",
       "         1.41577375e+00,   1.93807496e+00,  -6.68145310e-01,\n",
       "        -2.36025291e-01,   2.23508741e-01,   4.66873954e-01,\n",
       "         1.30513315e+00,  -7.86948007e-01,  -1.01680756e+00,\n",
       "        -5.81110841e-01,  -7.78307358e-01,  -3.41200423e-01,\n",
       "         1.72557068e+00,  -8.07966497e-01,   4.12709086e-01,\n",
       "         1.42208819e+00,  -1.67616708e+00,   9.97717944e-01,\n",
       "        -8.68579901e-01,  -1.72822478e+00,   2.55151866e+00,\n",
       "         1.61892302e+00,   1.01780855e+00,  -9.40196182e-01,\n",
       "        -1.39513431e+00,  -1.71242050e-01,  -2.66106332e-01,\n",
       "        -4.76998269e-02,   1.36983753e-01,  -1.11624327e-01,\n",
       "        -2.23465735e-02,  -1.14576360e+00,   2.48024059e+00,\n",
       "         1.08825612e+00,   5.52411951e-01,   9.76646715e-01,\n",
       "        -6.72421369e-01,  -1.30561293e-01,  -3.57621098e-01,\n",
       "         2.58088936e-01,  -1.25105019e+00,  -9.44338175e-01,\n",
       "         1.88359947e+00,  -1.90002810e+00,  -9.43940934e-01,\n",
       "        -1.03298489e+00,  -4.80659264e-02,   1.48374039e+00,\n",
       "        -1.30854907e+00,  -2.68173728e-01,  -1.69603062e+00,\n",
       "         7.76092178e-02,  -2.01299381e+00,   1.68538039e+00,\n",
       "         2.77932543e+00,   4.05875274e-01,   9.70799833e-01,\n",
       "        -3.12666052e-01,   4.45551593e-01,  -1.22053620e+00,\n",
       "        -9.24533520e-01,   1.94986425e-01,  -7.91398619e-02,\n",
       "         1.42159437e-01,  -2.85742333e-01,  -1.32956104e+00,\n",
       "        -8.82027482e-01,  -2.23679230e-01,  -5.38792966e-02,\n",
       "         3.94047230e-01,   7.26602684e-01,   7.09761790e-01,\n",
       "        -2.31453104e-01,  -1.02434548e+00,   1.32649509e+00,\n",
       "        -4.75908486e-01,  -3.29077507e-01,  -9.47836674e-02,\n",
       "         1.51680968e-01,  -1.10304150e+00,  -2.30994772e-01,\n",
       "        -7.32800566e-01,   2.70317929e-01,  -1.67937650e+00,\n",
       "        -1.30058198e+00,   1.30927335e+00,  -1.97733442e-01,\n",
       "         9.62549746e-01,   7.01364138e-01,   1.29729773e+00,\n",
       "        -6.49153262e-01,  -1.31344847e+00,  -9.66648326e-01,\n",
       "        -2.76071360e+00,  -7.07349781e-01,   2.48331619e-01,\n",
       "         7.53791120e-01,  -4.01565562e-01,   2.53373579e+00,\n",
       "         2.35006680e-01,   8.67802311e-01,   7.50062512e-01,\n",
       "         1.59660805e+00,  -2.36072055e-01,   7.43873101e-01,\n",
       "        -9.19825714e-01,   3.24359605e-01,  -1.79289676e-01,\n",
       "        -2.42144444e-01,  -1.56550916e+00,   2.18324844e+00,\n",
       "        -1.79881694e-01,  -2.18377975e-01,  -1.25151793e+00,\n",
       "        -1.45557836e+00,   2.66794860e-01,   2.11873349e+00,\n",
       "        -1.33703226e+00,  -3.35612497e-01,   3.51622431e-01,\n",
       "         1.88359682e+00,  -8.73250960e-01,  -3.13627935e-01,\n",
       "         2.00425464e-01,  -3.14844372e-03,  -4.08723963e-01,\n",
       "        -1.24988251e-01,  -2.27304093e+00,   7.65686455e-05,\n",
       "        -6.49842772e-01,  -1.44080458e+00,  -2.18234154e-01,\n",
       "        -1.39755287e+00,  -2.85062143e-01,   2.59241975e-01,\n",
       "        -6.42372487e-02,   5.07420030e-01,   6.85061675e-01,\n",
       "        -1.10071552e+00,  -1.25792507e+00,  -2.45982024e+00,\n",
       "         3.05542870e-01,   1.82735597e+00,  -1.02184228e+00,\n",
       "         4.01438735e-01,  -1.17322563e+00,   4.49259323e-01,\n",
       "        -7.25878114e-01,  -5.67834440e-01,  -2.59985832e-01,\n",
       "         6.36504750e-01,  -5.69984456e-01,  -1.97638468e-01,\n",
       "         2.51375697e-01,  -1.67092154e+00,  -1.22115436e+00,\n",
       "        -1.28338771e+00,  -7.10284898e-01,  -1.44622321e-01,\n",
       "         6.46580634e-01,   6.59203284e-01,  -1.26847430e+00,\n",
       "         9.73926235e-01,   1.14076812e-01,   1.53959533e+00,\n",
       "         7.16726188e-01,  -1.78054875e-01,  -9.76530546e-01,\n",
       "        -3.16919701e-01,  -4.46499515e-01,  -5.54439777e-02,\n",
       "         2.31003672e-01,   3.58220795e-01,   8.61874255e-01,\n",
       "         3.58787724e-01,   1.97204839e+00,  -7.63495561e-01,\n",
       "         3.56667325e-02,   1.67844715e+00,   1.00943606e+00,\n",
       "        -2.94165122e-01,  -1.87809997e+00,  -4.95130113e-01,\n",
       "        -4.81496473e-01,  -1.17435421e+00,  -5.50989478e-01,\n",
       "        -9.41004735e-01,  -7.70610399e-01,  -8.61475612e-02,\n",
       "         2.63806659e-01,  -2.52692691e+00,   3.45357586e-02,\n",
       "        -1.49914288e-01,   1.22630767e-01,   1.61845917e+00,\n",
       "         1.37784859e+00,   6.48365500e-01,  -2.07909628e+00,\n",
       "        -4.49883119e-01,   3.90731125e-01,   7.14626575e-01,\n",
       "         1.55868254e+00,   5.98083978e-01,  -1.23668743e+00,\n",
       "        -1.58802123e+00,  -3.88585292e-01,  -1.84195824e+00,\n",
       "        -1.18447798e+00,  -1.07447908e+00,  -5.70035827e-01,\n",
       "         2.99936832e-01,   6.28611949e-01,  -8.61114469e-01,\n",
       "        -2.97594614e-01,   2.21113433e+00,  -7.88779638e-01,\n",
       "         8.73470807e-01,   1.39343041e+00,  -3.06484788e-02,\n",
       "        -2.73966504e+00,   6.40762441e-01,   1.12734945e+00,\n",
       "         7.06189539e-02,  -1.54657247e+00,  -6.67394645e-01,\n",
       "        -9.14615462e-01,  -6.69731560e-01,   1.58488529e-01,\n",
       "         1.13174262e+00,  -1.29100299e+00,  -7.37846213e-02,\n",
       "        -3.55287905e-01,  -3.36672802e-01,  -7.37739376e-01,\n",
       "        -6.07537620e-01,  -5.66502583e-01,   2.81876326e-01,\n",
       "        -4.19590803e-01,   6.43326351e-01,  -7.20841996e-01,\n",
       "         6.48868702e-01,  -3.28394034e-01,  -2.35978277e+00,\n",
       "        -2.25718716e-01,  -1.88083200e+00,  -2.33278669e-01,\n",
       "         3.30036398e-01,  -1.19316836e+00,   8.14233775e-01,\n",
       "        -4.64914690e-01,   1.38580725e+00,   1.75494415e-01,\n",
       "         2.05985056e+00,   7.17507640e-01,   8.05848585e-01,\n",
       "        -3.42513933e-01,   5.53164668e-01,   1.10386110e+00,\n",
       "        -9.22685069e-01,   9.86206354e-01,   4.19361915e-01,\n",
       "         1.46825622e-01,  -1.61886951e+00,  -4.11521238e-01,\n",
       "        -5.80786660e-01,   2.09347583e-01,  -1.05967821e-01,\n",
       "        -7.45386894e-01,  -1.10242381e+00,  -8.56477570e-01,\n",
       "         4.81251686e-01,   2.01110065e-01,   2.77184976e-01,\n",
       "        -1.04998681e+00,  -1.19762005e+00,   2.49656057e-02,\n",
       "        -1.88204291e-01,   3.64937541e-01,   1.31248303e+00,\n",
       "         7.23597550e-01,   6.12450716e-01,  -7.87336763e-02,\n",
       "         2.13020353e-01,  -7.55864134e-01,   2.00277441e+00,\n",
       "         1.46272146e+00,  -3.39051648e-01,   1.53467734e+00,\n",
       "         9.03662411e-01,  -5.14974103e-01,  -1.08406711e+00,\n",
       "        -1.24879710e+00,   1.63944197e+00,  -1.89201170e-01,\n",
       "         2.84234242e-02,   1.23086031e+00,  -5.31072773e-01,\n",
       "         1.96017043e-01,   8.04816025e-01,  -3.93272134e-01,\n",
       "         4.93486423e-02,   1.44808887e+00,   5.64916872e-01,\n",
       "         4.31427156e-02,  -3.83876823e-01,   1.04016730e-01,\n",
       "        -5.45510695e-01,   1.80656020e+00,   2.85310507e+00,\n",
       "         1.39620212e+00,  -1.77507017e+00,  -5.14080002e-01,\n",
       "         2.90231120e-01,   8.97485835e-01,  -1.05372380e+00,\n",
       "         1.24361826e+00,  -1.41983998e+00,  -9.90717029e-02,\n",
       "        -2.80429607e-01,   5.95265634e-01,   1.18808416e+00,\n",
       "         1.14360534e+00,   8.18771780e-02,   7.05301621e-01,\n",
       "         5.52472895e-01,   5.30025017e-01,  -6.06955402e-02,\n",
       "        -7.29696494e-01,   8.54353264e-01,  -7.02792360e-01,\n",
       "        -6.67420961e-02,   1.33230214e+00,   1.32911660e+00,\n",
       "        -8.27655330e-01,   4.71628780e-01,  -7.38198542e-01,\n",
       "        -3.52353665e-01,   4.80168524e-01,   1.07022771e+00,\n",
       "        -8.18451580e-01,  -9.21707670e-01,  -9.71968253e-01,\n",
       "         4.73197561e-01,   4.53195663e-01,   3.26443254e-01,\n",
       "        -5.01990751e-01,   1.41570742e+00,   2.27537602e+00,\n",
       "        -4.77944434e-01,  -2.44337210e+00,   5.04304179e-01,\n",
       "         1.17506926e+00,   2.53381551e-01,   2.46873173e-01,\n",
       "        -8.45136872e-01,  -1.06189363e-01,  -1.26739287e+00,\n",
       "        -6.00343759e-01,   3.36149473e-01,   6.20899243e-01,\n",
       "        -1.35319736e+00,  -4.58814222e-01,  -7.16694467e-01,\n",
       "        -5.13873508e-01,  -9.00224952e-01,   1.00842474e+00,\n",
       "        -8.92706810e-01,  -1.40723099e+00,   1.27282973e+00,\n",
       "         1.01109719e-01,   4.42720158e-01,  -1.34963020e+00,\n",
       "         4.68164256e-03,  -1.01228264e+00,   8.39859077e-01,\n",
       "         1.28951104e+00,  -1.65117838e-02,  -2.35566488e+00,\n",
       "        -6.13716169e-01,   2.44664949e-01,   1.57208886e+00,\n",
       "         1.60086924e+00,   2.80090629e-01,   1.88407831e+00,\n",
       "         1.45654463e+00,  -2.91698151e-02,  -1.10602898e+00,\n",
       "        -4.49200306e-01,   2.10395932e+00,   4.33947257e-02,\n",
       "         3.94353374e-01,  -1.17485697e+00,  -5.85473785e-01,\n",
       "         1.15407320e+00,  -1.40733240e+00,  -1.09140082e+00,\n",
       "         2.13415713e+00,  -4.72450813e-01,   1.35642724e+00,\n",
       "        -4.41352788e-01,  -1.93618735e-01,   2.34546536e+00,\n",
       "        -5.85867269e-01,   1.84989250e+00,   2.85603532e-01,\n",
       "        -3.01516116e-01,   5.18514568e-01,  -9.33696185e-02,\n",
       "         1.12332539e+00,   4.07416292e-01,   4.07096356e-01,\n",
       "         7.43126312e-02,   1.28743649e+00,  -8.16769993e-01,\n",
       "         7.71553076e-02,  -4.37978753e-01,   1.08054599e+00,\n",
       "         4.10947260e-01,   1.32608023e-01,  -1.46747091e+00,\n",
       "         6.95514073e-01,  -1.70180205e-01,  -1.05365098e-01,\n",
       "        -3.05441683e-02,  -2.59541829e-02,   1.23314264e+00,\n",
       "         8.62713267e-01,   3.99516539e-01,   1.46890790e+00,\n",
       "        -1.25969877e+00,   1.93948313e+00,  -2.02102574e+00,\n",
       "        -1.49463353e-01,   4.21198258e-02,   1.06590438e+00,\n",
       "         7.97748844e-01,  -4.03150076e-01,  -1.43963093e+00,\n",
       "        -1.54714297e+00,  -2.19902834e-01,   1.15764850e+00,\n",
       "        -1.29583874e+00,   1.42567313e+00,   1.49781826e+00,\n",
       "        -7.07946216e-01,  -5.57270072e-01,   8.17505448e-01,\n",
       "         1.52989169e+00,  -2.08422400e+00,   5.46829063e-01,\n",
       "         7.79325540e-01,  -1.36525606e+00,  -4.90851876e-01,\n",
       "        -1.74337906e+00,  -1.84746061e+00,   1.23700191e+00,\n",
       "         9.02988396e-01,  -1.60691927e+00,   5.69443543e-02,\n",
       "         1.54805868e-01,   2.79771795e+00,   1.98392595e-01,\n",
       "         4.19035838e-01,  -6.13526848e-01,  -3.36056209e-01,\n",
       "         5.78507875e-01,   1.55938537e+00,   5.61370154e-01,\n",
       "         7.33992929e-01,  -5.89907024e-01,   3.72032834e-01,\n",
       "         2.96536676e-01,   1.78014253e+00,  -7.18952345e-01,\n",
       "        -7.44508271e-01,   3.60762496e-01,  -1.26486515e+00,\n",
       "        -1.22587051e+00,  -4.09640131e-01,  -1.85657040e-01,\n",
       "         1.03962498e+00,  -1.22639531e+00,   5.57759503e-01,\n",
       "        -2.52138453e+00,   2.12779570e-01,   7.83528274e-01,\n",
       "         3.50299026e-01,   1.20709628e+00,  -3.21957972e-01,\n",
       "         1.66749667e+00,   2.23712332e-02,  -1.00678378e+00,\n",
       "         1.92721484e+00,  -1.45983028e+00,   2.42048566e-01,\n",
       "         3.02283472e-01,  -6.10901181e-01,   1.05178423e+00,\n",
       "        -1.63158118e-01,   2.53008820e-01,   3.93358574e-01,\n",
       "        -7.05601797e-01,   2.06437660e-01,  -2.54424486e-01,\n",
       "        -3.81016424e-03,  -9.92010723e-01,  -1.52737180e+00,\n",
       "        -2.15912486e-01,  -4.42486216e-01,   2.53595566e+00,\n",
       "        -1.38507439e+00,  -1.00573358e-01,  -3.39056673e-02,\n",
       "        -1.67634504e+00,   2.20657973e-01,  -4.76751700e-02,\n",
       "         1.50715071e+00,  -9.73552235e-01,  -4.76489597e-01,\n",
       "        -6.04694133e-01,  -5.22976679e-01,   9.47034107e-01,\n",
       "         1.12806929e+00,  -1.54745998e-02,  -2.94495541e-01,\n",
       "        -9.73035568e-01,   8.11878763e-01,   9.00378678e-02,\n",
       "         1.12015563e+00,   1.03853880e+00,  -1.66448131e+00,\n",
       "         9.42504017e-01,   2.30015671e+00,   1.88120023e+00,\n",
       "        -7.53068520e-01,   8.03729301e-01,   1.75745005e+00,\n",
       "        -8.90507176e-01,  -1.30702228e+00,   4.20127217e-01,\n",
       "        -1.05668792e+00,   2.10682308e-01,   6.04850999e-01,\n",
       "        -1.48303375e+00,   7.80595085e-01,   1.79395336e-01,\n",
       "        -8.26446585e-01,   2.44926057e-01,  -1.61440301e+00,\n",
       "         9.94863646e-01,   1.91787889e+00,   1.48185546e+00,\n",
       "        -1.23764146e+00,  -9.58896161e-01,   1.95916512e+00,\n",
       "         5.43581640e-01,  -8.66434455e-01,   2.46995972e-01,\n",
       "        -2.01153924e+00,   6.86895988e-01,  -1.53143762e+00,\n",
       "        -9.96578660e-01,  -6.30771831e-01,  -2.66853943e-01,\n",
       "        -5.15149683e-01,   1.03463309e+00,  -7.65618921e-02,\n",
       "        -4.02959823e-01,  -1.00825021e-01,  -1.34577397e+00,\n",
       "        -1.64539623e+00,   1.36979390e+00,  -1.13029495e+00,\n",
       "         6.08279168e-01,  -1.16734922e+00,   1.16000089e-01,\n",
       "         1.45248485e+00,   5.67845167e-01,   1.16764150e+00,\n",
       "        -8.38705859e-01,  -1.82494676e-01,  -2.48286392e+00,\n",
       "        -6.45908884e-01,  -1.36083850e+00,  -1.41921904e+00,\n",
       "        -4.94125786e-01,  -2.07534491e-01,  -9.99291660e-01,\n",
       "        -7.44389947e-01,  -4.19593306e-01,  -2.15471794e-01,\n",
       "        -1.09624070e+00,   8.41158395e-01,   3.04708622e-01,\n",
       "        -2.03560284e+00,  -1.39959279e-01,  -7.03059017e-01,\n",
       "        -2.12660567e+00,   2.40750656e-02,  -1.16861034e-01,\n",
       "        -1.40334664e+00,  -1.10605889e+00,  -7.65710206e-01,\n",
       "        -3.89751092e-01,  -7.81546274e-01,  -2.00526738e-01,\n",
       "         6.38359243e-01,   1.16601770e+00,   1.08257154e+00,\n",
       "         5.04066399e-01,   1.78919536e+00,  -3.87275724e-01,\n",
       "         1.20384287e+00,  -1.72941376e+00,  -1.21026867e+00,\n",
       "         1.74345480e-01,   6.78766435e-02,   4.51356757e-01,\n",
       "        -1.27847899e+00,   2.06738773e-01,   2.03509203e+00,\n",
       "        -3.49730610e-01,  -3.29266756e-01,   1.35044856e+00,\n",
       "        -5.71065442e-01,   8.58169194e-01,   8.04389919e-01,\n",
       "         1.17915250e-01,  -4.34949480e-01,  -1.31495386e+00,\n",
       "        -6.40237965e-01,  -7.64437942e-01,   3.33001095e-01,\n",
       "        -8.63502217e-01,   4.08845249e-01,   2.06254915e-01,\n",
       "        -8.56772205e-01,   3.74768540e-02,  -2.36152395e-01,\n",
       "        -4.30887183e-01,  -8.15164243e-01,   2.85503823e-01,\n",
       "        -1.01651249e+00,   1.56881745e+00,   1.41349403e+00,\n",
       "        -2.09773871e-02,  -9.88649101e-01,  -7.40878852e-01,\n",
       "        -1.93897321e-01,  -7.63022038e-02,  -1.65858954e+00,\n",
       "         1.52625529e+00,   7.29957775e-01,   9.36367316e-01,\n",
       "         1.75114310e+00,  -1.11728253e+00,   8.16367196e-02,\n",
       "         6.19758873e-01,  -7.24176229e-01,  -1.67384846e+00,\n",
       "         4.57422831e-01,   5.09975457e-01,   7.94991853e-01,\n",
       "        -1.91661009e+00,  -7.93922274e-01,   7.06358709e-01,\n",
       "         2.68746027e-01,   8.58267489e-01,   1.66446454e+00,\n",
       "         8.60258568e-01,  -1.52237009e+00,   1.74732083e+00,\n",
       "         2.15811825e+00,  -8.31324914e-01,  -6.94795187e-02,\n",
       "        -1.13483509e+00,   1.38380323e+00,   3.03563277e-01,\n",
       "         7.62881617e-01,   7.99197584e-01,   2.05734259e+00,\n",
       "         1.78718076e+00,  -1.75740940e+00,   6.66255634e-01,\n",
       "         3.15406956e-01,   8.38677705e-01,  -2.06675894e-01,\n",
       "        -2.25985467e-01,   2.00498428e+00,  -8.38892816e-01,\n",
       "        -7.10407005e-01,   7.63305889e-02,   6.56794061e-01,\n",
       "        -1.64989440e+00,  -6.34191891e-01,   1.46518942e+00,\n",
       "        -3.50449065e-01,  -2.35330162e-01,  -6.39569668e-01,\n",
       "        -1.47782831e-01,   2.11150121e+00,   1.57884259e+00,\n",
       "         1.32124446e+00,  -3.30196627e-01,  -5.76735440e-01,\n",
       "         1.18925434e+00,   8.15682129e-02,  -1.35028263e-01,\n",
       "         2.18475895e-01,   1.08516175e+00,   6.90727633e-01,\n",
       "         9.47746747e-01,   2.04014028e+00,  -1.00605338e+00,\n",
       "        -2.63331072e-01,   1.02509014e+00,  -1.05821831e+00,\n",
       "        -1.87312007e+00,   6.71924860e-01,  -6.34647675e-01,\n",
       "        -1.52947238e+00,   6.29040715e-01,  -6.70152921e-02,\n",
       "         1.73775090e-01,   6.92298660e-02,   1.31762069e-01,\n",
       "         1.83161165e+00,   7.36022830e-01,   1.12304457e-01,\n",
       "        -8.89297883e-02,   5.02510439e-01,   5.83342393e-02,\n",
       "        -2.92926360e-01,   1.16825204e-01,   7.41565713e-02,\n",
       "        -4.84682621e-01,  -1.89658394e+00,  -6.57627821e-01,\n",
       "        -1.39830062e+00,   1.55124027e-01,  -1.06192438e+00,\n",
       "         7.68874447e-01,  -2.31118358e-01,  -4.16121785e-01,\n",
       "        -5.94184403e-01,  -1.13434773e+00,   3.63101038e-01,\n",
       "         8.19374796e-02,  -4.14724973e-01,   1.86385329e+00,\n",
       "         6.81021833e-02,  -1.96317382e-01,  -9.30499631e-01,\n",
       "        -1.74890846e-01,  -1.19597848e+00,   6.29700172e-01,\n",
       "         9.81976421e-01,  -6.52716793e-01,  -7.11408809e-01,\n",
       "         4.23279257e-01,  -1.40740367e+00,  -4.18046572e-01,\n",
       "         5.71181791e-01,   1.05619301e+00,  -1.05649768e-02,\n",
       "        -7.46712942e-02,   3.00612220e-01,   5.51053692e-01,\n",
       "        -5.38914260e-01,  -3.59939497e-01,  -7.81074630e-01,\n",
       "        -6.62066156e-01,   8.53269738e-01,   2.81314509e-01,\n",
       "         5.47815275e-01,  -7.21292283e-01,  -6.08478986e-02,\n",
       "        -2.07938373e+00,  -3.28218316e-01,  -9.64204516e-01,\n",
       "         3.76562848e-01,  -4.49498978e-01,   6.00060362e-02,\n",
       "        -2.35940248e-01,  -5.64495257e-01,  -9.62555312e-01,\n",
       "        -1.54162543e+00,   2.37395475e-01,   4.30981853e-01,\n",
       "         1.35065844e+00,   5.33620766e-01,  -2.93194659e-01,\n",
       "        -1.42188630e+00,   1.03715283e+00,  -9.19916668e-01,\n",
       "         9.82362215e-02,  -3.13473965e+00,   1.01016245e+00,\n",
       "        -1.19524158e+00,   4.00790049e-01,  -8.30432600e-01,\n",
       "         1.59534418e+00,  -3.69638589e-01,   1.33576903e+00,\n",
       "         2.19178455e+00,   8.99825979e-01,  -1.19714146e+00,\n",
       "         1.79951553e-02,  -1.14663636e+00,   3.75003031e-01,\n",
       "         2.54134668e+00,   3.82653860e-01,  -1.16763817e-01,\n",
       "        -1.07874058e+00,  -1.59768571e+00,  -1.61785770e+00,\n",
       "        -4.45695274e-01,   2.26801364e-01,  -1.17640368e+00,\n",
       "         1.64379737e+00,   1.20446580e+00,  -3.32317874e-01,\n",
       "        -2.07501108e-01,  -1.02219241e+00,  -7.62438803e-01,\n",
       "        -1.92078536e-01,   3.65958965e-01,   1.16943482e+00,\n",
       "         4.55536281e-01,  -7.29306442e-01,  -8.72868504e-01,\n",
       "         1.25165230e-01,   6.25659644e-01,  -6.50020090e-01,\n",
       "        -5.55340921e-01,  -6.42794247e-01,  -1.02308282e-01,\n",
       "         4.47934499e-01,   9.31052893e-01,  -2.25235111e+00,\n",
       "        -1.16843412e+00,   2.07437659e+00,   7.09738029e-01,\n",
       "        -4.11289644e-02,  -1.08941225e+00,  -2.42754036e-01,\n",
       "        -1.06867149e+00,  -7.97959455e-01,  -1.82192624e+00,\n",
       "        -9.89305741e-01,  -1.74927240e+00,  -2.10759471e-01,\n",
       "         1.17875433e-01,  -2.77609515e-01,   1.78454424e+00,\n",
       "        -9.78841369e-01,   4.13855646e-01,  -1.56439306e+00,\n",
       "        -9.92344221e-01,  -2.32841946e+00,  -1.11684192e+00,\n",
       "         8.76992386e-01,   5.06224753e-01,  -1.63538183e+00,\n",
       "         1.32116792e+00,   9.09963675e-01,  -8.54156494e-01,\n",
       "        -1.29055517e+00,  -7.95763741e-01,   5.66486320e-02,\n",
       "         1.60556970e+00,   5.91274633e-01,  -2.02138848e-01,\n",
       "        -3.35143444e-01,  -1.04983765e+00,   5.60985398e-01,\n",
       "        -1.12863519e-01,   1.22135531e+00,   9.56842936e-01,\n",
       "        -6.67405211e-01,   8.56180892e-01,  -4.93735440e-01,\n",
       "        -2.91129167e-02,   1.03751088e-01,   1.92267836e-01,\n",
       "        -1.06539714e+00,   1.02512038e-01,  -2.09867970e-01,\n",
       "        -1.24336068e+00,  -2.75135898e-01,   1.29801047e-01,\n",
       "         1.04939021e-01,  -1.17063892e+00,   1.52922009e+00,\n",
       "        -3.49318763e-01,   1.22626656e+00,   8.00248501e-02,\n",
       "        -1.34152289e+00,  -1.05031400e+00,   2.25184466e+00,\n",
       "         9.06909901e-01])"
      ]
     },
     "execution_count": 317,
     "metadata": {},
     "output_type": "execute_result"
    }
   ],
   "source": [
    "arr"
   ]
  },
  {
   "cell_type": "code",
   "execution_count": 318,
   "metadata": {
    "collapsed": true
   },
   "outputs": [],
   "source": [
    "np.save('some_array',arr)"
   ]
  },
  {
   "cell_type": "code",
   "execution_count": 323,
   "metadata": {},
   "outputs": [
    {
     "data": {
      "text/plain": [
       "array([ -5.98892161e-01,  -7.44956365e-01,  -6.51178571e-01,\n",
       "        -1.36727198e-01,  -7.15025651e-01,   7.92864967e-01,\n",
       "         2.14695484e+00,  -1.05423808e+00,   4.07667090e-02,\n",
       "        -9.16842419e-01,  -9.03331217e-01,   6.75887107e-01,\n",
       "         4.13109893e-01,  -7.77372349e-01,   3.98218050e-01,\n",
       "         1.36432020e+00,  -1.19661242e+00,  -1.39450682e-01,\n",
       "         7.10944744e-01,  -6.07022967e-01,   1.01547018e-01,\n",
       "        -1.99984839e-01,   3.63674956e-02,  -3.04079558e-01,\n",
       "         7.22227153e-01,  -9.75921562e-01,  -7.30998707e-01,\n",
       "         3.80086909e-01,  -6.69280894e-01,  -3.35224231e-01,\n",
       "        -6.83643907e-01,   1.62183903e-01,   1.24328376e-01,\n",
       "        -5.33084350e-01,   5.07090845e-01,  -1.60828972e-01,\n",
       "         6.65568712e-01,   8.73802639e-01,   2.57662749e-01,\n",
       "        -1.16395243e+00,   7.10200806e-01,   4.62977509e-01,\n",
       "         1.96170308e+00,   1.01736165e+00,   1.39553616e+00,\n",
       "        -5.99910500e-01,  -2.19196024e-01,   9.03494677e-01,\n",
       "         9.99790107e-01,  -1.46871583e-01,   1.12043945e+00,\n",
       "        -1.21788271e+00,  -3.35237329e-01,   1.62206109e+00,\n",
       "         2.07964186e-01,   5.61715567e-01,  -1.03436495e+00,\n",
       "        -9.87823055e-01,  -1.35600492e+00,  -9.96361052e-03,\n",
       "         8.24854784e-01,  -6.26867065e-01,   9.56877870e-02,\n",
       "         3.47397152e-01,   8.53280534e-01,  -6.41438743e-01,\n",
       "         2.29147533e-01,  -1.04993738e+00,   3.16656021e-01,\n",
       "        -5.85955425e-01,   5.72661344e-01,   3.32934495e-02,\n",
       "         2.78127355e+00,  -4.72638895e-01,   2.81279950e+00,\n",
       "        -5.58848832e-01,   6.46704293e-02,   7.57182680e-01,\n",
       "        -9.90105975e-01,  -4.89418615e-01,   1.02622680e+00,\n",
       "        -5.96452149e-01,   7.88243002e-02,  -5.40597924e-02,\n",
       "        -4.67109016e-01,   8.43893182e-01,   9.60845975e-01,\n",
       "        -1.08642127e+00,  -5.81177872e-01,   1.45092561e+00,\n",
       "        -1.37206811e+00,  -7.77442319e-02,  -1.92212638e+00,\n",
       "         1.17652201e+00,  -1.04619017e+00,  -2.14894313e-02,\n",
       "        -5.55664545e-01,   1.44641094e+00,  -1.57707778e+00,\n",
       "         1.41577375e+00,   1.93807496e+00,  -6.68145310e-01,\n",
       "        -2.36025291e-01,   2.23508741e-01,   4.66873954e-01,\n",
       "         1.30513315e+00,  -7.86948007e-01,  -1.01680756e+00,\n",
       "        -5.81110841e-01,  -7.78307358e-01,  -3.41200423e-01,\n",
       "         1.72557068e+00,  -8.07966497e-01,   4.12709086e-01,\n",
       "         1.42208819e+00,  -1.67616708e+00,   9.97717944e-01,\n",
       "        -8.68579901e-01,  -1.72822478e+00,   2.55151866e+00,\n",
       "         1.61892302e+00,   1.01780855e+00,  -9.40196182e-01,\n",
       "        -1.39513431e+00,  -1.71242050e-01,  -2.66106332e-01,\n",
       "        -4.76998269e-02,   1.36983753e-01,  -1.11624327e-01,\n",
       "        -2.23465735e-02,  -1.14576360e+00,   2.48024059e+00,\n",
       "         1.08825612e+00,   5.52411951e-01,   9.76646715e-01,\n",
       "        -6.72421369e-01,  -1.30561293e-01,  -3.57621098e-01,\n",
       "         2.58088936e-01,  -1.25105019e+00,  -9.44338175e-01,\n",
       "         1.88359947e+00,  -1.90002810e+00,  -9.43940934e-01,\n",
       "        -1.03298489e+00,  -4.80659264e-02,   1.48374039e+00,\n",
       "        -1.30854907e+00,  -2.68173728e-01,  -1.69603062e+00,\n",
       "         7.76092178e-02,  -2.01299381e+00,   1.68538039e+00,\n",
       "         2.77932543e+00,   4.05875274e-01,   9.70799833e-01,\n",
       "        -3.12666052e-01,   4.45551593e-01,  -1.22053620e+00,\n",
       "        -9.24533520e-01,   1.94986425e-01,  -7.91398619e-02,\n",
       "         1.42159437e-01,  -2.85742333e-01,  -1.32956104e+00,\n",
       "        -8.82027482e-01,  -2.23679230e-01,  -5.38792966e-02,\n",
       "         3.94047230e-01,   7.26602684e-01,   7.09761790e-01,\n",
       "        -2.31453104e-01,  -1.02434548e+00,   1.32649509e+00,\n",
       "        -4.75908486e-01,  -3.29077507e-01,  -9.47836674e-02,\n",
       "         1.51680968e-01,  -1.10304150e+00,  -2.30994772e-01,\n",
       "        -7.32800566e-01,   2.70317929e-01,  -1.67937650e+00,\n",
       "        -1.30058198e+00,   1.30927335e+00,  -1.97733442e-01,\n",
       "         9.62549746e-01,   7.01364138e-01,   1.29729773e+00,\n",
       "        -6.49153262e-01,  -1.31344847e+00,  -9.66648326e-01,\n",
       "        -2.76071360e+00,  -7.07349781e-01,   2.48331619e-01,\n",
       "         7.53791120e-01,  -4.01565562e-01,   2.53373579e+00,\n",
       "         2.35006680e-01,   8.67802311e-01,   7.50062512e-01,\n",
       "         1.59660805e+00,  -2.36072055e-01,   7.43873101e-01,\n",
       "        -9.19825714e-01,   3.24359605e-01,  -1.79289676e-01,\n",
       "        -2.42144444e-01,  -1.56550916e+00,   2.18324844e+00,\n",
       "        -1.79881694e-01,  -2.18377975e-01,  -1.25151793e+00,\n",
       "        -1.45557836e+00,   2.66794860e-01,   2.11873349e+00,\n",
       "        -1.33703226e+00,  -3.35612497e-01,   3.51622431e-01,\n",
       "         1.88359682e+00,  -8.73250960e-01,  -3.13627935e-01,\n",
       "         2.00425464e-01,  -3.14844372e-03,  -4.08723963e-01,\n",
       "        -1.24988251e-01,  -2.27304093e+00,   7.65686455e-05,\n",
       "        -6.49842772e-01,  -1.44080458e+00,  -2.18234154e-01,\n",
       "        -1.39755287e+00,  -2.85062143e-01,   2.59241975e-01,\n",
       "        -6.42372487e-02,   5.07420030e-01,   6.85061675e-01,\n",
       "        -1.10071552e+00,  -1.25792507e+00,  -2.45982024e+00,\n",
       "         3.05542870e-01,   1.82735597e+00,  -1.02184228e+00,\n",
       "         4.01438735e-01,  -1.17322563e+00,   4.49259323e-01,\n",
       "        -7.25878114e-01,  -5.67834440e-01,  -2.59985832e-01,\n",
       "         6.36504750e-01,  -5.69984456e-01,  -1.97638468e-01,\n",
       "         2.51375697e-01,  -1.67092154e+00,  -1.22115436e+00,\n",
       "        -1.28338771e+00,  -7.10284898e-01,  -1.44622321e-01,\n",
       "         6.46580634e-01,   6.59203284e-01,  -1.26847430e+00,\n",
       "         9.73926235e-01,   1.14076812e-01,   1.53959533e+00,\n",
       "         7.16726188e-01,  -1.78054875e-01,  -9.76530546e-01,\n",
       "        -3.16919701e-01,  -4.46499515e-01,  -5.54439777e-02,\n",
       "         2.31003672e-01,   3.58220795e-01,   8.61874255e-01,\n",
       "         3.58787724e-01,   1.97204839e+00,  -7.63495561e-01,\n",
       "         3.56667325e-02,   1.67844715e+00,   1.00943606e+00,\n",
       "        -2.94165122e-01,  -1.87809997e+00,  -4.95130113e-01,\n",
       "        -4.81496473e-01,  -1.17435421e+00,  -5.50989478e-01,\n",
       "        -9.41004735e-01,  -7.70610399e-01,  -8.61475612e-02,\n",
       "         2.63806659e-01,  -2.52692691e+00,   3.45357586e-02,\n",
       "        -1.49914288e-01,   1.22630767e-01,   1.61845917e+00,\n",
       "         1.37784859e+00,   6.48365500e-01,  -2.07909628e+00,\n",
       "        -4.49883119e-01,   3.90731125e-01,   7.14626575e-01,\n",
       "         1.55868254e+00,   5.98083978e-01,  -1.23668743e+00,\n",
       "        -1.58802123e+00,  -3.88585292e-01,  -1.84195824e+00,\n",
       "        -1.18447798e+00,  -1.07447908e+00,  -5.70035827e-01,\n",
       "         2.99936832e-01,   6.28611949e-01,  -8.61114469e-01,\n",
       "        -2.97594614e-01,   2.21113433e+00,  -7.88779638e-01,\n",
       "         8.73470807e-01,   1.39343041e+00,  -3.06484788e-02,\n",
       "        -2.73966504e+00,   6.40762441e-01,   1.12734945e+00,\n",
       "         7.06189539e-02,  -1.54657247e+00,  -6.67394645e-01,\n",
       "        -9.14615462e-01,  -6.69731560e-01,   1.58488529e-01,\n",
       "         1.13174262e+00,  -1.29100299e+00,  -7.37846213e-02,\n",
       "        -3.55287905e-01,  -3.36672802e-01,  -7.37739376e-01,\n",
       "        -6.07537620e-01,  -5.66502583e-01,   2.81876326e-01,\n",
       "        -4.19590803e-01,   6.43326351e-01,  -7.20841996e-01,\n",
       "         6.48868702e-01,  -3.28394034e-01,  -2.35978277e+00,\n",
       "        -2.25718716e-01,  -1.88083200e+00,  -2.33278669e-01,\n",
       "         3.30036398e-01,  -1.19316836e+00,   8.14233775e-01,\n",
       "        -4.64914690e-01,   1.38580725e+00,   1.75494415e-01,\n",
       "         2.05985056e+00,   7.17507640e-01,   8.05848585e-01,\n",
       "        -3.42513933e-01,   5.53164668e-01,   1.10386110e+00,\n",
       "        -9.22685069e-01,   9.86206354e-01,   4.19361915e-01,\n",
       "         1.46825622e-01,  -1.61886951e+00,  -4.11521238e-01,\n",
       "        -5.80786660e-01,   2.09347583e-01,  -1.05967821e-01,\n",
       "        -7.45386894e-01,  -1.10242381e+00,  -8.56477570e-01,\n",
       "         4.81251686e-01,   2.01110065e-01,   2.77184976e-01,\n",
       "        -1.04998681e+00,  -1.19762005e+00,   2.49656057e-02,\n",
       "        -1.88204291e-01,   3.64937541e-01,   1.31248303e+00,\n",
       "         7.23597550e-01,   6.12450716e-01,  -7.87336763e-02,\n",
       "         2.13020353e-01,  -7.55864134e-01,   2.00277441e+00,\n",
       "         1.46272146e+00,  -3.39051648e-01,   1.53467734e+00,\n",
       "         9.03662411e-01,  -5.14974103e-01,  -1.08406711e+00,\n",
       "        -1.24879710e+00,   1.63944197e+00,  -1.89201170e-01,\n",
       "         2.84234242e-02,   1.23086031e+00,  -5.31072773e-01,\n",
       "         1.96017043e-01,   8.04816025e-01,  -3.93272134e-01,\n",
       "         4.93486423e-02,   1.44808887e+00,   5.64916872e-01,\n",
       "         4.31427156e-02,  -3.83876823e-01,   1.04016730e-01,\n",
       "        -5.45510695e-01,   1.80656020e+00,   2.85310507e+00,\n",
       "         1.39620212e+00,  -1.77507017e+00,  -5.14080002e-01,\n",
       "         2.90231120e-01,   8.97485835e-01,  -1.05372380e+00,\n",
       "         1.24361826e+00,  -1.41983998e+00,  -9.90717029e-02,\n",
       "        -2.80429607e-01,   5.95265634e-01,   1.18808416e+00,\n",
       "         1.14360534e+00,   8.18771780e-02,   7.05301621e-01,\n",
       "         5.52472895e-01,   5.30025017e-01,  -6.06955402e-02,\n",
       "        -7.29696494e-01,   8.54353264e-01,  -7.02792360e-01,\n",
       "        -6.67420961e-02,   1.33230214e+00,   1.32911660e+00,\n",
       "        -8.27655330e-01,   4.71628780e-01,  -7.38198542e-01,\n",
       "        -3.52353665e-01,   4.80168524e-01,   1.07022771e+00,\n",
       "        -8.18451580e-01,  -9.21707670e-01,  -9.71968253e-01,\n",
       "         4.73197561e-01,   4.53195663e-01,   3.26443254e-01,\n",
       "        -5.01990751e-01,   1.41570742e+00,   2.27537602e+00,\n",
       "        -4.77944434e-01,  -2.44337210e+00,   5.04304179e-01,\n",
       "         1.17506926e+00,   2.53381551e-01,   2.46873173e-01,\n",
       "        -8.45136872e-01,  -1.06189363e-01,  -1.26739287e+00,\n",
       "        -6.00343759e-01,   3.36149473e-01,   6.20899243e-01,\n",
       "        -1.35319736e+00,  -4.58814222e-01,  -7.16694467e-01,\n",
       "        -5.13873508e-01,  -9.00224952e-01,   1.00842474e+00,\n",
       "        -8.92706810e-01,  -1.40723099e+00,   1.27282973e+00,\n",
       "         1.01109719e-01,   4.42720158e-01,  -1.34963020e+00,\n",
       "         4.68164256e-03,  -1.01228264e+00,   8.39859077e-01,\n",
       "         1.28951104e+00,  -1.65117838e-02,  -2.35566488e+00,\n",
       "        -6.13716169e-01,   2.44664949e-01,   1.57208886e+00,\n",
       "         1.60086924e+00,   2.80090629e-01,   1.88407831e+00,\n",
       "         1.45654463e+00,  -2.91698151e-02,  -1.10602898e+00,\n",
       "        -4.49200306e-01,   2.10395932e+00,   4.33947257e-02,\n",
       "         3.94353374e-01,  -1.17485697e+00,  -5.85473785e-01,\n",
       "         1.15407320e+00,  -1.40733240e+00,  -1.09140082e+00,\n",
       "         2.13415713e+00,  -4.72450813e-01,   1.35642724e+00,\n",
       "        -4.41352788e-01,  -1.93618735e-01,   2.34546536e+00,\n",
       "        -5.85867269e-01,   1.84989250e+00,   2.85603532e-01,\n",
       "        -3.01516116e-01,   5.18514568e-01,  -9.33696185e-02,\n",
       "         1.12332539e+00,   4.07416292e-01,   4.07096356e-01,\n",
       "         7.43126312e-02,   1.28743649e+00,  -8.16769993e-01,\n",
       "         7.71553076e-02,  -4.37978753e-01,   1.08054599e+00,\n",
       "         4.10947260e-01,   1.32608023e-01,  -1.46747091e+00,\n",
       "         6.95514073e-01,  -1.70180205e-01,  -1.05365098e-01,\n",
       "        -3.05441683e-02,  -2.59541829e-02,   1.23314264e+00,\n",
       "         8.62713267e-01,   3.99516539e-01,   1.46890790e+00,\n",
       "        -1.25969877e+00,   1.93948313e+00,  -2.02102574e+00,\n",
       "        -1.49463353e-01,   4.21198258e-02,   1.06590438e+00,\n",
       "         7.97748844e-01,  -4.03150076e-01,  -1.43963093e+00,\n",
       "        -1.54714297e+00,  -2.19902834e-01,   1.15764850e+00,\n",
       "        -1.29583874e+00,   1.42567313e+00,   1.49781826e+00,\n",
       "        -7.07946216e-01,  -5.57270072e-01,   8.17505448e-01,\n",
       "         1.52989169e+00,  -2.08422400e+00,   5.46829063e-01,\n",
       "         7.79325540e-01,  -1.36525606e+00,  -4.90851876e-01,\n",
       "        -1.74337906e+00,  -1.84746061e+00,   1.23700191e+00,\n",
       "         9.02988396e-01,  -1.60691927e+00,   5.69443543e-02,\n",
       "         1.54805868e-01,   2.79771795e+00,   1.98392595e-01,\n",
       "         4.19035838e-01,  -6.13526848e-01,  -3.36056209e-01,\n",
       "         5.78507875e-01,   1.55938537e+00,   5.61370154e-01,\n",
       "         7.33992929e-01,  -5.89907024e-01,   3.72032834e-01,\n",
       "         2.96536676e-01,   1.78014253e+00,  -7.18952345e-01,\n",
       "        -7.44508271e-01,   3.60762496e-01,  -1.26486515e+00,\n",
       "        -1.22587051e+00,  -4.09640131e-01,  -1.85657040e-01,\n",
       "         1.03962498e+00,  -1.22639531e+00,   5.57759503e-01,\n",
       "        -2.52138453e+00,   2.12779570e-01,   7.83528274e-01,\n",
       "         3.50299026e-01,   1.20709628e+00,  -3.21957972e-01,\n",
       "         1.66749667e+00,   2.23712332e-02,  -1.00678378e+00,\n",
       "         1.92721484e+00,  -1.45983028e+00,   2.42048566e-01,\n",
       "         3.02283472e-01,  -6.10901181e-01,   1.05178423e+00,\n",
       "        -1.63158118e-01,   2.53008820e-01,   3.93358574e-01,\n",
       "        -7.05601797e-01,   2.06437660e-01,  -2.54424486e-01,\n",
       "        -3.81016424e-03,  -9.92010723e-01,  -1.52737180e+00,\n",
       "        -2.15912486e-01,  -4.42486216e-01,   2.53595566e+00,\n",
       "        -1.38507439e+00,  -1.00573358e-01,  -3.39056673e-02,\n",
       "        -1.67634504e+00,   2.20657973e-01,  -4.76751700e-02,\n",
       "         1.50715071e+00,  -9.73552235e-01,  -4.76489597e-01,\n",
       "        -6.04694133e-01,  -5.22976679e-01,   9.47034107e-01,\n",
       "         1.12806929e+00,  -1.54745998e-02,  -2.94495541e-01,\n",
       "        -9.73035568e-01,   8.11878763e-01,   9.00378678e-02,\n",
       "         1.12015563e+00,   1.03853880e+00,  -1.66448131e+00,\n",
       "         9.42504017e-01,   2.30015671e+00,   1.88120023e+00,\n",
       "        -7.53068520e-01,   8.03729301e-01,   1.75745005e+00,\n",
       "        -8.90507176e-01,  -1.30702228e+00,   4.20127217e-01,\n",
       "        -1.05668792e+00,   2.10682308e-01,   6.04850999e-01,\n",
       "        -1.48303375e+00,   7.80595085e-01,   1.79395336e-01,\n",
       "        -8.26446585e-01,   2.44926057e-01,  -1.61440301e+00,\n",
       "         9.94863646e-01,   1.91787889e+00,   1.48185546e+00,\n",
       "        -1.23764146e+00,  -9.58896161e-01,   1.95916512e+00,\n",
       "         5.43581640e-01,  -8.66434455e-01,   2.46995972e-01,\n",
       "        -2.01153924e+00,   6.86895988e-01,  -1.53143762e+00,\n",
       "        -9.96578660e-01,  -6.30771831e-01,  -2.66853943e-01,\n",
       "        -5.15149683e-01,   1.03463309e+00,  -7.65618921e-02,\n",
       "        -4.02959823e-01,  -1.00825021e-01,  -1.34577397e+00,\n",
       "        -1.64539623e+00,   1.36979390e+00,  -1.13029495e+00,\n",
       "         6.08279168e-01,  -1.16734922e+00,   1.16000089e-01,\n",
       "         1.45248485e+00,   5.67845167e-01,   1.16764150e+00,\n",
       "        -8.38705859e-01,  -1.82494676e-01,  -2.48286392e+00,\n",
       "        -6.45908884e-01,  -1.36083850e+00,  -1.41921904e+00,\n",
       "        -4.94125786e-01,  -2.07534491e-01,  -9.99291660e-01,\n",
       "        -7.44389947e-01,  -4.19593306e-01,  -2.15471794e-01,\n",
       "        -1.09624070e+00,   8.41158395e-01,   3.04708622e-01,\n",
       "        -2.03560284e+00,  -1.39959279e-01,  -7.03059017e-01,\n",
       "        -2.12660567e+00,   2.40750656e-02,  -1.16861034e-01,\n",
       "        -1.40334664e+00,  -1.10605889e+00,  -7.65710206e-01,\n",
       "        -3.89751092e-01,  -7.81546274e-01,  -2.00526738e-01,\n",
       "         6.38359243e-01,   1.16601770e+00,   1.08257154e+00,\n",
       "         5.04066399e-01,   1.78919536e+00,  -3.87275724e-01,\n",
       "         1.20384287e+00,  -1.72941376e+00,  -1.21026867e+00,\n",
       "         1.74345480e-01,   6.78766435e-02,   4.51356757e-01,\n",
       "        -1.27847899e+00,   2.06738773e-01,   2.03509203e+00,\n",
       "        -3.49730610e-01,  -3.29266756e-01,   1.35044856e+00,\n",
       "        -5.71065442e-01,   8.58169194e-01,   8.04389919e-01,\n",
       "         1.17915250e-01,  -4.34949480e-01,  -1.31495386e+00,\n",
       "        -6.40237965e-01,  -7.64437942e-01,   3.33001095e-01,\n",
       "        -8.63502217e-01,   4.08845249e-01,   2.06254915e-01,\n",
       "        -8.56772205e-01,   3.74768540e-02,  -2.36152395e-01,\n",
       "        -4.30887183e-01,  -8.15164243e-01,   2.85503823e-01,\n",
       "        -1.01651249e+00,   1.56881745e+00,   1.41349403e+00,\n",
       "        -2.09773871e-02,  -9.88649101e-01,  -7.40878852e-01,\n",
       "        -1.93897321e-01,  -7.63022038e-02,  -1.65858954e+00,\n",
       "         1.52625529e+00,   7.29957775e-01,   9.36367316e-01,\n",
       "         1.75114310e+00,  -1.11728253e+00,   8.16367196e-02,\n",
       "         6.19758873e-01,  -7.24176229e-01,  -1.67384846e+00,\n",
       "         4.57422831e-01,   5.09975457e-01,   7.94991853e-01,\n",
       "        -1.91661009e+00,  -7.93922274e-01,   7.06358709e-01,\n",
       "         2.68746027e-01,   8.58267489e-01,   1.66446454e+00,\n",
       "         8.60258568e-01,  -1.52237009e+00,   1.74732083e+00,\n",
       "         2.15811825e+00,  -8.31324914e-01,  -6.94795187e-02,\n",
       "        -1.13483509e+00,   1.38380323e+00,   3.03563277e-01,\n",
       "         7.62881617e-01,   7.99197584e-01,   2.05734259e+00,\n",
       "         1.78718076e+00,  -1.75740940e+00,   6.66255634e-01,\n",
       "         3.15406956e-01,   8.38677705e-01,  -2.06675894e-01,\n",
       "        -2.25985467e-01,   2.00498428e+00,  -8.38892816e-01,\n",
       "        -7.10407005e-01,   7.63305889e-02,   6.56794061e-01,\n",
       "        -1.64989440e+00,  -6.34191891e-01,   1.46518942e+00,\n",
       "        -3.50449065e-01,  -2.35330162e-01,  -6.39569668e-01,\n",
       "        -1.47782831e-01,   2.11150121e+00,   1.57884259e+00,\n",
       "         1.32124446e+00,  -3.30196627e-01,  -5.76735440e-01,\n",
       "         1.18925434e+00,   8.15682129e-02,  -1.35028263e-01,\n",
       "         2.18475895e-01,   1.08516175e+00,   6.90727633e-01,\n",
       "         9.47746747e-01,   2.04014028e+00,  -1.00605338e+00,\n",
       "        -2.63331072e-01,   1.02509014e+00,  -1.05821831e+00,\n",
       "        -1.87312007e+00,   6.71924860e-01,  -6.34647675e-01,\n",
       "        -1.52947238e+00,   6.29040715e-01,  -6.70152921e-02,\n",
       "         1.73775090e-01,   6.92298660e-02,   1.31762069e-01,\n",
       "         1.83161165e+00,   7.36022830e-01,   1.12304457e-01,\n",
       "        -8.89297883e-02,   5.02510439e-01,   5.83342393e-02,\n",
       "        -2.92926360e-01,   1.16825204e-01,   7.41565713e-02,\n",
       "        -4.84682621e-01,  -1.89658394e+00,  -6.57627821e-01,\n",
       "        -1.39830062e+00,   1.55124027e-01,  -1.06192438e+00,\n",
       "         7.68874447e-01,  -2.31118358e-01,  -4.16121785e-01,\n",
       "        -5.94184403e-01,  -1.13434773e+00,   3.63101038e-01,\n",
       "         8.19374796e-02,  -4.14724973e-01,   1.86385329e+00,\n",
       "         6.81021833e-02,  -1.96317382e-01,  -9.30499631e-01,\n",
       "        -1.74890846e-01,  -1.19597848e+00,   6.29700172e-01,\n",
       "         9.81976421e-01,  -6.52716793e-01,  -7.11408809e-01,\n",
       "         4.23279257e-01,  -1.40740367e+00,  -4.18046572e-01,\n",
       "         5.71181791e-01,   1.05619301e+00,  -1.05649768e-02,\n",
       "        -7.46712942e-02,   3.00612220e-01,   5.51053692e-01,\n",
       "        -5.38914260e-01,  -3.59939497e-01,  -7.81074630e-01,\n",
       "        -6.62066156e-01,   8.53269738e-01,   2.81314509e-01,\n",
       "         5.47815275e-01,  -7.21292283e-01,  -6.08478986e-02,\n",
       "        -2.07938373e+00,  -3.28218316e-01,  -9.64204516e-01,\n",
       "         3.76562848e-01,  -4.49498978e-01,   6.00060362e-02,\n",
       "        -2.35940248e-01,  -5.64495257e-01,  -9.62555312e-01,\n",
       "        -1.54162543e+00,   2.37395475e-01,   4.30981853e-01,\n",
       "         1.35065844e+00,   5.33620766e-01,  -2.93194659e-01,\n",
       "        -1.42188630e+00,   1.03715283e+00,  -9.19916668e-01,\n",
       "         9.82362215e-02,  -3.13473965e+00,   1.01016245e+00,\n",
       "        -1.19524158e+00,   4.00790049e-01,  -8.30432600e-01,\n",
       "         1.59534418e+00,  -3.69638589e-01,   1.33576903e+00,\n",
       "         2.19178455e+00,   8.99825979e-01,  -1.19714146e+00,\n",
       "         1.79951553e-02,  -1.14663636e+00,   3.75003031e-01,\n",
       "         2.54134668e+00,   3.82653860e-01,  -1.16763817e-01,\n",
       "        -1.07874058e+00,  -1.59768571e+00,  -1.61785770e+00,\n",
       "        -4.45695274e-01,   2.26801364e-01,  -1.17640368e+00,\n",
       "         1.64379737e+00,   1.20446580e+00,  -3.32317874e-01,\n",
       "        -2.07501108e-01,  -1.02219241e+00,  -7.62438803e-01,\n",
       "        -1.92078536e-01,   3.65958965e-01,   1.16943482e+00,\n",
       "         4.55536281e-01,  -7.29306442e-01,  -8.72868504e-01,\n",
       "         1.25165230e-01,   6.25659644e-01,  -6.50020090e-01,\n",
       "        -5.55340921e-01,  -6.42794247e-01,  -1.02308282e-01,\n",
       "         4.47934499e-01,   9.31052893e-01,  -2.25235111e+00,\n",
       "        -1.16843412e+00,   2.07437659e+00,   7.09738029e-01,\n",
       "        -4.11289644e-02,  -1.08941225e+00,  -2.42754036e-01,\n",
       "        -1.06867149e+00,  -7.97959455e-01,  -1.82192624e+00,\n",
       "        -9.89305741e-01,  -1.74927240e+00,  -2.10759471e-01,\n",
       "         1.17875433e-01,  -2.77609515e-01,   1.78454424e+00,\n",
       "        -9.78841369e-01,   4.13855646e-01,  -1.56439306e+00,\n",
       "        -9.92344221e-01,  -2.32841946e+00,  -1.11684192e+00,\n",
       "         8.76992386e-01,   5.06224753e-01,  -1.63538183e+00,\n",
       "         1.32116792e+00,   9.09963675e-01,  -8.54156494e-01,\n",
       "        -1.29055517e+00,  -7.95763741e-01,   5.66486320e-02,\n",
       "         1.60556970e+00,   5.91274633e-01,  -2.02138848e-01,\n",
       "        -3.35143444e-01,  -1.04983765e+00,   5.60985398e-01,\n",
       "        -1.12863519e-01,   1.22135531e+00,   9.56842936e-01,\n",
       "        -6.67405211e-01,   8.56180892e-01,  -4.93735440e-01,\n",
       "        -2.91129167e-02,   1.03751088e-01,   1.92267836e-01,\n",
       "        -1.06539714e+00,   1.02512038e-01,  -2.09867970e-01,\n",
       "        -1.24336068e+00,  -2.75135898e-01,   1.29801047e-01,\n",
       "         1.04939021e-01,  -1.17063892e+00,   1.52922009e+00,\n",
       "        -3.49318763e-01,   1.22626656e+00,   8.00248501e-02,\n",
       "        -1.34152289e+00,  -1.05031400e+00,   2.25184466e+00,\n",
       "         9.06909901e-01])"
      ]
     },
     "execution_count": 323,
     "metadata": {},
     "output_type": "execute_result"
    }
   ],
   "source": [
    "np.load('some_array.npy')"
   ]
  },
  {
   "cell_type": "code",
   "execution_count": 324,
   "metadata": {
    "collapsed": true
   },
   "outputs": [],
   "source": [
    "np.savez('zrray_archive,npz',a=arr,b=arr[:10])"
   ]
  },
  {
   "cell_type": "code",
   "execution_count": 325,
   "metadata": {
    "collapsed": true
   },
   "outputs": [],
   "source": [
    "arch = np.load('zrray_archive,npz.npz')"
   ]
  },
  {
   "cell_type": "code",
   "execution_count": 326,
   "metadata": {},
   "outputs": [
    {
     "data": {
      "text/plain": [
       "array([-0.59889216, -0.74495637, -0.65117857, -0.1367272 , -0.71502565,\n",
       "        0.79286497,  2.14695484, -1.05423808,  0.04076671, -0.91684242])"
      ]
     },
     "execution_count": 326,
     "metadata": {},
     "output_type": "execute_result"
    }
   ],
   "source": [
    "arch['b']"
   ]
  },
  {
   "cell_type": "code",
   "execution_count": 327,
   "metadata": {},
   "outputs": [
    {
     "data": {
      "text/plain": [
       "numpy.lib.npyio.NpzFile"
      ]
     },
     "execution_count": 327,
     "metadata": {},
     "output_type": "execute_result"
    }
   ],
   "source": [
    "type(arch)"
   ]
  },
  {
   "cell_type": "code",
   "execution_count": 346,
   "metadata": {},
   "outputs": [
    {
     "ename": "SyntaxError",
     "evalue": "(unicode error) 'unicodeescape' codec can't decode bytes in position 2-3: truncated \\UXXXXXXXX escape (<ipython-input-346-774a15fc4ce3>, line 1)",
     "output_type": "error",
     "traceback": [
      "\u001b[1;36m  File \u001b[1;32m\"<ipython-input-346-774a15fc4ce3>\"\u001b[1;36m, line \u001b[1;32m1\u001b[0m\n\u001b[1;33m    arr = np.loadtxt( \"c:\\Users\\17870\\Desktop\\1.txt\")\u001b[0m\n\u001b[1;37m                     ^\u001b[0m\n\u001b[1;31mSyntaxError\u001b[0m\u001b[1;31m:\u001b[0m (unicode error) 'unicodeescape' codec can't decode bytes in position 2-3: truncated \\UXXXXXXXX escape\n"
     ]
    }
   ],
   "source": [
    "arr = np.loadtxt( \"c:\\Users\\17870\\Desktop\\1.txt\")"
   ]
  },
  {
   "cell_type": "code",
   "execution_count": 348,
   "metadata": {},
   "outputs": [
    {
     "data": {
      "text/plain": [
       "(array([1, 3, 5, 7, 8, 9, 3, 5]), array([2, 3, 4, 5, 6]))"
      ]
     },
     "execution_count": 348,
     "metadata": {},
     "output_type": "execute_result"
    }
   ],
   "source": [
    "x,y"
   ]
  },
  {
   "cell_type": "code",
   "execution_count": 350,
   "metadata": {
    "collapsed": true
   },
   "outputs": [],
   "source": [
    "x = randn(2,3)"
   ]
  },
  {
   "cell_type": "code",
   "execution_count": 351,
   "metadata": {
    "collapsed": true
   },
   "outputs": [],
   "source": [
    "y = randn(3,2)"
   ]
  },
  {
   "cell_type": "code",
   "execution_count": 353,
   "metadata": {},
   "outputs": [
    {
     "name": "stdout",
     "output_type": "stream",
     "text": [
      "[[-0.0338241  -0.33875523 -1.2156231 ]\n",
      " [ 0.16553962 -0.07953082  1.41749411]]\n",
      "[[-0.76016749 -0.41555454]\n",
      " [-0.72136396  1.60884056]\n",
      " [-1.57077315 -0.19248494]]\n",
      "[[ 2.17954591 -0.29695826]\n",
      " [-2.29502886 -0.46958941]]\n"
     ]
    }
   ],
   "source": [
    "print(x, y, x.dot(y),sep = '\\n')"
   ]
  },
  {
   "cell_type": "code",
   "execution_count": 354,
   "metadata": {},
   "outputs": [
    {
     "name": "stdout",
     "output_type": "stream",
     "text": [
      "[[-0.0338241  -0.33875523 -1.2156231 ]\n",
      " [ 0.16553962 -0.07953082  1.41749411]]\n",
      "[[-0.76016749 -0.41555454]\n",
      " [-0.72136396  1.60884056]\n",
      " [-1.57077315 -0.19248494]]\n",
      "[[ 2.17954591 -0.29695826]\n",
      " [-2.29502886 -0.46958941]]\n"
     ]
    }
   ],
   "source": [
    "print(x, y, np.dot(x,y),sep = '\\n')"
   ]
  },
  {
   "cell_type": "code",
   "execution_count": 356,
   "metadata": {},
   "outputs": [
    {
     "data": {
      "text/plain": [
       "array([ 1.,  1.,  1.])"
      ]
     },
     "execution_count": 356,
     "metadata": {},
     "output_type": "execute_result"
    }
   ],
   "source": [
    "np.ones(3)"
   ]
  },
  {
   "cell_type": "code",
   "execution_count": 357,
   "metadata": {},
   "outputs": [
    {
     "data": {
      "text/plain": [
       "array([-1.58820242,  1.50350291])"
      ]
     },
     "execution_count": 357,
     "metadata": {},
     "output_type": "execute_result"
    }
   ],
   "source": [
    "np.dot(x,np.ones(3))"
   ]
  },
  {
   "cell_type": "code",
   "execution_count": 358,
   "metadata": {},
   "outputs": [
    {
     "data": {
      "text/plain": [
       "array([-1.58820242,  1.50350291])"
      ]
     },
     "execution_count": 358,
     "metadata": {},
     "output_type": "execute_result"
    }
   ],
   "source": [
    "x.dot(np.ones(3))"
   ]
  },
  {
   "cell_type": "code",
   "execution_count": 364,
   "metadata": {
    "collapsed": true
   },
   "outputs": [],
   "source": [
    "from numpy.linalg import inv, qr\n",
    "x = np.ceil(randn(5,5))\n",
    "mat = x.T.dot(x)"
   ]
  },
  {
   "cell_type": "code",
   "execution_count": 365,
   "metadata": {},
   "outputs": [
    {
     "data": {
      "text/plain": [
       "array([[  4.,   5.,   3.,   1.,   2.],\n",
       "       [  5.,  18.,   8.,   2.,   9.],\n",
       "       [  3.,   8.,  12.,   3.,   2.],\n",
       "       [  1.,   2.,   3.,   1.,   1.],\n",
       "       [  2.,   9.,   2.,   1.,   7.]])"
      ]
     },
     "execution_count": 365,
     "metadata": {},
     "output_type": "execute_result"
    }
   ],
   "source": [
    "mat"
   ]
  },
  {
   "cell_type": "code",
   "execution_count": 366,
   "metadata": {},
   "outputs": [
    {
     "data": {
      "text/plain": [
       "array([[  0.609375,  -0.4375  ,   0.453125,  -1.578125,   0.484375],\n",
       "       [ -0.4375  ,   0.75    ,  -0.8125  ,   2.3125  ,  -0.9375  ],\n",
       "       [  0.453125,  -0.8125  ,   1.234375,  -3.609375,   1.078125],\n",
       "       [ -1.578125,   2.3125  ,  -3.609375,  11.984375,  -3.203125],\n",
       "       [  0.484375,  -0.9375  ,   1.078125,  -3.203125,   1.359375]])"
      ]
     },
     "execution_count": 366,
     "metadata": {},
     "output_type": "execute_result"
    }
   ],
   "source": [
    "inv(mat)"
   ]
  },
  {
   "cell_type": "code",
   "execution_count": 371,
   "metadata": {},
   "outputs": [
    {
     "data": {
      "text/plain": [
       "array([[  1.00000000e+00,   4.44089210e-16,  -1.33226763e-15,\n",
       "          0.00000000e+00,   8.88178420e-16],\n",
       "       [  1.66533454e-16,   1.00000000e+00,  -4.44089210e-16,\n",
       "          1.77635684e-15,  -2.22044605e-16],\n",
       "       [ -3.33066907e-16,   1.77635684e-15,   1.00000000e+00,\n",
       "          7.10542736e-15,   4.44089210e-16],\n",
       "       [ -5.55111512e-17,   4.44089210e-16,  -4.44089210e-16,\n",
       "          1.00000000e+00,   2.22044605e-16],\n",
       "       [ -1.66533454e-16,   0.00000000e+00,  -4.44089210e-16,\n",
       "          1.77635684e-15,   1.00000000e+00]])"
      ]
     },
     "execution_count": 371,
     "metadata": {},
     "output_type": "execute_result"
    }
   ],
   "source": [
    "mat.dot(inv(mat))"
   ]
  },
  {
   "cell_type": "code",
   "execution_count": 372,
   "metadata": {},
   "outputs": [
    {
     "data": {
      "text/plain": [
       "array([[ -7.41619849, -20.76535576, -12.80979739,  -3.50583928,\n",
       "         -9.97815796],\n",
       "       [  0.        ,  -8.1731267 ,  -1.59057855,  -0.39152703,\n",
       "         -5.60373058],\n",
       "       [  0.        ,   0.        ,  -7.96110236,  -1.81735568,\n",
       "          2.22724877],\n",
       "       [  0.        ,   0.        ,   0.        ,  -0.50300678,\n",
       "         -1.73332265],\n",
       "       [  0.        ,   0.        ,   0.        ,   0.        ,   0.2636716 ]])"
      ]
     },
     "execution_count": 372,
     "metadata": {},
     "output_type": "execute_result"
    }
   ],
   "source": [
    "q,r = qr(mat)\n",
    "r"
   ]
  },
  {
   "cell_type": "code",
   "execution_count": 373,
   "metadata": {},
   "outputs": [
    {
     "data": {
      "text/plain": [
       "\u001b[1;31mSignature:\u001b[0m \u001b[0minv\u001b[0m\u001b[1;33m(\u001b[0m\u001b[0ma\u001b[0m\u001b[1;33m)\u001b[0m\u001b[1;33m\u001b[0m\u001b[0m\n",
       "\u001b[1;31mDocstring:\u001b[0m\n",
       "Compute the (multiplicative) inverse of a matrix.\n",
       "\n",
       "Given a square matrix `a`, return the matrix `ainv` satisfying\n",
       "``dot(a, ainv) = dot(ainv, a) = eye(a.shape[0])``.\n",
       "\n",
       "Parameters\n",
       "----------\n",
       "a : (..., M, M) array_like\n",
       "    Matrix to be inverted.\n",
       "\n",
       "Returns\n",
       "-------\n",
       "ainv : (..., M, M) ndarray or matrix\n",
       "    (Multiplicative) inverse of the matrix `a`.\n",
       "\n",
       "Raises\n",
       "------\n",
       "LinAlgError\n",
       "    If `a` is not square or inversion fails.\n",
       "\n",
       "Notes\n",
       "-----\n",
       "\n",
       ".. versionadded:: 1.8.0\n",
       "\n",
       "Broadcasting rules apply, see the `numpy.linalg` documentation for\n",
       "details.\n",
       "\n",
       "Examples\n",
       "--------\n",
       ">>> from numpy.linalg import inv\n",
       ">>> a = np.array([[1., 2.], [3., 4.]])\n",
       ">>> ainv = inv(a)\n",
       ">>> np.allclose(np.dot(a, ainv), np.eye(2))\n",
       "True\n",
       ">>> np.allclose(np.dot(ainv, a), np.eye(2))\n",
       "True\n",
       "\n",
       "If a is a matrix object, then the return value is a matrix as well:\n",
       "\n",
       ">>> ainv = inv(np.matrix(a))\n",
       ">>> ainv\n",
       "matrix([[-2. ,  1. ],\n",
       "        [ 1.5, -0.5]])\n",
       "\n",
       "Inverses of several matrices can be computed at once:\n",
       "\n",
       ">>> a = np.array([[[1., 2.], [3., 4.]], [[1, 3], [3, 5]]])\n",
       ">>> inv(a)\n",
       "array([[[-2. ,  1. ],\n",
       "        [ 1.5, -0.5]],\n",
       "       [[-5. ,  2. ],\n",
       "        [ 3. , -1. ]]])\n",
       "\u001b[1;31mFile:\u001b[0m      d:\\programes\\anaconda\\lib\\site-packages\\numpy\\linalg\\linalg.py\n",
       "\u001b[1;31mType:\u001b[0m      function\n"
      ]
     },
     "metadata": {},
     "output_type": "display_data"
    }
   ],
   "source": [
    "inv?"
   ]
  },
  {
   "cell_type": "code",
   "execution_count": 376,
   "metadata": {},
   "outputs": [
    {
     "data": {
      "text/plain": [
       "array([[  4.,   5.,   3.,   1.,   2.],\n",
       "       [  5.,  18.,   8.,   2.,   9.],\n",
       "       [  3.,   8.,  12.,   3.,   2.],\n",
       "       [  1.,   2.,   3.,   1.,   1.],\n",
       "       [  2.,   9.,   2.,   1.,   7.]])"
      ]
     },
     "execution_count": 376,
     "metadata": {},
     "output_type": "execute_result"
    }
   ],
   "source": [
    "mat"
   ]
  },
  {
   "cell_type": "code",
   "execution_count": 379,
   "metadata": {},
   "outputs": [
    {
     "data": {
      "text/plain": [
       "42.0"
      ]
     },
     "execution_count": 379,
     "metadata": {},
     "output_type": "execute_result"
    }
   ],
   "source": [
    "mat.trace()"
   ]
  },
  {
   "cell_type": "code",
   "execution_count": 386,
   "metadata": {
    "collapsed": true
   },
   "outputs": [],
   "source": [
    "a = np.random.normal(size = (4,4))"
   ]
  },
  {
   "cell_type": "code",
   "execution_count": 387,
   "metadata": {},
   "outputs": [
    {
     "data": {
      "text/plain": [
       "array([[ 0.10046635, -0.16224885, -0.23032345, -0.03382592],\n",
       "       [ 1.14433109, -2.45213625,  0.46315938,  1.18348785],\n",
       "       [-0.75603902, -2.96618707,  0.27774584, -0.26475978],\n",
       "       [-1.95469162, -1.18972776,  0.1623853 ,  1.70988424]])"
      ]
     },
     "execution_count": 387,
     "metadata": {},
     "output_type": "execute_result"
    }
   ],
   "source": [
    "a"
   ]
  },
  {
   "cell_type": "code",
   "execution_count": 389,
   "metadata": {
    "collapsed": true
   },
   "outputs": [],
   "source": [
    "b = np.random.normal(0,1)"
   ]
  },
  {
   "cell_type": "code",
   "execution_count": 390,
   "metadata": {},
   "outputs": [
    {
     "data": {
      "text/plain": [
       "0.9436758741357529"
      ]
     },
     "execution_count": 390,
     "metadata": {},
     "output_type": "execute_result"
    }
   ],
   "source": [
    "b"
   ]
  },
  {
   "cell_type": "code",
   "execution_count": 391,
   "metadata": {
    "collapsed": true
   },
   "outputs": [],
   "source": [
    "from random import normalvariate\n",
    "N =1000000"
   ]
  },
  {
   "cell_type": "code",
   "execution_count": 392,
   "metadata": {},
   "outputs": [
    {
     "name": "stdout",
     "output_type": "stream",
     "text": [
      "797 ms ± 6.75 ms per loop (mean ± std. dev. of 7 runs, 1 loop each)\n"
     ]
    }
   ],
   "source": [
    "%timeit s = [normalvariate(0,1) for _ in range(N)]"
   ]
  },
  {
   "cell_type": "code",
   "execution_count": 393,
   "metadata": {},
   "outputs": [
    {
     "name": "stdout",
     "output_type": "stream",
     "text": [
      "32.7 ms ± 265 µs per loop (mean ± std. dev. of 7 runs, 10 loops each)\n"
     ]
    }
   ],
   "source": [
    "timeit np.random.normal(size =N)"
   ]
  },
  {
   "cell_type": "code",
   "execution_count": 405,
   "metadata": {
    "collapsed": true
   },
   "outputs": [],
   "source": [
    "a = np.random.binomial(100, 0.5,size = (10,10))"
   ]
  },
  {
   "cell_type": "code",
   "execution_count": 406,
   "metadata": {},
   "outputs": [
    {
     "data": {
      "text/plain": [
       "array([[43, 52, 49, 50, 51, 57, 53, 43, 52, 48],\n",
       "       [51, 38, 51, 50, 55, 57, 49, 49, 54, 52],\n",
       "       [46, 53, 49, 50, 51, 53, 50, 47, 50, 50],\n",
       "       [43, 39, 59, 48, 54, 53, 51, 45, 45, 53],\n",
       "       [52, 49, 54, 49, 41, 41, 53, 49, 45, 55],\n",
       "       [48, 58, 47, 57, 46, 53, 52, 44, 44, 56],\n",
       "       [51, 50, 47, 62, 41, 53, 38, 46, 54, 52],\n",
       "       [59, 58, 48, 59, 52, 52, 56, 43, 59, 46],\n",
       "       [51, 51, 54, 42, 53, 48, 50, 51, 52, 44],\n",
       "       [52, 51, 55, 39, 52, 45, 47, 48, 55, 52]])"
      ]
     },
     "execution_count": 406,
     "metadata": {},
     "output_type": "execute_result"
    }
   ],
   "source": [
    "a"
   ]
  },
  {
   "cell_type": "code",
   "execution_count": 410,
   "metadata": {
    "collapsed": true
   },
   "outputs": [],
   "source": [
    "b = np.random.normal(100,1,size = (4,4))"
   ]
  },
  {
   "cell_type": "code",
   "execution_count": 411,
   "metadata": {},
   "outputs": [
    {
     "data": {
      "text/plain": [
       "array([[  99.21364553,  101.08196515,  100.53372572,  102.43918105],\n",
       "       [  99.58316173,   99.77305567,  101.28941013,  100.07520532],\n",
       "       [  99.36750471,   98.65568738,   99.27395633,  100.39818149],\n",
       "       [  98.71845539,  100.25601042,  101.06847054,   99.2992785 ]])"
      ]
     },
     "execution_count": 411,
     "metadata": {},
     "output_type": "execute_result"
    }
   ],
   "source": [
    "b"
   ]
  },
  {
   "cell_type": "code",
   "execution_count": 414,
   "metadata": {},
   "outputs": [
    {
     "data": {
      "text/plain": [
       "array([[ 0.68405661,  1.62644738, -1.61619913, -0.61340946],\n",
       "       [-0.63620197,  2.22712538,  0.1728091 ,  0.09342018],\n",
       "       [-0.32833298, -0.21127319, -0.52896521,  0.18292127],\n",
       "       [ 0.35715031,  0.49926304,  0.04251783,  1.54817197]])"
      ]
     },
     "execution_count": 414,
     "metadata": {},
     "output_type": "execute_result"
    }
   ],
   "source": [
    "c = np.random.randn(4,4)\n",
    "c"
   ]
  },
  {
   "cell_type": "code",
   "execution_count": 418,
   "metadata": {},
   "outputs": [
    {
     "data": {
      "text/plain": [
       "-0.8057962485081775"
      ]
     },
     "execution_count": 418,
     "metadata": {},
     "output_type": "execute_result"
    }
   ],
   "source": [
    "np.random.normal()"
   ]
  },
  {
   "cell_type": "code",
   "execution_count": 428,
   "metadata": {},
   "outputs": [
    {
     "name": "stdout",
     "output_type": "stream",
     "text": [
      "1.26 ms ± 7.04 µs per loop (mean ± std. dev. of 7 runs, 1000 loops each)\n"
     ]
    }
   ],
   "source": [
    "%%timeit\n",
    "import random\n",
    "position = 0\n",
    "walk = [position]\n",
    "steps = 1000\n",
    "for i in range(steps):\n",
    "    step = 1 if random.randint(0,1) else -1\n",
    "    position += step\n",
    "    walk.append(position)"
   ]
  },
  {
   "cell_type": "code",
   "execution_count": 427,
   "metadata": {},
   "outputs": [
    {
     "name": "stdout",
     "output_type": "stream",
     "text": [
      "17.6 µs ± 126 ns per loop (mean ± std. dev. of 7 runs, 100000 loops each)\n"
     ]
    }
   ],
   "source": [
    "%%timeit\n",
    "nsteps = 1000\n",
    "draws = np.random.randint(0, 2, size = nsteps)\n",
    "steps = np.where(draws > 0, 1, -1)\n",
    "walk = steps.cumsum()"
   ]
  },
  {
   "cell_type": "code",
   "execution_count": 426,
   "metadata": {},
   "outputs": [
    {
     "data": {
      "text/plain": [
       "-35"
      ]
     },
     "execution_count": 426,
     "metadata": {},
     "output_type": "execute_result"
    }
   ],
   "source": [
    "walk.min()"
   ]
  },
  {
   "cell_type": "code",
   "execution_count": 429,
   "metadata": {},
   "outputs": [
    {
     "data": {
      "text/plain": [
       "12"
      ]
     },
     "execution_count": 429,
     "metadata": {},
     "output_type": "execute_result"
    }
   ],
   "source": [
    "walk.max()"
   ]
  },
  {
   "cell_type": "code",
   "execution_count": 431,
   "metadata": {},
   "outputs": [
    {
     "data": {
      "text/plain": [
       "59"
      ]
     },
     "execution_count": 431,
     "metadata": {},
     "output_type": "execute_result"
    }
   ],
   "source": [
    "(np.abs(walk) >= 10).argmax()"
   ]
  },
  {
   "cell_type": "code",
   "execution_count": 435,
   "metadata": {
    "collapsed": true
   },
   "outputs": [],
   "source": [
    "nwalks = 5000\n",
    "nsteps = 1000\n",
    "draws = np.random.randint(0, 2, size =(nwalks, nsteps)) #0或1\n",
    "steps = np.where(draws > 0, 1, -1)\n",
    "walks = steps.cumsum(1)"
   ]
  },
  {
   "cell_type": "code",
   "execution_count": 436,
   "metadata": {},
   "outputs": [
    {
     "data": {
      "text/plain": [
       "array([[ -1,   0,  -1, ..., -36, -35, -36],\n",
       "       [  1,   0,  -1, ..., -44, -43, -44],\n",
       "       [ -1,  -2,  -3, ...,  10,  11,  10],\n",
       "       ..., \n",
       "       [  1,   2,   1, ...,  36,  35,  36],\n",
       "       [  1,   2,   3, ..., -14, -13, -12],\n",
       "       [  1,   0,   1, ...,  24,  23,  24]], dtype=int32)"
      ]
     },
     "execution_count": 436,
     "metadata": {},
     "output_type": "execute_result"
    }
   ],
   "source": [
    "walks"
   ]
  },
  {
   "cell_type": "code",
   "execution_count": 437,
   "metadata": {},
   "outputs": [
    {
     "data": {
      "text/plain": [
       "108"
      ]
     },
     "execution_count": 437,
     "metadata": {},
     "output_type": "execute_result"
    }
   ],
   "source": [
    "walks.max()"
   ]
  },
  {
   "cell_type": "code",
   "execution_count": 438,
   "metadata": {},
   "outputs": [
    {
     "data": {
      "text/plain": [
       "-127"
      ]
     },
     "execution_count": 438,
     "metadata": {},
     "output_type": "execute_result"
    }
   ],
   "source": [
    "walks.min()"
   ]
  },
  {
   "cell_type": "code",
   "execution_count": 439,
   "metadata": {},
   "outputs": [
    {
     "data": {
      "text/plain": [
       "array([ True,  True,  True, ...,  True,  True,  True], dtype=bool)"
      ]
     },
     "execution_count": 439,
     "metadata": {},
     "output_type": "execute_result"
    }
   ],
   "source": [
    "(np.abs(walks) >= 30).any(1)"
   ]
  },
  {
   "cell_type": "code",
   "execution_count": 440,
   "metadata": {},
   "outputs": [
    {
     "data": {
      "text/plain": [
       "3421"
      ]
     },
     "execution_count": 440,
     "metadata": {},
     "output_type": "execute_result"
    }
   ],
   "source": [
    "(np.abs(walks) >= 30).any(1).sum()"
   ]
  },
  {
   "cell_type": "code",
   "execution_count": 442,
   "metadata": {},
   "outputs": [
    {
     "data": {
      "text/plain": [
       "346.08420000000001"
      ]
     },
     "execution_count": 442,
     "metadata": {},
     "output_type": "execute_result"
    }
   ],
   "source": [
    "(np.abs(walks) >= 30).argmax(1).mean()"
   ]
  },
  {
   "cell_type": "code",
   "execution_count": 443,
   "metadata": {
    "collapsed": true
   },
   "outputs": [],
   "source": [
    "from pandas import Series, DataFrame\n",
    "import pandas as pd"
   ]
  },
  {
   "cell_type": "code",
   "execution_count": 444,
   "metadata": {},
   "outputs": [
    {
     "data": {
      "text/plain": [
       "0    4\n",
       "1    7\n",
       "2   -5\n",
       "3    3\n",
       "dtype: int64"
      ]
     },
     "execution_count": 444,
     "metadata": {},
     "output_type": "execute_result"
    }
   ],
   "source": [
    "obj = Series([4, 7, -5, 3])\n",
    "obj"
   ]
  },
  {
   "cell_type": "code",
   "execution_count": 445,
   "metadata": {},
   "outputs": [
    {
     "data": {
      "text/plain": [
       "array([ 4,  7, -5,  3], dtype=int64)"
      ]
     },
     "execution_count": 445,
     "metadata": {},
     "output_type": "execute_result"
    }
   ],
   "source": [
    "obj.values"
   ]
  },
  {
   "cell_type": "code",
   "execution_count": 446,
   "metadata": {},
   "outputs": [
    {
     "data": {
      "text/plain": [
       "RangeIndex(start=0, stop=4, step=1)"
      ]
     },
     "execution_count": 446,
     "metadata": {},
     "output_type": "execute_result"
    }
   ],
   "source": [
    "obj.index"
   ]
  },
  {
   "cell_type": "code",
   "execution_count": 448,
   "metadata": {
    "collapsed": true
   },
   "outputs": [],
   "source": [
    "obj.index = list('dbac')"
   ]
  },
  {
   "cell_type": "code",
   "execution_count": 449,
   "metadata": {},
   "outputs": [
    {
     "data": {
      "text/plain": [
       "d    4\n",
       "b    7\n",
       "a   -5\n",
       "c    3\n",
       "dtype: int64"
      ]
     },
     "execution_count": 449,
     "metadata": {},
     "output_type": "execute_result"
    }
   ],
   "source": [
    "obj"
   ]
  },
  {
   "cell_type": "code",
   "execution_count": 450,
   "metadata": {},
   "outputs": [
    {
     "data": {
      "text/plain": [
       "Index(['d', 'b', 'a', 'c'], dtype='object')"
      ]
     },
     "execution_count": 450,
     "metadata": {},
     "output_type": "execute_result"
    }
   ],
   "source": [
    "obj.index"
   ]
  },
  {
   "cell_type": "code",
   "execution_count": 451,
   "metadata": {},
   "outputs": [
    {
     "data": {
      "text/plain": [
       "-5"
      ]
     },
     "execution_count": 451,
     "metadata": {},
     "output_type": "execute_result"
    }
   ],
   "source": [
    "obj['a']"
   ]
  },
  {
   "cell_type": "code",
   "execution_count": 453,
   "metadata": {
    "collapsed": true
   },
   "outputs": [],
   "source": [
    "obj['d'] = 6"
   ]
  },
  {
   "cell_type": "code",
   "execution_count": 454,
   "metadata": {},
   "outputs": [
    {
     "data": {
      "text/plain": [
       "c    3\n",
       "a   -5\n",
       "d    6\n",
       "dtype: int64"
      ]
     },
     "execution_count": 454,
     "metadata": {},
     "output_type": "execute_result"
    }
   ],
   "source": [
    "obj[['c','a','d']]"
   ]
  },
  {
   "cell_type": "code",
   "execution_count": 3,
   "metadata": {},
   "outputs": [
    {
     "name": "stdout",
     "output_type": "stream",
     "text": [
      "工作日的努力参数是：0.019\n"
     ]
    }
   ],
   "source": [
    "def dayUP(df):\n",
    "    dayup = 1 # 根据df参数计算工作日力量的函数\n",
    "    for i in range(365):\n",
    "        if i % 7 in [0,6]:\n",
    "            dayup *= (1-0.01)\n",
    "        else:\n",
    "            dayup *= (1+df)\n",
    "    return dayup\n",
    "dayfactor = 0.01\n",
    "while dayUP(dayfactor) < 37.78:\n",
    "    dayfactor += 0.001\n",
    "print('工作日的努力参数是：{:.3f}'.format(dayfactor))"
   ]
  },
  {
   "cell_type": "code",
   "execution_count": 4,
   "metadata": {},
   "outputs": [
    {
     "name": "stdout",
     "output_type": "stream",
     "text": [
      "工作日的努力参数是：0.016\n"
     ]
    }
   ],
   "source": [
    "def dayUP(df):\n",
    "    dayup = 1 # 根据df参数计算工作日力量的函数\n",
    "    for i in range(365):\n",
    "        if i % 5 in [4,5]:\n",
    "            dayup *= (1-0.01)\n",
    "        else:\n",
    "            dayup *= (1+df)\n",
    "    return dayup\n",
    "dayfactor = 0.01\n",
    "while dayUP(dayfactor) < 37.78:\n",
    "    dayfactor += 0.001\n",
    "print('工作日的努力参数是：{:.3f}'.format(dayfactor))"
   ]
  },
  {
   "cell_type": "code",
   "execution_count": 18,
   "metadata": {
    "collapsed": true
   },
   "outputs": [],
   "source": [
    "import pandas as pd\n",
    "from pandas import Series, DataFrame"
   ]
  },
  {
   "cell_type": "code",
   "execution_count": 5,
   "metadata": {
    "collapsed": true
   },
   "outputs": [],
   "source": [
    "obj2 = Series({'d':6,'b':7,'a':-5,'c':3})"
   ]
  },
  {
   "cell_type": "code",
   "execution_count": 6,
   "metadata": {},
   "outputs": [
    {
     "data": {
      "text/plain": [
       "a   -5\n",
       "b    7\n",
       "c    3\n",
       "d    6\n",
       "dtype: int64"
      ]
     },
     "execution_count": 6,
     "metadata": {},
     "output_type": "execute_result"
    }
   ],
   "source": [
    "obj2"
   ]
  },
  {
   "cell_type": "code",
   "execution_count": 7,
   "metadata": {},
   "outputs": [
    {
     "data": {
      "text/plain": [
       "b    7\n",
       "c    3\n",
       "d    6\n",
       "dtype: int64"
      ]
     },
     "execution_count": 7,
     "metadata": {},
     "output_type": "execute_result"
    }
   ],
   "source": [
    "obj2[obj2>0]"
   ]
  },
  {
   "cell_type": "code",
   "execution_count": 9,
   "metadata": {},
   "outputs": [
    {
     "data": {
      "text/plain": [
       "a   -10\n",
       "b    14\n",
       "c     6\n",
       "d    12\n",
       "dtype: int64"
      ]
     },
     "execution_count": 9,
     "metadata": {},
     "output_type": "execute_result"
    }
   ],
   "source": [
    "obj2*2"
   ]
  },
  {
   "cell_type": "code",
   "execution_count": 11,
   "metadata": {},
   "outputs": [
    {
     "data": {
      "text/plain": [
       "a       0.006738\n",
       "b    1096.633158\n",
       "c      20.085537\n",
       "d     403.428793\n",
       "dtype: float64"
      ]
     },
     "execution_count": 11,
     "metadata": {},
     "output_type": "execute_result"
    }
   ],
   "source": [
    "import numpy as np\n",
    "np.exp(obj2)"
   ]
  },
  {
   "cell_type": "code",
   "execution_count": 12,
   "metadata": {},
   "outputs": [
    {
     "data": {
      "text/plain": [
       "True"
      ]
     },
     "execution_count": 12,
     "metadata": {},
     "output_type": "execute_result"
    }
   ],
   "source": [
    "'b' in obj2"
   ]
  },
  {
   "cell_type": "code",
   "execution_count": 13,
   "metadata": {},
   "outputs": [
    {
     "data": {
      "text/plain": [
       "False"
      ]
     },
     "execution_count": 13,
     "metadata": {},
     "output_type": "execute_result"
    }
   ],
   "source": [
    "'e' in obj2"
   ]
  },
  {
   "cell_type": "code",
   "execution_count": 14,
   "metadata": {
    "collapsed": true
   },
   "outputs": [],
   "source": [
    "sdata = {'Ohio':35000,'Texas':71000,'Oregon':16000,'Utah':5000}\n",
    "obj3 = Series(sdata)"
   ]
  },
  {
   "cell_type": "code",
   "execution_count": 15,
   "metadata": {},
   "outputs": [
    {
     "data": {
      "text/plain": [
       "Ohio      35000\n",
       "Oregon    16000\n",
       "Texas     71000\n",
       "Utah       5000\n",
       "dtype: int64"
      ]
     },
     "execution_count": 15,
     "metadata": {},
     "output_type": "execute_result"
    }
   ],
   "source": [
    "obj3"
   ]
  },
  {
   "cell_type": "code",
   "execution_count": 16,
   "metadata": {},
   "outputs": [
    {
     "data": {
      "text/plain": [
       "California        NaN\n",
       "Ohio          35000.0\n",
       "Oregon        16000.0\n",
       "Texas         71000.0\n",
       "dtype: float64"
      ]
     },
     "execution_count": 16,
     "metadata": {},
     "output_type": "execute_result"
    }
   ],
   "source": [
    "states = ['California','Ohio','Oregon','Texas']\n",
    "obj4 = Series(sdata,index = states)\n",
    "obj4"
   ]
  },
  {
   "cell_type": "code",
   "execution_count": 19,
   "metadata": {},
   "outputs": [
    {
     "data": {
      "text/plain": [
       "California     True\n",
       "Ohio          False\n",
       "Oregon        False\n",
       "Texas         False\n",
       "dtype: bool"
      ]
     },
     "execution_count": 19,
     "metadata": {},
     "output_type": "execute_result"
    }
   ],
   "source": [
    "pd.isnull(obj4)"
   ]
  },
  {
   "cell_type": "code",
   "execution_count": 20,
   "metadata": {},
   "outputs": [
    {
     "data": {
      "text/plain": [
       "California    False\n",
       "Ohio           True\n",
       "Oregon         True\n",
       "Texas          True\n",
       "dtype: bool"
      ]
     },
     "execution_count": 20,
     "metadata": {},
     "output_type": "execute_result"
    }
   ],
   "source": [
    "pd.notnull(obj4)"
   ]
  },
  {
   "cell_type": "code",
   "execution_count": 22,
   "metadata": {},
   "outputs": [
    {
     "data": {
      "text/plain": [
       "California     True\n",
       "Ohio          False\n",
       "Oregon        False\n",
       "Texas         False\n",
       "dtype: bool"
      ]
     },
     "execution_count": 22,
     "metadata": {},
     "output_type": "execute_result"
    }
   ],
   "source": [
    "obj4.isnull()"
   ]
  },
  {
   "cell_type": "code",
   "execution_count": 23,
   "metadata": {},
   "outputs": [
    {
     "name": "stdout",
     "output_type": "stream",
     "text": [
      "Ohio      35000\n",
      "Oregon    16000\n",
      "Texas     71000\n",
      "Utah       5000\n",
      "dtype: int64\n",
      "California        NaN\n",
      "Ohio          35000.0\n",
      "Oregon        16000.0\n",
      "Texas         71000.0\n",
      "dtype: float64\n"
     ]
    }
   ],
   "source": [
    "print(obj3, obj4, sep='\\n')"
   ]
  },
  {
   "cell_type": "code",
   "execution_count": 24,
   "metadata": {},
   "outputs": [
    {
     "data": {
      "text/plain": [
       "California         NaN\n",
       "Ohio           70000.0\n",
       "Oregon         32000.0\n",
       "Texas         142000.0\n",
       "Utah               NaN\n",
       "dtype: float64"
      ]
     },
     "execution_count": 24,
     "metadata": {},
     "output_type": "execute_result"
    }
   ],
   "source": [
    "obj3+obj4"
   ]
  },
  {
   "cell_type": "code",
   "execution_count": 25,
   "metadata": {
    "collapsed": true
   },
   "outputs": [],
   "source": [
    "obj4.name = 'population'"
   ]
  },
  {
   "cell_type": "code",
   "execution_count": 26,
   "metadata": {
    "collapsed": true
   },
   "outputs": [],
   "source": [
    "obj4.index.name = 'state'"
   ]
  },
  {
   "cell_type": "code",
   "execution_count": 27,
   "metadata": {},
   "outputs": [
    {
     "data": {
      "text/plain": [
       "state\n",
       "California        NaN\n",
       "Ohio          35000.0\n",
       "Oregon        16000.0\n",
       "Texas         71000.0\n",
       "Name: population, dtype: float64"
      ]
     },
     "execution_count": 27,
     "metadata": {},
     "output_type": "execute_result"
    }
   ],
   "source": [
    "obj4"
   ]
  },
  {
   "cell_type": "markdown",
   "metadata": {},
   "source": [
    "#### DataFrame"
   ]
  },
  {
   "cell_type": "code",
   "execution_count": 28,
   "metadata": {},
   "outputs": [
    {
     "data": {
      "text/html": [
       "<div>\n",
       "<style>\n",
       "    .dataframe thead tr:only-child th {\n",
       "        text-align: right;\n",
       "    }\n",
       "\n",
       "    .dataframe thead th {\n",
       "        text-align: left;\n",
       "    }\n",
       "\n",
       "    .dataframe tbody tr th {\n",
       "        vertical-align: top;\n",
       "    }\n",
       "</style>\n",
       "<table border=\"1\" class=\"dataframe\">\n",
       "  <thead>\n",
       "    <tr style=\"text-align: right;\">\n",
       "      <th></th>\n",
       "      <th>pop</th>\n",
       "      <th>state</th>\n",
       "      <th>year</th>\n",
       "    </tr>\n",
       "  </thead>\n",
       "  <tbody>\n",
       "    <tr>\n",
       "      <th>0</th>\n",
       "      <td>1.5</td>\n",
       "      <td>Ohio</td>\n",
       "      <td>2000</td>\n",
       "    </tr>\n",
       "    <tr>\n",
       "      <th>1</th>\n",
       "      <td>1.7</td>\n",
       "      <td>Ohio</td>\n",
       "      <td>2001</td>\n",
       "    </tr>\n",
       "    <tr>\n",
       "      <th>2</th>\n",
       "      <td>3.6</td>\n",
       "      <td>Ohio</td>\n",
       "      <td>2002</td>\n",
       "    </tr>\n",
       "    <tr>\n",
       "      <th>3</th>\n",
       "      <td>2.4</td>\n",
       "      <td>Nevada</td>\n",
       "      <td>2001</td>\n",
       "    </tr>\n",
       "    <tr>\n",
       "      <th>4</th>\n",
       "      <td>2.9</td>\n",
       "      <td>Nevada</td>\n",
       "      <td>2002</td>\n",
       "    </tr>\n",
       "  </tbody>\n",
       "</table>\n",
       "</div>"
      ],
      "text/plain": [
       "   pop   state  year\n",
       "0  1.5    Ohio  2000\n",
       "1  1.7    Ohio  2001\n",
       "2  3.6    Ohio  2002\n",
       "3  2.4  Nevada  2001\n",
       "4  2.9  Nevada  2002"
      ]
     },
     "execution_count": 28,
     "metadata": {},
     "output_type": "execute_result"
    }
   ],
   "source": [
    "data = {'state':['Ohio','Ohio','Ohio','Nevada','Nevada'],\n",
    "       'year':[2000,2001,2002,2001,2002],\n",
    "       'pop':[1.5,1.7,3.6,2.4,2.9]}\n",
    "frame = DataFrame(data)\n",
    "frame"
   ]
  },
  {
   "cell_type": "code",
   "execution_count": 29,
   "metadata": {},
   "outputs": [
    {
     "data": {
      "text/html": [
       "<div>\n",
       "<style>\n",
       "    .dataframe thead tr:only-child th {\n",
       "        text-align: right;\n",
       "    }\n",
       "\n",
       "    .dataframe thead th {\n",
       "        text-align: left;\n",
       "    }\n",
       "\n",
       "    .dataframe tbody tr th {\n",
       "        vertical-align: top;\n",
       "    }\n",
       "</style>\n",
       "<table border=\"1\" class=\"dataframe\">\n",
       "  <thead>\n",
       "    <tr style=\"text-align: right;\">\n",
       "      <th></th>\n",
       "      <th>year</th>\n",
       "      <th>state</th>\n",
       "      <th>pop</th>\n",
       "    </tr>\n",
       "  </thead>\n",
       "  <tbody>\n",
       "    <tr>\n",
       "      <th>0</th>\n",
       "      <td>2000</td>\n",
       "      <td>Ohio</td>\n",
       "      <td>1.5</td>\n",
       "    </tr>\n",
       "    <tr>\n",
       "      <th>1</th>\n",
       "      <td>2001</td>\n",
       "      <td>Ohio</td>\n",
       "      <td>1.7</td>\n",
       "    </tr>\n",
       "    <tr>\n",
       "      <th>2</th>\n",
       "      <td>2002</td>\n",
       "      <td>Ohio</td>\n",
       "      <td>3.6</td>\n",
       "    </tr>\n",
       "    <tr>\n",
       "      <th>3</th>\n",
       "      <td>2001</td>\n",
       "      <td>Nevada</td>\n",
       "      <td>2.4</td>\n",
       "    </tr>\n",
       "    <tr>\n",
       "      <th>4</th>\n",
       "      <td>2002</td>\n",
       "      <td>Nevada</td>\n",
       "      <td>2.9</td>\n",
       "    </tr>\n",
       "  </tbody>\n",
       "</table>\n",
       "</div>"
      ],
      "text/plain": [
       "   year   state  pop\n",
       "0  2000    Ohio  1.5\n",
       "1  2001    Ohio  1.7\n",
       "2  2002    Ohio  3.6\n",
       "3  2001  Nevada  2.4\n",
       "4  2002  Nevada  2.9"
      ]
     },
     "execution_count": 29,
     "metadata": {},
     "output_type": "execute_result"
    }
   ],
   "source": [
    "DataFrame(data,columns = ['year','state','pop'])"
   ]
  },
  {
   "cell_type": "code",
   "execution_count": 30,
   "metadata": {},
   "outputs": [
    {
     "data": {
      "text/html": [
       "<div>\n",
       "<style>\n",
       "    .dataframe thead tr:only-child th {\n",
       "        text-align: right;\n",
       "    }\n",
       "\n",
       "    .dataframe thead th {\n",
       "        text-align: left;\n",
       "    }\n",
       "\n",
       "    .dataframe tbody tr th {\n",
       "        vertical-align: top;\n",
       "    }\n",
       "</style>\n",
       "<table border=\"1\" class=\"dataframe\">\n",
       "  <thead>\n",
       "    <tr style=\"text-align: right;\">\n",
       "      <th></th>\n",
       "      <th>year</th>\n",
       "      <th>state</th>\n",
       "      <th>pop</th>\n",
       "      <th>debt</th>\n",
       "    </tr>\n",
       "  </thead>\n",
       "  <tbody>\n",
       "    <tr>\n",
       "      <th>one</th>\n",
       "      <td>2000</td>\n",
       "      <td>Ohio</td>\n",
       "      <td>1.5</td>\n",
       "      <td>NaN</td>\n",
       "    </tr>\n",
       "    <tr>\n",
       "      <th>two</th>\n",
       "      <td>2001</td>\n",
       "      <td>Ohio</td>\n",
       "      <td>1.7</td>\n",
       "      <td>NaN</td>\n",
       "    </tr>\n",
       "    <tr>\n",
       "      <th>three</th>\n",
       "      <td>2002</td>\n",
       "      <td>Ohio</td>\n",
       "      <td>3.6</td>\n",
       "      <td>NaN</td>\n",
       "    </tr>\n",
       "    <tr>\n",
       "      <th>four</th>\n",
       "      <td>2001</td>\n",
       "      <td>Nevada</td>\n",
       "      <td>2.4</td>\n",
       "      <td>NaN</td>\n",
       "    </tr>\n",
       "    <tr>\n",
       "      <th>five</th>\n",
       "      <td>2002</td>\n",
       "      <td>Nevada</td>\n",
       "      <td>2.9</td>\n",
       "      <td>NaN</td>\n",
       "    </tr>\n",
       "  </tbody>\n",
       "</table>\n",
       "</div>"
      ],
      "text/plain": [
       "       year   state  pop debt\n",
       "one    2000    Ohio  1.5  NaN\n",
       "two    2001    Ohio  1.7  NaN\n",
       "three  2002    Ohio  3.6  NaN\n",
       "four   2001  Nevada  2.4  NaN\n",
       "five   2002  Nevada  2.9  NaN"
      ]
     },
     "execution_count": 30,
     "metadata": {},
     "output_type": "execute_result"
    }
   ],
   "source": [
    "frame2 = DataFrame(data,columns = ['year','state','pop','debt'],\n",
    "                  index = ['one','two','three','four','five'])\n",
    "frame2"
   ]
  },
  {
   "cell_type": "code",
   "execution_count": 31,
   "metadata": {},
   "outputs": [
    {
     "data": {
      "text/plain": [
       "Index(['year', 'state', 'pop', 'debt'], dtype='object')"
      ]
     },
     "execution_count": 31,
     "metadata": {},
     "output_type": "execute_result"
    }
   ],
   "source": [
    "frame2.columns"
   ]
  },
  {
   "cell_type": "code",
   "execution_count": 32,
   "metadata": {},
   "outputs": [
    {
     "data": {
      "text/plain": [
       "one      NaN\n",
       "two      NaN\n",
       "three    NaN\n",
       "four     NaN\n",
       "five     NaN\n",
       "Name: debt, dtype: object"
      ]
     },
     "execution_count": 32,
     "metadata": {},
     "output_type": "execute_result"
    }
   ],
   "source": [
    "frame2['debt']"
   ]
  },
  {
   "cell_type": "code",
   "execution_count": 33,
   "metadata": {},
   "outputs": [
    {
     "data": {
      "text/plain": [
       "one      2000\n",
       "two      2001\n",
       "three    2002\n",
       "four     2001\n",
       "five     2002\n",
       "Name: year, dtype: int64"
      ]
     },
     "execution_count": 33,
     "metadata": {},
     "output_type": "execute_result"
    }
   ],
   "source": [
    "frame2.year"
   ]
  },
  {
   "cell_type": "code",
   "execution_count": 35,
   "metadata": {},
   "outputs": [
    {
     "data": {
      "text/plain": [
       "year     2002\n",
       "state    Ohio\n",
       "pop       3.6\n",
       "debt      NaN\n",
       "Name: three, dtype: object"
      ]
     },
     "execution_count": 35,
     "metadata": {},
     "output_type": "execute_result"
    }
   ],
   "source": [
    "frame2.loc['three']"
   ]
  },
  {
   "cell_type": "code",
   "execution_count": 36,
   "metadata": {},
   "outputs": [
    {
     "data": {
      "text/html": [
       "<div>\n",
       "<style>\n",
       "    .dataframe thead tr:only-child th {\n",
       "        text-align: right;\n",
       "    }\n",
       "\n",
       "    .dataframe thead th {\n",
       "        text-align: left;\n",
       "    }\n",
       "\n",
       "    .dataframe tbody tr th {\n",
       "        vertical-align: top;\n",
       "    }\n",
       "</style>\n",
       "<table border=\"1\" class=\"dataframe\">\n",
       "  <thead>\n",
       "    <tr style=\"text-align: right;\">\n",
       "      <th></th>\n",
       "      <th>year</th>\n",
       "      <th>state</th>\n",
       "      <th>pop</th>\n",
       "      <th>debt</th>\n",
       "    </tr>\n",
       "  </thead>\n",
       "  <tbody>\n",
       "    <tr>\n",
       "      <th>one</th>\n",
       "      <td>2000</td>\n",
       "      <td>Ohio</td>\n",
       "      <td>1.5</td>\n",
       "      <td>16.5</td>\n",
       "    </tr>\n",
       "    <tr>\n",
       "      <th>two</th>\n",
       "      <td>2001</td>\n",
       "      <td>Ohio</td>\n",
       "      <td>1.7</td>\n",
       "      <td>16.5</td>\n",
       "    </tr>\n",
       "    <tr>\n",
       "      <th>three</th>\n",
       "      <td>2002</td>\n",
       "      <td>Ohio</td>\n",
       "      <td>3.6</td>\n",
       "      <td>16.5</td>\n",
       "    </tr>\n",
       "    <tr>\n",
       "      <th>four</th>\n",
       "      <td>2001</td>\n",
       "      <td>Nevada</td>\n",
       "      <td>2.4</td>\n",
       "      <td>16.5</td>\n",
       "    </tr>\n",
       "    <tr>\n",
       "      <th>five</th>\n",
       "      <td>2002</td>\n",
       "      <td>Nevada</td>\n",
       "      <td>2.9</td>\n",
       "      <td>16.5</td>\n",
       "    </tr>\n",
       "  </tbody>\n",
       "</table>\n",
       "</div>"
      ],
      "text/plain": [
       "       year   state  pop  debt\n",
       "one    2000    Ohio  1.5  16.5\n",
       "two    2001    Ohio  1.7  16.5\n",
       "three  2002    Ohio  3.6  16.5\n",
       "four   2001  Nevada  2.4  16.5\n",
       "five   2002  Nevada  2.9  16.5"
      ]
     },
     "execution_count": 36,
     "metadata": {},
     "output_type": "execute_result"
    }
   ],
   "source": [
    "frame2['debt'] = 16.5\n",
    "frame2"
   ]
  },
  {
   "cell_type": "code",
   "execution_count": 38,
   "metadata": {
    "collapsed": true
   },
   "outputs": [],
   "source": [
    "frame2['debt'] = np.arange(5.)"
   ]
  },
  {
   "cell_type": "code",
   "execution_count": 39,
   "metadata": {},
   "outputs": [
    {
     "data": {
      "text/html": [
       "<div>\n",
       "<style>\n",
       "    .dataframe thead tr:only-child th {\n",
       "        text-align: right;\n",
       "    }\n",
       "\n",
       "    .dataframe thead th {\n",
       "        text-align: left;\n",
       "    }\n",
       "\n",
       "    .dataframe tbody tr th {\n",
       "        vertical-align: top;\n",
       "    }\n",
       "</style>\n",
       "<table border=\"1\" class=\"dataframe\">\n",
       "  <thead>\n",
       "    <tr style=\"text-align: right;\">\n",
       "      <th></th>\n",
       "      <th>year</th>\n",
       "      <th>state</th>\n",
       "      <th>pop</th>\n",
       "      <th>debt</th>\n",
       "    </tr>\n",
       "  </thead>\n",
       "  <tbody>\n",
       "    <tr>\n",
       "      <th>one</th>\n",
       "      <td>2000</td>\n",
       "      <td>Ohio</td>\n",
       "      <td>1.5</td>\n",
       "      <td>0.0</td>\n",
       "    </tr>\n",
       "    <tr>\n",
       "      <th>two</th>\n",
       "      <td>2001</td>\n",
       "      <td>Ohio</td>\n",
       "      <td>1.7</td>\n",
       "      <td>1.0</td>\n",
       "    </tr>\n",
       "    <tr>\n",
       "      <th>three</th>\n",
       "      <td>2002</td>\n",
       "      <td>Ohio</td>\n",
       "      <td>3.6</td>\n",
       "      <td>2.0</td>\n",
       "    </tr>\n",
       "    <tr>\n",
       "      <th>four</th>\n",
       "      <td>2001</td>\n",
       "      <td>Nevada</td>\n",
       "      <td>2.4</td>\n",
       "      <td>3.0</td>\n",
       "    </tr>\n",
       "    <tr>\n",
       "      <th>five</th>\n",
       "      <td>2002</td>\n",
       "      <td>Nevada</td>\n",
       "      <td>2.9</td>\n",
       "      <td>4.0</td>\n",
       "    </tr>\n",
       "  </tbody>\n",
       "</table>\n",
       "</div>"
      ],
      "text/plain": [
       "       year   state  pop  debt\n",
       "one    2000    Ohio  1.5   0.0\n",
       "two    2001    Ohio  1.7   1.0\n",
       "three  2002    Ohio  3.6   2.0\n",
       "four   2001  Nevada  2.4   3.0\n",
       "five   2002  Nevada  2.9   4.0"
      ]
     },
     "execution_count": 39,
     "metadata": {},
     "output_type": "execute_result"
    }
   ],
   "source": [
    "frame2"
   ]
  },
  {
   "cell_type": "code",
   "execution_count": 40,
   "metadata": {},
   "outputs": [
    {
     "data": {
      "text/html": [
       "<div>\n",
       "<style>\n",
       "    .dataframe thead tr:only-child th {\n",
       "        text-align: right;\n",
       "    }\n",
       "\n",
       "    .dataframe thead th {\n",
       "        text-align: left;\n",
       "    }\n",
       "\n",
       "    .dataframe tbody tr th {\n",
       "        vertical-align: top;\n",
       "    }\n",
       "</style>\n",
       "<table border=\"1\" class=\"dataframe\">\n",
       "  <thead>\n",
       "    <tr style=\"text-align: right;\">\n",
       "      <th></th>\n",
       "      <th>year</th>\n",
       "      <th>state</th>\n",
       "      <th>pop</th>\n",
       "      <th>debt</th>\n",
       "    </tr>\n",
       "  </thead>\n",
       "  <tbody>\n",
       "    <tr>\n",
       "      <th>one</th>\n",
       "      <td>2000</td>\n",
       "      <td>Ohio</td>\n",
       "      <td>1.5</td>\n",
       "      <td>NaN</td>\n",
       "    </tr>\n",
       "    <tr>\n",
       "      <th>two</th>\n",
       "      <td>2001</td>\n",
       "      <td>Ohio</td>\n",
       "      <td>1.7</td>\n",
       "      <td>-1.2</td>\n",
       "    </tr>\n",
       "    <tr>\n",
       "      <th>three</th>\n",
       "      <td>2002</td>\n",
       "      <td>Ohio</td>\n",
       "      <td>3.6</td>\n",
       "      <td>NaN</td>\n",
       "    </tr>\n",
       "    <tr>\n",
       "      <th>four</th>\n",
       "      <td>2001</td>\n",
       "      <td>Nevada</td>\n",
       "      <td>2.4</td>\n",
       "      <td>-1.5</td>\n",
       "    </tr>\n",
       "    <tr>\n",
       "      <th>five</th>\n",
       "      <td>2002</td>\n",
       "      <td>Nevada</td>\n",
       "      <td>2.9</td>\n",
       "      <td>-1.7</td>\n",
       "    </tr>\n",
       "  </tbody>\n",
       "</table>\n",
       "</div>"
      ],
      "text/plain": [
       "       year   state  pop  debt\n",
       "one    2000    Ohio  1.5   NaN\n",
       "two    2001    Ohio  1.7  -1.2\n",
       "three  2002    Ohio  3.6   NaN\n",
       "four   2001  Nevada  2.4  -1.5\n",
       "five   2002  Nevada  2.9  -1.7"
      ]
     },
     "execution_count": 40,
     "metadata": {},
     "output_type": "execute_result"
    }
   ],
   "source": [
    "val = Series([-1.2,-1.5,-1.7],index=['two','four','five'])\n",
    "frame2['debt'] = val\n",
    "frame2"
   ]
  },
  {
   "cell_type": "code",
   "execution_count": 41,
   "metadata": {
    "collapsed": true
   },
   "outputs": [],
   "source": [
    "frame2['eastern'] = frame2.state=='Ohio'"
   ]
  },
  {
   "cell_type": "code",
   "execution_count": 42,
   "metadata": {},
   "outputs": [
    {
     "data": {
      "text/html": [
       "<div>\n",
       "<style>\n",
       "    .dataframe thead tr:only-child th {\n",
       "        text-align: right;\n",
       "    }\n",
       "\n",
       "    .dataframe thead th {\n",
       "        text-align: left;\n",
       "    }\n",
       "\n",
       "    .dataframe tbody tr th {\n",
       "        vertical-align: top;\n",
       "    }\n",
       "</style>\n",
       "<table border=\"1\" class=\"dataframe\">\n",
       "  <thead>\n",
       "    <tr style=\"text-align: right;\">\n",
       "      <th></th>\n",
       "      <th>year</th>\n",
       "      <th>state</th>\n",
       "      <th>pop</th>\n",
       "      <th>debt</th>\n",
       "      <th>eastern</th>\n",
       "    </tr>\n",
       "  </thead>\n",
       "  <tbody>\n",
       "    <tr>\n",
       "      <th>one</th>\n",
       "      <td>2000</td>\n",
       "      <td>Ohio</td>\n",
       "      <td>1.5</td>\n",
       "      <td>NaN</td>\n",
       "      <td>True</td>\n",
       "    </tr>\n",
       "    <tr>\n",
       "      <th>two</th>\n",
       "      <td>2001</td>\n",
       "      <td>Ohio</td>\n",
       "      <td>1.7</td>\n",
       "      <td>-1.2</td>\n",
       "      <td>True</td>\n",
       "    </tr>\n",
       "    <tr>\n",
       "      <th>three</th>\n",
       "      <td>2002</td>\n",
       "      <td>Ohio</td>\n",
       "      <td>3.6</td>\n",
       "      <td>NaN</td>\n",
       "      <td>True</td>\n",
       "    </tr>\n",
       "    <tr>\n",
       "      <th>four</th>\n",
       "      <td>2001</td>\n",
       "      <td>Nevada</td>\n",
       "      <td>2.4</td>\n",
       "      <td>-1.5</td>\n",
       "      <td>False</td>\n",
       "    </tr>\n",
       "    <tr>\n",
       "      <th>five</th>\n",
       "      <td>2002</td>\n",
       "      <td>Nevada</td>\n",
       "      <td>2.9</td>\n",
       "      <td>-1.7</td>\n",
       "      <td>False</td>\n",
       "    </tr>\n",
       "  </tbody>\n",
       "</table>\n",
       "</div>"
      ],
      "text/plain": [
       "       year   state  pop  debt  eastern\n",
       "one    2000    Ohio  1.5   NaN     True\n",
       "two    2001    Ohio  1.7  -1.2     True\n",
       "three  2002    Ohio  3.6   NaN     True\n",
       "four   2001  Nevada  2.4  -1.5    False\n",
       "five   2002  Nevada  2.9  -1.7    False"
      ]
     },
     "execution_count": 42,
     "metadata": {},
     "output_type": "execute_result"
    }
   ],
   "source": [
    "frame2"
   ]
  },
  {
   "cell_type": "code",
   "execution_count": 43,
   "metadata": {
    "collapsed": true
   },
   "outputs": [],
   "source": [
    "del frame2['eastern']"
   ]
  },
  {
   "cell_type": "code",
   "execution_count": 44,
   "metadata": {},
   "outputs": [
    {
     "data": {
      "text/plain": [
       "Index(['year', 'state', 'pop', 'debt'], dtype='object')"
      ]
     },
     "execution_count": 44,
     "metadata": {},
     "output_type": "execute_result"
    }
   ],
   "source": [
    "frame2.columns"
   ]
  },
  {
   "cell_type": "code",
   "execution_count": 48,
   "metadata": {
    "collapsed": true
   },
   "outputs": [],
   "source": [
    "pop = {'Nevada':{2001:2.4,2002:2.9},'Ohio':{2000:1.5,2001:1.7,2002:3.6}}"
   ]
  },
  {
   "cell_type": "code",
   "execution_count": 49,
   "metadata": {},
   "outputs": [
    {
     "data": {
      "text/html": [
       "<div>\n",
       "<style>\n",
       "    .dataframe thead tr:only-child th {\n",
       "        text-align: right;\n",
       "    }\n",
       "\n",
       "    .dataframe thead th {\n",
       "        text-align: left;\n",
       "    }\n",
       "\n",
       "    .dataframe tbody tr th {\n",
       "        vertical-align: top;\n",
       "    }\n",
       "</style>\n",
       "<table border=\"1\" class=\"dataframe\">\n",
       "  <thead>\n",
       "    <tr style=\"text-align: right;\">\n",
       "      <th></th>\n",
       "      <th>Nevada</th>\n",
       "      <th>Ohio</th>\n",
       "    </tr>\n",
       "  </thead>\n",
       "  <tbody>\n",
       "    <tr>\n",
       "      <th>2000</th>\n",
       "      <td>NaN</td>\n",
       "      <td>1.5</td>\n",
       "    </tr>\n",
       "    <tr>\n",
       "      <th>2001</th>\n",
       "      <td>2.4</td>\n",
       "      <td>1.7</td>\n",
       "    </tr>\n",
       "    <tr>\n",
       "      <th>2002</th>\n",
       "      <td>2.9</td>\n",
       "      <td>3.6</td>\n",
       "    </tr>\n",
       "  </tbody>\n",
       "</table>\n",
       "</div>"
      ],
      "text/plain": [
       "      Nevada  Ohio\n",
       "2000     NaN   1.5\n",
       "2001     2.4   1.7\n",
       "2002     2.9   3.6"
      ]
     },
     "execution_count": 49,
     "metadata": {},
     "output_type": "execute_result"
    }
   ],
   "source": [
    "frame3 = DataFrame(pop)\n",
    "frame3"
   ]
  },
  {
   "cell_type": "code",
   "execution_count": 50,
   "metadata": {},
   "outputs": [
    {
     "data": {
      "text/html": [
       "<div>\n",
       "<style>\n",
       "    .dataframe thead tr:only-child th {\n",
       "        text-align: right;\n",
       "    }\n",
       "\n",
       "    .dataframe thead th {\n",
       "        text-align: left;\n",
       "    }\n",
       "\n",
       "    .dataframe tbody tr th {\n",
       "        vertical-align: top;\n",
       "    }\n",
       "</style>\n",
       "<table border=\"1\" class=\"dataframe\">\n",
       "  <thead>\n",
       "    <tr style=\"text-align: right;\">\n",
       "      <th></th>\n",
       "      <th>2000</th>\n",
       "      <th>2001</th>\n",
       "      <th>2002</th>\n",
       "    </tr>\n",
       "  </thead>\n",
       "  <tbody>\n",
       "    <tr>\n",
       "      <th>Nevada</th>\n",
       "      <td>NaN</td>\n",
       "      <td>2.4</td>\n",
       "      <td>2.9</td>\n",
       "    </tr>\n",
       "    <tr>\n",
       "      <th>Ohio</th>\n",
       "      <td>1.5</td>\n",
       "      <td>1.7</td>\n",
       "      <td>3.6</td>\n",
       "    </tr>\n",
       "  </tbody>\n",
       "</table>\n",
       "</div>"
      ],
      "text/plain": [
       "        2000  2001  2002\n",
       "Nevada   NaN   2.4   2.9\n",
       "Ohio     1.5   1.7   3.6"
      ]
     },
     "execution_count": 50,
     "metadata": {},
     "output_type": "execute_result"
    }
   ],
   "source": [
    "frame3.T"
   ]
  },
  {
   "cell_type": "code",
   "execution_count": 51,
   "metadata": {},
   "outputs": [
    {
     "data": {
      "text/html": [
       "<div>\n",
       "<style>\n",
       "    .dataframe thead tr:only-child th {\n",
       "        text-align: right;\n",
       "    }\n",
       "\n",
       "    .dataframe thead th {\n",
       "        text-align: left;\n",
       "    }\n",
       "\n",
       "    .dataframe tbody tr th {\n",
       "        vertical-align: top;\n",
       "    }\n",
       "</style>\n",
       "<table border=\"1\" class=\"dataframe\">\n",
       "  <thead>\n",
       "    <tr style=\"text-align: right;\">\n",
       "      <th></th>\n",
       "      <th>Nevada</th>\n",
       "      <th>Ohio</th>\n",
       "    </tr>\n",
       "  </thead>\n",
       "  <tbody>\n",
       "    <tr>\n",
       "      <th>2001</th>\n",
       "      <td>2.4</td>\n",
       "      <td>1.7</td>\n",
       "    </tr>\n",
       "    <tr>\n",
       "      <th>2002</th>\n",
       "      <td>2.9</td>\n",
       "      <td>3.6</td>\n",
       "    </tr>\n",
       "    <tr>\n",
       "      <th>2003</th>\n",
       "      <td>NaN</td>\n",
       "      <td>NaN</td>\n",
       "    </tr>\n",
       "  </tbody>\n",
       "</table>\n",
       "</div>"
      ],
      "text/plain": [
       "      Nevada  Ohio\n",
       "2001     2.4   1.7\n",
       "2002     2.9   3.6\n",
       "2003     NaN   NaN"
      ]
     },
     "execution_count": 51,
     "metadata": {},
     "output_type": "execute_result"
    }
   ],
   "source": [
    "DataFrame(pop,index= [2001,2002,2003])"
   ]
  },
  {
   "cell_type": "code",
   "execution_count": 52,
   "metadata": {},
   "outputs": [
    {
     "data": {
      "text/html": [
       "<div>\n",
       "<style>\n",
       "    .dataframe thead tr:only-child th {\n",
       "        text-align: right;\n",
       "    }\n",
       "\n",
       "    .dataframe thead th {\n",
       "        text-align: left;\n",
       "    }\n",
       "\n",
       "    .dataframe tbody tr th {\n",
       "        vertical-align: top;\n",
       "    }\n",
       "</style>\n",
       "<table border=\"1\" class=\"dataframe\">\n",
       "  <thead>\n",
       "    <tr style=\"text-align: right;\">\n",
       "      <th></th>\n",
       "      <th>Nevada</th>\n",
       "      <th>Ohio</th>\n",
       "    </tr>\n",
       "  </thead>\n",
       "  <tbody>\n",
       "    <tr>\n",
       "      <th>2000</th>\n",
       "      <td>NaN</td>\n",
       "      <td>1.5</td>\n",
       "    </tr>\n",
       "    <tr>\n",
       "      <th>2001</th>\n",
       "      <td>2.4</td>\n",
       "      <td>1.7</td>\n",
       "    </tr>\n",
       "  </tbody>\n",
       "</table>\n",
       "</div>"
      ],
      "text/plain": [
       "      Nevada  Ohio\n",
       "2000     NaN   1.5\n",
       "2001     2.4   1.7"
      ]
     },
     "execution_count": 52,
     "metadata": {},
     "output_type": "execute_result"
    }
   ],
   "source": [
    "pdata = {'Ohio':frame3['Ohio'][:-1],'Nevada':frame3['Nevada'][:2]}\n",
    "DataFrame(pdata)"
   ]
  },
  {
   "cell_type": "code",
   "execution_count": 1,
   "metadata": {},
   "outputs": [
    {
     "data": {
      "text/plain": [
       "d    4.5\n",
       "b    7.2\n",
       "a   -5.3\n",
       "c    3.6\n",
       "dtype: float64"
      ]
     },
     "execution_count": 1,
     "metadata": {},
     "output_type": "execute_result"
    }
   ],
   "source": [
    "import pandas as pd\n",
    "from pandas import Series, DataFrame\n",
    "obj = Series([4.5, 7.2, -5.3, 3.6], index = list('dbac'))\n",
    "obj"
   ]
  },
  {
   "cell_type": "code",
   "execution_count": 2,
   "metadata": {
    "collapsed": true
   },
   "outputs": [],
   "source": [
    "# reindex 会对课程表进行重新排列\n",
    "obj2 = obj.reindex(list('abcde'))"
   ]
  },
  {
   "cell_type": "code",
   "execution_count": 3,
   "metadata": {},
   "outputs": [
    {
     "data": {
      "text/plain": [
       "a   -5.3\n",
       "b    7.2\n",
       "c    3.6\n",
       "d    4.5\n",
       "e    NaN\n",
       "dtype: float64"
      ]
     },
     "execution_count": 3,
     "metadata": {},
     "output_type": "execute_result"
    }
   ],
   "source": [
    "obj2"
   ]
  },
  {
   "cell_type": "code",
   "execution_count": 4,
   "metadata": {},
   "outputs": [
    {
     "data": {
      "text/plain": [
       "a   -5.3\n",
       "b    7.2\n",
       "c    3.6\n",
       "d    4.5\n",
       "e    0.0\n",
       "dtype: float64"
      ]
     },
     "execution_count": 4,
     "metadata": {},
     "output_type": "execute_result"
    }
   ],
   "source": [
    "obj.reindex(list('abcde'), fill_value=0)"
   ]
  },
  {
   "cell_type": "code",
   "execution_count": 5,
   "metadata": {
    "scrolled": false
   },
   "outputs": [
    {
     "data": {
      "text/plain": [
       "0      blue\n",
       "1      blue\n",
       "2    purple\n",
       "3    purple\n",
       "4    yellow\n",
       "5    yellow\n",
       "dtype: object"
      ]
     },
     "execution_count": 5,
     "metadata": {},
     "output_type": "execute_result"
    }
   ],
   "source": [
    "obj3 = Series(['blue','purple','yellow'], index=[0,2,4])\n",
    "obj3.reindex(range(6), method='ffill')"
   ]
  },
  {
   "cell_type": "code",
   "execution_count": 8,
   "metadata": {
    "collapsed": true
   },
   "outputs": [],
   "source": [
    "import numpy as np\n",
    "frame = DataFrame(np.arange(9).reshape((3,3)),index=list('acd'),\\\n",
    "                  columns=['Ohio','Texas','California'])"
   ]
  },
  {
   "cell_type": "code",
   "execution_count": 9,
   "metadata": {},
   "outputs": [
    {
     "data": {
      "text/html": [
       "<div>\n",
       "<style scoped>\n",
       "    .dataframe tbody tr th:only-of-type {\n",
       "        vertical-align: middle;\n",
       "    }\n",
       "\n",
       "    .dataframe tbody tr th {\n",
       "        vertical-align: top;\n",
       "    }\n",
       "\n",
       "    .dataframe thead th {\n",
       "        text-align: right;\n",
       "    }\n",
       "</style>\n",
       "<table border=\"1\" class=\"dataframe\">\n",
       "  <thead>\n",
       "    <tr style=\"text-align: right;\">\n",
       "      <th></th>\n",
       "      <th>Ohio</th>\n",
       "      <th>Texas</th>\n",
       "      <th>California</th>\n",
       "    </tr>\n",
       "  </thead>\n",
       "  <tbody>\n",
       "    <tr>\n",
       "      <th>a</th>\n",
       "      <td>0</td>\n",
       "      <td>1</td>\n",
       "      <td>2</td>\n",
       "    </tr>\n",
       "    <tr>\n",
       "      <th>c</th>\n",
       "      <td>3</td>\n",
       "      <td>4</td>\n",
       "      <td>5</td>\n",
       "    </tr>\n",
       "    <tr>\n",
       "      <th>d</th>\n",
       "      <td>6</td>\n",
       "      <td>7</td>\n",
       "      <td>8</td>\n",
       "    </tr>\n",
       "  </tbody>\n",
       "</table>\n",
       "</div>"
      ],
      "text/plain": [
       "   Ohio  Texas  California\n",
       "a     0      1           2\n",
       "c     3      4           5\n",
       "d     6      7           8"
      ]
     },
     "execution_count": 9,
     "metadata": {},
     "output_type": "execute_result"
    }
   ],
   "source": [
    "frame"
   ]
  },
  {
   "cell_type": "code",
   "execution_count": 10,
   "metadata": {
    "collapsed": true
   },
   "outputs": [],
   "source": [
    "frame2 = frame.reindex(list('abcd'))"
   ]
  },
  {
   "cell_type": "code",
   "execution_count": 11,
   "metadata": {},
   "outputs": [
    {
     "data": {
      "text/html": [
       "<div>\n",
       "<style scoped>\n",
       "    .dataframe tbody tr th:only-of-type {\n",
       "        vertical-align: middle;\n",
       "    }\n",
       "\n",
       "    .dataframe tbody tr th {\n",
       "        vertical-align: top;\n",
       "    }\n",
       "\n",
       "    .dataframe thead th {\n",
       "        text-align: right;\n",
       "    }\n",
       "</style>\n",
       "<table border=\"1\" class=\"dataframe\">\n",
       "  <thead>\n",
       "    <tr style=\"text-align: right;\">\n",
       "      <th></th>\n",
       "      <th>Ohio</th>\n",
       "      <th>Texas</th>\n",
       "      <th>California</th>\n",
       "    </tr>\n",
       "  </thead>\n",
       "  <tbody>\n",
       "    <tr>\n",
       "      <th>a</th>\n",
       "      <td>0.0</td>\n",
       "      <td>1.0</td>\n",
       "      <td>2.0</td>\n",
       "    </tr>\n",
       "    <tr>\n",
       "      <th>b</th>\n",
       "      <td>NaN</td>\n",
       "      <td>NaN</td>\n",
       "      <td>NaN</td>\n",
       "    </tr>\n",
       "    <tr>\n",
       "      <th>c</th>\n",
       "      <td>3.0</td>\n",
       "      <td>4.0</td>\n",
       "      <td>5.0</td>\n",
       "    </tr>\n",
       "    <tr>\n",
       "      <th>d</th>\n",
       "      <td>6.0</td>\n",
       "      <td>7.0</td>\n",
       "      <td>8.0</td>\n",
       "    </tr>\n",
       "  </tbody>\n",
       "</table>\n",
       "</div>"
      ],
      "text/plain": [
       "   Ohio  Texas  California\n",
       "a   0.0    1.0         2.0\n",
       "b   NaN    NaN         NaN\n",
       "c   3.0    4.0         5.0\n",
       "d   6.0    7.0         8.0"
      ]
     },
     "execution_count": 11,
     "metadata": {},
     "output_type": "execute_result"
    }
   ],
   "source": [
    "frame2"
   ]
  },
  {
   "cell_type": "code",
   "execution_count": 12,
   "metadata": {
    "collapsed": true
   },
   "outputs": [],
   "source": [
    "states = ['Texas','Utah','California']\n",
    "frame3 = frame.reindex(columns=states)"
   ]
  },
  {
   "cell_type": "code",
   "execution_count": 13,
   "metadata": {
    "scrolled": false
   },
   "outputs": [
    {
     "data": {
      "text/html": [
       "<div>\n",
       "<style scoped>\n",
       "    .dataframe tbody tr th:only-of-type {\n",
       "        vertical-align: middle;\n",
       "    }\n",
       "\n",
       "    .dataframe tbody tr th {\n",
       "        vertical-align: top;\n",
       "    }\n",
       "\n",
       "    .dataframe thead th {\n",
       "        text-align: right;\n",
       "    }\n",
       "</style>\n",
       "<table border=\"1\" class=\"dataframe\">\n",
       "  <thead>\n",
       "    <tr style=\"text-align: right;\">\n",
       "      <th></th>\n",
       "      <th>Texas</th>\n",
       "      <th>Utah</th>\n",
       "      <th>California</th>\n",
       "    </tr>\n",
       "  </thead>\n",
       "  <tbody>\n",
       "    <tr>\n",
       "      <th>a</th>\n",
       "      <td>1</td>\n",
       "      <td>NaN</td>\n",
       "      <td>2</td>\n",
       "    </tr>\n",
       "    <tr>\n",
       "      <th>c</th>\n",
       "      <td>4</td>\n",
       "      <td>NaN</td>\n",
       "      <td>5</td>\n",
       "    </tr>\n",
       "    <tr>\n",
       "      <th>d</th>\n",
       "      <td>7</td>\n",
       "      <td>NaN</td>\n",
       "      <td>8</td>\n",
       "    </tr>\n",
       "  </tbody>\n",
       "</table>\n",
       "</div>"
      ],
      "text/plain": [
       "   Texas  Utah  California\n",
       "a      1   NaN           2\n",
       "c      4   NaN           5\n",
       "d      7   NaN           8"
      ]
     },
     "execution_count": 13,
     "metadata": {},
     "output_type": "execute_result"
    }
   ],
   "source": [
    "frame3"
   ]
  },
  {
   "cell_type": "code",
   "execution_count": 16,
   "metadata": {},
   "outputs": [
    {
     "data": {
      "text/html": [
       "<div>\n",
       "<style scoped>\n",
       "    .dataframe tbody tr th:only-of-type {\n",
       "        vertical-align: middle;\n",
       "    }\n",
       "\n",
       "    .dataframe tbody tr th {\n",
       "        vertical-align: top;\n",
       "    }\n",
       "\n",
       "    .dataframe thead th {\n",
       "        text-align: right;\n",
       "    }\n",
       "</style>\n",
       "<table border=\"1\" class=\"dataframe\">\n",
       "  <thead>\n",
       "    <tr style=\"text-align: right;\">\n",
       "      <th></th>\n",
       "      <th>Texas</th>\n",
       "      <th>Utah</th>\n",
       "      <th>California</th>\n",
       "    </tr>\n",
       "  </thead>\n",
       "  <tbody>\n",
       "    <tr>\n",
       "      <th>a</th>\n",
       "      <td>1</td>\n",
       "      <td>NaN</td>\n",
       "      <td>2</td>\n",
       "    </tr>\n",
       "    <tr>\n",
       "      <th>d</th>\n",
       "      <td>7</td>\n",
       "      <td>NaN</td>\n",
       "      <td>8</td>\n",
       "    </tr>\n",
       "  </tbody>\n",
       "</table>\n",
       "</div>"
      ],
      "text/plain": [
       "   Texas  Utah  California\n",
       "a      1   NaN           2\n",
       "d      7   NaN           8"
      ]
     },
     "execution_count": 16,
     "metadata": {},
     "output_type": "execute_result"
    }
   ],
   "source": [
    "frame3.drop('c')"
   ]
  },
  {
   "cell_type": "code",
   "execution_count": 18,
   "metadata": {},
   "outputs": [
    {
     "data": {
      "text/html": [
       "<div>\n",
       "<style scoped>\n",
       "    .dataframe tbody tr th:only-of-type {\n",
       "        vertical-align: middle;\n",
       "    }\n",
       "\n",
       "    .dataframe tbody tr th {\n",
       "        vertical-align: top;\n",
       "    }\n",
       "\n",
       "    .dataframe thead th {\n",
       "        text-align: right;\n",
       "    }\n",
       "</style>\n",
       "<table border=\"1\" class=\"dataframe\">\n",
       "  <thead>\n",
       "    <tr style=\"text-align: right;\">\n",
       "      <th></th>\n",
       "      <th>Texas</th>\n",
       "      <th>Utah</th>\n",
       "      <th>California</th>\n",
       "    </tr>\n",
       "  </thead>\n",
       "  <tbody>\n",
       "    <tr>\n",
       "      <th>c</th>\n",
       "      <td>4</td>\n",
       "      <td>NaN</td>\n",
       "      <td>5</td>\n",
       "    </tr>\n",
       "  </tbody>\n",
       "</table>\n",
       "</div>"
      ],
      "text/plain": [
       "   Texas  Utah  California\n",
       "c      4   NaN           5"
      ]
     },
     "execution_count": 18,
     "metadata": {},
     "output_type": "execute_result"
    }
   ],
   "source": [
    "frame3.drop(['a','d'])"
   ]
  },
  {
   "cell_type": "code",
   "execution_count": 20,
   "metadata": {},
   "outputs": [
    {
     "data": {
      "text/html": [
       "<div>\n",
       "<style scoped>\n",
       "    .dataframe tbody tr th:only-of-type {\n",
       "        vertical-align: middle;\n",
       "    }\n",
       "\n",
       "    .dataframe tbody tr th {\n",
       "        vertical-align: top;\n",
       "    }\n",
       "\n",
       "    .dataframe thead th {\n",
       "        text-align: right;\n",
       "    }\n",
       "</style>\n",
       "<table border=\"1\" class=\"dataframe\">\n",
       "  <thead>\n",
       "    <tr style=\"text-align: right;\">\n",
       "      <th></th>\n",
       "      <th>Texas</th>\n",
       "      <th>Utah</th>\n",
       "      <th>California</th>\n",
       "    </tr>\n",
       "  </thead>\n",
       "  <tbody>\n",
       "    <tr>\n",
       "      <th>d</th>\n",
       "      <td>7</td>\n",
       "      <td>NaN</td>\n",
       "      <td>8</td>\n",
       "    </tr>\n",
       "  </tbody>\n",
       "</table>\n",
       "</div>"
      ],
      "text/plain": [
       "   Texas  Utah  California\n",
       "d      7   NaN           8"
      ]
     },
     "execution_count": 20,
     "metadata": {},
     "output_type": "execute_result"
    }
   ],
   "source": [
    "frame3.drop(list('ac'))"
   ]
  },
  {
   "cell_type": "code",
   "execution_count": 17,
   "metadata": {
    "scrolled": true
   },
   "outputs": [
    {
     "data": {
      "text/html": [
       "<div>\n",
       "<style scoped>\n",
       "    .dataframe tbody tr th:only-of-type {\n",
       "        vertical-align: middle;\n",
       "    }\n",
       "\n",
       "    .dataframe tbody tr th {\n",
       "        vertical-align: top;\n",
       "    }\n",
       "\n",
       "    .dataframe thead th {\n",
       "        text-align: right;\n",
       "    }\n",
       "</style>\n",
       "<table border=\"1\" class=\"dataframe\">\n",
       "  <thead>\n",
       "    <tr style=\"text-align: right;\">\n",
       "      <th></th>\n",
       "      <th>Texas</th>\n",
       "      <th>Utah</th>\n",
       "      <th>California</th>\n",
       "    </tr>\n",
       "  </thead>\n",
       "  <tbody>\n",
       "    <tr>\n",
       "      <th>a</th>\n",
       "      <td>1</td>\n",
       "      <td>NaN</td>\n",
       "      <td>2</td>\n",
       "    </tr>\n",
       "    <tr>\n",
       "      <th>c</th>\n",
       "      <td>4</td>\n",
       "      <td>NaN</td>\n",
       "      <td>5</td>\n",
       "    </tr>\n",
       "    <tr>\n",
       "      <th>d</th>\n",
       "      <td>7</td>\n",
       "      <td>NaN</td>\n",
       "      <td>8</td>\n",
       "    </tr>\n",
       "  </tbody>\n",
       "</table>\n",
       "</div>"
      ],
      "text/plain": [
       "   Texas  Utah  California\n",
       "a      1   NaN           2\n",
       "c      4   NaN           5\n",
       "d      7   NaN           8"
      ]
     },
     "execution_count": 17,
     "metadata": {},
     "output_type": "execute_result"
    }
   ],
   "source": [
    "frame3"
   ]
  },
  {
   "cell_type": "code",
   "execution_count": 22,
   "metadata": {},
   "outputs": [
    {
     "data": {
      "text/html": [
       "<div>\n",
       "<style scoped>\n",
       "    .dataframe tbody tr th:only-of-type {\n",
       "        vertical-align: middle;\n",
       "    }\n",
       "\n",
       "    .dataframe tbody tr th {\n",
       "        vertical-align: top;\n",
       "    }\n",
       "\n",
       "    .dataframe thead th {\n",
       "        text-align: right;\n",
       "    }\n",
       "</style>\n",
       "<table border=\"1\" class=\"dataframe\">\n",
       "  <thead>\n",
       "    <tr style=\"text-align: right;\">\n",
       "      <th></th>\n",
       "      <th>Utah</th>\n",
       "      <th>California</th>\n",
       "    </tr>\n",
       "  </thead>\n",
       "  <tbody>\n",
       "    <tr>\n",
       "      <th>a</th>\n",
       "      <td>NaN</td>\n",
       "      <td>2</td>\n",
       "    </tr>\n",
       "    <tr>\n",
       "      <th>c</th>\n",
       "      <td>NaN</td>\n",
       "      <td>5</td>\n",
       "    </tr>\n",
       "    <tr>\n",
       "      <th>d</th>\n",
       "      <td>NaN</td>\n",
       "      <td>8</td>\n",
       "    </tr>\n",
       "  </tbody>\n",
       "</table>\n",
       "</div>"
      ],
      "text/plain": [
       "   Utah  California\n",
       "a   NaN           2\n",
       "c   NaN           5\n",
       "d   NaN           8"
      ]
     },
     "execution_count": 22,
     "metadata": {},
     "output_type": "execute_result"
    }
   ],
   "source": [
    "frame3.drop('Texas',1)"
   ]
  },
  {
   "cell_type": "code",
   "execution_count": 23,
   "metadata": {},
   "outputs": [
    {
     "data": {
      "text/html": [
       "<div>\n",
       "<style scoped>\n",
       "    .dataframe tbody tr th:only-of-type {\n",
       "        vertical-align: middle;\n",
       "    }\n",
       "\n",
       "    .dataframe tbody tr th {\n",
       "        vertical-align: top;\n",
       "    }\n",
       "\n",
       "    .dataframe thead th {\n",
       "        text-align: right;\n",
       "    }\n",
       "</style>\n",
       "<table border=\"1\" class=\"dataframe\">\n",
       "  <thead>\n",
       "    <tr style=\"text-align: right;\">\n",
       "      <th></th>\n",
       "      <th>Texas</th>\n",
       "    </tr>\n",
       "  </thead>\n",
       "  <tbody>\n",
       "    <tr>\n",
       "      <th>a</th>\n",
       "      <td>1</td>\n",
       "    </tr>\n",
       "    <tr>\n",
       "      <th>c</th>\n",
       "      <td>4</td>\n",
       "    </tr>\n",
       "    <tr>\n",
       "      <th>d</th>\n",
       "      <td>7</td>\n",
       "    </tr>\n",
       "  </tbody>\n",
       "</table>\n",
       "</div>"
      ],
      "text/plain": [
       "   Texas\n",
       "a      1\n",
       "c      4\n",
       "d      7"
      ]
     },
     "execution_count": 23,
     "metadata": {},
     "output_type": "execute_result"
    }
   ],
   "source": [
    "frame3.drop(['Utah','California'],1)"
   ]
  },
  {
   "cell_type": "code",
   "execution_count": 24,
   "metadata": {},
   "outputs": [
    {
     "data": {
      "text/plain": [
       "0      blue\n",
       "2    purple\n",
       "4    yellow\n",
       "dtype: object"
      ]
     },
     "execution_count": 24,
     "metadata": {},
     "output_type": "execute_result"
    }
   ],
   "source": [
    "obj3"
   ]
  },
  {
   "cell_type": "code",
   "execution_count": 25,
   "metadata": {},
   "outputs": [
    {
     "data": {
      "text/plain": [
       "'blue'"
      ]
     },
     "execution_count": 25,
     "metadata": {},
     "output_type": "execute_result"
    }
   ],
   "source": [
    "obj3[0]"
   ]
  },
  {
   "cell_type": "code",
   "execution_count": 27,
   "metadata": {},
   "outputs": [
    {
     "data": {
      "text/plain": [
       "Int64Index([0, 2, 4], dtype='int64')"
      ]
     },
     "execution_count": 27,
     "metadata": {},
     "output_type": "execute_result"
    }
   ],
   "source": [
    "obj3.index"
   ]
  },
  {
   "cell_type": "code",
   "execution_count": 28,
   "metadata": {
    "collapsed": true
   },
   "outputs": [],
   "source": [
    "obj3.index = list('abc')"
   ]
  },
  {
   "cell_type": "code",
   "execution_count": 29,
   "metadata": {},
   "outputs": [
    {
     "data": {
      "text/plain": [
       "a      blue\n",
       "b    purple\n",
       "c    yellow\n",
       "dtype: object"
      ]
     },
     "execution_count": 29,
     "metadata": {},
     "output_type": "execute_result"
    }
   ],
   "source": [
    "obj3"
   ]
  },
  {
   "cell_type": "code",
   "execution_count": 30,
   "metadata": {},
   "outputs": [
    {
     "data": {
      "text/plain": [
       "'blue'"
      ]
     },
     "execution_count": 30,
     "metadata": {},
     "output_type": "execute_result"
    }
   ],
   "source": [
    "obj3['a']"
   ]
  },
  {
   "cell_type": "code",
   "execution_count": 31,
   "metadata": {},
   "outputs": [
    {
     "data": {
      "text/plain": [
       "'purple'"
      ]
     },
     "execution_count": 31,
     "metadata": {},
     "output_type": "execute_result"
    }
   ],
   "source": [
    "obj3[1]"
   ]
  },
  {
   "cell_type": "code",
   "execution_count": 33,
   "metadata": {},
   "outputs": [
    {
     "data": {
      "text/plain": [
       "b    purple\n",
       "c    yellow\n",
       "dtype: object"
      ]
     },
     "execution_count": 33,
     "metadata": {},
     "output_type": "execute_result"
    }
   ],
   "source": [
    "obj3[[1,2]]"
   ]
  },
  {
   "cell_type": "code",
   "execution_count": 38,
   "metadata": {},
   "outputs": [
    {
     "data": {
      "text/plain": [
       "d    4.5\n",
       "b    7.2\n",
       "a   -5.3\n",
       "c    3.6\n",
       "dtype: float64"
      ]
     },
     "execution_count": 38,
     "metadata": {},
     "output_type": "execute_result"
    }
   ],
   "source": [
    "obj"
   ]
  },
  {
   "cell_type": "code",
   "execution_count": 39,
   "metadata": {},
   "outputs": [
    {
     "data": {
      "text/plain": [
       "a   -5.3\n",
       "dtype: float64"
      ]
     },
     "execution_count": 39,
     "metadata": {},
     "output_type": "execute_result"
    }
   ],
   "source": [
    "obj[obj<2]"
   ]
  },
  {
   "cell_type": "code",
   "execution_count": 40,
   "metadata": {},
   "outputs": [
    {
     "data": {
      "text/plain": [
       "a   -5.3\n",
       "c    3.6\n",
       "dtype: float64"
      ]
     },
     "execution_count": 40,
     "metadata": {},
     "output_type": "execute_result"
    }
   ],
   "source": [
    "obj['a':'c']"
   ]
  },
  {
   "cell_type": "code",
   "execution_count": 41,
   "metadata": {
    "collapsed": true
   },
   "outputs": [],
   "source": [
    "obj['b':'a']=5"
   ]
  },
  {
   "cell_type": "code",
   "execution_count": 42,
   "metadata": {
    "scrolled": true
   },
   "outputs": [
    {
     "data": {
      "text/plain": [
       "d    4.5\n",
       "b    5.0\n",
       "a    5.0\n",
       "c    3.6\n",
       "dtype: float64"
      ]
     },
     "execution_count": 42,
     "metadata": {},
     "output_type": "execute_result"
    }
   ],
   "source": [
    "obj"
   ]
  },
  {
   "cell_type": "code",
   "execution_count": 43,
   "metadata": {},
   "outputs": [
    {
     "data": {
      "text/html": [
       "<div>\n",
       "<style scoped>\n",
       "    .dataframe tbody tr th:only-of-type {\n",
       "        vertical-align: middle;\n",
       "    }\n",
       "\n",
       "    .dataframe tbody tr th {\n",
       "        vertical-align: top;\n",
       "    }\n",
       "\n",
       "    .dataframe thead th {\n",
       "        text-align: right;\n",
       "    }\n",
       "</style>\n",
       "<table border=\"1\" class=\"dataframe\">\n",
       "  <thead>\n",
       "    <tr style=\"text-align: right;\">\n",
       "      <th></th>\n",
       "      <th>Texas</th>\n",
       "      <th>Utah</th>\n",
       "      <th>California</th>\n",
       "    </tr>\n",
       "  </thead>\n",
       "  <tbody>\n",
       "    <tr>\n",
       "      <th>a</th>\n",
       "      <td>1</td>\n",
       "      <td>NaN</td>\n",
       "      <td>2</td>\n",
       "    </tr>\n",
       "    <tr>\n",
       "      <th>c</th>\n",
       "      <td>4</td>\n",
       "      <td>NaN</td>\n",
       "      <td>5</td>\n",
       "    </tr>\n",
       "    <tr>\n",
       "      <th>d</th>\n",
       "      <td>7</td>\n",
       "      <td>NaN</td>\n",
       "      <td>8</td>\n",
       "    </tr>\n",
       "  </tbody>\n",
       "</table>\n",
       "</div>"
      ],
      "text/plain": [
       "   Texas  Utah  California\n",
       "a      1   NaN           2\n",
       "c      4   NaN           5\n",
       "d      7   NaN           8"
      ]
     },
     "execution_count": 43,
     "metadata": {},
     "output_type": "execute_result"
    }
   ],
   "source": [
    "frame3"
   ]
  },
  {
   "cell_type": "code",
   "execution_count": 44,
   "metadata": {
    "collapsed": true
   },
   "outputs": [],
   "source": [
    "frame3['Utah'] = np.arange(3)"
   ]
  },
  {
   "cell_type": "code",
   "execution_count": 46,
   "metadata": {},
   "outputs": [
    {
     "data": {
      "text/html": [
       "<div>\n",
       "<style scoped>\n",
       "    .dataframe tbody tr th:only-of-type {\n",
       "        vertical-align: middle;\n",
       "    }\n",
       "\n",
       "    .dataframe tbody tr th {\n",
       "        vertical-align: top;\n",
       "    }\n",
       "\n",
       "    .dataframe thead th {\n",
       "        text-align: right;\n",
       "    }\n",
       "</style>\n",
       "<table border=\"1\" class=\"dataframe\">\n",
       "  <thead>\n",
       "    <tr style=\"text-align: right;\">\n",
       "      <th></th>\n",
       "      <th>Texas</th>\n",
       "      <th>Utah</th>\n",
       "      <th>California</th>\n",
       "    </tr>\n",
       "  </thead>\n",
       "  <tbody>\n",
       "    <tr>\n",
       "      <th>a</th>\n",
       "      <td>1</td>\n",
       "      <td>0</td>\n",
       "      <td>2</td>\n",
       "    </tr>\n",
       "    <tr>\n",
       "      <th>c</th>\n",
       "      <td>4</td>\n",
       "      <td>1</td>\n",
       "      <td>5</td>\n",
       "    </tr>\n",
       "    <tr>\n",
       "      <th>d</th>\n",
       "      <td>7</td>\n",
       "      <td>2</td>\n",
       "      <td>8</td>\n",
       "    </tr>\n",
       "  </tbody>\n",
       "</table>\n",
       "</div>"
      ],
      "text/plain": [
       "   Texas  Utah  California\n",
       "a      1     0           2\n",
       "c      4     1           5\n",
       "d      7     2           8"
      ]
     },
     "execution_count": 46,
     "metadata": {},
     "output_type": "execute_result"
    }
   ],
   "source": [
    "frame3"
   ]
  },
  {
   "cell_type": "code",
   "execution_count": 47,
   "metadata": {},
   "outputs": [
    {
     "data": {
      "text/plain": [
       "a    1\n",
       "c    4\n",
       "d    7\n",
       "Name: Texas, dtype: int32"
      ]
     },
     "execution_count": 47,
     "metadata": {},
     "output_type": "execute_result"
    }
   ],
   "source": [
    "frame3['Texas']"
   ]
  },
  {
   "cell_type": "code",
   "execution_count": 48,
   "metadata": {},
   "outputs": [
    {
     "data": {
      "text/html": [
       "<div>\n",
       "<style scoped>\n",
       "    .dataframe tbody tr th:only-of-type {\n",
       "        vertical-align: middle;\n",
       "    }\n",
       "\n",
       "    .dataframe tbody tr th {\n",
       "        vertical-align: top;\n",
       "    }\n",
       "\n",
       "    .dataframe thead th {\n",
       "        text-align: right;\n",
       "    }\n",
       "</style>\n",
       "<table border=\"1\" class=\"dataframe\">\n",
       "  <thead>\n",
       "    <tr style=\"text-align: right;\">\n",
       "      <th></th>\n",
       "      <th>Utah</th>\n",
       "      <th>California</th>\n",
       "    </tr>\n",
       "  </thead>\n",
       "  <tbody>\n",
       "    <tr>\n",
       "      <th>a</th>\n",
       "      <td>0</td>\n",
       "      <td>2</td>\n",
       "    </tr>\n",
       "    <tr>\n",
       "      <th>c</th>\n",
       "      <td>1</td>\n",
       "      <td>5</td>\n",
       "    </tr>\n",
       "    <tr>\n",
       "      <th>d</th>\n",
       "      <td>2</td>\n",
       "      <td>8</td>\n",
       "    </tr>\n",
       "  </tbody>\n",
       "</table>\n",
       "</div>"
      ],
      "text/plain": [
       "   Utah  California\n",
       "a     0           2\n",
       "c     1           5\n",
       "d     2           8"
      ]
     },
     "execution_count": 48,
     "metadata": {},
     "output_type": "execute_result"
    }
   ],
   "source": [
    "frame3[['Utah','California']]"
   ]
  },
  {
   "cell_type": "code",
   "execution_count": 50,
   "metadata": {},
   "outputs": [
    {
     "data": {
      "text/html": [
       "<div>\n",
       "<style scoped>\n",
       "    .dataframe tbody tr th:only-of-type {\n",
       "        vertical-align: middle;\n",
       "    }\n",
       "\n",
       "    .dataframe tbody tr th {\n",
       "        vertical-align: top;\n",
       "    }\n",
       "\n",
       "    .dataframe thead th {\n",
       "        text-align: right;\n",
       "    }\n",
       "</style>\n",
       "<table border=\"1\" class=\"dataframe\">\n",
       "  <thead>\n",
       "    <tr style=\"text-align: right;\">\n",
       "      <th></th>\n",
       "      <th>Texas</th>\n",
       "      <th>Utah</th>\n",
       "      <th>California</th>\n",
       "    </tr>\n",
       "  </thead>\n",
       "  <tbody>\n",
       "    <tr>\n",
       "      <th>a</th>\n",
       "      <td>1</td>\n",
       "      <td>0</td>\n",
       "      <td>2</td>\n",
       "    </tr>\n",
       "    <tr>\n",
       "      <th>c</th>\n",
       "      <td>4</td>\n",
       "      <td>1</td>\n",
       "      <td>5</td>\n",
       "    </tr>\n",
       "  </tbody>\n",
       "</table>\n",
       "</div>"
      ],
      "text/plain": [
       "   Texas  Utah  California\n",
       "a      1     0           2\n",
       "c      4     1           5"
      ]
     },
     "execution_count": 50,
     "metadata": {},
     "output_type": "execute_result"
    }
   ],
   "source": [
    "frame3[:2]"
   ]
  },
  {
   "cell_type": "code",
   "execution_count": 51,
   "metadata": {},
   "outputs": [
    {
     "data": {
      "text/html": [
       "<div>\n",
       "<style scoped>\n",
       "    .dataframe tbody tr th:only-of-type {\n",
       "        vertical-align: middle;\n",
       "    }\n",
       "\n",
       "    .dataframe tbody tr th {\n",
       "        vertical-align: top;\n",
       "    }\n",
       "\n",
       "    .dataframe thead th {\n",
       "        text-align: right;\n",
       "    }\n",
       "</style>\n",
       "<table border=\"1\" class=\"dataframe\">\n",
       "  <thead>\n",
       "    <tr style=\"text-align: right;\">\n",
       "      <th></th>\n",
       "      <th>Texas</th>\n",
       "      <th>Utah</th>\n",
       "      <th>California</th>\n",
       "    </tr>\n",
       "  </thead>\n",
       "  <tbody>\n",
       "    <tr>\n",
       "      <th>c</th>\n",
       "      <td>4</td>\n",
       "      <td>1</td>\n",
       "      <td>5</td>\n",
       "    </tr>\n",
       "    <tr>\n",
       "      <th>d</th>\n",
       "      <td>7</td>\n",
       "      <td>2</td>\n",
       "      <td>8</td>\n",
       "    </tr>\n",
       "  </tbody>\n",
       "</table>\n",
       "</div>"
      ],
      "text/plain": [
       "   Texas  Utah  California\n",
       "c      4     1           5\n",
       "d      7     2           8"
      ]
     },
     "execution_count": 51,
     "metadata": {},
     "output_type": "execute_result"
    }
   ],
   "source": [
    "frame3[frame3['California']>3]"
   ]
  },
  {
   "cell_type": "code",
   "execution_count": 52,
   "metadata": {},
   "outputs": [
    {
     "data": {
      "text/html": [
       "<div>\n",
       "<style scoped>\n",
       "    .dataframe tbody tr th:only-of-type {\n",
       "        vertical-align: middle;\n",
       "    }\n",
       "\n",
       "    .dataframe tbody tr th {\n",
       "        vertical-align: top;\n",
       "    }\n",
       "\n",
       "    .dataframe thead th {\n",
       "        text-align: right;\n",
       "    }\n",
       "</style>\n",
       "<table border=\"1\" class=\"dataframe\">\n",
       "  <thead>\n",
       "    <tr style=\"text-align: right;\">\n",
       "      <th></th>\n",
       "      <th>Texas</th>\n",
       "      <th>Utah</th>\n",
       "      <th>California</th>\n",
       "    </tr>\n",
       "  </thead>\n",
       "  <tbody>\n",
       "    <tr>\n",
       "      <th>a</th>\n",
       "      <td>True</td>\n",
       "      <td>True</td>\n",
       "      <td>True</td>\n",
       "    </tr>\n",
       "    <tr>\n",
       "      <th>c</th>\n",
       "      <td>False</td>\n",
       "      <td>True</td>\n",
       "      <td>False</td>\n",
       "    </tr>\n",
       "    <tr>\n",
       "      <th>d</th>\n",
       "      <td>False</td>\n",
       "      <td>True</td>\n",
       "      <td>False</td>\n",
       "    </tr>\n",
       "  </tbody>\n",
       "</table>\n",
       "</div>"
      ],
      "text/plain": [
       "   Texas  Utah  California\n",
       "a   True  True        True\n",
       "c  False  True       False\n",
       "d  False  True       False"
      ]
     },
     "execution_count": 52,
     "metadata": {},
     "output_type": "execute_result"
    }
   ],
   "source": [
    "frame3<4"
   ]
  },
  {
   "cell_type": "code",
   "execution_count": 53,
   "metadata": {
    "collapsed": true
   },
   "outputs": [],
   "source": [
    "frame3[frame3<1]=1"
   ]
  },
  {
   "cell_type": "code",
   "execution_count": 54,
   "metadata": {},
   "outputs": [
    {
     "data": {
      "text/html": [
       "<div>\n",
       "<style scoped>\n",
       "    .dataframe tbody tr th:only-of-type {\n",
       "        vertical-align: middle;\n",
       "    }\n",
       "\n",
       "    .dataframe tbody tr th {\n",
       "        vertical-align: top;\n",
       "    }\n",
       "\n",
       "    .dataframe thead th {\n",
       "        text-align: right;\n",
       "    }\n",
       "</style>\n",
       "<table border=\"1\" class=\"dataframe\">\n",
       "  <thead>\n",
       "    <tr style=\"text-align: right;\">\n",
       "      <th></th>\n",
       "      <th>Texas</th>\n",
       "      <th>Utah</th>\n",
       "      <th>California</th>\n",
       "    </tr>\n",
       "  </thead>\n",
       "  <tbody>\n",
       "    <tr>\n",
       "      <th>a</th>\n",
       "      <td>1</td>\n",
       "      <td>1</td>\n",
       "      <td>2</td>\n",
       "    </tr>\n",
       "    <tr>\n",
       "      <th>c</th>\n",
       "      <td>4</td>\n",
       "      <td>1</td>\n",
       "      <td>5</td>\n",
       "    </tr>\n",
       "    <tr>\n",
       "      <th>d</th>\n",
       "      <td>7</td>\n",
       "      <td>2</td>\n",
       "      <td>8</td>\n",
       "    </tr>\n",
       "  </tbody>\n",
       "</table>\n",
       "</div>"
      ],
      "text/plain": [
       "   Texas  Utah  California\n",
       "a      1     1           2\n",
       "c      4     1           5\n",
       "d      7     2           8"
      ]
     },
     "execution_count": 54,
     "metadata": {},
     "output_type": "execute_result"
    }
   ],
   "source": [
    "frame3"
   ]
  },
  {
   "cell_type": "code",
   "execution_count": 55,
   "metadata": {},
   "outputs": [
    {
     "data": {
      "text/html": [
       "<div>\n",
       "<style scoped>\n",
       "    .dataframe tbody tr th:only-of-type {\n",
       "        vertical-align: middle;\n",
       "    }\n",
       "\n",
       "    .dataframe tbody tr th {\n",
       "        vertical-align: top;\n",
       "    }\n",
       "\n",
       "    .dataframe thead th {\n",
       "        text-align: right;\n",
       "    }\n",
       "</style>\n",
       "<table border=\"1\" class=\"dataframe\">\n",
       "  <thead>\n",
       "    <tr style=\"text-align: right;\">\n",
       "      <th></th>\n",
       "      <th>Ohio</th>\n",
       "      <th>Texas</th>\n",
       "      <th>California</th>\n",
       "    </tr>\n",
       "  </thead>\n",
       "  <tbody>\n",
       "    <tr>\n",
       "      <th>a</th>\n",
       "      <td>0.0</td>\n",
       "      <td>1.0</td>\n",
       "      <td>2.0</td>\n",
       "    </tr>\n",
       "    <tr>\n",
       "      <th>b</th>\n",
       "      <td>NaN</td>\n",
       "      <td>NaN</td>\n",
       "      <td>NaN</td>\n",
       "    </tr>\n",
       "    <tr>\n",
       "      <th>c</th>\n",
       "      <td>3.0</td>\n",
       "      <td>4.0</td>\n",
       "      <td>5.0</td>\n",
       "    </tr>\n",
       "    <tr>\n",
       "      <th>d</th>\n",
       "      <td>6.0</td>\n",
       "      <td>7.0</td>\n",
       "      <td>8.0</td>\n",
       "    </tr>\n",
       "  </tbody>\n",
       "</table>\n",
       "</div>"
      ],
      "text/plain": [
       "   Ohio  Texas  California\n",
       "a   0.0    1.0         2.0\n",
       "b   NaN    NaN         NaN\n",
       "c   3.0    4.0         5.0\n",
       "d   6.0    7.0         8.0"
      ]
     },
     "execution_count": 55,
     "metadata": {},
     "output_type": "execute_result"
    }
   ],
   "source": [
    "frame2"
   ]
  },
  {
   "cell_type": "code",
   "execution_count": 58,
   "metadata": {},
   "outputs": [
    {
     "data": {
      "text/html": [
       "<div>\n",
       "<style scoped>\n",
       "    .dataframe tbody tr th:only-of-type {\n",
       "        vertical-align: middle;\n",
       "    }\n",
       "\n",
       "    .dataframe tbody tr th {\n",
       "        vertical-align: top;\n",
       "    }\n",
       "\n",
       "    .dataframe thead th {\n",
       "        text-align: right;\n",
       "    }\n",
       "</style>\n",
       "<table border=\"1\" class=\"dataframe\">\n",
       "  <thead>\n",
       "    <tr style=\"text-align: right;\">\n",
       "      <th></th>\n",
       "      <th>Ohio</th>\n",
       "      <th>Texas</th>\n",
       "      <th>California</th>\n",
       "      <th>False</th>\n",
       "    </tr>\n",
       "  </thead>\n",
       "  <tbody>\n",
       "    <tr>\n",
       "      <th>a</th>\n",
       "      <td>0.0</td>\n",
       "      <td>1.0</td>\n",
       "      <td>2.0</td>\n",
       "      <td>0</td>\n",
       "    </tr>\n",
       "    <tr>\n",
       "      <th>b</th>\n",
       "      <td>0.0</td>\n",
       "      <td>0.0</td>\n",
       "      <td>0.0</td>\n",
       "      <td>0</td>\n",
       "    </tr>\n",
       "    <tr>\n",
       "      <th>c</th>\n",
       "      <td>3.0</td>\n",
       "      <td>4.0</td>\n",
       "      <td>5.0</td>\n",
       "      <td>0</td>\n",
       "    </tr>\n",
       "    <tr>\n",
       "      <th>d</th>\n",
       "      <td>6.0</td>\n",
       "      <td>7.0</td>\n",
       "      <td>8.0</td>\n",
       "      <td>0</td>\n",
       "    </tr>\n",
       "  </tbody>\n",
       "</table>\n",
       "</div>"
      ],
      "text/plain": [
       "   Ohio  Texas  California  False\n",
       "a   0.0    1.0         2.0      0\n",
       "b   0.0    0.0         0.0      0\n",
       "c   3.0    4.0         5.0      0\n",
       "d   6.0    7.0         8.0      0"
      ]
     },
     "execution_count": 58,
     "metadata": {},
     "output_type": "execute_result"
    }
   ],
   "source": [
    "frame2.fillna(0)"
   ]
  },
  {
   "cell_type": "code",
   "execution_count": 57,
   "metadata": {
    "scrolled": true
   },
   "outputs": [
    {
     "data": {
      "text/html": [
       "<div>\n",
       "<style scoped>\n",
       "    .dataframe tbody tr th:only-of-type {\n",
       "        vertical-align: middle;\n",
       "    }\n",
       "\n",
       "    .dataframe tbody tr th {\n",
       "        vertical-align: top;\n",
       "    }\n",
       "\n",
       "    .dataframe thead th {\n",
       "        text-align: right;\n",
       "    }\n",
       "</style>\n",
       "<table border=\"1\" class=\"dataframe\">\n",
       "  <thead>\n",
       "    <tr style=\"text-align: right;\">\n",
       "      <th></th>\n",
       "      <th>Ohio</th>\n",
       "      <th>Texas</th>\n",
       "      <th>California</th>\n",
       "      <th>False</th>\n",
       "    </tr>\n",
       "  </thead>\n",
       "  <tbody>\n",
       "    <tr>\n",
       "      <th>a</th>\n",
       "      <td>0.0</td>\n",
       "      <td>1.0</td>\n",
       "      <td>2.0</td>\n",
       "      <td>0</td>\n",
       "    </tr>\n",
       "    <tr>\n",
       "      <th>b</th>\n",
       "      <td>NaN</td>\n",
       "      <td>NaN</td>\n",
       "      <td>NaN</td>\n",
       "      <td>0</td>\n",
       "    </tr>\n",
       "    <tr>\n",
       "      <th>c</th>\n",
       "      <td>3.0</td>\n",
       "      <td>4.0</td>\n",
       "      <td>5.0</td>\n",
       "      <td>0</td>\n",
       "    </tr>\n",
       "    <tr>\n",
       "      <th>d</th>\n",
       "      <td>6.0</td>\n",
       "      <td>7.0</td>\n",
       "      <td>8.0</td>\n",
       "      <td>0</td>\n",
       "    </tr>\n",
       "  </tbody>\n",
       "</table>\n",
       "</div>"
      ],
      "text/plain": [
       "   Ohio  Texas  California  False\n",
       "a   0.0    1.0         2.0      0\n",
       "b   NaN    NaN         NaN      0\n",
       "c   3.0    4.0         5.0      0\n",
       "d   6.0    7.0         8.0      0"
      ]
     },
     "execution_count": 57,
     "metadata": {},
     "output_type": "execute_result"
    }
   ],
   "source": [
    "frame2"
   ]
  },
  {
   "cell_type": "code",
   "execution_count": 59,
   "metadata": {},
   "outputs": [
    {
     "data": {
      "text/html": [
       "<div>\n",
       "<style scoped>\n",
       "    .dataframe tbody tr th:only-of-type {\n",
       "        vertical-align: middle;\n",
       "    }\n",
       "\n",
       "    .dataframe tbody tr th {\n",
       "        vertical-align: top;\n",
       "    }\n",
       "\n",
       "    .dataframe thead th {\n",
       "        text-align: right;\n",
       "    }\n",
       "</style>\n",
       "<table border=\"1\" class=\"dataframe\">\n",
       "  <thead>\n",
       "    <tr style=\"text-align: right;\">\n",
       "      <th></th>\n",
       "      <th>Texas</th>\n",
       "      <th>Utah</th>\n",
       "      <th>California</th>\n",
       "    </tr>\n",
       "  </thead>\n",
       "  <tbody>\n",
       "    <tr>\n",
       "      <th>a</th>\n",
       "      <td>1</td>\n",
       "      <td>1</td>\n",
       "      <td>2</td>\n",
       "    </tr>\n",
       "    <tr>\n",
       "      <th>c</th>\n",
       "      <td>4</td>\n",
       "      <td>1</td>\n",
       "      <td>5</td>\n",
       "    </tr>\n",
       "    <tr>\n",
       "      <th>d</th>\n",
       "      <td>7</td>\n",
       "      <td>2</td>\n",
       "      <td>8</td>\n",
       "    </tr>\n",
       "  </tbody>\n",
       "</table>\n",
       "</div>"
      ],
      "text/plain": [
       "   Texas  Utah  California\n",
       "a      1     1           2\n",
       "c      4     1           5\n",
       "d      7     2           8"
      ]
     },
     "execution_count": 59,
     "metadata": {},
     "output_type": "execute_result"
    }
   ],
   "source": [
    "frame3"
   ]
  },
  {
   "cell_type": "code",
   "execution_count": 60,
   "metadata": {},
   "outputs": [
    {
     "data": {
      "text/html": [
       "<div>\n",
       "<style scoped>\n",
       "    .dataframe tbody tr th:only-of-type {\n",
       "        vertical-align: middle;\n",
       "    }\n",
       "\n",
       "    .dataframe tbody tr th {\n",
       "        vertical-align: top;\n",
       "    }\n",
       "\n",
       "    .dataframe thead th {\n",
       "        text-align: right;\n",
       "    }\n",
       "</style>\n",
       "<table border=\"1\" class=\"dataframe\">\n",
       "  <thead>\n",
       "    <tr style=\"text-align: right;\">\n",
       "      <th></th>\n",
       "      <th>Ohio</th>\n",
       "      <th>Texas</th>\n",
       "      <th>California</th>\n",
       "      <th>False</th>\n",
       "      <th>Utah</th>\n",
       "    </tr>\n",
       "  </thead>\n",
       "  <tbody>\n",
       "    <tr>\n",
       "      <th>a</th>\n",
       "      <td>NaN</td>\n",
       "      <td>2.0</td>\n",
       "      <td>4.0</td>\n",
       "      <td>NaN</td>\n",
       "      <td>NaN</td>\n",
       "    </tr>\n",
       "    <tr>\n",
       "      <th>b</th>\n",
       "      <td>NaN</td>\n",
       "      <td>NaN</td>\n",
       "      <td>NaN</td>\n",
       "      <td>NaN</td>\n",
       "      <td>NaN</td>\n",
       "    </tr>\n",
       "    <tr>\n",
       "      <th>c</th>\n",
       "      <td>NaN</td>\n",
       "      <td>8.0</td>\n",
       "      <td>10.0</td>\n",
       "      <td>NaN</td>\n",
       "      <td>NaN</td>\n",
       "    </tr>\n",
       "    <tr>\n",
       "      <th>d</th>\n",
       "      <td>NaN</td>\n",
       "      <td>14.0</td>\n",
       "      <td>16.0</td>\n",
       "      <td>NaN</td>\n",
       "      <td>NaN</td>\n",
       "    </tr>\n",
       "  </tbody>\n",
       "</table>\n",
       "</div>"
      ],
      "text/plain": [
       "   Ohio  Texas  California  False  Utah\n",
       "a   NaN    2.0         4.0    NaN   NaN\n",
       "b   NaN    NaN         NaN    NaN   NaN\n",
       "c   NaN    8.0        10.0    NaN   NaN\n",
       "d   NaN   14.0        16.0    NaN   NaN"
      ]
     },
     "execution_count": 60,
     "metadata": {},
     "output_type": "execute_result"
    }
   ],
   "source": [
    "frame2 + frame3"
   ]
  },
  {
   "cell_type": "code",
   "execution_count": 62,
   "metadata": {},
   "outputs": [
    {
     "data": {
      "text/html": [
       "<div>\n",
       "<style scoped>\n",
       "    .dataframe tbody tr th:only-of-type {\n",
       "        vertical-align: middle;\n",
       "    }\n",
       "\n",
       "    .dataframe tbody tr th {\n",
       "        vertical-align: top;\n",
       "    }\n",
       "\n",
       "    .dataframe thead th {\n",
       "        text-align: right;\n",
       "    }\n",
       "</style>\n",
       "<table border=\"1\" class=\"dataframe\">\n",
       "  <thead>\n",
       "    <tr style=\"text-align: right;\">\n",
       "      <th></th>\n",
       "      <th>Texas</th>\n",
       "      <th>Utah</th>\n",
       "      <th>California</th>\n",
       "      <th>Ohio</th>\n",
       "      <th>False</th>\n",
       "    </tr>\n",
       "  </thead>\n",
       "  <tbody>\n",
       "    <tr>\n",
       "      <th>a</th>\n",
       "      <td>2.0</td>\n",
       "      <td>1.0</td>\n",
       "      <td>4.0</td>\n",
       "      <td>0.0</td>\n",
       "      <td>0.0</td>\n",
       "    </tr>\n",
       "    <tr>\n",
       "      <th>b</th>\n",
       "      <td>0.0</td>\n",
       "      <td>NaN</td>\n",
       "      <td>0.0</td>\n",
       "      <td>0.0</td>\n",
       "      <td>0.0</td>\n",
       "    </tr>\n",
       "    <tr>\n",
       "      <th>c</th>\n",
       "      <td>8.0</td>\n",
       "      <td>1.0</td>\n",
       "      <td>10.0</td>\n",
       "      <td>3.0</td>\n",
       "      <td>0.0</td>\n",
       "    </tr>\n",
       "    <tr>\n",
       "      <th>d</th>\n",
       "      <td>14.0</td>\n",
       "      <td>2.0</td>\n",
       "      <td>16.0</td>\n",
       "      <td>6.0</td>\n",
       "      <td>0.0</td>\n",
       "    </tr>\n",
       "  </tbody>\n",
       "</table>\n",
       "</div>"
      ],
      "text/plain": [
       "   Texas  Utah  California  Ohio  False\n",
       "a    2.0   1.0         4.0   0.0    0.0\n",
       "b    0.0   NaN         0.0   0.0    0.0\n",
       "c    8.0   1.0        10.0   3.0    0.0\n",
       "d   14.0   2.0        16.0   6.0    0.0"
      ]
     },
     "execution_count": 62,
     "metadata": {},
     "output_type": "execute_result"
    }
   ],
   "source": [
    "frame3.add(frame2.fillna(0), fill_value=0)"
   ]
  },
  {
   "cell_type": "code",
   "execution_count": 65,
   "metadata": {
    "collapsed": true
   },
   "outputs": [],
   "source": [
    "frame4 = frame3.reindex(columns = frame2.columns,fill_value=0)"
   ]
  },
  {
   "cell_type": "code",
   "execution_count": 66,
   "metadata": {
    "scrolled": true
   },
   "outputs": [
    {
     "data": {
      "text/html": [
       "<div>\n",
       "<style scoped>\n",
       "    .dataframe tbody tr th:only-of-type {\n",
       "        vertical-align: middle;\n",
       "    }\n",
       "\n",
       "    .dataframe tbody tr th {\n",
       "        vertical-align: top;\n",
       "    }\n",
       "\n",
       "    .dataframe thead th {\n",
       "        text-align: right;\n",
       "    }\n",
       "</style>\n",
       "<table border=\"1\" class=\"dataframe\">\n",
       "  <thead>\n",
       "    <tr style=\"text-align: right;\">\n",
       "      <th></th>\n",
       "      <th>Ohio</th>\n",
       "      <th>Texas</th>\n",
       "      <th>California</th>\n",
       "      <th>False</th>\n",
       "    </tr>\n",
       "  </thead>\n",
       "  <tbody>\n",
       "    <tr>\n",
       "      <th>a</th>\n",
       "      <td>0</td>\n",
       "      <td>1</td>\n",
       "      <td>2</td>\n",
       "      <td>0</td>\n",
       "    </tr>\n",
       "    <tr>\n",
       "      <th>c</th>\n",
       "      <td>0</td>\n",
       "      <td>4</td>\n",
       "      <td>5</td>\n",
       "      <td>0</td>\n",
       "    </tr>\n",
       "    <tr>\n",
       "      <th>d</th>\n",
       "      <td>0</td>\n",
       "      <td>7</td>\n",
       "      <td>8</td>\n",
       "      <td>0</td>\n",
       "    </tr>\n",
       "  </tbody>\n",
       "</table>\n",
       "</div>"
      ],
      "text/plain": [
       "   Ohio  Texas  California  False\n",
       "a     0      1           2      0\n",
       "c     0      4           5      0\n",
       "d     0      7           8      0"
      ]
     },
     "execution_count": 66,
     "metadata": {},
     "output_type": "execute_result"
    }
   ],
   "source": [
    "frame4"
   ]
  },
  {
   "cell_type": "code",
   "execution_count": 69,
   "metadata": {
    "scrolled": true
   },
   "outputs": [
    {
     "data": {
      "text/html": [
       "<div>\n",
       "<style scoped>\n",
       "    .dataframe tbody tr th:only-of-type {\n",
       "        vertical-align: middle;\n",
       "    }\n",
       "\n",
       "    .dataframe tbody tr th {\n",
       "        vertical-align: top;\n",
       "    }\n",
       "\n",
       "    .dataframe thead th {\n",
       "        text-align: right;\n",
       "    }\n",
       "</style>\n",
       "<table border=\"1\" class=\"dataframe\">\n",
       "  <thead>\n",
       "    <tr style=\"text-align: right;\">\n",
       "      <th></th>\n",
       "      <th>Ohio</th>\n",
       "      <th>Texas</th>\n",
       "      <th>California</th>\n",
       "      <th>False</th>\n",
       "    </tr>\n",
       "  </thead>\n",
       "  <tbody>\n",
       "    <tr>\n",
       "      <th>a</th>\n",
       "      <td>0</td>\n",
       "      <td>0</td>\n",
       "      <td>0</td>\n",
       "      <td>0</td>\n",
       "    </tr>\n",
       "    <tr>\n",
       "      <th>c</th>\n",
       "      <td>0</td>\n",
       "      <td>3</td>\n",
       "      <td>3</td>\n",
       "      <td>0</td>\n",
       "    </tr>\n",
       "    <tr>\n",
       "      <th>d</th>\n",
       "      <td>0</td>\n",
       "      <td>6</td>\n",
       "      <td>6</td>\n",
       "      <td>0</td>\n",
       "    </tr>\n",
       "  </tbody>\n",
       "</table>\n",
       "</div>"
      ],
      "text/plain": [
       "   Ohio  Texas  California  False\n",
       "a     0      0           0      0\n",
       "c     0      3           3      0\n",
       "d     0      6           6      0"
      ]
     },
     "execution_count": 69,
     "metadata": {},
     "output_type": "execute_result"
    }
   ],
   "source": [
    "frame4 - frame4.iloc[0]"
   ]
  },
  {
   "cell_type": "code",
   "execution_count": 72,
   "metadata": {
    "scrolled": false
   },
   "outputs": [
    {
     "data": {
      "text/html": [
       "<div>\n",
       "<style scoped>\n",
       "    .dataframe tbody tr th:only-of-type {\n",
       "        vertical-align: middle;\n",
       "    }\n",
       "\n",
       "    .dataframe tbody tr th {\n",
       "        vertical-align: top;\n",
       "    }\n",
       "\n",
       "    .dataframe thead th {\n",
       "        text-align: right;\n",
       "    }\n",
       "</style>\n",
       "<table border=\"1\" class=\"dataframe\">\n",
       "  <thead>\n",
       "    <tr style=\"text-align: right;\">\n",
       "      <th></th>\n",
       "      <th>Ohio</th>\n",
       "      <th>Texas</th>\n",
       "      <th>California</th>\n",
       "      <th>False</th>\n",
       "    </tr>\n",
       "  </thead>\n",
       "  <tbody>\n",
       "    <tr>\n",
       "      <th>a</th>\n",
       "      <td>-1</td>\n",
       "      <td>0</td>\n",
       "      <td>1</td>\n",
       "      <td>-1</td>\n",
       "    </tr>\n",
       "    <tr>\n",
       "      <th>c</th>\n",
       "      <td>-4</td>\n",
       "      <td>0</td>\n",
       "      <td>1</td>\n",
       "      <td>-4</td>\n",
       "    </tr>\n",
       "    <tr>\n",
       "      <th>d</th>\n",
       "      <td>-7</td>\n",
       "      <td>0</td>\n",
       "      <td>1</td>\n",
       "      <td>-7</td>\n",
       "    </tr>\n",
       "  </tbody>\n",
       "</table>\n",
       "</div>"
      ],
      "text/plain": [
       "   Ohio  Texas  California  False\n",
       "a    -1      0           1     -1\n",
       "c    -4      0           1     -4\n",
       "d    -7      0           1     -7"
      ]
     },
     "execution_count": 72,
     "metadata": {},
     "output_type": "execute_result"
    }
   ],
   "source": [
    "# 传入的轴号就是希望匹配的轴\n",
    "frame4 .sub(frame4['Texas'],0)"
   ]
  },
  {
   "cell_type": "code",
   "execution_count": 1,
   "metadata": {
    "collapsed": true
   },
   "outputs": [],
   "source": [
    "import math"
   ]
  },
  {
   "cell_type": "code",
   "execution_count": 2,
   "metadata": {},
   "outputs": [
    {
     "name": "stdout",
     "output_type": "stream",
     "text": [
      "3.141592653589793\n"
     ]
    }
   ],
   "source": [
    "print(math.pi)"
   ]
  },
  {
   "cell_type": "code",
   "execution_count": 3,
   "metadata": {},
   "outputs": [
    {
     "ename": "NameError",
     "evalue": "name 'pi' is not defined",
     "output_type": "error",
     "traceback": [
      "\u001b[1;31m---------------------------------------------------------------------------\u001b[0m",
      "\u001b[1;31mNameError\u001b[0m                                 Traceback (most recent call last)",
      "\u001b[1;32m<ipython-input-3-5fd1868b3769>\u001b[0m in \u001b[0;36m<module>\u001b[1;34m()\u001b[0m\n\u001b[1;32m----> 1\u001b[1;33m \u001b[0mprint\u001b[0m\u001b[1;33m(\u001b[0m\u001b[0mpi\u001b[0m\u001b[1;33m)\u001b[0m\u001b[1;33m\u001b[0m\u001b[0m\n\u001b[0m",
      "\u001b[1;31mNameError\u001b[0m: name 'pi' is not defined"
     ]
    }
   ],
   "source": [
    "print(pi)"
   ]
  },
  {
   "cell_type": "code",
   "execution_count": 4,
   "metadata": {},
   "outputs": [
    {
     "data": {
      "text/plain": [
       "['__doc__',\n",
       " '__loader__',\n",
       " '__name__',\n",
       " '__package__',\n",
       " '__spec__',\n",
       " 'acos',\n",
       " 'acosh',\n",
       " 'asin',\n",
       " 'asinh',\n",
       " 'atan',\n",
       " 'atan2',\n",
       " 'atanh',\n",
       " 'ceil',\n",
       " 'copysign',\n",
       " 'cos',\n",
       " 'cosh',\n",
       " 'degrees',\n",
       " 'e',\n",
       " 'erf',\n",
       " 'erfc',\n",
       " 'exp',\n",
       " 'expm1',\n",
       " 'fabs',\n",
       " 'factorial',\n",
       " 'floor',\n",
       " 'fmod',\n",
       " 'frexp',\n",
       " 'fsum',\n",
       " 'gamma',\n",
       " 'gcd',\n",
       " 'hypot',\n",
       " 'inf',\n",
       " 'isclose',\n",
       " 'isfinite',\n",
       " 'isinf',\n",
       " 'isnan',\n",
       " 'ldexp',\n",
       " 'lgamma',\n",
       " 'log',\n",
       " 'log10',\n",
       " 'log1p',\n",
       " 'log2',\n",
       " 'modf',\n",
       " 'nan',\n",
       " 'pi',\n",
       " 'pow',\n",
       " 'radians',\n",
       " 'sin',\n",
       " 'sinh',\n",
       " 'sqrt',\n",
       " 'tan',\n",
       " 'tanh',\n",
       " 'tau',\n",
       " 'trunc']"
      ]
     },
     "execution_count": 4,
     "metadata": {},
     "output_type": "execute_result"
    }
   ],
   "source": [
    "dir(math)"
   ]
  },
  {
   "cell_type": "code",
   "execution_count": 5,
   "metadata": {},
   "outputs": [
    {
     "name": "stdout",
     "output_type": "stream",
     "text": [
      "Help on built-in module math:\n",
      "\n",
      "NAME\n",
      "    math\n",
      "\n",
      "DESCRIPTION\n",
      "    This module is always available.  It provides access to the\n",
      "    mathematical functions defined by the C standard.\n",
      "\n",
      "FUNCTIONS\n",
      "    acos(...)\n",
      "        acos(x)\n",
      "        \n",
      "        Return the arc cosine (measured in radians) of x.\n",
      "    \n",
      "    acosh(...)\n",
      "        acosh(x)\n",
      "        \n",
      "        Return the inverse hyperbolic cosine of x.\n",
      "    \n",
      "    asin(...)\n",
      "        asin(x)\n",
      "        \n",
      "        Return the arc sine (measured in radians) of x.\n",
      "    \n",
      "    asinh(...)\n",
      "        asinh(x)\n",
      "        \n",
      "        Return the inverse hyperbolic sine of x.\n",
      "    \n",
      "    atan(...)\n",
      "        atan(x)\n",
      "        \n",
      "        Return the arc tangent (measured in radians) of x.\n",
      "    \n",
      "    atan2(...)\n",
      "        atan2(y, x)\n",
      "        \n",
      "        Return the arc tangent (measured in radians) of y/x.\n",
      "        Unlike atan(y/x), the signs of both x and y are considered.\n",
      "    \n",
      "    atanh(...)\n",
      "        atanh(x)\n",
      "        \n",
      "        Return the inverse hyperbolic tangent of x.\n",
      "    \n",
      "    ceil(...)\n",
      "        ceil(x)\n",
      "        \n",
      "        Return the ceiling of x as an Integral.\n",
      "        This is the smallest integer >= x.\n",
      "    \n",
      "    copysign(...)\n",
      "        copysign(x, y)\n",
      "        \n",
      "        Return a float with the magnitude (absolute value) of x but the sign \n",
      "        of y. On platforms that support signed zeros, copysign(1.0, -0.0) \n",
      "        returns -1.0.\n",
      "    \n",
      "    cos(...)\n",
      "        cos(x)\n",
      "        \n",
      "        Return the cosine of x (measured in radians).\n",
      "    \n",
      "    cosh(...)\n",
      "        cosh(x)\n",
      "        \n",
      "        Return the hyperbolic cosine of x.\n",
      "    \n",
      "    degrees(...)\n",
      "        degrees(x)\n",
      "        \n",
      "        Convert angle x from radians to degrees.\n",
      "    \n",
      "    erf(...)\n",
      "        erf(x)\n",
      "        \n",
      "        Error function at x.\n",
      "    \n",
      "    erfc(...)\n",
      "        erfc(x)\n",
      "        \n",
      "        Complementary error function at x.\n",
      "    \n",
      "    exp(...)\n",
      "        exp(x)\n",
      "        \n",
      "        Return e raised to the power of x.\n",
      "    \n",
      "    expm1(...)\n",
      "        expm1(x)\n",
      "        \n",
      "        Return exp(x)-1.\n",
      "        This function avoids the loss of precision involved in the direct evaluation of exp(x)-1 for small x.\n",
      "    \n",
      "    fabs(...)\n",
      "        fabs(x)\n",
      "        \n",
      "        Return the absolute value of the float x.\n",
      "    \n",
      "    factorial(...)\n",
      "        factorial(x) -> Integral\n",
      "        \n",
      "        Find x!. Raise a ValueError if x is negative or non-integral.\n",
      "    \n",
      "    floor(...)\n",
      "        floor(x)\n",
      "        \n",
      "        Return the floor of x as an Integral.\n",
      "        This is the largest integer <= x.\n",
      "    \n",
      "    fmod(...)\n",
      "        fmod(x, y)\n",
      "        \n",
      "        Return fmod(x, y), according to platform C.  x % y may differ.\n",
      "    \n",
      "    frexp(...)\n",
      "        frexp(x)\n",
      "        \n",
      "        Return the mantissa and exponent of x, as pair (m, e).\n",
      "        m is a float and e is an int, such that x = m * 2.**e.\n",
      "        If x is 0, m and e are both 0.  Else 0.5 <= abs(m) < 1.0.\n",
      "    \n",
      "    fsum(...)\n",
      "        fsum(iterable)\n",
      "        \n",
      "        Return an accurate floating point sum of values in the iterable.\n",
      "        Assumes IEEE-754 floating point arithmetic.\n",
      "    \n",
      "    gamma(...)\n",
      "        gamma(x)\n",
      "        \n",
      "        Gamma function at x.\n",
      "    \n",
      "    gcd(...)\n",
      "        gcd(x, y) -> int\n",
      "        greatest common divisor of x and y\n",
      "    \n",
      "    hypot(...)\n",
      "        hypot(x, y)\n",
      "        \n",
      "        Return the Euclidean distance, sqrt(x*x + y*y).\n",
      "    \n",
      "    isclose(...)\n",
      "        isclose(a, b, *, rel_tol=1e-09, abs_tol=0.0) -> bool\n",
      "        \n",
      "        Determine whether two floating point numbers are close in value.\n",
      "        \n",
      "           rel_tol\n",
      "               maximum difference for being considered \"close\", relative to the\n",
      "               magnitude of the input values\n",
      "            abs_tol\n",
      "               maximum difference for being considered \"close\", regardless of the\n",
      "               magnitude of the input values\n",
      "        \n",
      "        Return True if a is close in value to b, and False otherwise.\n",
      "        \n",
      "        For the values to be considered close, the difference between them\n",
      "        must be smaller than at least one of the tolerances.\n",
      "        \n",
      "        -inf, inf and NaN behave similarly to the IEEE 754 Standard.  That\n",
      "        is, NaN is not close to anything, even itself.  inf and -inf are\n",
      "        only close to themselves.\n",
      "    \n",
      "    isfinite(...)\n",
      "        isfinite(x) -> bool\n",
      "        \n",
      "        Return True if x is neither an infinity nor a NaN, and False otherwise.\n",
      "    \n",
      "    isinf(...)\n",
      "        isinf(x) -> bool\n",
      "        \n",
      "        Return True if x is a positive or negative infinity, and False otherwise.\n",
      "    \n",
      "    isnan(...)\n",
      "        isnan(x) -> bool\n",
      "        \n",
      "        Return True if x is a NaN (not a number), and False otherwise.\n",
      "    \n",
      "    ldexp(...)\n",
      "        ldexp(x, i)\n",
      "        \n",
      "        Return x * (2**i).\n",
      "    \n",
      "    lgamma(...)\n",
      "        lgamma(x)\n",
      "        \n",
      "        Natural logarithm of absolute value of Gamma function at x.\n",
      "    \n",
      "    log(...)\n",
      "        log(x[, base])\n",
      "        \n",
      "        Return the logarithm of x to the given base.\n",
      "        If the base not specified, returns the natural logarithm (base e) of x.\n",
      "    \n",
      "    log10(...)\n",
      "        log10(x)\n",
      "        \n",
      "        Return the base 10 logarithm of x.\n",
      "    \n",
      "    log1p(...)\n",
      "        log1p(x)\n",
      "        \n",
      "        Return the natural logarithm of 1+x (base e).\n",
      "        The result is computed in a way which is accurate for x near zero.\n",
      "    \n",
      "    log2(...)\n",
      "        log2(x)\n",
      "        \n",
      "        Return the base 2 logarithm of x.\n",
      "    \n",
      "    modf(...)\n",
      "        modf(x)\n",
      "        \n",
      "        Return the fractional and integer parts of x.  Both results carry the sign\n",
      "        of x and are floats.\n",
      "    \n",
      "    pow(...)\n",
      "        pow(x, y)\n",
      "        \n",
      "        Return x**y (x to the power of y).\n",
      "    \n",
      "    radians(...)\n",
      "        radians(x)\n",
      "        \n",
      "        Convert angle x from degrees to radians.\n",
      "    \n",
      "    sin(...)\n",
      "        sin(x)\n",
      "        \n",
      "        Return the sine of x (measured in radians).\n",
      "    \n",
      "    sinh(...)\n",
      "        sinh(x)\n",
      "        \n",
      "        Return the hyperbolic sine of x.\n",
      "    \n",
      "    sqrt(...)\n",
      "        sqrt(x)\n",
      "        \n",
      "        Return the square root of x.\n",
      "    \n",
      "    tan(...)\n",
      "        tan(x)\n",
      "        \n",
      "        Return the tangent of x (measured in radians).\n",
      "    \n",
      "    tanh(...)\n",
      "        tanh(x)\n",
      "        \n",
      "        Return the hyperbolic tangent of x.\n",
      "    \n",
      "    trunc(...)\n",
      "        trunc(x:Real) -> Integral\n",
      "        \n",
      "        Truncates x to the nearest Integral toward 0. Uses the __trunc__ magic method.\n",
      "\n",
      "DATA\n",
      "    e = 2.718281828459045\n",
      "    inf = inf\n",
      "    nan = nan\n",
      "    pi = 3.141592653589793\n",
      "    tau = 6.283185307179586\n",
      "\n",
      "FILE\n",
      "    (built-in)\n",
      "\n",
      "\n"
     ]
    }
   ],
   "source": [
    "help(math)"
   ]
  },
  {
   "cell_type": "code",
   "execution_count": 7,
   "metadata": {},
   "outputs": [
    {
     "name": "stdout",
     "output_type": "stream",
     "text": [
      "rest apples are less than 9\n",
      "rest apples are less than 9\n",
      "rest apples are less than 9\n",
      "rest apples are less than 9\n",
      "rest apples are less than 9\n",
      "rest apples are less than 9\n",
      "rest apples are less than 9\n",
      "rest apples are less than 9\n",
      "rest apples are less than 9\n"
     ]
    }
   ],
   "source": [
    "apples = 100\n",
    "for a in reversed(range(apples)):\n",
    "    if a < 9:\n",
    "        print(\"rest apples are less than 9\")\n",
    "        continue\n",
    "        apples -= 9"
   ]
  },
  {
   "cell_type": "code",
   "execution_count": 8,
   "metadata": {},
   "outputs": [
    {
     "name": "stdout",
     "output_type": "stream",
     "text": [
      "rest apples are less than 9\n"
     ]
    }
   ],
   "source": [
    "apples = 100\n",
    "while apples >= 1:\n",
    "    if apples < 9:\n",
    "        print(\"rest apples are less than 9\")\n",
    "        break\n",
    "    apples -= 9"
   ]
  },
  {
   "cell_type": "code",
   "execution_count": 10,
   "metadata": {
    "collapsed": true
   },
   "outputs": [],
   "source": [
    "apples = 100\n",
    "while True:\n",
    "    if apples < 9:\n",
    "        break\n",
    "        print(\"rest apples are less than 9\")\n",
    "    apples -= 9"
   ]
  },
  {
   "cell_type": "code",
   "execution_count": 12,
   "metadata": {},
   "outputs": [
    {
     "name": "stdout",
     "output_type": "stream",
     "text": [
      "4\n"
     ]
    }
   ],
   "source": [
    "s = 0\n",
    "for i in range(1, 11):\n",
    "     if i % 2 == 0:\n",
    "        continue\n",
    "     if i % 10 == 5:\n",
    "        break\n",
    "     s = s + i\n",
    "print(s)"
   ]
  },
  {
   "cell_type": "code",
   "execution_count": 13,
   "metadata": {
    "collapsed": true
   },
   "outputs": [],
   "source": [
    "import random"
   ]
  },
  {
   "cell_type": "code",
   "execution_count": 15,
   "metadata": {},
   "outputs": [
    {
     "data": {
      "text/plain": [
       "0.6719543203692344"
      ]
     },
     "execution_count": 15,
     "metadata": {},
     "output_type": "execute_result"
    }
   ],
   "source": [
    "random.random()"
   ]
  },
  {
   "cell_type": "code",
   "execution_count": 16,
   "metadata": {},
   "outputs": [
    {
     "ename": "SyntaxError",
     "evalue": "invalid syntax (<ipython-input-16-5d58e406354d>, line 4)",
     "output_type": "error",
     "traceback": [
      "\u001b[1;36m  File \u001b[1;32m\"<ipython-input-16-5d58e406354d>\"\u001b[1;36m, line \u001b[1;32m4\u001b[0m\n\u001b[1;33m    print('F' + {.2f}.format(fwd))\u001b[0m\n\u001b[1;37m                   ^\u001b[0m\n\u001b[1;31mSyntaxError\u001b[0m\u001b[1;31m:\u001b[0m invalid syntax\n"
     ]
    }
   ],
   "source": [
    "num = input()\n",
    "if num[0] is 'C':\n",
    "    fwd = num[1:] * 1.8 + 32\n",
    "    print('F' + {.2f}.format(fwd))\n",
    "else:\n",
    "    cwd = (num[1:] - 32) /1.8\n",
    "    print('C' + {.2f}.format(cwd))"
   ]
  },
  {
   "cell_type": "code",
   "execution_count": 27,
   "metadata": {},
   "outputs": [
    {
     "ename": "SyntaxError",
     "evalue": "unexpected EOF while parsing (<ipython-input-27-173ae98c1871>, line 4)",
     "output_type": "error",
     "traceback": [
      "\u001b[1;36m  File \u001b[1;32m\"<ipython-input-27-173ae98c1871>\"\u001b[1;36m, line \u001b[1;32m4\u001b[0m\n\u001b[1;33m    print('RMB{:2f}'.format(a*6.78)\u001b[0m\n\u001b[1;37m                                   ^\u001b[0m\n\u001b[1;31mSyntaxError\u001b[0m\u001b[1;31m:\u001b[0m unexpected EOF while parsing\n"
     ]
    }
   ],
   "source": [
    "num = input()\n",
    "a = eval(num[3:])\n",
    "if num[:3]=='USD':\n",
    "    print('RMB{:2f}'.format(a*6.78)"
   ]
  },
  {
   "cell_type": "code",
   "execution_count": 28,
   "metadata": {
    "collapsed": true
   },
   "outputs": [],
   "source": [
    "import turtle as t\n",
    "t.fd(100)\n",
    "t.left(90)\n",
    "t.fd(100)\n",
    "t.left(90)\n",
    "t.fd(100)\n",
    "t.left(90)\n",
    "t.fd(100)"
   ]
  },
  {
   "cell_type": "markdown",
   "metadata": {},
   "source": [
    "### 利用Python进行数据分型，P148"
   ]
  }
 ],
 "metadata": {
  "kernelspec": {
   "display_name": "Python 3",
   "language": "python",
   "name": "python3"
  },
  "language_info": {
   "codemirror_mode": {
    "name": "ipython",
    "version": 3
   },
   "file_extension": ".py",
   "mimetype": "text/x-python",
   "name": "python",
   "nbconvert_exporter": "python",
   "pygments_lexer": "ipython3",
   "version": "3.6.3"
  },
  "toc": {
   "base_numbering": 1,
   "nav_menu": {},
   "number_sections": true,
   "sideBar": true,
   "skip_h1_title": false,
   "title_cell": "Table of Contents",
   "title_sidebar": "Contents",
   "toc_cell": false,
   "toc_position": {},
   "toc_section_display": true,
   "toc_window_display": false
  }
 },
 "nbformat": 4,
 "nbformat_minor": 2
}
