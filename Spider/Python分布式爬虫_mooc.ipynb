{
 "cells": [
  {
   "cell_type": "markdown",
   "metadata": {},
   "source": [
    "# Python分布式爬虫\n",
    "\n",
    "+ 环境配置和基础知识铺垫\n",
    "+ 爬取真是数据\n",
    "+ scrapy突破反爬虫计数\n",
    "+ scrapy进阶\n",
    "+ scrapy redis 分布式爬虫\n",
    "+ elasticsearch django实现搜索引擎"
   ]
  },
  {
   "cell_type": "markdown",
   "metadata": {},
   "source": [
    "## 爬虫基础知识\n",
    "\n",
    "+ 正则表达式\n",
    "+ 深度优先和广度优先遍历算法\n",
    "+ url去重常见策略\n",
    "\n",
    "## scrapy爬取网站\n",
    "\n",
    "+ scrap常见功能\n",
    "+ 网站结构和网站请求\n",
    "+ xpath和css\n",
    "+ scrapy：spider, item, item loader, pipeline, feed export, CrawlSpider\n",
    "    + 图片验证码，IP访问频率控制，user-agent随机更换\n",
    "    + scrapy原理，基于scrapy的中间件开发\n",
    "+ 动态网站的抓去处理\n",
    "+ selenium和phantomjs继承到scrapy\n",
    "+ scrapy log配置\n",
    "+ email发送\n",
    "+ scrapy进阶\n",
    "\n",
    "## scrapy-redis分布式爬虫\n",
    "## eleasticserach和django搭建搜索引擎"
   ]
  },
  {
   "cell_type": "markdown",
   "metadata": {},
   "source": [
    "# 开发环境搭建\n",
    "\n",
    "+ pycharm 专业版安装和配置\n",
    "    + linux，path/bin/pycharm.sh\n",
    "    + keymap, 快捷键设置\n",
    "    + interpreter, 虚拟环境的创建和添加\n",
    "\n",
    "```bash\n",
    "vim ~/.bashrc\n",
    "'添加别名\n",
    "alias pycharm=\"path\"\n",
    "\n",
    "source ~/.bashrc\n",
    "pycharm\n",
    "```\n",
    "\n",
    "+ mysql、navicat\n",
    "    + linux中安装、配置mysql"
   ]
  },
  {
   "cell_type": "markdown",
   "metadata": {},
   "source": [
    "```bash\n",
    "sudo apt-get install mysql-server\n",
    "ps aux | grep mysqld\n",
    "mysql -u root -p\n",
    "\n",
    "'外部链接mysql\n",
    "sudo vim /etc/mysql/mysql.conf.d/mysqld.cnf\n",
    "bind-address = 0.0.0.0\n",
    "'重启mysql\n",
    "sudo service mysql restart\n",
    "'查找ip\n",
    "ifconfig\n",
    "\n",
    "'mysql权限设置\n",
    "'*.*:表示所有表; %:外部ip\n",
    "GRANT ALL PRIVILEGES ON *.* TO 'root'@'%' IDENTIFIED BY 'root' WITH GRANT OPTION;\n",
    "flush privileges;\n",
    "\n",
    "'使用navicat进行连接\n",
    "'字符集：utf-8, utf-8-generci\n",
    "```"
   ]
  },
  {
   "cell_type": "markdown",
   "metadata": {},
   "source": [
    "+ 虚拟环境的安装\n",
    "    + windows\n",
    "\n",
    "```bash\n",
    "'anaconda 默认已安装virtualenv\n",
    "pip install virtualenv\n",
    "\n",
    "'建立虚拟环境，默认是当前目录\n",
    "virtualenv scrapytest\n",
    "'可指定安装的版本\n",
    "virtualenv -p D:\\programes\\Anaconda\\python.exe scrapypy3\n",
    "'启动关闭虚拟环境\n",
    "activate.bat\n",
    "deactivate.bat\n",
    "'从豆瓣源安装\n",
    "pip install -i https://pypi.douban.com/simple/ django\n",
    "\n",
    "'virtualenvwrapper\n",
    "pip install -i https://pypi.douban.com/simple/ virtualenvwrapper\n",
    "workon\n",
    "mkvirtualenv --python=\"path\" py3scrapy\n",
    "deactivate\n",
    "\n",
    "workon py3scrapy\n",
    "'如果遇到错误\n",
    "http://www.lfd.uci.edu/~gohlke/pythonlibs/\n",
    "下载对应版本\n",
    "```\n"
   ]
  },
  {
   "cell_type": "markdown",
   "metadata": {},
   "source": [
    "+ linux\n",
    "    \n",
    "```bash\n",
    "'linux\n",
    "'virtualenv\n",
    "sudo apt-get install python-virtualenv\n",
    "\n",
    "virtual py2\n",
    "cd py2/bin/\n",
    "source activate\n",
    "\n",
    "virtual -p /usr/bin/python3 py3\n",
    "cd py3/bin/\n",
    "source activate\n",
    "\n",
    "source deactivate\n",
    "\n",
    "'virtualenvwrapper\n",
    "pip install virutlenvwrapper\n",
    "sudo find / -name virtualenvwrapper.sh\n",
    "\n",
    "'拷贝路径\n",
    "vim ~/.bashrc\n",
    "\n",
    "'配置两个路径\n",
    "export WORKON_HEMO=$HOME/.virtualenvs\n",
    "source 刚拷贝的路径\n",
    "source ~/.bashrc\n",
    "\n",
    "'建立虚拟环境\n",
    "mkvirtualenv --python=/usr/bin/python3 py3scrapy\n",
    "\n",
    "```"
   ]
  },
  {
   "cell_type": "markdown",
   "metadata": {},
   "source": [
    "# 基础知识\n",
    "+ 基础技术知识：\n",
    "    + 利用scrapy和requests+beautifulsoup\n",
    "        + requests、beautiful库，scrapy是框架\n",
    "        + scrapy框架可以加入requests、beautiful\n",
    "        + scrapy基于twisted，性能是最大的优势\n",
    "        + scrapy方便扩展，提供了很多内置的功能\n",
    "        + scrapy内置的css和xpath selector非常方便， beautifulsoup的最大缺点是慢（c的框架和python的框架）\n",
    "    + 常见的类型服务\n",
    "        + 静态网页，css/js\n",
    "        + 动态网页, \n",
    "        + webservice（restapi）\n",
    "    + 爬虫作用\n",
    "        + 搜索引擎：百度、谷歌、垂直领域搜索引擎\n",
    "        + 推荐引擎：今日头条\n",
    "        + 机器学习的数据样本\n",
    "        + 数据分析（金融数据）、舆情分析等\n",
    "+ 正则表达式\n",
    "    + 正则表达式的简单应用\n",
    "    + 特殊字符\n",
    "    \n",
    "```\n",
    "^, $, *, ?, +, {2}, {2,4}, {2,}, |\n",
    "[], [^], [a-z], .\n",
    "\\s, \\S, \\w, \\W\n",
    "[\\u4E00-\\u9FA5], (), \\d\n",
    "```"
   ]
  },
  {
   "cell_type": "code",
   "execution_count": 62,
   "metadata": {},
   "outputs": [
    {
     "name": "stdout",
     "output_type": "stream",
     "text": [
      "yes\n",
      "auua你好_iiii123 123\n",
      "finished\n"
     ]
    }
   ],
   "source": [
    "#coding:utf-8\n",
    "__author__ = 'suai'\n",
    "\n",
    "import re\n",
    "\n",
    "line = 'auua你好_iiii123'\n",
    "regex_str_start = '^s'\n",
    "# regex_str_end = '.*3$'\n",
    "# regex_str_end = '\\w+3$'\n",
    "# regex_str_end = '^s.*3$'\n",
    "# regex_str_end = '.+?(u.*?i)\\w+3$'\n",
    "# regex_str_end = '^\\w+(i.{2,}i)\\w+3$'\n",
    "# regex_str_end = '([s,a]uuaiiii|ssuuaiiii)123'\n",
    "# regex_str_end = '([^s]uuaiiii|ssuuaiiii)123'\n",
    "# regex_str_end = '([a-b]uuaiiii|ssuuaiiii)123'\n",
    "# regex_str_end = '(\\wuuaiiii|ssuuaiiii)123'\n",
    "# regex_str_end = '\\wuua\\w+\\s*iiii123'\n",
    "# regex_str_end = '.*?([\\u4E00-\\u9FA5]+好).*'\n",
    "regex_str_end = '.*?(\\d+)'\n",
    "\n",
    "# if re.match(regex_str_start, line):\n",
    "# \tprint('yes')\n",
    "match_obj = re.match(regex_str_end, line)\n",
    "if match_obj:\n",
    "    print('yes')\n",
    "    print(match_obj.group(), match_obj.group(1))\n",
    "else:\n",
    "    print('Not match')\n",
    "print('finished') "
   ]
  },
  {
   "cell_type": "code",
   "execution_count": 66,
   "metadata": {},
   "outputs": [
    {
     "name": "stdout",
     "output_type": "stream",
     "text": [
      "小明出生于2001年5月10日 2001\n"
     ]
    }
   ],
   "source": [
    "import re\n",
    "line = '小明出生于2001年5月10日'\n",
    "regex_str = '\\w+(\\d{4})年.*'\n",
    "match_obj = re.match(regex_str, line)\n",
    "if match_obj:\n",
    "    print(match_obj.group(),match_obj.group(1))"
   ]
  },
  {
   "cell_type": "code",
   "execution_count": 67,
   "metadata": {},
   "outputs": [
    {
     "name": "stdout",
     "output_type": "stream",
     "text": [
      "小明出生于2010年5月10日 2010\n"
     ]
    }
   ],
   "source": [
    "import re\n",
    "\n",
    "line = '小明出生于2010年5月10日'\n",
    "regex_str = '\\w+(\\d{4})[年/-].*'\n",
    "match_obj = re.match(regex_str, line)\n",
    "if match_obj:\n",
    "\tprint(match_obj.group(), match_obj.group(1))"
   ]
  },
  {
   "cell_type": "code",
   "execution_count": 70,
   "metadata": {},
   "outputs": [
    {
     "name": "stdout",
     "output_type": "stream",
     "text": [
      "c\n",
      "['a', 'l', 'e', 'l']\n"
     ]
    }
   ],
   "source": [
    "import random\n",
    "i = list('abcdklekrl;')\n",
    "print(random.choice(i), random.sample(i, 4), sep='\\n')"
   ]
  },
  {
   "cell_type": "code",
   "execution_count": 73,
   "metadata": {},
   "outputs": [
    {
     "data": {
      "text/plain": [
       "['d', 'r', ';', 'a', 'k', 'k', 'l', 'c', 'e', 'b', 'l']"
      ]
     },
     "execution_count": 73,
     "metadata": {},
     "output_type": "execute_result"
    }
   ],
   "source": [
    "random.shuffle(i)\n",
    "i"
   ]
  },
  {
   "cell_type": "markdown",
   "metadata": {},
   "source": [
    "+ 使用scrapy爬取伯乐在线\n"
   ]
  }
 ],
 "metadata": {
  "kernelspec": {
   "display_name": "Python 3",
   "language": "python",
   "name": "python3"
  },
  "language_info": {
   "codemirror_mode": {
    "name": "ipython",
    "version": 3
   },
   "file_extension": ".py",
   "mimetype": "text/x-python",
   "name": "python",
   "nbconvert_exporter": "python",
   "pygments_lexer": "ipython3",
   "version": "3.6.3"
  },
  "toc": {
   "base_numbering": 1,
   "nav_menu": {},
   "number_sections": true,
   "sideBar": true,
   "skip_h1_title": false,
   "title_cell": "Table of Contents",
   "title_sidebar": "Contents",
   "toc_cell": false,
   "toc_position": {},
   "toc_section_display": true,
   "toc_window_display": false
  }
 },
 "nbformat": 4,
 "nbformat_minor": 2
}
