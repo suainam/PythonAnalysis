{
 "cells": [
  {
   "cell_type": "markdown",
   "metadata": {},
   "source": [
    "# Python分布式爬虫\n",
    "\n",
    "+ 环境配置和基础知识铺垫\n",
    "+ 爬取真是数据\n",
    "+ scrapy突破反爬虫计数\n",
    "+ scrapy进阶\n",
    "+ scrapy redis 分布式爬虫\n",
    "+ elasticsearch django实现搜索引擎"
   ]
  },
  {
   "cell_type": "markdown",
   "metadata": {},
   "source": [
    "## 爬虫基础知识\n",
    "\n",
    "+ 正则表达式\n",
    "+ 深度优先和广度优先遍历算法\n",
    "+ url去重常见策略\n",
    "\n",
    "## scrapy爬取网站\n",
    "\n",
    "+ scrap常见功能\n",
    "+ 网站结构和网站请求\n",
    "+ xpath和css\n",
    "+ scrapy：spider, item, item loader, pipeline, feed export, CrawlSpider\n",
    "    + 图片验证码，IP访问频率控制，user-agent随机更换\n",
    "    + scrapy原理，基于scrapy的中间件开发\n",
    "+ 动态网站的抓去处理\n",
    "+ selenium和phantomjs继承到scrapy\n",
    "+ scrapy log配置\n",
    "+ email发送\n",
    "+ scrapy进阶\n",
    "\n",
    "## scrapy-redis分布式爬虫\n",
    "## eleasticserach和django搭建搜索引擎"
   ]
  },
  {
   "cell_type": "markdown",
   "metadata": {},
   "source": [
    "# 开发环境搭建\n",
    "\n",
    "+ pycharm 专业版安装和配置\n",
    "    + linux，path/bin/pycharm.sh\n",
    "    + keymap, 快捷键设置\n",
    "    + interpreter, 虚拟环境的创建和添加\n",
    "\n",
    "```bash\n",
    "vim ~/.bashrc\n",
    "'添加别名\n",
    "alias pycharm=\"path\"\n",
    "\n",
    "source ~/.bashrc\n",
    "pycharm\n",
    "```\n",
    "\n",
    "+ mysql、navicat\n",
    "    + linux中安装、配置mysql\n",
    "\n",
    "```bash\n",
    "sudo apt-get install mysql-server\n",
    "ps aux | grep mysqld\n",
    "mysql -u root -p\n",
    "\n",
    "'外部链接mysql\n",
    "sudo vim /etc/mysql/mysql.conf.d/mysqld.cnf\n",
    "bind-address = 0.0.0.0\n",
    "'重启mysql\n",
    "sudo service mysql restart\n",
    "'查找ip\n",
    "ifconfig\n",
    "\n",
    "'mysql权限设置\n",
    "'*.*:表示所有表; %:外部ip\n",
    "GRANT ALL PRIVILEGES ON *.* TO 'root'@'%' IDENTIFIED BY 'root' WITH GRANT OPTION;\n",
    "flush privileges;\n",
    "\n",
    "'使用navicat进行连接\n",
    "'字符集：utf-8, utf-8-generci\n",
    "```\n"
   ]
  },
  {
   "cell_type": "markdown",
   "metadata": {},
   "source": [
    "+ 使用scrapy爬取伯乐在线\n"
   ]
  }
 ],
 "metadata": {
  "kernelspec": {
   "display_name": "Python 3",
   "language": "python",
   "name": "python3"
  },
  "language_info": {
   "codemirror_mode": {
    "name": "ipython",
    "version": 3
   },
   "file_extension": ".py",
   "mimetype": "text/x-python",
   "name": "python",
   "nbconvert_exporter": "python",
   "pygments_lexer": "ipython3",
   "version": "3.6.3"
  },
  "toc": {
   "base_numbering": 1,
   "nav_menu": {},
   "number_sections": true,
   "sideBar": true,
   "skip_h1_title": false,
   "title_cell": "Table of Contents",
   "title_sidebar": "Contents",
   "toc_cell": false,
   "toc_position": {},
   "toc_section_display": true,
   "toc_window_display": false
  }
 },
 "nbformat": 4,
 "nbformat_minor": 2
}
