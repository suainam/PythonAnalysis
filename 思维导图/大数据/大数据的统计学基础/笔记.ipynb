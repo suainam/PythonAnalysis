{
 "cells": [
  {
   "cell_type": "markdown",
   "metadata": {},
   "source": [
    "# 统计学基础"
   ]
  },
  {
   "cell_type": "markdown",
   "metadata": {},
   "source": [
    "# 概率论"
   ]
  },
  {
   "attachments": {},
   "cell_type": "markdown",
   "metadata": {},
   "source": [
    "# 条件概率和贝叶斯\n",
    "\n",
    "## 条件概率\n",
    "\n",
    "+ 回顾赌大小的赌博游戏\n",
    "+ 条件概率：已知某个事件A发生的条件下，另一事件B发生的概率，记为P(B|A),公式为：P(B|A)=P(AB)/P(A)\n",
    "    + 非负性，P(B|A)>=0\n",
    "    + 规范性，对于必然事件S，有P(S|A)=1\n",
    "    + 可列可加性，对于两两互不相容的事件B1, B2, B3...，存在 Bi\\*Bj=0，i!=j, i,j=1,2...,有P(P(B1并B2并。。。|A)) = P(B1|A)+P(B1|A)+...\n",
    "    + P(A并B|C) = P(A|C)+P(B|C)-P(AB|C)\n",
    "    + 汽车与山羊，换门得到汽车的概率为2/3\n",
    "    + P(AB)=P(B|A)P(A)\n",
    "    + P(ABC)=P(C|AB)P(B|A)P(A)\n",
    "+ 全概率公式\n",
    "    + P(A) = P(A|B1)P(B1)+P(A|B2)P(B2)+P(A|B3)P(B3)+...++P(A|Bn)P(Bn), B1、B2、B3互斥且并为1，是样本空间S的一个划分\n",
    "    \n",
    "## 贝叶斯\n",
    "+ $$P(B2|A)=P(AB2)/P(A)=P(A|B2)P(B2)/(P(A|B1)P(B1)+P(A|B2)P(B2))$$\n",
    "\n",
    "+ 先验概率，后验概率\n",
    "\n",
    "+ 应用：诉讼、疾病诊断、垃圾邮件判别等\n",
    "\n",
    "## 公式比较\n",
    "+ 乘法公式、全概率公式和贝叶斯公式\n",
    "    + 乘法公式是求“几个事件同时发生”的概率\n",
    "    + 全概率公式是求“最后结果”的概率\n",
    "    + 贝叶斯公式是已知“最后结果”，求“某个事件”的概率\n",
    "    \n",
    "+ 先验概率与后验概率\n",
    "    + P(Bj|A)是在事件A发生的条件下，某个事件Bj发生的概率，称为“后验概率”\n",
    "    + Bayes公式又称为“后验概率公式”或“逆概公式”\n",
    "    + P(Bj)为“先验概率”\n",
    "\n",
    "## 独立性\n",
    "+ 如果A、B两个事件满足：P(AB)=P(A)P(B)，则称事件A、B相互独立\n",
    "    + A、B独立，且P(A)>0 P(B|A)=P(B)\n",
    "    + A、B独立，则A与B的逆，A的逆与B，A的逆与B的逆也相互独立\n",
    "+ 对于n个事件，其中任意2个、任意3个等都等于各个事件概率乘积，则相互独立\n",
    "\n",
    "## 相互独立事件、互斥事件、对立事件\n",
    "+ 相互独立事件：\n",
    "+ 互斥事件：不会同时发生\n",
    "+ 对立事件：有且仅有一个事件发生\n",
    "+ 互斥事件与对立事件都不是相互独立事件"
   ]
  },
  {
   "cell_type": "markdown",
   "metadata": {},
   "source": [
    "论人类思考时的贝叶斯公式:\n",
    "[http://fmajor.lamost.org/blog/2014/03/01/Bayesian-thinking.html]"
   ]
  }
 ],
 "metadata": {
  "kernelspec": {
   "display_name": "Python 3",
   "language": "python",
   "name": "python3"
  },
  "language_info": {
   "codemirror_mode": {
    "name": "ipython",
    "version": 3
   },
   "file_extension": ".py",
   "mimetype": "text/x-python",
   "name": "python",
   "nbconvert_exporter": "python",
   "pygments_lexer": "ipython3",
   "version": "3.6.4"
  },
  "toc": {
   "nav_menu": {},
   "number_sections": true,
   "sideBar": true,
   "skip_h1_title": false,
   "title_cell": "Table of Contents",
   "title_sidebar": "Contents",
   "toc_cell": false,
   "toc_position": {},
   "toc_section_display": true,
   "toc_window_display": false
  }
 },
 "nbformat": 4,
 "nbformat_minor": 2
}
