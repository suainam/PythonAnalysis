{
 "cells": [
  {
   "cell_type": "markdown",
   "metadata": {},
   "source": [
    "Players generally sit in a circle. The player designated to go first says the number \"1\", and each player thenceforth counts one number in turn. However, any number divisible by three is replaced by the word fizz and any divisible by five by the word buzz. Numbers divisible by 15, which is both become fizz buzz. A player who hesitates or makes a mistake is eliminated from the game."
   ]
  },
  {
   "cell_type": "code",
   "execution_count": null,
   "metadata": {},
   "outputs": [],
   "source": [
    "!conda install -c conda-forge jupyter_contrib_nbextensions"
   ]
  },
  {
   "cell_type": "code",
   "execution_count": 4,
   "metadata": {},
   "outputs": [],
   "source": [
    "def fizz_buzz_encode(x):\n",
    "    if x % 15 == 0:\n",
    "        return 3\n",
    "    elif x % 5 == 0:\n",
    "        return 2\n",
    "    elif x % 3 == 0:\n",
    "        return 1\n",
    "    else:\n",
    "        return 0\n",
    "\n",
    "def fizz_buzz_decode(x):\n",
    "    return ([str(x), 'fizz', 'buzz', 'fizzbuzz'][fizz_buzz_encode(x)])"
   ]
  },
  {
   "cell_type": "code",
   "execution_count": 5,
   "metadata": {
    "scrolled": true
   },
   "outputs": [
    {
     "name": "stdout",
     "output_type": "stream",
     "text": [
      "1\n",
      "fizz\n",
      "buzz\n",
      "fizzbuzz\n"
     ]
    }
   ],
   "source": [
    "print(fizz_buzz_decode(1), fizz_buzz_decode(3), fizz_buzz_decode(5), fizz_buzz_decode(15), sep='\\n')"
   ]
  },
  {
   "cell_type": "code",
   "execution_count": 6,
   "metadata": {},
   "outputs": [],
   "source": [
    "import numpy as np\n",
    "import torch as tr"
   ]
  },
  {
   "cell_type": "code",
   "execution_count": 14,
   "metadata": {},
   "outputs": [
    {
     "name": "stdout",
     "output_type": "stream",
     "text": [
      "\u0005 5 0b101 0xf 0o17\n"
     ]
    }
   ],
   "source": [
    "print(chr(5), int('0101',2), bin(5), hex(15), oct(15))"
   ]
  },
  {
   "cell_type": "code",
   "execution_count": 10,
   "metadata": {},
   "outputs": [
    {
     "data": {
      "text/plain": [
       "2"
      ]
     },
     "execution_count": 10,
     "metadata": {},
     "output_type": "execute_result"
    }
   ],
   "source": [
    "5>>1"
   ]
  },
  {
   "cell_type": "code",
   "execution_count": 8,
   "metadata": {},
   "outputs": [
    {
     "data": {
      "text/plain": [
       "array([0, 1, 0, 1, 0, 0, 0, 0, 0, 0])"
      ]
     },
     "execution_count": 8,
     "metadata": {},
     "output_type": "execute_result"
    }
   ],
   "source": [
    "num = 10\n",
    "def binary_encode(i, num):\n",
    "    return np.array([i>>d & 1 for d in range(num)])\n",
    "\n",
    "binary_encode(10, num)"
   ]
  },
  {
   "cell_type": "code",
   "execution_count": 20,
   "metadata": {},
   "outputs": [],
   "source": [
    "trX = tr.Tensor([binary_encode(i, num) for i in range(101, 2 ** num)])\n",
    "trY = tr.LongTensor([fizz_buzz_encode(i) for i in range(101, 2 ** num)])"
   ]
  }
 ],
 "metadata": {
  "kernelspec": {
   "display_name": "Python 3",
   "language": "python",
   "name": "python3"
  },
  "language_info": {
   "codemirror_mode": {
    "name": "ipython",
    "version": 3
   },
   "file_extension": ".py",
   "mimetype": "text/x-python",
   "name": "python",
   "nbconvert_exporter": "python",
   "pygments_lexer": "ipython3",
   "version": "3.7.4"
  }
 },
 "nbformat": 4,
 "nbformat_minor": 4
}
