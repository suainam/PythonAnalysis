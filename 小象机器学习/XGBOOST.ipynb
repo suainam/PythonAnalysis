{
 "cells": [
  {
   "cell_type": "code",
   "execution_count": 1,
   "metadata": {},
   "outputs": [
    {
     "ename": "ModuleNotFoundError",
     "evalue": "No module named 'xgboost'",
     "output_type": "error",
     "traceback": [
      "\u001b[1;31m---------------------------------------------------------------------------\u001b[0m",
      "\u001b[1;31mModuleNotFoundError\u001b[0m                       Traceback (most recent call last)",
      "\u001b[1;32m<ipython-input-1-9fdaca7a6dfd>\u001b[0m in \u001b[0;36m<module>\u001b[1;34m\u001b[0m\n\u001b[0;32m      2\u001b[0m \u001b[1;31m# -*- coding:utf-8 -*-\u001b[0m\u001b[1;33m\u001b[0m\u001b[1;33m\u001b[0m\u001b[1;33m\u001b[0m\u001b[0m\n\u001b[0;32m      3\u001b[0m \u001b[1;33m\u001b[0m\u001b[0m\n\u001b[1;32m----> 4\u001b[1;33m \u001b[1;32mimport\u001b[0m \u001b[0mxgboost\u001b[0m \u001b[1;32mas\u001b[0m \u001b[0mxgb\u001b[0m\u001b[1;33m\u001b[0m\u001b[1;33m\u001b[0m\u001b[0m\n\u001b[0m\u001b[0;32m      5\u001b[0m \u001b[1;32mimport\u001b[0m \u001b[0mnumpy\u001b[0m \u001b[1;32mas\u001b[0m \u001b[0mnp\u001b[0m\u001b[1;33m\u001b[0m\u001b[1;33m\u001b[0m\u001b[0m\n\u001b[0;32m      6\u001b[0m \u001b[1;32mimport\u001b[0m \u001b[0mscipy\u001b[0m\u001b[1;33m.\u001b[0m\u001b[0msparse\u001b[0m\u001b[1;33m\u001b[0m\u001b[1;33m\u001b[0m\u001b[0m\n",
      "\u001b[1;31mModuleNotFoundError\u001b[0m: No module named 'xgboost'"
     ]
    }
   ],
   "source": [
    "# /usr/bin/python\n",
    "# -*- coding:utf-8 -*-\n",
    "\n",
    "import xgboost as xgb\n",
    "import numpy as np\n",
    "import scipy.sparse\n",
    "from sklearn.model_selection import train_test_split\n",
    "from sklearn.linear_model import LogisticRegression\n",
    "\n",
    "\n",
    "def read_data(path):\n",
    "    y = []\n",
    "    row = []\n",
    "    col = []\n",
    "    values = []\n",
    "    r = 0       # 首行\n",
    "    for d in open(path):\n",
    "        d = d.strip().split()      # 以空格分开\n",
    "        y.append(int(d[0]))\n",
    "        d = d[1:]\n",
    "        for c in d:\n",
    "            key, value = c.split(':')\n",
    "            row.append(r)\n",
    "            col.append(int(key))\n",
    "            values.append(float(value))\n",
    "        r += 1\n",
    "    x = scipy.sparse.csr_matrix((values, (row, col))).toarray()\n",
    "    y = np.array(y)\n",
    "    return x, y\n",
    "\n",
    "\n",
    "def show_accuracy(a, b, tip):\n",
    "    acc = a.ravel() == b.ravel()\n",
    "    print(acc)\n",
    "    print(tip + '正确率：\\t', float(acc.sum()) / a.size)\n",
    "\n",
    "\n",
    "if __name__ == '__main__':\n",
    "    x, y = read_data('12.agaricus_train.txt')\n",
    "    x_train, x_test, y_train, y_test = train_test_split(x, y, random_state=1, train_size=0.6)\n",
    "\n",
    "    # Logistic回归\n",
    "    lr = LogisticRegression(penalty='l2')\n",
    "    lr.fit(x_train, y_train.ravel())\n",
    "    y_hat = lr.predict(x_test)\n",
    "    show_accuracy(y_hat, y_test, 'Logistic回归 ')\n",
    "\n",
    "    # XGBoost\n",
    "    y_train[y_train == 3] = 0\n",
    "    y_test[y_test == 3] = 0\n",
    "    data_train = xgb.DMatrix(x_train, label=y_train)\n",
    "    data_test = xgb.DMatrix(x_test, label=y_test)\n",
    "    watch_list = [(data_test, 'eval'), (data_train, 'train')]\n",
    "    param = {'max_depth': 3, 'eta': 1, 'silent': 0, 'objective': 'multi:softmax', 'num_class': 3}\n",
    "    bst = xgb.train(param, data_train, num_boost_round=4, evals=watch_list)\n",
    "    y_hat = bst.predict(data_test)\n",
    "    show_accuracy(y_hat, y_test, 'XGBoost ')"
   ]
  }
 ],
 "metadata": {
  "kernelspec": {
   "display_name": "Python 3",
   "language": "python",
   "name": "python3"
  },
  "language_info": {
   "codemirror_mode": {
    "name": "ipython",
    "version": 3
   },
   "file_extension": ".py",
   "mimetype": "text/x-python",
   "name": "python",
   "nbconvert_exporter": "python",
   "pygments_lexer": "ipython3",
   "version": "3.7.4"
  }
 },
 "nbformat": 4,
 "nbformat_minor": 2
}
